{
 "cells": [
  {
   "cell_type": "code",
   "execution_count": 7,
   "metadata": {},
   "outputs": [],
   "source": [
    "import numpy as np\n",
    "import pandas as pd\n",
    "import matplotlib.pyplot as plt\n",
    "%matplotlib inline\n",
    "import os\n",
    "import h5py"
   ]
  },
  {
   "cell_type": "code",
   "execution_count": 2,
   "metadata": {
    "collapsed": true
   },
   "outputs": [],
   "source": [
    "dff_path = r'/Volumes/My Passport/Openscope Motion/ophys_session_923803144/ophys_experiment_924134723/924134723_dff.h5'"
   ]
  },
  {
   "cell_type": "code",
   "execution_count": 19,
   "metadata": {
    "collapsed": true
   },
   "outputs": [],
   "source": [
    "stim_table = pd.read_csv(r'/Volumes/Brain2018/Openscope_Motion/stim_tables/923803144_stim_table.csv')"
   ]
  },
  {
   "cell_type": "code",
   "execution_count": 8,
   "metadata": {},
   "outputs": [],
   "source": [
    "f = h5py.File(dff_path, 'r')\n",
    "dff = f['data'].value\n",
    "f.close()"
   ]
  },
  {
   "cell_type": "code",
   "execution_count": 15,
   "metadata": {},
   "outputs": [
    {
     "data": {
      "text/plain": [
       "(250, 108658)"
      ]
     },
     "execution_count": 15,
     "metadata": {},
     "output_type": "execute_result"
    }
   ],
   "source": [
    "dff.shape"
   ]
  },
  {
   "cell_type": "code",
   "execution_count": 20,
   "metadata": {
    "collapsed": true
   },
   "outputs": [],
   "source": [
    "numbercells = dff.shape[0]"
   ]
  },
  {
   "cell_type": "code",
   "execution_count": 24,
   "metadata": {
    "collapsed": true
   },
   "outputs": [],
   "source": [
    "def do_sweep_mean(x):\n",
    "    return x[30:90].mean()"
   ]
  },
  {
   "cell_type": "code",
   "execution_count": 32,
   "metadata": {},
   "outputs": [],
   "source": [
    "sweep_response = pd.DataFrame(index=stim_table.index.values, columns=np.array(range(numbercells)).astype(str))\n",
    "for index, row in stim_table.iterrows():\n",
    "    for nc in range(numbercells):\n",
    "        sweep_response[str(nc)][index] = dff[nc, int(row.Start)-30:int(row.End)+30]\n",
    "mean_sweep_response = sweep_response.applymap(do_sweep_mean)"
   ]
  },
  {
   "cell_type": "code",
   "execution_count": 76,
   "metadata": {},
   "outputs": [
    {
     "data": {
      "text/html": [
       "<div>\n",
       "<style scoped>\n",
       "    .dataframe tbody tr th:only-of-type {\n",
       "        vertical-align: middle;\n",
       "    }\n",
       "\n",
       "    .dataframe tbody tr th {\n",
       "        vertical-align: top;\n",
       "    }\n",
       "\n",
       "    .dataframe thead th {\n",
       "        text-align: right;\n",
       "    }\n",
       "</style>\n",
       "<table border=\"1\" class=\"dataframe\">\n",
       "  <thead>\n",
       "    <tr style=\"text-align: right;\">\n",
       "      <th></th>\n",
       "      <th>0</th>\n",
       "      <th>1</th>\n",
       "      <th>2</th>\n",
       "      <th>3</th>\n",
       "      <th>4</th>\n",
       "      <th>5</th>\n",
       "      <th>6</th>\n",
       "      <th>7</th>\n",
       "      <th>8</th>\n",
       "      <th>9</th>\n",
       "      <th>...</th>\n",
       "      <th>240</th>\n",
       "      <th>241</th>\n",
       "      <th>242</th>\n",
       "      <th>243</th>\n",
       "      <th>244</th>\n",
       "      <th>245</th>\n",
       "      <th>246</th>\n",
       "      <th>247</th>\n",
       "      <th>248</th>\n",
       "      <th>249</th>\n",
       "    </tr>\n",
       "  </thead>\n",
       "  <tbody>\n",
       "    <tr>\n",
       "      <th>0</th>\n",
       "      <td>-0.001080</td>\n",
       "      <td>NaN</td>\n",
       "      <td>0.001333</td>\n",
       "      <td>0.046371</td>\n",
       "      <td>0.007587</td>\n",
       "      <td>0.012771</td>\n",
       "      <td>0.152840</td>\n",
       "      <td>0.013400</td>\n",
       "      <td>NaN</td>\n",
       "      <td>NaN</td>\n",
       "      <td>...</td>\n",
       "      <td>0.631630</td>\n",
       "      <td>0.076437</td>\n",
       "      <td>0.454182</td>\n",
       "      <td>0.056117</td>\n",
       "      <td>0.005503</td>\n",
       "      <td>0.378163</td>\n",
       "      <td>0.031169</td>\n",
       "      <td>-0.014426</td>\n",
       "      <td>NaN</td>\n",
       "      <td>0.018677</td>\n",
       "    </tr>\n",
       "    <tr>\n",
       "      <th>1</th>\n",
       "      <td>-0.009042</td>\n",
       "      <td>NaN</td>\n",
       "      <td>0.003686</td>\n",
       "      <td>-0.025391</td>\n",
       "      <td>-0.005775</td>\n",
       "      <td>-0.008881</td>\n",
       "      <td>-0.005265</td>\n",
       "      <td>-0.015338</td>\n",
       "      <td>NaN</td>\n",
       "      <td>NaN</td>\n",
       "      <td>...</td>\n",
       "      <td>0.269472</td>\n",
       "      <td>1.395466</td>\n",
       "      <td>0.144430</td>\n",
       "      <td>-0.007472</td>\n",
       "      <td>0.001309</td>\n",
       "      <td>0.005926</td>\n",
       "      <td>-0.022213</td>\n",
       "      <td>-0.001707</td>\n",
       "      <td>NaN</td>\n",
       "      <td>0.108350</td>\n",
       "    </tr>\n",
       "    <tr>\n",
       "      <th>2</th>\n",
       "      <td>0.017927</td>\n",
       "      <td>NaN</td>\n",
       "      <td>0.005578</td>\n",
       "      <td>0.027042</td>\n",
       "      <td>0.015438</td>\n",
       "      <td>0.007237</td>\n",
       "      <td>0.008527</td>\n",
       "      <td>0.010400</td>\n",
       "      <td>NaN</td>\n",
       "      <td>NaN</td>\n",
       "      <td>...</td>\n",
       "      <td>0.001513</td>\n",
       "      <td>0.082741</td>\n",
       "      <td>0.007735</td>\n",
       "      <td>-0.006365</td>\n",
       "      <td>0.000632</td>\n",
       "      <td>0.041077</td>\n",
       "      <td>0.018210</td>\n",
       "      <td>0.012190</td>\n",
       "      <td>NaN</td>\n",
       "      <td>0.000331</td>\n",
       "    </tr>\n",
       "    <tr>\n",
       "      <th>3</th>\n",
       "      <td>-0.009693</td>\n",
       "      <td>NaN</td>\n",
       "      <td>0.005296</td>\n",
       "      <td>-0.028972</td>\n",
       "      <td>-0.008874</td>\n",
       "      <td>0.005924</td>\n",
       "      <td>-0.012467</td>\n",
       "      <td>0.011514</td>\n",
       "      <td>NaN</td>\n",
       "      <td>NaN</td>\n",
       "      <td>...</td>\n",
       "      <td>0.033169</td>\n",
       "      <td>0.050008</td>\n",
       "      <td>0.017819</td>\n",
       "      <td>0.009278</td>\n",
       "      <td>-0.000557</td>\n",
       "      <td>-0.039895</td>\n",
       "      <td>0.039488</td>\n",
       "      <td>-0.008010</td>\n",
       "      <td>NaN</td>\n",
       "      <td>0.027874</td>\n",
       "    </tr>\n",
       "    <tr>\n",
       "      <th>4</th>\n",
       "      <td>0.005583</td>\n",
       "      <td>NaN</td>\n",
       "      <td>-0.005685</td>\n",
       "      <td>-0.011839</td>\n",
       "      <td>0.005838</td>\n",
       "      <td>-0.006819</td>\n",
       "      <td>0.004320</td>\n",
       "      <td>-0.000249</td>\n",
       "      <td>NaN</td>\n",
       "      <td>NaN</td>\n",
       "      <td>...</td>\n",
       "      <td>0.031851</td>\n",
       "      <td>-0.001153</td>\n",
       "      <td>0.140529</td>\n",
       "      <td>-0.005512</td>\n",
       "      <td>-0.011394</td>\n",
       "      <td>0.026892</td>\n",
       "      <td>-0.015786</td>\n",
       "      <td>-0.011481</td>\n",
       "      <td>NaN</td>\n",
       "      <td>-0.008913</td>\n",
       "    </tr>\n",
       "  </tbody>\n",
       "</table>\n",
       "<p>5 rows × 250 columns</p>\n",
       "</div>"
      ],
      "text/plain": [
       "          0   1         2         3         4         5         6         7  \\\n",
       "0 -0.001080 NaN  0.001333  0.046371  0.007587  0.012771  0.152840  0.013400   \n",
       "1 -0.009042 NaN  0.003686 -0.025391 -0.005775 -0.008881 -0.005265 -0.015338   \n",
       "2  0.017927 NaN  0.005578  0.027042  0.015438  0.007237  0.008527  0.010400   \n",
       "3 -0.009693 NaN  0.005296 -0.028972 -0.008874  0.005924 -0.012467  0.011514   \n",
       "4  0.005583 NaN -0.005685 -0.011839  0.005838 -0.006819  0.004320 -0.000249   \n",
       "\n",
       "    8   9  ...       240       241       242       243       244       245  \\\n",
       "0 NaN NaN  ...  0.631630  0.076437  0.454182  0.056117  0.005503  0.378163   \n",
       "1 NaN NaN  ...  0.269472  1.395466  0.144430 -0.007472  0.001309  0.005926   \n",
       "2 NaN NaN  ...  0.001513  0.082741  0.007735 -0.006365  0.000632  0.041077   \n",
       "3 NaN NaN  ...  0.033169  0.050008  0.017819  0.009278 -0.000557 -0.039895   \n",
       "4 NaN NaN  ...  0.031851 -0.001153  0.140529 -0.005512 -0.011394  0.026892   \n",
       "\n",
       "        246       247  248       249  \n",
       "0  0.031169 -0.014426  NaN  0.018677  \n",
       "1 -0.022213 -0.001707  NaN  0.108350  \n",
       "2  0.018210  0.012190  NaN  0.000331  \n",
       "3  0.039488 -0.008010  NaN  0.027874  \n",
       "4 -0.015786 -0.011481  NaN -0.008913  \n",
       "\n",
       "[5 rows x 250 columns]"
      ]
     },
     "execution_count": 76,
     "metadata": {},
     "output_type": "execute_result"
    }
   ],
   "source": [
    "mean_sweep_response.head()"
   ]
  },
  {
   "cell_type": "code",
   "execution_count": 34,
   "metadata": {},
   "outputs": [
    {
     "data": {
      "text/plain": [
       "(array([  1,   8,   9,  12,  40,  41,  57,  62,  67,  89,  90,  92,  95,\n",
       "         96, 118, 123, 126, 130, 141, 149, 166, 183, 189, 190, 203, 209,\n",
       "        214, 226, 227, 228, 232, 248]),)"
      ]
     },
     "execution_count": 34,
     "metadata": {},
     "output_type": "execute_result"
    }
   ],
   "source": [
    "np.where(np.isnan(dff[:,0]))"
   ]
  },
  {
   "cell_type": "code",
   "execution_count": 56,
   "metadata": {},
   "outputs": [],
   "source": [
    "frames = np.arange(0,10800,60)"
   ]
  },
  {
   "cell_type": "code",
   "execution_count": 57,
   "metadata": {},
   "outputs": [
    {
     "data": {
      "text/plain": [
       "180"
      ]
     },
     "execution_count": 57,
     "metadata": {},
     "output_type": "execute_result"
    }
   ],
   "source": [
    "len(frames)"
   ]
  },
  {
   "cell_type": "code",
   "execution_count": 59,
   "metadata": {
    "collapsed": true
   },
   "outputs": [],
   "source": [
    "response = np.empty((180, numbercells, 2))\n",
    "for i,v in enumerate(frames):\n",
    "    response[i,:,0] = mean_sweep_response[stim_table.start_frame==v].mean().values\n",
    "    response[i,:,1] = mean_sweep_response[stim_table.start_frame==v].std().values/np.sqrt(len(mean_sweep_response[stim_table.start_frame==v]))"
   ]
  },
  {
   "cell_type": "code",
   "execution_count": 75,
   "metadata": {},
   "outputs": [
    {
     "data": {
      "text/plain": [
       "<ErrorbarContainer object of 3 artists>"
      ]
     },
     "execution_count": 75,
     "metadata": {},
     "output_type": "execute_result"
    },
    {
     "data": {
      "image/png": "[encoded data removed]",
      "text/plain": [
       "<Figure size 864x288 with 1 Axes>"
      ]
     },
     "metadata": {
      "needs_background": "light"
     },
     "output_type": "display_data"
    }
   ],
   "source": [
    "nc=11\n",
    "plt.figure(figsize=(12,4))\n",
    "plt.errorbar(range(180),response[:,nc,0], yerr=response[:,nc,1], fmt='o')"
   ]
  },
  {
   "cell_type": "code",
   "execution_count": 77,
   "metadata": {},
   "outputs": [
    {
     "name": "stderr",
     "output_type": "stream",
     "text": [
      "/Users/saskiad/anaconda2/envs/ecephys/lib/python3.6/site-packages/IPython/core/interactiveshell.py:3291: PerformanceWarning: \n",
      "your performance may suffer as PyTables will pickle object types that it cannot\n",
      "map directly to c-types [inferred_type->mixed,key->block0_values] [items->['0', '1', '2', '3', '4', '5', '6', '7', '8', '9', '10', '11', '12', '13', '14', '15', '16', '17', '18', '19', '20', '21', '22', '23', '24', '25', '26', '27', '28', '29', '30', '31', '32', '33', '34', '35', '36', '37', '38', '39', '40', '41', '42', '43', '44', '45', '46', '47', '48', '49', '50', '51', '52', '53', '54', '55', '56', '57', '58', '59', '60', '61', '62', '63', '64', '65', '66', '67', '68', '69', '70', '71', '72', '73', '74', '75', '76', '77', '78', '79', '80', '81', '82', '83', '84', '85', '86', '87', '88', '89', '90', '91', '92', '93', '94', '95', '96', '97', '98', '99', '100', '101', '102', '103', '104', '105', '106', '107', '108', '109', '110', '111', '112', '113', '114', '115', '116', '117', '118', '119', '120', '121', '122', '123', '124', '125', '126', '127', '128', '129', '130', '131', '132', '133', '134', '135', '136', '137', '138', '139', '140', '141', '142', '143', '144', '145', '146', '147', '148', '149', '150', '151', '152', '153', '154', '155', '156', '157', '158', '159', '160', '161', '162', '163', '164', '165', '166', '167', '168', '169', '170', '171', '172', '173', '174', '175', '176', '177', '178', '179', '180', '181', '182', '183', '184', '185', '186', '187', '188', '189', '190', '191', '192', '193', '194', '195', '196', '197', '198', '199', '200', '201', '202', '203', '204', '205', '206', '207', '208', '209', '210', '211', '212', '213', '214', '215', '216', '217', '218', '219', '220', '221', '222', '223', '224', '225', '226', '227', '228', '229', '230', '231', '232', '233', '234', '235', '236', '237', '238', '239', '240', '241', '242', '243', '244', '245', '246', '247', '248', '249']]\n",
      "\n",
      "  exec(code_obj, self.user_global_ns, self.user_ns)\n"
     ]
    }
   ],
   "source": [
    "save_file = r'/Volumes/Brain2018/Openscope_Motion/motion_analysis/923803144_analysis.h5'\n",
    "store = pd.HDFStore(save_file)\n",
    "store['sweep_response'] = sweep_response\n",
    "store['mean_sweep_response'] = mean_sweep_response\n",
    "store['stim_table'] = stim_table\n",
    "store.close()\n",
    "f = h5py.File(save_file, 'r+')\n",
    "dset = f.create_dataset('response', data=response)\n",
    "f.close()"
   ]
  },
  {
   "cell_type": "code",
   "execution_count": null,
   "metadata": {
    "collapsed": true
   },
   "outputs": [],
   "source": []
  }
 ],
 "metadata": {
  "kernelspec": {
   "display_name": "Python [conda env:ecephys]",
   "language": "python",
   "name": "conda-env-ecephys-py"
  },
  "language_info": {
   "codemirror_mode": {
    "name": "ipython",
    "version": 3
   },
   "file_extension": ".py",
   "mimetype": "text/x-python",
   "name": "python",
   "nbconvert_exporter": "python",
   "pygments_lexer": "ipython3",
   "version": "3.6.8"
  }
 },
 "nbformat": 4,
 "nbformat_minor": 2
}
