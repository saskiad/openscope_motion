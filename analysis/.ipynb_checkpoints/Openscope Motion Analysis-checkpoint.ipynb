{
 "cells": [
  {
   "cell_type": "code",
   "execution_count": 1,
   "metadata": {},
   "outputs": [],
   "source": [
    "import numpy as np\n",
    "import pandas as pd\n",
    "import matplotlib.pyplot as plt\n",
    "%matplotlib inline\n",
    "import os\n",
    "import h5py"
   ]
  },
  {
   "cell_type": "code",
   "execution_count": 3,
   "metadata": {},
   "outputs": [],
   "source": [
    "dff_path = r'/Volumes/My Passport/Openscope Motion/ophys_session_923803144/ophys_experiment_924134723/924134723_dff.h5'"
   ]
  },
  {
   "cell_type": "code",
   "execution_count": 24,
   "metadata": {},
   "outputs": [],
   "source": [
    "# stim_table = pd.read_csv(r'/Volumes/Brain2018/Openscope_Motion/stim_tables/923803144_stim_table.csv')\n",
    "stim_table = pd.read_csv(r'/Users/saskiad/Dropbox/Openscope Motion/stim_tables/923803144_stim_table.csv')"
   ]
  },
  {
   "cell_type": "code",
   "execution_count": 25,
   "metadata": {},
   "outputs": [
    {
     "data": {
      "text/html": [
       "<div>\n",
       "<style scoped>\n",
       "    .dataframe tbody tr th:only-of-type {\n",
       "        vertical-align: middle;\n",
       "    }\n",
       "\n",
       "    .dataframe tbody tr th {\n",
       "        vertical-align: top;\n",
       "    }\n",
       "\n",
       "    .dataframe thead th {\n",
       "        text-align: right;\n",
       "    }\n",
       "</style>\n",
       "<table border=\"1\" class=\"dataframe\">\n",
       "  <thead>\n",
       "    <tr style=\"text-align: right;\">\n",
       "      <th></th>\n",
       "      <th>Unnamed: 0</th>\n",
       "      <th>start</th>\n",
       "      <th>end</th>\n",
       "      <th>start_frame</th>\n",
       "      <th>Unnamed: 0.1</th>\n",
       "      <th>approachSpeed</th>\n",
       "      <th>centerLocation</th>\n",
       "      <th>direction</th>\n",
       "      <th>dotNum</th>\n",
       "      <th>dotSize</th>\n",
       "      <th>dotSpeed</th>\n",
       "      <th>motion</th>\n",
       "      <th>duration</th>\n",
       "    </tr>\n",
       "  </thead>\n",
       "  <tbody>\n",
       "    <tr>\n",
       "      <th>0</th>\n",
       "      <td>0</td>\n",
       "      <td>143.0</td>\n",
       "      <td>173.0</td>\n",
       "      <td>3900</td>\n",
       "      <td>65</td>\n",
       "      <td>0.096</td>\n",
       "      <td>-50-10</td>\n",
       "      <td>backward</td>\n",
       "      <td>11882</td>\n",
       "      <td>1</td>\n",
       "      <td>19</td>\n",
       "      <td>translation</td>\n",
       "      <td>30.0</td>\n",
       "    </tr>\n",
       "    <tr>\n",
       "      <th>1</th>\n",
       "      <td>1</td>\n",
       "      <td>16215.0</td>\n",
       "      <td>16245.0</td>\n",
       "      <td>3900</td>\n",
       "      <td>65</td>\n",
       "      <td>0.096</td>\n",
       "      <td>-50-10</td>\n",
       "      <td>backward</td>\n",
       "      <td>11882</td>\n",
       "      <td>1</td>\n",
       "      <td>19</td>\n",
       "      <td>translation</td>\n",
       "      <td>30.0</td>\n",
       "    </tr>\n",
       "    <tr>\n",
       "      <th>2</th>\n",
       "      <td>2</td>\n",
       "      <td>29157.0</td>\n",
       "      <td>29187.0</td>\n",
       "      <td>3900</td>\n",
       "      <td>65</td>\n",
       "      <td>0.096</td>\n",
       "      <td>-50-10</td>\n",
       "      <td>backward</td>\n",
       "      <td>11882</td>\n",
       "      <td>1</td>\n",
       "      <td>19</td>\n",
       "      <td>translation</td>\n",
       "      <td>30.0</td>\n",
       "    </tr>\n",
       "    <tr>\n",
       "      <th>3</th>\n",
       "      <td>3</td>\n",
       "      <td>34996.0</td>\n",
       "      <td>35026.0</td>\n",
       "      <td>3900</td>\n",
       "      <td>65</td>\n",
       "      <td>0.096</td>\n",
       "      <td>-50-10</td>\n",
       "      <td>backward</td>\n",
       "      <td>11882</td>\n",
       "      <td>1</td>\n",
       "      <td>19</td>\n",
       "      <td>translation</td>\n",
       "      <td>30.0</td>\n",
       "    </tr>\n",
       "    <tr>\n",
       "      <th>4</th>\n",
       "      <td>4</td>\n",
       "      <td>54137.0</td>\n",
       "      <td>54167.0</td>\n",
       "      <td>3900</td>\n",
       "      <td>65</td>\n",
       "      <td>0.096</td>\n",
       "      <td>-50-10</td>\n",
       "      <td>backward</td>\n",
       "      <td>11882</td>\n",
       "      <td>1</td>\n",
       "      <td>19</td>\n",
       "      <td>translation</td>\n",
       "      <td>30.0</td>\n",
       "    </tr>\n",
       "  </tbody>\n",
       "</table>\n",
       "</div>"
      ],
      "text/plain": [
       "   Unnamed: 0    start      end  start_frame  Unnamed: 0.1  approachSpeed  \\\n",
       "0           0    143.0    173.0         3900            65          0.096   \n",
       "1           1  16215.0  16245.0         3900            65          0.096   \n",
       "2           2  29157.0  29187.0         3900            65          0.096   \n",
       "3           3  34996.0  35026.0         3900            65          0.096   \n",
       "4           4  54137.0  54167.0         3900            65          0.096   \n",
       "\n",
       "  centerLocation direction  dotNum  dotSize  dotSpeed       motion  duration  \n",
       "0         -50-10  backward   11882        1        19  translation      30.0  \n",
       "1         -50-10  backward   11882        1        19  translation      30.0  \n",
       "2         -50-10  backward   11882        1        19  translation      30.0  \n",
       "3         -50-10  backward   11882        1        19  translation      30.0  \n",
       "4         -50-10  backward   11882        1        19  translation      30.0  "
      ]
     },
     "execution_count": 25,
     "metadata": {},
     "output_type": "execute_result"
    }
   ],
   "source": [
    "stim_table.head()"
   ]
  },
  {
   "cell_type": "code",
   "execution_count": 26,
   "metadata": {},
   "outputs": [],
   "source": [
    "stim_table.rename(columns={'Unnamed: 0.1':'condition'}, inplace=True)"
   ]
  },
  {
   "cell_type": "code",
   "execution_count": 5,
   "metadata": {},
   "outputs": [
    {
     "name": "stderr",
     "output_type": "stream",
     "text": [
      "/Users/saskiad/anaconda3/lib/python3.7/site-packages/h5py/_hl/dataset.py:313: H5pyDeprecationWarning: dataset.value has been deprecated. Use dataset[()] instead.\n",
      "  \"Use dataset[()] instead.\", H5pyDeprecationWarning)\n"
     ]
    }
   ],
   "source": [
    "f = h5py.File(dff_path, 'r')\n",
    "dff = f['data'].value\n",
    "f.close()"
   ]
  },
  {
   "cell_type": "code",
   "execution_count": 6,
   "metadata": {},
   "outputs": [
    {
     "data": {
      "text/plain": [
       "(250, 108658)"
      ]
     },
     "execution_count": 6,
     "metadata": {},
     "output_type": "execute_result"
    }
   ],
   "source": [
    "dff.shape"
   ]
  },
  {
   "cell_type": "code",
   "execution_count": 7,
   "metadata": {},
   "outputs": [],
   "source": [
    "numbercells = dff.shape[0]"
   ]
  },
  {
   "cell_type": "code",
   "execution_count": 8,
   "metadata": {},
   "outputs": [],
   "source": [
    "def do_sweep_mean(x):\n",
    "    return x[30:60].mean()"
   ]
  },
  {
   "cell_type": "code",
   "execution_count": 11,
   "metadata": {},
   "outputs": [],
   "source": [
    "sweep_response = pd.DataFrame(index=stim_table.index.values, columns=np.array(range(numbercells)).astype(str))\n",
    "for index, row in stim_table.iterrows():\n",
    "    for nc in range(numbercells):\n",
    "        sweep_response[str(nc)][index] = dff[nc, int(row.start)-30:int(row.end)+30]\n",
    "mean_sweep_response = sweep_response.applymap(do_sweep_mean)"
   ]
  },
  {
   "cell_type": "code",
   "execution_count": 12,
   "metadata": {},
   "outputs": [
    {
     "data": {
      "text/html": [
       "<div>\n",
       "<style scoped>\n",
       "    .dataframe tbody tr th:only-of-type {\n",
       "        vertical-align: middle;\n",
       "    }\n",
       "\n",
       "    .dataframe tbody tr th {\n",
       "        vertical-align: top;\n",
       "    }\n",
       "\n",
       "    .dataframe thead th {\n",
       "        text-align: right;\n",
       "    }\n",
       "</style>\n",
       "<table border=\"1\" class=\"dataframe\">\n",
       "  <thead>\n",
       "    <tr style=\"text-align: right;\">\n",
       "      <th></th>\n",
       "      <th>0</th>\n",
       "      <th>1</th>\n",
       "      <th>2</th>\n",
       "      <th>3</th>\n",
       "      <th>4</th>\n",
       "      <th>5</th>\n",
       "      <th>6</th>\n",
       "      <th>7</th>\n",
       "      <th>8</th>\n",
       "      <th>9</th>\n",
       "      <th>...</th>\n",
       "      <th>240</th>\n",
       "      <th>241</th>\n",
       "      <th>242</th>\n",
       "      <th>243</th>\n",
       "      <th>244</th>\n",
       "      <th>245</th>\n",
       "      <th>246</th>\n",
       "      <th>247</th>\n",
       "      <th>248</th>\n",
       "      <th>249</th>\n",
       "    </tr>\n",
       "  </thead>\n",
       "  <tbody>\n",
       "    <tr>\n",
       "      <th>0</th>\n",
       "      <td>0.011312</td>\n",
       "      <td>NaN</td>\n",
       "      <td>0.008942</td>\n",
       "      <td>0.064592</td>\n",
       "      <td>-0.000735</td>\n",
       "      <td>0.030308</td>\n",
       "      <td>0.221561</td>\n",
       "      <td>0.024123</td>\n",
       "      <td>NaN</td>\n",
       "      <td>NaN</td>\n",
       "      <td>...</td>\n",
       "      <td>0.641319</td>\n",
       "      <td>0.162810</td>\n",
       "      <td>0.401211</td>\n",
       "      <td>0.107713</td>\n",
       "      <td>0.004701</td>\n",
       "      <td>0.573682</td>\n",
       "      <td>0.042897</td>\n",
       "      <td>-0.004666</td>\n",
       "      <td>NaN</td>\n",
       "      <td>0.017387</td>\n",
       "    </tr>\n",
       "    <tr>\n",
       "      <th>1</th>\n",
       "      <td>0.008461</td>\n",
       "      <td>NaN</td>\n",
       "      <td>-0.006547</td>\n",
       "      <td>0.013657</td>\n",
       "      <td>0.000652</td>\n",
       "      <td>-0.000263</td>\n",
       "      <td>0.011811</td>\n",
       "      <td>-0.002915</td>\n",
       "      <td>NaN</td>\n",
       "      <td>NaN</td>\n",
       "      <td>...</td>\n",
       "      <td>0.013759</td>\n",
       "      <td>-0.018374</td>\n",
       "      <td>-0.001831</td>\n",
       "      <td>-0.007753</td>\n",
       "      <td>-0.019358</td>\n",
       "      <td>-0.022272</td>\n",
       "      <td>-0.001479</td>\n",
       "      <td>0.003061</td>\n",
       "      <td>NaN</td>\n",
       "      <td>-0.001129</td>\n",
       "    </tr>\n",
       "    <tr>\n",
       "      <th>2</th>\n",
       "      <td>-0.016479</td>\n",
       "      <td>NaN</td>\n",
       "      <td>-0.016928</td>\n",
       "      <td>-0.026703</td>\n",
       "      <td>-0.016075</td>\n",
       "      <td>-0.012795</td>\n",
       "      <td>-0.010518</td>\n",
       "      <td>-0.018934</td>\n",
       "      <td>NaN</td>\n",
       "      <td>NaN</td>\n",
       "      <td>...</td>\n",
       "      <td>0.002906</td>\n",
       "      <td>-0.006746</td>\n",
       "      <td>-0.015948</td>\n",
       "      <td>-0.012724</td>\n",
       "      <td>-0.007205</td>\n",
       "      <td>0.010173</td>\n",
       "      <td>-0.015551</td>\n",
       "      <td>-0.040067</td>\n",
       "      <td>NaN</td>\n",
       "      <td>-0.011814</td>\n",
       "    </tr>\n",
       "    <tr>\n",
       "      <th>3</th>\n",
       "      <td>0.008060</td>\n",
       "      <td>NaN</td>\n",
       "      <td>0.009988</td>\n",
       "      <td>0.022572</td>\n",
       "      <td>0.037807</td>\n",
       "      <td>0.002701</td>\n",
       "      <td>-0.000130</td>\n",
       "      <td>0.012112</td>\n",
       "      <td>NaN</td>\n",
       "      <td>NaN</td>\n",
       "      <td>...</td>\n",
       "      <td>0.200271</td>\n",
       "      <td>0.040515</td>\n",
       "      <td>0.040444</td>\n",
       "      <td>0.033456</td>\n",
       "      <td>0.004185</td>\n",
       "      <td>-0.018005</td>\n",
       "      <td>-0.011175</td>\n",
       "      <td>0.039879</td>\n",
       "      <td>NaN</td>\n",
       "      <td>0.014841</td>\n",
       "    </tr>\n",
       "    <tr>\n",
       "      <th>4</th>\n",
       "      <td>-0.003289</td>\n",
       "      <td>NaN</td>\n",
       "      <td>0.006232</td>\n",
       "      <td>0.004422</td>\n",
       "      <td>0.018988</td>\n",
       "      <td>-0.014497</td>\n",
       "      <td>0.006948</td>\n",
       "      <td>0.003285</td>\n",
       "      <td>NaN</td>\n",
       "      <td>NaN</td>\n",
       "      <td>...</td>\n",
       "      <td>0.087474</td>\n",
       "      <td>-0.004253</td>\n",
       "      <td>0.016040</td>\n",
       "      <td>0.010295</td>\n",
       "      <td>0.007069</td>\n",
       "      <td>0.017180</td>\n",
       "      <td>0.001606</td>\n",
       "      <td>0.009123</td>\n",
       "      <td>NaN</td>\n",
       "      <td>0.012248</td>\n",
       "    </tr>\n",
       "  </tbody>\n",
       "</table>\n",
       "<p>5 rows × 250 columns</p>\n",
       "</div>"
      ],
      "text/plain": [
       "          0   1         2         3         4         5         6         7  \\\n",
       "0  0.011312 NaN  0.008942  0.064592 -0.000735  0.030308  0.221561  0.024123   \n",
       "1  0.008461 NaN -0.006547  0.013657  0.000652 -0.000263  0.011811 -0.002915   \n",
       "2 -0.016479 NaN -0.016928 -0.026703 -0.016075 -0.012795 -0.010518 -0.018934   \n",
       "3  0.008060 NaN  0.009988  0.022572  0.037807  0.002701 -0.000130  0.012112   \n",
       "4 -0.003289 NaN  0.006232  0.004422  0.018988 -0.014497  0.006948  0.003285   \n",
       "\n",
       "    8   9  ...       240       241       242       243       244       245  \\\n",
       "0 NaN NaN  ...  0.641319  0.162810  0.401211  0.107713  0.004701  0.573682   \n",
       "1 NaN NaN  ...  0.013759 -0.018374 -0.001831 -0.007753 -0.019358 -0.022272   \n",
       "2 NaN NaN  ...  0.002906 -0.006746 -0.015948 -0.012724 -0.007205  0.010173   \n",
       "3 NaN NaN  ...  0.200271  0.040515  0.040444  0.033456  0.004185 -0.018005   \n",
       "4 NaN NaN  ...  0.087474 -0.004253  0.016040  0.010295  0.007069  0.017180   \n",
       "\n",
       "        246       247  248       249  \n",
       "0  0.042897 -0.004666  NaN  0.017387  \n",
       "1 -0.001479  0.003061  NaN -0.001129  \n",
       "2 -0.015551 -0.040067  NaN -0.011814  \n",
       "3 -0.011175  0.039879  NaN  0.014841  \n",
       "4  0.001606  0.009123  NaN  0.012248  \n",
       "\n",
       "[5 rows x 250 columns]"
      ]
     },
     "execution_count": 12,
     "metadata": {},
     "output_type": "execute_result"
    }
   ],
   "source": [
    "mean_sweep_response.head()"
   ]
  },
  {
   "cell_type": "code",
   "execution_count": 13,
   "metadata": {},
   "outputs": [
    {
     "data": {
      "text/plain": [
       "(array([  1,   8,   9,  12,  40,  41,  57,  62,  67,  89,  90,  92,  95,\n",
       "         96, 118, 123, 126, 130, 141, 149, 166, 183, 189, 190, 203, 209,\n",
       "        214, 226, 227, 228, 232, 248]),)"
      ]
     },
     "execution_count": 13,
     "metadata": {},
     "output_type": "execute_result"
    }
   ],
   "source": [
    "np.where(np.isnan(dff[:,0]))"
   ]
  },
  {
   "cell_type": "code",
   "execution_count": 392,
   "metadata": {},
   "outputs": [],
   "source": [
    "frames = np.arange(0,10800,60)"
   ]
  },
  {
   "cell_type": "code",
   "execution_count": 15,
   "metadata": {},
   "outputs": [
    {
     "data": {
      "text/plain": [
       "180"
      ]
     },
     "execution_count": 15,
     "metadata": {},
     "output_type": "execute_result"
    }
   ],
   "source": [
    "len(frames)"
   ]
  },
  {
   "cell_type": "code",
   "execution_count": 402,
   "metadata": {},
   "outputs": [
    {
     "data": {
      "text/plain": [
       "array([ 300,  545, 1000])"
      ]
     },
     "execution_count": 402,
     "metadata": {},
     "output_type": "execute_result"
    }
   ],
   "source": [
    "stim_table[stim_table.direction=='right'].dotNum.unique()"
   ]
  },
  {
   "cell_type": "code",
   "execution_count": 403,
   "metadata": {},
   "outputs": [
    {
     "data": {
      "text/plain": [
       "array([135, 157, 107, 100,  79, 179, 133, 114,  92,  99,  96, 119, 178,\n",
       "       174, 130, 148, 106, 123, 169, 140, 160,  86,  74, 127, 149, 156,\n",
       "        88, 158, 155, 150, 172,  75,  78, 152, 118, 132,  72, 117, 170,\n",
       "       144,  73, 131, 112, 126, 143, 120,  89, 128, 166, 134, 139, 103,\n",
       "       147,  87])"
      ]
     },
     "execution_count": 403,
     "metadata": {},
     "output_type": "execute_result"
    }
   ],
   "source": [
    "stim_table[stim_table.direction=='right'].condition.unique()"
   ]
  },
  {
   "cell_type": "markdown",
   "metadata": {},
   "source": [
    "Size: translation: 1, 2, rotation: 5, 8, 12 (different units, I think 1=5, 2=10)\n",
    "\n",
    "Speed: translation: 10, 19, 49, 99, 199, 398, rotation: 10,20,50,100,200,400\n",
    "\n",
    "DotNum: translation 485, 1184, 2258, 2888, 5180, 11882\n",
    "    rotation: 300, 545, 1000"
   ]
  },
  {
   "cell_type": "code",
   "execution_count": 16,
   "metadata": {},
   "outputs": [],
   "source": [
    "response = np.empty((180, numbercells, 2))\n",
    "for i,v in enumerate(frames):\n",
    "    response[i,:,0] = mean_sweep_response[stim_table.start_frame==v].mean().values\n",
    "    response[i,:,1] = mean_sweep_response[stim_table.start_frame==v].std().values/np.sqrt(len(mean_sweep_response[stim_table.start_frame==v]))"
   ]
  },
  {
   "cell_type": "code",
   "execution_count": 17,
   "metadata": {},
   "outputs": [
    {
     "data": {
      "text/plain": [
       "<ErrorbarContainer object of 3 artists>"
      ]
     },
     "execution_count": 17,
     "metadata": {},
     "output_type": "execute_result"
    },
    {
     "data": {
      "image/png": "[encoded data removed]",
      "text/plain": [
       "<Figure size 864x288 with 1 Axes>"
      ]
     },
     "metadata": {
      "needs_background": "light"
     },
     "output_type": "display_data"
    }
   ],
   "source": [
    "nc=11\n",
    "plt.figure(figsize=(12,4))\n",
    "plt.errorbar(range(180),response[:,nc,0], yerr=response[:,nc,1], fmt='o')"
   ]
  },
  {
   "cell_type": "code",
   "execution_count": 77,
   "metadata": {},
   "outputs": [
    {
     "name": "stderr",
     "output_type": "stream",
     "text": [
      "/Users/saskiad/anaconda2/envs/ecephys/lib/python3.6/site-packages/IPython/core/interactiveshell.py:3291: PerformanceWarning: \n",
      "your performance may suffer as PyTables will pickle object types that it cannot\n",
      "map directly to c-types [inferred_type->mixed,key->block0_values] [items->['0', '1', '2', '3', '4', '5', '6', '7', '8', '9', '10', '11', '12', '13', '14', '15', '16', '17', '18', '19', '20', '21', '22', '23', '24', '25', '26', '27', '28', '29', '30', '31', '32', '33', '34', '35', '36', '37', '38', '39', '40', '41', '42', '43', '44', '45', '46', '47', '48', '49', '50', '51', '52', '53', '54', '55', '56', '57', '58', '59', '60', '61', '62', '63', '64', '65', '66', '67', '68', '69', '70', '71', '72', '73', '74', '75', '76', '77', '78', '79', '80', '81', '82', '83', '84', '85', '86', '87', '88', '89', '90', '91', '92', '93', '94', '95', '96', '97', '98', '99', '100', '101', '102', '103', '104', '105', '106', '107', '108', '109', '110', '111', '112', '113', '114', '115', '116', '117', '118', '119', '120', '121', '122', '123', '124', '125', '126', '127', '128', '129', '130', '131', '132', '133', '134', '135', '136', '137', '138', '139', '140', '141', '142', '143', '144', '145', '146', '147', '148', '149', '150', '151', '152', '153', '154', '155', '156', '157', '158', '159', '160', '161', '162', '163', '164', '165', '166', '167', '168', '169', '170', '171', '172', '173', '174', '175', '176', '177', '178', '179', '180', '181', '182', '183', '184', '185', '186', '187', '188', '189', '190', '191', '192', '193', '194', '195', '196', '197', '198', '199', '200', '201', '202', '203', '204', '205', '206', '207', '208', '209', '210', '211', '212', '213', '214', '215', '216', '217', '218', '219', '220', '221', '222', '223', '224', '225', '226', '227', '228', '229', '230', '231', '232', '233', '234', '235', '236', '237', '238', '239', '240', '241', '242', '243', '244', '245', '246', '247', '248', '249']]\n",
      "\n",
      "  exec(code_obj, self.user_global_ns, self.user_ns)\n"
     ]
    }
   ],
   "source": [
    "save_file = r'/Volumes/Brain2018/Openscope_Motion/motion_analysis/923803144_analysis.h5'\n",
    "store = pd.HDFStore(save_file)\n",
    "store['sweep_response'] = sweep_response\n",
    "store['mean_sweep_response'] = mean_sweep_response\n",
    "store['stim_table'] = stim_table\n",
    "store.close()\n",
    "f = h5py.File(save_file, 'r+')\n",
    "dset = f.create_dataset('response', data=response)\n",
    "f.close()"
   ]
  },
  {
   "cell_type": "code",
   "execution_count": 31,
   "metadata": {},
   "outputs": [],
   "source": [
    "#compare with previous\n",
    "filename = r'/Users/saskiad/Dropbox/Openscope Motion/analysis_files/923803144_analysis.h5'\n",
    "f = h5py.File(filename)\n",
    "old_response = f['response'][()]\n",
    "f.close()\n",
    "stim_table = pd.read_hdf(filename, 'stim_table')\n",
    "mean_sweep_response = pd.read_hdf(filename, 'mean_sweep_response')"
   ]
  },
  {
   "cell_type": "code",
   "execution_count": 23,
   "metadata": {},
   "outputs": [
    {
     "data": {
      "text/plain": [
       "<ErrorbarContainer object of 3 artists>"
      ]
     },
     "execution_count": 23,
     "metadata": {},
     "output_type": "execute_result"
    },
    {
     "data": {
      "image/png": "[encoded data removed]",
      "text/plain": [
       "<Figure size 864x288 with 1 Axes>"
      ]
     },
     "metadata": {
      "needs_background": "light"
     },
     "output_type": "display_data"
    }
   ],
   "source": [
    "nc=16\n",
    "plt.figure(figsize=(12,4))\n",
    "plt.errorbar(range(180),response[:,nc,0], yerr=response[:,nc,1], fmt='o')\n",
    "plt.errorbar(range(180),old_response[:,nc,0], yerr=old_response[:,nc,1], fmt='o')"
   ]
  },
  {
   "cell_type": "code",
   "execution_count": 32,
   "metadata": {},
   "outputs": [],
   "source": [
    "import seaborn as sns"
   ]
  },
  {
   "cell_type": "code",
   "execution_count": 27,
   "metadata": {},
   "outputs": [
    {
     "data": {
      "text/html": [
       "<div>\n",
       "<style scoped>\n",
       "    .dataframe tbody tr th:only-of-type {\n",
       "        vertical-align: middle;\n",
       "    }\n",
       "\n",
       "    .dataframe tbody tr th {\n",
       "        vertical-align: top;\n",
       "    }\n",
       "\n",
       "    .dataframe thead th {\n",
       "        text-align: right;\n",
       "    }\n",
       "</style>\n",
       "<table border=\"1\" class=\"dataframe\">\n",
       "  <thead>\n",
       "    <tr style=\"text-align: right;\">\n",
       "      <th></th>\n",
       "      <th>Unnamed: 0</th>\n",
       "      <th>start</th>\n",
       "      <th>end</th>\n",
       "      <th>start_frame</th>\n",
       "      <th>condition</th>\n",
       "      <th>approachSpeed</th>\n",
       "      <th>centerLocation</th>\n",
       "      <th>direction</th>\n",
       "      <th>dotNum</th>\n",
       "      <th>dotSize</th>\n",
       "      <th>dotSpeed</th>\n",
       "      <th>motion</th>\n",
       "      <th>duration</th>\n",
       "    </tr>\n",
       "  </thead>\n",
       "  <tbody>\n",
       "    <tr>\n",
       "      <th>0</th>\n",
       "      <td>0</td>\n",
       "      <td>143.0</td>\n",
       "      <td>173.0</td>\n",
       "      <td>3900</td>\n",
       "      <td>65</td>\n",
       "      <td>0.096</td>\n",
       "      <td>-50-10</td>\n",
       "      <td>backward</td>\n",
       "      <td>11882</td>\n",
       "      <td>1</td>\n",
       "      <td>19</td>\n",
       "      <td>translation</td>\n",
       "      <td>30.0</td>\n",
       "    </tr>\n",
       "    <tr>\n",
       "      <th>1</th>\n",
       "      <td>1</td>\n",
       "      <td>16215.0</td>\n",
       "      <td>16245.0</td>\n",
       "      <td>3900</td>\n",
       "      <td>65</td>\n",
       "      <td>0.096</td>\n",
       "      <td>-50-10</td>\n",
       "      <td>backward</td>\n",
       "      <td>11882</td>\n",
       "      <td>1</td>\n",
       "      <td>19</td>\n",
       "      <td>translation</td>\n",
       "      <td>30.0</td>\n",
       "    </tr>\n",
       "    <tr>\n",
       "      <th>2</th>\n",
       "      <td>2</td>\n",
       "      <td>29157.0</td>\n",
       "      <td>29187.0</td>\n",
       "      <td>3900</td>\n",
       "      <td>65</td>\n",
       "      <td>0.096</td>\n",
       "      <td>-50-10</td>\n",
       "      <td>backward</td>\n",
       "      <td>11882</td>\n",
       "      <td>1</td>\n",
       "      <td>19</td>\n",
       "      <td>translation</td>\n",
       "      <td>30.0</td>\n",
       "    </tr>\n",
       "    <tr>\n",
       "      <th>3</th>\n",
       "      <td>3</td>\n",
       "      <td>34996.0</td>\n",
       "      <td>35026.0</td>\n",
       "      <td>3900</td>\n",
       "      <td>65</td>\n",
       "      <td>0.096</td>\n",
       "      <td>-50-10</td>\n",
       "      <td>backward</td>\n",
       "      <td>11882</td>\n",
       "      <td>1</td>\n",
       "      <td>19</td>\n",
       "      <td>translation</td>\n",
       "      <td>30.0</td>\n",
       "    </tr>\n",
       "    <tr>\n",
       "      <th>4</th>\n",
       "      <td>4</td>\n",
       "      <td>54137.0</td>\n",
       "      <td>54167.0</td>\n",
       "      <td>3900</td>\n",
       "      <td>65</td>\n",
       "      <td>0.096</td>\n",
       "      <td>-50-10</td>\n",
       "      <td>backward</td>\n",
       "      <td>11882</td>\n",
       "      <td>1</td>\n",
       "      <td>19</td>\n",
       "      <td>translation</td>\n",
       "      <td>30.0</td>\n",
       "    </tr>\n",
       "    <tr>\n",
       "      <th>5</th>\n",
       "      <td>5</td>\n",
       "      <td>55281.0</td>\n",
       "      <td>55311.0</td>\n",
       "      <td>3900</td>\n",
       "      <td>65</td>\n",
       "      <td>0.096</td>\n",
       "      <td>-50-10</td>\n",
       "      <td>backward</td>\n",
       "      <td>11882</td>\n",
       "      <td>1</td>\n",
       "      <td>19</td>\n",
       "      <td>translation</td>\n",
       "      <td>30.0</td>\n",
       "    </tr>\n",
       "    <tr>\n",
       "      <th>6</th>\n",
       "      <td>6</td>\n",
       "      <td>75867.0</td>\n",
       "      <td>75898.0</td>\n",
       "      <td>3900</td>\n",
       "      <td>65</td>\n",
       "      <td>0.096</td>\n",
       "      <td>-50-10</td>\n",
       "      <td>backward</td>\n",
       "      <td>11882</td>\n",
       "      <td>1</td>\n",
       "      <td>19</td>\n",
       "      <td>translation</td>\n",
       "      <td>31.0</td>\n",
       "    </tr>\n",
       "    <tr>\n",
       "      <th>7</th>\n",
       "      <td>7</td>\n",
       "      <td>83151.0</td>\n",
       "      <td>83181.0</td>\n",
       "      <td>3900</td>\n",
       "      <td>65</td>\n",
       "      <td>0.096</td>\n",
       "      <td>-50-10</td>\n",
       "      <td>backward</td>\n",
       "      <td>11882</td>\n",
       "      <td>1</td>\n",
       "      <td>19</td>\n",
       "      <td>translation</td>\n",
       "      <td>30.0</td>\n",
       "    </tr>\n",
       "    <tr>\n",
       "      <th>8</th>\n",
       "      <td>8</td>\n",
       "      <td>97056.0</td>\n",
       "      <td>97086.0</td>\n",
       "      <td>3900</td>\n",
       "      <td>65</td>\n",
       "      <td>0.096</td>\n",
       "      <td>-50-10</td>\n",
       "      <td>backward</td>\n",
       "      <td>11882</td>\n",
       "      <td>1</td>\n",
       "      <td>19</td>\n",
       "      <td>translation</td>\n",
       "      <td>30.0</td>\n",
       "    </tr>\n",
       "    <tr>\n",
       "      <th>9</th>\n",
       "      <td>9</td>\n",
       "      <td>99584.0</td>\n",
       "      <td>99614.0</td>\n",
       "      <td>3900</td>\n",
       "      <td>65</td>\n",
       "      <td>0.096</td>\n",
       "      <td>-50-10</td>\n",
       "      <td>backward</td>\n",
       "      <td>11882</td>\n",
       "      <td>1</td>\n",
       "      <td>19</td>\n",
       "      <td>translation</td>\n",
       "      <td>30.0</td>\n",
       "    </tr>\n",
       "    <tr>\n",
       "      <th>10</th>\n",
       "      <td>10</td>\n",
       "      <td>203.0</td>\n",
       "      <td>233.0</td>\n",
       "      <td>720</td>\n",
       "      <td>12</td>\n",
       "      <td>0.050</td>\n",
       "      <td>-50-10</td>\n",
       "      <td>forward</td>\n",
       "      <td>2258</td>\n",
       "      <td>1</td>\n",
       "      <td>10</td>\n",
       "      <td>translation</td>\n",
       "      <td>30.0</td>\n",
       "    </tr>\n",
       "    <tr>\n",
       "      <th>11</th>\n",
       "      <td>11</td>\n",
       "      <td>15131.0</td>\n",
       "      <td>15161.0</td>\n",
       "      <td>720</td>\n",
       "      <td>12</td>\n",
       "      <td>0.050</td>\n",
       "      <td>-50-10</td>\n",
       "      <td>forward</td>\n",
       "      <td>2258</td>\n",
       "      <td>1</td>\n",
       "      <td>10</td>\n",
       "      <td>translation</td>\n",
       "      <td>30.0</td>\n",
       "    </tr>\n",
       "    <tr>\n",
       "      <th>12</th>\n",
       "      <td>12</td>\n",
       "      <td>25605.0</td>\n",
       "      <td>25635.0</td>\n",
       "      <td>720</td>\n",
       "      <td>12</td>\n",
       "      <td>0.050</td>\n",
       "      <td>-50-10</td>\n",
       "      <td>forward</td>\n",
       "      <td>2258</td>\n",
       "      <td>1</td>\n",
       "      <td>10</td>\n",
       "      <td>translation</td>\n",
       "      <td>30.0</td>\n",
       "    </tr>\n",
       "    <tr>\n",
       "      <th>13</th>\n",
       "      <td>13</td>\n",
       "      <td>42339.0</td>\n",
       "      <td>42369.0</td>\n",
       "      <td>720</td>\n",
       "      <td>12</td>\n",
       "      <td>0.050</td>\n",
       "      <td>-50-10</td>\n",
       "      <td>forward</td>\n",
       "      <td>2258</td>\n",
       "      <td>1</td>\n",
       "      <td>10</td>\n",
       "      <td>translation</td>\n",
       "      <td>30.0</td>\n",
       "    </tr>\n",
       "    <tr>\n",
       "      <th>14</th>\n",
       "      <td>14</td>\n",
       "      <td>53776.0</td>\n",
       "      <td>53806.0</td>\n",
       "      <td>720</td>\n",
       "      <td>12</td>\n",
       "      <td>0.050</td>\n",
       "      <td>-50-10</td>\n",
       "      <td>forward</td>\n",
       "      <td>2258</td>\n",
       "      <td>1</td>\n",
       "      <td>10</td>\n",
       "      <td>translation</td>\n",
       "      <td>30.0</td>\n",
       "    </tr>\n",
       "    <tr>\n",
       "      <th>15</th>\n",
       "      <td>15</td>\n",
       "      <td>59314.0</td>\n",
       "      <td>59344.0</td>\n",
       "      <td>720</td>\n",
       "      <td>12</td>\n",
       "      <td>0.050</td>\n",
       "      <td>-50-10</td>\n",
       "      <td>forward</td>\n",
       "      <td>2258</td>\n",
       "      <td>1</td>\n",
       "      <td>10</td>\n",
       "      <td>translation</td>\n",
       "      <td>30.0</td>\n",
       "    </tr>\n",
       "    <tr>\n",
       "      <th>16</th>\n",
       "      <td>16</td>\n",
       "      <td>72075.0</td>\n",
       "      <td>72105.0</td>\n",
       "      <td>720</td>\n",
       "      <td>12</td>\n",
       "      <td>0.050</td>\n",
       "      <td>-50-10</td>\n",
       "      <td>forward</td>\n",
       "      <td>2258</td>\n",
       "      <td>1</td>\n",
       "      <td>10</td>\n",
       "      <td>translation</td>\n",
       "      <td>30.0</td>\n",
       "    </tr>\n",
       "    <tr>\n",
       "      <th>17</th>\n",
       "      <td>17</td>\n",
       "      <td>82730.0</td>\n",
       "      <td>82760.0</td>\n",
       "      <td>720</td>\n",
       "      <td>12</td>\n",
       "      <td>0.050</td>\n",
       "      <td>-50-10</td>\n",
       "      <td>forward</td>\n",
       "      <td>2258</td>\n",
       "      <td>1</td>\n",
       "      <td>10</td>\n",
       "      <td>translation</td>\n",
       "      <td>30.0</td>\n",
       "    </tr>\n",
       "    <tr>\n",
       "      <th>18</th>\n",
       "      <td>18</td>\n",
       "      <td>93384.0</td>\n",
       "      <td>93414.0</td>\n",
       "      <td>720</td>\n",
       "      <td>12</td>\n",
       "      <td>0.050</td>\n",
       "      <td>-50-10</td>\n",
       "      <td>forward</td>\n",
       "      <td>2258</td>\n",
       "      <td>1</td>\n",
       "      <td>10</td>\n",
       "      <td>translation</td>\n",
       "      <td>30.0</td>\n",
       "    </tr>\n",
       "    <tr>\n",
       "      <th>19</th>\n",
       "      <td>19</td>\n",
       "      <td>104941.0</td>\n",
       "      <td>104971.0</td>\n",
       "      <td>720</td>\n",
       "      <td>12</td>\n",
       "      <td>0.050</td>\n",
       "      <td>-50-10</td>\n",
       "      <td>forward</td>\n",
       "      <td>2258</td>\n",
       "      <td>1</td>\n",
       "      <td>10</td>\n",
       "      <td>translation</td>\n",
       "      <td>30.0</td>\n",
       "    </tr>\n",
       "    <tr>\n",
       "      <th>20</th>\n",
       "      <td>20</td>\n",
       "      <td>263.0</td>\n",
       "      <td>293.0</td>\n",
       "      <td>8880</td>\n",
       "      <td>148</td>\n",
       "      <td>NaN</td>\n",
       "      <td>NaN</td>\n",
       "      <td>right</td>\n",
       "      <td>1000</td>\n",
       "      <td>5</td>\n",
       "      <td>50</td>\n",
       "      <td>rotation</td>\n",
       "      <td>30.0</td>\n",
       "    </tr>\n",
       "    <tr>\n",
       "      <th>21</th>\n",
       "      <td>21</td>\n",
       "      <td>17900.0</td>\n",
       "      <td>17930.0</td>\n",
       "      <td>8880</td>\n",
       "      <td>148</td>\n",
       "      <td>NaN</td>\n",
       "      <td>NaN</td>\n",
       "      <td>right</td>\n",
       "      <td>1000</td>\n",
       "      <td>5</td>\n",
       "      <td>50</td>\n",
       "      <td>rotation</td>\n",
       "      <td>30.0</td>\n",
       "    </tr>\n",
       "    <tr>\n",
       "      <th>22</th>\n",
       "      <td>22</td>\n",
       "      <td>27652.0</td>\n",
       "      <td>27682.0</td>\n",
       "      <td>8880</td>\n",
       "      <td>148</td>\n",
       "      <td>NaN</td>\n",
       "      <td>NaN</td>\n",
       "      <td>right</td>\n",
       "      <td>1000</td>\n",
       "      <td>5</td>\n",
       "      <td>50</td>\n",
       "      <td>rotation</td>\n",
       "      <td>30.0</td>\n",
       "    </tr>\n",
       "    <tr>\n",
       "      <th>23</th>\n",
       "      <td>23</td>\n",
       "      <td>43062.0</td>\n",
       "      <td>43092.0</td>\n",
       "      <td>8880</td>\n",
       "      <td>148</td>\n",
       "      <td>NaN</td>\n",
       "      <td>NaN</td>\n",
       "      <td>right</td>\n",
       "      <td>1000</td>\n",
       "      <td>5</td>\n",
       "      <td>50</td>\n",
       "      <td>rotation</td>\n",
       "      <td>30.0</td>\n",
       "    </tr>\n",
       "    <tr>\n",
       "      <th>24</th>\n",
       "      <td>24</td>\n",
       "      <td>46252.0</td>\n",
       "      <td>46282.0</td>\n",
       "      <td>8880</td>\n",
       "      <td>148</td>\n",
       "      <td>NaN</td>\n",
       "      <td>NaN</td>\n",
       "      <td>right</td>\n",
       "      <td>1000</td>\n",
       "      <td>5</td>\n",
       "      <td>50</td>\n",
       "      <td>rotation</td>\n",
       "      <td>30.0</td>\n",
       "    </tr>\n",
       "    <tr>\n",
       "      <th>25</th>\n",
       "      <td>25</td>\n",
       "      <td>55642.0</td>\n",
       "      <td>55672.0</td>\n",
       "      <td>8880</td>\n",
       "      <td>148</td>\n",
       "      <td>NaN</td>\n",
       "      <td>NaN</td>\n",
       "      <td>right</td>\n",
       "      <td>1000</td>\n",
       "      <td>5</td>\n",
       "      <td>50</td>\n",
       "      <td>rotation</td>\n",
       "      <td>30.0</td>\n",
       "    </tr>\n",
       "    <tr>\n",
       "      <th>26</th>\n",
       "      <td>26</td>\n",
       "      <td>67922.0</td>\n",
       "      <td>67952.0</td>\n",
       "      <td>8880</td>\n",
       "      <td>148</td>\n",
       "      <td>NaN</td>\n",
       "      <td>NaN</td>\n",
       "      <td>right</td>\n",
       "      <td>1000</td>\n",
       "      <td>5</td>\n",
       "      <td>50</td>\n",
       "      <td>rotation</td>\n",
       "      <td>30.0</td>\n",
       "    </tr>\n",
       "    <tr>\n",
       "      <th>27</th>\n",
       "      <td>27</td>\n",
       "      <td>82790.0</td>\n",
       "      <td>82820.0</td>\n",
       "      <td>8880</td>\n",
       "      <td>148</td>\n",
       "      <td>NaN</td>\n",
       "      <td>NaN</td>\n",
       "      <td>right</td>\n",
       "      <td>1000</td>\n",
       "      <td>5</td>\n",
       "      <td>50</td>\n",
       "      <td>rotation</td>\n",
       "      <td>30.0</td>\n",
       "    </tr>\n",
       "    <tr>\n",
       "      <th>28</th>\n",
       "      <td>28</td>\n",
       "      <td>93564.0</td>\n",
       "      <td>93595.0</td>\n",
       "      <td>8880</td>\n",
       "      <td>148</td>\n",
       "      <td>NaN</td>\n",
       "      <td>NaN</td>\n",
       "      <td>right</td>\n",
       "      <td>1000</td>\n",
       "      <td>5</td>\n",
       "      <td>50</td>\n",
       "      <td>rotation</td>\n",
       "      <td>31.0</td>\n",
       "    </tr>\n",
       "    <tr>\n",
       "      <th>29</th>\n",
       "      <td>29</td>\n",
       "      <td>101871.0</td>\n",
       "      <td>101901.0</td>\n",
       "      <td>8880</td>\n",
       "      <td>148</td>\n",
       "      <td>NaN</td>\n",
       "      <td>NaN</td>\n",
       "      <td>right</td>\n",
       "      <td>1000</td>\n",
       "      <td>5</td>\n",
       "      <td>50</td>\n",
       "      <td>rotation</td>\n",
       "      <td>30.0</td>\n",
       "    </tr>\n",
       "    <tr>\n",
       "      <th>...</th>\n",
       "      <td>...</td>\n",
       "      <td>...</td>\n",
       "      <td>...</td>\n",
       "      <td>...</td>\n",
       "      <td>...</td>\n",
       "      <td>...</td>\n",
       "      <td>...</td>\n",
       "      <td>...</td>\n",
       "      <td>...</td>\n",
       "      <td>...</td>\n",
       "      <td>...</td>\n",
       "      <td>...</td>\n",
       "      <td>...</td>\n",
       "    </tr>\n",
       "    <tr>\n",
       "      <th>1770</th>\n",
       "      <td>1770</td>\n",
       "      <td>10797.0</td>\n",
       "      <td>10827.0</td>\n",
       "      <td>10620</td>\n",
       "      <td>177</td>\n",
       "      <td>NaN</td>\n",
       "      <td>NaN</td>\n",
       "      <td>left</td>\n",
       "      <td>1000</td>\n",
       "      <td>8</td>\n",
       "      <td>100</td>\n",
       "      <td>rotation</td>\n",
       "      <td>30.0</td>\n",
       "    </tr>\n",
       "    <tr>\n",
       "      <th>1771</th>\n",
       "      <td>1771</td>\n",
       "      <td>19706.0</td>\n",
       "      <td>19736.0</td>\n",
       "      <td>10620</td>\n",
       "      <td>177</td>\n",
       "      <td>NaN</td>\n",
       "      <td>NaN</td>\n",
       "      <td>left</td>\n",
       "      <td>1000</td>\n",
       "      <td>8</td>\n",
       "      <td>100</td>\n",
       "      <td>rotation</td>\n",
       "      <td>30.0</td>\n",
       "    </tr>\n",
       "    <tr>\n",
       "      <th>1772</th>\n",
       "      <td>1772</td>\n",
       "      <td>24702.0</td>\n",
       "      <td>24732.0</td>\n",
       "      <td>10620</td>\n",
       "      <td>177</td>\n",
       "      <td>NaN</td>\n",
       "      <td>NaN</td>\n",
       "      <td>left</td>\n",
       "      <td>1000</td>\n",
       "      <td>8</td>\n",
       "      <td>100</td>\n",
       "      <td>rotation</td>\n",
       "      <td>30.0</td>\n",
       "    </tr>\n",
       "    <tr>\n",
       "      <th>1773</th>\n",
       "      <td>1773</td>\n",
       "      <td>35537.0</td>\n",
       "      <td>35567.0</td>\n",
       "      <td>10620</td>\n",
       "      <td>177</td>\n",
       "      <td>NaN</td>\n",
       "      <td>NaN</td>\n",
       "      <td>left</td>\n",
       "      <td>1000</td>\n",
       "      <td>8</td>\n",
       "      <td>100</td>\n",
       "      <td>rotation</td>\n",
       "      <td>30.0</td>\n",
       "    </tr>\n",
       "    <tr>\n",
       "      <th>1774</th>\n",
       "      <td>1774</td>\n",
       "      <td>47877.0</td>\n",
       "      <td>47907.0</td>\n",
       "      <td>10620</td>\n",
       "      <td>177</td>\n",
       "      <td>NaN</td>\n",
       "      <td>NaN</td>\n",
       "      <td>left</td>\n",
       "      <td>1000</td>\n",
       "      <td>8</td>\n",
       "      <td>100</td>\n",
       "      <td>rotation</td>\n",
       "      <td>30.0</td>\n",
       "    </tr>\n",
       "    <tr>\n",
       "      <th>1775</th>\n",
       "      <td>1775</td>\n",
       "      <td>59013.0</td>\n",
       "      <td>59043.0</td>\n",
       "      <td>10620</td>\n",
       "      <td>177</td>\n",
       "      <td>NaN</td>\n",
       "      <td>NaN</td>\n",
       "      <td>left</td>\n",
       "      <td>1000</td>\n",
       "      <td>8</td>\n",
       "      <td>100</td>\n",
       "      <td>rotation</td>\n",
       "      <td>30.0</td>\n",
       "    </tr>\n",
       "    <tr>\n",
       "      <th>1776</th>\n",
       "      <td>1776</td>\n",
       "      <td>74363.0</td>\n",
       "      <td>74393.0</td>\n",
       "      <td>10620</td>\n",
       "      <td>177</td>\n",
       "      <td>NaN</td>\n",
       "      <td>NaN</td>\n",
       "      <td>left</td>\n",
       "      <td>1000</td>\n",
       "      <td>8</td>\n",
       "      <td>100</td>\n",
       "      <td>rotation</td>\n",
       "      <td>30.0</td>\n",
       "    </tr>\n",
       "    <tr>\n",
       "      <th>1777</th>\n",
       "      <td>1777</td>\n",
       "      <td>77974.0</td>\n",
       "      <td>78004.0</td>\n",
       "      <td>10620</td>\n",
       "      <td>177</td>\n",
       "      <td>NaN</td>\n",
       "      <td>NaN</td>\n",
       "      <td>left</td>\n",
       "      <td>1000</td>\n",
       "      <td>8</td>\n",
       "      <td>100</td>\n",
       "      <td>rotation</td>\n",
       "      <td>30.0</td>\n",
       "    </tr>\n",
       "    <tr>\n",
       "      <th>1778</th>\n",
       "      <td>1778</td>\n",
       "      <td>88990.0</td>\n",
       "      <td>89020.0</td>\n",
       "      <td>10620</td>\n",
       "      <td>177</td>\n",
       "      <td>NaN</td>\n",
       "      <td>NaN</td>\n",
       "      <td>left</td>\n",
       "      <td>1000</td>\n",
       "      <td>8</td>\n",
       "      <td>100</td>\n",
       "      <td>rotation</td>\n",
       "      <td>30.0</td>\n",
       "    </tr>\n",
       "    <tr>\n",
       "      <th>1779</th>\n",
       "      <td>1779</td>\n",
       "      <td>105964.0</td>\n",
       "      <td>105995.0</td>\n",
       "      <td>10620</td>\n",
       "      <td>177</td>\n",
       "      <td>NaN</td>\n",
       "      <td>NaN</td>\n",
       "      <td>left</td>\n",
       "      <td>1000</td>\n",
       "      <td>8</td>\n",
       "      <td>100</td>\n",
       "      <td>rotation</td>\n",
       "      <td>31.0</td>\n",
       "    </tr>\n",
       "    <tr>\n",
       "      <th>1780</th>\n",
       "      <td>1780</td>\n",
       "      <td>10858.0</td>\n",
       "      <td>10888.0</td>\n",
       "      <td>3300</td>\n",
       "      <td>55</td>\n",
       "      <td>1.000</td>\n",
       "      <td>-50-10</td>\n",
       "      <td>backward</td>\n",
       "      <td>2888</td>\n",
       "      <td>2</td>\n",
       "      <td>199</td>\n",
       "      <td>translation</td>\n",
       "      <td>30.0</td>\n",
       "    </tr>\n",
       "    <tr>\n",
       "      <th>1781</th>\n",
       "      <td>1781</td>\n",
       "      <td>15854.0</td>\n",
       "      <td>15884.0</td>\n",
       "      <td>3300</td>\n",
       "      <td>55</td>\n",
       "      <td>1.000</td>\n",
       "      <td>-50-10</td>\n",
       "      <td>backward</td>\n",
       "      <td>2888</td>\n",
       "      <td>2</td>\n",
       "      <td>199</td>\n",
       "      <td>translation</td>\n",
       "      <td>30.0</td>\n",
       "    </tr>\n",
       "    <tr>\n",
       "      <th>1782</th>\n",
       "      <td>1782</td>\n",
       "      <td>26568.0</td>\n",
       "      <td>26598.0</td>\n",
       "      <td>3300</td>\n",
       "      <td>55</td>\n",
       "      <td>1.000</td>\n",
       "      <td>-50-10</td>\n",
       "      <td>backward</td>\n",
       "      <td>2888</td>\n",
       "      <td>2</td>\n",
       "      <td>199</td>\n",
       "      <td>translation</td>\n",
       "      <td>30.0</td>\n",
       "    </tr>\n",
       "    <tr>\n",
       "      <th>1783</th>\n",
       "      <td>1783</td>\n",
       "      <td>34153.0</td>\n",
       "      <td>34183.0</td>\n",
       "      <td>3300</td>\n",
       "      <td>55</td>\n",
       "      <td>1.000</td>\n",
       "      <td>-50-10</td>\n",
       "      <td>backward</td>\n",
       "      <td>2888</td>\n",
       "      <td>2</td>\n",
       "      <td>199</td>\n",
       "      <td>translation</td>\n",
       "      <td>30.0</td>\n",
       "    </tr>\n",
       "    <tr>\n",
       "      <th>1784</th>\n",
       "      <td>1784</td>\n",
       "      <td>47697.0</td>\n",
       "      <td>47727.0</td>\n",
       "      <td>3300</td>\n",
       "      <td>55</td>\n",
       "      <td>1.000</td>\n",
       "      <td>-50-10</td>\n",
       "      <td>backward</td>\n",
       "      <td>2888</td>\n",
       "      <td>2</td>\n",
       "      <td>199</td>\n",
       "      <td>translation</td>\n",
       "      <td>30.0</td>\n",
       "    </tr>\n",
       "    <tr>\n",
       "      <th>1785</th>\n",
       "      <td>1785</td>\n",
       "      <td>58772.0</td>\n",
       "      <td>58802.0</td>\n",
       "      <td>3300</td>\n",
       "      <td>55</td>\n",
       "      <td>1.000</td>\n",
       "      <td>-50-10</td>\n",
       "      <td>backward</td>\n",
       "      <td>2888</td>\n",
       "      <td>2</td>\n",
       "      <td>199</td>\n",
       "      <td>translation</td>\n",
       "      <td>30.0</td>\n",
       "    </tr>\n",
       "    <tr>\n",
       "      <th>1786</th>\n",
       "      <td>1786</td>\n",
       "      <td>74302.0</td>\n",
       "      <td>74333.0</td>\n",
       "      <td>3300</td>\n",
       "      <td>55</td>\n",
       "      <td>1.000</td>\n",
       "      <td>-50-10</td>\n",
       "      <td>backward</td>\n",
       "      <td>2888</td>\n",
       "      <td>2</td>\n",
       "      <td>199</td>\n",
       "      <td>translation</td>\n",
       "      <td>31.0</td>\n",
       "    </tr>\n",
       "    <tr>\n",
       "      <th>1787</th>\n",
       "      <td>1787</td>\n",
       "      <td>78396.0</td>\n",
       "      <td>78426.0</td>\n",
       "      <td>3300</td>\n",
       "      <td>55</td>\n",
       "      <td>1.000</td>\n",
       "      <td>-50-10</td>\n",
       "      <td>backward</td>\n",
       "      <td>2888</td>\n",
       "      <td>2</td>\n",
       "      <td>199</td>\n",
       "      <td>translation</td>\n",
       "      <td>30.0</td>\n",
       "    </tr>\n",
       "    <tr>\n",
       "      <th>1788</th>\n",
       "      <td>1788</td>\n",
       "      <td>94768.0</td>\n",
       "      <td>94798.0</td>\n",
       "      <td>3300</td>\n",
       "      <td>55</td>\n",
       "      <td>1.000</td>\n",
       "      <td>-50-10</td>\n",
       "      <td>backward</td>\n",
       "      <td>2888</td>\n",
       "      <td>2</td>\n",
       "      <td>199</td>\n",
       "      <td>translation</td>\n",
       "      <td>30.0</td>\n",
       "    </tr>\n",
       "    <tr>\n",
       "      <th>1789</th>\n",
       "      <td>1789</td>\n",
       "      <td>102895.0</td>\n",
       "      <td>102925.0</td>\n",
       "      <td>3300</td>\n",
       "      <td>55</td>\n",
       "      <td>1.000</td>\n",
       "      <td>-50-10</td>\n",
       "      <td>backward</td>\n",
       "      <td>2888</td>\n",
       "      <td>2</td>\n",
       "      <td>199</td>\n",
       "      <td>translation</td>\n",
       "      <td>30.0</td>\n",
       "    </tr>\n",
       "    <tr>\n",
       "      <th>1790</th>\n",
       "      <td>1790</td>\n",
       "      <td>10918.0</td>\n",
       "      <td>10948.0</td>\n",
       "      <td>3420</td>\n",
       "      <td>57</td>\n",
       "      <td>0.240</td>\n",
       "      <td>-50-10</td>\n",
       "      <td>backward</td>\n",
       "      <td>1184</td>\n",
       "      <td>2</td>\n",
       "      <td>49</td>\n",
       "      <td>translation</td>\n",
       "      <td>30.0</td>\n",
       "    </tr>\n",
       "    <tr>\n",
       "      <th>1791</th>\n",
       "      <td>1791</td>\n",
       "      <td>15974.0</td>\n",
       "      <td>16004.0</td>\n",
       "      <td>3420</td>\n",
       "      <td>57</td>\n",
       "      <td>0.240</td>\n",
       "      <td>-50-10</td>\n",
       "      <td>backward</td>\n",
       "      <td>1184</td>\n",
       "      <td>2</td>\n",
       "      <td>49</td>\n",
       "      <td>translation</td>\n",
       "      <td>30.0</td>\n",
       "    </tr>\n",
       "    <tr>\n",
       "      <th>1792</th>\n",
       "      <td>1792</td>\n",
       "      <td>29217.0</td>\n",
       "      <td>29247.0</td>\n",
       "      <td>3420</td>\n",
       "      <td>57</td>\n",
       "      <td>0.240</td>\n",
       "      <td>-50-10</td>\n",
       "      <td>backward</td>\n",
       "      <td>1184</td>\n",
       "      <td>2</td>\n",
       "      <td>49</td>\n",
       "      <td>translation</td>\n",
       "      <td>30.0</td>\n",
       "    </tr>\n",
       "    <tr>\n",
       "      <th>1793</th>\n",
       "      <td>1793</td>\n",
       "      <td>42460.0</td>\n",
       "      <td>42490.0</td>\n",
       "      <td>3420</td>\n",
       "      <td>57</td>\n",
       "      <td>0.240</td>\n",
       "      <td>-50-10</td>\n",
       "      <td>backward</td>\n",
       "      <td>1184</td>\n",
       "      <td>2</td>\n",
       "      <td>49</td>\n",
       "      <td>translation</td>\n",
       "      <td>30.0</td>\n",
       "    </tr>\n",
       "    <tr>\n",
       "      <th>1794</th>\n",
       "      <td>1794</td>\n",
       "      <td>53596.0</td>\n",
       "      <td>53626.0</td>\n",
       "      <td>3420</td>\n",
       "      <td>57</td>\n",
       "      <td>0.240</td>\n",
       "      <td>-50-10</td>\n",
       "      <td>backward</td>\n",
       "      <td>1184</td>\n",
       "      <td>2</td>\n",
       "      <td>49</td>\n",
       "      <td>translation</td>\n",
       "      <td>30.0</td>\n",
       "    </tr>\n",
       "    <tr>\n",
       "      <th>1795</th>\n",
       "      <td>1795</td>\n",
       "      <td>62083.0</td>\n",
       "      <td>62113.0</td>\n",
       "      <td>3420</td>\n",
       "      <td>57</td>\n",
       "      <td>0.240</td>\n",
       "      <td>-50-10</td>\n",
       "      <td>backward</td>\n",
       "      <td>1184</td>\n",
       "      <td>2</td>\n",
       "      <td>49</td>\n",
       "      <td>translation</td>\n",
       "      <td>30.0</td>\n",
       "    </tr>\n",
       "    <tr>\n",
       "      <th>1796</th>\n",
       "      <td>1796</td>\n",
       "      <td>75687.0</td>\n",
       "      <td>75717.0</td>\n",
       "      <td>3420</td>\n",
       "      <td>57</td>\n",
       "      <td>0.240</td>\n",
       "      <td>-50-10</td>\n",
       "      <td>backward</td>\n",
       "      <td>1184</td>\n",
       "      <td>2</td>\n",
       "      <td>49</td>\n",
       "      <td>translation</td>\n",
       "      <td>30.0</td>\n",
       "    </tr>\n",
       "    <tr>\n",
       "      <th>1797</th>\n",
       "      <td>1797</td>\n",
       "      <td>76048.0</td>\n",
       "      <td>76078.0</td>\n",
       "      <td>3420</td>\n",
       "      <td>57</td>\n",
       "      <td>0.240</td>\n",
       "      <td>-50-10</td>\n",
       "      <td>backward</td>\n",
       "      <td>1184</td>\n",
       "      <td>2</td>\n",
       "      <td>49</td>\n",
       "      <td>translation</td>\n",
       "      <td>30.0</td>\n",
       "    </tr>\n",
       "    <tr>\n",
       "      <th>1798</th>\n",
       "      <td>1798</td>\n",
       "      <td>87786.0</td>\n",
       "      <td>87816.0</td>\n",
       "      <td>3420</td>\n",
       "      <td>57</td>\n",
       "      <td>0.240</td>\n",
       "      <td>-50-10</td>\n",
       "      <td>backward</td>\n",
       "      <td>1184</td>\n",
       "      <td>2</td>\n",
       "      <td>49</td>\n",
       "      <td>translation</td>\n",
       "      <td>30.0</td>\n",
       "    </tr>\n",
       "    <tr>\n",
       "      <th>1799</th>\n",
       "      <td>1799</td>\n",
       "      <td>102473.0</td>\n",
       "      <td>102503.0</td>\n",
       "      <td>3420</td>\n",
       "      <td>57</td>\n",
       "      <td>0.240</td>\n",
       "      <td>-50-10</td>\n",
       "      <td>backward</td>\n",
       "      <td>1184</td>\n",
       "      <td>2</td>\n",
       "      <td>49</td>\n",
       "      <td>translation</td>\n",
       "      <td>30.0</td>\n",
       "    </tr>\n",
       "  </tbody>\n",
       "</table>\n",
       "<p>1800 rows × 13 columns</p>\n",
       "</div>"
      ],
      "text/plain": [
       "      Unnamed: 0     start       end  start_frame  condition  approachSpeed  \\\n",
       "0              0     143.0     173.0         3900         65          0.096   \n",
       "1              1   16215.0   16245.0         3900         65          0.096   \n",
       "2              2   29157.0   29187.0         3900         65          0.096   \n",
       "3              3   34996.0   35026.0         3900         65          0.096   \n",
       "4              4   54137.0   54167.0         3900         65          0.096   \n",
       "5              5   55281.0   55311.0         3900         65          0.096   \n",
       "6              6   75867.0   75898.0         3900         65          0.096   \n",
       "7              7   83151.0   83181.0         3900         65          0.096   \n",
       "8              8   97056.0   97086.0         3900         65          0.096   \n",
       "9              9   99584.0   99614.0         3900         65          0.096   \n",
       "10            10     203.0     233.0          720         12          0.050   \n",
       "11            11   15131.0   15161.0          720         12          0.050   \n",
       "12            12   25605.0   25635.0          720         12          0.050   \n",
       "13            13   42339.0   42369.0          720         12          0.050   \n",
       "14            14   53776.0   53806.0          720         12          0.050   \n",
       "15            15   59314.0   59344.0          720         12          0.050   \n",
       "16            16   72075.0   72105.0          720         12          0.050   \n",
       "17            17   82730.0   82760.0          720         12          0.050   \n",
       "18            18   93384.0   93414.0          720         12          0.050   \n",
       "19            19  104941.0  104971.0          720         12          0.050   \n",
       "20            20     263.0     293.0         8880        148            NaN   \n",
       "21            21   17900.0   17930.0         8880        148            NaN   \n",
       "22            22   27652.0   27682.0         8880        148            NaN   \n",
       "23            23   43062.0   43092.0         8880        148            NaN   \n",
       "24            24   46252.0   46282.0         8880        148            NaN   \n",
       "25            25   55642.0   55672.0         8880        148            NaN   \n",
       "26            26   67922.0   67952.0         8880        148            NaN   \n",
       "27            27   82790.0   82820.0         8880        148            NaN   \n",
       "28            28   93564.0   93595.0         8880        148            NaN   \n",
       "29            29  101871.0  101901.0         8880        148            NaN   \n",
       "...          ...       ...       ...          ...        ...            ...   \n",
       "1770        1770   10797.0   10827.0        10620        177            NaN   \n",
       "1771        1771   19706.0   19736.0        10620        177            NaN   \n",
       "1772        1772   24702.0   24732.0        10620        177            NaN   \n",
       "1773        1773   35537.0   35567.0        10620        177            NaN   \n",
       "1774        1774   47877.0   47907.0        10620        177            NaN   \n",
       "1775        1775   59013.0   59043.0        10620        177            NaN   \n",
       "1776        1776   74363.0   74393.0        10620        177            NaN   \n",
       "1777        1777   77974.0   78004.0        10620        177            NaN   \n",
       "1778        1778   88990.0   89020.0        10620        177            NaN   \n",
       "1779        1779  105964.0  105995.0        10620        177            NaN   \n",
       "1780        1780   10858.0   10888.0         3300         55          1.000   \n",
       "1781        1781   15854.0   15884.0         3300         55          1.000   \n",
       "1782        1782   26568.0   26598.0         3300         55          1.000   \n",
       "1783        1783   34153.0   34183.0         3300         55          1.000   \n",
       "1784        1784   47697.0   47727.0         3300         55          1.000   \n",
       "1785        1785   58772.0   58802.0         3300         55          1.000   \n",
       "1786        1786   74302.0   74333.0         3300         55          1.000   \n",
       "1787        1787   78396.0   78426.0         3300         55          1.000   \n",
       "1788        1788   94768.0   94798.0         3300         55          1.000   \n",
       "1789        1789  102895.0  102925.0         3300         55          1.000   \n",
       "1790        1790   10918.0   10948.0         3420         57          0.240   \n",
       "1791        1791   15974.0   16004.0         3420         57          0.240   \n",
       "1792        1792   29217.0   29247.0         3420         57          0.240   \n",
       "1793        1793   42460.0   42490.0         3420         57          0.240   \n",
       "1794        1794   53596.0   53626.0         3420         57          0.240   \n",
       "1795        1795   62083.0   62113.0         3420         57          0.240   \n",
       "1796        1796   75687.0   75717.0         3420         57          0.240   \n",
       "1797        1797   76048.0   76078.0         3420         57          0.240   \n",
       "1798        1798   87786.0   87816.0         3420         57          0.240   \n",
       "1799        1799  102473.0  102503.0         3420         57          0.240   \n",
       "\n",
       "     centerLocation direction  dotNum  dotSize  dotSpeed       motion  \\\n",
       "0            -50-10  backward   11882        1        19  translation   \n",
       "1            -50-10  backward   11882        1        19  translation   \n",
       "2            -50-10  backward   11882        1        19  translation   \n",
       "3            -50-10  backward   11882        1        19  translation   \n",
       "4            -50-10  backward   11882        1        19  translation   \n",
       "5            -50-10  backward   11882        1        19  translation   \n",
       "6            -50-10  backward   11882        1        19  translation   \n",
       "7            -50-10  backward   11882        1        19  translation   \n",
       "8            -50-10  backward   11882        1        19  translation   \n",
       "9            -50-10  backward   11882        1        19  translation   \n",
       "10           -50-10   forward    2258        1        10  translation   \n",
       "11           -50-10   forward    2258        1        10  translation   \n",
       "12           -50-10   forward    2258        1        10  translation   \n",
       "13           -50-10   forward    2258        1        10  translation   \n",
       "14           -50-10   forward    2258        1        10  translation   \n",
       "15           -50-10   forward    2258        1        10  translation   \n",
       "16           -50-10   forward    2258        1        10  translation   \n",
       "17           -50-10   forward    2258        1        10  translation   \n",
       "18           -50-10   forward    2258        1        10  translation   \n",
       "19           -50-10   forward    2258        1        10  translation   \n",
       "20              NaN     right    1000        5        50     rotation   \n",
       "21              NaN     right    1000        5        50     rotation   \n",
       "22              NaN     right    1000        5        50     rotation   \n",
       "23              NaN     right    1000        5        50     rotation   \n",
       "24              NaN     right    1000        5        50     rotation   \n",
       "25              NaN     right    1000        5        50     rotation   \n",
       "26              NaN     right    1000        5        50     rotation   \n",
       "27              NaN     right    1000        5        50     rotation   \n",
       "28              NaN     right    1000        5        50     rotation   \n",
       "29              NaN     right    1000        5        50     rotation   \n",
       "...             ...       ...     ...      ...       ...          ...   \n",
       "1770            NaN      left    1000        8       100     rotation   \n",
       "1771            NaN      left    1000        8       100     rotation   \n",
       "1772            NaN      left    1000        8       100     rotation   \n",
       "1773            NaN      left    1000        8       100     rotation   \n",
       "1774            NaN      left    1000        8       100     rotation   \n",
       "1775            NaN      left    1000        8       100     rotation   \n",
       "1776            NaN      left    1000        8       100     rotation   \n",
       "1777            NaN      left    1000        8       100     rotation   \n",
       "1778            NaN      left    1000        8       100     rotation   \n",
       "1779            NaN      left    1000        8       100     rotation   \n",
       "1780         -50-10  backward    2888        2       199  translation   \n",
       "1781         -50-10  backward    2888        2       199  translation   \n",
       "1782         -50-10  backward    2888        2       199  translation   \n",
       "1783         -50-10  backward    2888        2       199  translation   \n",
       "1784         -50-10  backward    2888        2       199  translation   \n",
       "1785         -50-10  backward    2888        2       199  translation   \n",
       "1786         -50-10  backward    2888        2       199  translation   \n",
       "1787         -50-10  backward    2888        2       199  translation   \n",
       "1788         -50-10  backward    2888        2       199  translation   \n",
       "1789         -50-10  backward    2888        2       199  translation   \n",
       "1790         -50-10  backward    1184        2        49  translation   \n",
       "1791         -50-10  backward    1184        2        49  translation   \n",
       "1792         -50-10  backward    1184        2        49  translation   \n",
       "1793         -50-10  backward    1184        2        49  translation   \n",
       "1794         -50-10  backward    1184        2        49  translation   \n",
       "1795         -50-10  backward    1184        2        49  translation   \n",
       "1796         -50-10  backward    1184        2        49  translation   \n",
       "1797         -50-10  backward    1184        2        49  translation   \n",
       "1798         -50-10  backward    1184        2        49  translation   \n",
       "1799         -50-10  backward    1184        2        49  translation   \n",
       "\n",
       "      duration  \n",
       "0         30.0  \n",
       "1         30.0  \n",
       "2         30.0  \n",
       "3         30.0  \n",
       "4         30.0  \n",
       "5         30.0  \n",
       "6         31.0  \n",
       "7         30.0  \n",
       "8         30.0  \n",
       "9         30.0  \n",
       "10        30.0  \n",
       "11        30.0  \n",
       "12        30.0  \n",
       "13        30.0  \n",
       "14        30.0  \n",
       "15        30.0  \n",
       "16        30.0  \n",
       "17        30.0  \n",
       "18        30.0  \n",
       "19        30.0  \n",
       "20        30.0  \n",
       "21        30.0  \n",
       "22        30.0  \n",
       "23        30.0  \n",
       "24        30.0  \n",
       "25        30.0  \n",
       "26        30.0  \n",
       "27        30.0  \n",
       "28        31.0  \n",
       "29        30.0  \n",
       "...        ...  \n",
       "1770      30.0  \n",
       "1771      30.0  \n",
       "1772      30.0  \n",
       "1773      30.0  \n",
       "1774      30.0  \n",
       "1775      30.0  \n",
       "1776      30.0  \n",
       "1777      30.0  \n",
       "1778      30.0  \n",
       "1779      31.0  \n",
       "1780      30.0  \n",
       "1781      30.0  \n",
       "1782      30.0  \n",
       "1783      30.0  \n",
       "1784      30.0  \n",
       "1785      30.0  \n",
       "1786      31.0  \n",
       "1787      30.0  \n",
       "1788      30.0  \n",
       "1789      30.0  \n",
       "1790      30.0  \n",
       "1791      30.0  \n",
       "1792      30.0  \n",
       "1793      30.0  \n",
       "1794      30.0  \n",
       "1795      30.0  \n",
       "1796      30.0  \n",
       "1797      30.0  \n",
       "1798      30.0  \n",
       "1799      30.0  \n",
       "\n",
       "[1800 rows x 13 columns]"
      ]
     },
     "execution_count": 27,
     "metadata": {},
     "output_type": "execute_result"
    }
   ],
   "source": [
    "stim_table"
   ]
  },
  {
   "cell_type": "code",
   "execution_count": 33,
   "metadata": {},
   "outputs": [],
   "source": [
    "forward = stim_table[stim_table.direction=='forward']"
   ]
  },
  {
   "cell_type": "code",
   "execution_count": 210,
   "metadata": {},
   "outputs": [],
   "source": [
    "temp = stim_table.join(mean_sweep_response)"
   ]
  },
  {
   "cell_type": "code",
   "execution_count": 211,
   "metadata": {},
   "outputs": [
    {
     "data": {
      "text/html": [
       "<div>\n",
       "<style scoped>\n",
       "    .dataframe tbody tr th:only-of-type {\n",
       "        vertical-align: middle;\n",
       "    }\n",
       "\n",
       "    .dataframe tbody tr th {\n",
       "        vertical-align: top;\n",
       "    }\n",
       "\n",
       "    .dataframe thead th {\n",
       "        text-align: right;\n",
       "    }\n",
       "</style>\n",
       "<table border=\"1\" class=\"dataframe\">\n",
       "  <thead>\n",
       "    <tr style=\"text-align: right;\">\n",
       "      <th></th>\n",
       "      <th>Unnamed: 0</th>\n",
       "      <th>start</th>\n",
       "      <th>end</th>\n",
       "      <th>start_frame</th>\n",
       "      <th>Unnamed: 0.1</th>\n",
       "      <th>approachSpeed</th>\n",
       "      <th>centerLocation</th>\n",
       "      <th>direction</th>\n",
       "      <th>dotNum</th>\n",
       "      <th>dotSize</th>\n",
       "      <th>...</th>\n",
       "      <th>240</th>\n",
       "      <th>241</th>\n",
       "      <th>242</th>\n",
       "      <th>243</th>\n",
       "      <th>244</th>\n",
       "      <th>245</th>\n",
       "      <th>246</th>\n",
       "      <th>247</th>\n",
       "      <th>248</th>\n",
       "      <th>249</th>\n",
       "    </tr>\n",
       "  </thead>\n",
       "  <tbody>\n",
       "    <tr>\n",
       "      <th>0</th>\n",
       "      <td>0</td>\n",
       "      <td>143.0</td>\n",
       "      <td>173.0</td>\n",
       "      <td>3900</td>\n",
       "      <td>65</td>\n",
       "      <td>0.096</td>\n",
       "      <td>-50-10</td>\n",
       "      <td>backward</td>\n",
       "      <td>11882</td>\n",
       "      <td>1</td>\n",
       "      <td>...</td>\n",
       "      <td>0.641319</td>\n",
       "      <td>0.162810</td>\n",
       "      <td>0.401211</td>\n",
       "      <td>0.107713</td>\n",
       "      <td>0.004701</td>\n",
       "      <td>0.573682</td>\n",
       "      <td>0.042897</td>\n",
       "      <td>-0.004666</td>\n",
       "      <td>NaN</td>\n",
       "      <td>0.017387</td>\n",
       "    </tr>\n",
       "    <tr>\n",
       "      <th>1</th>\n",
       "      <td>1</td>\n",
       "      <td>16215.0</td>\n",
       "      <td>16245.0</td>\n",
       "      <td>3900</td>\n",
       "      <td>65</td>\n",
       "      <td>0.096</td>\n",
       "      <td>-50-10</td>\n",
       "      <td>backward</td>\n",
       "      <td>11882</td>\n",
       "      <td>1</td>\n",
       "      <td>...</td>\n",
       "      <td>0.013759</td>\n",
       "      <td>-0.018374</td>\n",
       "      <td>-0.001831</td>\n",
       "      <td>-0.007753</td>\n",
       "      <td>-0.019358</td>\n",
       "      <td>-0.022272</td>\n",
       "      <td>-0.001479</td>\n",
       "      <td>0.003061</td>\n",
       "      <td>NaN</td>\n",
       "      <td>-0.001129</td>\n",
       "    </tr>\n",
       "    <tr>\n",
       "      <th>2</th>\n",
       "      <td>2</td>\n",
       "      <td>29157.0</td>\n",
       "      <td>29187.0</td>\n",
       "      <td>3900</td>\n",
       "      <td>65</td>\n",
       "      <td>0.096</td>\n",
       "      <td>-50-10</td>\n",
       "      <td>backward</td>\n",
       "      <td>11882</td>\n",
       "      <td>1</td>\n",
       "      <td>...</td>\n",
       "      <td>0.002906</td>\n",
       "      <td>-0.006746</td>\n",
       "      <td>-0.015948</td>\n",
       "      <td>-0.012724</td>\n",
       "      <td>-0.007205</td>\n",
       "      <td>0.010173</td>\n",
       "      <td>-0.015551</td>\n",
       "      <td>-0.040067</td>\n",
       "      <td>NaN</td>\n",
       "      <td>-0.011814</td>\n",
       "    </tr>\n",
       "    <tr>\n",
       "      <th>3</th>\n",
       "      <td>3</td>\n",
       "      <td>34996.0</td>\n",
       "      <td>35026.0</td>\n",
       "      <td>3900</td>\n",
       "      <td>65</td>\n",
       "      <td>0.096</td>\n",
       "      <td>-50-10</td>\n",
       "      <td>backward</td>\n",
       "      <td>11882</td>\n",
       "      <td>1</td>\n",
       "      <td>...</td>\n",
       "      <td>0.200271</td>\n",
       "      <td>0.040515</td>\n",
       "      <td>0.040444</td>\n",
       "      <td>0.033456</td>\n",
       "      <td>0.004185</td>\n",
       "      <td>-0.018005</td>\n",
       "      <td>-0.011175</td>\n",
       "      <td>0.039879</td>\n",
       "      <td>NaN</td>\n",
       "      <td>0.014841</td>\n",
       "    </tr>\n",
       "    <tr>\n",
       "      <th>4</th>\n",
       "      <td>4</td>\n",
       "      <td>54137.0</td>\n",
       "      <td>54167.0</td>\n",
       "      <td>3900</td>\n",
       "      <td>65</td>\n",
       "      <td>0.096</td>\n",
       "      <td>-50-10</td>\n",
       "      <td>backward</td>\n",
       "      <td>11882</td>\n",
       "      <td>1</td>\n",
       "      <td>...</td>\n",
       "      <td>0.087474</td>\n",
       "      <td>-0.004253</td>\n",
       "      <td>0.016040</td>\n",
       "      <td>0.010295</td>\n",
       "      <td>0.007069</td>\n",
       "      <td>0.017180</td>\n",
       "      <td>0.001606</td>\n",
       "      <td>0.009123</td>\n",
       "      <td>NaN</td>\n",
       "      <td>0.012248</td>\n",
       "    </tr>\n",
       "  </tbody>\n",
       "</table>\n",
       "<p>5 rows × 263 columns</p>\n",
       "</div>"
      ],
      "text/plain": [
       "   Unnamed: 0    start      end  start_frame  Unnamed: 0.1  approachSpeed  \\\n",
       "0           0    143.0    173.0         3900            65          0.096   \n",
       "1           1  16215.0  16245.0         3900            65          0.096   \n",
       "2           2  29157.0  29187.0         3900            65          0.096   \n",
       "3           3  34996.0  35026.0         3900            65          0.096   \n",
       "4           4  54137.0  54167.0         3900            65          0.096   \n",
       "\n",
       "  centerLocation direction  dotNum  dotSize  ...       240       241  \\\n",
       "0         -50-10  backward   11882        1  ...  0.641319  0.162810   \n",
       "1         -50-10  backward   11882        1  ...  0.013759 -0.018374   \n",
       "2         -50-10  backward   11882        1  ...  0.002906 -0.006746   \n",
       "3         -50-10  backward   11882        1  ...  0.200271  0.040515   \n",
       "4         -50-10  backward   11882        1  ...  0.087474 -0.004253   \n",
       "\n",
       "        242       243       244       245       246       247  248       249  \n",
       "0  0.401211  0.107713  0.004701  0.573682  0.042897 -0.004666  NaN  0.017387  \n",
       "1 -0.001831 -0.007753 -0.019358 -0.022272 -0.001479  0.003061  NaN -0.001129  \n",
       "2 -0.015948 -0.012724 -0.007205  0.010173 -0.015551 -0.040067  NaN -0.011814  \n",
       "3  0.040444  0.033456  0.004185 -0.018005 -0.011175  0.039879  NaN  0.014841  \n",
       "4  0.016040  0.010295  0.007069  0.017180  0.001606  0.009123  NaN  0.012248  \n",
       "\n",
       "[5 rows x 263 columns]"
      ]
     },
     "execution_count": 211,
     "metadata": {},
     "output_type": "execute_result"
    }
   ],
   "source": [
    "temp.head()"
   ]
  },
  {
   "cell_type": "code",
   "execution_count": 44,
   "metadata": {},
   "outputs": [
    {
     "data": {
      "text/plain": [
       "(0, 0.6)"
      ]
     },
     "execution_count": 44,
     "metadata": {},
     "output_type": "execute_result"
    },
    {
     "data": {
      "image/png": "[encoded data removed]",
      "text/plain": [
       "<Figure size 432x288 with 1 Axes>"
      ]
     },
     "metadata": {
      "needs_background": "light"
     },
     "output_type": "display_data"
    }
   ],
   "source": [
    "forward = temp[temp.direction=='forward']\n",
    "nc=11\n",
    "# sns.pointplot(x='dotSpeed', y=str(nc), data=forward, hue='dotNum')\n",
    "# sns.pointplot(x='dotSpeed', y=str(nc), data=forward[forward.dotSize==2], hue='dotNum')\n",
    "sns.pointplot(x='dotSpeed', y=str(nc), data=forward[forward.dotSize==2])\n",
    "plt.ylim(0,0.6)"
   ]
  },
  {
   "cell_type": "code",
   "execution_count": 96,
   "metadata": {},
   "outputs": [
    {
     "data": {
      "text/plain": [
       "(0, 0.6)"
      ]
     },
     "execution_count": 96,
     "metadata": {},
     "output_type": "execute_result"
    },
    {
     "data": {
      "image/png": "[encoded data removed]",
      "text/plain": [
       "<Figure size 432x288 with 1 Axes>"
      ]
     },
     "metadata": {
      "needs_background": "light"
     },
     "output_type": "display_data"
    }
   ],
   "source": [
    "backward = temp[temp.direction=='backward']\n",
    "nc=11\n",
    "# sns.pointplot(x='dotSpeed', y=str(nc), data=backward, hue='dotNum')\n",
    "# sns.pointplot(x='dotSpeed', y=str(nc), data=backward[backward.dotSize==2], hue='dotNum')\n",
    "sns.pointplot(x='dotSpeed', y=str(nc), data=backward[backward.dotSize==2])\n",
    "plt.ylim(0,0.6)"
   ]
  },
  {
   "cell_type": "code",
   "execution_count": 100,
   "metadata": {},
   "outputs": [
    {
     "data": {
      "text/plain": [
       "(0, 0.8)"
      ]
     },
     "execution_count": 100,
     "metadata": {},
     "output_type": "execute_result"
    },
    {
     "data": {
      "image/png": "[encoded data removed]",
      "text/plain": [
       "<Figure size 432x288 with 1 Axes>"
      ]
     },
     "metadata": {
      "needs_background": "light"
     },
     "output_type": "display_data"
    }
   ],
   "source": [
    "right = temp[temp.direction=='right']\n",
    "nc=11\n",
    "sns.pointplot(x='dotSpeed', y=str(nc), data=right, hue='dotNum')\n",
    "# sns.pointplot(x='dotSpeed', y=str(nc), data=backward[backward.dotSize==2], hue='dotNum')\n",
    "# sns.pointplot(x='dotSpeed', y=str(nc), data=right[right.dotSize==2])\n",
    "plt.ylim(0,0.8)"
   ]
  },
  {
   "cell_type": "code",
   "execution_count": 98,
   "metadata": {},
   "outputs": [
    {
     "data": {
      "text/plain": [
       "(0, 0.6)"
      ]
     },
     "execution_count": 98,
     "metadata": {},
     "output_type": "execute_result"
    },
    {
     "data": {
      "image/png": "[encoded data removed]",
      "text/plain": [
       "<Figure size 432x288 with 1 Axes>"
      ]
     },
     "metadata": {
      "needs_background": "light"
     },
     "output_type": "display_data"
    }
   ],
   "source": [
    "left = temp[temp.direction=='left']\n",
    "nc=11\n",
    "sns.pointplot(x='dotSpeed', y=str(nc), data=left, hue='dotNum')\n",
    "plt.ylim(0,0.6)"
   ]
  },
  {
   "cell_type": "code",
   "execution_count": 29,
   "metadata": {},
   "outputs": [
    {
     "data": {
      "text/html": [
       "<div>\n",
       "<style scoped>\n",
       "    .dataframe tbody tr th:only-of-type {\n",
       "        vertical-align: middle;\n",
       "    }\n",
       "\n",
       "    .dataframe tbody tr th {\n",
       "        vertical-align: top;\n",
       "    }\n",
       "\n",
       "    .dataframe thead th {\n",
       "        text-align: right;\n",
       "    }\n",
       "</style>\n",
       "<table border=\"1\" class=\"dataframe\">\n",
       "  <thead>\n",
       "    <tr style=\"text-align: right;\">\n",
       "      <th></th>\n",
       "      <th>Unnamed: 0</th>\n",
       "      <th>start</th>\n",
       "      <th>end</th>\n",
       "      <th>start_frame</th>\n",
       "      <th>condition</th>\n",
       "      <th>approachSpeed</th>\n",
       "      <th>centerLocation</th>\n",
       "      <th>direction</th>\n",
       "      <th>dotNum</th>\n",
       "      <th>dotSize</th>\n",
       "      <th>dotSpeed</th>\n",
       "      <th>motion</th>\n",
       "      <th>duration</th>\n",
       "    </tr>\n",
       "  </thead>\n",
       "  <tbody>\n",
       "    <tr>\n",
       "      <th>10</th>\n",
       "      <td>10</td>\n",
       "      <td>203.0</td>\n",
       "      <td>233.0</td>\n",
       "      <td>720</td>\n",
       "      <td>12</td>\n",
       "      <td>0.050</td>\n",
       "      <td>-50-10</td>\n",
       "      <td>forward</td>\n",
       "      <td>2258</td>\n",
       "      <td>1</td>\n",
       "      <td>10</td>\n",
       "      <td>translation</td>\n",
       "      <td>30.0</td>\n",
       "    </tr>\n",
       "    <tr>\n",
       "      <th>11</th>\n",
       "      <td>11</td>\n",
       "      <td>15131.0</td>\n",
       "      <td>15161.0</td>\n",
       "      <td>720</td>\n",
       "      <td>12</td>\n",
       "      <td>0.050</td>\n",
       "      <td>-50-10</td>\n",
       "      <td>forward</td>\n",
       "      <td>2258</td>\n",
       "      <td>1</td>\n",
       "      <td>10</td>\n",
       "      <td>translation</td>\n",
       "      <td>30.0</td>\n",
       "    </tr>\n",
       "    <tr>\n",
       "      <th>12</th>\n",
       "      <td>12</td>\n",
       "      <td>25605.0</td>\n",
       "      <td>25635.0</td>\n",
       "      <td>720</td>\n",
       "      <td>12</td>\n",
       "      <td>0.050</td>\n",
       "      <td>-50-10</td>\n",
       "      <td>forward</td>\n",
       "      <td>2258</td>\n",
       "      <td>1</td>\n",
       "      <td>10</td>\n",
       "      <td>translation</td>\n",
       "      <td>30.0</td>\n",
       "    </tr>\n",
       "    <tr>\n",
       "      <th>13</th>\n",
       "      <td>13</td>\n",
       "      <td>42339.0</td>\n",
       "      <td>42369.0</td>\n",
       "      <td>720</td>\n",
       "      <td>12</td>\n",
       "      <td>0.050</td>\n",
       "      <td>-50-10</td>\n",
       "      <td>forward</td>\n",
       "      <td>2258</td>\n",
       "      <td>1</td>\n",
       "      <td>10</td>\n",
       "      <td>translation</td>\n",
       "      <td>30.0</td>\n",
       "    </tr>\n",
       "    <tr>\n",
       "      <th>14</th>\n",
       "      <td>14</td>\n",
       "      <td>53776.0</td>\n",
       "      <td>53806.0</td>\n",
       "      <td>720</td>\n",
       "      <td>12</td>\n",
       "      <td>0.050</td>\n",
       "      <td>-50-10</td>\n",
       "      <td>forward</td>\n",
       "      <td>2258</td>\n",
       "      <td>1</td>\n",
       "      <td>10</td>\n",
       "      <td>translation</td>\n",
       "      <td>30.0</td>\n",
       "    </tr>\n",
       "    <tr>\n",
       "      <th>15</th>\n",
       "      <td>15</td>\n",
       "      <td>59314.0</td>\n",
       "      <td>59344.0</td>\n",
       "      <td>720</td>\n",
       "      <td>12</td>\n",
       "      <td>0.050</td>\n",
       "      <td>-50-10</td>\n",
       "      <td>forward</td>\n",
       "      <td>2258</td>\n",
       "      <td>1</td>\n",
       "      <td>10</td>\n",
       "      <td>translation</td>\n",
       "      <td>30.0</td>\n",
       "    </tr>\n",
       "    <tr>\n",
       "      <th>16</th>\n",
       "      <td>16</td>\n",
       "      <td>72075.0</td>\n",
       "      <td>72105.0</td>\n",
       "      <td>720</td>\n",
       "      <td>12</td>\n",
       "      <td>0.050</td>\n",
       "      <td>-50-10</td>\n",
       "      <td>forward</td>\n",
       "      <td>2258</td>\n",
       "      <td>1</td>\n",
       "      <td>10</td>\n",
       "      <td>translation</td>\n",
       "      <td>30.0</td>\n",
       "    </tr>\n",
       "    <tr>\n",
       "      <th>17</th>\n",
       "      <td>17</td>\n",
       "      <td>82730.0</td>\n",
       "      <td>82760.0</td>\n",
       "      <td>720</td>\n",
       "      <td>12</td>\n",
       "      <td>0.050</td>\n",
       "      <td>-50-10</td>\n",
       "      <td>forward</td>\n",
       "      <td>2258</td>\n",
       "      <td>1</td>\n",
       "      <td>10</td>\n",
       "      <td>translation</td>\n",
       "      <td>30.0</td>\n",
       "    </tr>\n",
       "    <tr>\n",
       "      <th>18</th>\n",
       "      <td>18</td>\n",
       "      <td>93384.0</td>\n",
       "      <td>93414.0</td>\n",
       "      <td>720</td>\n",
       "      <td>12</td>\n",
       "      <td>0.050</td>\n",
       "      <td>-50-10</td>\n",
       "      <td>forward</td>\n",
       "      <td>2258</td>\n",
       "      <td>1</td>\n",
       "      <td>10</td>\n",
       "      <td>translation</td>\n",
       "      <td>30.0</td>\n",
       "    </tr>\n",
       "    <tr>\n",
       "      <th>19</th>\n",
       "      <td>19</td>\n",
       "      <td>104941.0</td>\n",
       "      <td>104971.0</td>\n",
       "      <td>720</td>\n",
       "      <td>12</td>\n",
       "      <td>0.050</td>\n",
       "      <td>-50-10</td>\n",
       "      <td>forward</td>\n",
       "      <td>2258</td>\n",
       "      <td>1</td>\n",
       "      <td>10</td>\n",
       "      <td>translation</td>\n",
       "      <td>30.0</td>\n",
       "    </tr>\n",
       "    <tr>\n",
       "      <th>40</th>\n",
       "      <td>40</td>\n",
       "      <td>384.0</td>\n",
       "      <td>414.0</td>\n",
       "      <td>2280</td>\n",
       "      <td>38</td>\n",
       "      <td>0.096</td>\n",
       "      <td>-50-10</td>\n",
       "      <td>forward</td>\n",
       "      <td>11882</td>\n",
       "      <td>1</td>\n",
       "      <td>19</td>\n",
       "      <td>translation</td>\n",
       "      <td>30.0</td>\n",
       "    </tr>\n",
       "    <tr>\n",
       "      <th>41</th>\n",
       "      <td>41</td>\n",
       "      <td>14048.0</td>\n",
       "      <td>14078.0</td>\n",
       "      <td>2280</td>\n",
       "      <td>38</td>\n",
       "      <td>0.096</td>\n",
       "      <td>-50-10</td>\n",
       "      <td>forward</td>\n",
       "      <td>11882</td>\n",
       "      <td>1</td>\n",
       "      <td>19</td>\n",
       "      <td>translation</td>\n",
       "      <td>30.0</td>\n",
       "    </tr>\n",
       "    <tr>\n",
       "      <th>42</th>\n",
       "      <td>42</td>\n",
       "      <td>25184.0</td>\n",
       "      <td>25214.0</td>\n",
       "      <td>2280</td>\n",
       "      <td>38</td>\n",
       "      <td>0.096</td>\n",
       "      <td>-50-10</td>\n",
       "      <td>forward</td>\n",
       "      <td>11882</td>\n",
       "      <td>1</td>\n",
       "      <td>19</td>\n",
       "      <td>translation</td>\n",
       "      <td>30.0</td>\n",
       "    </tr>\n",
       "    <tr>\n",
       "      <th>43</th>\n",
       "      <td>43</td>\n",
       "      <td>39630.0</td>\n",
       "      <td>39661.0</td>\n",
       "      <td>2280</td>\n",
       "      <td>38</td>\n",
       "      <td>0.096</td>\n",
       "      <td>-50-10</td>\n",
       "      <td>forward</td>\n",
       "      <td>11882</td>\n",
       "      <td>1</td>\n",
       "      <td>19</td>\n",
       "      <td>translation</td>\n",
       "      <td>31.0</td>\n",
       "    </tr>\n",
       "    <tr>\n",
       "      <th>44</th>\n",
       "      <td>44</td>\n",
       "      <td>45108.0</td>\n",
       "      <td>45138.0</td>\n",
       "      <td>2280</td>\n",
       "      <td>38</td>\n",
       "      <td>0.096</td>\n",
       "      <td>-50-10</td>\n",
       "      <td>forward</td>\n",
       "      <td>11882</td>\n",
       "      <td>1</td>\n",
       "      <td>19</td>\n",
       "      <td>translation</td>\n",
       "      <td>30.0</td>\n",
       "    </tr>\n",
       "    <tr>\n",
       "      <th>45</th>\n",
       "      <td>45</td>\n",
       "      <td>57448.0</td>\n",
       "      <td>57478.0</td>\n",
       "      <td>2280</td>\n",
       "      <td>38</td>\n",
       "      <td>0.096</td>\n",
       "      <td>-50-10</td>\n",
       "      <td>forward</td>\n",
       "      <td>11882</td>\n",
       "      <td>1</td>\n",
       "      <td>19</td>\n",
       "      <td>translation</td>\n",
       "      <td>30.0</td>\n",
       "    </tr>\n",
       "    <tr>\n",
       "      <th>46</th>\n",
       "      <td>46</td>\n",
       "      <td>70330.0</td>\n",
       "      <td>70360.0</td>\n",
       "      <td>2280</td>\n",
       "      <td>38</td>\n",
       "      <td>0.096</td>\n",
       "      <td>-50-10</td>\n",
       "      <td>forward</td>\n",
       "      <td>11882</td>\n",
       "      <td>1</td>\n",
       "      <td>19</td>\n",
       "      <td>translation</td>\n",
       "      <td>30.0</td>\n",
       "    </tr>\n",
       "    <tr>\n",
       "      <th>47</th>\n",
       "      <td>47</td>\n",
       "      <td>77914.0</td>\n",
       "      <td>77944.0</td>\n",
       "      <td>2280</td>\n",
       "      <td>38</td>\n",
       "      <td>0.096</td>\n",
       "      <td>-50-10</td>\n",
       "      <td>forward</td>\n",
       "      <td>11882</td>\n",
       "      <td>1</td>\n",
       "      <td>19</td>\n",
       "      <td>translation</td>\n",
       "      <td>30.0</td>\n",
       "    </tr>\n",
       "    <tr>\n",
       "      <th>48</th>\n",
       "      <td>48</td>\n",
       "      <td>87244.0</td>\n",
       "      <td>87274.0</td>\n",
       "      <td>2280</td>\n",
       "      <td>38</td>\n",
       "      <td>0.096</td>\n",
       "      <td>-50-10</td>\n",
       "      <td>forward</td>\n",
       "      <td>11882</td>\n",
       "      <td>1</td>\n",
       "      <td>19</td>\n",
       "      <td>translation</td>\n",
       "      <td>30.0</td>\n",
       "    </tr>\n",
       "    <tr>\n",
       "      <th>49</th>\n",
       "      <td>49</td>\n",
       "      <td>102413.0</td>\n",
       "      <td>102443.0</td>\n",
       "      <td>2280</td>\n",
       "      <td>38</td>\n",
       "      <td>0.096</td>\n",
       "      <td>-50-10</td>\n",
       "      <td>forward</td>\n",
       "      <td>11882</td>\n",
       "      <td>1</td>\n",
       "      <td>19</td>\n",
       "      <td>translation</td>\n",
       "      <td>30.0</td>\n",
       "    </tr>\n",
       "    <tr>\n",
       "      <th>100</th>\n",
       "      <td>100</td>\n",
       "      <td>745.0</td>\n",
       "      <td>775.0</td>\n",
       "      <td>2460</td>\n",
       "      <td>41</td>\n",
       "      <td>1.000</td>\n",
       "      <td>-50-10</td>\n",
       "      <td>forward</td>\n",
       "      <td>1184</td>\n",
       "      <td>2</td>\n",
       "      <td>199</td>\n",
       "      <td>translation</td>\n",
       "      <td>30.0</td>\n",
       "    </tr>\n",
       "    <tr>\n",
       "      <th>101</th>\n",
       "      <td>101</td>\n",
       "      <td>17298.0</td>\n",
       "      <td>17328.0</td>\n",
       "      <td>2460</td>\n",
       "      <td>41</td>\n",
       "      <td>1.000</td>\n",
       "      <td>-50-10</td>\n",
       "      <td>forward</td>\n",
       "      <td>1184</td>\n",
       "      <td>2</td>\n",
       "      <td>199</td>\n",
       "      <td>translation</td>\n",
       "      <td>30.0</td>\n",
       "    </tr>\n",
       "    <tr>\n",
       "      <th>102</th>\n",
       "      <td>102</td>\n",
       "      <td>31143.0</td>\n",
       "      <td>31173.0</td>\n",
       "      <td>2460</td>\n",
       "      <td>41</td>\n",
       "      <td>1.000</td>\n",
       "      <td>-50-10</td>\n",
       "      <td>forward</td>\n",
       "      <td>1184</td>\n",
       "      <td>2</td>\n",
       "      <td>199</td>\n",
       "      <td>translation</td>\n",
       "      <td>30.0</td>\n",
       "    </tr>\n",
       "    <tr>\n",
       "      <th>103</th>\n",
       "      <td>103</td>\n",
       "      <td>42098.0</td>\n",
       "      <td>42129.0</td>\n",
       "      <td>2460</td>\n",
       "      <td>41</td>\n",
       "      <td>1.000</td>\n",
       "      <td>-50-10</td>\n",
       "      <td>forward</td>\n",
       "      <td>1184</td>\n",
       "      <td>2</td>\n",
       "      <td>199</td>\n",
       "      <td>translation</td>\n",
       "      <td>31.0</td>\n",
       "    </tr>\n",
       "    <tr>\n",
       "      <th>104</th>\n",
       "      <td>104</td>\n",
       "      <td>45469.0</td>\n",
       "      <td>45499.0</td>\n",
       "      <td>2460</td>\n",
       "      <td>41</td>\n",
       "      <td>1.000</td>\n",
       "      <td>-50-10</td>\n",
       "      <td>forward</td>\n",
       "      <td>1184</td>\n",
       "      <td>2</td>\n",
       "      <td>199</td>\n",
       "      <td>translation</td>\n",
       "      <td>30.0</td>\n",
       "    </tr>\n",
       "    <tr>\n",
       "      <th>105</th>\n",
       "      <td>105</td>\n",
       "      <td>57267.0</td>\n",
       "      <td>57298.0</td>\n",
       "      <td>2460</td>\n",
       "      <td>41</td>\n",
       "      <td>1.000</td>\n",
       "      <td>-50-10</td>\n",
       "      <td>forward</td>\n",
       "      <td>1184</td>\n",
       "      <td>2</td>\n",
       "      <td>199</td>\n",
       "      <td>translation</td>\n",
       "      <td>31.0</td>\n",
       "    </tr>\n",
       "    <tr>\n",
       "      <th>106</th>\n",
       "      <td>106</td>\n",
       "      <td>68765.0</td>\n",
       "      <td>68795.0</td>\n",
       "      <td>2460</td>\n",
       "      <td>41</td>\n",
       "      <td>1.000</td>\n",
       "      <td>-50-10</td>\n",
       "      <td>forward</td>\n",
       "      <td>1184</td>\n",
       "      <td>2</td>\n",
       "      <td>199</td>\n",
       "      <td>translation</td>\n",
       "      <td>30.0</td>\n",
       "    </tr>\n",
       "    <tr>\n",
       "      <th>107</th>\n",
       "      <td>107</td>\n",
       "      <td>81526.0</td>\n",
       "      <td>81556.0</td>\n",
       "      <td>2460</td>\n",
       "      <td>41</td>\n",
       "      <td>1.000</td>\n",
       "      <td>-50-10</td>\n",
       "      <td>forward</td>\n",
       "      <td>1184</td>\n",
       "      <td>2</td>\n",
       "      <td>199</td>\n",
       "      <td>translation</td>\n",
       "      <td>30.0</td>\n",
       "    </tr>\n",
       "    <tr>\n",
       "      <th>108</th>\n",
       "      <td>108</td>\n",
       "      <td>87365.0</td>\n",
       "      <td>87395.0</td>\n",
       "      <td>2460</td>\n",
       "      <td>41</td>\n",
       "      <td>1.000</td>\n",
       "      <td>-50-10</td>\n",
       "      <td>forward</td>\n",
       "      <td>1184</td>\n",
       "      <td>2</td>\n",
       "      <td>199</td>\n",
       "      <td>translation</td>\n",
       "      <td>30.0</td>\n",
       "    </tr>\n",
       "    <tr>\n",
       "      <th>109</th>\n",
       "      <td>109</td>\n",
       "      <td>100848.0</td>\n",
       "      <td>100878.0</td>\n",
       "      <td>2460</td>\n",
       "      <td>41</td>\n",
       "      <td>1.000</td>\n",
       "      <td>-50-10</td>\n",
       "      <td>forward</td>\n",
       "      <td>1184</td>\n",
       "      <td>2</td>\n",
       "      <td>199</td>\n",
       "      <td>translation</td>\n",
       "      <td>30.0</td>\n",
       "    </tr>\n",
       "    <tr>\n",
       "      <th>...</th>\n",
       "      <td>...</td>\n",
       "      <td>...</td>\n",
       "      <td>...</td>\n",
       "      <td>...</td>\n",
       "      <td>...</td>\n",
       "      <td>...</td>\n",
       "      <td>...</td>\n",
       "      <td>...</td>\n",
       "      <td>...</td>\n",
       "      <td>...</td>\n",
       "      <td>...</td>\n",
       "      <td>...</td>\n",
       "      <td>...</td>\n",
       "    </tr>\n",
       "    <tr>\n",
       "      <th>1590</th>\n",
       "      <td>1590</td>\n",
       "      <td>9714.0</td>\n",
       "      <td>9744.0</td>\n",
       "      <td>3600</td>\n",
       "      <td>60</td>\n",
       "      <td>0.050</td>\n",
       "      <td>-50-10</td>\n",
       "      <td>forward</td>\n",
       "      <td>11882</td>\n",
       "      <td>1</td>\n",
       "      <td>10</td>\n",
       "      <td>translation</td>\n",
       "      <td>30.0</td>\n",
       "    </tr>\n",
       "    <tr>\n",
       "      <th>1591</th>\n",
       "      <td>1591</td>\n",
       "      <td>14710.0</td>\n",
       "      <td>14740.0</td>\n",
       "      <td>3600</td>\n",
       "      <td>60</td>\n",
       "      <td>0.050</td>\n",
       "      <td>-50-10</td>\n",
       "      <td>forward</td>\n",
       "      <td>11882</td>\n",
       "      <td>1</td>\n",
       "      <td>10</td>\n",
       "      <td>translation</td>\n",
       "      <td>30.0</td>\n",
       "    </tr>\n",
       "    <tr>\n",
       "      <th>1592</th>\n",
       "      <td>1592</td>\n",
       "      <td>32407.0</td>\n",
       "      <td>32437.0</td>\n",
       "      <td>3600</td>\n",
       "      <td>60</td>\n",
       "      <td>0.050</td>\n",
       "      <td>-50-10</td>\n",
       "      <td>forward</td>\n",
       "      <td>11882</td>\n",
       "      <td>1</td>\n",
       "      <td>10</td>\n",
       "      <td>translation</td>\n",
       "      <td>30.0</td>\n",
       "    </tr>\n",
       "    <tr>\n",
       "      <th>1593</th>\n",
       "      <td>1593</td>\n",
       "      <td>33491.0</td>\n",
       "      <td>33521.0</td>\n",
       "      <td>3600</td>\n",
       "      <td>60</td>\n",
       "      <td>0.050</td>\n",
       "      <td>-50-10</td>\n",
       "      <td>forward</td>\n",
       "      <td>11882</td>\n",
       "      <td>1</td>\n",
       "      <td>10</td>\n",
       "      <td>translation</td>\n",
       "      <td>30.0</td>\n",
       "    </tr>\n",
       "    <tr>\n",
       "      <th>1594</th>\n",
       "      <td>1594</td>\n",
       "      <td>47095.0</td>\n",
       "      <td>47125.0</td>\n",
       "      <td>3600</td>\n",
       "      <td>60</td>\n",
       "      <td>0.050</td>\n",
       "      <td>-50-10</td>\n",
       "      <td>forward</td>\n",
       "      <td>11882</td>\n",
       "      <td>1</td>\n",
       "      <td>10</td>\n",
       "      <td>translation</td>\n",
       "      <td>30.0</td>\n",
       "    </tr>\n",
       "    <tr>\n",
       "      <th>1595</th>\n",
       "      <td>1595</td>\n",
       "      <td>59735.0</td>\n",
       "      <td>59766.0</td>\n",
       "      <td>3600</td>\n",
       "      <td>60</td>\n",
       "      <td>0.050</td>\n",
       "      <td>-50-10</td>\n",
       "      <td>forward</td>\n",
       "      <td>11882</td>\n",
       "      <td>1</td>\n",
       "      <td>10</td>\n",
       "      <td>translation</td>\n",
       "      <td>31.0</td>\n",
       "    </tr>\n",
       "    <tr>\n",
       "      <th>1596</th>\n",
       "      <td>1596</td>\n",
       "      <td>72015.0</td>\n",
       "      <td>72045.0</td>\n",
       "      <td>3600</td>\n",
       "      <td>60</td>\n",
       "      <td>0.050</td>\n",
       "      <td>-50-10</td>\n",
       "      <td>forward</td>\n",
       "      <td>11882</td>\n",
       "      <td>1</td>\n",
       "      <td>10</td>\n",
       "      <td>translation</td>\n",
       "      <td>30.0</td>\n",
       "    </tr>\n",
       "    <tr>\n",
       "      <th>1597</th>\n",
       "      <td>1597</td>\n",
       "      <td>76891.0</td>\n",
       "      <td>76921.0</td>\n",
       "      <td>3600</td>\n",
       "      <td>60</td>\n",
       "      <td>0.050</td>\n",
       "      <td>-50-10</td>\n",
       "      <td>forward</td>\n",
       "      <td>11882</td>\n",
       "      <td>1</td>\n",
       "      <td>10</td>\n",
       "      <td>translation</td>\n",
       "      <td>30.0</td>\n",
       "    </tr>\n",
       "    <tr>\n",
       "      <th>1598</th>\n",
       "      <td>1598</td>\n",
       "      <td>87064.0</td>\n",
       "      <td>87094.0</td>\n",
       "      <td>3600</td>\n",
       "      <td>60</td>\n",
       "      <td>0.050</td>\n",
       "      <td>-50-10</td>\n",
       "      <td>forward</td>\n",
       "      <td>11882</td>\n",
       "      <td>1</td>\n",
       "      <td>10</td>\n",
       "      <td>translation</td>\n",
       "      <td>30.0</td>\n",
       "    </tr>\n",
       "    <tr>\n",
       "      <th>1599</th>\n",
       "      <td>1599</td>\n",
       "      <td>106928.0</td>\n",
       "      <td>106958.0</td>\n",
       "      <td>3600</td>\n",
       "      <td>60</td>\n",
       "      <td>0.050</td>\n",
       "      <td>-50-10</td>\n",
       "      <td>forward</td>\n",
       "      <td>11882</td>\n",
       "      <td>1</td>\n",
       "      <td>10</td>\n",
       "      <td>translation</td>\n",
       "      <td>30.0</td>\n",
       "    </tr>\n",
       "    <tr>\n",
       "      <th>1650</th>\n",
       "      <td>1650</td>\n",
       "      <td>10075.0</td>\n",
       "      <td>10105.0</td>\n",
       "      <td>1620</td>\n",
       "      <td>27</td>\n",
       "      <td>2.050</td>\n",
       "      <td>-50-10</td>\n",
       "      <td>forward</td>\n",
       "      <td>485</td>\n",
       "      <td>2</td>\n",
       "      <td>398</td>\n",
       "      <td>translation</td>\n",
       "      <td>30.0</td>\n",
       "    </tr>\n",
       "    <tr>\n",
       "      <th>1651</th>\n",
       "      <td>1651</td>\n",
       "      <td>13085.0</td>\n",
       "      <td>13115.0</td>\n",
       "      <td>1620</td>\n",
       "      <td>27</td>\n",
       "      <td>2.050</td>\n",
       "      <td>-50-10</td>\n",
       "      <td>forward</td>\n",
       "      <td>485</td>\n",
       "      <td>2</td>\n",
       "      <td>398</td>\n",
       "      <td>translation</td>\n",
       "      <td>30.0</td>\n",
       "    </tr>\n",
       "    <tr>\n",
       "      <th>1652</th>\n",
       "      <td>1652</td>\n",
       "      <td>26508.0</td>\n",
       "      <td>26538.0</td>\n",
       "      <td>1620</td>\n",
       "      <td>27</td>\n",
       "      <td>2.050</td>\n",
       "      <td>-50-10</td>\n",
       "      <td>forward</td>\n",
       "      <td>485</td>\n",
       "      <td>2</td>\n",
       "      <td>398</td>\n",
       "      <td>translation</td>\n",
       "      <td>30.0</td>\n",
       "    </tr>\n",
       "    <tr>\n",
       "      <th>1653</th>\n",
       "      <td>1653</td>\n",
       "      <td>34875.0</td>\n",
       "      <td>34905.0</td>\n",
       "      <td>1620</td>\n",
       "      <td>27</td>\n",
       "      <td>2.050</td>\n",
       "      <td>-50-10</td>\n",
       "      <td>forward</td>\n",
       "      <td>485</td>\n",
       "      <td>2</td>\n",
       "      <td>398</td>\n",
       "      <td>translation</td>\n",
       "      <td>30.0</td>\n",
       "    </tr>\n",
       "    <tr>\n",
       "      <th>1654</th>\n",
       "      <td>1654</td>\n",
       "      <td>52933.0</td>\n",
       "      <td>52964.0</td>\n",
       "      <td>1620</td>\n",
       "      <td>27</td>\n",
       "      <td>2.050</td>\n",
       "      <td>-50-10</td>\n",
       "      <td>forward</td>\n",
       "      <td>485</td>\n",
       "      <td>2</td>\n",
       "      <td>398</td>\n",
       "      <td>translation</td>\n",
       "      <td>31.0</td>\n",
       "    </tr>\n",
       "    <tr>\n",
       "      <th>1655</th>\n",
       "      <td>1655</td>\n",
       "      <td>61541.0</td>\n",
       "      <td>61571.0</td>\n",
       "      <td>1620</td>\n",
       "      <td>27</td>\n",
       "      <td>2.050</td>\n",
       "      <td>-50-10</td>\n",
       "      <td>forward</td>\n",
       "      <td>485</td>\n",
       "      <td>2</td>\n",
       "      <td>398</td>\n",
       "      <td>translation</td>\n",
       "      <td>30.0</td>\n",
       "    </tr>\n",
       "    <tr>\n",
       "      <th>1656</th>\n",
       "      <td>1656</td>\n",
       "      <td>73580.0</td>\n",
       "      <td>73610.0</td>\n",
       "      <td>1620</td>\n",
       "      <td>27</td>\n",
       "      <td>2.050</td>\n",
       "      <td>-50-10</td>\n",
       "      <td>forward</td>\n",
       "      <td>485</td>\n",
       "      <td>2</td>\n",
       "      <td>398</td>\n",
       "      <td>translation</td>\n",
       "      <td>30.0</td>\n",
       "    </tr>\n",
       "    <tr>\n",
       "      <th>1657</th>\n",
       "      <td>1657</td>\n",
       "      <td>84596.0</td>\n",
       "      <td>84626.0</td>\n",
       "      <td>1620</td>\n",
       "      <td>27</td>\n",
       "      <td>2.050</td>\n",
       "      <td>-50-10</td>\n",
       "      <td>forward</td>\n",
       "      <td>485</td>\n",
       "      <td>2</td>\n",
       "      <td>398</td>\n",
       "      <td>translation</td>\n",
       "      <td>30.0</td>\n",
       "    </tr>\n",
       "    <tr>\n",
       "      <th>1658</th>\n",
       "      <td>1658</td>\n",
       "      <td>96394.0</td>\n",
       "      <td>96424.0</td>\n",
       "      <td>1620</td>\n",
       "      <td>27</td>\n",
       "      <td>2.050</td>\n",
       "      <td>-50-10</td>\n",
       "      <td>forward</td>\n",
       "      <td>485</td>\n",
       "      <td>2</td>\n",
       "      <td>398</td>\n",
       "      <td>translation</td>\n",
       "      <td>30.0</td>\n",
       "    </tr>\n",
       "    <tr>\n",
       "      <th>1659</th>\n",
       "      <td>1659</td>\n",
       "      <td>103557.0</td>\n",
       "      <td>103587.0</td>\n",
       "      <td>1620</td>\n",
       "      <td>27</td>\n",
       "      <td>2.050</td>\n",
       "      <td>-50-10</td>\n",
       "      <td>forward</td>\n",
       "      <td>485</td>\n",
       "      <td>2</td>\n",
       "      <td>398</td>\n",
       "      <td>translation</td>\n",
       "      <td>30.0</td>\n",
       "    </tr>\n",
       "    <tr>\n",
       "      <th>1730</th>\n",
       "      <td>1730</td>\n",
       "      <td>10557.0</td>\n",
       "      <td>10587.0</td>\n",
       "      <td>4140</td>\n",
       "      <td>69</td>\n",
       "      <td>0.050</td>\n",
       "      <td>-50-10</td>\n",
       "      <td>forward</td>\n",
       "      <td>1184</td>\n",
       "      <td>2</td>\n",
       "      <td>10</td>\n",
       "      <td>translation</td>\n",
       "      <td>30.0</td>\n",
       "    </tr>\n",
       "    <tr>\n",
       "      <th>1731</th>\n",
       "      <td>1731</td>\n",
       "      <td>15553.0</td>\n",
       "      <td>15583.0</td>\n",
       "      <td>4140</td>\n",
       "      <td>69</td>\n",
       "      <td>0.050</td>\n",
       "      <td>-50-10</td>\n",
       "      <td>forward</td>\n",
       "      <td>1184</td>\n",
       "      <td>2</td>\n",
       "      <td>10</td>\n",
       "      <td>translation</td>\n",
       "      <td>30.0</td>\n",
       "    </tr>\n",
       "    <tr>\n",
       "      <th>1732</th>\n",
       "      <td>1732</td>\n",
       "      <td>31263.0</td>\n",
       "      <td>31294.0</td>\n",
       "      <td>4140</td>\n",
       "      <td>69</td>\n",
       "      <td>0.050</td>\n",
       "      <td>-50-10</td>\n",
       "      <td>forward</td>\n",
       "      <td>1184</td>\n",
       "      <td>2</td>\n",
       "      <td>10</td>\n",
       "      <td>translation</td>\n",
       "      <td>31.0</td>\n",
       "    </tr>\n",
       "    <tr>\n",
       "      <th>1733</th>\n",
       "      <td>1733</td>\n",
       "      <td>42881.0</td>\n",
       "      <td>42911.0</td>\n",
       "      <td>4140</td>\n",
       "      <td>69</td>\n",
       "      <td>0.050</td>\n",
       "      <td>-50-10</td>\n",
       "      <td>forward</td>\n",
       "      <td>1184</td>\n",
       "      <td>2</td>\n",
       "      <td>10</td>\n",
       "      <td>translation</td>\n",
       "      <td>30.0</td>\n",
       "    </tr>\n",
       "    <tr>\n",
       "      <th>1734</th>\n",
       "      <td>1734</td>\n",
       "      <td>51007.0</td>\n",
       "      <td>51037.0</td>\n",
       "      <td>4140</td>\n",
       "      <td>69</td>\n",
       "      <td>0.050</td>\n",
       "      <td>-50-10</td>\n",
       "      <td>forward</td>\n",
       "      <td>1184</td>\n",
       "      <td>2</td>\n",
       "      <td>10</td>\n",
       "      <td>translation</td>\n",
       "      <td>30.0</td>\n",
       "    </tr>\n",
       "    <tr>\n",
       "      <th>1735</th>\n",
       "      <td>1735</td>\n",
       "      <td>54378.0</td>\n",
       "      <td>54408.0</td>\n",
       "      <td>4140</td>\n",
       "      <td>69</td>\n",
       "      <td>0.050</td>\n",
       "      <td>-50-10</td>\n",
       "      <td>forward</td>\n",
       "      <td>1184</td>\n",
       "      <td>2</td>\n",
       "      <td>10</td>\n",
       "      <td>translation</td>\n",
       "      <td>30.0</td>\n",
       "    </tr>\n",
       "    <tr>\n",
       "      <th>1736</th>\n",
       "      <td>1736</td>\n",
       "      <td>73761.0</td>\n",
       "      <td>73791.0</td>\n",
       "      <td>4140</td>\n",
       "      <td>69</td>\n",
       "      <td>0.050</td>\n",
       "      <td>-50-10</td>\n",
       "      <td>forward</td>\n",
       "      <td>1184</td>\n",
       "      <td>2</td>\n",
       "      <td>10</td>\n",
       "      <td>translation</td>\n",
       "      <td>30.0</td>\n",
       "    </tr>\n",
       "    <tr>\n",
       "      <th>1737</th>\n",
       "      <td>1737</td>\n",
       "      <td>79058.0</td>\n",
       "      <td>79088.0</td>\n",
       "      <td>4140</td>\n",
       "      <td>69</td>\n",
       "      <td>0.050</td>\n",
       "      <td>-50-10</td>\n",
       "      <td>forward</td>\n",
       "      <td>1184</td>\n",
       "      <td>2</td>\n",
       "      <td>10</td>\n",
       "      <td>translation</td>\n",
       "      <td>30.0</td>\n",
       "    </tr>\n",
       "    <tr>\n",
       "      <th>1738</th>\n",
       "      <td>1738</td>\n",
       "      <td>94949.0</td>\n",
       "      <td>94979.0</td>\n",
       "      <td>4140</td>\n",
       "      <td>69</td>\n",
       "      <td>0.050</td>\n",
       "      <td>-50-10</td>\n",
       "      <td>forward</td>\n",
       "      <td>1184</td>\n",
       "      <td>2</td>\n",
       "      <td>10</td>\n",
       "      <td>translation</td>\n",
       "      <td>30.0</td>\n",
       "    </tr>\n",
       "    <tr>\n",
       "      <th>1739</th>\n",
       "      <td>1739</td>\n",
       "      <td>102112.0</td>\n",
       "      <td>102142.0</td>\n",
       "      <td>4140</td>\n",
       "      <td>69</td>\n",
       "      <td>0.050</td>\n",
       "      <td>-50-10</td>\n",
       "      <td>forward</td>\n",
       "      <td>1184</td>\n",
       "      <td>2</td>\n",
       "      <td>10</td>\n",
       "      <td>translation</td>\n",
       "      <td>30.0</td>\n",
       "    </tr>\n",
       "  </tbody>\n",
       "</table>\n",
       "<p>360 rows × 13 columns</p>\n",
       "</div>"
      ],
      "text/plain": [
       "      Unnamed: 0     start       end  start_frame  condition  approachSpeed  \\\n",
       "10            10     203.0     233.0          720         12          0.050   \n",
       "11            11   15131.0   15161.0          720         12          0.050   \n",
       "12            12   25605.0   25635.0          720         12          0.050   \n",
       "13            13   42339.0   42369.0          720         12          0.050   \n",
       "14            14   53776.0   53806.0          720         12          0.050   \n",
       "15            15   59314.0   59344.0          720         12          0.050   \n",
       "16            16   72075.0   72105.0          720         12          0.050   \n",
       "17            17   82730.0   82760.0          720         12          0.050   \n",
       "18            18   93384.0   93414.0          720         12          0.050   \n",
       "19            19  104941.0  104971.0          720         12          0.050   \n",
       "40            40     384.0     414.0         2280         38          0.096   \n",
       "41            41   14048.0   14078.0         2280         38          0.096   \n",
       "42            42   25184.0   25214.0         2280         38          0.096   \n",
       "43            43   39630.0   39661.0         2280         38          0.096   \n",
       "44            44   45108.0   45138.0         2280         38          0.096   \n",
       "45            45   57448.0   57478.0         2280         38          0.096   \n",
       "46            46   70330.0   70360.0         2280         38          0.096   \n",
       "47            47   77914.0   77944.0         2280         38          0.096   \n",
       "48            48   87244.0   87274.0         2280         38          0.096   \n",
       "49            49  102413.0  102443.0         2280         38          0.096   \n",
       "100          100     745.0     775.0         2460         41          1.000   \n",
       "101          101   17298.0   17328.0         2460         41          1.000   \n",
       "102          102   31143.0   31173.0         2460         41          1.000   \n",
       "103          103   42098.0   42129.0         2460         41          1.000   \n",
       "104          104   45469.0   45499.0         2460         41          1.000   \n",
       "105          105   57267.0   57298.0         2460         41          1.000   \n",
       "106          106   68765.0   68795.0         2460         41          1.000   \n",
       "107          107   81526.0   81556.0         2460         41          1.000   \n",
       "108          108   87365.0   87395.0         2460         41          1.000   \n",
       "109          109  100848.0  100878.0         2460         41          1.000   \n",
       "...          ...       ...       ...          ...        ...            ...   \n",
       "1590        1590    9714.0    9744.0         3600         60          0.050   \n",
       "1591        1591   14710.0   14740.0         3600         60          0.050   \n",
       "1592        1592   32407.0   32437.0         3600         60          0.050   \n",
       "1593        1593   33491.0   33521.0         3600         60          0.050   \n",
       "1594        1594   47095.0   47125.0         3600         60          0.050   \n",
       "1595        1595   59735.0   59766.0         3600         60          0.050   \n",
       "1596        1596   72015.0   72045.0         3600         60          0.050   \n",
       "1597        1597   76891.0   76921.0         3600         60          0.050   \n",
       "1598        1598   87064.0   87094.0         3600         60          0.050   \n",
       "1599        1599  106928.0  106958.0         3600         60          0.050   \n",
       "1650        1650   10075.0   10105.0         1620         27          2.050   \n",
       "1651        1651   13085.0   13115.0         1620         27          2.050   \n",
       "1652        1652   26508.0   26538.0         1620         27          2.050   \n",
       "1653        1653   34875.0   34905.0         1620         27          2.050   \n",
       "1654        1654   52933.0   52964.0         1620         27          2.050   \n",
       "1655        1655   61541.0   61571.0         1620         27          2.050   \n",
       "1656        1656   73580.0   73610.0         1620         27          2.050   \n",
       "1657        1657   84596.0   84626.0         1620         27          2.050   \n",
       "1658        1658   96394.0   96424.0         1620         27          2.050   \n",
       "1659        1659  103557.0  103587.0         1620         27          2.050   \n",
       "1730        1730   10557.0   10587.0         4140         69          0.050   \n",
       "1731        1731   15553.0   15583.0         4140         69          0.050   \n",
       "1732        1732   31263.0   31294.0         4140         69          0.050   \n",
       "1733        1733   42881.0   42911.0         4140         69          0.050   \n",
       "1734        1734   51007.0   51037.0         4140         69          0.050   \n",
       "1735        1735   54378.0   54408.0         4140         69          0.050   \n",
       "1736        1736   73761.0   73791.0         4140         69          0.050   \n",
       "1737        1737   79058.0   79088.0         4140         69          0.050   \n",
       "1738        1738   94949.0   94979.0         4140         69          0.050   \n",
       "1739        1739  102112.0  102142.0         4140         69          0.050   \n",
       "\n",
       "     centerLocation direction  dotNum  dotSize  dotSpeed       motion  \\\n",
       "10           -50-10   forward    2258        1        10  translation   \n",
       "11           -50-10   forward    2258        1        10  translation   \n",
       "12           -50-10   forward    2258        1        10  translation   \n",
       "13           -50-10   forward    2258        1        10  translation   \n",
       "14           -50-10   forward    2258        1        10  translation   \n",
       "15           -50-10   forward    2258        1        10  translation   \n",
       "16           -50-10   forward    2258        1        10  translation   \n",
       "17           -50-10   forward    2258        1        10  translation   \n",
       "18           -50-10   forward    2258        1        10  translation   \n",
       "19           -50-10   forward    2258        1        10  translation   \n",
       "40           -50-10   forward   11882        1        19  translation   \n",
       "41           -50-10   forward   11882        1        19  translation   \n",
       "42           -50-10   forward   11882        1        19  translation   \n",
       "43           -50-10   forward   11882        1        19  translation   \n",
       "44           -50-10   forward   11882        1        19  translation   \n",
       "45           -50-10   forward   11882        1        19  translation   \n",
       "46           -50-10   forward   11882        1        19  translation   \n",
       "47           -50-10   forward   11882        1        19  translation   \n",
       "48           -50-10   forward   11882        1        19  translation   \n",
       "49           -50-10   forward   11882        1        19  translation   \n",
       "100          -50-10   forward    1184        2       199  translation   \n",
       "101          -50-10   forward    1184        2       199  translation   \n",
       "102          -50-10   forward    1184        2       199  translation   \n",
       "103          -50-10   forward    1184        2       199  translation   \n",
       "104          -50-10   forward    1184        2       199  translation   \n",
       "105          -50-10   forward    1184        2       199  translation   \n",
       "106          -50-10   forward    1184        2       199  translation   \n",
       "107          -50-10   forward    1184        2       199  translation   \n",
       "108          -50-10   forward    1184        2       199  translation   \n",
       "109          -50-10   forward    1184        2       199  translation   \n",
       "...             ...       ...     ...      ...       ...          ...   \n",
       "1590         -50-10   forward   11882        1        10  translation   \n",
       "1591         -50-10   forward   11882        1        10  translation   \n",
       "1592         -50-10   forward   11882        1        10  translation   \n",
       "1593         -50-10   forward   11882        1        10  translation   \n",
       "1594         -50-10   forward   11882        1        10  translation   \n",
       "1595         -50-10   forward   11882        1        10  translation   \n",
       "1596         -50-10   forward   11882        1        10  translation   \n",
       "1597         -50-10   forward   11882        1        10  translation   \n",
       "1598         -50-10   forward   11882        1        10  translation   \n",
       "1599         -50-10   forward   11882        1        10  translation   \n",
       "1650         -50-10   forward     485        2       398  translation   \n",
       "1651         -50-10   forward     485        2       398  translation   \n",
       "1652         -50-10   forward     485        2       398  translation   \n",
       "1653         -50-10   forward     485        2       398  translation   \n",
       "1654         -50-10   forward     485        2       398  translation   \n",
       "1655         -50-10   forward     485        2       398  translation   \n",
       "1656         -50-10   forward     485        2       398  translation   \n",
       "1657         -50-10   forward     485        2       398  translation   \n",
       "1658         -50-10   forward     485        2       398  translation   \n",
       "1659         -50-10   forward     485        2       398  translation   \n",
       "1730         -50-10   forward    1184        2        10  translation   \n",
       "1731         -50-10   forward    1184        2        10  translation   \n",
       "1732         -50-10   forward    1184        2        10  translation   \n",
       "1733         -50-10   forward    1184        2        10  translation   \n",
       "1734         -50-10   forward    1184        2        10  translation   \n",
       "1735         -50-10   forward    1184        2        10  translation   \n",
       "1736         -50-10   forward    1184        2        10  translation   \n",
       "1737         -50-10   forward    1184        2        10  translation   \n",
       "1738         -50-10   forward    1184        2        10  translation   \n",
       "1739         -50-10   forward    1184        2        10  translation   \n",
       "\n",
       "      duration  \n",
       "10        30.0  \n",
       "11        30.0  \n",
       "12        30.0  \n",
       "13        30.0  \n",
       "14        30.0  \n",
       "15        30.0  \n",
       "16        30.0  \n",
       "17        30.0  \n",
       "18        30.0  \n",
       "19        30.0  \n",
       "40        30.0  \n",
       "41        30.0  \n",
       "42        30.0  \n",
       "43        31.0  \n",
       "44        30.0  \n",
       "45        30.0  \n",
       "46        30.0  \n",
       "47        30.0  \n",
       "48        30.0  \n",
       "49        30.0  \n",
       "100       30.0  \n",
       "101       30.0  \n",
       "102       30.0  \n",
       "103       31.0  \n",
       "104       30.0  \n",
       "105       31.0  \n",
       "106       30.0  \n",
       "107       30.0  \n",
       "108       30.0  \n",
       "109       30.0  \n",
       "...        ...  \n",
       "1590      30.0  \n",
       "1591      30.0  \n",
       "1592      30.0  \n",
       "1593      30.0  \n",
       "1594      30.0  \n",
       "1595      31.0  \n",
       "1596      30.0  \n",
       "1597      30.0  \n",
       "1598      30.0  \n",
       "1599      30.0  \n",
       "1650      30.0  \n",
       "1651      30.0  \n",
       "1652      30.0  \n",
       "1653      30.0  \n",
       "1654      31.0  \n",
       "1655      30.0  \n",
       "1656      30.0  \n",
       "1657      30.0  \n",
       "1658      30.0  \n",
       "1659      30.0  \n",
       "1730      30.0  \n",
       "1731      30.0  \n",
       "1732      31.0  \n",
       "1733      30.0  \n",
       "1734      30.0  \n",
       "1735      30.0  \n",
       "1736      30.0  \n",
       "1737      30.0  \n",
       "1738      30.0  \n",
       "1739      30.0  \n",
       "\n",
       "[360 rows x 13 columns]"
      ]
     },
     "execution_count": 29,
     "metadata": {},
     "output_type": "execute_result"
    }
   ],
   "source": [
    "forward"
   ]
  },
  {
   "cell_type": "code",
   "execution_count": 75,
   "metadata": {},
   "outputs": [
    {
     "data": {
      "text/plain": [
       "array([12, 38, 41, 66, 47, 49, 18, 24, 34, 29, 31, 35, 46, 45, 25, 53, 64,\n",
       "       32, 71, 36, 50, 11, 48, 26, 63, 16, 39, 62, 44, 30,  4, 40, 52, 60,\n",
       "       27, 69])"
      ]
     },
     "execution_count": 75,
     "metadata": {},
     "output_type": "execute_result"
    }
   ],
   "source": [
    "forward.condition.unique()"
   ]
  },
  {
   "cell_type": "code",
   "execution_count": 76,
   "metadata": {},
   "outputs": [
    {
     "data": {
      "text/plain": [
       "10"
      ]
     },
     "execution_count": 76,
     "metadata": {},
     "output_type": "execute_result"
    }
   ],
   "source": [
    "np.argmax(response[forward.condition.unique(),nc,0])\n",
    "\n",
    "#peak speed for forward, all dotNum and dotSize together\n",
    "#peak speed for forward, peak dotNum and peak dotSize\n",
    "\n"
   ]
  },
  {
   "cell_type": "code",
   "execution_count": 77,
   "metadata": {},
   "outputs": [
    {
     "data": {
      "text/plain": [
       "31"
      ]
     },
     "execution_count": 77,
     "metadata": {},
     "output_type": "execute_result"
    }
   ],
   "source": [
    "forward.condition.unique()[10]"
   ]
  },
  {
   "cell_type": "code",
   "execution_count": 82,
   "metadata": {},
   "outputs": [
    {
     "name": "stdout",
     "output_type": "stream",
     "text": [
      "0.6235237547230943\n",
      "0.36292656108535915\n"
     ]
    }
   ],
   "source": [
    "print(response[31,nc,0])\n",
    "print(response[31,nc,1])"
   ]
  },
  {
   "cell_type": "code",
   "execution_count": 83,
   "metadata": {},
   "outputs": [
    {
     "data": {
      "text/plain": [
       "1.4997997973585493"
      ]
     },
     "execution_count": 83,
     "metadata": {},
     "output_type": "execute_result"
    }
   ],
   "source": [
    "np.trapz(response[forward.condition.unique(),nc,0])"
   ]
  },
  {
   "cell_type": "code",
   "execution_count": 86,
   "metadata": {},
   "outputs": [
    {
     "data": {
      "text/plain": [
       "0.460652543849661"
      ]
     },
     "execution_count": 86,
     "metadata": {},
     "output_type": "execute_result"
    }
   ],
   "source": [
    "np.trapz(response[backward.condition.unique(),nc,0])"
   ]
  },
  {
   "cell_type": "code",
   "execution_count": 87,
   "metadata": {},
   "outputs": [
    {
     "data": {
      "text/plain": [
       "4.060083268632057"
      ]
     },
     "execution_count": 87,
     "metadata": {},
     "output_type": "execute_result"
    }
   ],
   "source": [
    "np.trapz(response[stim_table[stim_table.direction=='right'].condition.unique(),nc,0])"
   ]
  },
  {
   "cell_type": "code",
   "execution_count": 88,
   "metadata": {},
   "outputs": [
    {
     "data": {
      "text/plain": [
       "1.4331331941779264"
      ]
     },
     "execution_count": 88,
     "metadata": {},
     "output_type": "execute_result"
    }
   ],
   "source": [
    "np.trapz(response[stim_table[stim_table.direction=='left'].condition.unique(),nc,0])"
   ]
  },
  {
   "cell_type": "code",
   "execution_count": 105,
   "metadata": {},
   "outputs": [],
   "source": [
    "metrics = pd.DataFrame(columns=('forward','backward','left','right','translation','rotation','right_left','for_back','trans_rot'), index=range(numbercells))\n",
    "for nc in range(numbercells):\n",
    "    forw = np.trapz(response[stim_table[stim_table.direction=='forward'].condition.unique(),nc,0])\n",
    "    back = np.trapz(response[stim_table[stim_table.direction=='backward'].condition.unique(),nc,0])\n",
    "    right = np.trapz(response[stim_table[stim_table.direction=='right'].condition.unique(),nc,0])\n",
    "    left = np.trapz(response[stim_table[stim_table.direction=='left'].condition.unique(),nc,0])\n",
    "    \n",
    "    trans = np.trapz(response[stim_table[stim_table.motion=='translation'].condition.unique(),nc,0])\n",
    "    rot = np.trapz(response[stim_table[stim_table.motion=='rotation'].condition.unique(),nc,0])\n",
    "    \n",
    "    right_left = (right-left)/(right+left)\n",
    "    for_back = (forw-back)/(forw+back)\n",
    "    trans_rot = (trans-rot)/(trans+rot)\n",
    "    \n",
    "    metrics.forward[nc] = forw\n",
    "    metrics.backward[nc] = back\n",
    "    metrics.left[nc] = left\n",
    "    metrics.right[nc] = right\n",
    "    metrics.translation[nc] = trans\n",
    "    metrics.rotation[nc] = rot\n",
    "    metrics.right_left[nc] = right_left\n",
    "    metrics.for_back[nc] = for_back\n",
    "    metrics.trans_rot[nc] = trans_rot"
   ]
  },
  {
   "cell_type": "code",
   "execution_count": null,
   "metadata": {},
   "outputs": [],
   "source": []
  },
  {
   "cell_type": "code",
   "execution_count": 106,
   "metadata": {},
   "outputs": [
    {
     "data": {
      "text/html": [
       "<div>\n",
       "<style scoped>\n",
       "    .dataframe tbody tr th:only-of-type {\n",
       "        vertical-align: middle;\n",
       "    }\n",
       "\n",
       "    .dataframe tbody tr th {\n",
       "        vertical-align: top;\n",
       "    }\n",
       "\n",
       "    .dataframe thead th {\n",
       "        text-align: right;\n",
       "    }\n",
       "</style>\n",
       "<table border=\"1\" class=\"dataframe\">\n",
       "  <thead>\n",
       "    <tr style=\"text-align: right;\">\n",
       "      <th></th>\n",
       "      <th>forward</th>\n",
       "      <th>backward</th>\n",
       "      <th>left</th>\n",
       "      <th>right</th>\n",
       "      <th>translation</th>\n",
       "      <th>rotation</th>\n",
       "      <th>right_left</th>\n",
       "      <th>for_back</th>\n",
       "      <th>trans_rot</th>\n",
       "    </tr>\n",
       "  </thead>\n",
       "  <tbody>\n",
       "    <tr>\n",
       "      <th>0</th>\n",
       "      <td>0.292535</td>\n",
       "      <td>0.389532</td>\n",
       "      <td>0.258921</td>\n",
       "      <td>0.280801</td>\n",
       "      <td>0.687268</td>\n",
       "      <td>0.544797</td>\n",
       "      <td>0.0405398</td>\n",
       "      <td>-0.14221</td>\n",
       "      <td>0.115636</td>\n",
       "    </tr>\n",
       "    <tr>\n",
       "      <th>1</th>\n",
       "      <td>NaN</td>\n",
       "      <td>NaN</td>\n",
       "      <td>NaN</td>\n",
       "      <td>NaN</td>\n",
       "      <td>NaN</td>\n",
       "      <td>NaN</td>\n",
       "      <td>NaN</td>\n",
       "      <td>NaN</td>\n",
       "      <td>NaN</td>\n",
       "    </tr>\n",
       "    <tr>\n",
       "      <th>2</th>\n",
       "      <td>0.180568</td>\n",
       "      <td>0.383162</td>\n",
       "      <td>0.212287</td>\n",
       "      <td>0.233885</td>\n",
       "      <td>0.582368</td>\n",
       "      <td>0.454411</td>\n",
       "      <td>0.0484071</td>\n",
       "      <td>-0.359381</td>\n",
       "      <td>0.123418</td>\n",
       "    </tr>\n",
       "    <tr>\n",
       "      <th>3</th>\n",
       "      <td>0.296949</td>\n",
       "      <td>0.41104</td>\n",
       "      <td>0.484626</td>\n",
       "      <td>0.329988</td>\n",
       "      <td>0.714131</td>\n",
       "      <td>0.812842</td>\n",
       "      <td>-0.189829</td>\n",
       "      <td>-0.161148</td>\n",
       "      <td>-0.0646451</td>\n",
       "    </tr>\n",
       "    <tr>\n",
       "      <th>4</th>\n",
       "      <td>0.277323</td>\n",
       "      <td>0.233455</td>\n",
       "      <td>0.309085</td>\n",
       "      <td>0.318185</td>\n",
       "      <td>0.522872</td>\n",
       "      <td>0.628189</td>\n",
       "      <td>0.0145066</td>\n",
       "      <td>0.0858832</td>\n",
       "      <td>-0.091496</td>\n",
       "    </tr>\n",
       "    <tr>\n",
       "      <th>5</th>\n",
       "      <td>0.178441</td>\n",
       "      <td>0.256862</td>\n",
       "      <td>0.298158</td>\n",
       "      <td>0.294049</td>\n",
       "      <td>0.442491</td>\n",
       "      <td>0.601018</td>\n",
       "      <td>-0.00693902</td>\n",
       "      <td>-0.180153</td>\n",
       "      <td>-0.151917</td>\n",
       "    </tr>\n",
       "    <tr>\n",
       "      <th>6</th>\n",
       "      <td>0.345236</td>\n",
       "      <td>0.266723</td>\n",
       "      <td>0.374352</td>\n",
       "      <td>0.47037</td>\n",
       "      <td>0.615135</td>\n",
       "      <td>0.853464</td>\n",
       "      <td>0.113668</td>\n",
       "      <td>0.128298</td>\n",
       "      <td>-0.162284</td>\n",
       "    </tr>\n",
       "    <tr>\n",
       "      <th>7</th>\n",
       "      <td>0.709526</td>\n",
       "      <td>0.468234</td>\n",
       "      <td>0.824183</td>\n",
       "      <td>0.923002</td>\n",
       "      <td>1.18205</td>\n",
       "      <td>1.75327</td>\n",
       "      <td>0.0565591</td>\n",
       "      <td>0.204873</td>\n",
       "      <td>-0.194601</td>\n",
       "    </tr>\n",
       "    <tr>\n",
       "      <th>8</th>\n",
       "      <td>NaN</td>\n",
       "      <td>NaN</td>\n",
       "      <td>NaN</td>\n",
       "      <td>NaN</td>\n",
       "      <td>NaN</td>\n",
       "      <td>NaN</td>\n",
       "      <td>NaN</td>\n",
       "      <td>NaN</td>\n",
       "      <td>NaN</td>\n",
       "    </tr>\n",
       "    <tr>\n",
       "      <th>9</th>\n",
       "      <td>NaN</td>\n",
       "      <td>NaN</td>\n",
       "      <td>NaN</td>\n",
       "      <td>NaN</td>\n",
       "      <td>NaN</td>\n",
       "      <td>NaN</td>\n",
       "      <td>NaN</td>\n",
       "      <td>NaN</td>\n",
       "      <td>NaN</td>\n",
       "    </tr>\n",
       "    <tr>\n",
       "      <th>10</th>\n",
       "      <td>0.571419</td>\n",
       "      <td>0.365795</td>\n",
       "      <td>0.482881</td>\n",
       "      <td>0.64988</td>\n",
       "      <td>0.972068</td>\n",
       "      <td>1.14645</td>\n",
       "      <td>0.147426</td>\n",
       "      <td>0.2194</td>\n",
       "      <td>-0.0823145</td>\n",
       "    </tr>\n",
       "    <tr>\n",
       "      <th>11</th>\n",
       "      <td>1.4998</td>\n",
       "      <td>0.460653</td>\n",
       "      <td>1.43313</td>\n",
       "      <td>4.06008</td>\n",
       "      <td>2.02036</td>\n",
       "      <td>5.50341</td>\n",
       "      <td>0.478217</td>\n",
       "      <td>0.530055</td>\n",
       "      <td>-0.46294</td>\n",
       "    </tr>\n",
       "    <tr>\n",
       "      <th>12</th>\n",
       "      <td>NaN</td>\n",
       "      <td>NaN</td>\n",
       "      <td>NaN</td>\n",
       "      <td>NaN</td>\n",
       "      <td>NaN</td>\n",
       "      <td>NaN</td>\n",
       "      <td>NaN</td>\n",
       "      <td>NaN</td>\n",
       "      <td>NaN</td>\n",
       "    </tr>\n",
       "    <tr>\n",
       "      <th>13</th>\n",
       "      <td>0.387365</td>\n",
       "      <td>0.690226</td>\n",
       "      <td>0.595902</td>\n",
       "      <td>0.627194</td>\n",
       "      <td>1.09495</td>\n",
       "      <td>1.23571</td>\n",
       "      <td>0.0255842</td>\n",
       "      <td>-0.281054</td>\n",
       "      <td>-0.0603956</td>\n",
       "    </tr>\n",
       "    <tr>\n",
       "      <th>14</th>\n",
       "      <td>0.307912</td>\n",
       "      <td>0.193162</td>\n",
       "      <td>0.366432</td>\n",
       "      <td>0.382673</td>\n",
       "      <td>0.512962</td>\n",
       "      <td>0.759274</td>\n",
       "      <td>0.0216815</td>\n",
       "      <td>0.229007</td>\n",
       "      <td>-0.193605</td>\n",
       "    </tr>\n",
       "    <tr>\n",
       "      <th>15</th>\n",
       "      <td>1.52501</td>\n",
       "      <td>0.331793</td>\n",
       "      <td>0.361192</td>\n",
       "      <td>0.877003</td>\n",
       "      <td>1.9204</td>\n",
       "      <td>1.24674</td>\n",
       "      <td>0.416583</td>\n",
       "      <td>0.642618</td>\n",
       "      <td>0.212705</td>\n",
       "    </tr>\n",
       "    <tr>\n",
       "      <th>16</th>\n",
       "      <td>0.19741</td>\n",
       "      <td>0.738578</td>\n",
       "      <td>0.395497</td>\n",
       "      <td>0.313195</td>\n",
       "      <td>0.939885</td>\n",
       "      <td>0.717177</td>\n",
       "      <td>-0.116133</td>\n",
       "      <td>-0.578178</td>\n",
       "      <td>0.134399</td>\n",
       "    </tr>\n",
       "    <tr>\n",
       "      <th>17</th>\n",
       "      <td>1.45951</td>\n",
       "      <td>0.677668</td>\n",
       "      <td>0.897329</td>\n",
       "      <td>1.32946</td>\n",
       "      <td>2.33644</td>\n",
       "      <td>2.24224</td>\n",
       "      <td>0.194059</td>\n",
       "      <td>0.365829</td>\n",
       "      <td>0.0205729</td>\n",
       "    </tr>\n",
       "    <tr>\n",
       "      <th>18</th>\n",
       "      <td>0.119989</td>\n",
       "      <td>0.218178</td>\n",
       "      <td>0.457892</td>\n",
       "      <td>0.521588</td>\n",
       "      <td>0.345145</td>\n",
       "      <td>0.988416</td>\n",
       "      <td>0.06503</td>\n",
       "      <td>-0.290357</td>\n",
       "      <td>-0.482371</td>\n",
       "    </tr>\n",
       "    <tr>\n",
       "      <th>19</th>\n",
       "      <td>0.469774</td>\n",
       "      <td>0.522524</td>\n",
       "      <td>0.967967</td>\n",
       "      <td>1.08555</td>\n",
       "      <td>1.03037</td>\n",
       "      <td>2.06056</td>\n",
       "      <td>0.057258</td>\n",
       "      <td>-0.053159</td>\n",
       "      <td>-0.333293</td>\n",
       "    </tr>\n",
       "    <tr>\n",
       "      <th>20</th>\n",
       "      <td>0.298524</td>\n",
       "      <td>0.347589</td>\n",
       "      <td>0.52906</td>\n",
       "      <td>0.475783</td>\n",
       "      <td>0.655518</td>\n",
       "      <td>1.01591</td>\n",
       "      <td>-0.0530197</td>\n",
       "      <td>-0.0759392</td>\n",
       "      <td>-0.215619</td>\n",
       "    </tr>\n",
       "    <tr>\n",
       "      <th>21</th>\n",
       "      <td>0.327397</td>\n",
       "      <td>0.360319</td>\n",
       "      <td>0.258173</td>\n",
       "      <td>0.348735</td>\n",
       "      <td>0.699047</td>\n",
       "      <td>0.61329</td>\n",
       "      <td>0.149219</td>\n",
       "      <td>-0.0478708</td>\n",
       "      <td>0.0653471</td>\n",
       "    </tr>\n",
       "    <tr>\n",
       "      <th>22</th>\n",
       "      <td>0.827037</td>\n",
       "      <td>0.832789</td>\n",
       "      <td>0.638703</td>\n",
       "      <td>0.98775</td>\n",
       "      <td>1.69351</td>\n",
       "      <td>1.65093</td>\n",
       "      <td>0.214606</td>\n",
       "      <td>-0.00346509</td>\n",
       "      <td>0.0127324</td>\n",
       "    </tr>\n",
       "    <tr>\n",
       "      <th>23</th>\n",
       "      <td>0.341144</td>\n",
       "      <td>0.588102</td>\n",
       "      <td>0.31774</td>\n",
       "      <td>0.432961</td>\n",
       "      <td>0.93428</td>\n",
       "      <td>0.753419</td>\n",
       "      <td>0.153486</td>\n",
       "      <td>-0.265762</td>\n",
       "      <td>0.107164</td>\n",
       "    </tr>\n",
       "    <tr>\n",
       "      <th>24</th>\n",
       "      <td>0.418795</td>\n",
       "      <td>0.647882</td>\n",
       "      <td>0.835463</td>\n",
       "      <td>0.456499</td>\n",
       "      <td>1.09394</td>\n",
       "      <td>1.33388</td>\n",
       "      <td>-0.293325</td>\n",
       "      <td>-0.214767</td>\n",
       "      <td>-0.0988284</td>\n",
       "    </tr>\n",
       "    <tr>\n",
       "      <th>25</th>\n",
       "      <td>0.17174</td>\n",
       "      <td>0.166093</td>\n",
       "      <td>0.297751</td>\n",
       "      <td>0.882257</td>\n",
       "      <td>0.342304</td>\n",
       "      <td>1.18725</td>\n",
       "      <td>0.495341</td>\n",
       "      <td>0.0167144</td>\n",
       "      <td>-0.552412</td>\n",
       "    </tr>\n",
       "    <tr>\n",
       "      <th>26</th>\n",
       "      <td>0.240186</td>\n",
       "      <td>0.392554</td>\n",
       "      <td>0.276123</td>\n",
       "      <td>0.236827</td>\n",
       "      <td>0.643608</td>\n",
       "      <td>0.515241</td>\n",
       "      <td>-0.0766087</td>\n",
       "      <td>-0.240807</td>\n",
       "      <td>0.110771</td>\n",
       "    </tr>\n",
       "    <tr>\n",
       "      <th>27</th>\n",
       "      <td>0.64809</td>\n",
       "      <td>0.506732</td>\n",
       "      <td>0.351523</td>\n",
       "      <td>0.630928</td>\n",
       "      <td>1.17931</td>\n",
       "      <td>0.989746</td>\n",
       "      <td>0.284396</td>\n",
       "      <td>0.122406</td>\n",
       "      <td>0.0873956</td>\n",
       "    </tr>\n",
       "    <tr>\n",
       "      <th>28</th>\n",
       "      <td>0.156277</td>\n",
       "      <td>0.134766</td>\n",
       "      <td>0.243431</td>\n",
       "      <td>0.169872</td>\n",
       "      <td>0.292341</td>\n",
       "      <td>0.417792</td>\n",
       "      <td>-0.177979</td>\n",
       "      <td>0.0739098</td>\n",
       "      <td>-0.176658</td>\n",
       "    </tr>\n",
       "    <tr>\n",
       "      <th>29</th>\n",
       "      <td>3.92201</td>\n",
       "      <td>1.4552</td>\n",
       "      <td>0.181469</td>\n",
       "      <td>0.442607</td>\n",
       "      <td>5.38687</td>\n",
       "      <td>0.634325</td>\n",
       "      <td>0.418439</td>\n",
       "      <td>0.458753</td>\n",
       "      <td>0.789303</td>\n",
       "    </tr>\n",
       "    <tr>\n",
       "      <th>...</th>\n",
       "      <td>...</td>\n",
       "      <td>...</td>\n",
       "      <td>...</td>\n",
       "      <td>...</td>\n",
       "      <td>...</td>\n",
       "      <td>...</td>\n",
       "      <td>...</td>\n",
       "      <td>...</td>\n",
       "      <td>...</td>\n",
       "    </tr>\n",
       "    <tr>\n",
       "      <th>220</th>\n",
       "      <td>0.268885</td>\n",
       "      <td>0.163185</td>\n",
       "      <td>0.106864</td>\n",
       "      <td>0.0939664</td>\n",
       "      <td>0.424198</td>\n",
       "      <td>0.2022</td>\n",
       "      <td>-0.06422</td>\n",
       "      <td>0.244637</td>\n",
       "      <td>0.354405</td>\n",
       "    </tr>\n",
       "    <tr>\n",
       "      <th>221</th>\n",
       "      <td>1.02978</td>\n",
       "      <td>0.99998</td>\n",
       "      <td>2.33111</td>\n",
       "      <td>1.67413</td>\n",
       "      <td>2.30377</td>\n",
       "      <td>4.03594</td>\n",
       "      <td>-0.16403</td>\n",
       "      <td>0.0146841</td>\n",
       "      <td>-0.273226</td>\n",
       "    </tr>\n",
       "    <tr>\n",
       "      <th>222</th>\n",
       "      <td>0.186505</td>\n",
       "      <td>-0.162201</td>\n",
       "      <td>-0.427242</td>\n",
       "      <td>0.145149</td>\n",
       "      <td>0.0469651</td>\n",
       "      <td>-0.267749</td>\n",
       "      <td>-2.02909</td>\n",
       "      <td>14.3479</td>\n",
       "      <td>-1.42544</td>\n",
       "    </tr>\n",
       "    <tr>\n",
       "      <th>223</th>\n",
       "      <td>0.510003</td>\n",
       "      <td>0.558093</td>\n",
       "      <td>0.567248</td>\n",
       "      <td>0.676397</td>\n",
       "      <td>1.07688</td>\n",
       "      <td>1.24954</td>\n",
       "      <td>0.0877655</td>\n",
       "      <td>-0.045024</td>\n",
       "      <td>-0.0742171</td>\n",
       "    </tr>\n",
       "    <tr>\n",
       "      <th>224</th>\n",
       "      <td>0.221419</td>\n",
       "      <td>0.38197</td>\n",
       "      <td>0.34801</td>\n",
       "      <td>0.236215</td>\n",
       "      <td>0.627298</td>\n",
       "      <td>0.586948</td>\n",
       "      <td>-0.191356</td>\n",
       "      <td>-0.266081</td>\n",
       "      <td>0.0332308</td>\n",
       "    </tr>\n",
       "    <tr>\n",
       "      <th>225</th>\n",
       "      <td>0.236053</td>\n",
       "      <td>0.50533</td>\n",
       "      <td>0.165803</td>\n",
       "      <td>0.202354</td>\n",
       "      <td>0.751603</td>\n",
       "      <td>0.366528</td>\n",
       "      <td>0.0992796</td>\n",
       "      <td>-0.363209</td>\n",
       "      <td>0.344392</td>\n",
       "    </tr>\n",
       "    <tr>\n",
       "      <th>226</th>\n",
       "      <td>NaN</td>\n",
       "      <td>NaN</td>\n",
       "      <td>NaN</td>\n",
       "      <td>NaN</td>\n",
       "      <td>NaN</td>\n",
       "      <td>NaN</td>\n",
       "      <td>NaN</td>\n",
       "      <td>NaN</td>\n",
       "      <td>NaN</td>\n",
       "    </tr>\n",
       "    <tr>\n",
       "      <th>227</th>\n",
       "      <td>NaN</td>\n",
       "      <td>NaN</td>\n",
       "      <td>NaN</td>\n",
       "      <td>NaN</td>\n",
       "      <td>NaN</td>\n",
       "      <td>NaN</td>\n",
       "      <td>NaN</td>\n",
       "      <td>NaN</td>\n",
       "      <td>NaN</td>\n",
       "    </tr>\n",
       "    <tr>\n",
       "      <th>228</th>\n",
       "      <td>NaN</td>\n",
       "      <td>NaN</td>\n",
       "      <td>NaN</td>\n",
       "      <td>NaN</td>\n",
       "      <td>NaN</td>\n",
       "      <td>NaN</td>\n",
       "      <td>NaN</td>\n",
       "      <td>NaN</td>\n",
       "      <td>NaN</td>\n",
       "    </tr>\n",
       "    <tr>\n",
       "      <th>229</th>\n",
       "      <td>7.09234</td>\n",
       "      <td>5.89941</td>\n",
       "      <td>4.72718</td>\n",
       "      <td>6.75675</td>\n",
       "      <td>13.0081</td>\n",
       "      <td>11.737</td>\n",
       "      <td>0.176731</td>\n",
       "      <td>0.0918223</td>\n",
       "      <td>0.0513679</td>\n",
       "    </tr>\n",
       "    <tr>\n",
       "      <th>230</th>\n",
       "      <td>0.367324</td>\n",
       "      <td>0.425564</td>\n",
       "      <td>0.592367</td>\n",
       "      <td>0.207736</td>\n",
       "      <td>0.805907</td>\n",
       "      <td>0.856172</td>\n",
       "      <td>-0.480728</td>\n",
       "      <td>-0.0734524</td>\n",
       "      <td>-0.0302418</td>\n",
       "    </tr>\n",
       "    <tr>\n",
       "      <th>231</th>\n",
       "      <td>0.18831</td>\n",
       "      <td>0.20141</td>\n",
       "      <td>0.300182</td>\n",
       "      <td>0.266838</td>\n",
       "      <td>0.393094</td>\n",
       "      <td>0.576226</td>\n",
       "      <td>-0.058805</td>\n",
       "      <td>-0.033614</td>\n",
       "      <td>-0.188928</td>\n",
       "    </tr>\n",
       "    <tr>\n",
       "      <th>232</th>\n",
       "      <td>NaN</td>\n",
       "      <td>NaN</td>\n",
       "      <td>NaN</td>\n",
       "      <td>NaN</td>\n",
       "      <td>NaN</td>\n",
       "      <td>NaN</td>\n",
       "      <td>NaN</td>\n",
       "      <td>NaN</td>\n",
       "      <td>NaN</td>\n",
       "    </tr>\n",
       "    <tr>\n",
       "      <th>233</th>\n",
       "      <td>4.54005</td>\n",
       "      <td>2.87657</td>\n",
       "      <td>2.39551</td>\n",
       "      <td>3.34922</td>\n",
       "      <td>7.42138</td>\n",
       "      <td>6.0004</td>\n",
       "      <td>0.166015</td>\n",
       "      <td>0.224291</td>\n",
       "      <td>0.105871</td>\n",
       "    </tr>\n",
       "    <tr>\n",
       "      <th>234</th>\n",
       "      <td>0.109993</td>\n",
       "      <td>-0.0156027</td>\n",
       "      <td>-0.0727287</td>\n",
       "      <td>-0.0338088</td>\n",
       "      <td>0.105613</td>\n",
       "      <td>-0.0959738</td>\n",
       "      <td>-0.365316</td>\n",
       "      <td>1.3306</td>\n",
       "      <td>20.913</td>\n",
       "    </tr>\n",
       "    <tr>\n",
       "      <th>235</th>\n",
       "      <td>0.45328</td>\n",
       "      <td>0.450145</td>\n",
       "      <td>0.556049</td>\n",
       "      <td>0.426816</td>\n",
       "      <td>0.927304</td>\n",
       "      <td>0.998981</td>\n",
       "      <td>-0.131486</td>\n",
       "      <td>0.00347076</td>\n",
       "      <td>-0.03721</td>\n",
       "    </tr>\n",
       "    <tr>\n",
       "      <th>236</th>\n",
       "      <td>0.227773</td>\n",
       "      <td>0.212794</td>\n",
       "      <td>0.156935</td>\n",
       "      <td>0.304447</td>\n",
       "      <td>0.450255</td>\n",
       "      <td>0.463745</td>\n",
       "      <td>0.319719</td>\n",
       "      <td>0.0340003</td>\n",
       "      <td>-0.0147588</td>\n",
       "    </tr>\n",
       "    <tr>\n",
       "      <th>237</th>\n",
       "      <td>0.30888</td>\n",
       "      <td>0.40982</td>\n",
       "      <td>0.244738</td>\n",
       "      <td>0.281866</td>\n",
       "      <td>0.726236</td>\n",
       "      <td>0.532655</td>\n",
       "      <td>0.0705049</td>\n",
       "      <td>-0.140448</td>\n",
       "      <td>0.153771</td>\n",
       "    </tr>\n",
       "    <tr>\n",
       "      <th>238</th>\n",
       "      <td>0.790272</td>\n",
       "      <td>0.984802</td>\n",
       "      <td>0.73697</td>\n",
       "      <td>0.547667</td>\n",
       "      <td>1.80091</td>\n",
       "      <td>1.29666</td>\n",
       "      <td>-0.147359</td>\n",
       "      <td>-0.10959</td>\n",
       "      <td>0.162789</td>\n",
       "    </tr>\n",
       "    <tr>\n",
       "      <th>239</th>\n",
       "      <td>0.872179</td>\n",
       "      <td>0.523864</td>\n",
       "      <td>0.572455</td>\n",
       "      <td>0.823834</td>\n",
       "      <td>1.47042</td>\n",
       "      <td>1.41511</td>\n",
       "      <td>0.180033</td>\n",
       "      <td>0.249501</td>\n",
       "      <td>0.0191684</td>\n",
       "    </tr>\n",
       "    <tr>\n",
       "      <th>240</th>\n",
       "      <td>0.806956</td>\n",
       "      <td>1.27566</td>\n",
       "      <td>0.445104</td>\n",
       "      <td>0.403418</td>\n",
       "      <td>2.11238</td>\n",
       "      <td>0.860378</td>\n",
       "      <td>-0.0491282</td>\n",
       "      <td>-0.225055</td>\n",
       "      <td>0.421159</td>\n",
       "    </tr>\n",
       "    <tr>\n",
       "      <th>241</th>\n",
       "      <td>0.626156</td>\n",
       "      <td>0.448135</td>\n",
       "      <td>0.603214</td>\n",
       "      <td>0.60091</td>\n",
       "      <td>1.07557</td>\n",
       "      <td>1.21125</td>\n",
       "      <td>-0.00191364</td>\n",
       "      <td>0.16571</td>\n",
       "      <td>-0.0593306</td>\n",
       "    </tr>\n",
       "    <tr>\n",
       "      <th>242</th>\n",
       "      <td>0.523965</td>\n",
       "      <td>0.574297</td>\n",
       "      <td>0.406956</td>\n",
       "      <td>0.226545</td>\n",
       "      <td>1.11689</td>\n",
       "      <td>0.645037</td>\n",
       "      <td>-0.284785</td>\n",
       "      <td>-0.0458289</td>\n",
       "      <td>0.267805</td>\n",
       "    </tr>\n",
       "    <tr>\n",
       "      <th>243</th>\n",
       "      <td>0.288146</td>\n",
       "      <td>0.284433</td>\n",
       "      <td>0.295693</td>\n",
       "      <td>0.347592</td>\n",
       "      <td>0.580752</td>\n",
       "      <td>0.652668</td>\n",
       "      <td>0.0806784</td>\n",
       "      <td>0.00648547</td>\n",
       "      <td>-0.0583064</td>\n",
       "    </tr>\n",
       "    <tr>\n",
       "      <th>244</th>\n",
       "      <td>0.114777</td>\n",
       "      <td>0.140554</td>\n",
       "      <td>0.252623</td>\n",
       "      <td>1.48884</td>\n",
       "      <td>0.257302</td>\n",
       "      <td>1.74099</td>\n",
       "      <td>0.709871</td>\n",
       "      <td>-0.100954</td>\n",
       "      <td>-0.742477</td>\n",
       "    </tr>\n",
       "    <tr>\n",
       "      <th>245</th>\n",
       "      <td>0.429124</td>\n",
       "      <td>1.24082</td>\n",
       "      <td>0.383421</td>\n",
       "      <td>0.278098</td>\n",
       "      <td>1.68557</td>\n",
       "      <td>0.663491</td>\n",
       "      <td>-0.159214</td>\n",
       "      <td>-0.486062</td>\n",
       "      <td>0.435102</td>\n",
       "    </tr>\n",
       "    <tr>\n",
       "      <th>246</th>\n",
       "      <td>1.87829</td>\n",
       "      <td>1.23116</td>\n",
       "      <td>1.33448</td>\n",
       "      <td>1.22706</td>\n",
       "      <td>3.17955</td>\n",
       "      <td>2.58103</td>\n",
       "      <td>-0.0419332</td>\n",
       "      <td>0.208116</td>\n",
       "      <td>0.103898</td>\n",
       "    </tr>\n",
       "    <tr>\n",
       "      <th>247</th>\n",
       "      <td>0.642741</td>\n",
       "      <td>0.476931</td>\n",
       "      <td>0.576717</td>\n",
       "      <td>0.669536</td>\n",
       "      <td>1.14353</td>\n",
       "      <td>1.25705</td>\n",
       "      <td>0.0744787</td>\n",
       "      <td>0.148088</td>\n",
       "      <td>-0.0472882</td>\n",
       "    </tr>\n",
       "    <tr>\n",
       "      <th>248</th>\n",
       "      <td>NaN</td>\n",
       "      <td>NaN</td>\n",
       "      <td>NaN</td>\n",
       "      <td>NaN</td>\n",
       "      <td>NaN</td>\n",
       "      <td>NaN</td>\n",
       "      <td>NaN</td>\n",
       "      <td>NaN</td>\n",
       "      <td>NaN</td>\n",
       "    </tr>\n",
       "    <tr>\n",
       "      <th>249</th>\n",
       "      <td>0.819814</td>\n",
       "      <td>0.619446</td>\n",
       "      <td>1.00263</td>\n",
       "      <td>0.990548</td>\n",
       "      <td>1.44705</td>\n",
       "      <td>2.00542</td>\n",
       "      <td>-0.00606017</td>\n",
       "      <td>0.139217</td>\n",
       "      <td>-0.161731</td>\n",
       "    </tr>\n",
       "  </tbody>\n",
       "</table>\n",
       "<p>250 rows × 9 columns</p>\n",
       "</div>"
      ],
      "text/plain": [
       "      forward   backward       left      right translation   rotation  \\\n",
       "0    0.292535   0.389532   0.258921   0.280801    0.687268   0.544797   \n",
       "1         NaN        NaN        NaN        NaN         NaN        NaN   \n",
       "2    0.180568   0.383162   0.212287   0.233885    0.582368   0.454411   \n",
       "3    0.296949    0.41104   0.484626   0.329988    0.714131   0.812842   \n",
       "4    0.277323   0.233455   0.309085   0.318185    0.522872   0.628189   \n",
       "5    0.178441   0.256862   0.298158   0.294049    0.442491   0.601018   \n",
       "6    0.345236   0.266723   0.374352    0.47037    0.615135   0.853464   \n",
       "7    0.709526   0.468234   0.824183   0.923002     1.18205    1.75327   \n",
       "8         NaN        NaN        NaN        NaN         NaN        NaN   \n",
       "9         NaN        NaN        NaN        NaN         NaN        NaN   \n",
       "10   0.571419   0.365795   0.482881    0.64988    0.972068    1.14645   \n",
       "11     1.4998   0.460653    1.43313    4.06008     2.02036    5.50341   \n",
       "12        NaN        NaN        NaN        NaN         NaN        NaN   \n",
       "13   0.387365   0.690226   0.595902   0.627194     1.09495    1.23571   \n",
       "14   0.307912   0.193162   0.366432   0.382673    0.512962   0.759274   \n",
       "15    1.52501   0.331793   0.361192   0.877003      1.9204    1.24674   \n",
       "16    0.19741   0.738578   0.395497   0.313195    0.939885   0.717177   \n",
       "17    1.45951   0.677668   0.897329    1.32946     2.33644    2.24224   \n",
       "18   0.119989   0.218178   0.457892   0.521588    0.345145   0.988416   \n",
       "19   0.469774   0.522524   0.967967    1.08555     1.03037    2.06056   \n",
       "20   0.298524   0.347589    0.52906   0.475783    0.655518    1.01591   \n",
       "21   0.327397   0.360319   0.258173   0.348735    0.699047    0.61329   \n",
       "22   0.827037   0.832789   0.638703    0.98775     1.69351    1.65093   \n",
       "23   0.341144   0.588102    0.31774   0.432961     0.93428   0.753419   \n",
       "24   0.418795   0.647882   0.835463   0.456499     1.09394    1.33388   \n",
       "25    0.17174   0.166093   0.297751   0.882257    0.342304    1.18725   \n",
       "26   0.240186   0.392554   0.276123   0.236827    0.643608   0.515241   \n",
       "27    0.64809   0.506732   0.351523   0.630928     1.17931   0.989746   \n",
       "28   0.156277   0.134766   0.243431   0.169872    0.292341   0.417792   \n",
       "29    3.92201     1.4552   0.181469   0.442607     5.38687   0.634325   \n",
       "..        ...        ...        ...        ...         ...        ...   \n",
       "220  0.268885   0.163185   0.106864  0.0939664    0.424198     0.2022   \n",
       "221   1.02978    0.99998    2.33111    1.67413     2.30377    4.03594   \n",
       "222  0.186505  -0.162201  -0.427242   0.145149   0.0469651  -0.267749   \n",
       "223  0.510003   0.558093   0.567248   0.676397     1.07688    1.24954   \n",
       "224  0.221419    0.38197    0.34801   0.236215    0.627298   0.586948   \n",
       "225  0.236053    0.50533   0.165803   0.202354    0.751603   0.366528   \n",
       "226       NaN        NaN        NaN        NaN         NaN        NaN   \n",
       "227       NaN        NaN        NaN        NaN         NaN        NaN   \n",
       "228       NaN        NaN        NaN        NaN         NaN        NaN   \n",
       "229   7.09234    5.89941    4.72718    6.75675     13.0081     11.737   \n",
       "230  0.367324   0.425564   0.592367   0.207736    0.805907   0.856172   \n",
       "231   0.18831    0.20141   0.300182   0.266838    0.393094   0.576226   \n",
       "232       NaN        NaN        NaN        NaN         NaN        NaN   \n",
       "233   4.54005    2.87657    2.39551    3.34922     7.42138     6.0004   \n",
       "234  0.109993 -0.0156027 -0.0727287 -0.0338088    0.105613 -0.0959738   \n",
       "235   0.45328   0.450145   0.556049   0.426816    0.927304   0.998981   \n",
       "236  0.227773   0.212794   0.156935   0.304447    0.450255   0.463745   \n",
       "237   0.30888    0.40982   0.244738   0.281866    0.726236   0.532655   \n",
       "238  0.790272   0.984802    0.73697   0.547667     1.80091    1.29666   \n",
       "239  0.872179   0.523864   0.572455   0.823834     1.47042    1.41511   \n",
       "240  0.806956    1.27566   0.445104   0.403418     2.11238   0.860378   \n",
       "241  0.626156   0.448135   0.603214    0.60091     1.07557    1.21125   \n",
       "242  0.523965   0.574297   0.406956   0.226545     1.11689   0.645037   \n",
       "243  0.288146   0.284433   0.295693   0.347592    0.580752   0.652668   \n",
       "244  0.114777   0.140554   0.252623    1.48884    0.257302    1.74099   \n",
       "245  0.429124    1.24082   0.383421   0.278098     1.68557   0.663491   \n",
       "246   1.87829    1.23116    1.33448    1.22706     3.17955    2.58103   \n",
       "247  0.642741   0.476931   0.576717   0.669536     1.14353    1.25705   \n",
       "248       NaN        NaN        NaN        NaN         NaN        NaN   \n",
       "249  0.819814   0.619446    1.00263   0.990548     1.44705    2.00542   \n",
       "\n",
       "     right_left    for_back  trans_rot  \n",
       "0     0.0405398    -0.14221   0.115636  \n",
       "1           NaN         NaN        NaN  \n",
       "2     0.0484071   -0.359381   0.123418  \n",
       "3     -0.189829   -0.161148 -0.0646451  \n",
       "4     0.0145066   0.0858832  -0.091496  \n",
       "5   -0.00693902   -0.180153  -0.151917  \n",
       "6      0.113668    0.128298  -0.162284  \n",
       "7     0.0565591    0.204873  -0.194601  \n",
       "8           NaN         NaN        NaN  \n",
       "9           NaN         NaN        NaN  \n",
       "10     0.147426      0.2194 -0.0823145  \n",
       "11     0.478217    0.530055   -0.46294  \n",
       "12          NaN         NaN        NaN  \n",
       "13    0.0255842   -0.281054 -0.0603956  \n",
       "14    0.0216815    0.229007  -0.193605  \n",
       "15     0.416583    0.642618   0.212705  \n",
       "16    -0.116133   -0.578178   0.134399  \n",
       "17     0.194059    0.365829  0.0205729  \n",
       "18      0.06503   -0.290357  -0.482371  \n",
       "19     0.057258   -0.053159  -0.333293  \n",
       "20   -0.0530197  -0.0759392  -0.215619  \n",
       "21     0.149219  -0.0478708  0.0653471  \n",
       "22     0.214606 -0.00346509  0.0127324  \n",
       "23     0.153486   -0.265762   0.107164  \n",
       "24    -0.293325   -0.214767 -0.0988284  \n",
       "25     0.495341   0.0167144  -0.552412  \n",
       "26   -0.0766087   -0.240807   0.110771  \n",
       "27     0.284396    0.122406  0.0873956  \n",
       "28    -0.177979   0.0739098  -0.176658  \n",
       "29     0.418439    0.458753   0.789303  \n",
       "..          ...         ...        ...  \n",
       "220    -0.06422    0.244637   0.354405  \n",
       "221    -0.16403   0.0146841  -0.273226  \n",
       "222    -2.02909     14.3479   -1.42544  \n",
       "223   0.0877655   -0.045024 -0.0742171  \n",
       "224   -0.191356   -0.266081  0.0332308  \n",
       "225   0.0992796   -0.363209   0.344392  \n",
       "226         NaN         NaN        NaN  \n",
       "227         NaN         NaN        NaN  \n",
       "228         NaN         NaN        NaN  \n",
       "229    0.176731   0.0918223  0.0513679  \n",
       "230   -0.480728  -0.0734524 -0.0302418  \n",
       "231   -0.058805   -0.033614  -0.188928  \n",
       "232         NaN         NaN        NaN  \n",
       "233    0.166015    0.224291   0.105871  \n",
       "234   -0.365316      1.3306     20.913  \n",
       "235   -0.131486  0.00347076   -0.03721  \n",
       "236    0.319719   0.0340003 -0.0147588  \n",
       "237   0.0705049   -0.140448   0.153771  \n",
       "238   -0.147359    -0.10959   0.162789  \n",
       "239    0.180033    0.249501  0.0191684  \n",
       "240  -0.0491282   -0.225055   0.421159  \n",
       "241 -0.00191364     0.16571 -0.0593306  \n",
       "242   -0.284785  -0.0458289   0.267805  \n",
       "243   0.0806784  0.00648547 -0.0583064  \n",
       "244    0.709871   -0.100954  -0.742477  \n",
       "245   -0.159214   -0.486062   0.435102  \n",
       "246  -0.0419332    0.208116   0.103898  \n",
       "247   0.0744787    0.148088 -0.0472882  \n",
       "248         NaN         NaN        NaN  \n",
       "249 -0.00606017    0.139217  -0.161731  \n",
       "\n",
       "[250 rows x 9 columns]"
      ]
     },
     "execution_count": 106,
     "metadata": {},
     "output_type": "execute_result"
    }
   ],
   "source": [
    "metrics"
   ]
  },
  {
   "cell_type": "code",
   "execution_count": 108,
   "metadata": {},
   "outputs": [
    {
     "data": {
      "image/png": "[encoded data removed]",
      "text/plain": [
       "<Figure size 432x288 with 1 Axes>"
      ]
     },
     "metadata": {
      "needs_background": "light"
     },
     "output_type": "display_data"
    }
   ],
   "source": [
    "plt.hist(metrics.right_left, bins=30);"
   ]
  },
  {
   "cell_type": "code",
   "execution_count": 109,
   "metadata": {},
   "outputs": [
    {
     "data": {
      "image/png": "[encoded data removed]",
      "text/plain": [
       "<Figure size 432x288 with 1 Axes>"
      ]
     },
     "metadata": {
      "needs_background": "light"
     },
     "output_type": "display_data"
    }
   ],
   "source": [
    "plt.hist(metrics.for_back, bins=30);"
   ]
  },
  {
   "cell_type": "code",
   "execution_count": 110,
   "metadata": {},
   "outputs": [
    {
     "data": {
      "image/png": "[encoded data removed]",
      "text/plain": [
       "<Figure size 432x288 with 1 Axes>"
      ]
     },
     "metadata": {
      "needs_background": "light"
     },
     "output_type": "display_data"
    }
   ],
   "source": [
    "plt.hist(metrics.trans_rot, bins=30);"
   ]
  },
  {
   "cell_type": "code",
   "execution_count": 112,
   "metadata": {},
   "outputs": [
    {
     "data": {
      "text/plain": [
       "35"
      ]
     },
     "execution_count": 112,
     "metadata": {},
     "output_type": "execute_result"
    }
   ],
   "source": [
    "len(metrics[np.abs(metrics.trans_rot)>0.4])"
   ]
  },
  {
   "cell_type": "code",
   "execution_count": 114,
   "metadata": {},
   "outputs": [
    {
     "data": {
      "text/plain": [
       "37"
      ]
     },
     "execution_count": 114,
     "metadata": {},
     "output_type": "execute_result"
    }
   ],
   "source": [
    "len(metrics[np.abs(metrics.right_left)>0.4])"
   ]
  },
  {
   "cell_type": "code",
   "execution_count": 115,
   "metadata": {},
   "outputs": [
    {
     "data": {
      "text/plain": [
       "35"
      ]
     },
     "execution_count": 115,
     "metadata": {},
     "output_type": "execute_result"
    }
   ],
   "source": [
    "len(metrics[np.abs(metrics.trans_rot)>0.4])"
   ]
  },
  {
   "cell_type": "code",
   "execution_count": 120,
   "metadata": {},
   "outputs": [],
   "source": [
    "dot_expts = [925811299, 924800954, 924798910, 924134723, 924123771, 924113131, 924105376]"
   ]
  },
  {
   "cell_type": "code",
   "execution_count": null,
   "metadata": {},
   "outputs": [],
   "source": [
    "925819695"
   ]
  },
  {
   "cell_type": "code",
   "execution_count": 196,
   "metadata": {},
   "outputs": [],
   "source": [
    "dot_expts = [925172886, 925166866, 924667518, 924496653, 923803144, 923685768, 923531162,923201739]"
   ]
  },
  {
   "cell_type": "code",
   "execution_count": 125,
   "metadata": {},
   "outputs": [
    {
     "name": "stderr",
     "output_type": "stream",
     "text": [
      "/Users/saskiad/anaconda3/lib/python3.7/site-packages/ipykernel_launcher.py:25: SettingWithCopyWarning: \n",
      "A value is trying to be set on a copy of a slice from a DataFrame\n",
      "\n",
      "See the caveats in the documentation: http://pandas.pydata.org/pandas-docs/stable/indexing.html#indexing-view-versus-copy\n",
      "/Users/saskiad/anaconda3/lib/python3.7/site-packages/ipykernel_launcher.py:26: SettingWithCopyWarning: \n",
      "A value is trying to be set on a copy of a slice from a DataFrame\n",
      "\n",
      "See the caveats in the documentation: http://pandas.pydata.org/pandas-docs/stable/indexing.html#indexing-view-versus-copy\n",
      "/Users/saskiad/anaconda3/lib/python3.7/site-packages/ipykernel_launcher.py:27: SettingWithCopyWarning: \n",
      "A value is trying to be set on a copy of a slice from a DataFrame\n",
      "\n",
      "See the caveats in the documentation: http://pandas.pydata.org/pandas-docs/stable/indexing.html#indexing-view-versus-copy\n",
      "/Users/saskiad/anaconda3/lib/python3.7/site-packages/ipykernel_launcher.py:28: SettingWithCopyWarning: \n",
      "A value is trying to be set on a copy of a slice from a DataFrame\n",
      "\n",
      "See the caveats in the documentation: http://pandas.pydata.org/pandas-docs/stable/indexing.html#indexing-view-versus-copy\n",
      "/Users/saskiad/anaconda3/lib/python3.7/site-packages/ipykernel_launcher.py:29: SettingWithCopyWarning: \n",
      "A value is trying to be set on a copy of a slice from a DataFrame\n",
      "\n",
      "See the caveats in the documentation: http://pandas.pydata.org/pandas-docs/stable/indexing.html#indexing-view-versus-copy\n",
      "/Users/saskiad/anaconda3/lib/python3.7/site-packages/ipykernel_launcher.py:30: SettingWithCopyWarning: \n",
      "A value is trying to be set on a copy of a slice from a DataFrame\n",
      "\n",
      "See the caveats in the documentation: http://pandas.pydata.org/pandas-docs/stable/indexing.html#indexing-view-versus-copy\n",
      "/Users/saskiad/anaconda3/lib/python3.7/site-packages/ipykernel_launcher.py:31: SettingWithCopyWarning: \n",
      "A value is trying to be set on a copy of a slice from a DataFrame\n",
      "\n",
      "See the caveats in the documentation: http://pandas.pydata.org/pandas-docs/stable/indexing.html#indexing-view-versus-copy\n",
      "/Users/saskiad/anaconda3/lib/python3.7/site-packages/ipykernel_launcher.py:32: SettingWithCopyWarning: \n",
      "A value is trying to be set on a copy of a slice from a DataFrame\n",
      "\n",
      "See the caveats in the documentation: http://pandas.pydata.org/pandas-docs/stable/indexing.html#indexing-view-versus-copy\n",
      "/Users/saskiad/anaconda3/lib/python3.7/site-packages/ipykernel_launcher.py:33: SettingWithCopyWarning: \n",
      "A value is trying to be set on a copy of a slice from a DataFrame\n",
      "\n",
      "See the caveats in the documentation: http://pandas.pydata.org/pandas-docs/stable/indexing.html#indexing-view-versus-copy\n"
     ]
    }
   ],
   "source": [
    "for expt in dot_expts:\n",
    "    filename = os.path.join(r'/Users/saskiad/Dropbox/Openscope Motion/analysis_files', str(expt)+'_analysis.h5')\n",
    "    f = h5py.File(filename, 'r')\n",
    "    response = f['response'][()]\n",
    "    f.close()\n",
    "    stim_table = pd.read_hdf(filename, 'stim_table')\n",
    "    stim_table.rename(columns={'Unnamed: 0.1':'condition'}, inplace=True)\n",
    "    numbercells = response.shape[1]\n",
    "    \n",
    "    metrics = pd.DataFrame(columns=('expt_id','forward','backward','left','right','translation','rotation','right_left','for_back','trans_rot'), index=range(numbercells))\n",
    "    metrics['expt_id'] = expt\n",
    "    for nc in range(numbercells):\n",
    "        forw = np.trapz(response[stim_table[stim_table.direction=='forward'].condition.unique(),nc,0])\n",
    "        back = np.trapz(response[stim_table[stim_table.direction=='backward'].condition.unique(),nc,0])\n",
    "        right = np.trapz(response[stim_table[stim_table.direction=='right'].condition.unique(),nc,0])\n",
    "        left = np.trapz(response[stim_table[stim_table.direction=='left'].condition.unique(),nc,0])\n",
    "\n",
    "        trans = np.trapz(response[stim_table[stim_table.motion=='translation'].condition.unique(),nc,0])\n",
    "        rot = np.trapz(response[stim_table[stim_table.motion=='rotation'].condition.unique(),nc,0])\n",
    "\n",
    "        right_left = (right-left)/(right+left)\n",
    "        for_back = (forw-back)/(forw+back)\n",
    "        trans_rot = (trans-rot)/(trans+rot)\n",
    "\n",
    "        metrics.forward[nc] = forw\n",
    "        metrics.backward[nc] = back\n",
    "        metrics.left[nc] = left\n",
    "        metrics.right[nc] = right\n",
    "        metrics.translation[nc] = trans\n",
    "        metrics.rotation[nc] = rot\n",
    "        metrics.right_left[nc] = right_left\n",
    "        metrics.for_back[nc] = for_back\n",
    "        metrics.trans_rot[nc] = trans_rot\n",
    "    metrics.to_csv(os.path.join(r'/Users/saskiad/Dropbox/Openscope Motion/metrics',str(expt)+'_dot.csv'))"
   ]
  },
  {
   "cell_type": "code",
   "execution_count": 4,
   "metadata": {},
   "outputs": [],
   "source": [
    "metrics_all = pd.DataFrame(columns=('Unnamed: 0','expt_id','forward','backward','left','right','translation','rotation','right_left','for_back','trans_rot'))\n",
    "for expt in dot_expts:\n",
    "    metrics = pd.read_csv(os.path.join(r'/Users/saskiad/Dropbox/Openscope Motion/metrics',str(expt)+'_dot.csv'))\n",
    "    metrics_all = metrics_all.append(metrics)\n",
    "    del(metrics)"
   ]
  },
  {
   "cell_type": "code",
   "execution_count": 81,
   "metadata": {},
   "outputs": [
    {
     "data": {
      "text/html": [
       "<div>\n",
       "<style scoped>\n",
       "    .dataframe tbody tr th:only-of-type {\n",
       "        vertical-align: middle;\n",
       "    }\n",
       "\n",
       "    .dataframe tbody tr th {\n",
       "        vertical-align: top;\n",
       "    }\n",
       "\n",
       "    .dataframe thead th {\n",
       "        text-align: right;\n",
       "    }\n",
       "</style>\n",
       "<table border=\"1\" class=\"dataframe\">\n",
       "  <thead>\n",
       "    <tr style=\"text-align: right;\">\n",
       "      <th></th>\n",
       "      <th>Unnamed: 0</th>\n",
       "      <th>expt_id</th>\n",
       "      <th>forward</th>\n",
       "      <th>backward</th>\n",
       "      <th>left</th>\n",
       "      <th>right</th>\n",
       "      <th>translation</th>\n",
       "      <th>rotation</th>\n",
       "      <th>right_left</th>\n",
       "      <th>for_back</th>\n",
       "      <th>trans_rot</th>\n",
       "    </tr>\n",
       "  </thead>\n",
       "  <tbody>\n",
       "    <tr>\n",
       "      <th>0</th>\n",
       "      <td>0</td>\n",
       "      <td>925172886</td>\n",
       "      <td>0.254571</td>\n",
       "      <td>0.857128</td>\n",
       "      <td>0.919765</td>\n",
       "      <td>1.163814</td>\n",
       "      <td>1.117784</td>\n",
       "      <td>2.084889</td>\n",
       "      <td>0.117130</td>\n",
       "      <td>-0.542014</td>\n",
       "      <td>-0.301968</td>\n",
       "    </tr>\n",
       "    <tr>\n",
       "      <th>1</th>\n",
       "      <td>1</td>\n",
       "      <td>925172886</td>\n",
       "      <td>0.354203</td>\n",
       "      <td>0.029150</td>\n",
       "      <td>0.129619</td>\n",
       "      <td>3.484221</td>\n",
       "      <td>0.388913</td>\n",
       "      <td>3.615734</td>\n",
       "      <td>0.928265</td>\n",
       "      <td>0.847921</td>\n",
       "      <td>-0.805769</td>\n",
       "    </tr>\n",
       "    <tr>\n",
       "      <th>2</th>\n",
       "      <td>2</td>\n",
       "      <td>925172886</td>\n",
       "      <td>NaN</td>\n",
       "      <td>NaN</td>\n",
       "      <td>NaN</td>\n",
       "      <td>NaN</td>\n",
       "      <td>NaN</td>\n",
       "      <td>NaN</td>\n",
       "      <td>NaN</td>\n",
       "      <td>NaN</td>\n",
       "      <td>NaN</td>\n",
       "    </tr>\n",
       "    <tr>\n",
       "      <th>3</th>\n",
       "      <td>3</td>\n",
       "      <td>925172886</td>\n",
       "      <td>0.251521</td>\n",
       "      <td>0.393233</td>\n",
       "      <td>0.714195</td>\n",
       "      <td>1.119500</td>\n",
       "      <td>0.644646</td>\n",
       "      <td>1.849131</td>\n",
       "      <td>0.221032</td>\n",
       "      <td>-0.219793</td>\n",
       "      <td>-0.482996</td>\n",
       "    </tr>\n",
       "    <tr>\n",
       "      <th>4</th>\n",
       "      <td>4</td>\n",
       "      <td>925172886</td>\n",
       "      <td>0.211861</td>\n",
       "      <td>0.252659</td>\n",
       "      <td>0.703386</td>\n",
       "      <td>0.495186</td>\n",
       "      <td>0.468264</td>\n",
       "      <td>1.246696</td>\n",
       "      <td>-0.173707</td>\n",
       "      <td>-0.087829</td>\n",
       "      <td>-0.453907</td>\n",
       "    </tr>\n",
       "  </tbody>\n",
       "</table>\n",
       "</div>"
      ],
      "text/plain": [
       "  Unnamed: 0    expt_id   forward  backward      left     right  translation  \\\n",
       "0          0  925172886  0.254571  0.857128  0.919765  1.163814     1.117784   \n",
       "1          1  925172886  0.354203  0.029150  0.129619  3.484221     0.388913   \n",
       "2          2  925172886       NaN       NaN       NaN       NaN          NaN   \n",
       "3          3  925172886  0.251521  0.393233  0.714195  1.119500     0.644646   \n",
       "4          4  925172886  0.211861  0.252659  0.703386  0.495186     0.468264   \n",
       "\n",
       "   rotation  right_left  for_back  trans_rot  \n",
       "0  2.084889    0.117130 -0.542014  -0.301968  \n",
       "1  3.615734    0.928265  0.847921  -0.805769  \n",
       "2       NaN         NaN       NaN        NaN  \n",
       "3  1.849131    0.221032 -0.219793  -0.482996  \n",
       "4  1.246696   -0.173707 -0.087829  -0.453907  "
      ]
     },
     "execution_count": 81,
     "metadata": {},
     "output_type": "execute_result"
    }
   ],
   "source": [
    "metrics_all.head()"
   ]
  },
  {
   "cell_type": "code",
   "execution_count": 140,
   "metadata": {},
   "outputs": [
    {
     "data": {
      "image/png": "[encoded data removed]",
      "text/plain": [
       "<Figure size 432x288 with 1 Axes>"
      ]
     },
     "metadata": {
      "needs_background": "light"
     },
     "output_type": "display_data"
    }
   ],
   "source": [
    "plt.hist(metrics_all.right_left, bins=40, range=(-2,2));"
   ]
  },
  {
   "cell_type": "code",
   "execution_count": 141,
   "metadata": {},
   "outputs": [
    {
     "name": "stderr",
     "output_type": "stream",
     "text": [
      "/Users/saskiad/anaconda3/lib/python3.7/site-packages/numpy/lib/histograms.py:824: RuntimeWarning: invalid value encountered in greater_equal\n",
      "  keep = (tmp_a >= first_edge)\n",
      "/Users/saskiad/anaconda3/lib/python3.7/site-packages/numpy/lib/histograms.py:825: RuntimeWarning: invalid value encountered in less_equal\n",
      "  keep &= (tmp_a <= last_edge)\n"
     ]
    },
    {
     "data": {
      "image/png": "[encoded data removed]",
      "text/plain": [
       "<Figure size 432x288 with 1 Axes>"
      ]
     },
     "metadata": {
      "needs_background": "light"
     },
     "output_type": "display_data"
    }
   ],
   "source": [
    "plt.hist(metrics_all.for_back, bins=40, range=(-2,2));"
   ]
  },
  {
   "cell_type": "code",
   "execution_count": 142,
   "metadata": {},
   "outputs": [
    {
     "name": "stderr",
     "output_type": "stream",
     "text": [
      "/Users/saskiad/anaconda3/lib/python3.7/site-packages/numpy/lib/histograms.py:824: RuntimeWarning: invalid value encountered in greater_equal\n",
      "  keep = (tmp_a >= first_edge)\n",
      "/Users/saskiad/anaconda3/lib/python3.7/site-packages/numpy/lib/histograms.py:825: RuntimeWarning: invalid value encountered in less_equal\n",
      "  keep &= (tmp_a <= last_edge)\n"
     ]
    },
    {
     "data": {
      "image/png": "[encoded data removed]",
      "text/plain": [
       "<Figure size 432x288 with 1 Axes>"
      ]
     },
     "metadata": {
      "needs_background": "light"
     },
     "output_type": "display_data"
    }
   ],
   "source": [
    "plt.hist(metrics_all.trans_rot, bins=40, range=(-2,2));"
   ]
  },
  {
   "cell_type": "code",
   "execution_count": 143,
   "metadata": {},
   "outputs": [
    {
     "data": {
      "text/plain": [
       "283"
      ]
     },
     "execution_count": 143,
     "metadata": {},
     "output_type": "execute_result"
    }
   ],
   "source": [
    "len(metrics_all[np.abs(metrics_all.trans_rot)>0.4])"
   ]
  },
  {
   "cell_type": "code",
   "execution_count": 144,
   "metadata": {},
   "outputs": [
    {
     "data": {
      "text/plain": [
       "262"
      ]
     },
     "execution_count": 144,
     "metadata": {},
     "output_type": "execute_result"
    }
   ],
   "source": [
    "len(metrics_all[np.abs(metrics_all.right_left)>0.4])"
   ]
  },
  {
   "cell_type": "code",
   "execution_count": 145,
   "metadata": {},
   "outputs": [
    {
     "data": {
      "text/plain": [
       "285"
      ]
     },
     "execution_count": 145,
     "metadata": {},
     "output_type": "execute_result"
    }
   ],
   "source": [
    "len(metrics_all[np.abs(metrics_all.for_back)>0.4])"
   ]
  },
  {
   "cell_type": "code",
   "execution_count": 150,
   "metadata": {},
   "outputs": [
    {
     "data": {
      "text/plain": [
       "1372"
      ]
     },
     "execution_count": 150,
     "metadata": {},
     "output_type": "execute_result"
    }
   ],
   "source": [
    "len(metrics_all[np.isfinite(metrics_all.forward)])"
   ]
  },
  {
   "cell_type": "code",
   "execution_count": 158,
   "metadata": {},
   "outputs": [
    {
     "data": {
      "text/plain": [
       "0.20626822157434402"
      ]
     },
     "execution_count": 158,
     "metadata": {},
     "output_type": "execute_result"
    }
   ],
   "source": [
    "283/1372."
   ]
  },
  {
   "cell_type": "code",
   "execution_count": 153,
   "metadata": {},
   "outputs": [
    {
     "data": {
      "text/plain": [
       "(-3, 3)"
      ]
     },
     "execution_count": 153,
     "metadata": {},
     "output_type": "execute_result"
    },
    {
     "data": {
      "image/png": "[encoded data removed]",
      "text/plain": [
       "<Figure size 432x288 with 1 Axes>"
      ]
     },
     "metadata": {
      "needs_background": "light"
     },
     "output_type": "display_data"
    }
   ],
   "source": [
    "plt.plot(metrics_all.right_left, metrics_all.for_back, '.')\n",
    "plt.xlim(-3,3)\n",
    "plt.ylim(-3,3)"
   ]
  },
  {
   "cell_type": "code",
   "execution_count": 154,
   "metadata": {},
   "outputs": [],
   "source": [
    "import scipy.stats as st"
   ]
  },
  {
   "cell_type": "code",
   "execution_count": 156,
   "metadata": {},
   "outputs": [
    {
     "data": {
      "text/plain": [
       "(0.05702697313908042, 0.034677678005647576)"
      ]
     },
     "execution_count": 156,
     "metadata": {},
     "output_type": "execute_result"
    }
   ],
   "source": [
    "st.pearsonr(metrics_all.right_left.dropna(), metrics_all.for_back.dropna())"
   ]
  },
  {
   "cell_type": "code",
   "execution_count": 197,
   "metadata": {},
   "outputs": [],
   "source": [
    "dot_areas = ['VISl', 'VISal', 'VISpm', 'VISam', 'VISpm', 'VISam', 'VISl','VISal']"
   ]
  },
  {
   "cell_type": "code",
   "execution_count": 199,
   "metadata": {},
   "outputs": [
    {
     "name": "stderr",
     "output_type": "stream",
     "text": [
      "/Users/saskiad/anaconda2/lib/python2.7/site-packages/ipykernel_launcher.py:3: DeprecationWarning: \n",
      ".ix is deprecated. Please use\n",
      ".loc for label based indexing or\n",
      ".iloc for positional indexing\n",
      "\n",
      "See the documentation here:\n",
      "http://pandas.pydata.org/pandas-docs/stable/indexing.html#ix-indexer-is-deprecated\n",
      "  This is separate from the ipykernel package so we can avoid doing imports until\n"
     ]
    }
   ],
   "source": [
    "metrics_all['area'] = np.NaN\n",
    "for i,expt in enumerate(dot_expts):\n",
    "    metrics_all.ix[metrics_all.session_id==expt, 'area']=dot_areas[i]"
   ]
  },
  {
   "cell_type": "code",
   "execution_count": 176,
   "metadata": {},
   "outputs": [
    {
     "name": "stdout",
     "output_type": "stream",
     "text": [
      "VISl 333\n",
      "26.726726726726728\n",
      "28.22822822822823\n",
      "28.82882882882883\n",
      "VISal 334\n",
      "19.161676646706585\n",
      "14.071856287425149\n",
      "17.365269461077844\n",
      "VISpm 408\n",
      "16.91176470588235\n",
      "21.323529411764707\n",
      "18.38235294117647\n",
      "VISam 297\n",
      "20.53872053872054\n",
      "11.447811447811448\n",
      "18.855218855218855\n"
     ]
    }
   ],
   "source": [
    "for a in metrics_all.area.unique():\n",
    "    temp = metrics_all[(metrics_all.area==a)&np.isfinite(metrics_all.forward)]\n",
    "    print(a, len(temp))\n",
    "    print(100*len(temp[np.abs(temp.trans_rot)>0.4])/float(len(temp)))\n",
    "    print(100*len(temp[np.abs(temp.right_left)>0.4])/float(len(temp)))\n",
    "    print(100*len(temp[np.abs(temp.for_back)>0.4])/float(len(temp)))"
   ]
  },
  {
   "cell_type": "code",
   "execution_count": 184,
   "metadata": {},
   "outputs": [
    {
     "data": {
      "text/plain": [
       "Text(0, 0.5, 'Percent of neurons (all ROIS)')"
      ]
     },
     "execution_count": 184,
     "metadata": {},
     "output_type": "execute_result"
    },
    {
     "data": {
      "image/png": "[encoded data removed]",
      "text/plain": [
       "<Figure size 432x288 with 1 Axes>"
      ]
     },
     "metadata": {
      "needs_background": "light"
     },
     "output_type": "display_data"
    }
   ],
   "source": [
    "plt.bar(np.arange(0,4,1.), [26.73,19.16,16.91,20.54], width=0.2, label='trans_rot')\n",
    "plt.bar(np.arange(0.25,4,1.), [28.23,14.07,21.32,11.45], width=0.2, label='right_left')\n",
    "plt.bar(np.arange(0.5,4,1.), [28.83,17.37,18.38,18.86], width=0.2, label='for_back')\n",
    "plt.legend()\n",
    "plt.xticks(np.arange(0.25, 4, 1.), ['LM','AL','PM','AM'])\n",
    "plt.ylabel(\"Percent of neurons (all ROIS)\" )"
   ]
  },
  {
   "cell_type": "code",
   "execution_count": 194,
   "metadata": {},
   "outputs": [
    {
     "name": "stdout",
     "output_type": "stream",
     "text": [
      "VISl 333 neurons\n",
      "translation: 3.0\n",
      "rotation: 23.72\n",
      "right: 16.82\n",
      "left: 11.41\n",
      "forward: 15.32\n",
      "backward: 13.51\n",
      "\n",
      "VISal 334 neurons\n",
      "translation: 10.78\n",
      "rotation: 8.38\n",
      "right: 7.49\n",
      "left: 6.59\n",
      "forward: 6.89\n",
      "backward: 10.48\n",
      "\n",
      "VISpm 408 neurons\n",
      "translation: 8.82\n",
      "rotation: 8.09\n",
      "right: 17.16\n",
      "left: 4.17\n",
      "forward: 14.46\n",
      "backward: 3.92\n",
      "\n",
      "VISam 297 neurons\n",
      "translation: 5.05\n",
      "rotation: 15.49\n",
      "right: 8.08\n",
      "left: 3.37\n",
      "forward: 9.76\n",
      "backward: 9.09\n",
      "\n"
     ]
    }
   ],
   "source": [
    "for a in metrics_all.area.unique():\n",
    "    temp = metrics_all[(metrics_all.area==a)&np.isfinite(metrics_all.forward)]\n",
    "    print(a, len(temp), 'neurons')\n",
    "    print('translation:', np.round(100*len(temp[temp.trans_rot>0.4])/float(len(temp)), 2))\n",
    "    print('rotation:', np.round(100*len(temp[temp.trans_rot<-0.4])/float(len(temp)),2))\n",
    "    print('right:', np.round(100*len(temp[temp.right_left>0.4])/float(len(temp)),2))\n",
    "    print('left:', np.round(100*len(temp[temp.right_left<-0.4])/float(len(temp)),2))\n",
    "    print('forward:', np.round(100*len(temp[temp.for_back>0.4])/float(len(temp)),2))\n",
    "    print('backward:', np.round(100*len(temp[temp.for_back<-0.4])/float(len(temp)),2))\n",
    "    print()"
   ]
  },
  {
   "cell_type": "code",
   "execution_count": 311,
   "metadata": {},
   "outputs": [],
   "source": [
    "areas = ['VISl','VISal','VISpm','VISam']"
   ]
  },
  {
   "cell_type": "code",
   "execution_count": 196,
   "metadata": {},
   "outputs": [],
   "source": [
    "a = 'VISl'"
   ]
  },
  {
   "cell_type": "code",
   "execution_count": 197,
   "metadata": {},
   "outputs": [],
   "source": [
    "temp = metrics_all[(metrics_all.area==a)&np.isfinite(metrics_all.forward)]"
   ]
  },
  {
   "cell_type": "code",
   "execution_count": 198,
   "metadata": {},
   "outputs": [
    {
     "data": {
      "text/plain": [
       "333"
      ]
     },
     "execution_count": 198,
     "metadata": {},
     "output_type": "execute_result"
    }
   ],
   "source": [
    "len(temp)"
   ]
  },
  {
   "cell_type": "code",
   "execution_count": 200,
   "metadata": {},
   "outputs": [
    {
     "data": {
      "text/plain": [
       "8"
      ]
     },
     "execution_count": 200,
     "metadata": {},
     "output_type": "execute_result"
    }
   ],
   "source": [
    "len(metrics_all.expt_id.unique())"
   ]
  },
  {
   "cell_type": "code",
   "execution_count": 201,
   "metadata": {},
   "outputs": [],
   "source": [
    "metrics_per_expt = pd.DataFrame(columns=('expt_id','area','translation','rotation','left','right','forward','backward'), index=range(8))"
   ]
  },
  {
   "cell_type": "code",
   "execution_count": 203,
   "metadata": {},
   "outputs": [
    {
     "name": "stderr",
     "output_type": "stream",
     "text": [
      "/Users/saskiad/anaconda3/lib/python3.7/site-packages/pandas/core/indexing.py:190: SettingWithCopyWarning: \n",
      "A value is trying to be set on a copy of a slice from a DataFrame\n",
      "\n",
      "See the caveats in the documentation: http://pandas.pydata.org/pandas-docs/stable/indexing.html#indexing-view-versus-copy\n",
      "  self._setitem_with_indexer(indexer, value)\n"
     ]
    }
   ],
   "source": [
    "for i,expt in enumerate(metrics_all.expt_id.unique()):\n",
    "    metrics_per_expt.expt_id.loc[i] = expt\n",
    "    temp = metrics_all[(metrics_all.expt_id==expt)&np.isfinite(metrics_all.forward)]\n",
    "    metrics_per_expt.area.loc[i] = temp.area.iloc[0]\n",
    "    metrics_per_expt.translation.loc[i] = 100*len(temp[temp.trans_rot>0.4])/float(len(temp))\n",
    "    metrics_per_expt.rotation.loc[i] = 100*len(temp[temp.trans_rot<-0.4])/float(len(temp))\n",
    "    metrics_per_expt.right.loc[i] = 100*len(temp[temp.right_left>0.4])/float(len(temp))\n",
    "    metrics_per_expt.left.loc[i] = 100*len(temp[temp.right_left<-0.4])/float(len(temp))\n",
    "    metrics_per_expt.forward.loc[i] = 100*len(temp[temp.for_back>0.4])/float(len(temp))\n",
    "    metrics_per_expt.backward.loc[i] = 100*len(temp[temp.for_back<-0.4])/float(len(temp))\n",
    "    "
   ]
  },
  {
   "cell_type": "code",
   "execution_count": 204,
   "metadata": {},
   "outputs": [
    {
     "data": {
      "text/html": [
       "<div>\n",
       "<style scoped>\n",
       "    .dataframe tbody tr th:only-of-type {\n",
       "        vertical-align: middle;\n",
       "    }\n",
       "\n",
       "    .dataframe tbody tr th {\n",
       "        vertical-align: top;\n",
       "    }\n",
       "\n",
       "    .dataframe thead th {\n",
       "        text-align: right;\n",
       "    }\n",
       "</style>\n",
       "<table border=\"1\" class=\"dataframe\">\n",
       "  <thead>\n",
       "    <tr style=\"text-align: right;\">\n",
       "      <th></th>\n",
       "      <th>expt_id</th>\n",
       "      <th>area</th>\n",
       "      <th>translation</th>\n",
       "      <th>rotation</th>\n",
       "      <th>left</th>\n",
       "      <th>right</th>\n",
       "      <th>forward</th>\n",
       "      <th>backward</th>\n",
       "    </tr>\n",
       "  </thead>\n",
       "  <tbody>\n",
       "    <tr>\n",
       "      <th>0</th>\n",
       "      <td>925172886</td>\n",
       "      <td>VISl</td>\n",
       "      <td>2.91971</td>\n",
       "      <td>32.1168</td>\n",
       "      <td>13.1387</td>\n",
       "      <td>16.7883</td>\n",
       "      <td>16.7883</td>\n",
       "      <td>13.1387</td>\n",
       "    </tr>\n",
       "    <tr>\n",
       "      <th>1</th>\n",
       "      <td>925166866</td>\n",
       "      <td>VISal</td>\n",
       "      <td>10.2273</td>\n",
       "      <td>11.3636</td>\n",
       "      <td>6.81818</td>\n",
       "      <td>7.38636</td>\n",
       "      <td>6.81818</td>\n",
       "      <td>10.2273</td>\n",
       "    </tr>\n",
       "    <tr>\n",
       "      <th>2</th>\n",
       "      <td>924667518</td>\n",
       "      <td>VISpm</td>\n",
       "      <td>9.47368</td>\n",
       "      <td>8.94737</td>\n",
       "      <td>3.15789</td>\n",
       "      <td>22.6316</td>\n",
       "      <td>18.9474</td>\n",
       "      <td>3.15789</td>\n",
       "    </tr>\n",
       "    <tr>\n",
       "      <th>3</th>\n",
       "      <td>924496653</td>\n",
       "      <td>VISam</td>\n",
       "      <td>5.55556</td>\n",
       "      <td>15.2778</td>\n",
       "      <td>2.08333</td>\n",
       "      <td>9.02778</td>\n",
       "      <td>7.63889</td>\n",
       "      <td>4.86111</td>\n",
       "    </tr>\n",
       "    <tr>\n",
       "      <th>4</th>\n",
       "      <td>923803144</td>\n",
       "      <td>VISpm</td>\n",
       "      <td>8.25688</td>\n",
       "      <td>7.33945</td>\n",
       "      <td>5.04587</td>\n",
       "      <td>12.3853</td>\n",
       "      <td>10.5505</td>\n",
       "      <td>4.58716</td>\n",
       "    </tr>\n",
       "    <tr>\n",
       "      <th>5</th>\n",
       "      <td>923685768</td>\n",
       "      <td>VISam</td>\n",
       "      <td>4.57516</td>\n",
       "      <td>15.6863</td>\n",
       "      <td>4.57516</td>\n",
       "      <td>7.18954</td>\n",
       "      <td>11.7647</td>\n",
       "      <td>13.0719</td>\n",
       "    </tr>\n",
       "    <tr>\n",
       "      <th>6</th>\n",
       "      <td>923531162</td>\n",
       "      <td>VISl</td>\n",
       "      <td>3.06122</td>\n",
       "      <td>17.8571</td>\n",
       "      <td>10.2041</td>\n",
       "      <td>16.8367</td>\n",
       "      <td>14.2857</td>\n",
       "      <td>13.7755</td>\n",
       "    </tr>\n",
       "    <tr>\n",
       "      <th>7</th>\n",
       "      <td>923201739</td>\n",
       "      <td>VISal</td>\n",
       "      <td>11.3924</td>\n",
       "      <td>5.06329</td>\n",
       "      <td>6.32911</td>\n",
       "      <td>7.59494</td>\n",
       "      <td>6.96203</td>\n",
       "      <td>10.7595</td>\n",
       "    </tr>\n",
       "  </tbody>\n",
       "</table>\n",
       "</div>"
      ],
      "text/plain": [
       "     expt_id   area translation rotation     left    right  forward backward\n",
       "0  925172886   VISl     2.91971  32.1168  13.1387  16.7883  16.7883  13.1387\n",
       "1  925166866  VISal     10.2273  11.3636  6.81818  7.38636  6.81818  10.2273\n",
       "2  924667518  VISpm     9.47368  8.94737  3.15789  22.6316  18.9474  3.15789\n",
       "3  924496653  VISam     5.55556  15.2778  2.08333  9.02778  7.63889  4.86111\n",
       "4  923803144  VISpm     8.25688  7.33945  5.04587  12.3853  10.5505  4.58716\n",
       "5  923685768  VISam     4.57516  15.6863  4.57516  7.18954  11.7647  13.0719\n",
       "6  923531162   VISl     3.06122  17.8571  10.2041  16.8367  14.2857  13.7755\n",
       "7  923201739  VISal     11.3924  5.06329  6.32911  7.59494  6.96203  10.7595"
      ]
     },
     "execution_count": 204,
     "metadata": {},
     "output_type": "execute_result"
    }
   ],
   "source": [
    "metrics_per_expt"
   ]
  },
  {
   "cell_type": "code",
   "execution_count": 222,
   "metadata": {},
   "outputs": [
    {
     "data": {
      "text/plain": [
       "Text(4.5, 26, 'AM')"
      ]
     },
     "execution_count": 222,
     "metadata": {},
     "output_type": "execute_result"
    },
    {
     "data": {
      "image/png": "[encoded data removed]",
      "text/plain": [
       "<Figure size 576x432 with 1 Axes>"
      ]
     },
     "metadata": {
      "needs_background": "light"
     },
     "output_type": "display_data"
    }
   ],
   "source": [
    "plt.figure(figsize=(8,6))\n",
    "\n",
    "plt.plot([0,1],[2.9,32.1], 'o-', color='blue')\n",
    "plt.plot([0,1],[3.1, 17.9], 'o-', color='blue')\n",
    "plt.plot([0,1], [10.2, 11.4], 'o-', color='magenta')\n",
    "plt.plot([0,1], [11.4, 5.1], 'o-', color='magenta')\n",
    "plt.plot([0,1], [9.5, 8.9], 'o-', color='green')\n",
    "plt.plot([0,1], [8.3, 7.3], 'o-', color='green')\n",
    "plt.plot([0,1], [5.6, 15.3], 'o-', color='cyan')\n",
    "plt.plot([0,1], [4.6, 15.7], 'o-', color='cyan')\n",
    "\n",
    "plt.plot([2,3],[13.1,16.8], 'o-', color='blue')\n",
    "plt.plot([2,3],[10.2,16.8], 'o-', color='blue')\n",
    "plt.plot([2,3], [6.8,7.4], 'o-', color='magenta')\n",
    "plt.plot([2,3], [6.3,7.6], 'o-', color='magenta')\n",
    "plt.plot([2,3], [3.2, 22.6], 'o-', color='green')\n",
    "plt.plot([2,3], [5.0, 12.4], 'o-', color='green')\n",
    "plt.plot([2,3], [2.1, 9.0], 'o-', color='cyan')\n",
    "plt.plot([2,3], [4.6, 7.2], 'o-', color='cyan')\n",
    "\n",
    "plt.plot([4,5],[13.1,16.8], 'o-', color='blue')\n",
    "plt.plot([4,5],[13.8, 14.2], 'o-', color='blue')\n",
    "plt.plot([4,5], [10.2, 6.8], 'o-', color='magenta')\n",
    "plt.plot([4,5], [10.8, 7.0], 'o-', color='magenta')\n",
    "plt.plot([4,5], [3.2, 19.0], 'o-', color='green')\n",
    "plt.plot([4,5], [4.6, 10.6], 'o-', color='green')\n",
    "plt.plot([4,5], [4.9, 7.6], 'o-', color='cyan')\n",
    "plt.plot([4,5], [13.1, 11.8], 'o-', color='cyan')\n",
    "\n",
    "plt.tick_params(labelsize=16)\n",
    "plt.xticks(range(6), ['translation','rotation','left','right','backward','foward'], fontsize=14)\n",
    "plt.ylabel(\"Percent of neurons\", fontsize=18)\n",
    "\n",
    "\n",
    "plt.text(4.5,32, 'LM', color='blue')\n",
    "plt.text(4.5,30, 'AL', color='magenta')\n",
    "plt.text(4.5,28, 'PM', color='green')\n",
    "plt.text(4.5,26, 'AM', color='cyan')"
   ]
  },
  {
   "cell_type": "code",
   "execution_count": 22,
   "metadata": {},
   "outputs": [
    {
     "data": {
      "image/png": "[encoded data removed]",
      "text/plain": [
       "<Figure size 864x432 with 1 Axes>"
      ]
     },
     "metadata": {
      "needs_background": "light"
     },
     "output_type": "display_data"
    }
   ],
   "source": [
    "fig = plt.figure(figsize=(12,6))\n",
    "\n",
    "plt.plot([0,1],[2.9,32.1], 'o-', color='blue', markersize=8)\n",
    "plt.plot([0,1],[3.1, 17.9], 'o-', color='blue', markersize=8)\n",
    "plt.plot([0,1], [10.2, 11.4], 'o-', color='magenta', markersize=8)\n",
    "plt.plot([0,1], [11.4, 5.1], 'o-', color='magenta', markersize=8)\n",
    "plt.plot([0,1], [9.5, 8.9], 'o-', color='green', markersize=8)\n",
    "plt.plot([0,1], [8.3, 7.3], 'o-', color='green', markersize=8)\n",
    "plt.plot([0,1], [5.6, 15.3], 'o-', color='cyan', markersize=8)\n",
    "plt.plot([0,1], [4.6, 15.7], 'o-', color='cyan', markersize=8)\n",
    "\n",
    "plt.plot([2,3],[13.1,16.8], 'o-', color='blue', markersize=8)\n",
    "plt.plot([2,3],[10.2,16.8], 'o-', color='blue', markersize=8)\n",
    "plt.plot([2,3], [6.8,7.4], 'o-', color='magenta', markersize=8)\n",
    "plt.plot([2,3], [6.3,7.6], 'o-', color='magenta', markersize=8)\n",
    "plt.plot([2,3], [3.2, 22.6], 'o-', color='green', markersize=8)\n",
    "plt.plot([2,3], [5.0, 12.4], 'o-', color='green', markersize=8)\n",
    "plt.plot([2,3], [2.1, 9.0], 'o-', color='cyan', markersize=8)\n",
    "plt.plot([2,3], [4.6, 7.2], 'o-', color='cyan', markersize=8)\n",
    "\n",
    "plt.plot([4,5],[13.1,16.8], 'o-', color='blue', markersize=8)\n",
    "plt.plot([4,5],[13.8, 14.2], 'o-', color='blue', markersize=8)\n",
    "plt.plot([4,5], [10.2, 6.8], 'o-', color='magenta', markersize=8)\n",
    "plt.plot([4,5], [10.8, 7.0], 'o-', color='magenta', markersize=8)\n",
    "plt.plot([4,5], [3.2, 19.0], 'o-', color='green', markersize=8)\n",
    "plt.plot([4,5], [4.6, 10.6], 'o-', color='green', markersize=8)\n",
    "plt.plot([4,5], [4.9, 7.6], 'o-', color='cyan', markersize=8)\n",
    "plt.plot([4,5], [13.1, 11.8], 'o-', color='cyan', markersize=8)\n",
    "\n",
    "plt.tick_params(labelsize=16)\n",
    "plt.xticks(range(6), ['translation','rotation','left','right','backward','foward'], fontsize=14)\n",
    "plt.ylabel(\"Percent of neurons\", fontsize=18)\n",
    "\n",
    "\n",
    "\n",
    "plt.text(4.5,32, 'LM', color='blue', fontsize=16)\n",
    "plt.text(4.5,30, 'AL', color='magenta', fontsize=16)\n",
    "plt.text(4.5,28, 'PM', color='green', fontsize=16)\n",
    "plt.text(4.5,26, 'AM', color='cyan', fontsize=16)\n",
    "\n",
    "plt.text(2.2, -4, 'Rotation', fontsize=16)\n",
    "plt.text(4.2, -4, 'Translation', fontsize=16)\n",
    "\n",
    "figname = r'/Users/saskiad/Dropbox/Openscope Motion/dot_summary'\n",
    "mp.save_figure(fig, figname)"
   ]
  },
  {
   "cell_type": "code",
   "execution_count": 21,
   "metadata": {},
   "outputs": [],
   "source": [
    "import sys\n",
    "sys.path.append(r'/Users/saskiad/code/visual_coding_2p_analysis/visual_coding_2p_analysis')\n",
    "import metric_plot as mp"
   ]
  },
  {
   "cell_type": "code",
   "execution_count": 45,
   "metadata": {},
   "outputs": [],
   "source": [
    "## example plots"
   ]
  },
  {
   "cell_type": "code",
   "execution_count": 80,
   "metadata": {},
   "outputs": [
    {
     "data": {
      "image/png": "[encoded data removed]",
      "text/plain": [
       "<Figure size 864x864 with 4 Axes>"
      ]
     },
     "metadata": {
      "needs_background": "light"
     },
     "output_type": "display_data"
    }
   ],
   "source": [
    "nc=53\n",
    "fig = plt.figure(figsize=(12,12))\n",
    "plt.subplot(2,2,1)\n",
    "forward = temp[temp.direction=='forward']\n",
    "sns.pointplot(x='dotSpeed', y=str(nc), data=forward)\n",
    "plt.ylim(0,0.21)\n",
    "plt.ylabel(\"DF/F\", fontsize=16)\n",
    "plt.xlabel(\"\")\n",
    "plt.title(\"Forward\", fontsize=16)\n",
    "plt.yticks([0,0.05,0.1,0.15, 0.2])\n",
    "plt.tick_params(labelsize=14)\n",
    "plt.subplot(2,2,2)\n",
    "forward = temp[temp.direction=='backward']\n",
    "sns.pointplot(x='dotSpeed', y=str(nc), data=forward)\n",
    "plt.ylim(0,0.21)\n",
    "plt.ylabel(\"DF/F\", fontsize=16)\n",
    "plt.xlabel(\"\")\n",
    "plt.title(\"Backward\", fontsize=16)\n",
    "plt.yticks([0,0.05,0.1,0.15, 0.2])\n",
    "plt.tick_params(labelsize=14)\n",
    "plt.subplot(2,2,3)\n",
    "forward = temp[temp.direction=='right']\n",
    "sns.pointplot(x='dotSpeed', y=str(nc), data=forward)\n",
    "plt.ylim(0,0.21)\n",
    "plt.ylabel(\"DF/F\", fontsize=16)\n",
    "plt.title(\"Right\", fontsize=16)\n",
    "plt.yticks([0,0.05,0.1,0.15, 0.2])\n",
    "plt.xlabel(\"Speed\", fontsize=16)\n",
    "plt.tick_params(labelsize=14)\n",
    "plt.subplot(2,2,4)\n",
    "forward = temp[temp.direction=='left']\n",
    "sns.pointplot(x='dotSpeed', y=str(nc), data=forward)\n",
    "plt.ylim(0,0.21)\n",
    "plt.ylabel(\"DF/F\", fontsize=16)\n",
    "plt.title(\"Left\", fontsize=16)\n",
    "plt.xlabel(\"Speed\", fontsize=16)\n",
    "plt.yticks([0,0.05,0.1,0.15, 0.2])\n",
    "plt.tick_params(labelsize=14)\n",
    "\n",
    "figname = r'/Users/saskiad/Dropbox/Openscope Motion/example_cell_'+str(nc)\n",
    "mp.save_figure(fig, figname)"
   ]
  },
  {
   "cell_type": "code",
   "execution_count": 66,
   "metadata": {},
   "outputs": [
    {
     "data": {
      "text/plain": [
       "'/Users/saskiad/Dropbox/Openscope Motion/analysis_files/923803144_analysis.h5'"
      ]
     },
     "execution_count": 66,
     "metadata": {},
     "output_type": "execute_result"
    }
   ],
   "source": [
    "filename"
   ]
  },
  {
   "cell_type": "code",
   "execution_count": 82,
   "metadata": {},
   "outputs": [
    {
     "data": {
      "text/html": [
       "<div>\n",
       "<style scoped>\n",
       "    .dataframe tbody tr th:only-of-type {\n",
       "        vertical-align: middle;\n",
       "    }\n",
       "\n",
       "    .dataframe tbody tr th {\n",
       "        vertical-align: top;\n",
       "    }\n",
       "\n",
       "    .dataframe thead th {\n",
       "        text-align: right;\n",
       "    }\n",
       "</style>\n",
       "<table border=\"1\" class=\"dataframe\">\n",
       "  <thead>\n",
       "    <tr style=\"text-align: right;\">\n",
       "      <th></th>\n",
       "      <th>Unnamed: 0</th>\n",
       "      <th>expt_id</th>\n",
       "      <th>forward</th>\n",
       "      <th>backward</th>\n",
       "      <th>left</th>\n",
       "      <th>right</th>\n",
       "      <th>translation</th>\n",
       "      <th>rotation</th>\n",
       "      <th>right_left</th>\n",
       "      <th>for_back</th>\n",
       "      <th>trans_rot</th>\n",
       "    </tr>\n",
       "  </thead>\n",
       "  <tbody>\n",
       "    <tr>\n",
       "      <th>0</th>\n",
       "      <td>0</td>\n",
       "      <td>925172886</td>\n",
       "      <td>0.254571</td>\n",
       "      <td>0.857128</td>\n",
       "      <td>0.919765</td>\n",
       "      <td>1.163814</td>\n",
       "      <td>1.117784</td>\n",
       "      <td>2.084889</td>\n",
       "      <td>0.117130</td>\n",
       "      <td>-0.542014</td>\n",
       "      <td>-0.301968</td>\n",
       "    </tr>\n",
       "    <tr>\n",
       "      <th>1</th>\n",
       "      <td>1</td>\n",
       "      <td>925172886</td>\n",
       "      <td>0.354203</td>\n",
       "      <td>0.029150</td>\n",
       "      <td>0.129619</td>\n",
       "      <td>3.484221</td>\n",
       "      <td>0.388913</td>\n",
       "      <td>3.615734</td>\n",
       "      <td>0.928265</td>\n",
       "      <td>0.847921</td>\n",
       "      <td>-0.805769</td>\n",
       "    </tr>\n",
       "    <tr>\n",
       "      <th>2</th>\n",
       "      <td>2</td>\n",
       "      <td>925172886</td>\n",
       "      <td>NaN</td>\n",
       "      <td>NaN</td>\n",
       "      <td>NaN</td>\n",
       "      <td>NaN</td>\n",
       "      <td>NaN</td>\n",
       "      <td>NaN</td>\n",
       "      <td>NaN</td>\n",
       "      <td>NaN</td>\n",
       "      <td>NaN</td>\n",
       "    </tr>\n",
       "    <tr>\n",
       "      <th>3</th>\n",
       "      <td>3</td>\n",
       "      <td>925172886</td>\n",
       "      <td>0.251521</td>\n",
       "      <td>0.393233</td>\n",
       "      <td>0.714195</td>\n",
       "      <td>1.119500</td>\n",
       "      <td>0.644646</td>\n",
       "      <td>1.849131</td>\n",
       "      <td>0.221032</td>\n",
       "      <td>-0.219793</td>\n",
       "      <td>-0.482996</td>\n",
       "    </tr>\n",
       "    <tr>\n",
       "      <th>4</th>\n",
       "      <td>4</td>\n",
       "      <td>925172886</td>\n",
       "      <td>0.211861</td>\n",
       "      <td>0.252659</td>\n",
       "      <td>0.703386</td>\n",
       "      <td>0.495186</td>\n",
       "      <td>0.468264</td>\n",
       "      <td>1.246696</td>\n",
       "      <td>-0.173707</td>\n",
       "      <td>-0.087829</td>\n",
       "      <td>-0.453907</td>\n",
       "    </tr>\n",
       "  </tbody>\n",
       "</table>\n",
       "</div>"
      ],
      "text/plain": [
       "  Unnamed: 0    expt_id   forward  backward      left     right  translation  \\\n",
       "0          0  925172886  0.254571  0.857128  0.919765  1.163814     1.117784   \n",
       "1          1  925172886  0.354203  0.029150  0.129619  3.484221     0.388913   \n",
       "2          2  925172886       NaN       NaN       NaN       NaN          NaN   \n",
       "3          3  925172886  0.251521  0.393233  0.714195  1.119500     0.644646   \n",
       "4          4  925172886  0.211861  0.252659  0.703386  0.495186     0.468264   \n",
       "\n",
       "   rotation  right_left  for_back  trans_rot  \n",
       "0  2.084889    0.117130 -0.542014  -0.301968  \n",
       "1  3.615734    0.928265  0.847921  -0.805769  \n",
       "2       NaN         NaN       NaN        NaN  \n",
       "3  1.849131    0.221032 -0.219793  -0.482996  \n",
       "4  1.246696   -0.173707 -0.087829  -0.453907  "
      ]
     },
     "execution_count": 82,
     "metadata": {},
     "output_type": "execute_result"
    }
   ],
   "source": [
    "metrics_all.head()"
   ]
  },
  {
   "cell_type": "code",
   "execution_count": 85,
   "metadata": {},
   "outputs": [
    {
     "data": {
      "image/png": "[encoded data removed]",
      "text/plain": [
       "<Figure size 432x288 with 1 Axes>"
      ]
     },
     "metadata": {
      "needs_background": "light"
     },
     "output_type": "display_data"
    }
   ],
   "source": [
    "plt.hist(metrics_all.forward, bins=40, range=(-2,2));"
   ]
  },
  {
   "cell_type": "code",
   "execution_count": 86,
   "metadata": {},
   "outputs": [
    {
     "data": {
      "text/plain": [
       "1572"
      ]
     },
     "execution_count": 86,
     "metadata": {},
     "output_type": "execute_result"
    }
   ],
   "source": [
    "len(metrics_all)"
   ]
  },
  {
   "cell_type": "code",
   "execution_count": 128,
   "metadata": {},
   "outputs": [
    {
     "data": {
      "text/plain": [
       "0.3371501272264631"
      ]
     },
     "execution_count": 128,
     "metadata": {},
     "output_type": "execute_result"
    }
   ],
   "source": [
    "530/1572."
   ]
  },
  {
   "cell_type": "code",
   "execution_count": 124,
   "metadata": {},
   "outputs": [
    {
     "name": "stdout",
     "output_type": "stream",
     "text": [
      "329\n"
     ]
    }
   ],
   "source": [
    "print(len(metrics_all[(metrics_all.forward>0.85)|(metrics_all.backward>0.85)]))"
   ]
  },
  {
   "cell_type": "code",
   "execution_count": 125,
   "metadata": {},
   "outputs": [
    {
     "name": "stdout",
     "output_type": "stream",
     "text": [
      "393\n"
     ]
    }
   ],
   "source": [
    "print(len(metrics_all[(metrics_all.left>0.85)|(metrics_all.right>0.85)]))"
   ]
  },
  {
   "cell_type": "code",
   "execution_count": 127,
   "metadata": {},
   "outputs": [
    {
     "name": "stdout",
     "output_type": "stream",
     "text": [
      "530\n"
     ]
    }
   ],
   "source": [
    "print(len(metrics_all[(metrics_all.forward>0.85)|(metrics_all.backward>0.85)|(metrics_all.left>0.85)|(metrics_all.right>0.85)]))"
   ]
  },
  {
   "cell_type": "code",
   "execution_count": 100,
   "metadata": {},
   "outputs": [
    {
     "data": {
      "text/plain": [
       "540"
      ]
     },
     "execution_count": 100,
     "metadata": {},
     "output_type": "execute_result"
    }
   ],
   "source": [
    "len(stim_table[stim_table.direction=='left'])"
   ]
  },
  {
   "cell_type": "code",
   "execution_count": 96,
   "metadata": {},
   "outputs": [
    {
     "data": {
      "text/plain": [
       "3.6"
      ]
     },
     "execution_count": 96,
     "metadata": {},
     "output_type": "execute_result"
    }
   ],
   "source": [
    ".01*360"
   ]
  },
  {
   "cell_type": "code",
   "execution_count": 104,
   "metadata": {},
   "outputs": [
    {
     "data": {
      "text/plain": [
       "283"
      ]
     },
     "execution_count": 104,
     "metadata": {},
     "output_type": "execute_result"
    }
   ],
   "source": [
    "len(metrics_all[np.abs(metrics_all.trans_rot)>0.4])"
   ]
  },
  {
   "cell_type": "code",
   "execution_count": 105,
   "metadata": {},
   "outputs": [
    {
     "data": {
      "text/plain": [
       "51"
      ]
     },
     "execution_count": 105,
     "metadata": {},
     "output_type": "execute_result"
    }
   ],
   "source": [
    "len(metrics_all[(np.abs(metrics_all.trans_rot)>0.4)&(metrics_all.translation>1)&(metrics_all.rotation>1)])"
   ]
  },
  {
   "cell_type": "code",
   "execution_count": 106,
   "metadata": {},
   "outputs": [
    {
     "data": {
      "text/plain": [
       "283"
      ]
     },
     "execution_count": 106,
     "metadata": {},
     "output_type": "execute_result"
    }
   ],
   "source": [
    "len(metrics_all[(np.abs(metrics_all.trans_rot)>0.4)])"
   ]
  },
  {
   "cell_type": "code",
   "execution_count": 122,
   "metadata": {},
   "outputs": [
    {
     "data": {
      "text/plain": [
       "Unnamed: 0             53\n",
       "expt_id         923803144\n",
       "forward           1.46116\n",
       "backward          1.60251\n",
       "left              2.08031\n",
       "right             2.08541\n",
       "translation       3.13754\n",
       "rotation          4.17525\n",
       "right_left     0.00122378\n",
       "for_back       -0.0461359\n",
       "trans_rot       -0.141904\n",
       "Name: 53, dtype: object"
      ]
     },
     "execution_count": 122,
     "metadata": {},
     "output_type": "execute_result"
    }
   ],
   "source": [
    "session_id = 923803144\n",
    "metrics_all[metrics_all.expt_id==session_id].loc[53]"
   ]
  },
  {
   "cell_type": "code",
   "execution_count": 112,
   "metadata": {},
   "outputs": [
    {
     "data": {
      "text/plain": [
       "-0.04575163398692814"
      ]
     },
     "execution_count": 112,
     "metadata": {},
     "output_type": "execute_result"
    }
   ],
   "source": [
    "(1.46-1.6)/(1.46+1.6)"
   ]
  },
  {
   "cell_type": "markdown",
   "metadata": {},
   "source": [
    "### roi tables"
   ]
  },
  {
   "cell_type": "code",
   "execution_count": 130,
   "metadata": {},
   "outputs": [],
   "source": [
    "roi_table = pd.read_csv(r'/Users/saskiad/Dropbox/Openscope Motion/roi_tables/923803144_rois.csv')"
   ]
  },
  {
   "cell_type": "code",
   "execution_count": 131,
   "metadata": {},
   "outputs": [
    {
     "data": {
      "text/plain": [
       "250"
      ]
     },
     "execution_count": 131,
     "metadata": {},
     "output_type": "execute_result"
    }
   ],
   "source": [
    "len(roi_table)"
   ]
  },
  {
   "cell_type": "code",
   "execution_count": 134,
   "metadata": {},
   "outputs": [
    {
     "data": {
      "text/plain": [
       "170"
      ]
     },
     "execution_count": 134,
     "metadata": {},
     "output_type": "execute_result"
    }
   ],
   "source": [
    "len(roi_table[roi_table.valid])"
   ]
  },
  {
   "cell_type": "code",
   "execution_count": 135,
   "metadata": {},
   "outputs": [
    {
     "data": {
      "text/plain": [
       "0.68"
      ]
     },
     "execution_count": 135,
     "metadata": {},
     "output_type": "execute_result"
    }
   ],
   "source": [
    "170/250."
   ]
  },
  {
   "cell_type": "code",
   "execution_count": 137,
   "metadata": {},
   "outputs": [
    {
     "data": {
      "text/html": [
       "<div>\n",
       "<style scoped>\n",
       "    .dataframe tbody tr th:only-of-type {\n",
       "        vertical-align: middle;\n",
       "    }\n",
       "\n",
       "    .dataframe tbody tr th {\n",
       "        vertical-align: top;\n",
       "    }\n",
       "\n",
       "    .dataframe thead th {\n",
       "        text-align: right;\n",
       "    }\n",
       "</style>\n",
       "<table border=\"1\" class=\"dataframe\">\n",
       "  <thead>\n",
       "    <tr style=\"text-align: right;\">\n",
       "      <th></th>\n",
       "      <th>Unnamed: 0</th>\n",
       "      <th>exclude_code</th>\n",
       "      <th>exclusion_labels</th>\n",
       "      <th>mask_page</th>\n",
       "      <th>mask</th>\n",
       "      <th>height</th>\n",
       "      <th>width</th>\n",
       "      <th>valid</th>\n",
       "      <th>y</th>\n",
       "      <th>x</th>\n",
       "      <th>session_id</th>\n",
       "    </tr>\n",
       "  </thead>\n",
       "  <tbody>\n",
       "    <tr>\n",
       "      <th>0</th>\n",
       "      <td>0</td>\n",
       "      <td>2</td>\n",
       "      <td>[u'motion_border', u'boundary']</td>\n",
       "      <td>0</td>\n",
       "      <td>[[False, False, False, False, False, True, Tru...</td>\n",
       "      <td>13</td>\n",
       "      <td>18</td>\n",
       "      <td>False</td>\n",
       "      <td>2</td>\n",
       "      <td>99</td>\n",
       "      <td>923803144</td>\n",
       "    </tr>\n",
       "    <tr>\n",
       "      <th>1</th>\n",
       "      <td>1</td>\n",
       "      <td>0</td>\n",
       "      <td>[]</td>\n",
       "      <td>0</td>\n",
       "      <td>[[False, False, False, False, False, True, Tru...</td>\n",
       "      <td>14</td>\n",
       "      <td>14</td>\n",
       "      <td>True</td>\n",
       "      <td>27</td>\n",
       "      <td>214</td>\n",
       "      <td>923803144</td>\n",
       "    </tr>\n",
       "    <tr>\n",
       "      <th>2</th>\n",
       "      <td>2</td>\n",
       "      <td>11</td>\n",
       "      <td>[u'apical_dendrite']</td>\n",
       "      <td>0</td>\n",
       "      <td>[[False, False, False, False, False, False, Fa...</td>\n",
       "      <td>16</td>\n",
       "      <td>24</td>\n",
       "      <td>False</td>\n",
       "      <td>308</td>\n",
       "      <td>155</td>\n",
       "      <td>923803144</td>\n",
       "    </tr>\n",
       "    <tr>\n",
       "      <th>3</th>\n",
       "      <td>3</td>\n",
       "      <td>0</td>\n",
       "      <td>[]</td>\n",
       "      <td>0</td>\n",
       "      <td>[[False, False, False, False, False, True, Tru...</td>\n",
       "      <td>14</td>\n",
       "      <td>22</td>\n",
       "      <td>True</td>\n",
       "      <td>313</td>\n",
       "      <td>216</td>\n",
       "      <td>923803144</td>\n",
       "    </tr>\n",
       "    <tr>\n",
       "      <th>4</th>\n",
       "      <td>4</td>\n",
       "      <td>0</td>\n",
       "      <td>[]</td>\n",
       "      <td>0</td>\n",
       "      <td>[[False, False, False, False, False, False, Tr...</td>\n",
       "      <td>16</td>\n",
       "      <td>17</td>\n",
       "      <td>True</td>\n",
       "      <td>313</td>\n",
       "      <td>447</td>\n",
       "      <td>923803144</td>\n",
       "    </tr>\n",
       "  </tbody>\n",
       "</table>\n",
       "</div>"
      ],
      "text/plain": [
       "   Unnamed: 0  exclude_code                 exclusion_labels  mask_page  \\\n",
       "0           0             2  [u'motion_border', u'boundary']          0   \n",
       "1           1             0                               []          0   \n",
       "2           2            11             [u'apical_dendrite']          0   \n",
       "3           3             0                               []          0   \n",
       "4           4             0                               []          0   \n",
       "\n",
       "                                                mask  height  width  valid  \\\n",
       "0  [[False, False, False, False, False, True, Tru...      13     18  False   \n",
       "1  [[False, False, False, False, False, True, Tru...      14     14   True   \n",
       "2  [[False, False, False, False, False, False, Fa...      16     24  False   \n",
       "3  [[False, False, False, False, False, True, Tru...      14     22   True   \n",
       "4  [[False, False, False, False, False, False, Tr...      16     17   True   \n",
       "\n",
       "     y    x  session_id  \n",
       "0    2   99   923803144  \n",
       "1   27  214   923803144  \n",
       "2  308  155   923803144  \n",
       "3  313  216   923803144  \n",
       "4  313  447   923803144  "
      ]
     },
     "execution_count": 137,
     "metadata": {},
     "output_type": "execute_result"
    }
   ],
   "source": [
    "roi_table.head()"
   ]
  },
  {
   "cell_type": "code",
   "execution_count": 138,
   "metadata": {},
   "outputs": [],
   "source": [
    "rois = pd.DataFrame(columns=('exclude_code','exclusion_labels','mask_page','mask','height','width','valid','y','x','session_id'))"
   ]
  },
  {
   "cell_type": "code",
   "execution_count": 140,
   "metadata": {},
   "outputs": [
    {
     "name": "stderr",
     "output_type": "stream",
     "text": [
      "/Users/saskiad/anaconda2/lib/python2.7/site-packages/pandas/core/frame.py:6692: FutureWarning: Sorting because non-concatenation axis is not aligned. A future version\n",
      "of pandas will change to not sort by default.\n",
      "\n",
      "To accept the future behavior, pass 'sort=False'.\n",
      "\n",
      "To retain the current behavior and silence the warning, pass 'sort=True'.\n",
      "\n",
      "  sort=sort)\n"
     ]
    }
   ],
   "source": [
    "for f in os.listdir(r'/Users/saskiad/Dropbox/Openscope Motion/roi_tables'):\n",
    "    temp = pd.read_csv(os.path.join(r'/Users/saskiad/Dropbox/Openscope Motion/roi_tables',f))\n",
    "    rois = rois.append(temp)"
   ]
  },
  {
   "cell_type": "code",
   "execution_count": null,
   "metadata": {},
   "outputs": [],
   "source": [
    "for f in os.listdir(r'/Users/saskiad/Dropbox/Openscope Motion/roi_tables'):"
   ]
  },
  {
   "cell_type": "code",
   "execution_count": 142,
   "metadata": {},
   "outputs": [
    {
     "data": {
      "text/plain": [
       "4389"
      ]
     },
     "execution_count": 142,
     "metadata": {},
     "output_type": "execute_result"
    }
   ],
   "source": [
    "len(rois)"
   ]
  },
  {
   "cell_type": "code",
   "execution_count": 143,
   "metadata": {},
   "outputs": [
    {
     "data": {
      "text/plain": [
       "1572"
      ]
     },
     "execution_count": 143,
     "metadata": {},
     "output_type": "execute_result"
    }
   ],
   "source": [
    "len(metrics_all)"
   ]
  },
  {
   "cell_type": "code",
   "execution_count": 144,
   "metadata": {},
   "outputs": [
    {
     "data": {
      "text/plain": [
       "array([919853170, 918424568, 923803144, 924496653, 928686238, 919634397,\n",
       "       923201739, 927781186, 923531162, 918719340, 925172886, 927281206,\n",
       "       923685768, 927591593, 917552587, 924667518, 925166866, 926684589,\n",
       "       917456401, 918097749, 918720159], dtype=object)"
      ]
     },
     "execution_count": 144,
     "metadata": {},
     "output_type": "execute_result"
    }
   ],
   "source": [
    "rois.session_id.unique()"
   ]
  },
  {
   "cell_type": "code",
   "execution_count": 151,
   "metadata": {},
   "outputs": [
    {
     "data": {
      "text/plain": [
       "array([925172886, 925166866, 924667518, 924496653, 923803144, 923685768,\n",
       "       923531162, 923201739], dtype=object)"
      ]
     },
     "execution_count": 151,
     "metadata": {},
     "output_type": "execute_result"
    }
   ],
   "source": [
    "metrics_all.session_id.unique()"
   ]
  },
  {
   "cell_type": "code",
   "execution_count": 152,
   "metadata": {},
   "outputs": [
    {
     "name": "stdout",
     "output_type": "stream",
     "text": [
      "here\n",
      "here\n",
      "here\n",
      "here\n",
      "here\n",
      "here\n",
      "here\n",
      "here\n"
     ]
    }
   ],
   "source": [
    "for expt in metrics_all.session_id.unique():\n",
    "    if expt in rois.session_id.unique():\n",
    "        print('here')\n",
    "    else:\n",
    "        print(expt)\n",
    "        "
   ]
  },
  {
   "cell_type": "code",
   "execution_count": 147,
   "metadata": {},
   "outputs": [],
   "source": [
    "metrics_all.rename(columns={'expt_id':'session_id'}, inplace=True)"
   ]
  },
  {
   "cell_type": "code",
   "execution_count": 156,
   "metadata": {},
   "outputs": [],
   "source": [
    "metrics_all.rename(columns={'Unnamed: 0':'cell_id'}, inplace=True)\n",
    "rois.rename(columns={'Unnamed: 0':'cell_id'}, inplace=True)"
   ]
  },
  {
   "cell_type": "code",
   "execution_count": 157,
   "metadata": {},
   "outputs": [],
   "source": [
    "temp = pd.merge(metrics_all, rois, on=('session_id','cell_id'), how='left')"
   ]
  },
  {
   "cell_type": "code",
   "execution_count": 158,
   "metadata": {},
   "outputs": [
    {
     "data": {
      "text/plain": [
       "1572"
      ]
     },
     "execution_count": 158,
     "metadata": {},
     "output_type": "execute_result"
    }
   ],
   "source": [
    "len(temp)"
   ]
  },
  {
   "cell_type": "code",
   "execution_count": 150,
   "metadata": {},
   "outputs": [
    {
     "data": {
      "text/plain": [
       "1572"
      ]
     },
     "execution_count": 150,
     "metadata": {},
     "output_type": "execute_result"
    }
   ],
   "source": [
    "len(metrics_all)"
   ]
  },
  {
   "cell_type": "code",
   "execution_count": 160,
   "metadata": {},
   "outputs": [
    {
     "data": {
      "text/plain": [
       "1116"
      ]
     },
     "execution_count": 160,
     "metadata": {},
     "output_type": "execute_result"
    }
   ],
   "source": [
    "len(temp[temp.valid])"
   ]
  },
  {
   "cell_type": "code",
   "execution_count": 161,
   "metadata": {},
   "outputs": [
    {
     "data": {
      "text/plain": [
       "0.7099236641221374"
      ]
     },
     "execution_count": 161,
     "metadata": {},
     "output_type": "execute_result"
    }
   ],
   "source": [
    "1116/1572."
   ]
  },
  {
   "cell_type": "code",
   "execution_count": 165,
   "metadata": {},
   "outputs": [
    {
     "data": {
      "text/plain": [
       "0.1863799283154122"
      ]
     },
     "execution_count": 165,
     "metadata": {},
     "output_type": "execute_result"
    }
   ],
   "source": [
    "208/1116."
   ]
  },
  {
   "cell_type": "code",
   "execution_count": 166,
   "metadata": {},
   "outputs": [],
   "source": [
    "valid = temp[temp.valid]"
   ]
  },
  {
   "cell_type": "code",
   "execution_count": null,
   "metadata": {},
   "outputs": [],
   "source": []
  },
  {
   "cell_type": "markdown",
   "metadata": {},
   "source": [
    "## Redoing numbers"
   ]
  },
  {
   "cell_type": "code",
   "execution_count": 167,
   "metadata": {},
   "outputs": [
    {
     "name": "stdout",
     "output_type": "stream",
     "text": [
      "242\n"
     ]
    }
   ],
   "source": [
    "print(len(valid[(valid.forward>0.85)|(valid.backward>0.85)]))"
   ]
  },
  {
   "cell_type": "code",
   "execution_count": 169,
   "metadata": {},
   "outputs": [
    {
     "name": "stdout",
     "output_type": "stream",
     "text": [
      "285\n"
     ]
    }
   ],
   "source": [
    "print(len(valid[(valid.right>0.85)|(valid.left>0.85)]))"
   ]
  },
  {
   "cell_type": "code",
   "execution_count": 173,
   "metadata": {},
   "outputs": [
    {
     "name": "stdout",
     "output_type": "stream",
     "text": [
      "383\n"
     ]
    }
   ],
   "source": [
    "print(len(valid[(valid.right>0.85)|(valid.left>0.85)|(valid.forward>0.85)|(valid.backward>0.85)]))"
   ]
  },
  {
   "cell_type": "code",
   "execution_count": 357,
   "metadata": {},
   "outputs": [
    {
     "data": {
      "text/plain": [
       "1116"
      ]
     },
     "execution_count": 357,
     "metadata": {},
     "output_type": "execute_result"
    }
   ],
   "source": [
    "len(valid)"
   ]
  },
  {
   "cell_type": "code",
   "execution_count": 175,
   "metadata": {},
   "outputs": [
    {
     "data": {
      "text/plain": [
       "0.3431899641577061"
      ]
     },
     "execution_count": 175,
     "metadata": {},
     "output_type": "execute_result"
    }
   ],
   "source": [
    "383./len(valid)"
   ]
  },
  {
   "cell_type": "code",
   "execution_count": 360,
   "metadata": {},
   "outputs": [
    {
     "name": "stdout",
     "output_type": "stream",
     "text": [
      "123\n",
      "281\n",
      "104\n",
      "276\n",
      "103\n",
      "319\n",
      "53\n",
      "240\n"
     ]
    }
   ],
   "source": [
    "for a in areas:\n",
    "    print(len(valid[(valid.area==a)&((valid.right>0.85)|(valid.left>0.85)|(valid.forward>0.85)|(valid.backward>0.85))]))\n",
    "    print len(valid[valid.area==a])"
   ]
  },
  {
   "cell_type": "code",
   "execution_count": 363,
   "metadata": {},
   "outputs": [
    {
     "name": "stdout",
     "output_type": "stream",
     "text": [
      "VISl 0.437722419929\n",
      "VISal 0.376811594203\n",
      "VISpm 0.322884012539\n",
      "VISam 0.220833333333\n"
     ]
    }
   ],
   "source": [
    "print areas[0], 123/281.\n",
    "print areas[1], 104/276.\n",
    "print areas[2], 103/319.\n",
    "print areas[3], 53/240."
   ]
  },
  {
   "cell_type": "code",
   "execution_count": 366,
   "metadata": {},
   "outputs": [
    {
     "data": {
      "image/png": "[encoded data removed]",
      "text/plain": [
       "<Figure size 432x288 with 1 Axes>"
      ]
     },
     "metadata": {
      "needs_background": "light"
     },
     "output_type": "display_data"
    }
   ],
   "source": [
    "plt.bar(range(4), [43.8, 37.7, 32.3, 22.1], color='gray')\n",
    "plt.xticks(range(4), areas, fontsize=16);\n",
    "plt.ylabel(\"Percent responseive\", fontsize=16)\n",
    "plt.tick_params(labelsize=16)"
   ]
  },
  {
   "cell_type": "code",
   "execution_count": 176,
   "metadata": {},
   "outputs": [
    {
     "data": {
      "text/plain": [
       "118"
      ]
     },
     "execution_count": 176,
     "metadata": {},
     "output_type": "execute_result"
    }
   ],
   "source": [
    "len(valid[(np.abs(valid.for_back)>0.4)&((valid.forward>0.85)|(valid.backward>0.85))])"
   ]
  },
  {
   "cell_type": "code",
   "execution_count": 183,
   "metadata": {},
   "outputs": [
    {
     "name": "stdout",
     "output_type": "stream",
     "text": [
      "58\n",
      "60\n"
     ]
    }
   ],
   "source": [
    "print(len(valid[(valid.for_back>0.4)&(valid.forward>0.85)]))\n",
    "print(len(valid[(valid.for_back<-0.4)&(valid.backward>0.85)]))"
   ]
  },
  {
   "cell_type": "code",
   "execution_count": 178,
   "metadata": {},
   "outputs": [
    {
     "data": {
      "text/plain": [
       "0.48760330578512395"
      ]
     },
     "execution_count": 178,
     "metadata": {},
     "output_type": "execute_result"
    }
   ],
   "source": [
    "118/242."
   ]
  },
  {
   "cell_type": "code",
   "execution_count": 177,
   "metadata": {},
   "outputs": [
    {
     "data": {
      "text/plain": [
       "120"
      ]
     },
     "execution_count": 177,
     "metadata": {},
     "output_type": "execute_result"
    }
   ],
   "source": [
    "len(valid[(np.abs(valid.right_left)>0.4)&((valid.right>0.85)|(valid.left>0.85))])"
   ]
  },
  {
   "cell_type": "code",
   "execution_count": 181,
   "metadata": {},
   "outputs": [
    {
     "name": "stdout",
     "output_type": "stream",
     "text": [
      "71\n",
      "49\n"
     ]
    }
   ],
   "source": [
    "print(len(valid[(valid.right_left>0.4)&(valid.right>0.85)]))\n",
    "print(len(valid[(valid.right_left<-0.4)&(valid.left>0.85)]))"
   ]
  },
  {
   "cell_type": "code",
   "execution_count": 179,
   "metadata": {},
   "outputs": [
    {
     "data": {
      "text/plain": [
       "0.42105263157894735"
      ]
     },
     "execution_count": 179,
     "metadata": {},
     "output_type": "execute_result"
    }
   ],
   "source": [
    "120/285."
   ]
  },
  {
   "cell_type": "code",
   "execution_count": 172,
   "metadata": {},
   "outputs": [
    {
     "data": {
      "text/plain": [
       "198"
      ]
     },
     "execution_count": 172,
     "metadata": {},
     "output_type": "execute_result"
    }
   ],
   "source": [
    "len(valid[(np.abs(valid.trans_rot)>0.4)])"
   ]
  },
  {
   "cell_type": "code",
   "execution_count": 191,
   "metadata": {},
   "outputs": [
    {
     "data": {
      "text/plain": [
       "85"
      ]
     },
     "execution_count": 191,
     "metadata": {},
     "output_type": "execute_result"
    }
   ],
   "source": [
    "len(valid[(valid.right>0.85)&(valid.forward>0.85)&(np.abs(valid.trans_rot)<0.4)])"
   ]
  },
  {
   "cell_type": "code",
   "execution_count": 189,
   "metadata": {},
   "outputs": [
    {
     "data": {
      "text/plain": [
       "70"
      ]
     },
     "execution_count": 189,
     "metadata": {},
     "output_type": "execute_result"
    }
   ],
   "source": [
    "len(valid[(valid.left>0.85)&(valid.backward>0.85)&(np.abs(valid.trans_rot)<0.4)])"
   ]
  },
  {
   "cell_type": "code",
   "execution_count": 200,
   "metadata": {},
   "outputs": [
    {
     "name": "stderr",
     "output_type": "stream",
     "text": [
      "/Users/saskiad/anaconda2/lib/python2.7/site-packages/ipykernel_launcher.py:3: DeprecationWarning: \n",
      ".ix is deprecated. Please use\n",
      ".loc for label based indexing or\n",
      ".iloc for positional indexing\n",
      "\n",
      "See the documentation here:\n",
      "http://pandas.pydata.org/pandas-docs/stable/indexing.html#ix-indexer-is-deprecated\n",
      "  This is separate from the ipykernel package so we can avoid doing imports until\n"
     ]
    }
   ],
   "source": [
    "valid['area'] = np.NaN\n",
    "for i,expt in enumerate(dot_expts):\n",
    "    valid.ix[valid.session_id==expt, 'area']=dot_areas[i]"
   ]
  },
  {
   "cell_type": "code",
   "execution_count": 201,
   "metadata": {},
   "outputs": [
    {
     "data": {
      "text/plain": [
       "[925172886,\n",
       " 925166866,\n",
       " 924667518,\n",
       " 924496653,\n",
       " 923803144,\n",
       " 923685768,\n",
       " 923531162,\n",
       " 923201739]"
      ]
     },
     "execution_count": 201,
     "metadata": {},
     "output_type": "execute_result"
    }
   ],
   "source": [
    "dot_expts"
   ]
  },
  {
   "cell_type": "code",
   "execution_count": 202,
   "metadata": {},
   "outputs": [
    {
     "data": {
      "text/plain": [
       "['VISl', 'VISal', 'VISpm', 'VISam', 'VISpm', 'VISam', 'VISl', 'VISal']"
      ]
     },
     "execution_count": 202,
     "metadata": {},
     "output_type": "execute_result"
    }
   ],
   "source": [
    "dot_areas"
   ]
  },
  {
   "cell_type": "code",
   "execution_count": 373,
   "metadata": {},
   "outputs": [],
   "source": [
    "metrics_per_expt_valid = pd.DataFrame(columns=('expt_id','area','translation','rotation','left','right','forward','backward'), index=range(8))\n",
    "for i,expt in enumerate(valid.session_id.unique()):\n",
    "    metrics_per_expt_valid.expt_id.loc[i] = expt\n",
    "#     temp = valid[(valid.session_id==expt)&np.isfinite(valid.forward)]\n",
    "    temp = valid[(valid.session_id==expt)&np.isfinite(valid.forward)&((valid.right>0.85)|(valid.left>0.85)|(valid.forward>0.85)|(valid.backward>0.85))]\n",
    "    metrics_per_expt_valid.area.loc[i] = temp.area.iloc[0]\n",
    "    metrics_per_expt_valid.translation.loc[i] = 100*len(temp[temp.trans_rot>0.4])/float(len(temp))\n",
    "    metrics_per_expt_valid.rotation.loc[i] = 100*len(temp[temp.trans_rot<-0.4])/float(len(temp))\n",
    "    metrics_per_expt_valid.right.loc[i] = 100*len(temp[temp.right_left>0.4])/float(len(temp))\n",
    "    metrics_per_expt_valid.left.loc[i] = 100*len(temp[temp.right_left<-0.4])/float(len(temp))\n",
    "    metrics_per_expt_valid.forward.loc[i] = 100*len(temp[temp.for_back>0.4])/float(len(temp))\n",
    "    metrics_per_expt_valid.backward.loc[i] = 100*len(temp[temp.for_back<-0.4])/float(len(temp))\n",
    "    "
   ]
  },
  {
   "cell_type": "code",
   "execution_count": 374,
   "metadata": {},
   "outputs": [
    {
     "data": {
      "text/html": [
       "<div>\n",
       "<style scoped>\n",
       "    .dataframe tbody tr th:only-of-type {\n",
       "        vertical-align: middle;\n",
       "    }\n",
       "\n",
       "    .dataframe tbody tr th {\n",
       "        vertical-align: top;\n",
       "    }\n",
       "\n",
       "    .dataframe thead th {\n",
       "        text-align: right;\n",
       "    }\n",
       "</style>\n",
       "<table border=\"1\" class=\"dataframe\">\n",
       "  <thead>\n",
       "    <tr style=\"text-align: right;\">\n",
       "      <th></th>\n",
       "      <th>expt_id</th>\n",
       "      <th>area</th>\n",
       "      <th>translation</th>\n",
       "      <th>rotation</th>\n",
       "      <th>left</th>\n",
       "      <th>right</th>\n",
       "      <th>forward</th>\n",
       "      <th>backward</th>\n",
       "    </tr>\n",
       "  </thead>\n",
       "  <tbody>\n",
       "    <tr>\n",
       "      <th>0</th>\n",
       "      <td>925172886</td>\n",
       "      <td>VISl</td>\n",
       "      <td>4.7619</td>\n",
       "      <td>45.2381</td>\n",
       "      <td>21.4286</td>\n",
       "      <td>33.3333</td>\n",
       "      <td>35.7143</td>\n",
       "      <td>16.6667</td>\n",
       "    </tr>\n",
       "    <tr>\n",
       "      <th>1</th>\n",
       "      <td>925166866</td>\n",
       "      <td>VISal</td>\n",
       "      <td>18.5185</td>\n",
       "      <td>16.6667</td>\n",
       "      <td>14.8148</td>\n",
       "      <td>14.8148</td>\n",
       "      <td>11.1111</td>\n",
       "      <td>20.3704</td>\n",
       "    </tr>\n",
       "    <tr>\n",
       "      <th>2</th>\n",
       "      <td>924667518</td>\n",
       "      <td>VISpm</td>\n",
       "      <td>13.6364</td>\n",
       "      <td>22.7273</td>\n",
       "      <td>0</td>\n",
       "      <td>29.5455</td>\n",
       "      <td>25</td>\n",
       "      <td>4.54545</td>\n",
       "    </tr>\n",
       "    <tr>\n",
       "      <th>3</th>\n",
       "      <td>924496653</td>\n",
       "      <td>VISam</td>\n",
       "      <td>15</td>\n",
       "      <td>35</td>\n",
       "      <td>5</td>\n",
       "      <td>15</td>\n",
       "      <td>20</td>\n",
       "      <td>10</td>\n",
       "    </tr>\n",
       "    <tr>\n",
       "      <th>4</th>\n",
       "      <td>923803144</td>\n",
       "      <td>VISpm</td>\n",
       "      <td>13.5593</td>\n",
       "      <td>13.5593</td>\n",
       "      <td>11.8644</td>\n",
       "      <td>22.0339</td>\n",
       "      <td>13.5593</td>\n",
       "      <td>8.47458</td>\n",
       "    </tr>\n",
       "    <tr>\n",
       "      <th>5</th>\n",
       "      <td>923685768</td>\n",
       "      <td>VISam</td>\n",
       "      <td>15.1515</td>\n",
       "      <td>18.1818</td>\n",
       "      <td>9.09091</td>\n",
       "      <td>12.1212</td>\n",
       "      <td>21.2121</td>\n",
       "      <td>12.1212</td>\n",
       "    </tr>\n",
       "    <tr>\n",
       "      <th>6</th>\n",
       "      <td>923531162</td>\n",
       "      <td>VISl</td>\n",
       "      <td>4.93827</td>\n",
       "      <td>24.6914</td>\n",
       "      <td>18.5185</td>\n",
       "      <td>25.9259</td>\n",
       "      <td>20.9877</td>\n",
       "      <td>27.1605</td>\n",
       "    </tr>\n",
       "    <tr>\n",
       "      <th>7</th>\n",
       "      <td>923201739</td>\n",
       "      <td>VISal</td>\n",
       "      <td>26</td>\n",
       "      <td>14</td>\n",
       "      <td>16</td>\n",
       "      <td>10</td>\n",
       "      <td>10</td>\n",
       "      <td>24</td>\n",
       "    </tr>\n",
       "  </tbody>\n",
       "</table>\n",
       "</div>"
      ],
      "text/plain": [
       "     expt_id   area translation rotation     left    right  forward backward\n",
       "0  925172886   VISl      4.7619  45.2381  21.4286  33.3333  35.7143  16.6667\n",
       "1  925166866  VISal     18.5185  16.6667  14.8148  14.8148  11.1111  20.3704\n",
       "2  924667518  VISpm     13.6364  22.7273        0  29.5455       25  4.54545\n",
       "3  924496653  VISam          15       35        5       15       20       10\n",
       "4  923803144  VISpm     13.5593  13.5593  11.8644  22.0339  13.5593  8.47458\n",
       "5  923685768  VISam     15.1515  18.1818  9.09091  12.1212  21.2121  12.1212\n",
       "6  923531162   VISl     4.93827  24.6914  18.5185  25.9259  20.9877  27.1605\n",
       "7  923201739  VISal          26       14       16       10       10       24"
      ]
     },
     "execution_count": 374,
     "metadata": {},
     "output_type": "execute_result"
    }
   ],
   "source": [
    "metrics_per_expt_valid"
   ]
  },
  {
   "cell_type": "code",
   "execution_count": 378,
   "metadata": {},
   "outputs": [
    {
     "data": {
      "text/plain": [
       "Text(4.5,38,'AM')"
      ]
     },
     "execution_count": 378,
     "metadata": {},
     "output_type": "execute_result"
    },
    {
     "data": {
      "image/png": "[encoded data removed]",
      "text/plain": [
       "<Figure size 576x432 with 1 Axes>"
      ]
     },
     "metadata": {
      "needs_background": "light"
     },
     "output_type": "display_data"
    }
   ],
   "source": [
    "#with the 0.85 criteria\n",
    "plt.figure(figsize=(8,6))\n",
    "\n",
    "#translation rotation\n",
    "plt.plot([0,1],[4.8, 45.2], 'o-', color='blue')\n",
    "plt.plot([0,1],[4.9, 24.7], 'o-', color='blue')\n",
    "plt.plot([0,1], [18.5, 16.7], 'o-', color='magenta')\n",
    "plt.plot([0,1], [26, 14], 'o-', color='magenta')\n",
    "plt.plot([0,1], [13.6, 22.7], 'o-', color='green')\n",
    "plt.plot([0,1], [13.6, 13.6], 'o-', color='green')\n",
    "plt.plot([0,1], [15, 35], 'o-', color='cyan')\n",
    "plt.plot([0,1], [15.2, 18.2], 'o-', color='cyan')\n",
    "\n",
    "#left right\n",
    "plt.plot([2,3],[21.4, 33.3], 'o-', color='blue')\n",
    "plt.plot([2,3],[18.5, 25.9], 'o-', color='blue')\n",
    "plt.plot([2,3], [14.8, 14.8], 'o-', color='magenta')\n",
    "plt.plot([2,3], [16, 10], 'o-', color='magenta')\n",
    "plt.plot([2,3], [0, 29.5], 'o-', color='green')\n",
    "plt.plot([2,3], [11.8, 22.0], 'o-', color='green')\n",
    "plt.plot([2,3], [5, 15], 'o-', color='cyan')\n",
    "plt.plot([2,3], [9.1, 12.1], 'o-', color='cyan')\n",
    "\n",
    "#backward forward\n",
    "plt.plot([4,5],[16.7, 35.7], 'o-', color='blue')\n",
    "plt.plot([4,5],[27.2, 21.0], 'o-', color='blue')\n",
    "plt.plot([4,5], [20.4, 11.1], 'o-', color='magenta')\n",
    "plt.plot([4,5], [24, 10], 'o-', color='magenta')\n",
    "plt.plot([4,5], [4.5, 25], 'o-', color='green')\n",
    "plt.plot([4,5], [8.5, 13.6], 'o-', color='green')\n",
    "plt.plot([4,5], [10,20], 'o-', color='cyan')\n",
    "plt.plot([4,5], [12.1, 21.2], 'o-', color='cyan')\n",
    "\n",
    "plt.tick_params(labelsize=16)\n",
    "plt.xticks(range(6), ['translation','rotation','left','right','backward','foward'], fontsize=14)\n",
    "plt.ylabel(\"Percent of neurons\", fontsize=18)\n",
    "\n",
    "\n",
    "plt.text(4.5,44, 'LM', color='blue')\n",
    "plt.text(4.5,42, 'AL', color='magenta')\n",
    "plt.text(4.5,40, 'PM', color='green')\n",
    "plt.text(4.5,38, 'AM', color='cyan')"
   ]
  },
  {
   "cell_type": "code",
   "execution_count": 204,
   "metadata": {},
   "outputs": [
    {
     "data": {
      "text/html": [
       "<div>\n",
       "<style scoped>\n",
       "    .dataframe tbody tr th:only-of-type {\n",
       "        vertical-align: middle;\n",
       "    }\n",
       "\n",
       "    .dataframe tbody tr th {\n",
       "        vertical-align: top;\n",
       "    }\n",
       "\n",
       "    .dataframe thead th {\n",
       "        text-align: right;\n",
       "    }\n",
       "</style>\n",
       "<table border=\"1\" class=\"dataframe\">\n",
       "  <thead>\n",
       "    <tr style=\"text-align: right;\">\n",
       "      <th></th>\n",
       "      <th>expt_id</th>\n",
       "      <th>area</th>\n",
       "      <th>translation</th>\n",
       "      <th>rotation</th>\n",
       "      <th>left</th>\n",
       "      <th>right</th>\n",
       "      <th>forward</th>\n",
       "      <th>backward</th>\n",
       "    </tr>\n",
       "  </thead>\n",
       "  <tbody>\n",
       "    <tr>\n",
       "      <th>0</th>\n",
       "      <td>925172886</td>\n",
       "      <td>VISl</td>\n",
       "      <td>1.96078</td>\n",
       "      <td>27.451</td>\n",
       "      <td>11.7647</td>\n",
       "      <td>16.6667</td>\n",
       "      <td>19.6078</td>\n",
       "      <td>9.80392</td>\n",
       "    </tr>\n",
       "    <tr>\n",
       "      <th>1</th>\n",
       "      <td>925166866</td>\n",
       "      <td>VISal</td>\n",
       "      <td>10.1562</td>\n",
       "      <td>10.1562</td>\n",
       "      <td>7.03125</td>\n",
       "      <td>7.8125</td>\n",
       "      <td>6.25</td>\n",
       "      <td>10.9375</td>\n",
       "    </tr>\n",
       "    <tr>\n",
       "      <th>2</th>\n",
       "      <td>924667518</td>\n",
       "      <td>VISpm</td>\n",
       "      <td>7.5188</td>\n",
       "      <td>10.5263</td>\n",
       "      <td>3.00752</td>\n",
       "      <td>21.8045</td>\n",
       "      <td>19.5489</td>\n",
       "      <td>2.25564</td>\n",
       "    </tr>\n",
       "    <tr>\n",
       "      <th>3</th>\n",
       "      <td>924496653</td>\n",
       "      <td>VISam</td>\n",
       "      <td>6.52174</td>\n",
       "      <td>15.2174</td>\n",
       "      <td>1.08696</td>\n",
       "      <td>7.6087</td>\n",
       "      <td>6.52174</td>\n",
       "      <td>6.52174</td>\n",
       "    </tr>\n",
       "    <tr>\n",
       "      <th>4</th>\n",
       "      <td>923803144</td>\n",
       "      <td>VISpm</td>\n",
       "      <td>6.62252</td>\n",
       "      <td>7.28477</td>\n",
       "      <td>5.29801</td>\n",
       "      <td>15.2318</td>\n",
       "      <td>8.60927</td>\n",
       "      <td>4.63576</td>\n",
       "    </tr>\n",
       "    <tr>\n",
       "      <th>5</th>\n",
       "      <td>923685768</td>\n",
       "      <td>VISam</td>\n",
       "      <td>4.46429</td>\n",
       "      <td>16.9643</td>\n",
       "      <td>5.35714</td>\n",
       "      <td>8.92857</td>\n",
       "      <td>13.3929</td>\n",
       "      <td>12.5</td>\n",
       "    </tr>\n",
       "    <tr>\n",
       "      <th>6</th>\n",
       "      <td>923531162</td>\n",
       "      <td>VISl</td>\n",
       "      <td>2.66667</td>\n",
       "      <td>18</td>\n",
       "      <td>11.3333</td>\n",
       "      <td>18</td>\n",
       "      <td>13.3333</td>\n",
       "      <td>15.3333</td>\n",
       "    </tr>\n",
       "    <tr>\n",
       "      <th>7</th>\n",
       "      <td>923201739</td>\n",
       "      <td>VISal</td>\n",
       "      <td>11.9658</td>\n",
       "      <td>6.83761</td>\n",
       "      <td>8.54701</td>\n",
       "      <td>7.69231</td>\n",
       "      <td>7.69231</td>\n",
       "      <td>11.9658</td>\n",
       "    </tr>\n",
       "  </tbody>\n",
       "</table>\n",
       "</div>"
      ],
      "text/plain": [
       "     expt_id   area translation rotation     left    right  forward backward\n",
       "0  925172886   VISl     1.96078   27.451  11.7647  16.6667  19.6078  9.80392\n",
       "1  925166866  VISal     10.1562  10.1562  7.03125   7.8125     6.25  10.9375\n",
       "2  924667518  VISpm      7.5188  10.5263  3.00752  21.8045  19.5489  2.25564\n",
       "3  924496653  VISam     6.52174  15.2174  1.08696   7.6087  6.52174  6.52174\n",
       "4  923803144  VISpm     6.62252  7.28477  5.29801  15.2318  8.60927  4.63576\n",
       "5  923685768  VISam     4.46429  16.9643  5.35714  8.92857  13.3929     12.5\n",
       "6  923531162   VISl     2.66667       18  11.3333       18  13.3333  15.3333\n",
       "7  923201739  VISal     11.9658  6.83761  8.54701  7.69231  7.69231  11.9658"
      ]
     },
     "execution_count": 204,
     "metadata": {},
     "output_type": "execute_result"
    }
   ],
   "source": [
    "metrics_per_expt_valid #without the 0.85 criteria"
   ]
  },
  {
   "cell_type": "code",
   "execution_count": 209,
   "metadata": {},
   "outputs": [
    {
     "data": {
      "text/plain": [
       "Text(4.5,24,'AM')"
      ]
     },
     "execution_count": 209,
     "metadata": {},
     "output_type": "execute_result"
    },
    {
     "data": {
      "image/png": "[encoded data removed]",
      "text/plain": [
       "<Figure size 576x432 with 1 Axes>"
      ]
     },
     "metadata": {
      "needs_background": "light"
     },
     "output_type": "display_data"
    }
   ],
   "source": [
    "plt.figure(figsize=(8,6))\n",
    "\n",
    "plt.plot([0,1],[2.0,27.5], 'o-', color='blue')\n",
    "plt.plot([0,1],[2.7, 18.0], 'o-', color='blue')\n",
    "plt.plot([0,1], [10.2, 10.2], 'o-', color='magenta')\n",
    "plt.plot([0,1], [12.0, 6.8], 'o-', color='magenta')\n",
    "plt.plot([0,1], [7.5, 10.5], 'o-', color='green')\n",
    "plt.plot([0,1], [6.6, 7.3], 'o-', color='green')\n",
    "plt.plot([0,1], [6.5, 15.2], 'o-', color='cyan')\n",
    "plt.plot([0,1], [4.5, 17.0], 'o-', color='cyan')\n",
    "\n",
    "plt.plot([2,3],[11.8,16.7], 'o-', color='blue')\n",
    "plt.plot([2,3],[11.3,18.0], 'o-', color='blue')\n",
    "plt.plot([2,3], [7.0, 7.8], 'o-', color='magenta')\n",
    "plt.plot([2,3], [8.5, 7.7], 'o-', color='magenta')\n",
    "plt.plot([2,3], [3.0, 21.8], 'o-', color='green')\n",
    "plt.plot([2,3], [5.3, 15.2], 'o-', color='green')\n",
    "plt.plot([2,3], [1.1, 7.6], 'o-', color='cyan')\n",
    "plt.plot([2,3], [5.4, 8.9], 'o-', color='cyan')\n",
    "\n",
    "plt.plot([4,5],[9.8,19.6], 'o-', color='blue')\n",
    "plt.plot([4,5],[15.3, 13.3], 'o-', color='blue')\n",
    "plt.plot([4,5], [10.9, 6.3], 'o-', color='magenta')\n",
    "plt.plot([4,5], [12.0, 7.7], 'o-', color='magenta')\n",
    "plt.plot([4,5], [2.3, 19.5], 'o-', color='green')\n",
    "plt.plot([4,5], [4.6, 8.6], 'o-', color='green')\n",
    "plt.plot([4,5], [6.5, 6.5], 'o-', color='cyan')\n",
    "plt.plot([4,5], [12.5, 13.4], 'o-', color='cyan')\n",
    "\n",
    "plt.tick_params(labelsize=16)\n",
    "plt.xticks(range(6), ['translation','rotation','left','right','backward','foward'], fontsize=14)\n",
    "plt.ylabel(\"Percent of neurons\", fontsize=18)\n",
    "\n",
    "\n",
    "plt.text(4.5,27, 'LM', color='blue')\n",
    "plt.text(4.5,26, 'AL', color='magenta')\n",
    "plt.text(4.5,25, 'PM', color='green')\n",
    "plt.text(4.5,24, 'AM', color='cyan')"
   ]
  },
  {
   "cell_type": "code",
   "execution_count": 370,
   "metadata": {},
   "outputs": [
    {
     "data": {
      "text/plain": [
       "(0, 10)"
      ]
     },
     "execution_count": 370,
     "metadata": {},
     "output_type": "execute_result"
    },
    {
     "data": {
      "image/png": "[encoded data removed]",
      "text/plain": [
       "<Figure size 432x288 with 1 Axes>"
      ]
     },
     "metadata": {
      "needs_background": "light"
     },
     "output_type": "display_data"
    }
   ],
   "source": [
    "plt.plot(speed_valid.forward, speed_valid.backward, '.')\n",
    "plt.xlim(0,10)\n",
    "plt.ylim(0,10)"
   ]
  },
  {
   "cell_type": "code",
   "execution_count": 385,
   "metadata": {},
   "outputs": [],
   "source": [
    "temp = valid[(valid.area=='VISl')&np.isfinite(valid.forward)&((valid.right>0.85)|(valid.left>0.85)|(valid.forward>0.85)|(valid.backward>0.85))]\n",
    "temp2 = valid[(valid.area=='VISal')&np.isfinite(valid.forward)&((valid.right>0.85)|(valid.left>0.85)|(valid.forward>0.85)|(valid.backward>0.85))]"
   ]
  },
  {
   "cell_type": "code",
   "execution_count": 388,
   "metadata": {},
   "outputs": [
    {
     "data": {
      "text/html": [
       "<div>\n",
       "<style scoped>\n",
       "    .dataframe tbody tr th:only-of-type {\n",
       "        vertical-align: middle;\n",
       "    }\n",
       "\n",
       "    .dataframe tbody tr th {\n",
       "        vertical-align: top;\n",
       "    }\n",
       "\n",
       "    .dataframe thead th {\n",
       "        text-align: right;\n",
       "    }\n",
       "</style>\n",
       "<table border=\"1\" class=\"dataframe\">\n",
       "  <thead>\n",
       "    <tr style=\"text-align: right;\">\n",
       "      <th></th>\n",
       "      <th>forward</th>\n",
       "      <th>backward</th>\n",
       "      <th>left</th>\n",
       "      <th>right</th>\n",
       "    </tr>\n",
       "  </thead>\n",
       "  <tbody>\n",
       "    <tr>\n",
       "      <th>163</th>\n",
       "      <td>0.345178</td>\n",
       "      <td>0.985028</td>\n",
       "      <td>0.637096</td>\n",
       "      <td>0.644327</td>\n",
       "    </tr>\n",
       "    <tr>\n",
       "      <th>171</th>\n",
       "      <td>0.568181</td>\n",
       "      <td>0.552405</td>\n",
       "      <td>1.208724</td>\n",
       "      <td>0.721471</td>\n",
       "    </tr>\n",
       "    <tr>\n",
       "      <th>174</th>\n",
       "      <td>1.779793</td>\n",
       "      <td>1.662635</td>\n",
       "      <td>6.158609</td>\n",
       "      <td>2.472300</td>\n",
       "    </tr>\n",
       "    <tr>\n",
       "      <th>178</th>\n",
       "      <td>0.591036</td>\n",
       "      <td>1.424237</td>\n",
       "      <td>1.978660</td>\n",
       "      <td>0.897233</td>\n",
       "    </tr>\n",
       "    <tr>\n",
       "      <th>180</th>\n",
       "      <td>1.187572</td>\n",
       "      <td>1.715440</td>\n",
       "      <td>0.576710</td>\n",
       "      <td>0.532276</td>\n",
       "    </tr>\n",
       "  </tbody>\n",
       "</table>\n",
       "</div>"
      ],
      "text/plain": [
       "      forward  backward      left     right\n",
       "163  0.345178  0.985028  0.637096  0.644327\n",
       "171  0.568181  0.552405  1.208724  0.721471\n",
       "174  1.779793  1.662635  6.158609  2.472300\n",
       "178  0.591036  1.424237  1.978660  0.897233\n",
       "180  1.187572  1.715440  0.576710  0.532276"
      ]
     },
     "execution_count": 388,
     "metadata": {},
     "output_type": "execute_result"
    }
   ],
   "source": [
    "temp2[['forward','backward','left','right']].head()"
   ]
  },
  {
   "cell_type": "code",
   "execution_count": null,
   "metadata": {},
   "outputs": [],
   "source": []
  },
  {
   "cell_type": "code",
   "execution_count": null,
   "metadata": {},
   "outputs": [],
   "source": []
  },
  {
   "cell_type": "code",
   "execution_count": null,
   "metadata": {},
   "outputs": [],
   "source": []
  },
  {
   "cell_type": "markdown",
   "metadata": {},
   "source": [
    "## Speed Tuning"
   ]
  },
  {
   "cell_type": "code",
   "execution_count": 212,
   "metadata": {},
   "outputs": [
    {
     "data": {
      "text/html": [
       "<div>\n",
       "<style scoped>\n",
       "    .dataframe tbody tr th:only-of-type {\n",
       "        vertical-align: middle;\n",
       "    }\n",
       "\n",
       "    .dataframe tbody tr th {\n",
       "        vertical-align: top;\n",
       "    }\n",
       "\n",
       "    .dataframe thead th {\n",
       "        text-align: right;\n",
       "    }\n",
       "</style>\n",
       "<table border=\"1\" class=\"dataframe\">\n",
       "  <thead>\n",
       "    <tr style=\"text-align: right;\">\n",
       "      <th></th>\n",
       "      <th>Unnamed: 0</th>\n",
       "      <th>start</th>\n",
       "      <th>end</th>\n",
       "      <th>start_frame</th>\n",
       "      <th>Unnamed: 0.1</th>\n",
       "      <th>approachSpeed</th>\n",
       "      <th>centerLocation</th>\n",
       "      <th>direction</th>\n",
       "      <th>dotNum</th>\n",
       "      <th>dotSize</th>\n",
       "      <th>...</th>\n",
       "      <th>240</th>\n",
       "      <th>241</th>\n",
       "      <th>242</th>\n",
       "      <th>243</th>\n",
       "      <th>244</th>\n",
       "      <th>245</th>\n",
       "      <th>246</th>\n",
       "      <th>247</th>\n",
       "      <th>248</th>\n",
       "      <th>249</th>\n",
       "    </tr>\n",
       "  </thead>\n",
       "  <tbody>\n",
       "    <tr>\n",
       "      <th>0</th>\n",
       "      <td>0</td>\n",
       "      <td>143.0</td>\n",
       "      <td>173.0</td>\n",
       "      <td>3900</td>\n",
       "      <td>65</td>\n",
       "      <td>0.096</td>\n",
       "      <td>-50-10</td>\n",
       "      <td>backward</td>\n",
       "      <td>11882</td>\n",
       "      <td>1</td>\n",
       "      <td>...</td>\n",
       "      <td>0.641319</td>\n",
       "      <td>0.162810</td>\n",
       "      <td>0.401211</td>\n",
       "      <td>0.107713</td>\n",
       "      <td>0.004701</td>\n",
       "      <td>0.573682</td>\n",
       "      <td>0.042897</td>\n",
       "      <td>-0.004666</td>\n",
       "      <td>NaN</td>\n",
       "      <td>0.017387</td>\n",
       "    </tr>\n",
       "    <tr>\n",
       "      <th>1</th>\n",
       "      <td>1</td>\n",
       "      <td>16215.0</td>\n",
       "      <td>16245.0</td>\n",
       "      <td>3900</td>\n",
       "      <td>65</td>\n",
       "      <td>0.096</td>\n",
       "      <td>-50-10</td>\n",
       "      <td>backward</td>\n",
       "      <td>11882</td>\n",
       "      <td>1</td>\n",
       "      <td>...</td>\n",
       "      <td>0.013759</td>\n",
       "      <td>-0.018374</td>\n",
       "      <td>-0.001831</td>\n",
       "      <td>-0.007753</td>\n",
       "      <td>-0.019358</td>\n",
       "      <td>-0.022272</td>\n",
       "      <td>-0.001479</td>\n",
       "      <td>0.003061</td>\n",
       "      <td>NaN</td>\n",
       "      <td>-0.001129</td>\n",
       "    </tr>\n",
       "    <tr>\n",
       "      <th>2</th>\n",
       "      <td>2</td>\n",
       "      <td>29157.0</td>\n",
       "      <td>29187.0</td>\n",
       "      <td>3900</td>\n",
       "      <td>65</td>\n",
       "      <td>0.096</td>\n",
       "      <td>-50-10</td>\n",
       "      <td>backward</td>\n",
       "      <td>11882</td>\n",
       "      <td>1</td>\n",
       "      <td>...</td>\n",
       "      <td>0.002906</td>\n",
       "      <td>-0.006746</td>\n",
       "      <td>-0.015948</td>\n",
       "      <td>-0.012724</td>\n",
       "      <td>-0.007205</td>\n",
       "      <td>0.010173</td>\n",
       "      <td>-0.015551</td>\n",
       "      <td>-0.040067</td>\n",
       "      <td>NaN</td>\n",
       "      <td>-0.011814</td>\n",
       "    </tr>\n",
       "    <tr>\n",
       "      <th>3</th>\n",
       "      <td>3</td>\n",
       "      <td>34996.0</td>\n",
       "      <td>35026.0</td>\n",
       "      <td>3900</td>\n",
       "      <td>65</td>\n",
       "      <td>0.096</td>\n",
       "      <td>-50-10</td>\n",
       "      <td>backward</td>\n",
       "      <td>11882</td>\n",
       "      <td>1</td>\n",
       "      <td>...</td>\n",
       "      <td>0.200271</td>\n",
       "      <td>0.040515</td>\n",
       "      <td>0.040444</td>\n",
       "      <td>0.033456</td>\n",
       "      <td>0.004185</td>\n",
       "      <td>-0.018005</td>\n",
       "      <td>-0.011175</td>\n",
       "      <td>0.039879</td>\n",
       "      <td>NaN</td>\n",
       "      <td>0.014841</td>\n",
       "    </tr>\n",
       "    <tr>\n",
       "      <th>4</th>\n",
       "      <td>4</td>\n",
       "      <td>54137.0</td>\n",
       "      <td>54167.0</td>\n",
       "      <td>3900</td>\n",
       "      <td>65</td>\n",
       "      <td>0.096</td>\n",
       "      <td>-50-10</td>\n",
       "      <td>backward</td>\n",
       "      <td>11882</td>\n",
       "      <td>1</td>\n",
       "      <td>...</td>\n",
       "      <td>0.087474</td>\n",
       "      <td>-0.004253</td>\n",
       "      <td>0.016040</td>\n",
       "      <td>0.010295</td>\n",
       "      <td>0.007069</td>\n",
       "      <td>0.017180</td>\n",
       "      <td>0.001606</td>\n",
       "      <td>0.009123</td>\n",
       "      <td>NaN</td>\n",
       "      <td>0.012248</td>\n",
       "    </tr>\n",
       "  </tbody>\n",
       "</table>\n",
       "<p>5 rows × 263 columns</p>\n",
       "</div>"
      ],
      "text/plain": [
       "   Unnamed: 0    start      end  start_frame  Unnamed: 0.1  approachSpeed  \\\n",
       "0           0    143.0    173.0         3900            65          0.096   \n",
       "1           1  16215.0  16245.0         3900            65          0.096   \n",
       "2           2  29157.0  29187.0         3900            65          0.096   \n",
       "3           3  34996.0  35026.0         3900            65          0.096   \n",
       "4           4  54137.0  54167.0         3900            65          0.096   \n",
       "\n",
       "  centerLocation direction  dotNum  dotSize  ...       240       241  \\\n",
       "0         -50-10  backward   11882        1  ...  0.641319  0.162810   \n",
       "1         -50-10  backward   11882        1  ...  0.013759 -0.018374   \n",
       "2         -50-10  backward   11882        1  ...  0.002906 -0.006746   \n",
       "3         -50-10  backward   11882        1  ...  0.200271  0.040515   \n",
       "4         -50-10  backward   11882        1  ...  0.087474 -0.004253   \n",
       "\n",
       "        242       243       244       245       246       247  248       249  \n",
       "0  0.401211  0.107713  0.004701  0.573682  0.042897 -0.004666  NaN  0.017387  \n",
       "1 -0.001831 -0.007753 -0.019358 -0.022272 -0.001479  0.003061  NaN -0.001129  \n",
       "2 -0.015948 -0.012724 -0.007205  0.010173 -0.015551 -0.040067  NaN -0.011814  \n",
       "3  0.040444  0.033456  0.004185 -0.018005 -0.011175  0.039879  NaN  0.014841  \n",
       "4  0.016040  0.010295  0.007069  0.017180  0.001606  0.009123  NaN  0.012248  \n",
       "\n",
       "[5 rows x 263 columns]"
      ]
     },
     "execution_count": 212,
     "metadata": {},
     "output_type": "execute_result"
    }
   ],
   "source": [
    "temp.head()"
   ]
  },
  {
   "cell_type": "code",
   "execution_count": 213,
   "metadata": {},
   "outputs": [
    {
     "data": {
      "text/plain": [
       "<matplotlib.axes._subplots.AxesSubplot at 0x1a27f47f50>"
      ]
     },
     "execution_count": 213,
     "metadata": {},
     "output_type": "execute_result"
    },
    {
     "data": {
      "image/png": "[encoded data removed]",
      "text/plain": [
       "<Figure size 432x288 with 1 Axes>"
      ]
     },
     "metadata": {
      "needs_background": "light"
     },
     "output_type": "display_data"
    }
   ],
   "source": [
    "sns.pointplot(x='dotSpeed', y=str(nc), data=forward)"
   ]
  },
  {
   "cell_type": "code",
   "execution_count": 238,
   "metadata": {},
   "outputs": [
    {
     "data": {
      "text/plain": [
       "array([ 10,  20,  50, 100, 200, 400])"
      ]
     },
     "execution_count": 238,
     "metadata": {},
     "output_type": "execute_result"
    }
   ],
   "source": [
    "np.sort(forward.dotSpeed.unique())"
   ]
  },
  {
   "cell_type": "code",
   "execution_count": 217,
   "metadata": {},
   "outputs": [
    {
     "data": {
      "text/plain": [
       "0.12380710691961269"
      ]
     },
     "execution_count": 217,
     "metadata": {},
     "output_type": "execute_result"
    }
   ],
   "source": [
    "forward[forward.dotSpeed==10][str(nc)].mean()"
   ]
  },
  {
   "cell_type": "code",
   "execution_count": 221,
   "metadata": {},
   "outputs": [],
   "source": [
    "numbercells = mean_sweep_response.shape[1]"
   ]
  },
  {
   "cell_type": "code",
   "execution_count": 228,
   "metadata": {},
   "outputs": [],
   "source": [
    "speed_forward = np.empty((numbercells, 6, 2))\n",
    "speed_backward = np.empty((numbercells, 6, 2))"
   ]
  },
  {
   "cell_type": "code",
   "execution_count": 243,
   "metadata": {},
   "outputs": [],
   "source": [
    "for i,speed in enumerate(np.sort(stim_table[stim_table.direction=='forward'].dotSpeed.unique())):\n",
    "    speed_forward[:,i,0] = mean_sweep_response[(stim_table.direction=='forward')&(stim_table.dotSpeed==speed)].mean()\n",
    "    speed_forward[:,i,1] = mean_sweep_response[(stim_table.direction=='forward')&(stim_table.dotSpeed==speed)].std()/np.sqrt(len(mean_sweep_response[(stim_table.direction=='forward')&(stim_table.dotSpeed==speed)]))"
   ]
  },
  {
   "cell_type": "code",
   "execution_count": 256,
   "metadata": {},
   "outputs": [],
   "source": [
    "for i,speed in enumerate(np.sort(stim_table[stim_table.direction=='backward'].dotSpeed.unique())):\n",
    "    speed_backward[:,i,0] = mean_sweep_response[(stim_table.direction=='backward')&(stim_table.dotSpeed==speed)].mean()\n",
    "    speed_backward[:,i,1] = mean_sweep_response[(stim_table.direction=='backward')&(stim_table.dotSpeed==speed)].std()/np.sqrt(len(mean_sweep_response[(stim_table.direction=='backward')&(stim_table.dotSpeed==speed)]))"
   ]
  },
  {
   "cell_type": "code",
   "execution_count": 268,
   "metadata": {},
   "outputs": [
    {
     "data": {
      "image/png": "[encoded data removed]",
      "text/plain": [
       "<Figure size 432x288 with 1 Axes>"
      ]
     },
     "metadata": {
      "needs_background": "light"
     },
     "output_type": "display_data"
    }
   ],
   "source": [
    "nc=0\n",
    "plt.errorbar(range(6),speed_forward[nc,:,0], yerr=speed_forward[nc,:,1])\n",
    "plt.errorbar(range(6),speed_backward[nc,:,0], yerr=speed_backward[nc,:,1])\n",
    "plt.xticks(range(6), np.sort(stim_table[stim_table.direction=='forward'].dotSpeed.unique()));"
   ]
  },
  {
   "cell_type": "code",
   "execution_count": 242,
   "metadata": {},
   "outputs": [
    {
     "data": {
      "text/plain": [
       "array([ 10,  19, 199, 398,  49,  99])"
      ]
     },
     "execution_count": 242,
     "metadata": {},
     "output_type": "execute_result"
    }
   ],
   "source": [
    "stim_table[stim_table.direction=='forward'].dotSpeed.unique()"
   ]
  },
  {
   "cell_type": "code",
   "execution_count": 260,
   "metadata": {},
   "outputs": [
    {
     "data": {
      "text/plain": [
       "array(1)"
      ]
     },
     "execution_count": 260,
     "metadata": {},
     "output_type": "execute_result"
    }
   ],
   "source": [
    "np.where(np.max(speed_forward[nc,:,0])>np.max(speed_backward[nc,:,0]), 0,1)"
   ]
  },
  {
   "cell_type": "code",
   "execution_count": 266,
   "metadata": {},
   "outputs": [
    {
     "name": "stdout",
     "output_type": "stream",
     "text": [
      "(0, 99)\n",
      "(1, 10)\n",
      "(2, 49)\n",
      "(3, 19)\n",
      "(4, 398)\n",
      "(5, 10)\n",
      "(6, 199)\n",
      "(7, 49)\n",
      "(8, 10)\n",
      "(9, 10)\n"
     ]
    }
   ],
   "source": [
    "for nc in range(10):\n",
    "    direction = np.where(np.max(speed_forward[nc,:,0])>np.max(speed_backward[nc,:,0]), 0,1)\n",
    "    if direction==0: #forward\n",
    "        pref_speed = np.sort(stim_table[stim_table.direction=='forward'].dotSpeed.unique())[np.argmax(speed_forward[nc,:,0])]\n",
    "    elif direction==1: #backward\n",
    "        pref_speed = np.sort(stim_table[stim_table.direction=='backward'].dotSpeed.unique())[np.argmax(speed_backward[nc,:,0])]\n",
    "    print(nc, pref_speed)\n",
    "        \n",
    "        \n",
    "        \n",
    "        "
   ]
  },
  {
   "cell_type": "code",
   "execution_count": 273,
   "metadata": {},
   "outputs": [
    {
     "data": {
      "image/png": "[encoded data removed]",
      "text/plain": [
       "<Figure size 432x288 with 1 Axes>"
      ]
     },
     "metadata": {
      "needs_background": "light"
     },
     "output_type": "display_data"
    }
   ],
   "source": [
    "nc=6\n",
    "plt.errorbar(range(6),speed_forward[nc,:,0], yerr=speed_forward[nc,:,1])\n",
    "plt.errorbar(range(6),speed_backward[nc,:,0], yerr=speed_backward[nc,:,1])\n",
    "plt.xticks(range(6), np.sort(stim_table[stim_table.direction=='forward'].dotSpeed.unique()));"
   ]
  },
  {
   "cell_type": "code",
   "execution_count": 292,
   "metadata": {},
   "outputs": [],
   "source": [
    "for expt in dot_expts:\n",
    "    filename = os.path.join(r'/Users/saskiad/Dropbox/Openscope Motion/analysis_files', str(expt)+'_analysis.h5')\n",
    "#     f = h5py.File(filename, 'r')\n",
    "#     response = f['response'][()]\n",
    "#     f.close()\n",
    "    stim_table = pd.read_hdf(filename, 'stim_table')\n",
    "    mean_sweep_response = pd.read_hdf(filename, 'mean_sweep_response')\n",
    "    stim_table.rename(columns={'Unnamed: 0.1':'condition'}, inplace=True)\n",
    "    numbercells = mean_sweep_response.shape[1]\n",
    "    \n",
    "    speed_forward = np.empty((numbercells, 6))\n",
    "    speed_backward = np.empty((numbercells, 6))\n",
    "    speed_right = np.empty((numbercells, 6))\n",
    "    speed_left = np.empty((numbercells, 6))\n",
    "    \n",
    "    for i,speed in enumerate(np.sort(stim_table[stim_table.direction=='forward'].dotSpeed.unique())):\n",
    "        speed_forward[:,i] = mean_sweep_response[(stim_table.direction=='forward')&(stim_table.dotSpeed==speed)].mean()\n",
    "    for i,speed in enumerate(np.sort(stim_table[stim_table.direction=='backward'].dotSpeed.unique())):\n",
    "        speed_backward[:,i] = mean_sweep_response[(stim_table.direction=='backward')&(stim_table.dotSpeed==speed)].mean()\n",
    "    for i,speed in enumerate(np.sort(stim_table[stim_table.direction=='right'].dotSpeed.unique())):\n",
    "        speed_right[:,i] = mean_sweep_response[(stim_table.direction=='right')&(stim_table.dotSpeed==speed)].mean()\n",
    "    for i,speed in enumerate(np.sort(stim_table[stim_table.direction=='left'].dotSpeed.unique())):\n",
    "        speed_left[:,i] = mean_sweep_response[(stim_table.direction=='left')&(stim_table.dotSpeed==speed)].mean()\n",
    "\n",
    "    metrics = pd.DataFrame(columns=('expt_id','pref_speed_tr','pref_direction_tr','pref_speed_rot','pref_direction_rot'), index=range(numbercells))\n",
    "    metrics['expt_id'] = expt\n",
    "    \n",
    "    \n",
    "    for nc in range(numbercells):\n",
    "        direction = np.where(np.max(speed_forward[nc,:])>np.max(speed_backward[nc,:]), 0,1)\n",
    "        if direction==0: #forward\n",
    "            pref_speed = np.sort(stim_table[stim_table.direction=='forward'].dotSpeed.unique())[np.argmax(speed_forward[nc,:])]\n",
    "        elif direction==1: #backward\n",
    "            pref_speed = np.sort(stim_table[stim_table.direction=='backward'].dotSpeed.unique())[np.argmax(speed_backward[nc,:])]\n",
    "        metrics.pref_speed_tr.loc[nc] = pref_speed\n",
    "        metrics.pref_direction_tr.loc[nc] = ['forward','backward'][direction]\n",
    "        \n",
    "        direction = np.where(np.max(speed_right[nc,:])>np.max(speed_left[nc,:]), 0,1)\n",
    "        if direction==0: #right\n",
    "            pref_speed = np.sort(stim_table[stim_table.direction=='right'].dotSpeed.unique())[np.argmax(speed_forward[nc,:])]\n",
    "        elif direction==1: #left\n",
    "            pref_speed = np.sort(stim_table[stim_table.direction=='left'].dotSpeed.unique())[np.argmax(speed_backward[nc,:])]\n",
    "        metrics.pref_speed_rot.loc[nc] = pref_speed\n",
    "        metrics.pref_direction_rot.loc[nc] = ['right','left'][direction]\n",
    "\n",
    "    if expt==dot_expts[0]:\n",
    "        speed_all = metrics.copy()\n",
    "    else:\n",
    "        speed_all = speed_all.append(metrics)\n",
    "    "
   ]
  },
  {
   "cell_type": "code",
   "execution_count": 299,
   "metadata": {},
   "outputs": [
    {
     "data": {
      "text/plain": [
       "[<matplotlib.lines.Line2D at 0x1a2b646590>]"
      ]
     },
     "execution_count": 299,
     "metadata": {},
     "output_type": "execute_result"
    },
    {
     "data": {
      "image/png": "[encoded data removed]",
      "text/plain": [
       "<Figure size 432x288 with 1 Axes>"
      ]
     },
     "metadata": {
      "needs_background": "light"
     },
     "output_type": "display_data"
    }
   ],
   "source": [
    "plt.plot(speed_all.index.values)"
   ]
  },
  {
   "cell_type": "code",
   "execution_count": 296,
   "metadata": {},
   "outputs": [],
   "source": [
    "speed_all.rename(columns={'expt_id':'session_id'}, inplace=True)"
   ]
  },
  {
   "cell_type": "code",
   "execution_count": 300,
   "metadata": {},
   "outputs": [],
   "source": [
    "speed_all['cell_id'] = speed_all.index"
   ]
  },
  {
   "cell_type": "code",
   "execution_count": 301,
   "metadata": {},
   "outputs": [],
   "source": [
    "speed_valid = pd.merge(valid, speed_all, on=('session_id','cell_id'), how='left')"
   ]
  },
  {
   "cell_type": "code",
   "execution_count": 302,
   "metadata": {},
   "outputs": [
    {
     "data": {
      "text/plain": [
       "1116"
      ]
     },
     "execution_count": 302,
     "metadata": {},
     "output_type": "execute_result"
    }
   ],
   "source": [
    "len(speed_valid)"
   ]
  },
  {
   "cell_type": "code",
   "execution_count": 304,
   "metadata": {},
   "outputs": [],
   "source": [
    "speed_all.to_csv(os.path.join(r'/Users/saskiad/Dropbox/Openscope Motion/speed_pref.csv'))"
   ]
  },
  {
   "cell_type": "code",
   "execution_count": 305,
   "metadata": {},
   "outputs": [
    {
     "data": {
      "text/plain": [
       "118"
      ]
     },
     "execution_count": 305,
     "metadata": {},
     "output_type": "execute_result"
    }
   ],
   "source": [
    "len(valid[(np.abs(valid.for_back)>0.4)&((valid.forward>0.85)|(valid.backward>0.85))])"
   ]
  },
  {
   "cell_type": "code",
   "execution_count": 309,
   "metadata": {},
   "outputs": [
    {
     "data": {
      "text/plain": [
       "97.69834710743801"
      ]
     },
     "execution_count": 309,
     "metadata": {},
     "output_type": "execute_result"
    }
   ],
   "source": [
    "speed_valid[(speed_valid.forward>0.85)|(speed_valid.backward>0.85)].pref_speed_tr.mean()"
   ]
  },
  {
   "cell_type": "code",
   "execution_count": 313,
   "metadata": {},
   "outputs": [
    {
     "name": "stdout",
     "output_type": "stream",
     "text": [
      "('VISl', 109.6056338028169)\n",
      "('VISl', 119.51923076923077)\n",
      "('VISal', 73.23880597014926)\n",
      "('VISal', 119.41176470588235)\n",
      "('VISpm', 90.71212121212122)\n",
      "('VISpm', 103.38028169014085)\n",
      "('VISam', 130.71052631578948)\n",
      "('VISam', 135.23809523809524)\n"
     ]
    }
   ],
   "source": [
    "for a in areas:\n",
    "    print(a, speed_valid[(speed_valid.area==a)&((speed_valid.forward>0.85)|(speed_valid.backward>0.85))].pref_speed_tr.mean())\n",
    "    print(a, speed_valid[(speed_valid.area==a)&((speed_valid.right>0.85)|(speed_valid.left>0.85))].pref_speed_rot.mean())                 \n",
    "                         \n",
    "                         "
   ]
  },
  {
   "cell_type": "code",
   "execution_count": 320,
   "metadata": {},
   "outputs": [
    {
     "data": {
      "text/plain": [
       "Text(0,0.5,'dot speed')"
      ]
     },
     "execution_count": 320,
     "metadata": {},
     "output_type": "execute_result"
    },
    {
     "data": {
      "image/png": "[encoded data removed]",
      "text/plain": [
       "<Figure size 432x288 with 1 Axes>"
      ]
     },
     "metadata": {
      "needs_background": "light"
     },
     "output_type": "display_data"
    }
   ],
   "source": [
    "plt.bar(range(4), [110, 73, 91, 131], width=0.3)\n",
    "plt.bar(np.arange(0.4, 4, 1.), [120, 119, 103, 135], width=0.3)\n",
    "plt.xticks(range(4), areas);\n",
    "plt.ylabel(\"dot speed\")"
   ]
  },
  {
   "cell_type": "code",
   "execution_count": 322,
   "metadata": {},
   "outputs": [
    {
     "name": "stdout",
     "output_type": "stream",
     "text": [
      "('VISl', 122.82608695652173, 105.5)\n",
      "('VISal', 63.1, 57.65)\n",
      "('VISpm', 89.8125, 55.0)\n",
      "('VISam', 154.55555555555554, 151.0)\n"
     ]
    }
   ],
   "source": [
    "for a in areas:\n",
    "    print(a, speed_valid[(speed_valid.area==a)&(speed_valid.for_back>0.4)&(speed_valid.forward>0.85)].pref_speed_tr.mean(),\n",
    "         speed_valid[(speed_valid.area==a)&(speed_valid.for_back<-0.4)&(speed_valid.backward>0.85)].pref_speed_tr.mean())\n",
    "\n",
    "                         \n",
    "                         "
   ]
  },
  {
   "cell_type": "code",
   "execution_count": 323,
   "metadata": {},
   "outputs": [
    {
     "name": "stdout",
     "output_type": "stream",
     "text": [
      "('VISl', 83.75, 128.54166666666666)\n",
      "('VISal', 82.41666666666667, 92.875)\n",
      "('VISpm', 99.72727272727273, 182.33333333333334)\n",
      "('VISam', 169.0, 99.0)\n"
     ]
    }
   ],
   "source": [
    "for a in areas:\n",
    "    print(a, speed_valid[(speed_valid.area==a)&(speed_valid.right_left>0.4)&(speed_valid.right>0.85)].pref_speed_tr.mean(),\n",
    "         speed_valid[(speed_valid.area==a)&(speed_valid.right_left<-0.4)&(speed_valid.left>0.85)].pref_speed_tr.mean())\n"
   ]
  },
  {
   "cell_type": "code",
   "execution_count": 338,
   "metadata": {},
   "outputs": [
    {
     "data": {
      "text/plain": [
       "<matplotlib.axes._subplots.AxesSubplot at 0x1a2e98d350>"
      ]
     },
     "execution_count": 338,
     "metadata": {},
     "output_type": "execute_result"
    },
    {
     "data": {
      "image/png": "[encoded data removed]",
      "text/plain": [
       "<Figure size 432x288 with 1 Axes>"
      ]
     },
     "metadata": {
      "needs_background": "light"
     },
     "output_type": "display_data"
    }
   ],
   "source": [
    "sns.pointplot(x='area',y='pref_speed_tr', data=speed_valid[(speed_valid.forward>0.85)|(speed_valid.backward>0.85)], hue='pref_direction_tr')\n",
    "# sns.violinplot(x='area',y='pref_speed_tr', data=speed_valid[(speed_valid.forward>0.85)|(speed_valid.backward>0.85)], color='gray')"
   ]
  },
  {
   "cell_type": "code",
   "execution_count": 342,
   "metadata": {},
   "outputs": [
    {
     "data": {
      "text/plain": [
       "<matplotlib.axes._subplots.AxesSubplot at 0x1a2bef5b90>"
      ]
     },
     "execution_count": 342,
     "metadata": {},
     "output_type": "execute_result"
    },
    {
     "data": {
      "image/png": "[encoded data removed]",
      "text/plain": [
       "<Figure size 432x288 with 1 Axes>"
      ]
     },
     "metadata": {
      "needs_background": "light"
     },
     "output_type": "display_data"
    }
   ],
   "source": [
    "sns.pointplot(x='area',y='pref_speed_tr', data=speed_valid[(np.abs(speed_valid.for_back)>0.4)&((speed_valid.forward>0.85)|(speed_valid.backward>0.85))], hue='pref_direction_tr')\n",
    "# sns.violinplot(x='area',y='pref_speed_tr', data=speed_valid[(speed_valid.forward>0.85)|(speed_valid.backward>0.85)], color='gray')"
   ]
  },
  {
   "cell_type": "code",
   "execution_count": 349,
   "metadata": {},
   "outputs": [],
   "source": [
    "forward_areas = np.empty((4,2))\n",
    "for i,a in enumerate(areas):\n",
    "    forward_areas[i,0] = speed_valid[(speed_valid.area==a)&(speed_valid.forward>0.85)&(speed_valid.for_back>0.4)].pref_speed_tr.mean()\n",
    "    forward_areas[i,1] = speed_valid[(speed_valid.area==a)&(speed_valid.forward>0.85)&(speed_valid.for_back>0.4)].pref_speed_tr.std()/np.sqrt(len(speed_valid[(speed_valid.area==a)&(speed_valid.forward>0.85)&(speed_valid.for_back>0.4)]))"
   ]
  },
  {
   "cell_type": "code",
   "execution_count": 353,
   "metadata": {},
   "outputs": [
    {
     "data": {
      "image/png": "[encoded data removed]",
      "text/plain": [
       "<Figure size 432x288 with 1 Axes>"
      ]
     },
     "metadata": {
      "needs_background": "light"
     },
     "output_type": "display_data"
    }
   ],
   "source": [
    "plt.errorbar(range(4), forward_areas[:,0], yerr=forward_areas[:,1], fmt='o-')\n",
    "plt.xticks(range(4), areas);"
   ]
  },
  {
   "cell_type": "code",
   "execution_count": 351,
   "metadata": {},
   "outputs": [],
   "source": [
    "import scipy.stats as st"
   ]
  },
  {
   "cell_type": "code",
   "execution_count": 354,
   "metadata": {},
   "outputs": [
    {
     "data": {
      "text/plain": [
       "Ks_2sampResult(statistic=0.5666666666666667, pvalue=0.05816855009831208)"
      ]
     },
     "execution_count": 354,
     "metadata": {},
     "output_type": "execute_result"
    }
   ],
   "source": [
    "st.ks_2samp(speed_valid[(speed_valid.area=='VISam')&(speed_valid.forward>0.85)&(speed_valid.for_back>0.4)].pref_speed_tr, speed_valid[(speed_valid.area=='VISal')&(speed_valid.forward>0.85)&(speed_valid.for_back>0.4)].pref_speed_tr)"
   ]
  },
  {
   "cell_type": "code",
   "execution_count": null,
   "metadata": {},
   "outputs": [],
   "source": []
  },
  {
   "cell_type": "code",
   "execution_count": 334,
   "metadata": {},
   "outputs": [
    {
     "data": {
      "text/plain": [
       "<matplotlib.axes._subplots.AxesSubplot at 0x1a2e786fd0>"
      ]
     },
     "execution_count": 334,
     "metadata": {},
     "output_type": "execute_result"
    },
    {
     "data": {
      "image/png": "[encoded data removed]",
      "text/plain": [
       "<Figure size 432x288 with 1 Axes>"
      ]
     },
     "metadata": {
      "needs_background": "light"
     },
     "output_type": "display_data"
    }
   ],
   "source": [
    "sns.violinplot(x='area',y='pref_speed_tr', data=speed_valid[(speed_valid.forward>0.85)|(speed_valid.backward>0.85)])"
   ]
  },
  {
   "cell_type": "code",
   "execution_count": 330,
   "metadata": {},
   "outputs": [
    {
     "data": {
      "text/plain": [
       "<matplotlib.axes._subplots.AxesSubplot at 0x1a2c46f9d0>"
      ]
     },
     "execution_count": 330,
     "metadata": {},
     "output_type": "execute_result"
    },
    {
     "data": {
      "image/png": "[encoded data removed]",
      "text/plain": [
       "<Figure size 432x288 with 1 Axes>"
      ]
     },
     "metadata": {
      "needs_background": "light"
     },
     "output_type": "display_data"
    }
   ],
   "source": [
    "sns.pointplot(x='area',y='pref_speed_rot', data=speed_valid[(speed_valid.right>0.85)|(speed_valid.left>0.85)], hue='pref_direction_rot')"
   ]
  },
  {
   "cell_type": "code",
   "execution_count": 355,
   "metadata": {},
   "outputs": [
    {
     "data": {
      "text/plain": [
       "Index([u'cell_id', u'session_id', u'forward', u'backward', u'left', u'right',\n",
       "       u'translation', u'rotation', u'right_left', u'for_back', u'trans_rot',\n",
       "       u'exclude_code', u'exclusion_labels', u'height', u'mask', u'mask_page',\n",
       "       u'valid', u'width', u'x', u'y', u'area', u'pref_speed_tr',\n",
       "       u'pref_direction_tr', u'pref_speed_rot', u'pref_direction_rot'],\n",
       "      dtype='object')"
      ]
     },
     "execution_count": 355,
     "metadata": {},
     "output_type": "execute_result"
    }
   ],
   "source": [
    "speed_valid.keys()"
   ]
  },
  {
   "cell_type": "markdown",
   "metadata": {},
   "source": [
    "## Peak conditions per direction"
   ]
  },
  {
   "cell_type": "code",
   "execution_count": 406,
   "metadata": {},
   "outputs": [],
   "source": [
    "conds = stim_table[stim_table.direction=='right'].condition.unique()"
   ]
  },
  {
   "cell_type": "code",
   "execution_count": 405,
   "metadata": {},
   "outputs": [
    {
     "data": {
      "text/plain": [
       "(180, 161, 2)"
      ]
     },
     "execution_count": 405,
     "metadata": {},
     "output_type": "execute_result"
    }
   ],
   "source": [
    "response.shape"
   ]
  },
  {
   "cell_type": "code",
   "execution_count": 408,
   "metadata": {},
   "outputs": [
    {
     "data": {
      "text/plain": [
       "29"
      ]
     },
     "execution_count": 408,
     "metadata": {},
     "output_type": "execute_result"
    }
   ],
   "source": [
    "np.argmax(response[conds, 0, 0])"
   ]
  },
  {
   "cell_type": "code",
   "execution_count": 410,
   "metadata": {},
   "outputs": [
    {
     "data": {
      "text/plain": [
       "Unnamed: 0             960\n",
       "start                 5922\n",
       "end                   5952\n",
       "start_frame           9000\n",
       "condition              150\n",
       "approachSpeed          NaN\n",
       "centerLocation         NaN\n",
       "direction            right\n",
       "dotNum                 300\n",
       "dotSize                 12\n",
       "dotSpeed                50\n",
       "motion            rotation\n",
       "duration                30\n",
       "Name: 960, dtype: object"
      ]
     },
     "execution_count": 410,
     "metadata": {},
     "output_type": "execute_result"
    }
   ],
   "source": [
    "stim_table[stim_table.condition==conds[29]].iloc[0]"
   ]
  },
  {
   "cell_type": "code",
   "execution_count": null,
   "metadata": {},
   "outputs": [],
   "source": []
  },
  {
   "cell_type": "code",
   "execution_count": 439,
   "metadata": {},
   "outputs": [
    {
     "name": "stdout",
     "output_type": "stream",
     "text": [
      "925172886\n",
      "925166866\n",
      "924667518\n",
      "924496653\n",
      "923803144\n",
      "923685768\n"
     ]
    },
    {
     "ename": "KeyboardInterrupt",
     "evalue": "",
     "output_type": "error",
     "traceback": [
      "\u001b[0;31m---------------------------------------------------------------------------\u001b[0m",
      "\u001b[0;31mKeyboardInterrupt\u001b[0m                         Traceback (most recent call last)",
      "\u001b[0;32m<ipython-input-439-116b03857db3>\u001b[0m in \u001b[0;36m<module>\u001b[0;34m()\u001b[0m\n\u001b[1;32m     16\u001b[0m             \u001b[0mconds\u001b[0m \u001b[0;34m=\u001b[0m \u001b[0mstim_table\u001b[0m\u001b[0;34m[\u001b[0m\u001b[0mstim_table\u001b[0m\u001b[0;34m.\u001b[0m\u001b[0mdirection\u001b[0m\u001b[0;34m==\u001b[0m\u001b[0mdirection\u001b[0m\u001b[0;34m]\u001b[0m\u001b[0;34m.\u001b[0m\u001b[0mcondition\u001b[0m\u001b[0;34m.\u001b[0m\u001b[0munique\u001b[0m\u001b[0;34m(\u001b[0m\u001b[0;34m)\u001b[0m\u001b[0;34m\u001b[0m\u001b[0m\n\u001b[1;32m     17\u001b[0m             \u001b[0mind\u001b[0m \u001b[0;34m=\u001b[0m \u001b[0mnp\u001b[0m\u001b[0;34m.\u001b[0m\u001b[0margmax\u001b[0m\u001b[0;34m(\u001b[0m\u001b[0mresponse\u001b[0m\u001b[0;34m[\u001b[0m\u001b[0mconds\u001b[0m\u001b[0;34m,\u001b[0m \u001b[0mnc\u001b[0m\u001b[0;34m,\u001b[0m \u001b[0;36m0\u001b[0m\u001b[0;34m]\u001b[0m\u001b[0;34m)\u001b[0m\u001b[0;34m\u001b[0m\u001b[0m\n\u001b[0;32m---> 18\u001b[0;31m             \u001b[0mpeak\u001b[0m\u001b[0;34m.\u001b[0m\u001b[0mcell_id\u001b[0m\u001b[0;34m.\u001b[0m\u001b[0mloc\u001b[0m\u001b[0;34m[\u001b[0m\u001b[0mlocnum\u001b[0m\u001b[0;34m]\u001b[0m \u001b[0;34m=\u001b[0m \u001b[0mnc\u001b[0m\u001b[0;34m\u001b[0m\u001b[0m\n\u001b[0m\u001b[1;32m     19\u001b[0m             \u001b[0mpeak\u001b[0m\u001b[0;34m.\u001b[0m\u001b[0mdirection\u001b[0m\u001b[0;34m.\u001b[0m\u001b[0mloc\u001b[0m\u001b[0;34m[\u001b[0m\u001b[0mlocnum\u001b[0m\u001b[0;34m]\u001b[0m \u001b[0;34m=\u001b[0m \u001b[0mdirection\u001b[0m\u001b[0;34m\u001b[0m\u001b[0m\n\u001b[1;32m     20\u001b[0m             \u001b[0mpeak\u001b[0m\u001b[0;34m.\u001b[0m\u001b[0mdotNum\u001b[0m\u001b[0;34m.\u001b[0m\u001b[0mloc\u001b[0m\u001b[0;34m[\u001b[0m\u001b[0mlocnum\u001b[0m\u001b[0;34m]\u001b[0m \u001b[0;34m=\u001b[0m \u001b[0mstim_table\u001b[0m\u001b[0;34m[\u001b[0m\u001b[0mstim_table\u001b[0m\u001b[0;34m.\u001b[0m\u001b[0mcondition\u001b[0m\u001b[0;34m==\u001b[0m\u001b[0mconds\u001b[0m\u001b[0;34m[\u001b[0m\u001b[0mind\u001b[0m\u001b[0;34m]\u001b[0m\u001b[0;34m]\u001b[0m\u001b[0;34m.\u001b[0m\u001b[0mdotNum\u001b[0m\u001b[0;34m.\u001b[0m\u001b[0miloc\u001b[0m\u001b[0;34m[\u001b[0m\u001b[0;36m0\u001b[0m\u001b[0;34m]\u001b[0m\u001b[0;34m\u001b[0m\u001b[0m\n",
      "\u001b[0;32m/Users/saskiad/anaconda2/lib/python2.7/site-packages/pandas/core/indexing.pyc\u001b[0m in \u001b[0;36m__setitem__\u001b[0;34m(self, key, value)\u001b[0m\n\u001b[1;32m    188\u001b[0m             \u001b[0mkey\u001b[0m \u001b[0;34m=\u001b[0m \u001b[0mcom\u001b[0m\u001b[0;34m.\u001b[0m\u001b[0mapply_if_callable\u001b[0m\u001b[0;34m(\u001b[0m\u001b[0mkey\u001b[0m\u001b[0;34m,\u001b[0m \u001b[0mself\u001b[0m\u001b[0;34m.\u001b[0m\u001b[0mobj\u001b[0m\u001b[0;34m)\u001b[0m\u001b[0;34m\u001b[0m\u001b[0m\n\u001b[1;32m    189\u001b[0m         \u001b[0mindexer\u001b[0m \u001b[0;34m=\u001b[0m \u001b[0mself\u001b[0m\u001b[0;34m.\u001b[0m\u001b[0m_get_setitem_indexer\u001b[0m\u001b[0;34m(\u001b[0m\u001b[0mkey\u001b[0m\u001b[0;34m)\u001b[0m\u001b[0;34m\u001b[0m\u001b[0m\n\u001b[0;32m--> 190\u001b[0;31m         \u001b[0mself\u001b[0m\u001b[0;34m.\u001b[0m\u001b[0m_setitem_with_indexer\u001b[0m\u001b[0;34m(\u001b[0m\u001b[0mindexer\u001b[0m\u001b[0;34m,\u001b[0m \u001b[0mvalue\u001b[0m\u001b[0;34m)\u001b[0m\u001b[0;34m\u001b[0m\u001b[0m\n\u001b[0m\u001b[1;32m    191\u001b[0m \u001b[0;34m\u001b[0m\u001b[0m\n\u001b[1;32m    192\u001b[0m     \u001b[0;32mdef\u001b[0m \u001b[0m_validate_key\u001b[0m\u001b[0;34m(\u001b[0m\u001b[0mself\u001b[0m\u001b[0;34m,\u001b[0m \u001b[0mkey\u001b[0m\u001b[0;34m,\u001b[0m \u001b[0maxis\u001b[0m\u001b[0;34m)\u001b[0m\u001b[0;34m:\u001b[0m\u001b[0;34m\u001b[0m\u001b[0m\n",
      "\u001b[0;32m/Users/saskiad/anaconda2/lib/python2.7/site-packages/pandas/core/indexing.pyc\u001b[0m in \u001b[0;36m_setitem_with_indexer\u001b[0;34m(self, indexer, value)\u001b[0m\n\u001b[1;32m    649\u001b[0m \u001b[0;34m\u001b[0m\u001b[0m\n\u001b[1;32m    650\u001b[0m             \u001b[0;31m# check for chained assignment\u001b[0m\u001b[0;34m\u001b[0m\u001b[0;34m\u001b[0m\u001b[0m\n\u001b[0;32m--> 651\u001b[0;31m             \u001b[0mself\u001b[0m\u001b[0;34m.\u001b[0m\u001b[0mobj\u001b[0m\u001b[0;34m.\u001b[0m\u001b[0m_check_is_chained_assignment_possible\u001b[0m\u001b[0;34m(\u001b[0m\u001b[0;34m)\u001b[0m\u001b[0;34m\u001b[0m\u001b[0m\n\u001b[0m\u001b[1;32m    652\u001b[0m \u001b[0;34m\u001b[0m\u001b[0m\n\u001b[1;32m    653\u001b[0m             \u001b[0;31m# actually do the set\u001b[0m\u001b[0;34m\u001b[0m\u001b[0;34m\u001b[0m\u001b[0m\n",
      "\u001b[0;32m/Users/saskiad/anaconda2/lib/python2.7/site-packages/pandas/core/generic.pyc\u001b[0m in \u001b[0;36m_check_is_chained_assignment_possible\u001b[0;34m(self)\u001b[0m\n\u001b[1;32m   3197\u001b[0m             \u001b[0;32mif\u001b[0m \u001b[0mref\u001b[0m \u001b[0;32mis\u001b[0m \u001b[0;32mnot\u001b[0m \u001b[0mNone\u001b[0m \u001b[0;32mand\u001b[0m \u001b[0mref\u001b[0m\u001b[0;34m.\u001b[0m\u001b[0m_is_mixed_type\u001b[0m\u001b[0;34m:\u001b[0m\u001b[0;34m\u001b[0m\u001b[0m\n\u001b[1;32m   3198\u001b[0m                 self._check_setitem_copy(stacklevel=4, t='referant',\n\u001b[0;32m-> 3199\u001b[0;31m                                          force=True)\n\u001b[0m\u001b[1;32m   3200\u001b[0m             \u001b[0;32mreturn\u001b[0m \u001b[0mTrue\u001b[0m\u001b[0;34m\u001b[0m\u001b[0m\n\u001b[1;32m   3201\u001b[0m         \u001b[0;32melif\u001b[0m \u001b[0mself\u001b[0m\u001b[0;34m.\u001b[0m\u001b[0m_is_copy\u001b[0m\u001b[0;34m:\u001b[0m\u001b[0;34m\u001b[0m\u001b[0m\n",
      "\u001b[0;32m/Users/saskiad/anaconda2/lib/python2.7/site-packages/pandas/core/generic.pyc\u001b[0m in \u001b[0;36m_check_setitem_copy\u001b[0;34m(self, stacklevel, t, force)\u001b[0m\n\u001b[1;32m   3243\u001b[0m             \u001b[0;31m# the copy weakref\u001b[0m\u001b[0;34m\u001b[0m\u001b[0;34m\u001b[0m\u001b[0m\n\u001b[1;32m   3244\u001b[0m             \u001b[0;32mtry\u001b[0m\u001b[0;34m:\u001b[0m\u001b[0;34m\u001b[0m\u001b[0m\n\u001b[0;32m-> 3245\u001b[0;31m                 \u001b[0mgc\u001b[0m\u001b[0;34m.\u001b[0m\u001b[0mcollect\u001b[0m\u001b[0;34m(\u001b[0m\u001b[0;36m2\u001b[0m\u001b[0;34m)\u001b[0m\u001b[0;34m\u001b[0m\u001b[0m\n\u001b[0m\u001b[1;32m   3246\u001b[0m                 \u001b[0;32mif\u001b[0m \u001b[0;32mnot\u001b[0m \u001b[0mgc\u001b[0m\u001b[0;34m.\u001b[0m\u001b[0mget_referents\u001b[0m\u001b[0;34m(\u001b[0m\u001b[0mself\u001b[0m\u001b[0;34m.\u001b[0m\u001b[0m_is_copy\u001b[0m\u001b[0;34m(\u001b[0m\u001b[0;34m)\u001b[0m\u001b[0;34m)\u001b[0m\u001b[0;34m:\u001b[0m\u001b[0;34m\u001b[0m\u001b[0m\n\u001b[1;32m   3247\u001b[0m                     \u001b[0mself\u001b[0m\u001b[0;34m.\u001b[0m\u001b[0m_is_copy\u001b[0m \u001b[0;34m=\u001b[0m \u001b[0mNone\u001b[0m\u001b[0;34m\u001b[0m\u001b[0m\n",
      "\u001b[0;31mKeyboardInterrupt\u001b[0m: "
     ]
    }
   ],
   "source": [
    "for expt in dot_expts:\n",
    "    print expt\n",
    "    filename = os.path.join(r'/Users/saskiad/Dropbox/Openscope Motion/analysis_files', str(expt)+'_analysis.h5')\n",
    "    f = h5py.File(filename, 'r')\n",
    "    response = f['response'][()]\n",
    "    f.close()\n",
    "    stim_table = pd.read_hdf(filename, 'stim_table')\n",
    "    stim_table.rename(columns={'Unnamed: 0.1':'condition'}, inplace=True)\n",
    "\n",
    "    numbercells = response.shape[1]\n",
    "    peak = pd.DataFrame(columns=('session_id','cell_id','direction','dotNum','dotSize','dotSpeed', 'response'), index=range(4*numbercells))\n",
    "    peak.session_id = expt\n",
    "    for nc in range(numbercells):\n",
    "        for i,direction in enumerate(['right','left','forward','backward']):\n",
    "            locnum = (nc*4)+i\n",
    "            conds = stim_table[stim_table.direction==direction].condition.unique()\n",
    "            ind = np.argmax(response[conds, nc, 0])\n",
    "            peak.cell_id.loc[locnum] = nc\n",
    "            peak.direction.loc[locnum] = direction\n",
    "            peak.dotNum.loc[locnum] = stim_table[stim_table.condition==conds[ind]].dotNum.iloc[0]\n",
    "            peak.dotSize.loc[locnum] = stim_table[stim_table.condition==conds[ind]].dotSize.iloc[0]\n",
    "            peak.dotSpeed.loc[locnum] = stim_table[stim_table.condition==conds[ind]].dotSpeed.iloc[0]\n",
    "            peak.response.loc[locnum] = response[conds[ind],nc,0]\n",
    "    \n",
    "    if expt==dot_expts[0]:\n",
    "        peak_all = peak.copy()\n",
    "    else:\n",
    "        peak_all = peak_all.append(peak)\n"
   ]
  },
  {
   "cell_type": "code",
   "execution_count": 434,
   "metadata": {},
   "outputs": [
    {
     "data": {
      "text/plain": [
       "(array([ 77.,   0.,   0.,   0.,  63.,   0.,   0.,   0.,   0., 134.]),\n",
       " array([ 5. ,  5.7,  6.4,  7.1,  7.8,  8.5,  9.2,  9.9, 10.6, 11.3, 12. ]),\n",
       " <a list of 10 Patch objects>)"
      ]
     },
     "execution_count": 434,
     "metadata": {},
     "output_type": "execute_result"
    },
    {
     "data": {
      "image/png": "[encoded data removed]",
      "text/plain": [
       "<Figure size 432x288 with 1 Axes>"
      ]
     },
     "metadata": {
      "needs_background": "light"
     },
     "output_type": "display_data"
    }
   ],
   "source": [
    "plt.hist(peak[np.isfinite(peak.response)&(peak.direction.isin(['right','left']))].dotSize)"
   ]
  },
  {
   "cell_type": "code",
   "execution_count": 429,
   "metadata": {},
   "outputs": [],
   "source": [
    "peak['response'] = peak.response.astype(float)"
   ]
  },
  {
   "cell_type": "code",
   "execution_count": 435,
   "metadata": {},
   "outputs": [
    {
     "data": {
      "text/plain": [
       "(array([ 33.,   0.,   0.,   0.,   0.,   0.,   0.,   0.,   0., 104.]),\n",
       " array([1. , 1.1, 1.2, 1.3, 1.4, 1.5, 1.6, 1.7, 1.8, 1.9, 2. ]),\n",
       " <a list of 10 Patch objects>)"
      ]
     },
     "execution_count": 435,
     "metadata": {},
     "output_type": "execute_result"
    },
    {
     "data": {
      "image/png": "[encoded data removed]",
      "text/plain": [
       "<Figure size 432x288 with 1 Axes>"
      ]
     },
     "metadata": {
      "needs_background": "light"
     },
     "output_type": "display_data"
    }
   ],
   "source": [
    "plt.hist(peak[np.isfinite(peak.response)&(peak.direction.isin(['foward','backward']))].dotSize)"
   ]
  },
  {
   "cell_type": "code",
   "execution_count": 437,
   "metadata": {},
   "outputs": [
    {
     "data": {
      "text/plain": [
       "(array([174.,  49.,  17.,  12.,   5.,   3.,   2.,   3.,   0.,   0.,   1.,\n",
       "          3.,   0.,   3.,   0.,   0.,   0.,   0.,   0.,   0.,   0.,   1.,\n",
       "          0.,   0.,   0.,   0.,   0.,   0.,   0.,   1.]),\n",
       " array([0.00956254, 0.09874946, 0.18793637, 0.27712329, 0.3663102 ,\n",
       "        0.45549712, 0.54468403, 0.63387095, 0.72305786, 0.81224478,\n",
       "        0.9014317 , 0.99061861, 1.07980553, 1.16899244, 1.25817936,\n",
       "        1.34736627, 1.43655319, 1.52574011, 1.61492702, 1.70411394,\n",
       "        1.79330085, 1.88248777, 1.97167468, 2.0608616 , 2.15004851,\n",
       "        2.23923543, 2.32842235, 2.41760926, 2.50679618, 2.59598309,\n",
       "        2.68517001]),\n",
       " <a list of 30 Patch objects>)"
      ]
     },
     "execution_count": 437,
     "metadata": {},
     "output_type": "execute_result"
    },
    {
     "data": {
      "image/png": "[encoded data removed]",
      "text/plain": [
       "<Figure size 432x288 with 1 Axes>"
      ]
     },
     "metadata": {
      "needs_background": "light"
     },
     "output_type": "display_data"
    }
   ],
   "source": [
    "plt.hist(peak[np.isfinite(peak.response)&(peak.direction.isin(['right','left']))].response, bins=30)"
   ]
  },
  {
   "cell_type": "code",
   "execution_count": null,
   "metadata": {},
   "outputs": [],
   "source": []
  }
 ],
 "metadata": {
  "kernelspec": {
   "display_name": "Python 2",
   "language": "python",
   "name": "python2"
  }
 },
 "nbformat": 4,
 "nbformat_minor": 2
}
