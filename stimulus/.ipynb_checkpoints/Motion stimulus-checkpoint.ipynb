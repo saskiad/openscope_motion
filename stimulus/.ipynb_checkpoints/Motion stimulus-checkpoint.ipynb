{
 "cells": [
  {
   "cell_type": "code",
   "execution_count": 146,
   "metadata": {
    "collapsed": true
   },
   "outputs": [],
   "source": [
    "import numpy as np\n",
    "import matplotlib.pyplot as plt\n",
    "%matplotlib inline"
   ]
  },
  {
   "cell_type": "code",
   "execution_count": 13,
   "metadata": {
    "collapsed": true
   },
   "outputs": [],
   "source": [
    "pos = np.random.randint(1, high=100, size=20).reshape(10,2)\n",
    "\n",
    "pos-=[50,50]"
   ]
  },
  {
   "cell_type": "code",
   "execution_count": 35,
   "metadata": {
    "collapsed": false
   },
   "outputs": [
    {
     "data": {
      "text/plain": [
       "array([[  6.,  15.],\n",
       "       [ -5.,  21.],\n",
       "       [-47., -31.],\n",
       "       [ 34., -48.],\n",
       "       [-24.,  -3.],\n",
       "       [ 10., -37.],\n",
       "       [  8.,  36.],\n",
       "       [ -2.,  19.],\n",
       "       [  6.,   4.],\n",
       "       [ 33.,  43.]])"
      ]
     },
     "execution_count": 35,
     "metadata": {},
     "output_type": "execute_result"
    }
   ],
   "source": [
    "pos.astype(float)"
   ]
  },
  {
   "cell_type": "code",
   "execution_count": 15,
   "metadata": {
    "collapsed": false
   },
   "outputs": [
    {
     "data": {
      "text/plain": [
       "<matplotlib.lines.Line2D at 0x10ed95b50>"
      ]
     },
     "execution_count": 15,
     "metadata": {},
     "output_type": "execute_result"
    },
    {
     "data": {
      "image/png": "[encoded data removed]",
      "text/plain": [
       "<matplotlib.figure.Figure at 0x10edf7b50>"
      ]
     },
     "metadata": {},
     "output_type": "display_data"
    }
   ],
   "source": [
    "plt.plot(pos[:,0], pos[:,1], 'o')\n",
    "plt.axhline(y=0, ls='--', color='k')\n",
    "plt.axvline(x=0, ls='--', color='k')"
   ]
  },
  {
   "cell_type": "code",
   "execution_count": 16,
   "metadata": {
    "collapsed": true
   },
   "outputs": [],
   "source": [
    "dist = np.sqrt(pos[:,0]**2 + pos[:,1]**2)"
   ]
  },
  {
   "cell_type": "code",
   "execution_count": 17,
   "metadata": {
    "collapsed": false
   },
   "outputs": [
    {
     "data": {
      "text/plain": [
       "array([ 16.15549442,  21.58703314,  56.30275304,  58.82176468,\n",
       "        24.18677324,  38.32753579,  36.87817783,  19.10497317,\n",
       "         7.21110255,  54.20332093])"
      ]
     },
     "execution_count": 17,
     "metadata": {},
     "output_type": "execute_result"
    }
   ],
   "source": [
    "dist"
   ]
  },
  {
   "cell_type": "code",
   "execution_count": 60,
   "metadata": {
    "collapsed": true
   },
   "outputs": [],
   "source": [
    "angle = np.rad2deg(np.arctan(np.abs(pos[:,1])/np.abs(pos[:,0]).astype(float)))"
   ]
  },
  {
   "cell_type": "code",
   "execution_count": 61,
   "metadata": {
    "collapsed": false
   },
   "outputs": [
    {
     "data": {
      "text/plain": [
       "array([ 68.19859051,  76.60750225,  33.40782459,  54.68878656,\n",
       "         7.12501635,  74.87599269,  77.47119229,  83.99099404,\n",
       "        33.69006753,  52.49585764])"
      ]
     },
     "execution_count": 61,
     "metadata": {},
     "output_type": "execute_result"
    }
   ],
   "source": [
    "angle"
   ]
  },
  {
   "cell_type": "code",
   "execution_count": 23,
   "metadata": {
    "collapsed": false
   },
   "outputs": [
    {
     "data": {
      "text/plain": [
       "16.15549442140351"
      ]
     },
     "execution_count": 23,
     "metadata": {},
     "output_type": "execute_result"
    }
   ],
   "source": [
    "np.linalg.norm(pos[0,:])"
   ]
  },
  {
   "cell_type": "code",
   "execution_count": 24,
   "metadata": {
    "collapsed": true
   },
   "outputs": [],
   "source": [
    "viewing_distance = 100"
   ]
  },
  {
   "cell_type": "code",
   "execution_count": 26,
   "metadata": {
    "collapsed": false
   },
   "outputs": [
    {
     "data": {
      "text/plain": [
       "9.1771237089524806"
      ]
     },
     "execution_count": 26,
     "metadata": {},
     "output_type": "execute_result"
    }
   ],
   "source": [
    "np.rad2deg(np.arctan(dist[0]/100))"
   ]
  },
  {
   "cell_type": "code",
   "execution_count": 27,
   "metadata": {
    "collapsed": false
   },
   "outputs": [
    {
     "data": {
      "text/plain": [
       "9.6512659671634378"
      ]
     },
     "execution_count": 27,
     "metadata": {},
     "output_type": "execute_result"
    }
   ],
   "source": [
    "np.rad2deg(np.arctan(dist[0]/95))"
   ]
  },
  {
   "cell_type": "code",
   "execution_count": 31,
   "metadata": {
    "collapsed": false
   },
   "outputs": [
    {
     "name": "stdout",
     "output_type": "stream",
     "text": [
      "9.17712370895\n",
      "9.65126596716\n",
      "10.1765274101\n",
      "10.7615416176\n",
      "11.4169737583\n",
      "12.156145051\n",
      "12.9958976965\n",
      "13.9578127646\n",
      "15.0699557496\n",
      "16.3694263043\n",
      "17.9061577505\n",
      "19.7486956581\n",
      "21.9931597963\n",
      "24.7773649405\n",
      "28.3031961004\n",
      "32.8713437644\n",
      "38.9304011595\n",
      "47.1240113334\n",
      "58.2431361407\n",
      "72.8031099612\n",
      "90.0\n",
      "-72.8031099612\n",
      "-58.2431361407\n",
      "-47.1240113334\n",
      "-38.9304011595\n",
      "-32.8713437644\n",
      "-28.3031961004\n",
      "-24.7773649405\n",
      "-21.9931597963\n",
      "-19.7486956581\n"
     ]
    },
    {
     "name": "stderr",
     "output_type": "stream",
     "text": [
      "/Users/saskiad/anaconda2/lib/python2.7/site-packages/ipykernel/__main__.py:2: RuntimeWarning: divide by zero encountered in double_scalars\n",
      "  from ipykernel import kernelapp as app\n"
     ]
    }
   ],
   "source": [
    "for i in range(30):\n",
    "    print np.rad2deg(np.arctan(dist[0]/(100-5*i)))"
   ]
  },
  {
   "cell_type": "code",
   "execution_count": 135,
   "metadata": {
    "collapsed": false
   },
   "outputs": [
    {
     "data": {
      "text/plain": [
       "(-5, 5)"
      ]
     },
     "execution_count": 135,
     "metadata": {},
     "output_type": "execute_result"
    },
    {
     "data": {
      "image/png": "[encoded data removed]",
      "text/plain": [
       "<matplotlib.figure.Figure at 0x1122282d0>"
      ]
     },
     "metadata": {},
     "output_type": "display_data"
    }
   ],
   "source": [
    "plt.plot( np.tan(np.deg2rad(np.arange(0,200,1.))))\n",
    "plt.ylim(-5,5)"
   ]
  },
  {
   "cell_type": "code",
   "execution_count": null,
   "metadata": {
    "collapsed": true
   },
   "outputs": [],
   "source": []
  },
  {
   "cell_type": "code",
   "execution_count": 119,
   "metadata": {
    "collapsed": false
   },
   "outputs": [
    {
     "name": "stderr",
     "output_type": "stream",
     "text": [
      "/Users/saskiad/anaconda2/lib/python2.7/site-packages/ipykernel/__main__.py:3: RuntimeWarning: divide by zero encountered in double_scalars\n",
      "  app.launch_new_instance()\n"
     ]
    }
   ],
   "source": [
    "temp = np.empty((30))\n",
    "for i in range(30):\n",
    "    step = 5*i\n",
    "    if step>100:\n",
    "        \n",
    "    else:\n",
    "        temp2 = np.rad2deg(np.arctan(dist[0]/(100-step))) \n",
    "\n",
    "    temp[i] = np.rad2deg(np.arctan(dist[0]/(100-step)))"
   ]
  },
  {
   "cell_type": "code",
   "execution_count": 120,
   "metadata": {
    "collapsed": false
   },
   "outputs": [
    {
     "data": {
      "text/plain": [
       "[<matplotlib.lines.Line2D at 0x112308a90>]"
      ]
     },
     "execution_count": 120,
     "metadata": {},
     "output_type": "execute_result"
    },
    {
     "data": {
      "image/png": "[encoded data removed]",
      "text/plain": [
       "<matplotlib.figure.Figure at 0x112319c10>"
      ]
     },
     "metadata": {},
     "output_type": "display_data"
    }
   ],
   "source": [
    "plt.plot(temp)"
   ]
  },
  {
   "cell_type": "code",
   "execution_count": null,
   "metadata": {
    "collapsed": true
   },
   "outputs": [],
   "source": []
  },
  {
   "cell_type": "code",
   "execution_count": null,
   "metadata": {
    "collapsed": true
   },
   "outputs": [],
   "source": [
    "#each position\n",
    "#distance from center\n",
    "#angle from center\n",
    "#increase angle from center\n",
    "#increase distance from center\n",
    "#apply to angle from center\n"
   ]
  },
  {
   "cell_type": "code",
   "execution_count": 43,
   "metadata": {
    "collapsed": true
   },
   "outputs": [],
   "source": [
    "new_ang = np.rad2deg(np.arctan(dist/(100-5*1)))"
   ]
  },
  {
   "cell_type": "code",
   "execution_count": 44,
   "metadata": {
    "collapsed": false
   },
   "outputs": [
    {
     "data": {
      "text/plain": [
       "array([  9.65126597,  12.80204323,  30.65354994,  31.76481706,\n",
       "        14.28390232,  21.97150095,  21.2157813 ,  11.37079523,\n",
       "         4.34078896,  29.70740677])"
      ]
     },
     "execution_count": 44,
     "metadata": {},
     "output_type": "execute_result"
    }
   ],
   "source": [
    "new_ang"
   ]
  },
  {
   "cell_type": "code",
   "execution_count": 47,
   "metadata": {
    "collapsed": true
   },
   "outputs": [],
   "source": [
    "new_dist = 100*np.tan(np.deg2rad(new_ang))"
   ]
  },
  {
   "cell_type": "code",
   "execution_count": 48,
   "metadata": {
    "collapsed": false
   },
   "outputs": [
    {
     "data": {
      "text/plain": [
       "array([ 17.0057836 ,  22.72319278,  59.26605583,  61.91764703,\n",
       "        25.45976131,  40.34477452,  38.81913456,  20.11049808,\n",
       "         7.59063426,  57.0561273 ])"
      ]
     },
     "execution_count": 48,
     "metadata": {},
     "output_type": "execute_result"
    }
   ],
   "source": [
    "new_dist"
   ]
  },
  {
   "cell_type": "code",
   "execution_count": null,
   "metadata": {
    "collapsed": true
   },
   "outputs": [],
   "source": []
  },
  {
   "cell_type": "code",
   "execution_count": 66,
   "metadata": {
    "collapsed": true
   },
   "outputs": [],
   "source": [
    "new_pos = np.empty((10,2))\n",
    "new_pos[:,0] = new_dist*np.cos(np.deg2rad(angle))\n",
    "new_pos[:,1] = new_dist*np.sin(np.deg2rad(angle))\n",
    "new_pos *= np.sign(pos)"
   ]
  },
  {
   "cell_type": "code",
   "execution_count": 67,
   "metadata": {
    "collapsed": false
   },
   "outputs": [
    {
     "data": {
      "text/plain": [
       "array([[  6.31578947,  15.78947368],\n",
       "       [ -5.26315789,  22.10526316],\n",
       "       [-49.47368421, -32.63157895],\n",
       "       [ 35.78947368, -50.52631579],\n",
       "       [-25.26315789,  -3.15789474],\n",
       "       [ 10.52631579, -38.94736842],\n",
       "       [  8.42105263,  37.89473684],\n",
       "       [ -2.10526316,  20.        ],\n",
       "       [  6.31578947,   4.21052632],\n",
       "       [ 34.73684211,  45.26315789]])"
      ]
     },
     "execution_count": 67,
     "metadata": {},
     "output_type": "execute_result"
    }
   ],
   "source": [
    "new_pos"
   ]
  },
  {
   "cell_type": "code",
   "execution_count": 53,
   "metadata": {
    "collapsed": false
   },
   "outputs": [
    {
     "data": {
      "text/plain": [
       "array([[  6,  15],\n",
       "       [ -5,  21],\n",
       "       [-47, -31],\n",
       "       [ 34, -48],\n",
       "       [-24,  -3],\n",
       "       [ 10, -37],\n",
       "       [  8,  36],\n",
       "       [ -2,  19],\n",
       "       [  6,   4],\n",
       "       [ 33,  43]])"
      ]
     },
     "execution_count": 53,
     "metadata": {},
     "output_type": "execute_result"
    }
   ],
   "source": [
    "pos"
   ]
  },
  {
   "cell_type": "code",
   "execution_count": 68,
   "metadata": {
    "collapsed": false
   },
   "outputs": [
    {
     "data": {
      "text/plain": [
       "<matplotlib.lines.Line2D at 0x10f977210>"
      ]
     },
     "execution_count": 68,
     "metadata": {},
     "output_type": "execute_result"
    },
    {
     "data": {
      "image/png": "[encoded data removed]",
      "text/plain": [
       "<matplotlib.figure.Figure at 0x10f960750>"
      ]
     },
     "metadata": {},
     "output_type": "display_data"
    }
   ],
   "source": [
    "plt.plot(pos[:,0], pos[:,1], 'o')\n",
    "plt.plot(new_pos[:,0], new_pos[:,1], 'o')\n",
    "plt.axhline(y=0, ls='--', color='k')\n",
    "plt.axvline(x=0, ls='--', color='k')"
   ]
  },
  {
   "cell_type": "code",
   "execution_count": null,
   "metadata": {
    "collapsed": true
   },
   "outputs": [],
   "source": []
  },
  {
   "cell_type": "code",
   "execution_count": null,
   "metadata": {
    "collapsed": true
   },
   "outputs": [],
   "source": []
  },
  {
   "cell_type": "markdown",
   "metadata": {},
   "source": [
    "## 20 timesteps with interactive viewer"
   ]
  },
  {
   "cell_type": "code",
   "execution_count": 271,
   "metadata": {
    "collapsed": true
   },
   "outputs": [],
   "source": [
    "pos = np.random.randint(1, high=150, size=100).reshape(50,2)\n",
    "\n",
    "pos-=[50,50]"
   ]
  },
  {
   "cell_type": "code",
   "execution_count": 272,
   "metadata": {
    "collapsed": true
   },
   "outputs": [],
   "source": [
    "pos_array = np.empty((50,2,100))\n",
    "pos_array[:,:,0] = pos.copy()"
   ]
  },
  {
   "cell_type": "code",
   "execution_count": 277,
   "metadata": {
    "collapsed": true
   },
   "outputs": [],
   "source": [
    "sign = np.sign(pos)\n",
    "dist = np.sqrt(pos[:,0]**2 + pos[:,1]**2)\n",
    "angle = np.arctan(np.abs(pos[:,1])/np.abs(pos[:,0]).astype(float))\n",
    "for i in range(1,100):\n",
    "    #testing something\n",
    "    sign = np.sign(pos_array[:,:,i-1])\n",
    "    dist = np.sqrt(pos_array[:,0,i-1]**2 + pos_array[:,1,i-1]**2)\n",
    "    angle = np.arctan(np.abs(pos_array[:,1,i-1])/np.abs(pos_array[:,0,i-1]).astype(float))\n",
    "    new_ang = np.arctan(dist/(100-10)) # this is wrong.\n",
    "    #testing repop above\n",
    "#     new_ang = np.arctan(dist/(100-5*i))\n",
    "    new_dist = 100*np.tan(new_ang)\n",
    "    pos_array[:,0,i] = new_dist*np.cos(angle)\n",
    "    pos_array[:,1,i] = new_dist*np.sin(angle)\n",
    "    pos_array[:,:,i] *= sign\n",
    "        \n",
    "#     with repop\n",
    "    repop = np.unique(np.where(np.abs(pos_array[:,:,i])>100)[0])\n",
    "#     print len(repop)/3\n",
    "    for a in repop[:len(repop)/3]:\n",
    "        pos_array[a,:,i] = np.random.normal(loc=0, scale=10., size=2)\n",
    "    for a in repop[:len(repop)/3]:\n",
    "        pos_array[a,:,i] = np.random.normal(loc=0, scale=25., size=2)\n",
    "    for a in repop[:len(repop)/3]:\n",
    "        pos_array[a,:,i] = np.random.normal(loc=0, scale=50., size=2)"
   ]
  },
  {
   "cell_type": "code",
   "execution_count": 227,
   "metadata": {
    "collapsed": false
   },
   "outputs": [
    {
     "data": {
      "text/plain": [
       "<matplotlib.lines.Line2D at 0x11459f2d0>"
      ]
     },
     "execution_count": 227,
     "metadata": {},
     "output_type": "execute_result"
    },
    {
     "data": {
      "image/png": "[encoded data removed]",
      "text/plain": [
       "<matplotlib.figure.Figure at 0x1144623d0>"
      ]
     },
     "metadata": {},
     "output_type": "display_data"
    }
   ],
   "source": [
    "tp = 12\n",
    "plt.plot(pos_array[:,0,0], pos_array[:,1,0], 'o')\n",
    "plt.plot(pos_array[:,0,tp], pos_array[:,1,tp], 'o')\n",
    "plt.axhline(y=0, ls='--', color='k')\n",
    "plt.axvline(x=0, ls='--', color='k')"
   ]
  },
  {
   "cell_type": "code",
   "execution_count": 151,
   "metadata": {
    "collapsed": true
   },
   "outputs": [],
   "source": [
    "from ipywidgets import widgets, interact, interactive\n",
    "from IPython.display import display\n",
    "from IPython.display import Image"
   ]
  },
  {
   "cell_type": "code",
   "execution_count": 279,
   "metadata": {
    "collapsed": false
   },
   "outputs": [
    {
     "data": {
      "application/vnd.jupyter.widget-view+json": {
       "model_id": "a15bd80b171742b19ae271f57c811e1f",
       "version_major": 2,
       "version_minor": 0
      },
      "text/plain": [
       "A Jupyter Widget"
      ]
     },
     "metadata": {},
     "output_type": "display_data"
    }
   ],
   "source": [
    "def f(x):\n",
    "    plt.plot(pos_array[:,0,x-1], pos_array[:,1,x-1], 'o')\n",
    "    plt.plot(pos_array[:,0,x], pos_array[:,1,x], 'o')\n",
    "    plt.axhline(y=0, ls='--', color='k')\n",
    "    plt.axvline(x=0, ls='--', color='k')\n",
    "    plt.xlim(-100,100)\n",
    "    plt.ylim(-100,100)\n",
    "    \n",
    "interact(f, x=(0,99,1));"
   ]
  },
  {
   "cell_type": "code",
   "execution_count": null,
   "metadata": {
    "collapsed": true
   },
   "outputs": [],
   "source": []
  },
  {
   "cell_type": "code",
   "execution_count": null,
   "metadata": {
    "collapsed": true
   },
   "outputs": [],
   "source": []
  },
  {
   "cell_type": "markdown",
   "metadata": {},
   "source": [
    "### Changing center of expansion"
   ]
  },
  {
   "cell_type": "code",
   "execution_count": 280,
   "metadata": {
    "collapsed": true
   },
   "outputs": [],
   "source": [
    "pos_array_recenter = np.empty_like(pos_array)"
   ]
  },
  {
   "cell_type": "code",
   "execution_count": 154,
   "metadata": {
    "collapsed": false
   },
   "outputs": [
    {
     "data": {
      "text/plain": [
       "(50, 2, 20)"
      ]
     },
     "execution_count": 154,
     "metadata": {},
     "output_type": "execute_result"
    }
   ],
   "source": [
    "pos_array.shape"
   ]
  },
  {
   "cell_type": "code",
   "execution_count": 155,
   "metadata": {
    "collapsed": false
   },
   "outputs": [
    {
     "data": {
      "text/plain": [
       "(50, 2)"
      ]
     },
     "execution_count": 155,
     "metadata": {},
     "output_type": "execute_result"
    }
   ],
   "source": [
    "pos.shape"
   ]
  },
  {
   "cell_type": "code",
   "execution_count": 285,
   "metadata": {
    "collapsed": true
   },
   "outputs": [],
   "source": [
    "pos_array_recenter = np.subtract(pos_array, np.tile([60,20], (100,1)).T)"
   ]
  },
  {
   "cell_type": "code",
   "execution_count": 286,
   "metadata": {
    "collapsed": false
   },
   "outputs": [
    {
     "data": {
      "application/vnd.jupyter.widget-view+json": {
       "model_id": "337d123f60a04c339ff4b076c6e5d258",
       "version_major": 2,
       "version_minor": 0
      },
      "text/plain": [
       "A Jupyter Widget"
      ]
     },
     "metadata": {},
     "output_type": "display_data"
    }
   ],
   "source": [
    "def f(x):\n",
    "#     plt.plot(pos_array_recenter[:,0,0], pos_array_recenter[:,1,0], 'o')\n",
    "    plt.plot(pos_array_recenter[:,0,x], pos_array_recenter[:,1,x], 'o')\n",
    "    plt.axhline(y=-20, ls='--', color='k')\n",
    "    plt.axvline(x=-60, ls='--', color='k')\n",
    "    plt.xlim(-100,100)\n",
    "    plt.ylim(-100,100)\n",
    "    \n",
    "interact(f, x=(0,19,1));"
   ]
  },
  {
   "cell_type": "code",
   "execution_count": null,
   "metadata": {
    "collapsed": true
   },
   "outputs": [],
   "source": []
  },
  {
   "cell_type": "code",
   "execution_count": null,
   "metadata": {
    "collapsed": true
   },
   "outputs": [],
   "source": []
  },
  {
   "cell_type": "code",
   "execution_count": 118,
   "metadata": {
    "collapsed": false
   },
   "outputs": [
    {
     "data": {
      "text/plain": [
       "array([ 72.80310996,  76.95908234,  84.92512663,  85.14139202,\n",
       "        78.32008116,  82.5674805 ,  82.27883157,  75.33394492,\n",
       "        55.26351872,  84.72965035])"
      ]
     },
     "execution_count": 118,
     "metadata": {},
     "output_type": "execute_result"
    }
   ],
   "source": [
    "np.rad2deg(new_ang)"
   ]
  },
  {
   "cell_type": "markdown",
   "metadata": {
    "collapsed": true
   },
   "source": [
    "### Need to repopulate dots from close to the center of expansion"
   ]
  },
  {
   "cell_type": "code",
   "execution_count": 165,
   "metadata": {
    "collapsed": false
   },
   "outputs": [
    {
     "data": {
      "text/plain": [
       "(50, 2, 20)"
      ]
     },
     "execution_count": 165,
     "metadata": {},
     "output_type": "execute_result"
    }
   ],
   "source": [
    "pos_array.shape"
   ]
  },
  {
   "cell_type": "code",
   "execution_count": 170,
   "metadata": {
    "collapsed": false
   },
   "outputs": [
    {
     "data": {
      "text/plain": [
       "array([ 9, 20, 31, 34, 35])"
      ]
     },
     "execution_count": 170,
     "metadata": {},
     "output_type": "execute_result"
    }
   ],
   "source": [
    "np.where(np.abs(pos_array[:,:,1])>100)[0]"
   ]
  },
  {
   "cell_type": "code",
   "execution_count": 181,
   "metadata": {
    "collapsed": false
   },
   "outputs": [
    {
     "data": {
      "text/plain": [
       "array([-0.40908738, -0.16269639])"
      ]
     },
     "execution_count": 181,
     "metadata": {},
     "output_type": "execute_result"
    }
   ],
   "source": [
    "np.random.normal(loc=0, scale=2., size=2)"
   ]
  },
  {
   "cell_type": "code",
   "execution_count": 178,
   "metadata": {
    "collapsed": true
   },
   "outputs": [],
   "source": [
    "temp = pos_array[:,:,1]"
   ]
  },
  {
   "cell_type": "code",
   "execution_count": 180,
   "metadata": {
    "collapsed": true
   },
   "outputs": [],
   "source": [
    "repop = np.where(np.abs(temp)>100)[0]"
   ]
  },
  {
   "cell_type": "code",
   "execution_count": 183,
   "metadata": {
    "collapsed": true
   },
   "outputs": [],
   "source": [
    "for a in repop:\n",
    "    temp[a,:] = np.random.normal(loc=0, scale=2., size=2)"
   ]
  },
  {
   "cell_type": "code",
   "execution_count": 204,
   "metadata": {
    "collapsed": false
   },
   "outputs": [
    {
     "data": {
      "text/plain": [
       "array([[  9.47367734e-02,   7.07406500e-01],\n",
       "       [ -5.77036702e+01,   9.45358001e+01],\n",
       "       [  1.22773766e+01,  -5.52481948e+01],\n",
       "       [ -5.77036702e+01,   6.01591455e+01],\n",
       "       [  5.15963545e-01,   2.92721784e+00],\n",
       "       [  1.84160649e+01,   1.10496390e+01],\n",
       "       [  8.96248494e+01,   1.22773766e+01],\n",
       "       [  7.33306549e-01,  -1.24183683e+00],\n",
       "       [  1.71883273e+01,  -2.82379663e+01],\n",
       "       [  1.82659878e-01,   2.54971181e+00],\n",
       "       [  4.54262935e+01,   6.26146208e+01],\n",
       "       [ -2.45547533e+00,   5.15649819e+01],\n",
       "       [ -3.56043922e+01,   3.68321299e+01],\n",
       "       [  4.54262935e+01,   3.80598676e+01],\n",
       "       [  7.48919975e+01,   7.12087845e+01],\n",
       "       [ -2.82379663e+01,   0.00000000e+00],\n",
       "       [  1.47328520e+01,  -3.80598676e+01],\n",
       "       [ -1.22773766e+01,   5.77036702e+01],\n",
       "       [  9.82190131e+00,   1.22773766e+00],\n",
       "       [  9.20803247e+01,  -2.20992779e+01],\n",
       "       [ -3.06934416e+01,  -5.64759325e+01],\n",
       "       [  7.36642598e+01,   9.82190131e+00],\n",
       "       [  5.77036702e+01,   8.47138988e+01],\n",
       "       [  7.98029481e+01,   1.59605896e+01],\n",
       "       [  6.62978338e+01,   7.85752104e+01],\n",
       "       [ -1.35387412e+00,   3.85771955e+00],\n",
       "       [  5.97886854e+00,  -5.52733232e+00],\n",
       "       [  9.57635377e+01,  -1.59605896e+01],\n",
       "       [  5.27927195e+01,   8.59416364e+00],\n",
       "       [ -3.06934416e+01,   5.89314078e+01],\n",
       "       [  2.57824909e+01,   6.62978338e+01],\n",
       "       [  2.87115684e+00,   2.45998712e+00],\n",
       "       [ -9.82190131e+00,   7.73474728e+01],\n",
       "       [  9.82190131e+01,  -2.45547533e+01],\n",
       "       [  2.70102286e+01,   9.45358001e+01],\n",
       "       [  0.00000000e+00,  -1.84160649e+01],\n",
       "       [ -4.66540312e+01,   5.77036702e+01],\n",
       "       [  3.31402259e+00,   1.56961749e+00],\n",
       "       [  8.27866515e+00,  -6.16159415e+00],\n",
       "       [ -7.36642598e+00,  -5.77036702e+01],\n",
       "       [  6.13868832e+01,   9.33080624e+01],\n",
       "       [  7.12087845e+01,   5.64759325e+01],\n",
       "       [  7.24365221e+01,  -5.40204572e+01],\n",
       "       [  3.43766546e+01,   9.82190131e+01],\n",
       "       [  2.57824909e+01,   2.45547533e+00],\n",
       "       [  6.99810468e+01,  -1.22773766e+01],\n",
       "       [  1.92819320e+00,   2.07816764e-01],\n",
       "       [ -1.27456477e+00,   7.34770944e-01],\n",
       "       [  7.36642598e+01,   6.75255715e+01],\n",
       "       [  7.36642598e+00,   8.71693741e+01]])"
      ]
     },
     "execution_count": 204,
     "metadata": {},
     "output_type": "execute_result"
    }
   ],
   "source": [
    "pos_array[:,:,4]"
   ]
  },
  {
   "cell_type": "code",
   "execution_count": 187,
   "metadata": {
    "collapsed": false
   },
   "outputs": [
    {
     "data": {
      "text/plain": [
       "[<matplotlib.lines.Line2D at 0x102a4dc10>]"
      ]
     },
     "execution_count": 187,
     "metadata": {},
     "output_type": "execute_result"
    },
    {
     "data": {
      "image/png": "[encoded data removed]",
      "text/plain": [
       "<matplotlib.figure.Figure at 0x102a4da10>"
      ]
     },
     "metadata": {},
     "output_type": "display_data"
    }
   ],
   "source": [
    "plt.plot(temp[:,0], temp[:,1], 'o')\n",
    "plt.plot(pos_array[:,0,1], pos_array[:,1,1], 'o')\n"
   ]
  },
  {
   "cell_type": "code",
   "execution_count": 212,
   "metadata": {
    "collapsed": false
   },
   "outputs": [
    {
     "data": {
      "text/plain": [
       "[<matplotlib.lines.Line2D at 0x112a75210>]"
      ]
     },
     "execution_count": 212,
     "metadata": {},
     "output_type": "execute_result"
    },
    {
     "data": {
      "image/png": "[encoded data removed]",
      "text/plain": [
       "<matplotlib.figure.Figure at 0x11276ebd0>"
      ]
     },
     "metadata": {},
     "output_type": "display_data"
    }
   ],
   "source": [
    "plt.plot(pos_array[4,0,:])"
   ]
  },
  {
   "cell_type": "code",
   "execution_count": 263,
   "metadata": {
    "collapsed": false
   },
   "outputs": [
    {
     "data": {
      "text/plain": [
       "[<matplotlib.lines.Line2D at 0x117fdb090>]"
      ]
     },
     "execution_count": 263,
     "metadata": {},
     "output_type": "execute_result"
    },
    {
     "data": {
      "image/png": "[encoded data removed]",
      "text/plain": [
       "<matplotlib.figure.Figure at 0x117925410>"
      ]
     },
     "metadata": {},
     "output_type": "display_data"
    }
   ],
   "source": [
    "nc=7\n",
    "plt.plot(np.sqrt((pos_array[nc,0,:]**2)+(pos_array[nc,1,:]**2)))"
   ]
  },
  {
   "cell_type": "code",
   "execution_count": null,
   "metadata": {
    "collapsed": true
   },
   "outputs": [],
   "source": []
  }
 ],
 "metadata": {
  "kernelspec": {
   "display_name": "Python 2",
   "language": "python",
   "name": "python2"
  },
  "language_info": {
   "codemirror_mode": {
    "name": "ipython",
    "version": 2
   },
   "file_extension": ".py",
   "mimetype": "text/x-python",
   "name": "python",
   "nbconvert_exporter": "python",
   "pygments_lexer": "ipython2",
   "version": "2.7.13"
  }
 },
 "nbformat": 4,
 "nbformat_minor": 2
}
