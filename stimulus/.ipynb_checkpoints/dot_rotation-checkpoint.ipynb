{
 "cells": [
  {
   "cell_type": "code",
   "execution_count": 442,
   "metadata": {},
   "outputs": [],
   "source": [
    "import os"
   ]
  },
  {
   "cell_type": "code",
   "execution_count": 2,
   "metadata": {},
   "outputs": [],
   "source": [
    "import numpy as np\n",
    "import matplotlib.pyplot as plt\n",
    "import matplotlib.patches\n",
    "import time\n",
    "from matplotlib.collections import PatchCollection\n",
    "%matplotlib inline"
   ]
  },
  {
   "cell_type": "code",
   "execution_count": 11,
   "metadata": {},
   "outputs": [],
   "source": [
    "import cv2"
   ]
  },
  {
   "cell_type": "code",
   "execution_count": 5,
   "metadata": {},
   "outputs": [],
   "source": [
    "# function to generate random dot positions at specified distance range from center\n",
    "# def getNewDotPositions(dotNum, minDist=5*pixelsPerDegree, maxDist=90*pixelsPerDegree):\n",
    "# def getNewDotPositions(dotNum, minDist=0, maxDist=1130):\n",
    "# #     dists = np.random.uniform(minDist, maxDist, size=dotNum)\n",
    "#     dists = np.random.randint(minDist, high=maxDist, size=dotNum)\n",
    "#     angles = np.pi * np.random.uniform(0, 2, size=dotNum)\n",
    "#     x = dists * np.cos(angles)\n",
    "#     y = dists * np.sin(angles)\n",
    "#     return np.stack([x,y]).T\n",
    "\n",
    "def getNewDotPositions(dotNum):\n",
    "    x = np.random.randint(0, high=screenWidth, size=dotNum)\n",
    "    y = np.random.randint(0, high=screenHeight, size=dotNum)\n",
    "    return np.stack([x,y]).T"
   ]
  },
  {
   "cell_type": "code",
   "execution_count": 68,
   "metadata": {},
   "outputs": [
    {
     "data": {
      "text/plain": [
       "1920"
      ]
     },
     "execution_count": 68,
     "metadata": {},
     "output_type": "execute_result"
    }
   ],
   "source": [
    "960*2"
   ]
  },
  {
   "cell_type": "code",
   "execution_count": 108,
   "metadata": {},
   "outputs": [],
   "source": [
    "viewingDistance = 100\n",
    "radius = 10\n",
    "speed = 40#1\n",
    "dotNum = 420\n",
    "timePoints = 60#1000\n",
    "pixelsPerDegree = 10/2 \n",
    "screenWidth = 1920/2\n",
    "screenHeight = 1200/2"
   ]
  },
  {
   "cell_type": "code",
   "execution_count": 154,
   "metadata": {},
   "outputs": [],
   "source": [
    "#pick dots at random screen positions with respect to center point\n",
    "# centerPos=np.array([-60*pixelsPerDegree,-20*pixelsPerDegree])\n",
    "centerPos=np.array([0,0])\n",
    "pos = getNewDotPositions(dotNum) + centerPos\n"
   ]
  },
  {
   "cell_type": "code",
   "execution_count": 227,
   "metadata": {},
   "outputs": [],
   "source": [
    "#trying different method\n",
    "posArray = np.empty((timePoints, dotNum, 2))\n",
    "posArray[0,:,:] = pos\n",
    "for i in range(1,timePoints):\n",
    "    posArray[i,:,0] = posArray[i-1,:,0] #+ speed*pixelsPerDegree*1/60.\n",
    "    posArray[i,:,1] = posArray[i-1,:,1] - speed*pixelsPerDegree*1/60.\n",
    "    #right\n",
    "#     if any(np.abs(posArray[i,:,0])>screenWidth):\n",
    "#         repopInds = np.where(np.abs(posArray[i,:,0])>screenWidth)[0]\n",
    "#         posArray[i,repopInds,0] = 0#-1*posArray[i,repopInds,0]\n",
    "#         posArray[i,repopInds,1] = np.random.randint(0, high=screenHeight,size=1)\n",
    "    #down   \n",
    "    if any(posArray[i,:,1]<0):\n",
    "            repopInds = np.where(posArray[i,:,1]<0)[0]\n",
    "            posArray[i,repopInds,0] = np.random.randint(0, high=screenWidth,size=len(repopInds))\n",
    "            posArray[i,repopInds,1] = screenHeight\n",
    "        "
   ]
  },
  {
   "cell_type": "code",
   "execution_count": 228,
   "metadata": {},
   "outputs": [
    {
     "name": "stdout",
     "output_type": "stream",
     "text": [
      "371\n",
      "600\n"
     ]
    }
   ],
   "source": [
    "print np.random.randint(0, high=screenWidth,size=1)[0]\n",
    "print screenHeight"
   ]
  },
  {
   "cell_type": "code",
   "execution_count": 229,
   "metadata": {},
   "outputs": [],
   "source": [
    "dotColors = [0, 254]\n",
    "dotColorAssignments = np.random.choice(dotColors, dotNum)\n",
    "\n",
    "backgroundColor=127\n",
    "im_array = []\n",
    "for points in posArray:\n",
    "    im = np.ones([screenHeight, screenWidth])*backgroundColor\n",
    "    for p,c in zip(points, dotColorAssignments):\n",
    "        \n",
    "#         radius = np.min([dist, dist180])*self.scaleFactor\n",
    "        radius = 10\n",
    "        cv2.circle(im, tuple(np.round(p).astype(np.int)), int(radius), int(c), -1)\n",
    "    im_array.append(im.astype(np.uint8))"
   ]
  },
  {
   "cell_type": "code",
   "execution_count": 230,
   "metadata": {},
   "outputs": [],
   "source": [
    "# saveDir = (r'/Volumes/Brain2018/Openscope_Motion/rotation_right_+'+str(dotNum)+'_'+str(speed)+'.npz')\n",
    "\n",
    "# np.savez_compressed(saveDir, im_array=im_array)"
   ]
  },
  {
   "cell_type": "code",
   "execution_count": 231,
   "metadata": {},
   "outputs": [],
   "source": [
    "test = np.array(im_array)"
   ]
  },
  {
   "cell_type": "code",
   "execution_count": 232,
   "metadata": {},
   "outputs": [
    {
     "data": {
      "text/plain": [
       "(60, 600, 960)"
      ]
     },
     "execution_count": 232,
     "metadata": {},
     "output_type": "execute_result"
    }
   ],
   "source": [
    "test.shape"
   ]
  },
  {
   "cell_type": "code",
   "execution_count": 233,
   "metadata": {},
   "outputs": [
    {
     "data": {
      "text/plain": [
       "576000"
      ]
     },
     "execution_count": 233,
     "metadata": {},
     "output_type": "execute_result"
    }
   ],
   "source": [
    "600*960"
   ]
  },
  {
   "cell_type": "code",
   "execution_count": 234,
   "metadata": {},
   "outputs": [
    {
     "data": {
      "text/plain": [
       "<matplotlib.image.AxesImage at 0x12690bd90>"
      ]
     },
     "execution_count": 234,
     "metadata": {},
     "output_type": "execute_result"
    },
    {
     "data": {
      "image/png": "[encoded data removed]",
      "text/plain": [
       "<Figure size 432x288 with 1 Axes>"
      ]
     },
     "metadata": {
      "needs_background": "light"
     },
     "output_type": "display_data"
    }
   ],
   "source": [
    "plt.imshow(test[20,:,:], origin='bottom', cmap='gray')"
   ]
  },
  {
   "cell_type": "code",
   "execution_count": 235,
   "metadata": {},
   "outputs": [
    {
     "data": {
      "text/plain": [
       "<matplotlib.image.AxesImage at 0x126e13590>"
      ]
     },
     "execution_count": 235,
     "metadata": {},
     "output_type": "execute_result"
    },
    {
     "data": {
      "image/png": "[encoded data removed]",
      "text/plain": [
       "<Figure size 432x288 with 1 Axes>"
      ]
     },
     "metadata": {
      "needs_background": "light"
     },
     "output_type": "display_data"
    }
   ],
   "source": [
    "plt.imshow(test[25,:,:], origin='bottom', cmap='gray')\n",
    "plt.imshow(test[23,:,:], origin='bottom', cmap='gray', alpha=0.3)\n",
    "plt.imshow(test[21,:,:], origin='bottom', cmap='gray', alpha=0.1)"
   ]
  },
  {
   "cell_type": "code",
   "execution_count": 116,
   "metadata": {},
   "outputs": [
    {
     "name": "stdout",
     "output_type": "stream",
     "text": [
      "115.1255\n",
      "125.4125\n"
     ]
    }
   ],
   "source": [
    "print test[30,:,:10].mean()\n",
    "print test[30,:,-10:].mean()"
   ]
  },
  {
   "cell_type": "code",
   "execution_count": 117,
   "metadata": {},
   "outputs": [],
   "source": [
    "first50 = np.empty((6))\n",
    "last50 = np.empty((6))\n",
    "mid50 = np.empty((6))\n",
    "for i,v in enumerate([0,10,20,30,40,50]):\n",
    "    first50[i] = test[v,:,:50].mean()\n",
    "    last50[i] = test[v,:,-50:].mean()\n",
    "    mid50[i] = test[v,:,425:475].mean()"
   ]
  },
  {
   "cell_type": "code",
   "execution_count": 118,
   "metadata": {},
   "outputs": [
    {
     "data": {
      "text/plain": [
       "<matplotlib.legend.Legend at 0x12913ffd0>"
      ]
     },
     "execution_count": 118,
     "metadata": {},
     "output_type": "execute_result"
    },
    {
     "data": {
      "image/png": "[encoded data removed]",
      "text/plain": [
       "<Figure size 432x288 with 1 Axes>"
      ]
     },
     "metadata": {
      "needs_background": "light"
     },
     "output_type": "display_data"
    }
   ],
   "source": [
    "plt.plot([0,10,20,30,40,50], first50, label='left')\n",
    "plt.plot([0,10,20,30,40,50], last50,label='right')\n",
    "plt.plot([0,10,20,30,40,50], mid50, label='mid')\n",
    "plt.ylim(0,255)\n",
    "plt.legend()"
   ]
  },
  {
   "cell_type": "code",
   "execution_count": 119,
   "metadata": {},
   "outputs": [
    {
     "data": {
      "text/plain": [
       "127.71150868055555"
      ]
     },
     "execution_count": 119,
     "metadata": {},
     "output_type": "execute_result"
    }
   ],
   "source": [
    "test[0,:,:].mean()"
   ]
  },
  {
   "cell_type": "code",
   "execution_count": 120,
   "metadata": {},
   "outputs": [
    {
     "data": {
      "text/plain": [
       "0.20519270833333333"
      ]
     },
     "execution_count": 120,
     "metadata": {},
     "output_type": "execute_result"
    }
   ],
   "source": [
    "(len(np.where(test[0,:,:]>127)[0])+len(np.where(test[0,:,:]<127)[0]))/576000."
   ]
  },
  {
   "cell_type": "code",
   "execution_count": 121,
   "metadata": {},
   "outputs": [
    {
     "data": {
      "text/plain": [
       "0.19407291666666668"
      ]
     },
     "execution_count": 121,
     "metadata": {},
     "output_type": "execute_result"
    }
   ],
   "source": [
    "(len(np.where(test[30,:,:]>127)[0])+len(np.where(test[30,:,:]<127)[0]))/576000."
   ]
  },
  {
   "cell_type": "code",
   "execution_count": 236,
   "metadata": {},
   "outputs": [],
   "source": [
    "def make_Rotation(dotNum, speed, radius):\n",
    "    centerPos=np.array([0,0])\n",
    "    pos = getNewDotPositions(dotNum) + centerPos\n",
    "    \n",
    "    posArray = np.empty((timePoints, dotNum, 2))\n",
    "    posArray[0,:,:] = pos\n",
    "    for i in range(1,timePoints):\n",
    "        posArray[i,:,0] = posArray[i-1,:,0] + speed*pixelsPerDegree*1/60.\n",
    "        posArray[i,:,1] = posArray[i-1,:,1]\n",
    "        if any(np.abs(posArray[i,:,0])>screenWidth):\n",
    "            repopInds = np.where(np.abs(posArray[i,:,0])>screenWidth)[0]\n",
    "            posArray[i,repopInds,0] = 0#-1*posArray[i,repopInds,0]\n",
    "            posArray[i,repopInds,1] = np.random.randint(0, high=screenHeight,size=len(repopInds))\n",
    "#             posArray[i,repopInds,0] = np.random.randint(-16, high=16, size=len(repopInds))\n",
    "    \n",
    "    dotColors = [0, 254]\n",
    "    dotColorAssignments = np.random.choice(dotColors, dotNum)\n",
    "\n",
    "    backgroundColor=127\n",
    "    im_array = []\n",
    "    for points in posArray:\n",
    "        im = np.ones([screenHeight, screenWidth])*backgroundColor\n",
    "        for p,c in zip(points, dotColorAssignments):\n",
    "\n",
    "    #         radius = np.min([dist, dist180])*self.scaleFactor\n",
    "#             radius = 8\n",
    "            cv2.circle(im, tuple(np.round(p).astype(np.int)), int(radius), int(c), -1)\n",
    "        im_array.append(im.astype(np.uint8))\n",
    "    \n",
    "#     saveDir = (r'/Volumes/programs/braintv/workgroups/nc-ophys/Saskia/openscope_motion/npyfiles_final_final/rotation_right_'+str(dotNum)+'_'+str(speed)+'_'+str(radius))\n",
    "    saveDir = (r'/Volumes/programs/braintv/workgroups/nc-ophys/Saskia/openscope_motion/npyfiles_dec/rotation_right_'+str(dotNum)+'_'+str(speed)+'_'+str(radius))\n",
    "    print saveDir\n",
    "#     np.savez_compressed(saveDir, im_array=im_array)\n",
    "    np.save(saveDir, im_array)\n",
    "    \n",
    "    test = np.array(im_array)\n",
    "#     print test[0,:,:].mean()\n",
    "    print (len(np.where(test[0,:,:]>127)[0])+len(np.where(test[0,:,:]<127)[0]))/576000."
   ]
  },
  {
   "cell_type": "code",
   "execution_count": 237,
   "metadata": {},
   "outputs": [
    {
     "name": "stdout",
     "output_type": "stream",
     "text": [
      "/Volumes/programs/braintv/workgroups/nc-ophys/Saskia/openscope_motion/npyfiles_dec/rotation_right_420_10_10\n",
      "0.207805555556\n",
      "/Volumes/programs/braintv/workgroups/nc-ophys/Saskia/openscope_motion/npyfiles_dec/rotation_right_420_20_10\n",
      "0.206048611111\n",
      "/Volumes/programs/braintv/workgroups/nc-ophys/Saskia/openscope_motion/npyfiles_dec/rotation_right_420_50_10\n",
      "0.206298611111\n",
      "/Volumes/programs/braintv/workgroups/nc-ophys/Saskia/openscope_motion/npyfiles_dec/rotation_right_420_100_10\n",
      "0.20303125\n",
      "/Volumes/programs/braintv/workgroups/nc-ophys/Saskia/openscope_motion/npyfiles_dec/rotation_right_420_200_10\n",
      "0.203807291667\n",
      "/Volumes/programs/braintv/workgroups/nc-ophys/Saskia/openscope_motion/npyfiles_dec/rotation_right_420_400_10\n",
      "0.208277777778\n"
     ]
    }
   ],
   "source": [
    "for i in [10,20,50,100,200,400]:\n",
    "    make_Rotation(dotNum=420, speed=i, radius=10)"
   ]
  },
  {
   "cell_type": "code",
   "execution_count": 71,
   "metadata": {},
   "outputs": [
    {
     "name": "stdout",
     "output_type": "stream",
     "text": [
      "/Volumes/programs/braintv/workgroups/nc-ophys/Saskia/openscope_motion/npyfiles_final_final/rotation_right_300_200_5\n",
      "/Volumes/programs/braintv/workgroups/nc-ophys/Saskia/openscope_motion/npyfiles_final_final/rotation_right_300_200_8\n",
      "/Volumes/programs/braintv/workgroups/nc-ophys/Saskia/openscope_motion/npyfiles_final_final/rotation_right_300_200_12\n",
      "/Volumes/programs/braintv/workgroups/nc-ophys/Saskia/openscope_motion/npyfiles_final_final/rotation_right_300_400_5\n",
      "/Volumes/programs/braintv/workgroups/nc-ophys/Saskia/openscope_motion/npyfiles_final_final/rotation_right_300_400_8\n",
      "/Volumes/programs/braintv/workgroups/nc-ophys/Saskia/openscope_motion/npyfiles_final_final/rotation_right_300_400_12\n",
      "/Volumes/programs/braintv/workgroups/nc-ophys/Saskia/openscope_motion/npyfiles_final_final/rotation_right_545_200_5\n",
      "/Volumes/programs/braintv/workgroups/nc-ophys/Saskia/openscope_motion/npyfiles_final_final/rotation_right_545_200_8\n",
      "/Volumes/programs/braintv/workgroups/nc-ophys/Saskia/openscope_motion/npyfiles_final_final/rotation_right_545_200_12\n",
      "/Volumes/programs/braintv/workgroups/nc-ophys/Saskia/openscope_motion/npyfiles_final_final/rotation_right_545_400_5\n",
      "/Volumes/programs/braintv/workgroups/nc-ophys/Saskia/openscope_motion/npyfiles_final_final/rotation_right_545_400_8\n",
      "/Volumes/programs/braintv/workgroups/nc-ophys/Saskia/openscope_motion/npyfiles_final_final/rotation_right_545_400_12\n",
      "/Volumes/programs/braintv/workgroups/nc-ophys/Saskia/openscope_motion/npyfiles_final_final/rotation_right_1000_200_5\n",
      "/Volumes/programs/braintv/workgroups/nc-ophys/Saskia/openscope_motion/npyfiles_final_final/rotation_right_1000_200_8\n",
      "/Volumes/programs/braintv/workgroups/nc-ophys/Saskia/openscope_motion/npyfiles_final_final/rotation_right_1000_200_12\n",
      "/Volumes/programs/braintv/workgroups/nc-ophys/Saskia/openscope_motion/npyfiles_final_final/rotation_right_1000_400_5\n",
      "/Volumes/programs/braintv/workgroups/nc-ophys/Saskia/openscope_motion/npyfiles_final_final/rotation_right_1000_400_8\n",
      "/Volumes/programs/braintv/workgroups/nc-ophys/Saskia/openscope_motion/npyfiles_final_final/rotation_right_1000_400_12\n"
     ]
    }
   ],
   "source": [
    "for dn in [300,545,1000]:\n",
    "    for i in [200,400]:\n",
    "        for r in [5,8,12]:\n",
    "            make_Rotation(dotNum=dn, speed=i, radius=r)"
   ]
  },
  {
   "cell_type": "code",
   "execution_count": 72,
   "metadata": {},
   "outputs": [
    {
     "name": "stdout",
     "output_type": "stream",
     "text": [
      "/Volumes/programs/braintv/workgroups/nc-ophys/Saskia/openscope_motion/npyfiles_final_final/rotation_right_300_10_5\n",
      "/Volumes/programs/braintv/workgroups/nc-ophys/Saskia/openscope_motion/npyfiles_final_final/rotation_right_300_10_8\n",
      "/Volumes/programs/braintv/workgroups/nc-ophys/Saskia/openscope_motion/npyfiles_final_final/rotation_right_300_10_12\n",
      "/Volumes/programs/braintv/workgroups/nc-ophys/Saskia/openscope_motion/npyfiles_final_final/rotation_right_300_20_5\n",
      "/Volumes/programs/braintv/workgroups/nc-ophys/Saskia/openscope_motion/npyfiles_final_final/rotation_right_300_20_8\n",
      "/Volumes/programs/braintv/workgroups/nc-ophys/Saskia/openscope_motion/npyfiles_final_final/rotation_right_300_20_12\n",
      "/Volumes/programs/braintv/workgroups/nc-ophys/Saskia/openscope_motion/npyfiles_final_final/rotation_right_300_50_5\n",
      "/Volumes/programs/braintv/workgroups/nc-ophys/Saskia/openscope_motion/npyfiles_final_final/rotation_right_300_50_8\n",
      "/Volumes/programs/braintv/workgroups/nc-ophys/Saskia/openscope_motion/npyfiles_final_final/rotation_right_300_50_12\n",
      "/Volumes/programs/braintv/workgroups/nc-ophys/Saskia/openscope_motion/npyfiles_final_final/rotation_right_300_100_5\n",
      "/Volumes/programs/braintv/workgroups/nc-ophys/Saskia/openscope_motion/npyfiles_final_final/rotation_right_300_100_8\n",
      "/Volumes/programs/braintv/workgroups/nc-ophys/Saskia/openscope_motion/npyfiles_final_final/rotation_right_300_100_12\n",
      "/Volumes/programs/braintv/workgroups/nc-ophys/Saskia/openscope_motion/npyfiles_final_final/rotation_right_545_10_5\n",
      "/Volumes/programs/braintv/workgroups/nc-ophys/Saskia/openscope_motion/npyfiles_final_final/rotation_right_545_10_8\n",
      "/Volumes/programs/braintv/workgroups/nc-ophys/Saskia/openscope_motion/npyfiles_final_final/rotation_right_545_10_12\n",
      "/Volumes/programs/braintv/workgroups/nc-ophys/Saskia/openscope_motion/npyfiles_final_final/rotation_right_545_20_5\n",
      "/Volumes/programs/braintv/workgroups/nc-ophys/Saskia/openscope_motion/npyfiles_final_final/rotation_right_545_20_8\n",
      "/Volumes/programs/braintv/workgroups/nc-ophys/Saskia/openscope_motion/npyfiles_final_final/rotation_right_545_20_12\n",
      "/Volumes/programs/braintv/workgroups/nc-ophys/Saskia/openscope_motion/npyfiles_final_final/rotation_right_545_50_5\n",
      "/Volumes/programs/braintv/workgroups/nc-ophys/Saskia/openscope_motion/npyfiles_final_final/rotation_right_545_50_8\n",
      "/Volumes/programs/braintv/workgroups/nc-ophys/Saskia/openscope_motion/npyfiles_final_final/rotation_right_545_50_12\n",
      "/Volumes/programs/braintv/workgroups/nc-ophys/Saskia/openscope_motion/npyfiles_final_final/rotation_right_545_100_5\n",
      "/Volumes/programs/braintv/workgroups/nc-ophys/Saskia/openscope_motion/npyfiles_final_final/rotation_right_545_100_8\n",
      "/Volumes/programs/braintv/workgroups/nc-ophys/Saskia/openscope_motion/npyfiles_final_final/rotation_right_545_100_12\n",
      "/Volumes/programs/braintv/workgroups/nc-ophys/Saskia/openscope_motion/npyfiles_final_final/rotation_right_1000_10_5\n",
      "/Volumes/programs/braintv/workgroups/nc-ophys/Saskia/openscope_motion/npyfiles_final_final/rotation_right_1000_10_8\n",
      "/Volumes/programs/braintv/workgroups/nc-ophys/Saskia/openscope_motion/npyfiles_final_final/rotation_right_1000_10_12\n",
      "/Volumes/programs/braintv/workgroups/nc-ophys/Saskia/openscope_motion/npyfiles_final_final/rotation_right_1000_20_5\n",
      "/Volumes/programs/braintv/workgroups/nc-ophys/Saskia/openscope_motion/npyfiles_final_final/rotation_right_1000_20_8\n",
      "/Volumes/programs/braintv/workgroups/nc-ophys/Saskia/openscope_motion/npyfiles_final_final/rotation_right_1000_20_12\n",
      "/Volumes/programs/braintv/workgroups/nc-ophys/Saskia/openscope_motion/npyfiles_final_final/rotation_right_1000_50_5\n",
      "/Volumes/programs/braintv/workgroups/nc-ophys/Saskia/openscope_motion/npyfiles_final_final/rotation_right_1000_50_8\n",
      "/Volumes/programs/braintv/workgroups/nc-ophys/Saskia/openscope_motion/npyfiles_final_final/rotation_right_1000_50_12\n",
      "/Volumes/programs/braintv/workgroups/nc-ophys/Saskia/openscope_motion/npyfiles_final_final/rotation_right_1000_100_5\n",
      "/Volumes/programs/braintv/workgroups/nc-ophys/Saskia/openscope_motion/npyfiles_final_final/rotation_right_1000_100_8\n",
      "/Volumes/programs/braintv/workgroups/nc-ophys/Saskia/openscope_motion/npyfiles_final_final/rotation_right_1000_100_12\n"
     ]
    }
   ],
   "source": [
    "# for i in [2,5,10,20,40,50,100,200]:\n",
    "#     make_Rotation(dotNum=1750, speed=i)\n",
    "    \n",
    "for dn in [300,545,1000]:\n",
    "    for i in [10,20,50,100]:#,200,400,800]:\n",
    "        for r in [5,8,12]:\n",
    "            make_Rotation(dotNum=dn, speed=i, radius=r)"
   ]
  },
  {
   "cell_type": "code",
   "execution_count": 323,
   "metadata": {},
   "outputs": [
    {
     "data": {
      "text/plain": [
       "108"
      ]
     },
     "execution_count": 323,
     "metadata": {},
     "output_type": "execute_result"
    }
   ],
   "source": [
    "2*3*3*6"
   ]
  },
  {
   "cell_type": "code",
   "execution_count": 249,
   "metadata": {},
   "outputs": [
    {
     "name": "stdout",
     "output_type": "stream",
     "text": [
      "/Volumes/Brain2018/Openscope_Motion/rotation_right_+1750_40.npz\n",
      "126.447461806\n",
      "0.807104178301\n"
     ]
    }
   ],
   "source": [
    "make_Rotation(dotNum=1750, speed=40)"
   ]
  },
  {
   "cell_type": "code",
   "execution_count": 238,
   "metadata": {},
   "outputs": [],
   "source": [
    "def make_Rotation_left(dotNum, speed, radius):\n",
    "    centerPos=np.array([0,0])\n",
    "    pos = getNewDotPositions(dotNum) + centerPos\n",
    "    \n",
    "    posArray = np.empty((timePoints, dotNum, 2))\n",
    "    posArray[0,:,:] = pos\n",
    "    for i in range(1,timePoints):\n",
    "        posArray[i,:,0] = posArray[i-1,:,0] - speed*pixelsPerDegree*1/60.\n",
    "        posArray[i,:,1] = posArray[i-1,:,1]\n",
    "        if any(posArray[i,:,0]<0):\n",
    "            repopInds = np.where(posArray[i,:,0]<0)[0]\n",
    "            posArray[i,repopInds,0] = screenWidth#-1*posArray[i,repopInds,0]\n",
    "            posArray[i,repopInds,1] = np.random.randint(0, high=screenHeight,size=len(repopInds))\n",
    "#             posArray[i,repopInds,0] = np.random.randint(screenWidth-16, high=screenWidth+16, size=len(repopInds))\n",
    "    \n",
    "    dotColors = [0, 254]\n",
    "    dotColorAssignments = np.random.choice(dotColors, dotNum)\n",
    "\n",
    "    backgroundColor=127\n",
    "    im_array = []\n",
    "    for points in posArray:\n",
    "        im = np.ones([screenHeight, screenWidth])*backgroundColor\n",
    "        for p,c in zip(points, dotColorAssignments):\n",
    "\n",
    "    #         radius = np.min([dist, dist180])*self.scaleFactor\n",
    "#             radius = 8\n",
    "            cv2.circle(im, tuple(np.round(p).astype(np.int)), int(radius), int(c), -1)\n",
    "        im_array.append(im.astype(np.uint8))\n",
    "    \n",
    "#     saveDir = (r'/Volumes/programs/braintv/workgroups/nc-ophys/Saskia/openscope_motion/npyfiles_final_final/rotation_left_'+str(dotNum)+'_'+str(speed)+'_'+str(radius)+'.npy')\n",
    "    saveDir = (r'/Volumes/programs/braintv/workgroups/nc-ophys/Saskia/openscope_motion/npyfiles_dec/rotation_left_'+str(dotNum)+'_'+str(speed)+'_'+str(radius))\n",
    "    print saveDir\n",
    "#     np.savez_compressed(saveDir, im_array=im_array)\n",
    "    np.save(saveDir, im_array)\n",
    "    \n",
    "    test = np.array(im_array)\n",
    "#     print test[0,:,:].mean()\n",
    "    print (len(np.where(test[0,:,:]>127)[0])+len(np.where(test[0,:,:]<127)[0]))/576000."
   ]
  },
  {
   "cell_type": "code",
   "execution_count": 239,
   "metadata": {},
   "outputs": [
    {
     "name": "stdout",
     "output_type": "stream",
     "text": [
      "/Volumes/programs/braintv/workgroups/nc-ophys/Saskia/openscope_motion/npyfiles_dec/rotation_left_420_10_10\n",
      "0.202163194444\n",
      "/Volumes/programs/braintv/workgroups/nc-ophys/Saskia/openscope_motion/npyfiles_dec/rotation_left_420_20_10\n",
      "0.205173611111\n",
      "/Volumes/programs/braintv/workgroups/nc-ophys/Saskia/openscope_motion/npyfiles_dec/rotation_left_420_50_10\n",
      "0.204902777778\n",
      "/Volumes/programs/braintv/workgroups/nc-ophys/Saskia/openscope_motion/npyfiles_dec/rotation_left_420_100_10\n",
      "0.205447916667\n",
      "/Volumes/programs/braintv/workgroups/nc-ophys/Saskia/openscope_motion/npyfiles_dec/rotation_left_420_200_10\n",
      "0.205560763889\n",
      "/Volumes/programs/braintv/workgroups/nc-ophys/Saskia/openscope_motion/npyfiles_dec/rotation_left_420_400_10\n",
      "0.204467013889\n"
     ]
    }
   ],
   "source": [
    "for i in [10,20,50,100,200,400]:\n",
    "    make_Rotation_left(dotNum=420, speed=i, radius=10)"
   ]
  },
  {
   "cell_type": "code",
   "execution_count": 75,
   "metadata": {},
   "outputs": [
    {
     "name": "stdout",
     "output_type": "stream",
     "text": [
      "/Volumes/programs/braintv/workgroups/nc-ophys/Saskia/openscope_motion/npyfiles_final_final/rotation_left_300_200_5.npy\n",
      "/Volumes/programs/braintv/workgroups/nc-ophys/Saskia/openscope_motion/npyfiles_final_final/rotation_left_300_200_8.npy\n",
      "/Volumes/programs/braintv/workgroups/nc-ophys/Saskia/openscope_motion/npyfiles_final_final/rotation_left_300_200_12.npy\n",
      "/Volumes/programs/braintv/workgroups/nc-ophys/Saskia/openscope_motion/npyfiles_final_final/rotation_left_300_400_5.npy\n",
      "/Volumes/programs/braintv/workgroups/nc-ophys/Saskia/openscope_motion/npyfiles_final_final/rotation_left_300_400_8.npy\n",
      "/Volumes/programs/braintv/workgroups/nc-ophys/Saskia/openscope_motion/npyfiles_final_final/rotation_left_300_400_12.npy\n",
      "/Volumes/programs/braintv/workgroups/nc-ophys/Saskia/openscope_motion/npyfiles_final_final/rotation_left_545_200_5.npy\n",
      "/Volumes/programs/braintv/workgroups/nc-ophys/Saskia/openscope_motion/npyfiles_final_final/rotation_left_545_200_8.npy\n",
      "/Volumes/programs/braintv/workgroups/nc-ophys/Saskia/openscope_motion/npyfiles_final_final/rotation_left_545_200_12.npy\n",
      "/Volumes/programs/braintv/workgroups/nc-ophys/Saskia/openscope_motion/npyfiles_final_final/rotation_left_545_400_5.npy\n",
      "/Volumes/programs/braintv/workgroups/nc-ophys/Saskia/openscope_motion/npyfiles_final_final/rotation_left_545_400_8.npy\n",
      "/Volumes/programs/braintv/workgroups/nc-ophys/Saskia/openscope_motion/npyfiles_final_final/rotation_left_545_400_12.npy\n",
      "/Volumes/programs/braintv/workgroups/nc-ophys/Saskia/openscope_motion/npyfiles_final_final/rotation_left_1000_200_5.npy\n",
      "/Volumes/programs/braintv/workgroups/nc-ophys/Saskia/openscope_motion/npyfiles_final_final/rotation_left_1000_200_8.npy\n",
      "/Volumes/programs/braintv/workgroups/nc-ophys/Saskia/openscope_motion/npyfiles_final_final/rotation_left_1000_200_12.npy\n",
      "/Volumes/programs/braintv/workgroups/nc-ophys/Saskia/openscope_motion/npyfiles_final_final/rotation_left_1000_400_5.npy\n",
      "/Volumes/programs/braintv/workgroups/nc-ophys/Saskia/openscope_motion/npyfiles_final_final/rotation_left_1000_400_8.npy\n",
      "/Volumes/programs/braintv/workgroups/nc-ophys/Saskia/openscope_motion/npyfiles_final_final/rotation_left_1000_400_12.npy\n"
     ]
    }
   ],
   "source": [
    "for dn in [300,545,1000]:\n",
    "    for i in [200,400]:\n",
    "        for r in [5,8,12]:\n",
    "            make_Rotation_left(dotNum=dn, speed=i, radius=r)\n"
   ]
  },
  {
   "cell_type": "code",
   "execution_count": 74,
   "metadata": {},
   "outputs": [
    {
     "name": "stdout",
     "output_type": "stream",
     "text": [
      "/Volumes/programs/braintv/workgroups/nc-ophys/Saskia/openscope_motion/npyfiles_final_final/rotation_left_300_10_5.npy\n",
      "/Volumes/programs/braintv/workgroups/nc-ophys/Saskia/openscope_motion/npyfiles_final_final/rotation_left_300_10_8.npy\n",
      "/Volumes/programs/braintv/workgroups/nc-ophys/Saskia/openscope_motion/npyfiles_final_final/rotation_left_300_10_12.npy\n",
      "/Volumes/programs/braintv/workgroups/nc-ophys/Saskia/openscope_motion/npyfiles_final_final/rotation_left_300_20_5.npy\n",
      "/Volumes/programs/braintv/workgroups/nc-ophys/Saskia/openscope_motion/npyfiles_final_final/rotation_left_300_20_8.npy\n",
      "/Volumes/programs/braintv/workgroups/nc-ophys/Saskia/openscope_motion/npyfiles_final_final/rotation_left_300_20_12.npy\n",
      "/Volumes/programs/braintv/workgroups/nc-ophys/Saskia/openscope_motion/npyfiles_final_final/rotation_left_300_50_5.npy\n",
      "/Volumes/programs/braintv/workgroups/nc-ophys/Saskia/openscope_motion/npyfiles_final_final/rotation_left_300_50_8.npy\n",
      "/Volumes/programs/braintv/workgroups/nc-ophys/Saskia/openscope_motion/npyfiles_final_final/rotation_left_300_50_12.npy\n",
      "/Volumes/programs/braintv/workgroups/nc-ophys/Saskia/openscope_motion/npyfiles_final_final/rotation_left_300_100_5.npy\n",
      "/Volumes/programs/braintv/workgroups/nc-ophys/Saskia/openscope_motion/npyfiles_final_final/rotation_left_300_100_8.npy\n",
      "/Volumes/programs/braintv/workgroups/nc-ophys/Saskia/openscope_motion/npyfiles_final_final/rotation_left_300_100_12.npy\n",
      "/Volumes/programs/braintv/workgroups/nc-ophys/Saskia/openscope_motion/npyfiles_final_final/rotation_left_545_10_5.npy\n",
      "/Volumes/programs/braintv/workgroups/nc-ophys/Saskia/openscope_motion/npyfiles_final_final/rotation_left_545_10_8.npy\n",
      "/Volumes/programs/braintv/workgroups/nc-ophys/Saskia/openscope_motion/npyfiles_final_final/rotation_left_545_10_12.npy\n",
      "/Volumes/programs/braintv/workgroups/nc-ophys/Saskia/openscope_motion/npyfiles_final_final/rotation_left_545_20_5.npy\n",
      "/Volumes/programs/braintv/workgroups/nc-ophys/Saskia/openscope_motion/npyfiles_final_final/rotation_left_545_20_8.npy\n",
      "/Volumes/programs/braintv/workgroups/nc-ophys/Saskia/openscope_motion/npyfiles_final_final/rotation_left_545_20_12.npy\n",
      "/Volumes/programs/braintv/workgroups/nc-ophys/Saskia/openscope_motion/npyfiles_final_final/rotation_left_545_50_5.npy\n",
      "/Volumes/programs/braintv/workgroups/nc-ophys/Saskia/openscope_motion/npyfiles_final_final/rotation_left_545_50_8.npy\n",
      "/Volumes/programs/braintv/workgroups/nc-ophys/Saskia/openscope_motion/npyfiles_final_final/rotation_left_545_50_12.npy\n",
      "/Volumes/programs/braintv/workgroups/nc-ophys/Saskia/openscope_motion/npyfiles_final_final/rotation_left_545_100_5.npy\n",
      "/Volumes/programs/braintv/workgroups/nc-ophys/Saskia/openscope_motion/npyfiles_final_final/rotation_left_545_100_8.npy\n",
      "/Volumes/programs/braintv/workgroups/nc-ophys/Saskia/openscope_motion/npyfiles_final_final/rotation_left_545_100_12.npy\n",
      "/Volumes/programs/braintv/workgroups/nc-ophys/Saskia/openscope_motion/npyfiles_final_final/rotation_left_1000_10_5.npy\n",
      "/Volumes/programs/braintv/workgroups/nc-ophys/Saskia/openscope_motion/npyfiles_final_final/rotation_left_1000_10_8.npy\n",
      "/Volumes/programs/braintv/workgroups/nc-ophys/Saskia/openscope_motion/npyfiles_final_final/rotation_left_1000_10_12.npy\n",
      "/Volumes/programs/braintv/workgroups/nc-ophys/Saskia/openscope_motion/npyfiles_final_final/rotation_left_1000_20_5.npy\n",
      "/Volumes/programs/braintv/workgroups/nc-ophys/Saskia/openscope_motion/npyfiles_final_final/rotation_left_1000_20_8.npy\n",
      "/Volumes/programs/braintv/workgroups/nc-ophys/Saskia/openscope_motion/npyfiles_final_final/rotation_left_1000_20_12.npy\n",
      "/Volumes/programs/braintv/workgroups/nc-ophys/Saskia/openscope_motion/npyfiles_final_final/rotation_left_1000_50_5.npy\n",
      "/Volumes/programs/braintv/workgroups/nc-ophys/Saskia/openscope_motion/npyfiles_final_final/rotation_left_1000_50_8.npy\n",
      "/Volumes/programs/braintv/workgroups/nc-ophys/Saskia/openscope_motion/npyfiles_final_final/rotation_left_1000_50_12.npy\n",
      "/Volumes/programs/braintv/workgroups/nc-ophys/Saskia/openscope_motion/npyfiles_final_final/rotation_left_1000_100_5.npy\n",
      "/Volumes/programs/braintv/workgroups/nc-ophys/Saskia/openscope_motion/npyfiles_final_final/rotation_left_1000_100_8.npy\n",
      "/Volumes/programs/braintv/workgroups/nc-ophys/Saskia/openscope_motion/npyfiles_final_final/rotation_left_1000_100_12.npy\n"
     ]
    }
   ],
   "source": [
    "for dn in [300,545,1000]:\n",
    "    for i in [10,20,50,100]:\n",
    "        for r in [5,8,12]:\n",
    "            make_Rotation_left(dotNum=dn, speed=i, radius=r)\n"
   ]
  },
  {
   "cell_type": "code",
   "execution_count": null,
   "metadata": {
    "collapsed": true
   },
   "outputs": [],
   "source": []
  },
  {
   "cell_type": "code",
   "execution_count": 83,
   "metadata": {
    "collapsed": true
   },
   "outputs": [],
   "source": [
    "temp = np.load(r'/Volumes/programs/braintv/workgroups/nc-ophys/Saskia/openscope_motion/npyfiles_final_final/rotation_right_300_20_5.npy')"
   ]
  },
  {
   "cell_type": "code",
   "execution_count": 84,
   "metadata": {},
   "outputs": [
    {
     "data": {
      "text/plain": [
       "(60, 600, 960)"
      ]
     },
     "execution_count": 84,
     "metadata": {},
     "output_type": "execute_result"
    }
   ],
   "source": [
    "temp.shape"
   ]
  },
  {
   "cell_type": "code",
   "execution_count": 226,
   "metadata": {},
   "outputs": [
    {
     "name": "stdout",
     "output_type": "stream",
     "text": [
      "[654]\n",
      "600\n"
     ]
    }
   ],
   "source": [
    "print np.random.randint(0, high=screenWidth,size=1)\n",
    "print screenHeight"
   ]
  },
  {
   "cell_type": "code",
   "execution_count": 240,
   "metadata": {},
   "outputs": [],
   "source": [
    "def make_Rotation_down(dotNum, speed, radius):\n",
    "    centerPos=np.array([0,0])\n",
    "    pos = getNewDotPositions(dotNum) + centerPos\n",
    "    \n",
    "    posArray = np.empty((timePoints, dotNum, 2))\n",
    "    posArray[0,:,:] = pos\n",
    "    for i in range(1,timePoints):\n",
    "        posArray[i,:,1] = posArray[i-1,:,1] - speed*pixelsPerDegree*1/60.\n",
    "        posArray[i,:,0] = posArray[i-1,:,0]\n",
    "        if any(posArray[i,:,1]<0):\n",
    "            repopInds = np.where(posArray[i,:,1]<0)[0]\n",
    "#             posArray[i,repopInds,0] = screenHeight#-1*posArray[i,repopInds,0]\n",
    "            posArray[i,repopInds,0] = np.random.randint(0, high=screenWidth,size=len(repopInds))\n",
    "            posArray[i,repopInds,1] = screenHeight\n",
    "    \n",
    "    dotColors = [0, 254]\n",
    "    dotColorAssignments = np.random.choice(dotColors, dotNum)\n",
    "\n",
    "    backgroundColor=127\n",
    "    im_array = []\n",
    "    for points in posArray:\n",
    "        im = np.ones([screenHeight, screenWidth])*backgroundColor\n",
    "        for p,c in zip(points, dotColorAssignments):\n",
    "            cv2.circle(im, tuple(np.round(p).astype(np.int)), int(radius), int(c), -1)\n",
    "        im_array.append(im.astype(np.uint8))\n",
    "    \n",
    "#     saveDir = (r'/Volumes/Brain2018/Openscope_Motion/npyfiles/rotation_down_+'+str(dotNum)+'_'+str(speed)+'.npy')\n",
    "    saveDir = (r'/Volumes/programs/braintv/workgroups/nc-ophys/Saskia/openscope_motion/npyfiles_dec/rotation_down_'+str(dotNum)+'_'+str(speed)+'_'+str(radius))\n",
    "    print saveDir\n",
    "#     np.savez_compressed(saveDir, im_array=im_array) #notsure when this used\n",
    "    np.save(saveDir, im_array)\n",
    "    \n",
    "    test = np.array(im_array)\n",
    "    print test[0,:,:].mean()\n",
    "    print (len(np.where(test[0,:,:]>127)[0])+len(np.where(test[0,:,:]<127)[0]))/576000."
   ]
  },
  {
   "cell_type": "code",
   "execution_count": 241,
   "metadata": {},
   "outputs": [
    {
     "name": "stdout",
     "output_type": "stream",
     "text": [
      "/Volumes/programs/braintv/workgroups/nc-ophys/Saskia/openscope_motion/npyfiles_dec/rotation_down_420_10_10\n",
      "129.23727256944446\n",
      "0.202730902778\n",
      "/Volumes/programs/braintv/workgroups/nc-ophys/Saskia/openscope_motion/npyfiles_dec/rotation_down_420_20_10\n",
      "127.19094097222222\n",
      "0.203625\n",
      "/Volumes/programs/braintv/workgroups/nc-ophys/Saskia/openscope_motion/npyfiles_dec/rotation_down_420_50_10\n",
      "129.716609375\n",
      "0.202855902778\n",
      "/Volumes/programs/braintv/workgroups/nc-ophys/Saskia/openscope_motion/npyfiles_dec/rotation_down_420_100_10\n",
      "125.5511857638889\n",
      "0.200550347222\n",
      "/Volumes/programs/braintv/workgroups/nc-ophys/Saskia/openscope_motion/npyfiles_dec/rotation_down_420_200_10\n",
      "127.537765625\n",
      "0.204515625\n",
      "/Volumes/programs/braintv/workgroups/nc-ophys/Saskia/openscope_motion/npyfiles_dec/rotation_down_420_400_10\n",
      "126.62936284722223\n",
      "0.203046875\n"
     ]
    }
   ],
   "source": [
    "for i in [10,20,50,100,200,400]:\n",
    "    make_Rotation_down(dotNum=420, speed=i, radius=10)"
   ]
  },
  {
   "cell_type": "code",
   "execution_count": 257,
   "metadata": {},
   "outputs": [
    {
     "name": "stdout",
     "output_type": "stream",
     "text": [
      "/Volumes/Brain2018/Openscope_Motion/npyfiles/rotation_down_+145_2.npy\n",
      "126.177586806\n",
      "0.0504163368919\n",
      "/Volumes/Brain2018/Openscope_Motion/npyfiles/rotation_down_+145_5.npy\n",
      "126.958989583\n",
      "0.0488555456416\n",
      "/Volumes/Brain2018/Openscope_Motion/npyfiles/rotation_down_+145_10.npy\n",
      "127.283104167\n",
      "0.0507574209743\n",
      "/Volumes/Brain2018/Openscope_Motion/npyfiles/rotation_down_+145_20.npy\n",
      "126.768269097\n",
      "0.0502611977718\n",
      "/Volumes/Brain2018/Openscope_Motion/npyfiles/rotation_down_+145_40.npy\n",
      "127.749652778\n",
      "0.0506424240655\n",
      "/Volumes/Brain2018/Openscope_Motion/npyfiles/rotation_down_+145_50.npy\n",
      "127.589579861\n",
      "0.0505887674551\n",
      "/Volumes/Brain2018/Openscope_Motion/npyfiles/rotation_down_+145_100.npy\n",
      "127.113550347\n",
      "0.0505791864942\n",
      "/Volumes/Brain2018/Openscope_Motion/npyfiles/rotation_down_+145_200.npy\n",
      "126.018175347\n",
      "0.050701835992\n",
      "/Volumes/Brain2018/Openscope_Motion/npyfiles/rotation_down_+300_2.npy\n",
      "128.173206597\n",
      "0.106443303425\n",
      "/Volumes/Brain2018/Openscope_Motion/npyfiles/rotation_down_+300_5.npy\n",
      "127.079815972\n",
      "0.107368615328\n",
      "/Volumes/Brain2018/Openscope_Motion/npyfiles/rotation_down_+300_10.npy\n",
      "127.308901042\n",
      "0.106651629525\n",
      "/Volumes/Brain2018/Openscope_Motion/npyfiles/rotation_down_+300_20.npy\n",
      "126.294885417\n",
      "0.106840891622\n",
      "/Volumes/Brain2018/Openscope_Motion/npyfiles/rotation_down_+300_40.npy\n",
      "126.708076389\n",
      "0.105544999136\n",
      "/Volumes/Brain2018/Openscope_Motion/npyfiles/rotation_down_+300_50.npy\n",
      "125.790192708\n",
      "0.105156822904\n",
      "/Volumes/Brain2018/Openscope_Motion/npyfiles/rotation_down_+300_100.npy\n",
      "125.502237847\n",
      "0.105275580126\n",
      "/Volumes/Brain2018/Openscope_Motion/npyfiles/rotation_down_+300_200.npy\n",
      "126.968470486\n",
      "0.106128837124\n",
      "/Volumes/Brain2018/Openscope_Motion/npyfiles/rotation_down_+545_2.npy\n",
      "126.458706597\n",
      "0.200092507131\n",
      "/Volumes/Brain2018/Openscope_Motion/npyfiles/rotation_down_+545_5.npy\n",
      "125.8808125\n",
      "0.202902001078\n",
      "/Volumes/Brain2018/Openscope_Motion/npyfiles/rotation_down_+545_10.npy\n",
      "127.799262153\n",
      "0.20261820004\n",
      "/Volumes/Brain2018/Openscope_Motion/npyfiles/rotation_down_+545_20.npy\n",
      "125.9284375\n",
      "0.202269283272\n",
      "/Volumes/Brain2018/Openscope_Motion/npyfiles/rotation_down_+545_40.npy\n",
      "127.275607639\n",
      "0.202856784864\n",
      "/Volumes/Brain2018/Openscope_Motion/npyfiles/rotation_down_+545_50.npy\n",
      "128.606461806\n",
      "0.204607624162\n",
      "/Volumes/Brain2018/Openscope_Motion/npyfiles/rotation_down_+545_100.npy\n",
      "126.526616319\n",
      "0.201033389145\n",
      "/Volumes/Brain2018/Openscope_Motion/npyfiles/rotation_down_+545_200.npy\n",
      "126.284743056\n",
      "0.202791478556\n",
      "/Volumes/Brain2018/Openscope_Motion/npyfiles/rotation_down_+1000_2.npy\n",
      "128.064286458\n",
      "0.399501913382\n",
      "/Volumes/Brain2018/Openscope_Motion/npyfiles/rotation_down_+1000_5.npy\n",
      "129.153487847\n",
      "0.404340289206\n",
      "/Volumes/Brain2018/Openscope_Motion/npyfiles/rotation_down_+1000_10.npy\n",
      "126.042649306\n",
      "0.405577409248\n",
      "/Volumes/Brain2018/Openscope_Motion/npyfiles/rotation_down_+1000_20.npy\n",
      "126.732109375\n",
      "0.398958067689\n",
      "/Volumes/Brain2018/Openscope_Motion/npyfiles/rotation_down_+1000_40.npy\n",
      "126.033829861\n",
      "0.401937399601\n",
      "/Volumes/Brain2018/Openscope_Motion/npyfiles/rotation_down_+1000_50.npy\n",
      "127.542836806\n",
      "0.403146360833\n",
      "/Volumes/Brain2018/Openscope_Motion/npyfiles/rotation_down_+1000_100.npy\n",
      "127.344178819\n",
      "0.404415619247\n",
      "/Volumes/Brain2018/Openscope_Motion/npyfiles/rotation_down_+1000_200.npy\n",
      "128.023496528\n",
      "0.402695318017\n",
      "/Volumes/Brain2018/Openscope_Motion/npyfiles/rotation_down_+1750_2.npy\n",
      "125.199069444\n",
      "0.83030295327\n",
      "/Volumes/Brain2018/Openscope_Motion/npyfiles/rotation_down_+1750_5.npy\n",
      "128.692892361\n",
      "0.810808261813\n",
      "/Volumes/Brain2018/Openscope_Motion/npyfiles/rotation_down_+1750_10.npy\n",
      "127.6588125\n",
      "0.808681672026\n",
      "/Volumes/Brain2018/Openscope_Motion/npyfiles/rotation_down_+1750_20.npy\n",
      "127.470517361\n",
      "0.829942433061\n",
      "/Volumes/Brain2018/Openscope_Motion/npyfiles/rotation_down_+1750_40.npy\n",
      "125.685461806\n",
      "0.801779257016\n",
      "/Volumes/Brain2018/Openscope_Motion/npyfiles/rotation_down_+1750_50.npy\n",
      "127.346163194\n",
      "0.821631878558\n",
      "/Volumes/Brain2018/Openscope_Motion/npyfiles/rotation_down_+1750_100.npy\n",
      "126.445918403\n",
      "0.803804900963\n",
      "/Volumes/Brain2018/Openscope_Motion/npyfiles/rotation_down_+1750_200.npy\n",
      "125.958203125\n",
      "0.821810487429\n"
     ]
    }
   ],
   "source": [
    "for dn in [145,300,545,1000,1750]:\n",
    "    for i in [2,5,10,20,40,50,100,200]:\n",
    "        make_Rotation_down(dotNum=dn, speed=i)"
   ]
  },
  {
   "cell_type": "code",
   "execution_count": 242,
   "metadata": {},
   "outputs": [],
   "source": [
    "def make_Rotation_up(dotNum, speed, radius):\n",
    "    centerPos=np.array([0,0])\n",
    "    pos = getNewDotPositions(dotNum) + centerPos\n",
    "    \n",
    "    posArray = np.empty((timePoints, dotNum, 2))\n",
    "    posArray[0,:,:] = pos\n",
    "    for i in range(1,timePoints):\n",
    "        posArray[i,:,1] = posArray[i-1,:,1] + speed*pixelsPerDegree*1/60.\n",
    "        posArray[i,:,0] = posArray[i-1,:,0]\n",
    "        if any(np.abs(posArray[i,:,1])>screenHeight):\n",
    "            repopInds = np.where(np.abs(posArray[i,:,1])>screenHeight)[0]\n",
    "#             posArray[i,repopInds,0] = screenHeight#-1*posArray[i,repopInds,0]\n",
    "            posArray[i,repopInds,0] = np.random.randint(0, high=screenWidth,size=len(repopInds))\n",
    "            posArray[i,repopInds,1] = 0\n",
    "    \n",
    "    dotColors = [0, 254]\n",
    "    dotColorAssignments = np.random.choice(dotColors, dotNum)\n",
    "\n",
    "    backgroundColor=127\n",
    "    im_array = []\n",
    "    for points in posArray:\n",
    "        im = np.ones([screenHeight, screenWidth])*backgroundColor\n",
    "        for p,c in zip(points, dotColorAssignments):\n",
    "            cv2.circle(im, tuple(np.round(p).astype(np.int)), int(radius), int(c), -1)\n",
    "        im_array.append(im.astype(np.uint8))\n",
    "    \n",
    "#     saveDir = (r'/Volumes/Brain2018/Openscope_Motion/npyfiles/rotation_down_+'+str(dotNum)+'_'+str(speed)+'.npy')\n",
    "    saveDir = (r'/Volumes/programs/braintv/workgroups/nc-ophys/Saskia/openscope_motion/npyfiles_dec/rotation_up_'+str(dotNum)+'_'+str(speed)+'_'+str(radius))\n",
    "    print saveDir\n",
    "#     np.savez_compressed(saveDir, im_array=im_array)\n",
    "    np.save(saveDir, im_array)\n",
    "    \n",
    "    test = np.array(im_array)\n",
    "    print test[0,:,:].mean()\n",
    "    print (len(np.where(test[0,:,:]>127)[0])+len(np.where(test[0,:,:]<127)[0]))/576000."
   ]
  },
  {
   "cell_type": "code",
   "execution_count": 243,
   "metadata": {},
   "outputs": [
    {
     "name": "stdout",
     "output_type": "stream",
     "text": [
      "/Volumes/programs/braintv/workgroups/nc-ophys/Saskia/openscope_motion/npyfiles_dec/rotation_up_420_10_10\n",
      "128.13991319444443\n",
      "0.20596875\n",
      "/Volumes/programs/braintv/workgroups/nc-ophys/Saskia/openscope_motion/npyfiles_dec/rotation_up_420_20_10\n",
      "128.58617708333333\n",
      "0.203368055556\n",
      "/Volumes/programs/braintv/workgroups/nc-ophys/Saskia/openscope_motion/npyfiles_dec/rotation_up_420_50_10\n",
      "128.96386979166667\n",
      "0.203859375\n",
      "/Volumes/programs/braintv/workgroups/nc-ophys/Saskia/openscope_motion/npyfiles_dec/rotation_up_420_100_10\n",
      "123.902390625\n",
      "0.202821180556\n",
      "/Volumes/programs/braintv/workgroups/nc-ophys/Saskia/openscope_motion/npyfiles_dec/rotation_up_420_200_10\n",
      "126.25343402777777\n",
      "0.204072916667\n",
      "/Volumes/programs/braintv/workgroups/nc-ophys/Saskia/openscope_motion/npyfiles_dec/rotation_up_420_400_10\n",
      "127.8629826388889\n",
      "0.203736111111\n"
     ]
    }
   ],
   "source": [
    "for i in [10,20,50,100,200,400]:\n",
    "    make_Rotation_up(dotNum=420, speed=i, radius=10)"
   ]
  },
  {
   "cell_type": "code",
   "execution_count": 276,
   "metadata": {},
   "outputs": [
    {
     "data": {
      "text/plain": [
       "(60, 420, 2)"
      ]
     },
     "execution_count": 276,
     "metadata": {},
     "output_type": "execute_result"
    }
   ],
   "source": []
  },
  {
   "cell_type": "markdown",
   "metadata": {},
   "source": [
    "## Diagonals"
   ]
  },
  {
   "cell_type": "code",
   "execution_count": 298,
   "metadata": {},
   "outputs": [],
   "source": [
    "pos = getNewDotPositions(420) + centerPos\n",
    "    \n",
    "posArray = np.empty((timePoints, 420, 2))\n",
    "posArray[0,:,:] = pos\n",
    "for i in range(1,60):\n",
    "    posArray[i,:,1] = posArray[i-1,:,1] + (speed*pixelsPerDegree*1/60.)/np.sqrt(2)\n",
    "    posArray[i,:,0] = posArray[i-1,:,0] + (speed*pixelsPerDegree*1/60.)/np.sqrt(2)"
   ]
  },
  {
   "cell_type": "code",
   "execution_count": 311,
   "metadata": {},
   "outputs": [],
   "source": [
    "i=45\n",
    "repopInds = np.append(np.where(posArray[i,:,1]>screenWidth)[0], np.where(posArray[i,:,1]>screenHeight)[0])"
   ]
  },
  {
   "cell_type": "code",
   "execution_count": 312,
   "metadata": {},
   "outputs": [
    {
     "data": {
      "text/plain": [
       "0"
      ]
     },
     "execution_count": 312,
     "metadata": {},
     "output_type": "execute_result"
    }
   ],
   "source": [
    "len(np.where(posArray[i,:,1]>screenWidth)[0])"
   ]
  },
  {
   "cell_type": "code",
   "execution_count": 321,
   "metadata": {},
   "outputs": [
    {
     "data": {
      "text/plain": [
       "11"
      ]
     },
     "execution_count": 321,
     "metadata": {},
     "output_type": "execute_result"
    }
   ],
   "source": [
    "len(np.where(posArray[i,:,1]>screenHeight)[0])"
   ]
  },
  {
   "cell_type": "code",
   "execution_count": 320,
   "metadata": {},
   "outputs": [
    {
     "data": {
      "text/plain": [
       "array([  2,   7,   9,  12,  17,  19,  20,  21,  25,  26,  55,  56,  64,\n",
       "        67,  72,  75,  84, 103, 105, 110, 115, 119, 121, 152, 153, 159,\n",
       "       179, 186, 197, 207, 208, 210, 212, 214, 215, 224, 229, 233, 239,\n",
       "       255, 256, 259, 275, 282, 286, 288, 291, 295, 296, 314, 317, 318,\n",
       "       329, 330, 334, 341, 349, 353, 358, 365, 369, 372, 376, 383, 387,\n",
       "       388, 390, 397, 408, 409, 412])"
      ]
     },
     "execution_count": 320,
     "metadata": {},
     "output_type": "execute_result"
    }
   ],
   "source": [
    "repopInds"
   ]
  },
  {
   "cell_type": "code",
   "execution_count": 268,
   "metadata": {},
   "outputs": [
    {
     "data": {
      "text/plain": [
       "array([586.])"
      ]
     },
     "execution_count": 268,
     "metadata": {},
     "output_type": "execute_result"
    }
   ],
   "source": [
    "screenWidth - posArray[20,repopInds,0]"
   ]
  },
  {
   "cell_type": "code",
   "execution_count": 355,
   "metadata": {},
   "outputs": [],
   "source": [
    "def make_Rotation_diag(dotNum, speed, radius):\n",
    "    centerPos=np.array([0,0])\n",
    "    pos = getNewDotPositions(dotNum) + centerPos\n",
    "    \n",
    "    posArray = np.empty((timePoints, dotNum, 2))\n",
    "    posArray[0,:,:] = pos\n",
    "    for i in range(1,timePoints):\n",
    "        posArray[i,:,1] = posArray[i-1,:,1] + (speed*pixelsPerDegree*1/60.)/np.sqrt(2)\n",
    "        posArray[i,:,0] = posArray[i-1,:,0] + (speed*pixelsPerDegree*1/60.)/np.sqrt(2)\n",
    "            \n",
    "        if any(posArray[i,:,0]>screenWidth) or any(posArray[i,:,1]>screenHeight):\n",
    "            repopInds = np.append(np.where(posArray[i,:,0]>screenWidth)[0], \n",
    "                                  np.where(posArray[i,:,1]>screenHeight)[0])\n",
    "            num_repop = len(repopInds)/2\n",
    "            if np.mod(len(repopInds),2):\n",
    "                num_repop2 = num_repop+1\n",
    "            else:\n",
    "                num_repop2 = num_repop\n",
    "            posArray[i,repopInds[:num_repop],0] = 0\n",
    "            posArray[i,repopInds[:num_repop],1] = np.random.randint(0, high=screenHeight,size=num_repop)\n",
    "            posArray[i,repopInds[num_repop:],0] = np.random.randint(0, high=screenWidth,size=num_repop2)\n",
    "            posArray[i,repopInds[num_repop:],1] = 0\n",
    "\n",
    "    dotColors = [0, 254]\n",
    "    dotColorAssignments = np.random.choice(dotColors, dotNum)\n",
    "\n",
    "    backgroundColor=127\n",
    "    im_array = []\n",
    "    for points in posArray:\n",
    "        im = np.ones([screenHeight, screenWidth])*backgroundColor\n",
    "        for p,c in zip(points, dotColorAssignments):\n",
    "            cv2.circle(im, tuple(np.round(p).astype(np.int)), int(radius), int(c), -1)\n",
    "        im_array.append(im.astype(np.uint8))\n",
    "    \n",
    "#     saveDir = (r'/Volumes/Brain2018/Openscope_Motion/npyfiles/rotation_down_+'+str(dotNum)+'_'+str(speed)+'.npy')\n",
    "    saveDir = (r'/Volumes/programs/braintv/workgroups/nc-ophys/Saskia/openscope_motion/npyfiles_dec/rotation_dir_315_'+str(dotNum)+'_'+str(speed)+'_'+str(radius))\n",
    "    print saveDir\n",
    "#     np.savez_compressed(saveDir, im_array=im_array)\n",
    "    np.save(saveDir, im_array)\n",
    "    \n",
    "    test = np.array(im_array)\n",
    "    print test[0,:,:].mean()\n",
    "    print (len(np.where(test[0,:,:]>127)[0])+len(np.where(test[0,:,:]<127)[0]))/576000.\n",
    "    return posArray"
   ]
  },
  {
   "cell_type": "code",
   "execution_count": 356,
   "metadata": {},
   "outputs": [
    {
     "name": "stdout",
     "output_type": "stream",
     "text": [
      "/Volumes/programs/braintv/workgroups/nc-ophys/Saskia/openscope_motion/npyfiles_dec/rotation_dir_315_420_10_10\n",
      "127.762\n",
      "0.202145833333\n",
      "/Volumes/programs/braintv/workgroups/nc-ophys/Saskia/openscope_motion/npyfiles_dec/rotation_dir_315_420_20_10\n",
      "125.477984375\n",
      "0.206005208333\n",
      "/Volumes/programs/braintv/workgroups/nc-ophys/Saskia/openscope_motion/npyfiles_dec/rotation_dir_315_420_50_10\n",
      "128.03143402777778\n",
      "0.201246527778\n",
      "/Volumes/programs/braintv/workgroups/nc-ophys/Saskia/openscope_motion/npyfiles_dec/rotation_dir_315_420_100_10\n",
      "126.94994965277778\n",
      "0.200592013889\n",
      "/Volumes/programs/braintv/workgroups/nc-ophys/Saskia/openscope_motion/npyfiles_dec/rotation_dir_315_420_200_10\n",
      "127.76155902777778\n",
      "0.204479166667\n",
      "/Volumes/programs/braintv/workgroups/nc-ophys/Saskia/openscope_motion/npyfiles_dec/rotation_dir_315_420_400_10\n",
      "125.70883333333333\n",
      "0.203569444444\n"
     ]
    }
   ],
   "source": [
    "for i in [10,20,50,100,200,400]:\n",
    "    posArray = make_Rotation_diag(dotNum=420, speed=i, radius=10)"
   ]
  },
  {
   "cell_type": "code",
   "execution_count": 357,
   "metadata": {},
   "outputs": [],
   "source": [
    "def make_Rotation_diag45(dotNum, speed, radius):\n",
    "    centerPos=np.array([0,0])\n",
    "    pos = getNewDotPositions(dotNum) + centerPos\n",
    "    \n",
    "    posArray = np.empty((timePoints, dotNum, 2))\n",
    "    posArray[0,:,:] = pos\n",
    "    for i in range(1,timePoints):\n",
    "        posArray[i,:,1] = posArray[i-1,:,1] - (speed*pixelsPerDegree*1/60.)/np.sqrt(2)\n",
    "        posArray[i,:,0] = posArray[i-1,:,0] + (speed*pixelsPerDegree*1/60.)/np.sqrt(2)\n",
    "            \n",
    "        if any(posArray[i,:,0]>screenWidth) or any(posArray[i,:,1]<0):\n",
    "            repopInds = np.append(np.where(posArray[i,:,0]>screenWidth)[0], \n",
    "                                  np.where(posArray[i,:,1]<0)[0])\n",
    "            num_repop = len(repopInds)/2\n",
    "            if np.mod(len(repopInds),2):\n",
    "                num_repop2 = num_repop+1\n",
    "            else:\n",
    "                num_repop2 = num_repop\n",
    "            posArray[i,repopInds[:num_repop],0] = 0\n",
    "            posArray[i,repopInds[:num_repop],1] = np.random.randint(0, high=screenHeight,size=num_repop)\n",
    "            posArray[i,repopInds[num_repop:],0] = np.random.randint(0, high=screenWidth,size=num_repop2)\n",
    "            posArray[i,repopInds[num_repop:],1] = screenHeight\n",
    "\n",
    "    dotColors = [0, 254]\n",
    "    dotColorAssignments = np.random.choice(dotColors, dotNum)\n",
    "\n",
    "    backgroundColor=127\n",
    "    im_array = []\n",
    "    for points in posArray:\n",
    "        im = np.ones([screenHeight, screenWidth])*backgroundColor\n",
    "        for p,c in zip(points, dotColorAssignments):\n",
    "            cv2.circle(im, tuple(np.round(p).astype(np.int)), int(radius), int(c), -1)\n",
    "        im_array.append(im.astype(np.uint8))\n",
    "    \n",
    "    saveDir = (r'/Volumes/programs/braintv/workgroups/nc-ophys/Saskia/openscope_motion/npyfiles_dec/rotation_dir_45_'+str(dotNum)+'_'+str(speed)+'_'+str(radius))\n",
    "    print saveDir\n",
    "#     np.savez_compressed(saveDir, im_array=im_array)\n",
    "    np.save(saveDir, im_array)\n",
    "    \n",
    "    test = np.array(im_array)\n",
    "    print test[0,:,:].mean()\n",
    "    print (len(np.where(test[0,:,:]>127)[0])+len(np.where(test[0,:,:]<127)[0]))/576000."
   ]
  },
  {
   "cell_type": "code",
   "execution_count": 358,
   "metadata": {},
   "outputs": [
    {
     "name": "stdout",
     "output_type": "stream",
     "text": [
      "/Volumes/programs/braintv/workgroups/nc-ophys/Saskia/openscope_motion/npyfiles_dec/rotation_dir_45_420_10_10\n",
      "127.12435416666666\n",
      "0.203753472222\n",
      "/Volumes/programs/braintv/workgroups/nc-ophys/Saskia/openscope_motion/npyfiles_dec/rotation_dir_45_420_20_10\n",
      "125.89338020833334\n",
      "0.209053819444\n",
      "/Volumes/programs/braintv/workgroups/nc-ophys/Saskia/openscope_motion/npyfiles_dec/rotation_dir_45_420_50_10\n",
      "125.58006944444445\n",
      "0.197597222222\n",
      "/Volumes/programs/braintv/workgroups/nc-ophys/Saskia/openscope_motion/npyfiles_dec/rotation_dir_45_420_100_10\n",
      "124.27655555555556\n",
      "0.205545138889\n",
      "/Volumes/programs/braintv/workgroups/nc-ophys/Saskia/openscope_motion/npyfiles_dec/rotation_dir_45_420_200_10\n",
      "129.46459375\n",
      "0.20196875\n",
      "/Volumes/programs/braintv/workgroups/nc-ophys/Saskia/openscope_motion/npyfiles_dec/rotation_dir_45_420_400_10\n",
      "127.92405729166667\n",
      "0.201612847222\n"
     ]
    }
   ],
   "source": [
    "for i in [10,20,50,100,200,400]:\n",
    "    make_Rotation_diag45(dotNum=420, speed=i, radius=10)"
   ]
  },
  {
   "cell_type": "code",
   "execution_count": 359,
   "metadata": {},
   "outputs": [],
   "source": [
    "def make_Rotation_diag135(dotNum, speed, radius):\n",
    "    centerPos=np.array([0,0])\n",
    "    pos = getNewDotPositions(dotNum) + centerPos\n",
    "    \n",
    "    posArray = np.empty((timePoints, dotNum, 2))\n",
    "    posArray[0,:,:] = pos\n",
    "    for i in range(1,timePoints):\n",
    "        posArray[i,:,1] = posArray[i-1,:,1] - (speed*pixelsPerDegree*1/60.)/np.sqrt(2)\n",
    "        posArray[i,:,0] = posArray[i-1,:,0] - (speed*pixelsPerDegree*1/60.)/np.sqrt(2)\n",
    "            \n",
    "        if any(posArray[i,:,0]<0) or any(posArray[i,:,1]<0):\n",
    "            repopInds = np.append(np.where(posArray[i,:,0]<0)[0], \n",
    "                                  np.where(posArray[i,:,1]<0)[0])\n",
    "            num_repop = len(repopInds)/2\n",
    "            if np.mod(len(repopInds),2):\n",
    "                num_repop2 = num_repop+1\n",
    "            else:\n",
    "                num_repop2 = num_repop\n",
    "            posArray[i,repopInds[:num_repop],0] = screenWidth\n",
    "            posArray[i,repopInds[:num_repop],1] = np.random.randint(0, high=screenHeight,size=num_repop)\n",
    "            posArray[i,repopInds[num_repop:],0] = np.random.randint(0, high=screenWidth,size=num_repop2)\n",
    "            posArray[i,repopInds[num_repop:],1] = screenHeight\n",
    "\n",
    "    dotColors = [0, 254]\n",
    "    dotColorAssignments = np.random.choice(dotColors, dotNum)\n",
    "\n",
    "    backgroundColor=127\n",
    "    im_array = []\n",
    "    for points in posArray:\n",
    "        im = np.ones([screenHeight, screenWidth])*backgroundColor\n",
    "        for p,c in zip(points, dotColorAssignments):\n",
    "            cv2.circle(im, tuple(np.round(p).astype(np.int)), int(radius), int(c), -1)\n",
    "        im_array.append(im.astype(np.uint8))\n",
    "    \n",
    "    saveDir = (r'/Volumes/programs/braintv/workgroups/nc-ophys/Saskia/openscope_motion/npyfiles_dec/rotation_dir_135_'+str(dotNum)+'_'+str(speed)+'_'+str(radius))\n",
    "    print saveDir\n",
    "#     np.savez_compressed(saveDir, im_array=im_array)\n",
    "    np.save(saveDir, im_array)\n",
    "    \n",
    "    test = np.array(im_array)\n",
    "    print test[0,:,:].mean()\n",
    "    print (len(np.where(test[0,:,:]>127)[0])+len(np.where(test[0,:,:]<127)[0]))/576000."
   ]
  },
  {
   "cell_type": "code",
   "execution_count": 360,
   "metadata": {},
   "outputs": [
    {
     "name": "stdout",
     "output_type": "stream",
     "text": [
      "/Volumes/programs/braintv/workgroups/nc-ophys/Saskia/openscope_motion/npyfiles_dec/rotation_dir_135_420_10_10\n",
      "125.47908680555555\n",
      "0.204708333333\n",
      "/Volumes/programs/braintv/workgroups/nc-ophys/Saskia/openscope_motion/npyfiles_dec/rotation_dir_135_420_20_10\n",
      "126.27415972222222\n",
      "0.204090277778\n",
      "/Volumes/programs/braintv/workgroups/nc-ophys/Saskia/openscope_motion/npyfiles_dec/rotation_dir_135_420_50_10\n",
      "127.87577083333333\n",
      "0.204208333333\n",
      "/Volumes/programs/braintv/workgroups/nc-ophys/Saskia/openscope_motion/npyfiles_dec/rotation_dir_135_420_100_10\n",
      "129.27056597222222\n",
      "0.205618055556\n",
      "/Volumes/programs/braintv/workgroups/nc-ophys/Saskia/openscope_motion/npyfiles_dec/rotation_dir_135_420_200_10\n",
      "127.32455555555556\n",
      "0.206677083333\n",
      "/Volumes/programs/braintv/workgroups/nc-ophys/Saskia/openscope_motion/npyfiles_dec/rotation_dir_135_420_400_10\n",
      "125.47048784722222\n",
      "0.205015625\n"
     ]
    }
   ],
   "source": [
    "for i in [10,20,50,100,200,400]:\n",
    "    make_Rotation_diag135(dotNum=420, speed=i, radius=10)"
   ]
  },
  {
   "cell_type": "code",
   "execution_count": 352,
   "metadata": {},
   "outputs": [],
   "source": [
    "def make_Rotation_diag225(dotNum, speed, radius):\n",
    "    centerPos=np.array([0,0])\n",
    "    pos = getNewDotPositions(dotNum) + centerPos\n",
    "    \n",
    "    posArray = np.empty((timePoints, dotNum, 2))\n",
    "    posArray[0,:,:] = pos\n",
    "    for i in range(1,timePoints):\n",
    "        posArray[i,:,1] = posArray[i-1,:,1] + (speed*pixelsPerDegree*1/60.)/np.sqrt(2)\n",
    "        posArray[i,:,0] = posArray[i-1,:,0] - (speed*pixelsPerDegree*1/60.)/np.sqrt(2)\n",
    "            \n",
    "        if any(posArray[i,:,0]<0) or any(posArray[i,:,1]>screenHeight):\n",
    "            repopInds = np.append(np.where(posArray[i,:,0]<0)[0], \n",
    "                                  np.where(posArray[i,:,1]>screenHeight)[0])\n",
    "            num_repop = len(repopInds)/2\n",
    "            if np.mod(len(repopInds),2):\n",
    "                num_repop2 = num_repop+1\n",
    "            else:\n",
    "                num_repop2 = num_repop\n",
    "            posArray[i,repopInds[:num_repop],0] = screenWidth\n",
    "            posArray[i,repopInds[:num_repop],1] = np.random.randint(0, high=screenHeight,size=num_repop)\n",
    "            posArray[i,repopInds[num_repop:],0] = np.random.randint(0, high=screenWidth,size=num_repop2)\n",
    "            posArray[i,repopInds[num_repop:],1] = 0\n",
    "\n",
    "    dotColors = [0, 254]\n",
    "    dotColorAssignments = np.random.choice(dotColors, dotNum)\n",
    "\n",
    "    backgroundColor=127\n",
    "    im_array = []\n",
    "    for points in posArray:\n",
    "        im = np.ones([screenHeight, screenWidth])*backgroundColor\n",
    "        for p,c in zip(points, dotColorAssignments):\n",
    "            cv2.circle(im, tuple(np.round(p).astype(np.int)), int(radius), int(c), -1)\n",
    "        im_array.append(im.astype(np.uint8))\n",
    "    \n",
    "    saveDir = (r'/Volumes/programs/braintv/workgroups/nc-ophys/Saskia/openscope_motion/npyfiles_dec/rotation_dir_225_'+str(dotNum)+'_'+str(speed)+'_'+str(radius))\n",
    "    print saveDir\n",
    "#     np.savez_compressed(saveDir, im_array=im_array)\n",
    "    np.save(saveDir, im_array)\n",
    "    \n",
    "    test = np.array(im_array)\n",
    "    print test[0,:,:].mean()\n",
    "    print (len(np.where(test[0,:,:]>127)[0])+len(np.where(test[0,:,:]<127)[0]))/576000."
   ]
  },
  {
   "cell_type": "code",
   "execution_count": 353,
   "metadata": {},
   "outputs": [
    {
     "name": "stdout",
     "output_type": "stream",
     "text": [
      "/Volumes/programs/braintv/workgroups/nc-ophys/Saskia/openscope_motion/npyfiles_dec/rotation_dir_225_420_10_10\n",
      "126.48538541666667\n",
      "0.206534722222\n",
      "/Volumes/programs/braintv/workgroups/nc-ophys/Saskia/openscope_motion/npyfiles_dec/rotation_dir_225_420_20_10\n",
      "124.15462673611111\n",
      "0.207571180556\n",
      "/Volumes/programs/braintv/workgroups/nc-ophys/Saskia/openscope_motion/npyfiles_dec/rotation_dir_225_420_50_10\n",
      "127.23305381944445\n",
      "0.205744791667\n",
      "/Volumes/programs/braintv/workgroups/nc-ophys/Saskia/openscope_motion/npyfiles_dec/rotation_dir_225_420_100_10\n",
      "126.95215451388889\n",
      "0.205171875\n",
      "/Volumes/programs/braintv/workgroups/nc-ophys/Saskia/openscope_motion/npyfiles_dec/rotation_dir_225_420_200_10\n",
      "124.59890625\n",
      "0.204482638889\n",
      "/Volumes/programs/braintv/workgroups/nc-ophys/Saskia/openscope_motion/npyfiles_dec/rotation_dir_225_420_400_10\n",
      "126.72968402777778\n",
      "0.204402777778\n"
     ]
    }
   ],
   "source": [
    "for i in [10,20,50,100,200,400]:\n",
    "    make_Rotation_diag225(dotNum=420, speed=i, radius=10)"
   ]
  },
  {
   "cell_type": "code",
   "execution_count": 501,
   "metadata": {},
   "outputs": [],
   "source": [
    "def make_Rotation_angle(dotNum, speed, radius, angle):\n",
    "    centerPos=np.array([0,0])\n",
    "    pos = getNewDotPositions(dotNum) + centerPos\n",
    "    \n",
    "    posArray = np.empty((timePoints, dotNum, 2))\n",
    "    posArray[0,:,:] = pos\n",
    "    for i in range(1,timePoints):\n",
    "        posArray[i,:,1] = posArray[i-1,:,1] + (speed*pixelsPerDegree*1/60.)*np.sin(np.deg2rad(angle))\n",
    "        posArray[i,:,0] = posArray[i-1,:,0] + (speed*pixelsPerDegree*1/60.)*np.cos(np.deg2rad(angle))\n",
    "        \n",
    "        #repop if for angles 0-90 .... #TODO make generic angle\n",
    "        if any(posArray[i,:,0]>screenWidth) or any(posArray[i,:,1]>screenHeight):\n",
    "            repopInds = np.append(np.where(posArray[i,:,0]>screenWidth)[0], \n",
    "                                  np.where(posArray[i,:,1]>screenHeight)[0])\n",
    "            num_repop_y = int(np.cos(np.deg2rad(angle))*len(repopInds))\n",
    "            num_repop_x = len(repopInds) - num_repop_y\n",
    "#             num_repop = len(repopInds)/2\n",
    "#             if np.mod(len(repopInds),2):\n",
    "#                 num_repop2 = num_repop+1\n",
    "#             else:\n",
    "#                 num_repop2 = num_repop\n",
    "            posArray[i,repopInds[:num_repop_y],0] = 0\n",
    "            posArray[i,repopInds[:num_repop_y],1] = np.random.randint(0, high=screenHeight,size=num_repop_y)\n",
    "            posArray[i,repopInds[num_repop_y:],0] = np.random.randint(0, high=screenWidth,size=num_repop_x)\n",
    "            posArray[i,repopInds[num_repop_y:],1] = 0\n",
    "\n",
    "    dotColors = [0, 254]\n",
    "    dotColorAssignments = np.random.choice(dotColors, dotNum)\n",
    "\n",
    "    backgroundColor=127\n",
    "    im_array = []\n",
    "    for points in posArray:\n",
    "        im = np.ones([screenHeight, screenWidth])*backgroundColor\n",
    "        for p,c in zip(points, dotColorAssignments):\n",
    "            cv2.circle(im, tuple(np.round(p).astype(np.int)), int(radius), int(c), -1)\n",
    "        im_array.append(im.astype(np.uint8))\n",
    "    \n",
    "    saveDir = (r'/Volumes/programs/braintv/workgroups/nc-ophys/Saskia/openscope_motion/npyfiles_dec/rotation_dir_'+str(angle)+'_'+str(dotNum)+'_'+str(speed)+'_'+str(radius))\n",
    "    print saveDir\n",
    "#     np.savez_compressed(saveDir, im_array=im_array)\n",
    "    np.save(saveDir, im_array)\n",
    "    \n",
    "    test = np.array(im_array)\n",
    "    print test[0,:,:].mean()\n",
    "    print (len(np.where(test[0,:,:]>127)[0])+len(np.where(test[0,:,:]<127)[0]))/576000."
   ]
  },
  {
   "cell_type": "code",
   "execution_count": 502,
   "metadata": {},
   "outputs": [
    {
     "name": "stdout",
     "output_type": "stream",
     "text": [
      "/Volumes/programs/braintv/workgroups/nc-ophys/Saskia/openscope_motion/npyfiles_dec/rotation_dir_11.3_420_10_10\n",
      "125.57080902777778\n",
      "0.198763888889\n",
      "/Volumes/programs/braintv/workgroups/nc-ophys/Saskia/openscope_motion/npyfiles_dec/rotation_dir_11.3_420_20_10\n",
      "127.62684201388889\n",
      "0.202092013889\n",
      "/Volumes/programs/braintv/workgroups/nc-ophys/Saskia/openscope_motion/npyfiles_dec/rotation_dir_11.3_420_50_10\n",
      "127.82572048611111\n",
      "0.203720486111\n",
      "/Volumes/programs/braintv/workgroups/nc-ophys/Saskia/openscope_motion/npyfiles_dec/rotation_dir_11.3_420_100_10\n",
      "125.6109375\n",
      "0.204715277778\n",
      "/Volumes/programs/braintv/workgroups/nc-ophys/Saskia/openscope_motion/npyfiles_dec/rotation_dir_11.3_420_200_10\n",
      "128.0715625\n",
      "0.201246527778\n",
      "/Volumes/programs/braintv/workgroups/nc-ophys/Saskia/openscope_motion/npyfiles_dec/rotation_dir_11.3_420_400_10\n",
      "126.22102256944444\n",
      "0.204866319444\n"
     ]
    }
   ],
   "source": [
    "for i in [10,20,50,100,200,400]:\n",
    "    make_Rotation_angle(dotNum=420, speed=i, radius=10, angle=11.3)"
   ]
  },
  {
   "cell_type": "code",
   "execution_count": null,
   "metadata": {},
   "outputs": [],
   "source": []
  },
  {
   "cell_type": "code",
   "execution_count": 373,
   "metadata": {},
   "outputs": [
    {
     "name": "stdout",
     "output_type": "stream",
     "text": [
      "/Volumes/programs/braintv/workgroups/nc-ophys/Saskia/openscope_motion/npyfiles_dec/rotation_420_0_10\n",
      "128.84414583333333\n",
      "0.205770833333\n"
     ]
    }
   ],
   "source": [
    "#make stationary trial\n",
    "dotNum=420\n",
    "radius=10\n",
    "speed=0\n",
    "centerPos=np.array([0,0])\n",
    "pos = getNewDotPositions(dotNum) + centerPos\n",
    "posArray = np.empty((timePoints, dotNum, 2))\n",
    "posArray[0,:,:] = pos\n",
    "for i in range(1,timePoints):\n",
    "    posArray[i,:,1] = posArray[i-1,:,1] \n",
    "    posArray[i,:,0] = posArray[i-1,:,0] \n",
    "\n",
    "dotColors = [0, 254]\n",
    "dotColorAssignments = np.random.choice(dotColors, dotNum)\n",
    "\n",
    "backgroundColor=127\n",
    "im_array = []\n",
    "for points in posArray:\n",
    "    im = np.ones([screenHeight, screenWidth])*backgroundColor\n",
    "    for p,c in zip(points, dotColorAssignments):\n",
    "        cv2.circle(im, tuple(np.round(p).astype(np.int)), int(radius), int(c), -1)\n",
    "    im_array.append(im.astype(np.uint8))\n",
    "saveDir = (r'/Volumes/programs/braintv/workgroups/nc-ophys/Saskia/openscope_motion/npyfiles_dec/rotation_'+str(dotNum)+'_'+str(speed)+'_'+str(radius))\n",
    "print saveDir\n",
    "#     np.savez_compressed(saveDir, im_array=im_array)\n",
    "# np.save(saveDir, im_array)\n",
    "\n",
    "test = np.array(im_array)\n",
    "print test[0,:,:].mean()\n",
    "print (len(np.where(test[0,:,:]>127)[0])+len(np.where(test[0,:,:]<127)[0]))/576000."
   ]
  },
  {
   "cell_type": "code",
   "execution_count": 374,
   "metadata": {},
   "outputs": [
    {
     "data": {
      "text/plain": [
       "<matplotlib.image.AxesImage at 0x129cbc1d0>"
      ]
     },
     "execution_count": 374,
     "metadata": {},
     "output_type": "execute_result"
    },
    {
     "data": {
      "image/png": "[encoded data removed]",
      "text/plain": [
       "<Figure size 432x288 with 1 Axes>"
      ]
     },
     "metadata": {
      "needs_background": "light"
     },
     "output_type": "display_data"
    }
   ],
   "source": [
    "plt.imshow(test[0,:,:], cmap='gray', origin='bottom')\n",
    "plt.imshow(test[5,:,:], cmap='gray', origin='bottom', alpha=0.3)\n",
    "plt.imshow(test[10,:,:], cmap='gray', origin='bottom', alpha=0.1)"
   ]
  },
  {
   "cell_type": "code",
   "execution_count": 370,
   "metadata": {},
   "outputs": [
    {
     "name": "stdout",
     "output_type": "stream",
     "text": [
      "/Volumes/programs/braintv/workgroups/nc-ophys/Saskia/openscope_motion/npyfiles_dec/blank_sweep\n",
      "127.0\n",
      "0.0\n"
     ]
    }
   ],
   "source": [
    "#blank sweep\n",
    "im_array = []\n",
    "for i in range(timePoints):\n",
    "    im = np.ones([screenHeight, screenWidth])*backgroundColor\n",
    "    im_array.append(im.astype(np.uint8))\n",
    "saveDir = (r'/Volumes/programs/braintv/workgroups/nc-ophys/Saskia/openscope_motion/npyfiles_dec/blank_sweep')\n",
    "print saveDir\n",
    "#     np.savez_compressed(saveDir, im_array=im_array)\n",
    "np.save(saveDir, im_array)\n",
    "\n",
    "test = np.array(im_array)\n",
    "print test[0,:,:].mean()\n",
    "print (len(np.where(test[0,:,:]>127)[0])+len(np.where(test[0,:,:]<127)[0]))/576000.    "
   ]
  },
  {
   "cell_type": "markdown",
   "metadata": {},
   "source": [
    "## Gaussian window"
   ]
  },
  {
   "cell_type": "code",
   "execution_count": 375,
   "metadata": {},
   "outputs": [
    {
     "data": {
      "text/plain": [
       "5"
      ]
     },
     "execution_count": 375,
     "metadata": {},
     "output_type": "execute_result"
    }
   ],
   "source": [
    "pixelsPerDegree"
   ]
  },
  {
   "cell_type": "code",
   "execution_count": 376,
   "metadata": {},
   "outputs": [
    {
     "name": "stdout",
     "output_type": "stream",
     "text": [
      "150\n"
     ]
    }
   ],
   "source": [
    "windowsize=30 #degrees\n",
    "windowpixels = windowsize*pixelsPerDegree\n",
    "print windowpixels"
   ]
  },
  {
   "cell_type": "code",
   "execution_count": 379,
   "metadata": {},
   "outputs": [
    {
     "name": "stdout",
     "output_type": "stream",
     "text": [
      "300\n",
      "480\n"
     ]
    }
   ],
   "source": [
    "print screenHeight/2\n",
    "print screenWidth/2"
   ]
  },
  {
   "cell_type": "code",
   "execution_count": 381,
   "metadata": {},
   "outputs": [],
   "source": [
    "mask = np.zeros((screenHeight, screenWidth))\n",
    "mask[(screenHeight/2)-(windowpixels/2):(screenHeight/2)+(windowpixels/2), \n",
    "     (screenWidth/2)-(windowpixels/2):(screenWidth/2)+(windowpixels/2)] = 1"
   ]
  },
  {
   "cell_type": "code",
   "execution_count": 382,
   "metadata": {},
   "outputs": [
    {
     "data": {
      "text/plain": [
       "<matplotlib.image.AxesImage at 0x12953e210>"
      ]
     },
     "execution_count": 382,
     "metadata": {},
     "output_type": "execute_result"
    },
    {
     "data": {
      "image/png": "[encoded data removed]",
      "text/plain": [
       "<Figure size 432x288 with 1 Axes>"
      ]
     },
     "metadata": {
      "needs_background": "light"
     },
     "output_type": "display_data"
    }
   ],
   "source": [
    "plt.imshow(mask)"
   ]
  },
  {
   "cell_type": "code",
   "execution_count": 396,
   "metadata": {},
   "outputs": [
    {
     "data": {
      "text/plain": [
       "array([[0., 0., 0., ..., 0., 0., 0.],\n",
       "       [0., 0., 0., ..., 0., 0., 0.],\n",
       "       [0., 0., 0., ..., 0., 0., 0.],\n",
       "       ...,\n",
       "       [0., 0., 0., ..., 0., 0., 0.],\n",
       "       [0., 0., 0., ..., 0., 0., 0.],\n",
       "       [0., 0., 0., ..., 0., 0., 0.]])"
      ]
     },
     "execution_count": 396,
     "metadata": {},
     "output_type": "execute_result"
    }
   ],
   "source": [
    "mask = np.zeros((screenHeight, screenWidth))\n",
    "cv2.circle(mask, (480,300), (40*pixelsPerDegree)/2, 0.1, -1)\n",
    "cv2.circle(mask, (480,300), (38*pixelsPerDegree)/2, 0.3, -1)\n",
    "cv2.circle(mask, (480,300), (36*pixelsPerDegree)/2, 0.5, -1)\n",
    "cv2.circle(mask, (480,300), (34*pixelsPerDegree)/2, 0.7, -1)\n",
    "cv2.circle(mask, (480,300), (32*pixelsPerDegree)/2, 0.85, -1)\n",
    "cv2.circle(mask, (480,300), (30*pixelsPerDegree)/2, 1, -1)"
   ]
  },
  {
   "cell_type": "code",
   "execution_count": 397,
   "metadata": {},
   "outputs": [
    {
     "data": {
      "text/plain": [
       "<matplotlib.image.AxesImage at 0x129c9a890>"
      ]
     },
     "execution_count": 397,
     "metadata": {},
     "output_type": "execute_result"
    },
    {
     "data": {
      "image/png": "[encoded data removed]",
      "text/plain": [
       "<Figure size 432x288 with 1 Axes>"
      ]
     },
     "metadata": {
      "needs_background": "light"
     },
     "output_type": "display_data"
    }
   ],
   "source": [
    "plt.imshow(mask)"
   ]
  },
  {
   "cell_type": "code",
   "execution_count": 398,
   "metadata": {},
   "outputs": [],
   "source": [
    "test_mask = test*mask"
   ]
  },
  {
   "cell_type": "code",
   "execution_count": 399,
   "metadata": {},
   "outputs": [
    {
     "data": {
      "text/plain": [
       "<matplotlib.image.AxesImage at 0x12a3a10d0>"
      ]
     },
     "execution_count": 399,
     "metadata": {},
     "output_type": "execute_result"
    },
    {
     "data": {
      "image/png": "[encoded data removed]",
      "text/plain": [
       "<Figure size 432x288 with 1 Axes>"
      ]
     },
     "metadata": {
      "needs_background": "light"
     },
     "output_type": "display_data"
    }
   ],
   "source": [
    "plt.imshow(test_mask[0,:,:], cmap='gray')"
   ]
  },
  {
   "cell_type": "code",
   "execution_count": 403,
   "metadata": {},
   "outputs": [],
   "source": [
    "import sys\n",
    "sys.path.append(r'/Users/saskiad/Code/openscope_motion/analysis')"
   ]
  },
  {
   "cell_type": "code",
   "execution_count": 404,
   "metadata": {},
   "outputs": [],
   "source": [
    "from apply_window import *"
   ]
  },
  {
   "cell_type": "code",
   "execution_count": 412,
   "metadata": {},
   "outputs": [],
   "source": [
    "sys.path.append(r'/Users/saskiad/Code/openscope_motion/stimulus')"
   ]
  },
  {
   "cell_type": "code",
   "execution_count": 417,
   "metadata": {},
   "outputs": [],
   "source": [
    "import apply_window_new as apw"
   ]
  },
  {
   "cell_type": "code",
   "execution_count": 428,
   "metadata": {},
   "outputs": [],
   "source": [
    "test_linear = apw.apply_linear_window(test)\n",
    "test_linear_30 = apw.apply_linear_window(test, mask_start_radius=10, mask_end_radius=30)\n",
    "test_linear_20 = apw.apply_linear_window(test, mask_start_radius=8, mask_end_radius=20)"
   ]
  },
  {
   "cell_type": "code",
   "execution_count": 406,
   "metadata": {},
   "outputs": [],
   "source": [
    "test_window = apply_gaussian_window(test)"
   ]
  },
  {
   "cell_type": "code",
   "execution_count": 456,
   "metadata": {},
   "outputs": [],
   "source": [
    "test_linear_short = apw.apply_linear_window(test, mask_start_radius=15, mask_end_radius=20)"
   ]
  },
  {
   "cell_type": "code",
   "execution_count": 457,
   "metadata": {},
   "outputs": [
    {
     "data": {
      "text/plain": [
       "<matplotlib.image.AxesImage at 0x13396fd10>"
      ]
     },
     "execution_count": 457,
     "metadata": {},
     "output_type": "execute_result"
    },
    {
     "data": {
      "image/png": "[encoded data removed]",
      "text/plain": [
       "<Figure size 432x288 with 1 Axes>"
      ]
     },
     "metadata": {
      "needs_background": "light"
     },
     "output_type": "display_data"
    }
   ],
   "source": [
    "plt.imshow(test_linear_short[0,:,:], cmap='gray')"
   ]
  },
  {
   "cell_type": "code",
   "execution_count": 431,
   "metadata": {},
   "outputs": [],
   "source": [
    "test_window_8 = apply_gaussian_window(test,sigma_deg=8)"
   ]
  },
  {
   "cell_type": "code",
   "execution_count": 429,
   "metadata": {},
   "outputs": [
    {
     "data": {
      "text/plain": [
       "Text(0.5,1,'Linear 8 20')"
      ]
     },
     "execution_count": 429,
     "metadata": {},
     "output_type": "execute_result"
    },
    {
     "data": {
      "image/png": "[encoded data removed]",
      "text/plain": [
       "<Figure size 360x864 with 4 Axes>"
      ]
     },
     "metadata": {
      "needs_background": "light"
     },
     "output_type": "display_data"
    }
   ],
   "source": [
    "plt.figure(figsize=(5,12))\n",
    "plt.subplot(411)\n",
    "plt.imshow(test_window[0,:,:], cmap='gray')\n",
    "plt.title(\"Gaussian\")\n",
    "plt.subplot(412)\n",
    "plt.imshow(test_linear[0,:,:], cmap='gray')\n",
    "plt.title(\"Linear 15 40\")\n",
    "plt.subplot(413)\n",
    "plt.imshow(test_linear_30[0,:,:], cmap='gray')\n",
    "plt.title(\"Linear 10 30\")\n",
    "plt.subplot(414)\n",
    "plt.imshow(test_linear_20[0,:,:], cmap='gray')\n",
    "plt.title(\"Linear 8 20\")"
   ]
  },
  {
   "cell_type": "code",
   "execution_count": 408,
   "metadata": {},
   "outputs": [
    {
     "data": {
      "text/plain": [
       "(60, 600, 960)"
      ]
     },
     "execution_count": 408,
     "metadata": {},
     "output_type": "execute_result"
    }
   ],
   "source": [
    "test_window.shape"
   ]
  },
  {
   "cell_type": "code",
   "execution_count": 430,
   "metadata": {},
   "outputs": [
    {
     "data": {
      "text/plain": [
       "Text(0.5,1,'Linear 8 20')"
      ]
     },
     "execution_count": 430,
     "metadata": {},
     "output_type": "execute_result"
    },
    {
     "data": {
      "image/png": "[encoded data removed]",
      "text/plain": [
       "<Figure size 432x288 with 1 Axes>"
      ]
     },
     "metadata": {
      "needs_background": "light"
     },
     "output_type": "display_data"
    }
   ],
   "source": [
    "plt.imshow(test_linear_20[0,:,:], cmap='gray')\n",
    "plt.title(\"Linear 8 20\")"
   ]
  },
  {
   "cell_type": "code",
   "execution_count": 432,
   "metadata": {},
   "outputs": [
    {
     "data": {
      "text/plain": [
       "Text(0.5,1,'Gaussian 8')"
      ]
     },
     "execution_count": 432,
     "metadata": {},
     "output_type": "execute_result"
    },
    {
     "data": {
      "image/png": "[encoded data removed]",
      "text/plain": [
       "<Figure size 432x288 with 1 Axes>"
      ]
     },
     "metadata": {
      "needs_background": "light"
     },
     "output_type": "display_data"
    }
   ],
   "source": [
    "plt.imshow(test_window_8[0,:,:], cmap='gray')\n",
    "plt.title(\"Gaussian 8\")"
   ]
  },
  {
   "cell_type": "code",
   "execution_count": 459,
   "metadata": {},
   "outputs": [],
   "source": [
    "pathname = r'/Volumes/programs/braintv/workgroups/nc-ophys/Saskia/openscope_motion/npyfiles_dec'\n",
    "for f in os.listdir(pathname):\n",
    "    if f.startswith('rotation'):\n",
    "        test = np.load(os.path.join(pathname, f))\n",
    "#         test_window = apply_gaussian_window(test)\n",
    "        test_window = apw.apply_linear_window(test, mask_start_radius=15, mask_end_radius=20)\n",
    "        saveDir = os.path.join(pathname, 'linear_windowed_'+f)\n",
    "        np.save(saveDir, test_window)"
   ]
  },
  {
   "cell_type": "code",
   "execution_count": 504,
   "metadata": {},
   "outputs": [],
   "source": [
    "pathname = r'/Volumes/programs/braintv/workgroups/nc-ophys/Saskia/openscope_motion/npyfiles_dec'\n",
    "for f in os.listdir(pathname):\n",
    "    if f.startswith('rotation_dir_11.3'):\n",
    "        test = np.load(os.path.join(pathname, f))\n",
    "#         test_window = apply_gaussian_window(test)\n",
    "        test_window = apw.apply_linear_window(test, mask_start_radius=15, mask_end_radius=20)\n",
    "        saveDir = os.path.join(pathname, 'linear_windowed_'+f)\n",
    "        np.save(saveDir, test_window)"
   ]
  },
  {
   "cell_type": "code",
   "execution_count": 461,
   "metadata": {},
   "outputs": [],
   "source": [
    "#windowing Corbett's translation stimuli\n",
    "pathname = r'/Volumes/programs/braintv/workgroups/nc-ophys/corbettb/motionscope/translation'\n",
    "for f in os.listdir(pathname):\n",
    "    if f.startswith('backward') or f.startswith('forward'):\n",
    "        test = np.load(os.path.join(pathname, f))\n",
    "#         test_window = apply_gaussian_window(test)\n",
    "        test_window = apw.apply_linear_window(test, mask_start_radius=15, mask_end_radius=20)\n",
    "        saveDir = os.path.join(pathname, 'linear_windowed_'+f)\n",
    "        np.save(saveDir, test_window)"
   ]
  },
  {
   "cell_type": "code",
   "execution_count": null,
   "metadata": {},
   "outputs": [],
   "source": [
    "filename = r'/Volumes/programs/braintv/workgroups/nc-ophys/corbettb/motionscope/translation/linear_windowed_forward_center_-50-10_radius_10_speed_0.48_dotNum_1429_speedAtCenter_99_radiusAtCenter_2_dotDensity_20_scaleFactor_40.npy'\n",
    "test = np.load(filename)\n",
    "\n",
    "filename = r'/Volumes/programs/braintv/workgroups/nc-ophys/Saskia/openscope_motion/npyfiles_dec/linear_windowed_rotation_dir_0_420_100_10.npy'\n",
    "test2 = np.load(filename)"
   ]
  },
  {
   "cell_type": "code",
   "execution_count": 478,
   "metadata": {},
   "outputs": [],
   "source": [
    "tran_den = np.empty((60))\n",
    "rot_den = np.empty((60))\n",
    "for i in range(60):\n",
    "    tran_den[i] = (len(np.where(test[i,:,:]>127)[0])+len(np.where(test[i,:,:]<127)[0]))/576000.\n",
    "    rot_den[i] = (len(np.where(test2[i,:,:]>127)[0])+len(np.where(test2[i,:,:]<127)[0]))/576000."
   ]
  },
  {
   "cell_type": "code",
   "execution_count": 481,
   "metadata": {},
   "outputs": [
    {
     "data": {
      "text/plain": [
       "[<matplotlib.lines.Line2D at 0x1348ec350>]"
      ]
     },
     "execution_count": 481,
     "metadata": {},
     "output_type": "execute_result"
    },
    {
     "data": {
      "image/png": "[encoded data removed]",
      "text/plain": [
       "<Figure size 432x288 with 1 Axes>"
      ]
     },
     "metadata": {
      "needs_background": "light"
     },
     "output_type": "display_data"
    }
   ],
   "source": [
    "plt.plot(tran_den)\n",
    "plt.plot(rot_den)"
   ]
  },
  {
   "cell_type": "code",
   "execution_count": 486,
   "metadata": {},
   "outputs": [
    {
     "data": {
      "text/plain": [
       "<matplotlib.image.AxesImage at 0x1351e1050>"
      ]
     },
     "execution_count": 486,
     "metadata": {},
     "output_type": "execute_result"
    },
    {
     "data": {
      "image/png": "[encoded data removed]",
      "text/plain": [
       "<Figure size 432x720 with 2 Axes>"
      ]
     },
     "metadata": {
      "needs_background": "light"
     },
     "output_type": "display_data"
    }
   ],
   "source": [
    "plt.figure(figsize=(6,10))\n",
    "plt.subplot(211)\n",
    "\n",
    "plt.imshow(test[34,:,:], cmap='gray')\n",
    "plt.imshow(test[32,:,:], cmap='gray',alpha=0.3)\n",
    "\n",
    "plt.subplot(212)\n",
    "plt.imshow(test2[34,:,:], cmap='gray')\n",
    "plt.imshow(test2[32,:,:], cmap='gray',alpha=0.3)\n",
    "\n"
   ]
  },
  {
   "cell_type": "code",
   "execution_count": 434,
   "metadata": {},
   "outputs": [],
   "source": [
    "filename = r'/Users/saskiad/Documents/Openscope/2019/Motion characterization/Stimuli/translation/forward_center_-50-10_radius_10_speed_0.48_dotNum_1184_speedAtCenter_99_radiusAtCenter_2_dotDensity_20_scaleFactor_50.npy'\n",
    "test = np.load(filename)\n",
    "test_window = apply_gaussian_window(test)\n",
    "saveDir = os.path.join(r'/Volumes/programs/braintv/workgroups/nc-ophys/Saskia/openscope_motion/', 'windowed_translation_100_20')\n",
    "np.save(saveDir, test_window)"
   ]
  },
  {
   "cell_type": "code",
   "execution_count": 436,
   "metadata": {},
   "outputs": [
    {
     "data": {
      "text/plain": [
       "<matplotlib.image.AxesImage at 0x12c589310>"
      ]
     },
     "execution_count": 436,
     "metadata": {},
     "output_type": "execute_result"
    },
    {
     "data": {
      "image/png": "[encoded data removed]",
      "text/plain": [
       "<Figure size 432x288 with 1 Axes>"
      ]
     },
     "metadata": {
      "needs_background": "light"
     },
     "output_type": "display_data"
    }
   ],
   "source": [
    "plt.imshow(test_window[0,:,:], cmap='gray')"
   ]
  },
  {
   "cell_type": "markdown",
   "metadata": {},
   "source": [
    "## Make movies"
   ]
  },
  {
   "cell_type": "code",
   "execution_count": 437,
   "metadata": {},
   "outputs": [],
   "source": [
    "import moviepy.editor as mpy"
   ]
  },
  {
   "cell_type": "code",
   "execution_count": 460,
   "metadata": {},
   "outputs": [
    {
     "name": "stderr",
     "output_type": "stream",
     "text": [
      "\n",
      "t:   0%|          | 0/61 [00:00<?, ?it/s, now=None]\u001b[A"
     ]
    },
    {
     "name": "stdout",
     "output_type": "stream",
     "text": [
      "Moviepy - Building video /Volumes/programs/braintv/workgroups/nc-ophys/Saskia/openscope_motion/clips/linear_windowed_rotation_dir_270_420_20_10.mp4.\n",
      "Moviepy - Writing video /Volumes/programs/braintv/workgroups/nc-ophys/Saskia/openscope_motion/clips/linear_windowed_rotation_dir_270_420_20_10.mp4\n",
      "\n"
     ]
    },
    {
     "name": "stderr",
     "output_type": "stream",
     "text": [
      "\n",
      "t:   3%|▎         | 2/61 [00:00<00:05, 10.27it/s, now=None]\u001b[A\n",
      "t:  18%|█▊        | 11/61 [00:00<00:03, 13.98it/s, now=None]\u001b[A\n",
      "t:  31%|███       | 19/61 [00:00<00:02, 18.52it/s, now=None]\u001b[A\n",
      "t:  43%|████▎     | 26/61 [00:00<00:01, 23.65it/s, now=None]\u001b[A\n",
      "t:  57%|█████▋    | 35/61 [00:00<00:00, 30.25it/s, now=None]\u001b[A\n",
      "t:  74%|███████▍  | 45/61 [00:00<00:00, 35.83it/s, now=None]\u001b[A\n",
      "t:  85%|████████▌ | 52/61 [00:00<00:00, 40.88it/s, now=None]\u001b[A\n",
      "t:  97%|█████████▋| 59/61 [00:01<00:00, 41.51it/s, now=None]\u001b[A\n",
      "                                                            \u001b[A"
     ]
    },
    {
     "name": "stdout",
     "output_type": "stream",
     "text": [
      "Moviepy - Done !\n",
      "Moviepy - video ready /Volumes/programs/braintv/workgroups/nc-ophys/Saskia/openscope_motion/clips/linear_windowed_rotation_dir_270_420_20_10.mp4\n"
     ]
    },
    {
     "name": "stderr",
     "output_type": "stream",
     "text": [
      "\n",
      "t:   0%|          | 0/61 [00:00<?, ?it/s, now=None]\u001b[A\n",
      "t:  10%|▉         | 6/61 [00:00<00:00, 59.83it/s, now=None]\u001b[A"
     ]
    },
    {
     "name": "stdout",
     "output_type": "stream",
     "text": [
      "Moviepy - Building video /Volumes/programs/braintv/workgroups/nc-ophys/Saskia/openscope_motion/clips/linear_windowed_rotation_dir_45_420_100_10.mp4.\n",
      "Moviepy - Writing video /Volumes/programs/braintv/workgroups/nc-ophys/Saskia/openscope_motion/clips/linear_windowed_rotation_dir_45_420_100_10.mp4\n",
      "\n"
     ]
    },
    {
     "name": "stderr",
     "output_type": "stream",
     "text": [
      "\n",
      "t:  30%|██▉       | 18/61 [00:00<00:00, 69.66it/s, now=None]\u001b[A\n",
      "t:  48%|████▊     | 29/61 [00:00<00:00, 77.72it/s, now=None]\u001b[A\n",
      "t:  59%|█████▉    | 36/61 [00:00<00:00, 67.82it/s, now=None]\u001b[A\n",
      "t:  72%|███████▏  | 44/61 [00:00<00:00, 69.49it/s, now=None]\u001b[A\n",
      "t:  84%|████████▎ | 51/61 [00:00<00:00, 62.23it/s, now=None]\u001b[A\n",
      "t:  98%|█████████▊| 60/61 [00:00<00:00, 67.98it/s, now=None]\u001b[A\n",
      "                                                            \u001b[A"
     ]
    },
    {
     "name": "stdout",
     "output_type": "stream",
     "text": [
      "Moviepy - Done !\n",
      "Moviepy - video ready /Volumes/programs/braintv/workgroups/nc-ophys/Saskia/openscope_motion/clips/linear_windowed_rotation_dir_45_420_100_10.mp4\n"
     ]
    },
    {
     "name": "stderr",
     "output_type": "stream",
     "text": [
      "\n",
      "t:   0%|          | 0/61 [00:00<?, ?it/s, now=None]\u001b[A\n",
      "t:  13%|█▎        | 8/61 [00:00<00:00, 76.83it/s, now=None]\u001b[A"
     ]
    },
    {
     "name": "stdout",
     "output_type": "stream",
     "text": [
      "Moviepy - Building video /Volumes/programs/braintv/workgroups/nc-ophys/Saskia/openscope_motion/clips/linear_windowed_rotation_dir_90_420_200_10.mp4.\n",
      "Moviepy - Writing video /Volumes/programs/braintv/workgroups/nc-ophys/Saskia/openscope_motion/clips/linear_windowed_rotation_dir_90_420_200_10.mp4\n",
      "\n"
     ]
    },
    {
     "name": "stderr",
     "output_type": "stream",
     "text": [
      "\n",
      "t:  28%|██▊       | 17/61 [00:00<00:00, 78.55it/s, now=None]\u001b[A\n",
      "t:  51%|█████     | 31/61 [00:00<00:00, 88.98it/s, now=None]\u001b[A\n",
      "t:  67%|██████▋   | 41/61 [00:00<00:00, 91.26it/s, now=None]\u001b[A\n",
      "t:  80%|████████  | 49/61 [00:00<00:00, 79.15it/s, now=None]\u001b[A\n",
      "t:  97%|█████████▋| 59/61 [00:00<00:00, 83.45it/s, now=None]\u001b[A\n",
      "                                                            \u001b[A"
     ]
    },
    {
     "name": "stdout",
     "output_type": "stream",
     "text": [
      "Moviepy - Done !\n",
      "Moviepy - video ready /Volumes/programs/braintv/workgroups/nc-ophys/Saskia/openscope_motion/clips/linear_windowed_rotation_dir_90_420_200_10.mp4\n"
     ]
    },
    {
     "name": "stderr",
     "output_type": "stream",
     "text": [
      "\n",
      "t:   0%|          | 0/61 [00:00<?, ?it/s, now=None]\u001b[A\n",
      "t:  11%|█▏        | 7/61 [00:00<00:00, 64.16it/s, now=None]\u001b[A"
     ]
    },
    {
     "name": "stdout",
     "output_type": "stream",
     "text": [
      "Moviepy - Building video /Volumes/programs/braintv/workgroups/nc-ophys/Saskia/openscope_motion/clips/linear_windowed_rotation_dir_225_420_400_10.mp4.\n",
      "Moviepy - Writing video /Volumes/programs/braintv/workgroups/nc-ophys/Saskia/openscope_motion/clips/linear_windowed_rotation_dir_225_420_400_10.mp4\n",
      "\n"
     ]
    },
    {
     "name": "stderr",
     "output_type": "stream",
     "text": [
      "\n",
      "t:  31%|███       | 19/61 [00:00<00:00, 74.01it/s, now=None]\u001b[A\n",
      "t:  52%|█████▏    | 32/61 [00:00<00:00, 84.45it/s, now=None]\u001b[A\n",
      "t:  74%|███████▍  | 45/61 [00:00<00:00, 94.01it/s, now=None]\u001b[A\n",
      "t:  89%|████████▊ | 54/61 [00:00<00:00, 77.67it/s, now=None]\u001b[A\n",
      "                                                            \u001b[A"
     ]
    },
    {
     "name": "stdout",
     "output_type": "stream",
     "text": [
      "Moviepy - Done !\n",
      "Moviepy - video ready /Volumes/programs/braintv/workgroups/nc-ophys/Saskia/openscope_motion/clips/linear_windowed_rotation_dir_225_420_400_10.mp4\n"
     ]
    },
    {
     "name": "stderr",
     "output_type": "stream",
     "text": [
      "\n",
      "t:   0%|          | 0/61 [00:00<?, ?it/s, now=None]\u001b[A\n",
      "t:  13%|█▎        | 8/61 [00:00<00:00, 76.57it/s, now=None]\u001b[A"
     ]
    },
    {
     "name": "stdout",
     "output_type": "stream",
     "text": [
      "Moviepy - Building video /Volumes/programs/braintv/workgroups/nc-ophys/Saskia/openscope_motion/clips/linear_windowed_rotation_dir_270_420_10_10.mp4.\n",
      "Moviepy - Writing video /Volumes/programs/braintv/workgroups/nc-ophys/Saskia/openscope_motion/clips/linear_windowed_rotation_dir_270_420_10_10.mp4\n",
      "\n"
     ]
    },
    {
     "name": "stderr",
     "output_type": "stream",
     "text": [
      "\n",
      "t:  31%|███       | 19/61 [00:00<00:00, 83.89it/s, now=None]\u001b[A\n",
      "t:  59%|█████▉    | 36/61 [00:00<00:00, 98.78it/s, now=None]\u001b[A\n",
      "t:  79%|███████▊  | 48/61 [00:00<00:00, 97.36it/s, now=None]\u001b[A\n",
      "t:  93%|█████████▎| 57/61 [00:00<00:00, 77.35it/s, now=None]\u001b[A\n",
      "                                                            \u001b[A"
     ]
    },
    {
     "name": "stdout",
     "output_type": "stream",
     "text": [
      "Moviepy - Done !\n",
      "Moviepy - video ready /Volumes/programs/braintv/workgroups/nc-ophys/Saskia/openscope_motion/clips/linear_windowed_rotation_dir_270_420_10_10.mp4\n"
     ]
    },
    {
     "name": "stderr",
     "output_type": "stream",
     "text": [
      "\n",
      "t:   0%|          | 0/61 [00:00<?, ?it/s, now=None]\u001b[A\n",
      "t:  16%|█▋        | 10/61 [00:00<00:00, 96.40it/s, now=None]\u001b[A"
     ]
    },
    {
     "name": "stdout",
     "output_type": "stream",
     "text": [
      "Moviepy - Building video /Volumes/programs/braintv/workgroups/nc-ophys/Saskia/openscope_motion/clips/linear_windowed_rotation_dir_135_420_10_10.mp4.\n",
      "Moviepy - Writing video /Volumes/programs/braintv/workgroups/nc-ophys/Saskia/openscope_motion/clips/linear_windowed_rotation_dir_135_420_10_10.mp4\n",
      "\n"
     ]
    },
    {
     "name": "stderr",
     "output_type": "stream",
     "text": [
      "\n",
      "t:  34%|███▍      | 21/61 [00:00<00:00, 100.00it/s, now=None]\u001b[A\n",
      "t:  56%|█████▌    | 34/61 [00:00<00:00, 106.03it/s, now=None]\u001b[A\n",
      "t:  77%|███████▋  | 47/61 [00:00<00:00, 111.78it/s, now=None]\u001b[A\n",
      "t:  93%|█████████▎| 57/61 [00:00<00:00, 97.33it/s, now=None] \u001b[A\n",
      "                                                            \u001b[A"
     ]
    },
    {
     "name": "stdout",
     "output_type": "stream",
     "text": [
      "Moviepy - Done !\n",
      "Moviepy - video ready /Volumes/programs/braintv/workgroups/nc-ophys/Saskia/openscope_motion/clips/linear_windowed_rotation_dir_135_420_10_10.mp4\n"
     ]
    },
    {
     "name": "stderr",
     "output_type": "stream",
     "text": [
      "\n",
      "t:   0%|          | 0/61 [00:00<?, ?it/s, now=None]\u001b[A\n",
      "t:  13%|█▎        | 8/61 [00:00<00:00, 78.61it/s, now=None]\u001b[A"
     ]
    },
    {
     "name": "stdout",
     "output_type": "stream",
     "text": [
      "Moviepy - Building video /Volumes/programs/braintv/workgroups/nc-ophys/Saskia/openscope_motion/clips/linear_windowed_rotation_dir_135_420_20_10.mp4.\n",
      "Moviepy - Writing video /Volumes/programs/braintv/workgroups/nc-ophys/Saskia/openscope_motion/clips/linear_windowed_rotation_dir_135_420_20_10.mp4\n",
      "\n"
     ]
    },
    {
     "name": "stderr",
     "output_type": "stream",
     "text": [
      "\n",
      "t:  34%|███▍      | 21/61 [00:00<00:00, 87.75it/s, now=None]\u001b[A\n",
      "t:  54%|█████▍    | 33/61 [00:00<00:00, 94.29it/s, now=None]\u001b[A\n",
      "t:  74%|███████▍  | 45/61 [00:00<00:00, 100.41it/s, now=None]\u001b[A\n",
      "t:  89%|████████▊ | 54/61 [00:00<00:00, 92.13it/s, now=None] \u001b[A\n",
      "                                                            \u001b[A"
     ]
    },
    {
     "name": "stdout",
     "output_type": "stream",
     "text": [
      "Moviepy - Done !\n",
      "Moviepy - video ready /Volumes/programs/braintv/workgroups/nc-ophys/Saskia/openscope_motion/clips/linear_windowed_rotation_dir_135_420_20_10.mp4\n"
     ]
    },
    {
     "name": "stderr",
     "output_type": "stream",
     "text": [
      "\n",
      "t:   0%|          | 0/61 [00:00<?, ?it/s, now=None]\u001b[A\n",
      "t:  18%|█▊        | 11/61 [00:00<00:00, 104.67it/s, now=None]\u001b[A"
     ]
    },
    {
     "name": "stdout",
     "output_type": "stream",
     "text": [
      "Moviepy - Building video /Volumes/programs/braintv/workgroups/nc-ophys/Saskia/openscope_motion/clips/linear_windowed_rotation_dir_0_420_200_10.mp4.\n",
      "Moviepy - Writing video /Volumes/programs/braintv/workgroups/nc-ophys/Saskia/openscope_motion/clips/linear_windowed_rotation_dir_0_420_200_10.mp4\n",
      "\n"
     ]
    },
    {
     "name": "stderr",
     "output_type": "stream",
     "text": [
      "\n",
      "t:  33%|███▎      | 20/61 [00:00<00:00, 99.42it/s, now=None] \u001b[A\n",
      "t:  49%|████▉     | 30/61 [00:00<00:00, 98.86it/s, now=None]\u001b[A\n",
      "t:  67%|██████▋   | 41/61 [00:00<00:00, 100.97it/s, now=None]\u001b[A\n",
      "t:  80%|████████  | 49/61 [00:00<00:00, 59.30it/s, now=None] \u001b[A\n",
      "t:  92%|█████████▏| 56/61 [00:00<00:00, 49.02it/s, now=None]\u001b[A\n",
      "                                                            \u001b[A"
     ]
    },
    {
     "name": "stdout",
     "output_type": "stream",
     "text": [
      "Moviepy - Done !\n",
      "Moviepy - video ready /Volumes/programs/braintv/workgroups/nc-ophys/Saskia/openscope_motion/clips/linear_windowed_rotation_dir_0_420_200_10.mp4\n"
     ]
    },
    {
     "name": "stderr",
     "output_type": "stream",
     "text": [
      "\n",
      "t:   0%|          | 0/61 [00:00<?, ?it/s, now=None]\u001b[A\n",
      "t:  11%|█▏        | 7/61 [00:00<00:00, 69.96it/s, now=None]\u001b[A"
     ]
    },
    {
     "name": "stdout",
     "output_type": "stream",
     "text": [
      "Moviepy - Building video /Volumes/programs/braintv/workgroups/nc-ophys/Saskia/openscope_motion/clips/linear_windowed_rotation_dir_270_420_100_10.mp4.\n",
      "Moviepy - Writing video /Volumes/programs/braintv/workgroups/nc-ophys/Saskia/openscope_motion/clips/linear_windowed_rotation_dir_270_420_100_10.mp4\n",
      "\n"
     ]
    },
    {
     "name": "stderr",
     "output_type": "stream",
     "text": [
      "\n",
      "t:  33%|███▎      | 20/61 [00:00<00:00, 80.30it/s, now=None]\u001b[A\n",
      "t:  51%|█████     | 31/61 [00:00<00:00, 86.82it/s, now=None]\u001b[A\n",
      "t:  74%|███████▍  | 45/61 [00:00<00:00, 97.18it/s, now=None]\u001b[A\n",
      "t:  89%|████████▊ | 54/61 [00:00<00:00, 87.38it/s, now=None]\u001b[A\n",
      "                                                            \u001b[A"
     ]
    },
    {
     "name": "stdout",
     "output_type": "stream",
     "text": [
      "Moviepy - Done !\n",
      "Moviepy - video ready /Volumes/programs/braintv/workgroups/nc-ophys/Saskia/openscope_motion/clips/linear_windowed_rotation_dir_270_420_100_10.mp4\n"
     ]
    },
    {
     "name": "stderr",
     "output_type": "stream",
     "text": [
      "\n",
      "t:   0%|          | 0/61 [00:00<?, ?it/s, now=None]\u001b[A\n",
      "t:  13%|█▎        | 8/61 [00:00<00:00, 78.18it/s, now=None]\u001b[A"
     ]
    },
    {
     "name": "stdout",
     "output_type": "stream",
     "text": [
      "Moviepy - Building video /Volumes/programs/braintv/workgroups/nc-ophys/Saskia/openscope_motion/clips/linear_windowed_rotation_dir_315_420_400_10.mp4.\n",
      "Moviepy - Writing video /Volumes/programs/braintv/workgroups/nc-ophys/Saskia/openscope_motion/clips/linear_windowed_rotation_dir_315_420_400_10.mp4\n",
      "\n"
     ]
    },
    {
     "name": "stderr",
     "output_type": "stream",
     "text": [
      "\n",
      "t:  36%|███▌      | 22/61 [00:00<00:00, 89.07it/s, now=None]\u001b[A\n",
      "t:  52%|█████▏    | 32/61 [00:00<00:00, 91.14it/s, now=None]\u001b[A\n",
      "t:  64%|██████▍   | 39/61 [00:00<00:00, 83.03it/s, now=None]\u001b[A\n",
      "t:  79%|███████▊  | 48/61 [00:00<00:00, 78.30it/s, now=None]\u001b[A\n",
      "t:  93%|█████████▎| 57/61 [00:00<00:00, 80.43it/s, now=None]\u001b[A\n",
      "                                                            \u001b[A"
     ]
    },
    {
     "name": "stdout",
     "output_type": "stream",
     "text": [
      "Moviepy - Done !\n",
      "Moviepy - video ready /Volumes/programs/braintv/workgroups/nc-ophys/Saskia/openscope_motion/clips/linear_windowed_rotation_dir_315_420_400_10.mp4\n"
     ]
    },
    {
     "name": "stderr",
     "output_type": "stream",
     "text": [
      "\n",
      "t:   0%|          | 0/61 [00:00<?, ?it/s, now=None]\u001b[A\n",
      "t:  11%|█▏        | 7/61 [00:00<00:00, 68.51it/s, now=None]\u001b[A"
     ]
    },
    {
     "name": "stdout",
     "output_type": "stream",
     "text": [
      "Moviepy - Building video /Volumes/programs/braintv/workgroups/nc-ophys/Saskia/openscope_motion/clips/linear_windowed_rotation_dir_45_420_400_10.mp4.\n",
      "Moviepy - Writing video /Volumes/programs/braintv/workgroups/nc-ophys/Saskia/openscope_motion/clips/linear_windowed_rotation_dir_45_420_400_10.mp4\n",
      "\n"
     ]
    },
    {
     "name": "stderr",
     "output_type": "stream",
     "text": [
      "\n",
      "t:  28%|██▊       | 17/61 [00:00<00:00, 74.81it/s, now=None]\u001b[A\n",
      "t:  46%|████▌     | 28/61 [00:00<00:00, 81.80it/s, now=None]\u001b[A\n",
      "t:  70%|███████   | 43/61 [00:00<00:00, 93.82it/s, now=None]\u001b[A\n",
      "t:  85%|████████▌ | 52/61 [00:00<00:00, 84.66it/s, now=None]\u001b[A\n",
      "t: 100%|██████████| 61/61 [00:00<00:00, 85.26it/s, now=None]\u001b[A\n",
      "                                                            \u001b[A"
     ]
    },
    {
     "name": "stdout",
     "output_type": "stream",
     "text": [
      "Moviepy - Done !\n",
      "Moviepy - video ready /Volumes/programs/braintv/workgroups/nc-ophys/Saskia/openscope_motion/clips/linear_windowed_rotation_dir_45_420_400_10.mp4\n"
     ]
    },
    {
     "name": "stderr",
     "output_type": "stream",
     "text": [
      "\n",
      "t:   0%|          | 0/61 [00:00<?, ?it/s, now=None]\u001b[A\n",
      "t:  18%|█▊        | 11/61 [00:00<00:00, 108.17it/s, now=None]\u001b[A"
     ]
    },
    {
     "name": "stdout",
     "output_type": "stream",
     "text": [
      "Moviepy - Building video /Volumes/programs/braintv/workgroups/nc-ophys/Saskia/openscope_motion/clips/linear_windowed_rotation_dir_90_420_20_10.mp4.\n",
      "Moviepy - Writing video /Volumes/programs/braintv/workgroups/nc-ophys/Saskia/openscope_motion/clips/linear_windowed_rotation_dir_90_420_20_10.mp4\n",
      "\n"
     ]
    },
    {
     "name": "stderr",
     "output_type": "stream",
     "text": [
      "\n",
      "t:  39%|███▉      | 24/61 [00:00<00:00, 113.64it/s, now=None]\u001b[A\n",
      "t:  59%|█████▉    | 36/61 [00:00<00:00, 114.75it/s, now=None]\u001b[A\n",
      "t:  79%|███████▊  | 48/61 [00:00<00:00, 104.48it/s, now=None]\u001b[A\n",
      "t:  93%|█████████▎| 57/61 [00:00<00:00, 97.12it/s, now=None] \u001b[A\n",
      "                                                            \u001b[A"
     ]
    },
    {
     "name": "stdout",
     "output_type": "stream",
     "text": [
      "Moviepy - Done !\n",
      "Moviepy - video ready /Volumes/programs/braintv/workgroups/nc-ophys/Saskia/openscope_motion/clips/linear_windowed_rotation_dir_90_420_20_10.mp4\n"
     ]
    },
    {
     "name": "stderr",
     "output_type": "stream",
     "text": [
      "\n",
      "t:   0%|          | 0/61 [00:00<?, ?it/s, now=None]\u001b[A\n",
      "t:  13%|█▎        | 8/61 [00:00<00:00, 79.13it/s, now=None]\u001b[A"
     ]
    },
    {
     "name": "stdout",
     "output_type": "stream",
     "text": [
      "Moviepy - Building video /Volumes/programs/braintv/workgroups/nc-ophys/Saskia/openscope_motion/clips/linear_windowed_rotation_dir_225_420_50_10.mp4.\n",
      "Moviepy - Writing video /Volumes/programs/braintv/workgroups/nc-ophys/Saskia/openscope_motion/clips/linear_windowed_rotation_dir_225_420_50_10.mp4\n",
      "\n"
     ]
    },
    {
     "name": "stderr",
     "output_type": "stream",
     "text": [
      "\n",
      "t:  31%|███       | 19/61 [00:00<00:00, 86.35it/s, now=None]\u001b[A\n",
      "t:  51%|█████     | 31/61 [00:00<00:00, 94.27it/s, now=None]\u001b[A\n",
      "t:  75%|███████▌  | 46/61 [00:00<00:00, 104.82it/s, now=None]\u001b[A\n",
      "t:  92%|█████████▏| 56/61 [00:00<00:00, 93.26it/s, now=None] \u001b[A\n",
      "                                                            \u001b[A"
     ]
    },
    {
     "name": "stdout",
     "output_type": "stream",
     "text": [
      "Moviepy - Done !\n",
      "Moviepy - video ready /Volumes/programs/braintv/workgroups/nc-ophys/Saskia/openscope_motion/clips/linear_windowed_rotation_dir_225_420_50_10.mp4\n"
     ]
    },
    {
     "name": "stderr",
     "output_type": "stream",
     "text": [
      "\n",
      "t:   0%|          | 0/61 [00:00<?, ?it/s, now=None]\u001b[A\n",
      "t:  15%|█▍        | 9/61 [00:00<00:00, 88.49it/s, now=None]\u001b[A"
     ]
    },
    {
     "name": "stdout",
     "output_type": "stream",
     "text": [
      "Moviepy - Building video /Volumes/programs/braintv/workgroups/nc-ophys/Saskia/openscope_motion/clips/linear_windowed_rotation_dir_180_420_200_10.mp4.\n",
      "Moviepy - Writing video /Volumes/programs/braintv/workgroups/nc-ophys/Saskia/openscope_motion/clips/linear_windowed_rotation_dir_180_420_200_10.mp4\n",
      "\n"
     ]
    },
    {
     "name": "stderr",
     "output_type": "stream",
     "text": [
      "\n",
      "t:  33%|███▎      | 20/61 [00:00<00:00, 93.01it/s, now=None]\u001b[A\n",
      "t:  52%|█████▏    | 32/61 [00:00<00:00, 98.40it/s, now=None]\u001b[A\n",
      "t:  74%|███████▍  | 45/61 [00:00<00:00, 104.95it/s, now=None]\u001b[A\n",
      "t:  89%|████████▊ | 54/61 [00:00<00:00, 88.41it/s, now=None] \u001b[A\n",
      "                                                            \u001b[A"
     ]
    },
    {
     "name": "stdout",
     "output_type": "stream",
     "text": [
      "Moviepy - Done !\n",
      "Moviepy - video ready /Volumes/programs/braintv/workgroups/nc-ophys/Saskia/openscope_motion/clips/linear_windowed_rotation_dir_180_420_200_10.mp4\n"
     ]
    },
    {
     "name": "stderr",
     "output_type": "stream",
     "text": [
      "\n",
      "t:   0%|          | 0/61 [00:00<?, ?it/s, now=None]\u001b[A\n",
      "t:  13%|█▎        | 8/61 [00:00<00:00, 79.20it/s, now=None]\u001b[A"
     ]
    },
    {
     "name": "stdout",
     "output_type": "stream",
     "text": [
      "Moviepy - Building video /Volumes/programs/braintv/workgroups/nc-ophys/Saskia/openscope_motion/clips/linear_windowed_rotation_dir_270_420_400_10.mp4.\n",
      "Moviepy - Writing video /Volumes/programs/braintv/workgroups/nc-ophys/Saskia/openscope_motion/clips/linear_windowed_rotation_dir_270_420_400_10.mp4\n",
      "\n"
     ]
    },
    {
     "name": "stderr",
     "output_type": "stream",
     "text": [
      "\n",
      "t:  31%|███       | 19/61 [00:00<00:00, 85.03it/s, now=None]\u001b[A\n",
      "t:  48%|████▊     | 29/61 [00:00<00:00, 88.55it/s, now=None]\u001b[A\n",
      "t:  70%|███████   | 43/61 [00:00<00:00, 98.53it/s, now=None]\u001b[A\n",
      "t:  85%|████████▌ | 52/61 [00:00<00:00, 87.07it/s, now=None]\u001b[A\n",
      "t: 100%|██████████| 61/61 [00:00<00:00, 87.28it/s, now=None]\u001b[A\n",
      "                                                            \u001b[A"
     ]
    },
    {
     "name": "stdout",
     "output_type": "stream",
     "text": [
      "Moviepy - Done !\n",
      "Moviepy - video ready /Volumes/programs/braintv/workgroups/nc-ophys/Saskia/openscope_motion/clips/linear_windowed_rotation_dir_270_420_400_10.mp4\n"
     ]
    },
    {
     "name": "stderr",
     "output_type": "stream",
     "text": [
      "\n",
      "t:   0%|          | 0/61 [00:00<?, ?it/s, now=None]\u001b[A\n",
      "t:  16%|█▋        | 10/61 [00:00<00:00, 99.86it/s, now=None]\u001b[A"
     ]
    },
    {
     "name": "stdout",
     "output_type": "stream",
     "text": [
      "Moviepy - Building video /Volumes/programs/braintv/workgroups/nc-ophys/Saskia/openscope_motion/clips/linear_windowed_rotation_dir_45_420_20_10.mp4.\n",
      "Moviepy - Writing video /Volumes/programs/braintv/workgroups/nc-ophys/Saskia/openscope_motion/clips/linear_windowed_rotation_dir_45_420_20_10.mp4\n",
      "\n"
     ]
    },
    {
     "name": "stderr",
     "output_type": "stream",
     "text": [
      "\n",
      "t:  34%|███▍      | 21/61 [00:00<00:00, 100.65it/s, now=None]\u001b[A\n",
      "t:  54%|█████▍    | 33/61 [00:00<00:00, 104.84it/s, now=None]\u001b[A\n",
      "t:  75%|███████▌  | 46/61 [00:00<00:00, 109.96it/s, now=None]\u001b[A\n",
      "t:  90%|█████████ | 55/61 [00:00<00:00, 97.01it/s, now=None] \u001b[A\n",
      "                                                            \u001b[A"
     ]
    },
    {
     "name": "stdout",
     "output_type": "stream",
     "text": [
      "Moviepy - Done !\n",
      "Moviepy - video ready /Volumes/programs/braintv/workgroups/nc-ophys/Saskia/openscope_motion/clips/linear_windowed_rotation_dir_45_420_20_10.mp4\n"
     ]
    },
    {
     "name": "stderr",
     "output_type": "stream",
     "text": [
      "\n",
      "t:   0%|          | 0/61 [00:00<?, ?it/s, now=None]\u001b[A\n",
      "t:  11%|█▏        | 7/61 [00:00<00:00, 69.11it/s, now=None]\u001b[A"
     ]
    },
    {
     "name": "stdout",
     "output_type": "stream",
     "text": [
      "Moviepy - Building video /Volumes/programs/braintv/workgroups/nc-ophys/Saskia/openscope_motion/clips/linear_windowed_rotation_dir_135_420_100_10.mp4.\n",
      "Moviepy - Writing video /Volumes/programs/braintv/workgroups/nc-ophys/Saskia/openscope_motion/clips/linear_windowed_rotation_dir_135_420_100_10.mp4\n",
      "\n"
     ]
    },
    {
     "name": "stderr",
     "output_type": "stream",
     "text": [
      "\n",
      "t:  33%|███▎      | 20/61 [00:00<00:00, 79.67it/s, now=None]\u001b[A\n",
      "t:  52%|█████▏    | 32/61 [00:00<00:00, 88.19it/s, now=None]\u001b[A\n",
      "t:  74%|███████▍  | 45/61 [00:00<00:00, 96.05it/s, now=None]\u001b[A\n",
      "t:  89%|████████▊ | 54/61 [00:00<00:00, 79.04it/s, now=None]\u001b[A\n",
      "                                                            \u001b[A"
     ]
    },
    {
     "name": "stdout",
     "output_type": "stream",
     "text": [
      "Moviepy - Done !\n",
      "Moviepy - video ready /Volumes/programs/braintv/workgroups/nc-ophys/Saskia/openscope_motion/clips/linear_windowed_rotation_dir_135_420_100_10.mp4\n"
     ]
    },
    {
     "name": "stderr",
     "output_type": "stream",
     "text": [
      "\n",
      "t:   0%|          | 0/61 [00:00<?, ?it/s, now=None]\u001b[A\n",
      "t:  20%|█▉        | 12/61 [00:00<00:00, 115.15it/s, now=None]\u001b[A"
     ]
    },
    {
     "name": "stdout",
     "output_type": "stream",
     "text": [
      "Moviepy - Building video /Volumes/programs/braintv/workgroups/nc-ophys/Saskia/openscope_motion/clips/linear_windowed_rotation_dir_180_420_50_10.mp4.\n",
      "Moviepy - Writing video /Volumes/programs/braintv/workgroups/nc-ophys/Saskia/openscope_motion/clips/linear_windowed_rotation_dir_180_420_50_10.mp4\n",
      "\n"
     ]
    },
    {
     "name": "stderr",
     "output_type": "stream",
     "text": [
      "\n",
      "t:  38%|███▊      | 23/61 [00:00<00:00, 113.33it/s, now=None]\u001b[A\n",
      "t:  57%|█████▋    | 35/61 [00:00<00:00, 115.08it/s, now=None]\u001b[A\n",
      "t:  79%|███████▊  | 48/61 [00:00<00:00, 103.49it/s, now=None]\u001b[A\n",
      "t:  97%|█████████▋| 59/61 [00:00<00:00, 103.95it/s, now=None]\u001b[A\n",
      "                                                             \u001b[A"
     ]
    },
    {
     "name": "stdout",
     "output_type": "stream",
     "text": [
      "Moviepy - Done !\n",
      "Moviepy - video ready /Volumes/programs/braintv/workgroups/nc-ophys/Saskia/openscope_motion/clips/linear_windowed_rotation_dir_180_420_50_10.mp4\n"
     ]
    },
    {
     "name": "stderr",
     "output_type": "stream",
     "text": [
      "\n",
      "t:   0%|          | 0/61 [00:00<?, ?it/s, now=None]\u001b[A\n",
      "t:  16%|█▋        | 10/61 [00:00<00:00, 99.99it/s, now=None]\u001b[A"
     ]
    },
    {
     "name": "stdout",
     "output_type": "stream",
     "text": [
      "Moviepy - Building video /Volumes/programs/braintv/workgroups/nc-ophys/Saskia/openscope_motion/clips/linear_windowed_rotation_dir_135_420_200_10.mp4.\n",
      "Moviepy - Writing video /Volumes/programs/braintv/workgroups/nc-ophys/Saskia/openscope_motion/clips/linear_windowed_rotation_dir_135_420_200_10.mp4\n",
      "\n"
     ]
    },
    {
     "name": "stderr",
     "output_type": "stream",
     "text": [
      "\n",
      "t:  39%|███▉      | 24/61 [00:00<00:00, 107.88it/s, now=None]\u001b[A\n",
      "t:  56%|█████▌    | 34/61 [00:00<00:00, 104.23it/s, now=None]\u001b[A\n",
      "t:  77%|███████▋  | 47/61 [00:00<00:00, 109.84it/s, now=None]\u001b[A\n",
      "t:  92%|█████████▏| 56/61 [00:00<00:00, 88.26it/s, now=None] \u001b[A\n",
      "                                                            \u001b[A"
     ]
    },
    {
     "name": "stdout",
     "output_type": "stream",
     "text": [
      "Moviepy - Done !\n",
      "Moviepy - video ready /Volumes/programs/braintv/workgroups/nc-ophys/Saskia/openscope_motion/clips/linear_windowed_rotation_dir_135_420_200_10.mp4\n"
     ]
    },
    {
     "name": "stderr",
     "output_type": "stream",
     "text": [
      "\n",
      "t:   0%|          | 0/61 [00:00<?, ?it/s, now=None]\u001b[A\n",
      "t:  10%|▉         | 6/61 [00:00<00:00, 57.24it/s, now=None]\u001b[A"
     ]
    },
    {
     "name": "stdout",
     "output_type": "stream",
     "text": [
      "Moviepy - Building video /Volumes/programs/braintv/workgroups/nc-ophys/Saskia/openscope_motion/clips/linear_windowed_rotation_dir_0_420_10_10.mp4.\n",
      "Moviepy - Writing video /Volumes/programs/braintv/workgroups/nc-ophys/Saskia/openscope_motion/clips/linear_windowed_rotation_dir_0_420_10_10.mp4\n",
      "\n"
     ]
    },
    {
     "name": "stderr",
     "output_type": "stream",
     "text": [
      "\n",
      "t:  33%|███▎      | 20/61 [00:00<00:00, 69.33it/s, now=None]\u001b[A\n",
      "t:  51%|█████     | 31/61 [00:00<00:00, 77.27it/s, now=None]\u001b[A\n",
      "t:  74%|███████▍  | 45/61 [00:00<00:00, 88.85it/s, now=None]\u001b[A\n",
      "t:  89%|████████▊ | 54/61 [00:00<00:00, 84.75it/s, now=None]\u001b[A\n",
      "                                                            \u001b[A"
     ]
    },
    {
     "name": "stdout",
     "output_type": "stream",
     "text": [
      "Moviepy - Done !\n",
      "Moviepy - video ready /Volumes/programs/braintv/workgroups/nc-ophys/Saskia/openscope_motion/clips/linear_windowed_rotation_dir_0_420_10_10.mp4\n"
     ]
    },
    {
     "name": "stderr",
     "output_type": "stream",
     "text": [
      "\n",
      "t:   0%|          | 0/61 [00:00<?, ?it/s, now=None]\u001b[A\n",
      "t:   7%|▋         | 4/61 [00:00<00:01, 38.31it/s, now=None]\u001b[A"
     ]
    },
    {
     "name": "stdout",
     "output_type": "stream",
     "text": [
      "Moviepy - Building video /Volumes/programs/braintv/workgroups/nc-ophys/Saskia/openscope_motion/clips/linear_windowed_rotation_dir_270_420_50_10.mp4.\n",
      "Moviepy - Writing video /Volumes/programs/braintv/workgroups/nc-ophys/Saskia/openscope_motion/clips/linear_windowed_rotation_dir_270_420_50_10.mp4\n",
      "\n"
     ]
    },
    {
     "name": "stderr",
     "output_type": "stream",
     "text": [
      "\n",
      "t:  23%|██▎       | 14/61 [00:00<00:01, 46.82it/s, now=None]\u001b[A\n",
      "t:  39%|███▉      | 24/61 [00:00<00:00, 55.17it/s, now=None]\u001b[A\n",
      "t:  57%|█████▋    | 35/61 [00:00<00:00, 64.86it/s, now=None]\u001b[A\n",
      "t:  75%|███████▌  | 46/61 [00:00<00:00, 73.53it/s, now=None]\u001b[A\n",
      "t:  90%|█████████ | 55/61 [00:00<00:00, 71.44it/s, now=None]\u001b[A\n",
      "                                                            \u001b[A"
     ]
    },
    {
     "name": "stdout",
     "output_type": "stream",
     "text": [
      "Moviepy - Done !\n",
      "Moviepy - video ready /Volumes/programs/braintv/workgroups/nc-ophys/Saskia/openscope_motion/clips/linear_windowed_rotation_dir_270_420_50_10.mp4\n"
     ]
    },
    {
     "name": "stderr",
     "output_type": "stream",
     "text": [
      "\n",
      "t:   0%|          | 0/61 [00:00<?, ?it/s, now=None]\u001b[A\n",
      "t:  10%|▉         | 6/61 [00:00<00:00, 59.38it/s, now=None]\u001b[A"
     ]
    },
    {
     "name": "stdout",
     "output_type": "stream",
     "text": [
      "Moviepy - Building video /Volumes/programs/braintv/workgroups/nc-ophys/Saskia/openscope_motion/clips/linear_windowed_rotation_dir_135_420_50_10.mp4.\n",
      "Moviepy - Writing video /Volumes/programs/braintv/workgroups/nc-ophys/Saskia/openscope_motion/clips/linear_windowed_rotation_dir_135_420_50_10.mp4\n",
      "\n"
     ]
    },
    {
     "name": "stderr",
     "output_type": "stream",
     "text": [
      "\n",
      "t:  23%|██▎       | 14/61 [00:00<00:00, 64.25it/s, now=None]\u001b[A\n",
      "t:  38%|███▊      | 23/61 [00:00<00:00, 69.94it/s, now=None]\u001b[A\n",
      "t:  49%|████▉     | 30/61 [00:00<00:00, 68.60it/s, now=None]\u001b[A\n",
      "t:  64%|██████▍   | 39/61 [00:00<00:00, 73.43it/s, now=None]\u001b[A\n",
      "t:  79%|███████▊  | 48/61 [00:00<00:00, 67.25it/s, now=None]\u001b[A\n",
      "t:  90%|█████████ | 55/61 [00:00<00:00, 67.23it/s, now=None]\u001b[A\n",
      "                                                            \u001b[A"
     ]
    },
    {
     "name": "stdout",
     "output_type": "stream",
     "text": [
      "Moviepy - Done !\n",
      "Moviepy - video ready /Volumes/programs/braintv/workgroups/nc-ophys/Saskia/openscope_motion/clips/linear_windowed_rotation_dir_135_420_50_10.mp4\n"
     ]
    },
    {
     "name": "stderr",
     "output_type": "stream",
     "text": [
      "\n",
      "t:   0%|          | 0/61 [00:00<?, ?it/s, now=None]\u001b[A\n",
      "t:  13%|█▎        | 8/61 [00:00<00:00, 75.08it/s, now=None]\u001b[A"
     ]
    },
    {
     "name": "stdout",
     "output_type": "stream",
     "text": [
      "Moviepy - Building video /Volumes/programs/braintv/workgroups/nc-ophys/Saskia/openscope_motion/clips/linear_windowed_rotation_dir_45_420_200_10.mp4.\n",
      "Moviepy - Writing video /Volumes/programs/braintv/workgroups/nc-ophys/Saskia/openscope_motion/clips/linear_windowed_rotation_dir_45_420_200_10.mp4\n",
      "\n"
     ]
    },
    {
     "name": "stderr",
     "output_type": "stream",
     "text": [
      "\n",
      "t:  26%|██▌       | 16/61 [00:00<00:00, 75.43it/s, now=None]\u001b[A\n",
      "t:  39%|███▉      | 24/61 [00:00<00:00, 76.44it/s, now=None]\u001b[A\n",
      "t:  59%|█████▉    | 36/61 [00:00<00:00, 85.76it/s, now=None]\u001b[A\n",
      "t:  74%|███████▍  | 45/61 [00:00<00:00, 63.04it/s, now=None]\u001b[A\n",
      "t:  85%|████████▌ | 52/61 [00:01<00:00, 34.89it/s, now=None]\u001b[A\n",
      "t: 100%|██████████| 61/61 [00:01<00:00, 42.60it/s, now=None]\u001b[A\n",
      "                                                            \u001b[A"
     ]
    },
    {
     "name": "stdout",
     "output_type": "stream",
     "text": [
      "Moviepy - Done !\n",
      "Moviepy - video ready /Volumes/programs/braintv/workgroups/nc-ophys/Saskia/openscope_motion/clips/linear_windowed_rotation_dir_45_420_200_10.mp4\n"
     ]
    },
    {
     "name": "stderr",
     "output_type": "stream",
     "text": [
      "\n",
      "t:   0%|          | 0/61 [00:00<?, ?it/s, now=None]\u001b[A\n",
      "t:  13%|█▎        | 8/61 [00:00<00:00, 78.46it/s, now=None]\u001b[A"
     ]
    },
    {
     "name": "stdout",
     "output_type": "stream",
     "text": [
      "Moviepy - Building video /Volumes/programs/braintv/workgroups/nc-ophys/Saskia/openscope_motion/clips/linear_windowed_rotation_dir_0_420_400_10.mp4.\n",
      "Moviepy - Writing video /Volumes/programs/braintv/workgroups/nc-ophys/Saskia/openscope_motion/clips/linear_windowed_rotation_dir_0_420_400_10.mp4\n",
      "\n"
     ]
    },
    {
     "name": "stderr",
     "output_type": "stream",
     "text": [
      "\n",
      "t:  30%|██▉       | 18/61 [00:00<00:00, 82.86it/s, now=None]\u001b[A\n",
      "t:  48%|████▊     | 29/61 [00:00<00:00, 87.49it/s, now=None]\u001b[A\n",
      "t:  62%|██████▏   | 38/61 [00:00<00:00, 87.73it/s, now=None]\u001b[A\n",
      "t:  79%|███████▊  | 48/61 [00:00<00:00, 81.46it/s, now=None]\u001b[A\n",
      "t:  90%|█████████ | 55/61 [00:00<00:00, 75.45it/s, now=None]\u001b[A\n",
      "                                                            \u001b[A"
     ]
    },
    {
     "name": "stdout",
     "output_type": "stream",
     "text": [
      "Moviepy - Done !\n",
      "Moviepy - video ready /Volumes/programs/braintv/workgroups/nc-ophys/Saskia/openscope_motion/clips/linear_windowed_rotation_dir_0_420_400_10.mp4\n"
     ]
    },
    {
     "name": "stderr",
     "output_type": "stream",
     "text": [
      "\n",
      "t:   0%|          | 0/61 [00:00<?, ?it/s, now=None]\u001b[A\n",
      "t:   8%|▊         | 5/61 [00:00<00:01, 48.67it/s, now=None]\u001b[A"
     ]
    },
    {
     "name": "stdout",
     "output_type": "stream",
     "text": [
      "Moviepy - Building video /Volumes/programs/braintv/workgroups/nc-ophys/Saskia/openscope_motion/clips/linear_windowed_rotation_dir_45_420_10_10.mp4.\n",
      "Moviepy - Writing video /Volumes/programs/braintv/workgroups/nc-ophys/Saskia/openscope_motion/clips/linear_windowed_rotation_dir_45_420_10_10.mp4\n",
      "\n"
     ]
    },
    {
     "name": "stderr",
     "output_type": "stream",
     "text": [
      "\n",
      "t:  18%|█▊        | 11/61 [00:00<00:00, 50.63it/s, now=None]\u001b[A\n",
      "t:  34%|███▍      | 21/61 [00:00<00:00, 58.98it/s, now=None]\u001b[A\n",
      "t:  56%|█████▌    | 34/61 [00:00<00:00, 70.48it/s, now=None]\u001b[A\n",
      "t:  75%|███████▌  | 46/61 [00:00<00:00, 80.32it/s, now=None]\u001b[A\n",
      "t:  90%|█████████ | 55/61 [00:00<00:00, 74.05it/s, now=None]\u001b[A\n",
      "                                                            \u001b[A"
     ]
    },
    {
     "name": "stdout",
     "output_type": "stream",
     "text": [
      "Moviepy - Done !\n",
      "Moviepy - video ready /Volumes/programs/braintv/workgroups/nc-ophys/Saskia/openscope_motion/clips/linear_windowed_rotation_dir_45_420_10_10.mp4\n"
     ]
    },
    {
     "name": "stderr",
     "output_type": "stream",
     "text": [
      "\n",
      "t:   0%|          | 0/61 [00:00<?, ?it/s, now=None]\u001b[A\n",
      "t:  16%|█▋        | 10/61 [00:00<00:00, 98.55it/s, now=None]\u001b[A"
     ]
    },
    {
     "name": "stdout",
     "output_type": "stream",
     "text": [
      "Moviepy - Building video /Volumes/programs/braintv/workgroups/nc-ophys/Saskia/openscope_motion/clips/linear_windowed_rotation_dir_225_420_10_10.mp4.\n",
      "Moviepy - Writing video /Volumes/programs/braintv/workgroups/nc-ophys/Saskia/openscope_motion/clips/linear_windowed_rotation_dir_225_420_10_10.mp4\n",
      "\n"
     ]
    },
    {
     "name": "stderr",
     "output_type": "stream",
     "text": [
      "\n",
      "t:  31%|███       | 19/61 [00:00<00:00, 95.14it/s, now=None]\u001b[A\n",
      "t:  49%|████▉     | 30/61 [00:00<00:00, 98.02it/s, now=None]\u001b[A\n",
      "t:  70%|███████   | 43/61 [00:00<00:00, 105.66it/s, now=None]\u001b[A\n",
      "t:  85%|████████▌ | 52/61 [00:00<00:00, 93.38it/s, now=None] \u001b[A\n",
      "t: 100%|██████████| 61/61 [00:00<00:00, 91.99it/s, now=None]\u001b[A\n",
      "                                                            \u001b[A"
     ]
    },
    {
     "name": "stdout",
     "output_type": "stream",
     "text": [
      "Moviepy - Done !\n",
      "Moviepy - video ready /Volumes/programs/braintv/workgroups/nc-ophys/Saskia/openscope_motion/clips/linear_windowed_rotation_dir_225_420_10_10.mp4\n"
     ]
    },
    {
     "name": "stderr",
     "output_type": "stream",
     "text": [
      "\n",
      "t:   0%|          | 0/61 [00:00<?, ?it/s, now=None]\u001b[A"
     ]
    },
    {
     "name": "stdout",
     "output_type": "stream",
     "text": [
      "Moviepy - Building video /Volumes/programs/braintv/workgroups/nc-ophys/Saskia/openscope_motion/clips/linear_windowed_rotation_dir_0_420_100_10.mp4.\n",
      "Moviepy - Writing video /Volumes/programs/braintv/workgroups/nc-ophys/Saskia/openscope_motion/clips/linear_windowed_rotation_dir_0_420_100_10.mp4\n",
      "\n"
     ]
    },
    {
     "name": "stderr",
     "output_type": "stream",
     "text": [
      "\n",
      "t:   5%|▍         | 3/61 [00:00<00:02, 22.89it/s, now=None]\u001b[A\n",
      "t:  21%|██▏       | 13/61 [00:00<00:01, 29.77it/s, now=None]\u001b[A\n",
      "t:  41%|████      | 25/61 [00:00<00:00, 38.28it/s, now=None]\u001b[A\n",
      "t:  59%|█████▉    | 36/61 [00:00<00:00, 47.56it/s, now=None]\u001b[A\n",
      "t:  75%|███████▌  | 46/61 [00:00<00:00, 56.21it/s, now=None]\u001b[A\n",
      "t:  90%|█████████ | 55/61 [00:00<00:00, 54.35it/s, now=None]\u001b[A\n",
      "                                                            \u001b[A"
     ]
    },
    {
     "name": "stdout",
     "output_type": "stream",
     "text": [
      "Moviepy - Done !\n",
      "Moviepy - video ready /Volumes/programs/braintv/workgroups/nc-ophys/Saskia/openscope_motion/clips/linear_windowed_rotation_dir_0_420_100_10.mp4\n"
     ]
    },
    {
     "name": "stderr",
     "output_type": "stream",
     "text": [
      "\n",
      "t:   0%|          | 0/61 [00:00<?, ?it/s, now=None]\u001b[A\n",
      "t:   5%|▍         | 3/61 [00:00<00:02, 27.06it/s, now=None]\u001b[A"
     ]
    },
    {
     "name": "stdout",
     "output_type": "stream",
     "text": [
      "Moviepy - Building video /Volumes/programs/braintv/workgroups/nc-ophys/Saskia/openscope_motion/clips/linear_windowed_rotation_dir_225_420_200_10.mp4.\n",
      "Moviepy - Writing video /Volumes/programs/braintv/workgroups/nc-ophys/Saskia/openscope_motion/clips/linear_windowed_rotation_dir_225_420_200_10.mp4\n",
      "\n"
     ]
    },
    {
     "name": "stderr",
     "output_type": "stream",
     "text": [
      "\n",
      "t:   8%|▊         | 5/61 [00:00<00:02, 23.85it/s, now=None]\u001b[A\n",
      "t:  15%|█▍        | 9/61 [00:00<00:01, 26.68it/s, now=None]\u001b[A\n",
      "t:  25%|██▍       | 15/61 [00:00<00:01, 31.85it/s, now=None]\u001b[A\n",
      "t:  34%|███▍      | 21/61 [00:00<00:01, 37.01it/s, now=None]\u001b[A\n",
      "t:  46%|████▌     | 28/61 [00:00<00:00, 42.66it/s, now=None]\u001b[A\n",
      "t:  57%|█████▋    | 35/61 [00:00<00:00, 47.83it/s, now=None]\u001b[A\n",
      "t:  67%|██████▋   | 41/61 [00:00<00:00, 50.92it/s, now=None]\u001b[A\n",
      "t:  77%|███████▋  | 47/61 [00:01<00:00, 45.48it/s, now=None]\u001b[A\n",
      "t:  85%|████████▌ | 52/61 [00:01<00:00, 28.60it/s, now=None]\u001b[A\n",
      "t:  97%|█████████▋| 59/61 [00:01<00:00, 34.54it/s, now=None]\u001b[A\n",
      "                                                            \u001b[A"
     ]
    },
    {
     "name": "stdout",
     "output_type": "stream",
     "text": [
      "Moviepy - Done !\n",
      "Moviepy - video ready /Volumes/programs/braintv/workgroups/nc-ophys/Saskia/openscope_motion/clips/linear_windowed_rotation_dir_225_420_200_10.mp4\n"
     ]
    },
    {
     "name": "stderr",
     "output_type": "stream",
     "text": [
      "\n",
      "t:   0%|          | 0/61 [00:00<?, ?it/s, now=None]\u001b[A"
     ]
    },
    {
     "name": "stdout",
     "output_type": "stream",
     "text": [
      "Moviepy - Building video /Volumes/programs/braintv/workgroups/nc-ophys/Saskia/openscope_motion/clips/linear_windowed_rotation_dir_135_420_400_10.mp4.\n",
      "Moviepy - Writing video /Volumes/programs/braintv/workgroups/nc-ophys/Saskia/openscope_motion/clips/linear_windowed_rotation_dir_135_420_400_10.mp4\n",
      "\n"
     ]
    },
    {
     "name": "stderr",
     "output_type": "stream",
     "text": [
      "\n",
      "t:   3%|▎         | 2/61 [00:00<00:06,  9.48it/s, now=None]\u001b[A\n",
      "t:   5%|▍         | 3/61 [00:00<00:06,  8.42it/s, now=None]\u001b[A\n",
      "t:  15%|█▍        | 9/61 [00:00<00:04, 11.33it/s, now=None]\u001b[A\n",
      "t:  30%|██▉       | 18/61 [00:00<00:02, 15.34it/s, now=None]\u001b[A\n",
      "t:  38%|███▊      | 23/61 [00:00<00:02, 17.41it/s, now=None]\u001b[A\n",
      "t:  46%|████▌     | 28/61 [00:00<00:01, 21.59it/s, now=None]\u001b[A\n",
      "t:  59%|█████▉    | 36/61 [00:00<00:00, 27.57it/s, now=None]\u001b[A\n",
      "t:  74%|███████▍  | 45/61 [00:01<00:00, 31.80it/s, now=None]\u001b[A\n",
      "t:  84%|████████▎ | 51/61 [00:01<00:00, 27.78it/s, now=None]\u001b[A\n",
      "t:  92%|█████████▏| 56/61 [00:01<00:00, 30.68it/s, now=None]\u001b[A\n",
      "t: 100%|██████████| 61/61 [00:01<00:00, 27.67it/s, now=None]\u001b[A\n",
      "                                                            \u001b[A"
     ]
    },
    {
     "name": "stdout",
     "output_type": "stream",
     "text": [
      "Moviepy - Done !\n",
      "Moviepy - video ready /Volumes/programs/braintv/workgroups/nc-ophys/Saskia/openscope_motion/clips/linear_windowed_rotation_dir_135_420_400_10.mp4\n"
     ]
    },
    {
     "name": "stderr",
     "output_type": "stream",
     "text": [
      "\n",
      "t:   0%|          | 0/61 [00:00<?, ?it/s, now=None]\u001b[A"
     ]
    },
    {
     "name": "stdout",
     "output_type": "stream",
     "text": [
      "Moviepy - Building video /Volumes/programs/braintv/workgroups/nc-ophys/Saskia/openscope_motion/clips/linear_windowed_rotation_dir_225_420_100_10.mp4.\n",
      "Moviepy - Writing video /Volumes/programs/braintv/workgroups/nc-ophys/Saskia/openscope_motion/clips/linear_windowed_rotation_dir_225_420_100_10.mp4\n",
      "\n"
     ]
    },
    {
     "name": "stderr",
     "output_type": "stream",
     "text": [
      "\n",
      "t:   3%|▎         | 2/61 [00:00<00:07,  8.11it/s, now=None]\u001b[A\n",
      "t:  11%|█▏        | 7/61 [00:00<00:04, 10.82it/s, now=None]\u001b[A\n",
      "t:  26%|██▌       | 16/61 [00:00<00:03, 14.62it/s, now=None]\u001b[A\n",
      "t:  34%|███▍      | 21/61 [00:00<00:03, 13.20it/s, now=None]\u001b[A\n",
      "t:  44%|████▍     | 27/61 [00:01<00:01, 17.11it/s, now=None]\u001b[A\n",
      "t:  52%|█████▏    | 32/61 [00:01<00:01, 18.74it/s, now=None]\u001b[A\n",
      "t:  59%|█████▉    | 36/61 [00:01<00:01, 21.05it/s, now=None]\u001b[A\n",
      "t:  66%|██████▌   | 40/61 [00:01<00:00, 22.82it/s, now=None]\u001b[A\n",
      "t:  75%|███████▌  | 46/61 [00:01<00:00, 25.32it/s, now=None]\u001b[A\n",
      "t:  82%|████████▏ | 50/61 [00:02<00:00, 17.04it/s, now=None]\u001b[A\n",
      "t:  97%|█████████▋| 59/61 [00:02<00:00, 22.43it/s, now=None]\u001b[A\n",
      "                                                            \u001b[A"
     ]
    },
    {
     "name": "stdout",
     "output_type": "stream",
     "text": [
      "Moviepy - Done !\n",
      "Moviepy - video ready /Volumes/programs/braintv/workgroups/nc-ophys/Saskia/openscope_motion/clips/linear_windowed_rotation_dir_225_420_100_10.mp4\n"
     ]
    },
    {
     "name": "stderr",
     "output_type": "stream",
     "text": [
      "\n",
      "t:   0%|          | 0/61 [00:00<?, ?it/s, now=None]\u001b[A\n",
      "t:   8%|▊         | 5/61 [00:00<00:01, 49.80it/s, now=None]\u001b[A"
     ]
    },
    {
     "name": "stdout",
     "output_type": "stream",
     "text": [
      "Moviepy - Building video /Volumes/programs/braintv/workgroups/nc-ophys/Saskia/openscope_motion/clips/linear_windowed_rotation_dir_90_420_100_10.mp4.\n",
      "Moviepy - Writing video /Volumes/programs/braintv/workgroups/nc-ophys/Saskia/openscope_motion/clips/linear_windowed_rotation_dir_90_420_100_10.mp4\n",
      "\n"
     ]
    },
    {
     "name": "stderr",
     "output_type": "stream",
     "text": [
      "\n",
      "t:  20%|█▉        | 12/61 [00:00<00:00, 54.32it/s, now=None]\u001b[A\n",
      "t:  33%|███▎      | 20/61 [00:00<00:00, 60.02it/s, now=None]\u001b[A\n",
      "t:  48%|████▊     | 29/61 [00:00<00:00, 66.05it/s, now=None]\u001b[A\n",
      "t:  59%|█████▉    | 36/61 [00:00<00:00, 65.94it/s, now=None]\u001b[A\n",
      "t:  70%|███████   | 43/61 [00:00<00:00, 59.53it/s, now=None]\u001b[A\n",
      "t:  80%|████████  | 49/61 [00:00<00:00, 52.60it/s, now=None]\u001b[A\n",
      "t:  90%|█████████ | 55/61 [00:00<00:00, 47.50it/s, now=None]\u001b[A\n",
      "                                                            \u001b[A"
     ]
    },
    {
     "name": "stdout",
     "output_type": "stream",
     "text": [
      "Moviepy - Done !\n",
      "Moviepy - video ready /Volumes/programs/braintv/workgroups/nc-ophys/Saskia/openscope_motion/clips/linear_windowed_rotation_dir_90_420_100_10.mp4\n"
     ]
    },
    {
     "name": "stderr",
     "output_type": "stream",
     "text": [
      "\n",
      "t:   0%|          | 0/61 [00:00<?, ?it/s, now=None]\u001b[A"
     ]
    },
    {
     "name": "stdout",
     "output_type": "stream",
     "text": [
      "Moviepy - Building video /Volumes/programs/braintv/workgroups/nc-ophys/Saskia/openscope_motion/clips/linear_windowed_rotation_dir_315_420_100_10.mp4.\n",
      "Moviepy - Writing video /Volumes/programs/braintv/workgroups/nc-ophys/Saskia/openscope_motion/clips/linear_windowed_rotation_dir_315_420_100_10.mp4\n",
      "\n"
     ]
    },
    {
     "name": "stderr",
     "output_type": "stream",
     "text": [
      "\n",
      "t:  11%|█▏        | 7/61 [00:00<00:00, 68.21it/s, now=None]\u001b[A\n",
      "t:  28%|██▊       | 17/61 [00:00<00:00, 73.96it/s, now=None]\u001b[A\n",
      "t:  38%|███▊      | 23/61 [00:00<00:00, 64.32it/s, now=None]\u001b[A\n",
      "t:  61%|██████    | 37/61 [00:00<00:00, 76.50it/s, now=None]\u001b[A\n",
      "t:  79%|███████▊  | 48/61 [00:00<00:00, 70.74it/s, now=None]\u001b[A\n",
      "t:  90%|█████████ | 55/61 [00:00<00:00, 64.57it/s, now=None]\u001b[A\n",
      "                                                            \u001b[A"
     ]
    },
    {
     "name": "stdout",
     "output_type": "stream",
     "text": [
      "Moviepy - Done !\n",
      "Moviepy - video ready /Volumes/programs/braintv/workgroups/nc-ophys/Saskia/openscope_motion/clips/linear_windowed_rotation_dir_315_420_100_10.mp4\n"
     ]
    },
    {
     "name": "stderr",
     "output_type": "stream",
     "text": [
      "\n",
      "t:   0%|          | 0/61 [00:00<?, ?it/s, now=None]\u001b[A\n",
      "t:  13%|█▎        | 8/61 [00:00<00:00, 76.35it/s, now=None]\u001b[A"
     ]
    },
    {
     "name": "stdout",
     "output_type": "stream",
     "text": [
      "Moviepy - Building video /Volumes/programs/braintv/workgroups/nc-ophys/Saskia/openscope_motion/clips/linear_windowed_rotation_dir_90_420_10_10.mp4.\n",
      "Moviepy - Writing video /Volumes/programs/braintv/workgroups/nc-ophys/Saskia/openscope_motion/clips/linear_windowed_rotation_dir_90_420_10_10.mp4\n",
      "\n"
     ]
    },
    {
     "name": "stderr",
     "output_type": "stream",
     "text": [
      "\n",
      "t:  25%|██▍       | 15/61 [00:00<00:00, 73.94it/s, now=None]\u001b[A\n",
      "t:  41%|████      | 25/61 [00:00<00:00, 79.53it/s, now=None]\u001b[A\n",
      "t:  66%|██████▌   | 40/61 [00:00<00:00, 91.57it/s, now=None]\u001b[A\n",
      "t:  80%|████████  | 49/61 [00:00<00:00, 78.70it/s, now=None]\u001b[A\n",
      "t:  95%|█████████▌| 58/61 [00:00<00:00, 78.57it/s, now=None]\u001b[A\n",
      "                                                            \u001b[A"
     ]
    },
    {
     "name": "stdout",
     "output_type": "stream",
     "text": [
      "Moviepy - Done !\n",
      "Moviepy - video ready /Volumes/programs/braintv/workgroups/nc-ophys/Saskia/openscope_motion/clips/linear_windowed_rotation_dir_90_420_10_10.mp4\n"
     ]
    },
    {
     "name": "stderr",
     "output_type": "stream",
     "text": [
      "\n",
      "t:   0%|          | 0/61 [00:00<?, ?it/s, now=None]\u001b[A\n",
      "t:   7%|▋         | 4/61 [00:00<00:01, 39.82it/s, now=None]\u001b[A"
     ]
    },
    {
     "name": "stdout",
     "output_type": "stream",
     "text": [
      "Moviepy - Building video /Volumes/programs/braintv/workgroups/nc-ophys/Saskia/openscope_motion/clips/linear_windowed_rotation_dir_180_420_100_10.mp4.\n",
      "Moviepy - Writing video /Volumes/programs/braintv/workgroups/nc-ophys/Saskia/openscope_motion/clips/linear_windowed_rotation_dir_180_420_100_10.mp4\n",
      "\n"
     ]
    },
    {
     "name": "stderr",
     "output_type": "stream",
     "text": [
      "\n",
      "t:  13%|█▎        | 8/61 [00:00<00:01, 38.98it/s, now=None]\u001b[A\n",
      "t:  26%|██▌       | 16/61 [00:00<00:00, 45.91it/s, now=None]\u001b[A\n",
      "t:  46%|████▌     | 28/61 [00:00<00:00, 55.76it/s, now=None]\u001b[A\n",
      "t:  62%|██████▏   | 38/61 [00:00<00:00, 64.01it/s, now=None]\u001b[A\n",
      "t:  75%|███████▌  | 46/61 [00:00<00:00, 53.63it/s, now=None]\u001b[A\n",
      "t:  87%|████████▋ | 53/61 [00:00<00:00, 50.84it/s, now=None]\u001b[A\n",
      "t:  98%|█████████▊| 60/61 [00:00<00:00, 54.45it/s, now=None]\u001b[A\n",
      "                                                            \u001b[A"
     ]
    },
    {
     "name": "stdout",
     "output_type": "stream",
     "text": [
      "Moviepy - Done !\n",
      "Moviepy - video ready /Volumes/programs/braintv/workgroups/nc-ophys/Saskia/openscope_motion/clips/linear_windowed_rotation_dir_180_420_100_10.mp4\n"
     ]
    },
    {
     "name": "stderr",
     "output_type": "stream",
     "text": [
      "\n",
      "t:   0%|          | 0/61 [00:00<?, ?it/s, now=None]\u001b[A\n",
      "t:  13%|█▎        | 8/61 [00:00<00:00, 77.12it/s, now=None]\u001b[A"
     ]
    },
    {
     "name": "stdout",
     "output_type": "stream",
     "text": [
      "Moviepy - Building video /Volumes/programs/braintv/workgroups/nc-ophys/Saskia/openscope_motion/clips/linear_windowed_rotation_dir_315_420_200_10.mp4.\n",
      "Moviepy - Writing video /Volumes/programs/braintv/workgroups/nc-ophys/Saskia/openscope_motion/clips/linear_windowed_rotation_dir_315_420_200_10.mp4\n",
      "\n"
     ]
    },
    {
     "name": "stderr",
     "output_type": "stream",
     "text": [
      "\n",
      "t:  28%|██▊       | 17/61 [00:00<00:00, 80.51it/s, now=None]\u001b[A\n",
      "t:  44%|████▍     | 27/61 [00:00<00:00, 85.33it/s, now=None]\u001b[A\n",
      "t:  59%|█████▉    | 36/61 [00:00<00:00, 85.68it/s, now=None]\u001b[A\n",
      "t:  74%|███████▍  | 45/61 [00:00<00:00, 69.84it/s, now=None]\u001b[A\n",
      "t:  85%|████████▌ | 52/61 [00:00<00:00, 53.73it/s, now=None]\u001b[A\n",
      "t:  97%|█████████▋| 59/61 [00:00<00:00, 57.33it/s, now=None]\u001b[A\n",
      "                                                            \u001b[A"
     ]
    },
    {
     "name": "stdout",
     "output_type": "stream",
     "text": [
      "Moviepy - Done !\n",
      "Moviepy - video ready /Volumes/programs/braintv/workgroups/nc-ophys/Saskia/openscope_motion/clips/linear_windowed_rotation_dir_315_420_200_10.mp4\n"
     ]
    },
    {
     "name": "stderr",
     "output_type": "stream",
     "text": [
      "\n",
      "t:   0%|          | 0/61 [00:00<?, ?it/s, now=None]\u001b[A\n",
      "t:   5%|▍         | 3/61 [00:00<00:02, 22.90it/s, now=None]\u001b[A"
     ]
    },
    {
     "name": "stdout",
     "output_type": "stream",
     "text": [
      "Moviepy - Building video /Volumes/programs/braintv/workgroups/nc-ophys/Saskia/openscope_motion/clips/linear_windowed_rotation_dir_180_420_400_10.mp4.\n",
      "Moviepy - Writing video /Volumes/programs/braintv/workgroups/nc-ophys/Saskia/openscope_motion/clips/linear_windowed_rotation_dir_180_420_400_10.mp4\n",
      "\n"
     ]
    },
    {
     "name": "stderr",
     "output_type": "stream",
     "text": [
      "\n",
      "t:  11%|█▏        | 7/61 [00:00<00:02, 24.84it/s, now=None]\u001b[A\n",
      "t:  26%|██▌       | 16/61 [00:00<00:01, 31.65it/s, now=None]\u001b[A\n",
      "t:  43%|████▎     | 26/61 [00:00<00:00, 39.80it/s, now=None]\u001b[A\n",
      "t:  59%|█████▉    | 36/61 [00:00<00:00, 47.68it/s, now=None]\u001b[A\n",
      "t:  70%|███████   | 43/61 [00:00<00:00, 47.22it/s, now=None]\u001b[A\n",
      "t:  80%|████████  | 49/61 [00:00<00:00, 43.60it/s, now=None]\u001b[A\n",
      "t:  90%|█████████ | 55/61 [00:01<00:00, 43.08it/s, now=None]\u001b[A\n",
      "                                                            \u001b[A"
     ]
    },
    {
     "name": "stdout",
     "output_type": "stream",
     "text": [
      "Moviepy - Done !\n",
      "Moviepy - video ready /Volumes/programs/braintv/workgroups/nc-ophys/Saskia/openscope_motion/clips/linear_windowed_rotation_dir_180_420_400_10.mp4\n"
     ]
    },
    {
     "name": "stderr",
     "output_type": "stream",
     "text": [
      "\n",
      "t:   0%|          | 0/61 [00:00<?, ?it/s, now=None]\u001b[A\n",
      "t:   7%|▋         | 4/61 [00:00<00:01, 38.68it/s, now=None]"
     ]
    },
    {
     "name": "stdout",
     "output_type": "stream",
     "text": [
      "Moviepy - Building video /Volumes/programs/braintv/workgroups/nc-ophys/Saskia/openscope_motion/clips/linear_windowed_rotation_dir_225_420_20_10.mp4.\n",
      "Moviepy - Writing video /Volumes/programs/braintv/workgroups/nc-ophys/Saskia/openscope_motion/clips/linear_windowed_rotation_dir_225_420_20_10.mp4\n",
      "\n"
     ]
    },
    {
     "name": "stderr",
     "output_type": "stream",
     "text": [
      "\u001b[A\n",
      "t:  16%|█▋        | 10/61 [00:00<00:01, 43.08it/s, now=None]\u001b[A\n",
      "t:  28%|██▊       | 17/61 [00:00<00:00, 48.55it/s, now=None]\u001b[A\n",
      "t:  41%|████      | 25/61 [00:00<00:00, 54.03it/s, now=None]\u001b[A\n",
      "t:  56%|█████▌    | 34/61 [00:00<00:00, 61.18it/s, now=None]\u001b[A\n",
      "t:  70%|███████   | 43/61 [00:00<00:00, 67.27it/s, now=None]\u001b[A\n",
      "t:  82%|████████▏ | 50/61 [00:00<00:00, 62.54it/s, now=None]\u001b[A\n",
      "t:  93%|█████████▎| 57/61 [00:00<00:00, 63.27it/s, now=None]\u001b[A\n",
      "                                                            \u001b[A"
     ]
    },
    {
     "name": "stdout",
     "output_type": "stream",
     "text": [
      "Moviepy - Done !\n",
      "Moviepy - video ready /Volumes/programs/braintv/workgroups/nc-ophys/Saskia/openscope_motion/clips/linear_windowed_rotation_dir_225_420_20_10.mp4\n"
     ]
    },
    {
     "name": "stderr",
     "output_type": "stream",
     "text": [
      "\n",
      "t:   0%|          | 0/61 [00:00<?, ?it/s, now=None]\u001b[A\n",
      "t:  11%|█▏        | 7/61 [00:00<00:00, 68.21it/s, now=None]\u001b[A"
     ]
    },
    {
     "name": "stdout",
     "output_type": "stream",
     "text": [
      "Moviepy - Building video /Volumes/programs/braintv/workgroups/nc-ophys/Saskia/openscope_motion/clips/linear_windowed_rotation_dir_315_420_10_10.mp4.\n",
      "Moviepy - Writing video /Volumes/programs/braintv/workgroups/nc-ophys/Saskia/openscope_motion/clips/linear_windowed_rotation_dir_315_420_10_10.mp4\n",
      "\n"
     ]
    },
    {
     "name": "stderr",
     "output_type": "stream",
     "text": [
      "\n",
      "t:  23%|██▎       | 14/61 [00:00<00:00, 67.57it/s, now=None]\u001b[A\n",
      "t:  33%|███▎      | 20/61 [00:00<00:00, 63.13it/s, now=None]\u001b[A\n",
      "t:  49%|████▉     | 30/61 [00:00<00:00, 69.70it/s, now=None]\u001b[A\n",
      "t:  59%|█████▉    | 36/61 [00:00<00:00, 65.19it/s, now=None]\u001b[A\n",
      "t:  69%|██████▉   | 42/61 [00:00<00:00, 53.07it/s, now=None]\u001b[A\n",
      "t:  79%|███████▊  | 48/61 [00:00<00:00, 50.63it/s, now=None]\u001b[A\n",
      "t:  89%|████████▊ | 54/61 [00:00<00:00, 52.29it/s, now=None]\u001b[A\n",
      "                                                            \u001b[A"
     ]
    },
    {
     "name": "stdout",
     "output_type": "stream",
     "text": [
      "Moviepy - Done !\n",
      "Moviepy - video ready /Volumes/programs/braintv/workgroups/nc-ophys/Saskia/openscope_motion/clips/linear_windowed_rotation_dir_315_420_10_10.mp4\n"
     ]
    },
    {
     "name": "stderr",
     "output_type": "stream",
     "text": [
      "\n",
      "t:   0%|          | 0/61 [00:00<?, ?it/s, now=None]\u001b[A\n"
     ]
    },
    {
     "name": "stdout",
     "output_type": "stream",
     "text": [
      "Moviepy - Building video /Volumes/programs/braintv/workgroups/nc-ophys/Saskia/openscope_motion/clips/linear_windowed_rotation_420_0_10.mp4.\n",
      "Moviepy - Writing video /Volumes/programs/braintv/workgroups/nc-ophys/Saskia/openscope_motion/clips/linear_windowed_rotation_420_0_10.mp4\n",
      "\n"
     ]
    },
    {
     "name": "stderr",
     "output_type": "stream",
     "text": [
      "t:  10%|▉         | 6/61 [00:00<00:00, 59.08it/s, now=None]\u001b[A\n",
      "t:  23%|██▎       | 14/61 [00:00<00:00, 62.66it/s, now=None]\u001b[A\n",
      "t:  44%|████▍     | 27/61 [00:00<00:00, 73.78it/s, now=None]\u001b[A\n",
      "t:  62%|██████▏   | 38/61 [00:00<00:00, 79.25it/s, now=None]\u001b[A\n",
      "t:  75%|███████▌  | 46/61 [00:00<00:00, 77.28it/s, now=None]\u001b[A\n",
      "t:  89%|████████▊ | 54/61 [00:00<00:00, 70.24it/s, now=None]\u001b[A\n",
      "                                                            \u001b[A"
     ]
    },
    {
     "name": "stdout",
     "output_type": "stream",
     "text": [
      "Moviepy - Done !\n",
      "Moviepy - video ready /Volumes/programs/braintv/workgroups/nc-ophys/Saskia/openscope_motion/clips/linear_windowed_rotation_420_0_10.mp4\n"
     ]
    },
    {
     "name": "stderr",
     "output_type": "stream",
     "text": [
      "\n",
      "t:   0%|          | 0/61 [00:00<?, ?it/s, now=None]\u001b[A\n",
      "t:  13%|█▎        | 8/61 [00:00<00:00, 77.34it/s, now=None]"
     ]
    },
    {
     "name": "stdout",
     "output_type": "stream",
     "text": [
      "Moviepy - Building video /Volumes/programs/braintv/workgroups/nc-ophys/Saskia/openscope_motion/clips/linear_windowed_rotation_dir_180_420_20_10.mp4.\n",
      "Moviepy - Writing video /Volumes/programs/braintv/workgroups/nc-ophys/Saskia/openscope_motion/clips/linear_windowed_rotation_dir_180_420_20_10.mp4\n",
      "\n"
     ]
    },
    {
     "name": "stderr",
     "output_type": "stream",
     "text": [
      "\u001b[A\n",
      "t:  18%|█▊        | 11/61 [00:00<00:00, 52.44it/s, now=None]\u001b[A\n",
      "t:  26%|██▌       | 16/61 [00:00<00:00, 50.95it/s, now=None]\u001b[A\n",
      "t:  41%|████      | 25/61 [00:00<00:00, 58.50it/s, now=None]\u001b[A\n",
      "t:  61%|██████    | 37/61 [00:00<00:00, 68.66it/s, now=None]\u001b[A\n",
      "t:  74%|███████▍  | 45/61 [00:00<00:00, 71.42it/s, now=None]\u001b[A\n",
      "t:  87%|████████▋ | 53/61 [00:00<00:00, 66.85it/s, now=None]\u001b[A\n",
      "                                                            \u001b[A"
     ]
    },
    {
     "name": "stdout",
     "output_type": "stream",
     "text": [
      "Moviepy - Done !\n",
      "Moviepy - video ready /Volumes/programs/braintv/workgroups/nc-ophys/Saskia/openscope_motion/clips/linear_windowed_rotation_dir_180_420_20_10.mp4\n"
     ]
    },
    {
     "name": "stderr",
     "output_type": "stream",
     "text": [
      "\n",
      "t:   0%|          | 0/61 [00:00<?, ?it/s, now=None]\u001b[A\n",
      "t:   5%|▍         | 3/61 [00:00<00:01, 29.00it/s, now=None]\u001b[A"
     ]
    },
    {
     "name": "stdout",
     "output_type": "stream",
     "text": [
      "Moviepy - Building video /Volumes/programs/braintv/workgroups/nc-ophys/Saskia/openscope_motion/clips/linear_windowed_rotation_dir_0_420_20_10.mp4.\n",
      "Moviepy - Writing video /Volumes/programs/braintv/workgroups/nc-ophys/Saskia/openscope_motion/clips/linear_windowed_rotation_dir_0_420_20_10.mp4\n",
      "\n"
     ]
    },
    {
     "name": "stderr",
     "output_type": "stream",
     "text": [
      "\n",
      "t:  20%|█▉        | 12/61 [00:00<00:01, 36.05it/s, now=None]\u001b[A\n",
      "t:  28%|██▊       | 17/61 [00:00<00:01, 38.91it/s, now=None]\u001b[A\n",
      "t:  48%|████▊     | 29/61 [00:00<00:00, 48.80it/s, now=None]\u001b[A\n",
      "t:  66%|██████▌   | 40/61 [00:00<00:00, 57.77it/s, now=None]\u001b[A\n",
      "t:  79%|███████▊  | 48/61 [00:00<00:00, 57.27it/s, now=None]\u001b[A\n",
      "t:  90%|█████████ | 55/61 [00:00<00:00, 56.87it/s, now=None]\u001b[A\n",
      "                                                            \u001b[A"
     ]
    },
    {
     "name": "stdout",
     "output_type": "stream",
     "text": [
      "Moviepy - Done !\n",
      "Moviepy - video ready /Volumes/programs/braintv/workgroups/nc-ophys/Saskia/openscope_motion/clips/linear_windowed_rotation_dir_0_420_20_10.mp4\n"
     ]
    },
    {
     "name": "stderr",
     "output_type": "stream",
     "text": [
      "\n",
      "t:   0%|          | 0/61 [00:00<?, ?it/s, now=None]\u001b[A"
     ]
    },
    {
     "name": "stdout",
     "output_type": "stream",
     "text": [
      "Moviepy - Building video /Volumes/programs/braintv/workgroups/nc-ophys/Saskia/openscope_motion/clips/linear_windowed_rotation_dir_270_420_200_10.mp4.\n",
      "Moviepy - Writing video /Volumes/programs/braintv/workgroups/nc-ophys/Saskia/openscope_motion/clips/linear_windowed_rotation_dir_270_420_200_10.mp4\n",
      "\n"
     ]
    },
    {
     "name": "stderr",
     "output_type": "stream",
     "text": [
      "\n",
      "t:   5%|▍         | 3/61 [00:00<00:02, 28.29it/s, now=None]\u001b[A\n",
      "t:  18%|█▊        | 11/61 [00:00<00:01, 34.38it/s, now=None]\u001b[A\n",
      "t:  30%|██▉       | 18/61 [00:00<00:01, 38.96it/s, now=None]\u001b[A\n",
      "t:  36%|███▌      | 22/61 [00:00<00:01, 37.52it/s, now=None]\u001b[A\n",
      "t:  48%|████▊     | 29/61 [00:00<00:00, 43.18it/s, now=None]\u001b[A\n",
      "t:  61%|██████    | 37/61 [00:00<00:00, 49.92it/s, now=None]\u001b[A\n",
      "t:  70%|███████   | 43/61 [00:00<00:00, 47.39it/s, now=None]\u001b[A\n",
      "t:  80%|████████  | 49/61 [00:01<00:00, 37.24it/s, now=None]\u001b[A\n",
      "t:  89%|████████▊ | 54/61 [00:01<00:00, 36.99it/s, now=None]\u001b[A\n",
      "t:  97%|█████████▋| 59/61 [00:01<00:00, 35.84it/s, now=None]\u001b[A\n",
      "                                                            \u001b[A"
     ]
    },
    {
     "name": "stdout",
     "output_type": "stream",
     "text": [
      "Moviepy - Done !\n",
      "Moviepy - video ready /Volumes/programs/braintv/workgroups/nc-ophys/Saskia/openscope_motion/clips/linear_windowed_rotation_dir_270_420_200_10.mp4\n"
     ]
    },
    {
     "name": "stderr",
     "output_type": "stream",
     "text": [
      "\n",
      "t:   0%|          | 0/61 [00:00<?, ?it/s, now=None]\u001b[A\n",
      "t:  10%|▉         | 6/61 [00:00<00:00, 57.74it/s, now=None]\u001b[A"
     ]
    },
    {
     "name": "stdout",
     "output_type": "stream",
     "text": [
      "Moviepy - Building video /Volumes/programs/braintv/workgroups/nc-ophys/Saskia/openscope_motion/clips/linear_windowed_rotation_dir_0_420_50_10.mp4.\n",
      "Moviepy - Writing video /Volumes/programs/braintv/workgroups/nc-ophys/Saskia/openscope_motion/clips/linear_windowed_rotation_dir_0_420_50_10.mp4\n",
      "\n"
     ]
    },
    {
     "name": "stderr",
     "output_type": "stream",
     "text": [
      "\n",
      "t:  25%|██▍       | 15/61 [00:00<00:00, 63.75it/s, now=None]\u001b[A\n",
      "t:  41%|████      | 25/61 [00:00<00:00, 70.99it/s, now=None]\u001b[A\n",
      "t:  64%|██████▍   | 39/61 [00:00<00:00, 82.82it/s, now=None]\u001b[A\n",
      "t:  79%|███████▊  | 48/61 [00:00<00:00, 73.47it/s, now=None]\u001b[A\n",
      "t:  92%|█████████▏| 56/61 [00:00<00:00, 71.86it/s, now=None]\u001b[A\n",
      "                                                            \u001b[A"
     ]
    },
    {
     "name": "stdout",
     "output_type": "stream",
     "text": [
      "Moviepy - Done !\n",
      "Moviepy - video ready /Volumes/programs/braintv/workgroups/nc-ophys/Saskia/openscope_motion/clips/linear_windowed_rotation_dir_0_420_50_10.mp4\n"
     ]
    },
    {
     "name": "stderr",
     "output_type": "stream",
     "text": [
      "\n",
      "t:   0%|          | 0/61 [00:00<?, ?it/s, now=None]\u001b[A"
     ]
    },
    {
     "name": "stdout",
     "output_type": "stream",
     "text": [
      "Moviepy - Building video /Volumes/programs/braintv/workgroups/nc-ophys/Saskia/openscope_motion/clips/linear_windowed_rotation_dir_45_420_50_10.mp4.\n",
      "Moviepy - Writing video /Volumes/programs/braintv/workgroups/nc-ophys/Saskia/openscope_motion/clips/linear_windowed_rotation_dir_45_420_50_10.mp4\n",
      "\n"
     ]
    },
    {
     "name": "stderr",
     "output_type": "stream",
     "text": [
      "\n",
      "t:   5%|▍         | 3/61 [00:00<00:06,  9.35it/s, now=None]\u001b[A\n",
      "t:  21%|██▏       | 13/61 [00:00<00:03, 12.84it/s, now=None]\u001b[A\n",
      "t:  28%|██▊       | 17/61 [00:00<00:03, 13.49it/s, now=None]\u001b[A\n",
      "t:  51%|█████     | 31/61 [00:00<00:01, 18.47it/s, now=None]\u001b[A\n",
      "t:  72%|███████▏  | 44/61 [00:00<00:00, 24.77it/s, now=None]\u001b[A\n",
      "t:  85%|████████▌ | 52/61 [00:01<00:00, 29.85it/s, now=None]\u001b[A\n",
      "                                                            \u001b[A"
     ]
    },
    {
     "name": "stdout",
     "output_type": "stream",
     "text": [
      "Moviepy - Done !\n",
      "Moviepy - video ready /Volumes/programs/braintv/workgroups/nc-ophys/Saskia/openscope_motion/clips/linear_windowed_rotation_dir_45_420_50_10.mp4\n"
     ]
    },
    {
     "name": "stderr",
     "output_type": "stream",
     "text": [
      "\n",
      "t:   0%|          | 0/61 [00:00<?, ?it/s, now=None]\u001b[A\n",
      "t:  13%|█▎        | 8/61 [00:00<00:00, 77.96it/s, now=None]\u001b[A"
     ]
    },
    {
     "name": "stdout",
     "output_type": "stream",
     "text": [
      "Moviepy - Building video /Volumes/programs/braintv/workgroups/nc-ophys/Saskia/openscope_motion/clips/linear_windowed_rotation_dir_315_420_20_10.mp4.\n",
      "Moviepy - Writing video /Volumes/programs/braintv/workgroups/nc-ophys/Saskia/openscope_motion/clips/linear_windowed_rotation_dir_315_420_20_10.mp4\n",
      "\n"
     ]
    },
    {
     "name": "stderr",
     "output_type": "stream",
     "text": [
      "\n",
      "t:  34%|███▍      | 21/61 [00:00<00:00, 88.31it/s, now=None]\u001b[A\n",
      "t:  56%|█████▌    | 34/61 [00:00<00:00, 96.74it/s, now=None]\u001b[A\n",
      "t:  79%|███████▊  | 48/61 [00:00<00:00, 96.42it/s, now=None]\u001b[A\n",
      "t:  93%|█████████▎| 57/61 [00:00<00:00, 93.62it/s, now=None]\u001b[A\n",
      "                                                            \u001b[A"
     ]
    },
    {
     "name": "stdout",
     "output_type": "stream",
     "text": [
      "Moviepy - Done !\n",
      "Moviepy - video ready /Volumes/programs/braintv/workgroups/nc-ophys/Saskia/openscope_motion/clips/linear_windowed_rotation_dir_315_420_20_10.mp4\n"
     ]
    },
    {
     "name": "stderr",
     "output_type": "stream",
     "text": [
      "\n",
      "t:   0%|          | 0/61 [00:00<?, ?it/s, now=None]\u001b[A"
     ]
    },
    {
     "name": "stdout",
     "output_type": "stream",
     "text": [
      "Moviepy - Building video /Volumes/programs/braintv/workgroups/nc-ophys/Saskia/openscope_motion/clips/linear_windowed_rotation_dir_90_420_50_10.mp4.\n",
      "Moviepy - Writing video /Volumes/programs/braintv/workgroups/nc-ophys/Saskia/openscope_motion/clips/linear_windowed_rotation_dir_90_420_50_10.mp4\n",
      "\n"
     ]
    },
    {
     "name": "stderr",
     "output_type": "stream",
     "text": [
      "\n",
      "t:   5%|▍         | 3/61 [00:00<00:07,  8.08it/s, now=None]\u001b[A\n",
      "t:  26%|██▌       | 16/61 [00:00<00:04, 11.23it/s, now=None]\u001b[A\n",
      "t:  49%|████▉     | 30/61 [00:00<00:02, 15.48it/s, now=None]\u001b[A\n",
      "t:  70%|███████   | 43/61 [00:00<00:00, 20.99it/s, now=None]\u001b[A\n",
      "t:  85%|████████▌ | 52/61 [00:01<00:00, 22.82it/s, now=None]\u001b[A\n",
      "t:  97%|█████████▋| 59/61 [00:01<00:00, 26.38it/s, now=None]\u001b[A\n",
      "                                                            \u001b[A"
     ]
    },
    {
     "name": "stdout",
     "output_type": "stream",
     "text": [
      "Moviepy - Done !\n",
      "Moviepy - video ready /Volumes/programs/braintv/workgroups/nc-ophys/Saskia/openscope_motion/clips/linear_windowed_rotation_dir_90_420_50_10.mp4\n"
     ]
    },
    {
     "name": "stderr",
     "output_type": "stream",
     "text": [
      "\n",
      "t:   0%|          | 0/61 [00:00<?, ?it/s, now=None]\u001b[A\n",
      "t:  13%|█▎        | 8/61 [00:00<00:00, 77.15it/s, now=None]\u001b[A"
     ]
    },
    {
     "name": "stdout",
     "output_type": "stream",
     "text": [
      "Moviepy - Building video /Volumes/programs/braintv/workgroups/nc-ophys/Saskia/openscope_motion/clips/linear_windowed_rotation_dir_90_420_400_10.mp4.\n",
      "Moviepy - Writing video /Volumes/programs/braintv/workgroups/nc-ophys/Saskia/openscope_motion/clips/linear_windowed_rotation_dir_90_420_400_10.mp4\n",
      "\n"
     ]
    },
    {
     "name": "stderr",
     "output_type": "stream",
     "text": [
      "\n",
      "t:  31%|███       | 19/61 [00:00<00:00, 83.19it/s, now=None]\u001b[A\n",
      "t:  51%|█████     | 31/61 [00:00<00:00, 90.97it/s, now=None]\u001b[A\n",
      "t:  64%|██████▍   | 39/61 [00:00<00:00, 85.72it/s, now=None]\u001b[A\n",
      "t:  79%|███████▊  | 48/61 [00:00<00:00, 82.13it/s, now=None]\u001b[A\n",
      "t:  93%|█████████▎| 57/61 [00:00<00:00, 83.85it/s, now=None]\u001b[A\n",
      "                                                            \u001b[A"
     ]
    },
    {
     "name": "stdout",
     "output_type": "stream",
     "text": [
      "Moviepy - Done !\n",
      "Moviepy - video ready /Volumes/programs/braintv/workgroups/nc-ophys/Saskia/openscope_motion/clips/linear_windowed_rotation_dir_90_420_400_10.mp4\n"
     ]
    },
    {
     "name": "stderr",
     "output_type": "stream",
     "text": [
      "\n",
      "t:   0%|          | 0/61 [00:00<?, ?it/s, now=None]\u001b[A\n",
      "t:  11%|█▏        | 7/61 [00:00<00:00, 69.56it/s, now=None]\u001b[A"
     ]
    },
    {
     "name": "stdout",
     "output_type": "stream",
     "text": [
      "Moviepy - Building video /Volumes/programs/braintv/workgroups/nc-ophys/Saskia/openscope_motion/clips/linear_windowed_rotation_dir_180_420_10_10.mp4.\n",
      "Moviepy - Writing video /Volumes/programs/braintv/workgroups/nc-ophys/Saskia/openscope_motion/clips/linear_windowed_rotation_dir_180_420_10_10.mp4\n",
      "\n"
     ]
    },
    {
     "name": "stderr",
     "output_type": "stream",
     "text": [
      "\n",
      "t:  36%|███▌      | 22/61 [00:00<00:00, 82.19it/s, now=None]\u001b[A\n",
      "t:  57%|█████▋    | 35/61 [00:00<00:00, 91.43it/s, now=None]\u001b[A\n",
      "t:  79%|███████▊  | 48/61 [00:00<00:00, 94.35it/s, now=None]\u001b[A\n",
      "t:  95%|█████████▌| 58/61 [00:00<00:00, 95.52it/s, now=None]\u001b[A\n",
      "                                                            \u001b[A"
     ]
    },
    {
     "name": "stdout",
     "output_type": "stream",
     "text": [
      "Moviepy - Done !\n",
      "Moviepy - video ready /Volumes/programs/braintv/workgroups/nc-ophys/Saskia/openscope_motion/clips/linear_windowed_rotation_dir_180_420_10_10.mp4\n"
     ]
    },
    {
     "name": "stderr",
     "output_type": "stream",
     "text": [
      "\n",
      "t:   0%|          | 0/61 [00:00<?, ?it/s, now=None]\u001b[A\n",
      "t:  15%|█▍        | 9/61 [00:00<00:00, 88.44it/s, now=None]\u001b[A"
     ]
    },
    {
     "name": "stdout",
     "output_type": "stream",
     "text": [
      "Moviepy - Building video /Volumes/programs/braintv/workgroups/nc-ophys/Saskia/openscope_motion/clips/linear_windowed_rotation_dir_315_420_50_10.mp4.\n",
      "Moviepy - Writing video /Volumes/programs/braintv/workgroups/nc-ophys/Saskia/openscope_motion/clips/linear_windowed_rotation_dir_315_420_50_10.mp4\n",
      "\n"
     ]
    },
    {
     "name": "stderr",
     "output_type": "stream",
     "text": [
      "\n",
      "t:  36%|███▌      | 22/61 [00:00<00:00, 97.30it/s, now=None]\u001b[A\n",
      "t:  56%|█████▌    | 34/61 [00:00<00:00, 102.86it/s, now=None]\u001b[A\n",
      "t:  77%|███████▋  | 47/61 [00:00<00:00, 108.64it/s, now=None]\u001b[A\n",
      "t:  93%|█████████▎| 57/61 [00:00<00:00, 90.10it/s, now=None] \u001b[A\n",
      "                                                            \u001b[A"
     ]
    },
    {
     "name": "stdout",
     "output_type": "stream",
     "text": [
      "Moviepy - Done !\n",
      "Moviepy - video ready /Volumes/programs/braintv/workgroups/nc-ophys/Saskia/openscope_motion/clips/linear_windowed_rotation_dir_315_420_50_10.mp4\n"
     ]
    }
   ],
   "source": [
    "pathname = r'/Volumes/programs/braintv/workgroups/nc-ophys/Saskia/openscope_motion/npyfiles_dec'\n",
    "for f in os.listdir(pathname):\n",
    "    if f.startswith('linear'):\n",
    "        rot_stim = np.load(os.path.join(pathname, f))\n",
    "        temp = np.repeat(rot_stim[:,:,:,np.newaxis], 3, axis=3)\n",
    "        clip = mpy.ImageSequenceClip([fr for fr in temp], fps=60)\n",
    "        filename = f.split('.')[0]+'.mp4'\n",
    "        clip.write_videofile(os.path.join(r'/Volumes/programs/braintv/workgroups/nc-ophys/Saskia/openscope_motion/clips',filename))"
   ]
  },
  {
   "cell_type": "code",
   "execution_count": 471,
   "metadata": {
    "scrolled": true
   },
   "outputs": [
    {
     "name": "stderr",
     "output_type": "stream",
     "text": [
      "\n",
      "t:   0%|          | 0/61 [00:00<?, ?it/s, now=None]\u001b[A\n",
      "t:   5%|▍         | 3/61 [00:00<00:01, 29.39it/s, now=None]\u001b[A"
     ]
    },
    {
     "name": "stdout",
     "output_type": "stream",
     "text": [
      "Moviepy - Building video /Volumes/programs/braintv/workgroups/nc-ophys/Saskia/openscope_motion/clips/backward_center_-50-10_radius_10_speed_024_dotNum_1429_speedAtCenter_49_radiusAtCenter_2_dotDensity_20_scaleFactor_40.mp4.\n",
      "Moviepy - Writing video /Volumes/programs/braintv/workgroups/nc-ophys/Saskia/openscope_motion/clips/backward_center_-50-10_radius_10_speed_024_dotNum_1429_speedAtCenter_49_radiusAtCenter_2_dotDensity_20_scaleFactor_40.mp4\n",
      "\n"
     ]
    },
    {
     "name": "stderr",
     "output_type": "stream",
     "text": [
      "\n",
      "t:  21%|██▏       | 13/61 [00:00<00:01, 37.19it/s, now=None]\u001b[A\n",
      "t:  39%|███▉      | 24/61 [00:00<00:00, 45.81it/s, now=None]\u001b[A\n",
      "t:  54%|█████▍    | 33/61 [00:00<00:00, 53.32it/s, now=None]\u001b[A\n",
      "t:  69%|██████▉   | 42/61 [00:00<00:00, 60.53it/s, now=None]\u001b[A\n",
      "t:  82%|████████▏ | 50/61 [00:00<00:00, 45.86it/s, now=None]\u001b[A\n",
      "t:  92%|█████████▏| 56/61 [00:00<00:00, 46.86it/s, now=None]\u001b[A\n",
      "                                                            \u001b[A"
     ]
    },
    {
     "name": "stdout",
     "output_type": "stream",
     "text": [
      "Moviepy - Done !\n",
      "Moviepy - video ready /Volumes/programs/braintv/workgroups/nc-ophys/Saskia/openscope_motion/clips/backward_center_-50-10_radius_10_speed_024_dotNum_1429_speedAtCenter_49_radiusAtCenter_2_dotDensity_20_scaleFactor_40.mp4\n"
     ]
    },
    {
     "name": "stderr",
     "output_type": "stream",
     "text": [
      "\n",
      "t:   0%|          | 0/61 [00:00<?, ?it/s, now=None]\u001b[A\n",
      "t:  10%|▉         | 6/61 [00:00<00:01, 50.61it/s, now=None]\u001b[A"
     ]
    },
    {
     "name": "stdout",
     "output_type": "stream",
     "text": [
      "Moviepy - Building video /Volumes/programs/braintv/workgroups/nc-ophys/Saskia/openscope_motion/clips/linear_windowed_backward_center_-50-10_radius_10_speed_205_dotNum_1429_speedAtCenter_398_radiusAtCenter_2_dotDensity_20_scaleFactor_40.mp4.\n",
      "Moviepy - Writing video /Volumes/programs/braintv/workgroups/nc-ophys/Saskia/openscope_motion/clips/linear_windowed_backward_center_-50-10_radius_10_speed_205_dotNum_1429_speedAtCenter_398_radiusAtCenter_2_dotDensity_20_scaleFactor_40.mp4\n",
      "\n"
     ]
    },
    {
     "name": "stderr",
     "output_type": "stream",
     "text": [
      "\n",
      "t:  30%|██▉       | 18/61 [00:00<00:00, 59.88it/s, now=None]\u001b[A\n",
      "t:  49%|████▉     | 30/61 [00:00<00:00, 70.28it/s, now=None]\u001b[A\n",
      "t:  61%|██████    | 37/61 [00:00<00:00, 53.55it/s, now=None]\u001b[A\n",
      "t:  70%|███████   | 43/61 [00:00<00:00, 41.22it/s, now=None]\u001b[A\n",
      "t:  79%|███████▊  | 48/61 [00:00<00:00, 39.53it/s, now=None]\u001b[A\n",
      "t:  95%|█████████▌| 58/61 [00:01<00:00, 48.01it/s, now=None]\u001b[A\n",
      "                                                            \u001b[A"
     ]
    },
    {
     "name": "stdout",
     "output_type": "stream",
     "text": [
      "Moviepy - Done !\n",
      "Moviepy - video ready /Volumes/programs/braintv/workgroups/nc-ophys/Saskia/openscope_motion/clips/linear_windowed_backward_center_-50-10_radius_10_speed_205_dotNum_1429_speedAtCenter_398_radiusAtCenter_2_dotDensity_20_scaleFactor_40.mp4\n"
     ]
    },
    {
     "name": "stderr",
     "output_type": "stream",
     "text": [
      "\n",
      "t:   0%|          | 0/61 [00:00<?, ?it/s, now=None]\u001b[A\n",
      "t:   8%|▊         | 5/61 [00:00<00:01, 40.10it/s, now=None]\u001b[A"
     ]
    },
    {
     "name": "stdout",
     "output_type": "stream",
     "text": [
      "Moviepy - Building video /Volumes/programs/braintv/workgroups/nc-ophys/Saskia/openscope_motion/clips/linear_windowed_forward_center_-50-10_radius_10_speed_005_dotNum_1429_speedAtCenter_10_radiusAtCenter_2_dotDensity_20_scaleFactor_40.mp4.\n",
      "Moviepy - Writing video /Volumes/programs/braintv/workgroups/nc-ophys/Saskia/openscope_motion/clips/linear_windowed_forward_center_-50-10_radius_10_speed_005_dotNum_1429_speedAtCenter_10_radiusAtCenter_2_dotDensity_20_scaleFactor_40.mp4\n",
      "\n"
     ]
    },
    {
     "name": "stderr",
     "output_type": "stream",
     "text": [
      "\n",
      "t:  28%|██▊       | 17/61 [00:00<00:00, 49.70it/s, now=None]\u001b[A\n",
      "t:  48%|████▊     | 29/61 [00:00<00:00, 60.20it/s, now=None]\u001b[A\n",
      "t:  64%|██████▍   | 39/61 [00:00<00:00, 67.76it/s, now=None]\u001b[A\n",
      "t:  77%|███████▋  | 47/61 [00:00<00:00, 62.10it/s, now=None]\u001b[A\n",
      "t:  89%|████████▊ | 54/61 [00:00<00:00, 60.26it/s, now=None]\u001b[A\n",
      "                                                            \u001b[A"
     ]
    },
    {
     "name": "stdout",
     "output_type": "stream",
     "text": [
      "Moviepy - Done !\n",
      "Moviepy - video ready /Volumes/programs/braintv/workgroups/nc-ophys/Saskia/openscope_motion/clips/linear_windowed_forward_center_-50-10_radius_10_speed_005_dotNum_1429_speedAtCenter_10_radiusAtCenter_2_dotDensity_20_scaleFactor_40.mp4\n"
     ]
    },
    {
     "name": "stderr",
     "output_type": "stream",
     "text": [
      "\n",
      "t:   0%|          | 0/61 [00:00<?, ?it/s, now=None]\u001b[A\n",
      "t:   8%|▊         | 5/61 [00:00<00:01, 46.25it/s, now=None]\u001b[A"
     ]
    },
    {
     "name": "stdout",
     "output_type": "stream",
     "text": [
      "Moviepy - Building video /Volumes/programs/braintv/workgroups/nc-ophys/Saskia/openscope_motion/clips/linear_windowed_backward_center_-50-10_radius_10_speed_048_dotNum_1429_speedAtCenter_99_radiusAtCenter_2_dotDensity_20_scaleFactor_40.mp4.\n",
      "Moviepy - Writing video /Volumes/programs/braintv/workgroups/nc-ophys/Saskia/openscope_motion/clips/linear_windowed_backward_center_-50-10_radius_10_speed_048_dotNum_1429_speedAtCenter_99_radiusAtCenter_2_dotDensity_20_scaleFactor_40.mp4\n",
      "\n"
     ]
    },
    {
     "name": "stderr",
     "output_type": "stream",
     "text": [
      "\n",
      "t:  26%|██▌       | 16/61 [00:00<00:00, 55.57it/s, now=None]\u001b[A\n",
      "t:  34%|███▍      | 21/61 [00:00<00:00, 53.06it/s, now=None]\u001b[A\n",
      "t:  54%|█████▍    | 33/61 [00:00<00:00, 63.01it/s, now=None]\u001b[A\n",
      "t:  72%|███████▏  | 44/61 [00:00<00:00, 71.30it/s, now=None]\u001b[A\n",
      "t:  85%|████████▌ | 52/61 [00:00<00:00, 65.46it/s, now=None]\u001b[A\n",
      "t:  98%|█████████▊| 60/61 [00:00<00:00, 67.88it/s, now=None]\u001b[A\n",
      "                                                            \u001b[A"
     ]
    },
    {
     "name": "stdout",
     "output_type": "stream",
     "text": [
      "Moviepy - Done !\n",
      "Moviepy - video ready /Volumes/programs/braintv/workgroups/nc-ophys/Saskia/openscope_motion/clips/linear_windowed_backward_center_-50-10_radius_10_speed_048_dotNum_1429_speedAtCenter_99_radiusAtCenter_2_dotDensity_20_scaleFactor_40.mp4\n"
     ]
    },
    {
     "name": "stderr",
     "output_type": "stream",
     "text": [
      "\n",
      "t:   0%|          | 0/61 [00:00<?, ?it/s, now=None]\u001b[A\n",
      "t:   8%|▊         | 5/61 [00:00<00:01, 42.56it/s, now=None]\u001b[A"
     ]
    },
    {
     "name": "stdout",
     "output_type": "stream",
     "text": [
      "Moviepy - Building video /Volumes/programs/braintv/workgroups/nc-ophys/Saskia/openscope_motion/clips/backward_center_-50-10_radius_10_speed_1_dotNum_1429_speedAtCenter_199_radiusAtCenter_2_dotDensity_20_scaleFactor_40.mp4.\n",
      "Moviepy - Writing video /Volumes/programs/braintv/workgroups/nc-ophys/Saskia/openscope_motion/clips/backward_center_-50-10_radius_10_speed_1_dotNum_1429_speedAtCenter_199_radiusAtCenter_2_dotDensity_20_scaleFactor_40.mp4\n",
      "\n"
     ]
    },
    {
     "name": "stderr",
     "output_type": "stream",
     "text": [
      "\n",
      "t:  20%|█▉        | 12/61 [00:00<00:01, 46.77it/s, now=None]\u001b[A\n",
      "t:  26%|██▌       | 16/61 [00:00<00:01, 44.27it/s, now=None]\u001b[A\n",
      "t:  33%|███▎      | 20/61 [00:00<00:01, 39.90it/s, now=None]\u001b[A\n",
      "t:  49%|████▉     | 30/61 [00:00<00:00, 48.48it/s, now=None]\u001b[A\n",
      "t:  67%|██████▋   | 41/61 [00:00<00:00, 58.04it/s, now=None]\u001b[A\n",
      "t:  79%|███████▊  | 48/61 [00:01<00:00, 35.29it/s, now=None]\u001b[A\n",
      "t:  89%|████████▊ | 54/61 [00:01<00:00, 36.17it/s, now=None]\u001b[A\n",
      "t:  97%|█████████▋| 59/61 [00:01<00:00, 34.54it/s, now=None]\u001b[A\n",
      "                                                            \u001b[A"
     ]
    },
    {
     "name": "stdout",
     "output_type": "stream",
     "text": [
      "Moviepy - Done !\n",
      "Moviepy - video ready /Volumes/programs/braintv/workgroups/nc-ophys/Saskia/openscope_motion/clips/backward_center_-50-10_radius_10_speed_1_dotNum_1429_speedAtCenter_199_radiusAtCenter_2_dotDensity_20_scaleFactor_40.mp4\n"
     ]
    },
    {
     "name": "stderr",
     "output_type": "stream",
     "text": [
      "\n",
      "t:   0%|          | 0/61 [00:00<?, ?it/s, now=None]\u001b[A\n",
      "t:   7%|▋         | 4/61 [00:00<00:01, 39.66it/s, now=None]\u001b[A"
     ]
    },
    {
     "name": "stdout",
     "output_type": "stream",
     "text": [
      "Moviepy - Building video /Volumes/programs/braintv/workgroups/nc-ophys/Saskia/openscope_motion/clips/linear_windowed_forward_center_-50-10_radius_10_speed_024_dotNum_1429_speedAtCenter_49_radiusAtCenter_2_dotDensity_20_scaleFactor_40.mp4.\n",
      "Moviepy - Writing video /Volumes/programs/braintv/workgroups/nc-ophys/Saskia/openscope_motion/clips/linear_windowed_forward_center_-50-10_radius_10_speed_024_dotNum_1429_speedAtCenter_49_radiusAtCenter_2_dotDensity_20_scaleFactor_40.mp4\n",
      "\n"
     ]
    },
    {
     "name": "stderr",
     "output_type": "stream",
     "text": [
      "\n",
      "t:  28%|██▊       | 17/61 [00:00<00:00, 49.92it/s, now=None]\u001b[A\n",
      "t:  43%|████▎     | 26/61 [00:00<00:00, 57.12it/s, now=None]\u001b[A\n",
      "t:  66%|██████▌   | 40/61 [00:00<00:00, 68.90it/s, now=None]\u001b[A\n",
      "t:  80%|████████  | 49/61 [00:00<00:00, 68.45it/s, now=None]\u001b[A\n",
      "t:  95%|█████████▌| 58/61 [00:00<00:00, 72.82it/s, now=None]\u001b[A\n",
      "                                                            \u001b[A"
     ]
    },
    {
     "name": "stdout",
     "output_type": "stream",
     "text": [
      "Moviepy - Done !\n",
      "Moviepy - video ready /Volumes/programs/braintv/workgroups/nc-ophys/Saskia/openscope_motion/clips/linear_windowed_forward_center_-50-10_radius_10_speed_024_dotNum_1429_speedAtCenter_49_radiusAtCenter_2_dotDensity_20_scaleFactor_40.mp4\n"
     ]
    },
    {
     "name": "stderr",
     "output_type": "stream",
     "text": [
      "\n",
      "t:   0%|          | 0/61 [00:00<?, ?it/s, now=None]\u001b[A\n",
      "t:  11%|█▏        | 7/61 [00:00<00:00, 69.41it/s, now=None]\u001b[A"
     ]
    },
    {
     "name": "stdout",
     "output_type": "stream",
     "text": [
      "Moviepy - Building video /Volumes/programs/braintv/workgroups/nc-ophys/Saskia/openscope_motion/clips/forward_center_-50-10_radius_10_speed_0096_dotNum_1429_speedAtCenter_19_radiusAtCenter_2_dotDensity_20_scaleFactor_40.mp4.\n",
      "Moviepy - Writing video /Volumes/programs/braintv/workgroups/nc-ophys/Saskia/openscope_motion/clips/forward_center_-50-10_radius_10_speed_0096_dotNum_1429_speedAtCenter_19_radiusAtCenter_2_dotDensity_20_scaleFactor_40.mp4\n",
      "\n"
     ]
    },
    {
     "name": "stderr",
     "output_type": "stream",
     "text": [
      "\n",
      "t:  34%|███▍      | 21/61 [00:00<00:00, 80.70it/s, now=None]\u001b[A\n",
      "t:  51%|█████     | 31/61 [00:00<00:00, 85.62it/s, now=None]\u001b[A\n",
      "t:  70%|███████   | 43/61 [00:00<00:00, 93.05it/s, now=None]\u001b[A\n",
      "t:  85%|████████▌ | 52/61 [00:00<00:00, 61.23it/s, now=None]\u001b[A\n",
      "t:  97%|█████████▋| 59/61 [00:00<00:00, 59.32it/s, now=None]\u001b[A\n",
      "                                                            \u001b[A"
     ]
    },
    {
     "name": "stdout",
     "output_type": "stream",
     "text": [
      "Moviepy - Done !\n",
      "Moviepy - video ready /Volumes/programs/braintv/workgroups/nc-ophys/Saskia/openscope_motion/clips/forward_center_-50-10_radius_10_speed_0096_dotNum_1429_speedAtCenter_19_radiusAtCenter_2_dotDensity_20_scaleFactor_40.mp4\n"
     ]
    },
    {
     "name": "stderr",
     "output_type": "stream",
     "text": [
      "\n",
      "t:   0%|          | 0/61 [00:00<?, ?it/s, now=None]\u001b[A\n",
      "t:  16%|█▋        | 10/61 [00:00<00:00, 99.95it/s, now=None]\u001b[A"
     ]
    },
    {
     "name": "stdout",
     "output_type": "stream",
     "text": [
      "Moviepy - Building video /Volumes/programs/braintv/workgroups/nc-ophys/Saskia/openscope_motion/clips/linear_windowed_backward_center_-50-10_radius_10_speed_024_dotNum_1429_speedAtCenter_49_radiusAtCenter_2_dotDensity_20_scaleFactor_40.mp4.\n",
      "Moviepy - Writing video /Volumes/programs/braintv/workgroups/nc-ophys/Saskia/openscope_motion/clips/linear_windowed_backward_center_-50-10_radius_10_speed_024_dotNum_1429_speedAtCenter_49_radiusAtCenter_2_dotDensity_20_scaleFactor_40.mp4\n",
      "\n"
     ]
    },
    {
     "name": "stderr",
     "output_type": "stream",
     "text": [
      "\n",
      "t:  36%|███▌      | 22/61 [00:00<00:00, 104.30it/s, now=None]\u001b[A\n",
      "t:  56%|█████▌    | 34/61 [00:00<00:00, 106.47it/s, now=None]\u001b[A\n",
      "t:  77%|███████▋  | 47/61 [00:00<00:00, 111.06it/s, now=None]\u001b[A\n",
      "t:  92%|█████████▏| 56/61 [00:00<00:00, 94.25it/s, now=None] \u001b[A\n",
      "                                                            \u001b[A"
     ]
    },
    {
     "name": "stdout",
     "output_type": "stream",
     "text": [
      "Moviepy - Done !\n",
      "Moviepy - video ready /Volumes/programs/braintv/workgroups/nc-ophys/Saskia/openscope_motion/clips/linear_windowed_backward_center_-50-10_radius_10_speed_024_dotNum_1429_speedAtCenter_49_radiusAtCenter_2_dotDensity_20_scaleFactor_40.mp4\n"
     ]
    },
    {
     "name": "stderr",
     "output_type": "stream",
     "text": [
      "\n",
      "t:   0%|          | 0/61 [00:00<?, ?it/s, now=None]\u001b[A\n",
      "t:  11%|█▏        | 7/61 [00:00<00:00, 66.78it/s, now=None]\u001b[A"
     ]
    },
    {
     "name": "stdout",
     "output_type": "stream",
     "text": [
      "Moviepy - Building video /Volumes/programs/braintv/workgroups/nc-ophys/Saskia/openscope_motion/clips/backward_center_-50-10_radius_10_speed_0096_dotNum_1429_speedAtCenter_19_radiusAtCenter_2_dotDensity_20_scaleFactor_40.mp4.\n",
      "Moviepy - Writing video /Volumes/programs/braintv/workgroups/nc-ophys/Saskia/openscope_motion/clips/backward_center_-50-10_radius_10_speed_0096_dotNum_1429_speedAtCenter_19_radiusAtCenter_2_dotDensity_20_scaleFactor_40.mp4\n",
      "\n"
     ]
    },
    {
     "name": "stderr",
     "output_type": "stream",
     "text": [
      "\n",
      "t:  31%|███       | 19/61 [00:00<00:00, 76.41it/s, now=None]\u001b[A\n",
      "t:  52%|█████▏    | 32/61 [00:00<00:00, 86.50it/s, now=None]\u001b[A\n",
      "t:  72%|███████▏  | 44/61 [00:00<00:00, 94.16it/s, now=None]\u001b[A\n",
      "t:  87%|████████▋ | 53/61 [00:00<00:00, 62.44it/s, now=None]\u001b[A\n",
      "t: 100%|██████████| 61/61 [00:00<00:00, 59.62it/s, now=None]\u001b[A\n",
      "                                                            \u001b[A"
     ]
    },
    {
     "name": "stdout",
     "output_type": "stream",
     "text": [
      "Moviepy - Done !\n",
      "Moviepy - video ready /Volumes/programs/braintv/workgroups/nc-ophys/Saskia/openscope_motion/clips/backward_center_-50-10_radius_10_speed_0096_dotNum_1429_speedAtCenter_19_radiusAtCenter_2_dotDensity_20_scaleFactor_40.mp4\n"
     ]
    },
    {
     "name": "stderr",
     "output_type": "stream",
     "text": [
      "\n",
      "t:   0%|          | 0/61 [00:00<?, ?it/s, now=None]\u001b[A\n",
      "t:  15%|█▍        | 9/61 [00:00<00:00, 86.43it/s, now=None]\u001b[A"
     ]
    },
    {
     "name": "stdout",
     "output_type": "stream",
     "text": [
      "Moviepy - Building video /Volumes/programs/braintv/workgroups/nc-ophys/Saskia/openscope_motion/clips/backward_center_-50-10_radius_10_speed_048_dotNum_1429_speedAtCenter_99_radiusAtCenter_2_dotDensity_20_scaleFactor_40.mp4.\n",
      "Moviepy - Writing video /Volumes/programs/braintv/workgroups/nc-ophys/Saskia/openscope_motion/clips/backward_center_-50-10_radius_10_speed_048_dotNum_1429_speedAtCenter_99_radiusAtCenter_2_dotDensity_20_scaleFactor_40.mp4\n",
      "\n"
     ]
    },
    {
     "name": "stderr",
     "output_type": "stream",
     "text": [
      "\n",
      "t:  31%|███       | 19/61 [00:00<00:00, 89.10it/s, now=None]\u001b[A\n",
      "t:  48%|████▊     | 29/61 [00:00<00:00, 91.08it/s, now=None]\u001b[A\n",
      "t:  67%|██████▋   | 41/61 [00:00<00:00, 96.91it/s, now=None]\u001b[A\n",
      "t:  80%|████████  | 49/61 [00:00<00:00, 58.79it/s, now=None]\u001b[A\n",
      "t:  92%|█████████▏| 56/61 [00:00<00:00, 51.64it/s, now=None]\u001b[A\n",
      "                                                            \u001b[A"
     ]
    },
    {
     "name": "stdout",
     "output_type": "stream",
     "text": [
      "Moviepy - Done !\n",
      "Moviepy - video ready /Volumes/programs/braintv/workgroups/nc-ophys/Saskia/openscope_motion/clips/backward_center_-50-10_radius_10_speed_048_dotNum_1429_speedAtCenter_99_radiusAtCenter_2_dotDensity_20_scaleFactor_40.mp4\n"
     ]
    },
    {
     "name": "stderr",
     "output_type": "stream",
     "text": [
      "\n",
      "t:   0%|          | 0/61 [00:00<?, ?it/s, now=None]\u001b[A\n",
      "t:  15%|█▍        | 9/61 [00:00<00:00, 86.96it/s, now=None]\u001b[A"
     ]
    },
    {
     "name": "stdout",
     "output_type": "stream",
     "text": [
      "Moviepy - Building video /Volumes/programs/braintv/workgroups/nc-ophys/Saskia/openscope_motion/clips/linear_windowed_forward_center_-50-10_radius_10_speed_048_dotNum_1429_speedAtCenter_99_radiusAtCenter_2_dotDensity_20_scaleFactor_40.mp4.\n",
      "Moviepy - Writing video /Volumes/programs/braintv/workgroups/nc-ophys/Saskia/openscope_motion/clips/linear_windowed_forward_center_-50-10_radius_10_speed_048_dotNum_1429_speedAtCenter_99_radiusAtCenter_2_dotDensity_20_scaleFactor_40.mp4\n",
      "\n"
     ]
    },
    {
     "name": "stderr",
     "output_type": "stream",
     "text": [
      "\n",
      "t:  34%|███▍      | 21/61 [00:00<00:00, 93.92it/s, now=None]\u001b[A\n",
      "t:  52%|█████▏    | 32/61 [00:00<00:00, 98.22it/s, now=None]\u001b[A\n",
      "t:  79%|███████▊  | 48/61 [00:00<00:00, 101.41it/s, now=None]\u001b[A\n",
      "t:  93%|█████████▎| 57/61 [00:00<00:00, 92.14it/s, now=None] \u001b[A\n",
      "                                                            \u001b[A"
     ]
    },
    {
     "name": "stdout",
     "output_type": "stream",
     "text": [
      "Moviepy - Done !\n",
      "Moviepy - video ready /Volumes/programs/braintv/workgroups/nc-ophys/Saskia/openscope_motion/clips/linear_windowed_forward_center_-50-10_radius_10_speed_048_dotNum_1429_speedAtCenter_99_radiusAtCenter_2_dotDensity_20_scaleFactor_40.mp4\n"
     ]
    },
    {
     "name": "stderr",
     "output_type": "stream",
     "text": [
      "\n",
      "t:   0%|          | 0/61 [00:00<?, ?it/s, now=None]\u001b[A\n",
      "t:  13%|█▎        | 8/61 [00:00<00:00, 79.68it/s, now=None]\u001b[A"
     ]
    },
    {
     "name": "stdout",
     "output_type": "stream",
     "text": [
      "Moviepy - Building video /Volumes/programs/braintv/workgroups/nc-ophys/Saskia/openscope_motion/clips/linear_windowed_forward_center_-50-10_radius_10_speed_1_dotNum_1429_speedAtCenter_199_radiusAtCenter_2_dotDensity_20_scaleFactor_40.mp4.\n",
      "Moviepy - Writing video /Volumes/programs/braintv/workgroups/nc-ophys/Saskia/openscope_motion/clips/linear_windowed_forward_center_-50-10_radius_10_speed_1_dotNum_1429_speedAtCenter_199_radiusAtCenter_2_dotDensity_20_scaleFactor_40.mp4\n",
      "\n"
     ]
    },
    {
     "name": "stderr",
     "output_type": "stream",
     "text": [
      "\n",
      "t:  33%|███▎      | 20/61 [00:00<00:00, 88.34it/s, now=None]\u001b[A\n",
      "t:  54%|█████▍    | 33/61 [00:00<00:00, 97.64it/s, now=None]\u001b[A\n",
      "t:  74%|███████▍  | 45/61 [00:00<00:00, 102.16it/s, now=None]\u001b[A\n",
      "t:  89%|████████▊ | 54/61 [00:00<00:00, 85.20it/s, now=None] \u001b[A\n",
      "                                                            \u001b[A"
     ]
    },
    {
     "name": "stdout",
     "output_type": "stream",
     "text": [
      "Moviepy - Done !\n",
      "Moviepy - video ready /Volumes/programs/braintv/workgroups/nc-ophys/Saskia/openscope_motion/clips/linear_windowed_forward_center_-50-10_radius_10_speed_1_dotNum_1429_speedAtCenter_199_radiusAtCenter_2_dotDensity_20_scaleFactor_40.mp4\n"
     ]
    },
    {
     "name": "stderr",
     "output_type": "stream",
     "text": [
      "\n",
      "t:   0%|          | 0/61 [00:00<?, ?it/s, now=None]\u001b[A\n",
      "t:  10%|▉         | 6/61 [00:00<00:00, 59.39it/s, now=None]\u001b[A"
     ]
    },
    {
     "name": "stdout",
     "output_type": "stream",
     "text": [
      "Moviepy - Building video /Volumes/programs/braintv/workgroups/nc-ophys/Saskia/openscope_motion/clips/linear_windowed_backward_center_-50-10_radius_10_speed_005_dotNum_1429_speedAtCenter_10_radiusAtCenter_2_dotDensity_20_scaleFactor_40.mp4.\n",
      "Moviepy - Writing video /Volumes/programs/braintv/workgroups/nc-ophys/Saskia/openscope_motion/clips/linear_windowed_backward_center_-50-10_radius_10_speed_005_dotNum_1429_speedAtCenter_10_radiusAtCenter_2_dotDensity_20_scaleFactor_40.mp4\n",
      "\n"
     ]
    },
    {
     "name": "stderr",
     "output_type": "stream",
     "text": [
      "\n",
      "t:  34%|███▍      | 21/61 [00:00<00:00, 72.01it/s, now=None]\u001b[A\n",
      "t:  51%|█████     | 31/61 [00:00<00:00, 78.44it/s, now=None]\u001b[A\n",
      "t:  64%|██████▍   | 39/61 [00:00<00:00, 77.67it/s, now=None]\u001b[A\n",
      "t:  79%|███████▊  | 48/61 [00:00<00:00, 76.16it/s, now=None]\u001b[A\n",
      "t:  92%|█████████▏| 56/61 [00:00<00:00, 75.20it/s, now=None]\u001b[A\n",
      "                                                            \u001b[A"
     ]
    },
    {
     "name": "stdout",
     "output_type": "stream",
     "text": [
      "Moviepy - Done !\n",
      "Moviepy - video ready /Volumes/programs/braintv/workgroups/nc-ophys/Saskia/openscope_motion/clips/linear_windowed_backward_center_-50-10_radius_10_speed_005_dotNum_1429_speedAtCenter_10_radiusAtCenter_2_dotDensity_20_scaleFactor_40.mp4\n"
     ]
    },
    {
     "name": "stderr",
     "output_type": "stream",
     "text": [
      "\n",
      "t:   0%|          | 0/61 [00:00<?, ?it/s, now=None]\u001b[A\n",
      "t:  16%|█▋        | 10/61 [00:00<00:00, 94.79it/s, now=None]\u001b[A"
     ]
    },
    {
     "name": "stdout",
     "output_type": "stream",
     "text": [
      "Moviepy - Building video /Volumes/programs/braintv/workgroups/nc-ophys/Saskia/openscope_motion/clips/linear_windowed_forward_center_-50-10_radius_10_speed_205_dotNum_1429_speedAtCenter_398_radiusAtCenter_2_dotDensity_20_scaleFactor_40.mp4.\n",
      "Moviepy - Writing video /Volumes/programs/braintv/workgroups/nc-ophys/Saskia/openscope_motion/clips/linear_windowed_forward_center_-50-10_radius_10_speed_205_dotNum_1429_speedAtCenter_398_radiusAtCenter_2_dotDensity_20_scaleFactor_40.mp4\n",
      "\n"
     ]
    },
    {
     "name": "stderr",
     "output_type": "stream",
     "text": [
      "\n",
      "t:  26%|██▌       | 16/61 [00:00<00:00, 79.24it/s, now=None]\u001b[A\n",
      "t:  41%|████      | 25/61 [00:00<00:00, 81.85it/s, now=None]\u001b[A\n",
      "t:  57%|█████▋    | 35/61 [00:00<00:00, 85.31it/s, now=None]\u001b[A\n",
      "t:  74%|███████▍  | 45/61 [00:00<00:00, 88.36it/s, now=None]\u001b[A\n",
      "t:  87%|████████▋ | 53/61 [00:00<00:00, 73.60it/s, now=None]\u001b[A\n",
      "t:  98%|█████████▊| 60/61 [00:00<00:00, 71.09it/s, now=None]\u001b[A\n",
      "                                                            \u001b[A"
     ]
    },
    {
     "name": "stdout",
     "output_type": "stream",
     "text": [
      "Moviepy - Done !\n",
      "Moviepy - video ready /Volumes/programs/braintv/workgroups/nc-ophys/Saskia/openscope_motion/clips/linear_windowed_forward_center_-50-10_radius_10_speed_205_dotNum_1429_speedAtCenter_398_radiusAtCenter_2_dotDensity_20_scaleFactor_40.mp4\n"
     ]
    },
    {
     "name": "stderr",
     "output_type": "stream",
     "text": [
      "\n",
      "t:   0%|          | 0/61 [00:00<?, ?it/s, now=None]\u001b[A\n",
      "t:   8%|▊         | 5/61 [00:00<00:01, 48.32it/s, now=None]\u001b[A"
     ]
    },
    {
     "name": "stdout",
     "output_type": "stream",
     "text": [
      "Moviepy - Building video /Volumes/programs/braintv/workgroups/nc-ophys/Saskia/openscope_motion/clips/forward_center_-50-10_radius_10_speed_048_dotNum_1429_speedAtCenter_99_radiusAtCenter_2_dotDensity_20_scaleFactor_40.mp4.\n",
      "Moviepy - Writing video /Volumes/programs/braintv/workgroups/nc-ophys/Saskia/openscope_motion/clips/forward_center_-50-10_radius_10_speed_048_dotNum_1429_speedAtCenter_99_radiusAtCenter_2_dotDensity_20_scaleFactor_40.mp4\n",
      "\n"
     ]
    },
    {
     "name": "stderr",
     "output_type": "stream",
     "text": [
      "\n",
      "t:  21%|██▏       | 13/61 [00:00<00:00, 54.39it/s, now=None]\u001b[A\n",
      "t:  41%|████      | 25/61 [00:00<00:00, 64.92it/s, now=None]\u001b[A\n",
      "t:  66%|██████▌   | 40/61 [00:00<00:00, 78.17it/s, now=None]\u001b[A\n",
      "t:  80%|████████  | 49/61 [00:00<00:00, 55.43it/s, now=None]\u001b[A\n",
      "t:  93%|█████████▎| 57/61 [00:00<00:00, 49.70it/s, now=None]\u001b[A\n",
      "                                                            \u001b[A"
     ]
    },
    {
     "name": "stdout",
     "output_type": "stream",
     "text": [
      "Moviepy - Done !\n",
      "Moviepy - video ready /Volumes/programs/braintv/workgroups/nc-ophys/Saskia/openscope_motion/clips/forward_center_-50-10_radius_10_speed_048_dotNum_1429_speedAtCenter_99_radiusAtCenter_2_dotDensity_20_scaleFactor_40.mp4\n"
     ]
    },
    {
     "name": "stderr",
     "output_type": "stream",
     "text": [
      "\n",
      "t:   0%|          | 0/61 [00:00<?, ?it/s, now=None]\u001b[A\n",
      "t:   8%|▊         | 5/61 [00:00<00:01, 49.37it/s, now=None]\u001b[A"
     ]
    },
    {
     "name": "stdout",
     "output_type": "stream",
     "text": [
      "Moviepy - Building video /Volumes/programs/braintv/workgroups/nc-ophys/Saskia/openscope_motion/clips/linear_windowed_backward_center_-50-10_radius_10_speed_0096_dotNum_1429_speedAtCenter_19_radiusAtCenter_2_dotDensity_20_scaleFactor_40.mp4.\n",
      "Moviepy - Writing video /Volumes/programs/braintv/workgroups/nc-ophys/Saskia/openscope_motion/clips/linear_windowed_backward_center_-50-10_radius_10_speed_0096_dotNum_1429_speedAtCenter_19_radiusAtCenter_2_dotDensity_20_scaleFactor_40.mp4\n",
      "\n"
     ]
    },
    {
     "name": "stderr",
     "output_type": "stream",
     "text": [
      "\n",
      "t:  30%|██▉       | 18/61 [00:00<00:00, 60.18it/s, now=None]\u001b[A\n",
      "t:  43%|████▎     | 26/61 [00:00<00:00, 64.62it/s, now=None]\u001b[A\n",
      "t:  69%|██████▉   | 42/61 [00:00<00:00, 78.08it/s, now=None]\u001b[A\n",
      "t:  84%|████████▎ | 51/61 [00:00<00:00, 75.57it/s, now=None]\u001b[A\n",
      "t:  98%|█████████▊| 60/61 [00:00<00:00, 74.67it/s, now=None]\u001b[A\n",
      "                                                            \u001b[A"
     ]
    },
    {
     "name": "stdout",
     "output_type": "stream",
     "text": [
      "Moviepy - Done !\n",
      "Moviepy - video ready /Volumes/programs/braintv/workgroups/nc-ophys/Saskia/openscope_motion/clips/linear_windowed_backward_center_-50-10_radius_10_speed_0096_dotNum_1429_speedAtCenter_19_radiusAtCenter_2_dotDensity_20_scaleFactor_40.mp4\n"
     ]
    },
    {
     "name": "stderr",
     "output_type": "stream",
     "text": [
      "\n",
      "t:   0%|          | 0/61 [00:00<?, ?it/s, now=None]\u001b[A\n",
      "t:  13%|█▎        | 8/61 [00:00<00:00, 78.04it/s, now=None]\u001b[A"
     ]
    },
    {
     "name": "stdout",
     "output_type": "stream",
     "text": [
      "Moviepy - Building video /Volumes/programs/braintv/workgroups/nc-ophys/Saskia/openscope_motion/clips/forward_center_-50-10_radius_10_speed_024_dotNum_1429_speedAtCenter_49_radiusAtCenter_2_dotDensity_20_scaleFactor_40.mp4.\n",
      "Moviepy - Writing video /Volumes/programs/braintv/workgroups/nc-ophys/Saskia/openscope_motion/clips/forward_center_-50-10_radius_10_speed_024_dotNum_1429_speedAtCenter_49_radiusAtCenter_2_dotDensity_20_scaleFactor_40.mp4\n",
      "\n"
     ]
    },
    {
     "name": "stderr",
     "output_type": "stream",
     "text": [
      "\n",
      "t:  33%|███▎      | 20/61 [00:00<00:00, 85.86it/s, now=None]\u001b[A\n",
      "t:  51%|█████     | 31/61 [00:00<00:00, 90.39it/s, now=None]\u001b[A\n",
      "t:  69%|██████▉   | 42/61 [00:00<00:00, 94.52it/s, now=None]\u001b[A\n",
      "t:  82%|████████▏ | 50/61 [00:00<00:00, 59.29it/s, now=None]\u001b[A\n",
      "t:  93%|█████████▎| 57/61 [00:00<00:00, 57.31it/s, now=None]\u001b[A\n",
      "                                                            \u001b[A"
     ]
    },
    {
     "name": "stdout",
     "output_type": "stream",
     "text": [
      "Moviepy - Done !\n",
      "Moviepy - video ready /Volumes/programs/braintv/workgroups/nc-ophys/Saskia/openscope_motion/clips/forward_center_-50-10_radius_10_speed_024_dotNum_1429_speedAtCenter_49_radiusAtCenter_2_dotDensity_20_scaleFactor_40.mp4\n"
     ]
    },
    {
     "name": "stderr",
     "output_type": "stream",
     "text": [
      "\n",
      "t:   0%|          | 0/61 [00:00<?, ?it/s, now=None]\u001b[A\n",
      "t:   7%|▋         | 4/61 [00:00<00:01, 38.01it/s, now=None]\u001b[A"
     ]
    },
    {
     "name": "stdout",
     "output_type": "stream",
     "text": [
      "Moviepy - Building video /Volumes/programs/braintv/workgroups/nc-ophys/Saskia/openscope_motion/clips/backward_center_-50-10_radius_10_speed_005_dotNum_1429_speedAtCenter_10_radiusAtCenter_2_dotDensity_20_scaleFactor_40.mp4.\n",
      "Moviepy - Writing video /Volumes/programs/braintv/workgroups/nc-ophys/Saskia/openscope_motion/clips/backward_center_-50-10_radius_10_speed_005_dotNum_1429_speedAtCenter_10_radiusAtCenter_2_dotDensity_20_scaleFactor_40.mp4\n",
      "\n"
     ]
    },
    {
     "name": "stderr",
     "output_type": "stream",
     "text": [
      "\n",
      "t:  26%|██▌       | 16/61 [00:00<00:00, 47.44it/s, now=None]\u001b[A\n",
      "t:  38%|███▊      | 23/61 [00:00<00:00, 52.23it/s, now=None]\u001b[A\n",
      "t:  56%|█████▌    | 34/61 [00:00<00:00, 61.81it/s, now=None]\u001b[A\n",
      "t:  75%|███████▌  | 46/61 [00:00<00:00, 72.11it/s, now=None]\u001b[A\n",
      "t:  90%|█████████ | 55/61 [00:00<00:00, 52.88it/s, now=None]\u001b[A\n",
      "                                                            \u001b[A"
     ]
    },
    {
     "name": "stdout",
     "output_type": "stream",
     "text": [
      "Moviepy - Done !\n",
      "Moviepy - video ready /Volumes/programs/braintv/workgroups/nc-ophys/Saskia/openscope_motion/clips/backward_center_-50-10_radius_10_speed_005_dotNum_1429_speedAtCenter_10_radiusAtCenter_2_dotDensity_20_scaleFactor_40.mp4\n"
     ]
    },
    {
     "name": "stderr",
     "output_type": "stream",
     "text": [
      "\n",
      "t:   0%|          | 0/61 [00:00<?, ?it/s, now=None]\u001b[A\n",
      "t:  11%|█▏        | 7/61 [00:00<00:00, 68.68it/s, now=None]\u001b[A"
     ]
    },
    {
     "name": "stdout",
     "output_type": "stream",
     "text": [
      "Moviepy - Building video /Volumes/programs/braintv/workgroups/nc-ophys/Saskia/openscope_motion/clips/forward_center_-50-10_radius_10_speed_1_dotNum_1429_speedAtCenter_199_radiusAtCenter_2_dotDensity_20_scaleFactor_40.mp4.\n",
      "Moviepy - Writing video /Volumes/programs/braintv/workgroups/nc-ophys/Saskia/openscope_motion/clips/forward_center_-50-10_radius_10_speed_1_dotNum_1429_speedAtCenter_199_radiusAtCenter_2_dotDensity_20_scaleFactor_40.mp4\n",
      "\n"
     ]
    },
    {
     "name": "stderr",
     "output_type": "stream",
     "text": [
      "\n",
      "t:  26%|██▌       | 16/61 [00:00<00:00, 73.86it/s, now=None]\u001b[A\n",
      "t:  46%|████▌     | 28/61 [00:00<00:00, 82.60it/s, now=None]\u001b[A\n",
      "t:  69%|██████▉   | 42/61 [00:00<00:00, 93.02it/s, now=None]\u001b[A\n",
      "t:  84%|████████▎ | 51/61 [00:00<00:00, 60.58it/s, now=None]\u001b[A\n",
      "t:  95%|█████████▌| 58/61 [00:00<00:00, 54.83it/s, now=None]\u001b[A\n",
      "                                                            \u001b[A"
     ]
    },
    {
     "name": "stdout",
     "output_type": "stream",
     "text": [
      "Moviepy - Done !\n",
      "Moviepy - video ready /Volumes/programs/braintv/workgroups/nc-ophys/Saskia/openscope_motion/clips/forward_center_-50-10_radius_10_speed_1_dotNum_1429_speedAtCenter_199_radiusAtCenter_2_dotDensity_20_scaleFactor_40.mp4\n"
     ]
    },
    {
     "name": "stderr",
     "output_type": "stream",
     "text": [
      "\n",
      "t:   0%|          | 0/61 [00:00<?, ?it/s, now=None]\u001b[A\n",
      "t:  10%|▉         | 6/61 [00:00<00:00, 59.39it/s, now=None]\u001b[A"
     ]
    },
    {
     "name": "stdout",
     "output_type": "stream",
     "text": [
      "Moviepy - Building video /Volumes/programs/braintv/workgroups/nc-ophys/Saskia/openscope_motion/clips/backward_center_-50-10_radius_10_speed_205_dotNum_1429_speedAtCenter_398_radiusAtCenter_2_dotDensity_20_scaleFactor_40.mp4.\n",
      "Moviepy - Writing video /Volumes/programs/braintv/workgroups/nc-ophys/Saskia/openscope_motion/clips/backward_center_-50-10_radius_10_speed_205_dotNum_1429_speedAtCenter_398_radiusAtCenter_2_dotDensity_20_scaleFactor_40.mp4\n",
      "\n"
     ]
    },
    {
     "name": "stderr",
     "output_type": "stream",
     "text": [
      "\n",
      "t:  25%|██▍       | 15/61 [00:00<00:00, 65.93it/s, now=None]\u001b[A\n",
      "t:  43%|████▎     | 26/61 [00:00<00:00, 74.11it/s, now=None]\u001b[A\n",
      "t:  62%|██████▏   | 38/61 [00:00<00:00, 83.55it/s, now=None]\u001b[A\n",
      "t:  79%|███████▊  | 48/61 [00:00<00:00, 63.47it/s, now=None]\u001b[A\n",
      "t:  90%|█████████ | 55/61 [00:00<00:00, 48.45it/s, now=None]\u001b[A\n",
      "t: 100%|██████████| 61/61 [00:01<00:00, 44.25it/s, now=None]\u001b[A\n",
      "                                                            \u001b[A"
     ]
    },
    {
     "name": "stdout",
     "output_type": "stream",
     "text": [
      "Moviepy - Done !\n",
      "Moviepy - video ready /Volumes/programs/braintv/workgroups/nc-ophys/Saskia/openscope_motion/clips/backward_center_-50-10_radius_10_speed_205_dotNum_1429_speedAtCenter_398_radiusAtCenter_2_dotDensity_20_scaleFactor_40.mp4\n"
     ]
    },
    {
     "name": "stderr",
     "output_type": "stream",
     "text": [
      "\n",
      "t:   0%|          | 0/61 [00:00<?, ?it/s, now=None]\u001b[A\n",
      "t:  18%|█▊        | 11/61 [00:00<00:00, 104.95it/s, now=None]\u001b[A"
     ]
    },
    {
     "name": "stdout",
     "output_type": "stream",
     "text": [
      "Moviepy - Building video /Volumes/programs/braintv/workgroups/nc-ophys/Saskia/openscope_motion/clips/linear_windowed_backward_center_-50-10_radius_10_speed_1_dotNum_1429_speedAtCenter_199_radiusAtCenter_2_dotDensity_20_scaleFactor_40.mp4.\n",
      "Moviepy - Writing video /Volumes/programs/braintv/workgroups/nc-ophys/Saskia/openscope_motion/clips/linear_windowed_backward_center_-50-10_radius_10_speed_1_dotNum_1429_speedAtCenter_199_radiusAtCenter_2_dotDensity_20_scaleFactor_40.mp4\n",
      "\n"
     ]
    },
    {
     "name": "stderr",
     "output_type": "stream",
     "text": [
      "\n",
      "t:  34%|███▍      | 21/61 [00:00<00:00, 102.92it/s, now=None]\u001b[A\n",
      "t:  51%|█████     | 31/61 [00:00<00:00, 100.66it/s, now=None]\u001b[A\n",
      "t:  74%|███████▍  | 45/61 [00:00<00:00, 108.98it/s, now=None]\u001b[A\n",
      "t:  89%|████████▊ | 54/61 [00:00<00:00, 93.53it/s, now=None] \u001b[A\n",
      "                                                            \u001b[A"
     ]
    },
    {
     "name": "stdout",
     "output_type": "stream",
     "text": [
      "Moviepy - Done !\n",
      "Moviepy - video ready /Volumes/programs/braintv/workgroups/nc-ophys/Saskia/openscope_motion/clips/linear_windowed_backward_center_-50-10_radius_10_speed_1_dotNum_1429_speedAtCenter_199_radiusAtCenter_2_dotDensity_20_scaleFactor_40.mp4\n"
     ]
    },
    {
     "name": "stderr",
     "output_type": "stream",
     "text": [
      "\n",
      "t:   0%|          | 0/61 [00:00<?, ?it/s, now=None]\u001b[A\n",
      "t:   5%|▍         | 3/61 [00:00<00:02, 21.79it/s, now=None]\u001b[A"
     ]
    },
    {
     "name": "stdout",
     "output_type": "stream",
     "text": [
      "Moviepy - Building video /Volumes/programs/braintv/workgroups/nc-ophys/Saskia/openscope_motion/clips/forward_center_-50-10_radius_10_speed_205_dotNum_1429_speedAtCenter_398_radiusAtCenter_2_dotDensity_20_scaleFactor_40.mp4.\n",
      "Moviepy - Writing video /Volumes/programs/braintv/workgroups/nc-ophys/Saskia/openscope_motion/clips/forward_center_-50-10_radius_10_speed_205_dotNum_1429_speedAtCenter_398_radiusAtCenter_2_dotDensity_20_scaleFactor_40.mp4\n",
      "\n"
     ]
    },
    {
     "name": "stderr",
     "output_type": "stream",
     "text": [
      "\n",
      "t:  28%|██▊       | 17/61 [00:00<00:01, 29.10it/s, now=None]\u001b[A\n",
      "t:  44%|████▍     | 27/61 [00:00<00:00, 36.83it/s, now=None]\u001b[A\n",
      "t:  69%|██████▉   | 42/61 [00:00<00:00, 47.46it/s, now=None]\u001b[A\n",
      "t:  84%|████████▎ | 51/61 [00:00<00:00, 41.63it/s, now=None]\u001b[A\n",
      "t:  95%|█████████▌| 58/61 [00:00<00:00, 39.81it/s, now=None]\u001b[A\n",
      "                                                            \u001b[A"
     ]
    },
    {
     "name": "stdout",
     "output_type": "stream",
     "text": [
      "Moviepy - Done !\n",
      "Moviepy - video ready /Volumes/programs/braintv/workgroups/nc-ophys/Saskia/openscope_motion/clips/forward_center_-50-10_radius_10_speed_205_dotNum_1429_speedAtCenter_398_radiusAtCenter_2_dotDensity_20_scaleFactor_40.mp4\n"
     ]
    },
    {
     "name": "stderr",
     "output_type": "stream",
     "text": [
      "\n",
      "t:   0%|          | 0/61 [00:00<?, ?it/s, now=None]\u001b[A\n",
      "t:  21%|██▏       | 13/61 [00:00<00:00, 124.33it/s, now=None]\u001b[A"
     ]
    },
    {
     "name": "stdout",
     "output_type": "stream",
     "text": [
      "Moviepy - Building video /Volumes/programs/braintv/workgroups/nc-ophys/Saskia/openscope_motion/clips/forward_center_-50-10_radius_10_speed_005_dotNum_1429_speedAtCenter_10_radiusAtCenter_2_dotDensity_20_scaleFactor_40.mp4.\n",
      "Moviepy - Writing video /Volumes/programs/braintv/workgroups/nc-ophys/Saskia/openscope_motion/clips/forward_center_-50-10_radius_10_speed_005_dotNum_1429_speedAtCenter_10_radiusAtCenter_2_dotDensity_20_scaleFactor_40.mp4\n",
      "\n"
     ]
    },
    {
     "name": "stderr",
     "output_type": "stream",
     "text": [
      "\n",
      "t:  41%|████      | 25/61 [00:00<00:00, 122.99it/s, now=None]\u001b[A\n",
      "t:  61%|██████    | 37/61 [00:00<00:00, 120.83it/s, now=None]\u001b[A\n",
      "t:  79%|███████▊  | 48/61 [00:00<00:00, 86.08it/s, now=None] \u001b[A\n",
      "t:  92%|█████████▏| 56/61 [00:00<00:00, 73.78it/s, now=None]\u001b[A\n",
      "                                                            \u001b[A"
     ]
    },
    {
     "name": "stdout",
     "output_type": "stream",
     "text": [
      "Moviepy - Done !\n",
      "Moviepy - video ready /Volumes/programs/braintv/workgroups/nc-ophys/Saskia/openscope_motion/clips/forward_center_-50-10_radius_10_speed_005_dotNum_1429_speedAtCenter_10_radiusAtCenter_2_dotDensity_20_scaleFactor_40.mp4\n"
     ]
    },
    {
     "name": "stderr",
     "output_type": "stream",
     "text": [
      "\n",
      "t:   0%|          | 0/61 [00:00<?, ?it/s, now=None]\u001b[A\n",
      "t:  15%|█▍        | 9/61 [00:00<00:00, 85.56it/s, now=None]\u001b[A"
     ]
    },
    {
     "name": "stdout",
     "output_type": "stream",
     "text": [
      "Moviepy - Building video /Volumes/programs/braintv/workgroups/nc-ophys/Saskia/openscope_motion/clips/linear_windowed_forward_center_-50-10_radius_10_speed_0096_dotNum_1429_speedAtCenter_19_radiusAtCenter_2_dotDensity_20_scaleFactor_40.mp4.\n",
      "Moviepy - Writing video /Volumes/programs/braintv/workgroups/nc-ophys/Saskia/openscope_motion/clips/linear_windowed_forward_center_-50-10_radius_10_speed_0096_dotNum_1429_speedAtCenter_19_radiusAtCenter_2_dotDensity_20_scaleFactor_40.mp4\n",
      "\n"
     ]
    },
    {
     "name": "stderr",
     "output_type": "stream",
     "text": [
      "\n",
      "t:  39%|███▉      | 24/61 [00:00<00:00, 97.13it/s, now=None]\u001b[A\n",
      "t:  61%|██████    | 37/61 [00:00<00:00, 104.35it/s, now=None]\u001b[A\n",
      "t:  75%|███████▌  | 46/61 [00:00<00:00, 84.92it/s, now=None] \u001b[A\n",
      "t:  89%|████████▊ | 54/61 [00:00<00:00, 68.98it/s, now=None]\u001b[A\n",
      "                                                            \u001b[A"
     ]
    },
    {
     "name": "stdout",
     "output_type": "stream",
     "text": [
      "Moviepy - Done !\n",
      "Moviepy - video ready /Volumes/programs/braintv/workgroups/nc-ophys/Saskia/openscope_motion/clips/linear_windowed_forward_center_-50-10_radius_10_speed_0096_dotNum_1429_speedAtCenter_19_radiusAtCenter_2_dotDensity_20_scaleFactor_40.mp4\n"
     ]
    }
   ],
   "source": [
    "#mp4s for Corbetts stimuli\n",
    "pathname = r'/Volumes/programs/braintv/workgroups/nc-ophys/corbettb/motionscope/translation'\n",
    "for f in os.listdir(pathname):\n",
    "    if f.startswith('linear') or f.startswith('forward') or f.startswith('backward'):\n",
    "        rot_stim = np.load(os.path.join(pathname, f))\n",
    "        temp = np.repeat(rot_stim[:,:,:,np.newaxis], 3, axis=3)\n",
    "        clip = mpy.ImageSequenceClip([fr for fr in temp], fps=60)\n",
    "#         filename = f.split('.')[0]+'.mp4'\n",
    "        filename = ''.join(f.split('.')[:-1])+'.mp4'\n",
    "        clip.write_videofile(os.path.join(r'/Volumes/programs/braintv/workgroups/nc-ophys/Saskia/openscope_motion/clips',filename))"
   ]
  },
  {
   "cell_type": "code",
   "execution_count": 505,
   "metadata": {},
   "outputs": [
    {
     "name": "stderr",
     "output_type": "stream",
     "text": [
      "\n",
      "t:   0%|          | 0/61 [00:00<?, ?it/s, now=None]\u001b[A\n",
      "t:   5%|▍         | 3/61 [00:00<00:01, 29.53it/s, now=None]\u001b[A"
     ]
    },
    {
     "name": "stdout",
     "output_type": "stream",
     "text": [
      "Moviepy - Building video /Volumes/programs/braintv/workgroups/nc-ophys/Saskia/openscope_motion/clips/linear_windowed_rotation_dir_113_420_200_10.mp4.\n",
      "Moviepy - Writing video /Volumes/programs/braintv/workgroups/nc-ophys/Saskia/openscope_motion/clips/linear_windowed_rotation_dir_113_420_200_10.mp4\n",
      "\n"
     ]
    },
    {
     "name": "stderr",
     "output_type": "stream",
     "text": [
      "\n",
      "t:  15%|█▍        | 9/61 [00:00<00:01, 33.91it/s, now=None]\u001b[A\n",
      "t:  31%|███       | 19/61 [00:00<00:01, 41.53it/s, now=None]\u001b[A\n",
      "t:  54%|█████▍    | 33/61 [00:00<00:00, 52.57it/s, now=None]\u001b[A\n",
      "t:  74%|███████▍  | 45/61 [00:00<00:00, 62.33it/s, now=None]\u001b[A\n",
      "t:  89%|████████▊ | 54/61 [00:00<00:00, 62.17it/s, now=None]\u001b[A\n",
      "                                                            \u001b[A"
     ]
    },
    {
     "name": "stdout",
     "output_type": "stream",
     "text": [
      "Moviepy - Done !\n",
      "Moviepy - video ready /Volumes/programs/braintv/workgroups/nc-ophys/Saskia/openscope_motion/clips/linear_windowed_rotation_dir_113_420_200_10.mp4\n"
     ]
    },
    {
     "name": "stderr",
     "output_type": "stream",
     "text": [
      "\n",
      "t:   0%|          | 0/61 [00:00<?, ?it/s, now=None]\u001b[A\n",
      "t:  11%|█▏        | 7/61 [00:00<00:00, 57.00it/s, now=None]\u001b[A"
     ]
    },
    {
     "name": "stdout",
     "output_type": "stream",
     "text": [
      "Moviepy - Building video /Volumes/programs/braintv/workgroups/nc-ophys/Saskia/openscope_motion/clips/linear_windowed_rotation_dir_113_420_100_10.mp4.\n",
      "Moviepy - Writing video /Volumes/programs/braintv/workgroups/nc-ophys/Saskia/openscope_motion/clips/linear_windowed_rotation_dir_113_420_100_10.mp4\n",
      "\n"
     ]
    },
    {
     "name": "stderr",
     "output_type": "stream",
     "text": [
      "\n",
      "t:  33%|███▎      | 20/61 [00:00<00:00, 67.67it/s, now=None]\u001b[A\n",
      "t:  56%|█████▌    | 34/61 [00:00<00:00, 79.36it/s, now=None]\u001b[A\n",
      "t:  74%|███████▍  | 45/61 [00:00<00:00, 86.25it/s, now=None]\u001b[A\n",
      "t:  89%|████████▊ | 54/61 [00:00<00:00, 75.73it/s, now=None]\u001b[A\n",
      "                                                            \u001b[A"
     ]
    },
    {
     "name": "stdout",
     "output_type": "stream",
     "text": [
      "Moviepy - Done !\n",
      "Moviepy - video ready /Volumes/programs/braintv/workgroups/nc-ophys/Saskia/openscope_motion/clips/linear_windowed_rotation_dir_113_420_100_10.mp4\n"
     ]
    },
    {
     "name": "stderr",
     "output_type": "stream",
     "text": [
      "\n",
      "t:   0%|          | 0/61 [00:00<?, ?it/s, now=None]\u001b[A\n",
      "t:   8%|▊         | 5/61 [00:00<00:01, 45.98it/s, now=None]\u001b[A"
     ]
    },
    {
     "name": "stdout",
     "output_type": "stream",
     "text": [
      "Moviepy - Building video /Volumes/programs/braintv/workgroups/nc-ophys/Saskia/openscope_motion/clips/linear_windowed_rotation_dir_113_420_400_10.mp4.\n",
      "Moviepy - Writing video /Volumes/programs/braintv/workgroups/nc-ophys/Saskia/openscope_motion/clips/linear_windowed_rotation_dir_113_420_400_10.mp4\n",
      "\n"
     ]
    },
    {
     "name": "stderr",
     "output_type": "stream",
     "text": [
      "\n",
      "t:  20%|█▉        | 12/61 [00:00<00:00, 50.98it/s, now=None]\u001b[A\n",
      "t:  36%|███▌      | 22/61 [00:00<00:00, 59.42it/s, now=None]\u001b[A\n",
      "t:  57%|█████▋    | 35/61 [00:00<00:00, 70.83it/s, now=None]\u001b[A\n",
      "t:  75%|███████▌  | 46/61 [00:00<00:00, 78.85it/s, now=None]\u001b[A\n",
      "t:  90%|█████████ | 55/61 [00:00<00:00, 69.53it/s, now=None]\u001b[A\n",
      "                                                            \u001b[A"
     ]
    },
    {
     "name": "stdout",
     "output_type": "stream",
     "text": [
      "Moviepy - Done !\n",
      "Moviepy - video ready /Volumes/programs/braintv/workgroups/nc-ophys/Saskia/openscope_motion/clips/linear_windowed_rotation_dir_113_420_400_10.mp4\n"
     ]
    },
    {
     "name": "stderr",
     "output_type": "stream",
     "text": [
      "\n",
      "t:   0%|          | 0/61 [00:00<?, ?it/s, now=None]\u001b[A\n",
      "t:  10%|▉         | 6/61 [00:00<00:01, 48.55it/s, now=None]\u001b[A"
     ]
    },
    {
     "name": "stdout",
     "output_type": "stream",
     "text": [
      "Moviepy - Building video /Volumes/programs/braintv/workgroups/nc-ophys/Saskia/openscope_motion/clips/linear_windowed_rotation_dir_113_420_50_10.mp4.\n",
      "Moviepy - Writing video /Volumes/programs/braintv/workgroups/nc-ophys/Saskia/openscope_motion/clips/linear_windowed_rotation_dir_113_420_50_10.mp4\n",
      "\n"
     ]
    },
    {
     "name": "stderr",
     "output_type": "stream",
     "text": [
      "\n",
      "t:  21%|██▏       | 13/61 [00:00<00:00, 52.77it/s, now=None]\u001b[A\n",
      "t:  33%|███▎      | 20/61 [00:00<00:00, 56.48it/s, now=None]\u001b[A\n",
      "t:  56%|█████▌    | 34/61 [00:00<00:00, 68.36it/s, now=None]\u001b[A\n",
      "t:  69%|██████▉   | 42/61 [00:00<00:00, 70.51it/s, now=None]\u001b[A\n",
      "t:  82%|████████▏ | 50/61 [00:00<00:00, 60.71it/s, now=None]\u001b[A\n",
      "t:  93%|█████████▎| 57/61 [00:00<00:00, 62.34it/s, now=None]\u001b[A\n",
      "                                                            \u001b[A"
     ]
    },
    {
     "name": "stdout",
     "output_type": "stream",
     "text": [
      "Moviepy - Done !\n",
      "Moviepy - video ready /Volumes/programs/braintv/workgroups/nc-ophys/Saskia/openscope_motion/clips/linear_windowed_rotation_dir_113_420_50_10.mp4\n"
     ]
    },
    {
     "name": "stderr",
     "output_type": "stream",
     "text": [
      "\n",
      "t:   0%|          | 0/61 [00:00<?, ?it/s, now=None]\u001b[A\n",
      "t:   7%|▋         | 4/61 [00:00<00:01, 29.68it/s, now=None]\u001b[A"
     ]
    },
    {
     "name": "stdout",
     "output_type": "stream",
     "text": [
      "Moviepy - Building video /Volumes/programs/braintv/workgroups/nc-ophys/Saskia/openscope_motion/clips/linear_windowed_rotation_dir_113_420_10_10.mp4.\n",
      "Moviepy - Writing video /Volumes/programs/braintv/workgroups/nc-ophys/Saskia/openscope_motion/clips/linear_windowed_rotation_dir_113_420_10_10.mp4\n",
      "\n"
     ]
    },
    {
     "name": "stderr",
     "output_type": "stream",
     "text": [
      "\n",
      "t:  23%|██▎       | 14/61 [00:00<00:01, 37.55it/s, now=None]\u001b[A\n",
      "t:  43%|████▎     | 26/61 [00:00<00:00, 47.12it/s, now=None]\u001b[A\n",
      "t:  57%|█████▋    | 35/61 [00:00<00:00, 54.65it/s, now=None]\u001b[A\n",
      "t:  70%|███████   | 43/61 [00:00<00:00, 60.08it/s, now=None]\u001b[A\n",
      "t:  84%|████████▎ | 51/61 [00:00<00:00, 56.29it/s, now=None]\u001b[A\n",
      "t:  95%|█████████▌| 58/61 [00:00<00:00, 58.58it/s, now=None]\u001b[A\n",
      "                                                            \u001b[A"
     ]
    },
    {
     "name": "stdout",
     "output_type": "stream",
     "text": [
      "Moviepy - Done !\n",
      "Moviepy - video ready /Volumes/programs/braintv/workgroups/nc-ophys/Saskia/openscope_motion/clips/linear_windowed_rotation_dir_113_420_10_10.mp4\n"
     ]
    },
    {
     "name": "stderr",
     "output_type": "stream",
     "text": [
      "\n",
      "t:   0%|          | 0/61 [00:00<?, ?it/s, now=None]\u001b[A\n",
      "t:  13%|█▎        | 8/61 [00:00<00:00, 75.95it/s, now=None]\u001b[A"
     ]
    },
    {
     "name": "stdout",
     "output_type": "stream",
     "text": [
      "Moviepy - Building video /Volumes/programs/braintv/workgroups/nc-ophys/Saskia/openscope_motion/clips/linear_windowed_rotation_dir_113_420_20_10.mp4.\n",
      "Moviepy - Writing video /Volumes/programs/braintv/workgroups/nc-ophys/Saskia/openscope_motion/clips/linear_windowed_rotation_dir_113_420_20_10.mp4\n",
      "\n"
     ]
    },
    {
     "name": "stderr",
     "output_type": "stream",
     "text": [
      "\n",
      "t:  31%|███       | 19/61 [00:00<00:00, 83.39it/s, now=None]\u001b[A\n",
      "t:  44%|████▍     | 27/61 [00:00<00:00, 80.63it/s, now=None]\u001b[A\n",
      "t:  66%|██████▌   | 40/61 [00:00<00:00, 90.19it/s, now=None]\u001b[A\n",
      "t:  79%|███████▊  | 48/61 [00:00<00:00, 85.72it/s, now=None]\u001b[A\n",
      "t:  92%|█████████▏| 56/61 [00:00<00:00, 78.33it/s, now=None]\u001b[A\n",
      "                                                            \u001b[A"
     ]
    },
    {
     "name": "stdout",
     "output_type": "stream",
     "text": [
      "Moviepy - Done !\n",
      "Moviepy - video ready /Volumes/programs/braintv/workgroups/nc-ophys/Saskia/openscope_motion/clips/linear_windowed_rotation_dir_113_420_20_10.mp4\n"
     ]
    }
   ],
   "source": [
    "pathname = r'/Volumes/programs/braintv/workgroups/nc-ophys/Saskia/openscope_motion/npyfiles_dec'\n",
    "for f in os.listdir(pathname):\n",
    "#     if f.startswith('linear_windowed_rotation_dir_11.3') or f.startswith('rotation_dir_11.3'):\n",
    "    if f.startswith('linear_windowed_rotation_dir_11.3'):\n",
    "        rot_stim = np.load(os.path.join(pathname, f))\n",
    "        temp = np.repeat(rot_stim[:,:,:,np.newaxis], 3, axis=3)\n",
    "        clip = mpy.ImageSequenceClip([fr for fr in temp], fps=60)\n",
    "#         filename = f.split('.')[0]+'.mp4'\n",
    "        filename = ''.join(f.split('.')[:-1])+'.mp4'\n",
    "        clip.write_videofile(os.path.join(r'/Volumes/programs/braintv/workgroups/nc-ophys/Saskia/openscope_motion/clips',filename))"
   ]
  },
  {
   "cell_type": "code",
   "execution_count": 506,
   "metadata": {},
   "outputs": [
    {
     "name": "stderr",
     "output_type": "stream",
     "text": [
      "\n",
      "t:   0%|          | 0/61 [00:00<?, ?it/s, now=None]\u001b[A\n",
      "t:   5%|▍         | 3/61 [00:00<00:02, 20.85it/s, now=None]\u001b[A"
     ]
    },
    {
     "name": "stdout",
     "output_type": "stream",
     "text": [
      "Moviepy - Building video /Volumes/programs/braintv/workgroups/nc-ophys/corbettb/motionscope/rot_trans_concatenated/dir_113_speed_20_sidebyside.mp4.\n",
      "Moviepy - Writing video /Volumes/programs/braintv/workgroups/nc-ophys/corbettb/motionscope/rot_trans_concatenated/dir_113_speed_20_sidebyside.mp4\n",
      "\n"
     ]
    },
    {
     "name": "stderr",
     "output_type": "stream",
     "text": [
      "\n",
      "t:  16%|█▋        | 10/61 [00:00<00:01, 26.30it/s, now=None]\u001b[A\n",
      "t:  36%|███▌      | 22/61 [00:00<00:01, 34.25it/s, now=None]\u001b[A\n",
      "t:  61%|██████    | 37/61 [00:00<00:00, 44.26it/s, now=None]\u001b[A\n",
      "t:  79%|███████▊  | 48/61 [00:00<00:00, 49.22it/s, now=None]\u001b[A\n",
      "t:  93%|█████████▎| 57/61 [00:00<00:00, 56.22it/s, now=None]\u001b[A\n",
      "                                                            \u001b[A"
     ]
    },
    {
     "name": "stdout",
     "output_type": "stream",
     "text": [
      "Moviepy - Done !\n",
      "Moviepy - video ready /Volumes/programs/braintv/workgroups/nc-ophys/corbettb/motionscope/rot_trans_concatenated/dir_113_speed_20_sidebyside.mp4\n"
     ]
    },
    {
     "name": "stderr",
     "output_type": "stream",
     "text": [
      "\n",
      "t:   0%|          | 0/61 [00:00<?, ?it/s, now=None]\u001b[A\n",
      "t:   7%|▋         | 4/61 [00:00<00:01, 35.50it/s, now=None]\u001b[A"
     ]
    },
    {
     "name": "stdout",
     "output_type": "stream",
     "text": [
      "Moviepy - Building video /Volumes/programs/braintv/workgroups/nc-ophys/corbettb/motionscope/rot_trans_concatenated/dir_113_speed_50_sidebyside.mp4.\n",
      "Moviepy - Writing video /Volumes/programs/braintv/workgroups/nc-ophys/corbettb/motionscope/rot_trans_concatenated/dir_113_speed_50_sidebyside.mp4\n",
      "\n"
     ]
    },
    {
     "name": "stderr",
     "output_type": "stream",
     "text": [
      "\n",
      "t:  10%|▉         | 6/61 [00:00<00:02, 25.61it/s, now=None]\u001b[A\n",
      "t:  18%|█▊        | 11/61 [00:00<00:01, 29.88it/s, now=None]\u001b[A\n",
      "t:  39%|███▉      | 24/61 [00:00<00:00, 38.77it/s, now=None]\u001b[A\n",
      "t:  61%|██████    | 37/61 [00:00<00:00, 48.92it/s, now=None]\u001b[A\n",
      "t:  79%|███████▊  | 48/61 [00:00<00:00, 53.98it/s, now=None]\u001b[A\n",
      "t:  92%|█████████▏| 56/61 [00:00<00:00, 58.30it/s, now=None]\u001b[A\n",
      "                                                            \u001b[A"
     ]
    },
    {
     "name": "stdout",
     "output_type": "stream",
     "text": [
      "Moviepy - Done !\n",
      "Moviepy - video ready /Volumes/programs/braintv/workgroups/nc-ophys/corbettb/motionscope/rot_trans_concatenated/dir_113_speed_50_sidebyside.mp4\n"
     ]
    },
    {
     "name": "stderr",
     "output_type": "stream",
     "text": [
      "\n",
      "t:   0%|          | 0/61 [00:00<?, ?it/s, now=None]\u001b[A\n",
      "t:  11%|█▏        | 7/61 [00:00<00:00, 68.07it/s, now=None]\u001b[A"
     ]
    },
    {
     "name": "stdout",
     "output_type": "stream",
     "text": [
      "Moviepy - Building video /Volumes/programs/braintv/workgroups/nc-ophys/corbettb/motionscope/rot_trans_concatenated/dir_113_speed_10_sidebyside.mp4.\n",
      "Moviepy - Writing video /Volumes/programs/braintv/workgroups/nc-ophys/corbettb/motionscope/rot_trans_concatenated/dir_113_speed_10_sidebyside.mp4\n",
      "\n"
     ]
    },
    {
     "name": "stderr",
     "output_type": "stream",
     "text": [
      "\n",
      "t:  31%|███       | 19/61 [00:00<00:00, 76.20it/s, now=None]\u001b[A\n",
      "t:  48%|████▊     | 29/61 [00:00<00:00, 81.34it/s, now=None]\u001b[A\n",
      "t:  64%|██████▍   | 39/61 [00:00<00:00, 86.02it/s, now=None]\u001b[A\n",
      "t:  77%|███████▋  | 47/61 [00:00<00:00, 72.13it/s, now=None]\u001b[A\n",
      "t:  89%|████████▊ | 54/61 [00:00<00:00, 64.29it/s, now=None]\u001b[A\n",
      "                                                            \u001b[A"
     ]
    },
    {
     "name": "stdout",
     "output_type": "stream",
     "text": [
      "Moviepy - Done !\n",
      "Moviepy - video ready /Volumes/programs/braintv/workgroups/nc-ophys/corbettb/motionscope/rot_trans_concatenated/dir_113_speed_10_sidebyside.mp4\n"
     ]
    },
    {
     "name": "stderr",
     "output_type": "stream",
     "text": [
      "\n",
      "t:   0%|          | 0/61 [00:00<?, ?it/s, now=None]\u001b[A\n",
      "t:  16%|█▋        | 10/61 [00:00<00:00, 93.08it/s, now=None]\u001b[A"
     ]
    },
    {
     "name": "stdout",
     "output_type": "stream",
     "text": [
      "Moviepy - Building video /Volumes/programs/braintv/workgroups/nc-ophys/corbettb/motionscope/rot_trans_concatenated/dir_113_speed_100_sidebyside.mp4.\n",
      "Moviepy - Writing video /Volumes/programs/braintv/workgroups/nc-ophys/corbettb/motionscope/rot_trans_concatenated/dir_113_speed_100_sidebyside.mp4\n",
      "\n"
     ]
    },
    {
     "name": "stderr",
     "output_type": "stream",
     "text": [
      "\n",
      "t:  33%|███▎      | 20/61 [00:00<00:00, 94.53it/s, now=None]\u001b[A\n",
      "t:  48%|████▊     | 29/61 [00:00<00:00, 90.13it/s, now=None]\u001b[A\n",
      "t:  62%|██████▏   | 38/61 [00:00<00:00, 89.78it/s, now=None]\u001b[A\n",
      "t:  77%|███████▋  | 47/61 [00:00<00:00, 88.89it/s, now=None]\u001b[A\n",
      "t:  90%|█████████ | 55/61 [00:00<00:00, 69.56it/s, now=None]\u001b[A\n",
      "                                                            \u001b[A"
     ]
    },
    {
     "name": "stdout",
     "output_type": "stream",
     "text": [
      "Moviepy - Done !\n",
      "Moviepy - video ready /Volumes/programs/braintv/workgroups/nc-ophys/corbettb/motionscope/rot_trans_concatenated/dir_113_speed_100_sidebyside.mp4\n"
     ]
    },
    {
     "name": "stderr",
     "output_type": "stream",
     "text": [
      "\n",
      "t:   0%|          | 0/61 [00:00<?, ?it/s, now=None]\u001b[A\n",
      "t:  11%|█▏        | 7/61 [00:00<00:00, 61.66it/s, now=None]\u001b[A"
     ]
    },
    {
     "name": "stdout",
     "output_type": "stream",
     "text": [
      "Moviepy - Building video /Volumes/programs/braintv/workgroups/nc-ophys/corbettb/motionscope/rot_trans_concatenated/dir_113_speed_200_sidebyside.mp4.\n",
      "Moviepy - Writing video /Volumes/programs/braintv/workgroups/nc-ophys/corbettb/motionscope/rot_trans_concatenated/dir_113_speed_200_sidebyside.mp4\n",
      "\n"
     ]
    },
    {
     "name": "stderr",
     "output_type": "stream",
     "text": [
      "\n",
      "t:  33%|███▎      | 20/61 [00:00<00:00, 72.88it/s, now=None]\u001b[A\n",
      "t:  51%|█████     | 31/61 [00:00<00:00, 81.03it/s, now=None]\u001b[A\n",
      "t:  72%|███████▏  | 44/61 [00:00<00:00, 90.87it/s, now=None]\u001b[A\n",
      "t:  87%|████████▋ | 53/61 [00:00<00:00, 76.42it/s, now=None]\u001b[A\n",
      "                                                            \u001b[A"
     ]
    },
    {
     "name": "stdout",
     "output_type": "stream",
     "text": [
      "Moviepy - Done !\n",
      "Moviepy - video ready /Volumes/programs/braintv/workgroups/nc-ophys/corbettb/motionscope/rot_trans_concatenated/dir_113_speed_200_sidebyside.mp4\n"
     ]
    },
    {
     "name": "stderr",
     "output_type": "stream",
     "text": [
      "\n",
      "t:   0%|          | 0/61 [00:00<?, ?it/s, now=None]\u001b[A"
     ]
    },
    {
     "name": "stdout",
     "output_type": "stream",
     "text": [
      "Moviepy - Building video /Volumes/programs/braintv/workgroups/nc-ophys/corbettb/motionscope/rot_trans_concatenated/dir_113_speed_400_sidebyside.mp4.\n",
      "Moviepy - Writing video /Volumes/programs/braintv/workgroups/nc-ophys/corbettb/motionscope/rot_trans_concatenated/dir_113_speed_400_sidebyside.mp4\n",
      "\n"
     ]
    },
    {
     "name": "stderr",
     "output_type": "stream",
     "text": [
      "\n",
      "t:   5%|▍         | 3/61 [00:00<00:03, 18.60it/s, now=None]\u001b[A\n",
      "t:  10%|▉         | 6/61 [00:00<00:02, 20.36it/s, now=None]\u001b[A\n",
      "t:  16%|█▋        | 10/61 [00:00<00:02, 23.62it/s, now=None]\u001b[A\n",
      "t:  41%|████      | 25/61 [00:00<00:01, 31.60it/s, now=None]\u001b[A\n",
      "t:  69%|██████▉   | 42/61 [00:00<00:00, 41.56it/s, now=None]\u001b[A\n",
      "t:  84%|████████▎ | 51/61 [00:00<00:00, 43.32it/s, now=None]\u001b[A\n",
      "t:  97%|█████████▋| 59/61 [00:00<00:00, 48.88it/s, now=None]\u001b[A\n",
      "                                                            \u001b[A"
     ]
    },
    {
     "name": "stdout",
     "output_type": "stream",
     "text": [
      "Moviepy - Done !\n",
      "Moviepy - video ready /Volumes/programs/braintv/workgroups/nc-ophys/corbettb/motionscope/rot_trans_concatenated/dir_113_speed_400_sidebyside.mp4\n"
     ]
    }
   ],
   "source": [
    "#mp4s for merged stimuli for testing\n",
    "pathname = r'/Volumes/programs/braintv/workgroups/nc-ophys/corbettb/motionscope/rot_trans_concatenated'\n",
    "for f in os.listdir(pathname):\n",
    "    if f.startswith('dir_11.3'):\n",
    "        rot_stim = np.load(os.path.join(pathname, f))\n",
    "        temp = np.repeat(rot_stim[:,:,:,np.newaxis], 3, axis=3)\n",
    "        clip = mpy.ImageSequenceClip([fr for fr in temp], fps=60)\n",
    "#         filename = f.split('.')[0]+'.mp4'\n",
    "        filename = ''.join(f.split('.')[:-1])+'.mp4'\n",
    "        clip.write_videofile(os.path.join(r'/Volumes/programs/braintv/workgroups/nc-ophys/corbettb/motionscope/rot_trans_concatenated',filename))"
   ]
  },
  {
   "cell_type": "code",
   "execution_count": 470,
   "metadata": {},
   "outputs": [
    {
     "data": {
      "text/plain": [
       "'linear_windowed_forward_center_-50-10_radius_10_speed_0096_dotNum_1429_speedAtCenter_19_radiusAtCenter_2_dotDensity_20_scaleFactor_40'"
      ]
     },
     "execution_count": 470,
     "metadata": {},
     "output_type": "execute_result"
    }
   ],
   "source": [
    "''.join(f.split('.')[:-1])"
   ]
  },
  {
   "cell_type": "code",
   "execution_count": 438,
   "metadata": {},
   "outputs": [
    {
     "name": "stderr",
     "output_type": "stream",
     "text": [
      "\r",
      "t:   0%|          | 0/61 [00:00<?, ?it/s, now=None]"
     ]
    },
    {
     "name": "stdout",
     "output_type": "stream",
     "text": [
      "Moviepy - Building video /Volumes/programs/braintv/workgroups/nc-ophys/Saskia/openscope_motion/windowed_translation_100_20.mp4.\n",
      "Moviepy - Writing video /Volumes/programs/braintv/workgroups/nc-ophys/Saskia/openscope_motion/windowed_translation_100_20.mp4\n",
      "\n"
     ]
    },
    {
     "name": "stderr",
     "output_type": "stream",
     "text": [
      "                                                            \r"
     ]
    },
    {
     "name": "stdout",
     "output_type": "stream",
     "text": [
      "Moviepy - Done !\n",
      "Moviepy - video ready /Volumes/programs/braintv/workgroups/nc-ophys/Saskia/openscope_motion/windowed_translation_100_20.mp4\n"
     ]
    }
   ],
   "source": [
    "temp = np.repeat(test_window[:,:,:,np.newaxis], 3, axis=3)\n",
    "clip = mpy.ImageSequenceClip([fr for fr in temp], fps=60)\n",
    "clip.write_videofile(r'/Volumes/programs/braintv/workgroups/nc-ophys/Saskia/openscope_motion/windowed_translation_100_20.mp4')"
   ]
  },
  {
   "cell_type": "code",
   "execution_count": 439,
   "metadata": {},
   "outputs": [
    {
     "name": "stderr",
     "output_type": "stream",
     "text": [
      "t:   7%|▋         | 4/61 [00:00<00:01, 39.06it/s, now=None]"
     ]
    },
    {
     "name": "stdout",
     "output_type": "stream",
     "text": [
      "Moviepy - Building video /Volumes/programs/braintv/workgroups/nc-ophys/Saskia/openscope_motion/translation_100_20.mp4.\n",
      "Moviepy - Writing video /Volumes/programs/braintv/workgroups/nc-ophys/Saskia/openscope_motion/translation_100_20.mp4\n",
      "\n"
     ]
    },
    {
     "name": "stderr",
     "output_type": "stream",
     "text": [
      "                                                            \r"
     ]
    },
    {
     "name": "stdout",
     "output_type": "stream",
     "text": [
      "Moviepy - Done !\n",
      "Moviepy - video ready /Volumes/programs/braintv/workgroups/nc-ophys/Saskia/openscope_motion/translation_100_20.mp4\n"
     ]
    }
   ],
   "source": [
    "temp = np.repeat(test[:,:,:,np.newaxis], 3, axis=3)\n",
    "clip = mpy.ImageSequenceClip([fr for fr in temp], fps=60)\n",
    "clip.write_videofile(r'/Volumes/programs/braintv/workgroups/nc-ophys/Saskia/openscope_motion/translation_100_20.mp4')"
   ]
  },
  {
   "cell_type": "code",
   "execution_count": 458,
   "metadata": {},
   "outputs": [
    {
     "name": "stderr",
     "output_type": "stream",
     "text": [
      "\n",
      "t:   0%|          | 0/61 [00:00<?, ?it/s, now=None]\u001b[A\n",
      "t:   5%|▍         | 3/61 [00:00<00:02, 26.77it/s, now=None]\u001b[A"
     ]
    },
    {
     "name": "stdout",
     "output_type": "stream",
     "text": [
      "Moviepy - Building video /Volumes/programs/braintv/workgroups/nc-ophys/Saskia/openscope_motion/translation_100_20_short.mp4.\n",
      "Moviepy - Writing video /Volumes/programs/braintv/workgroups/nc-ophys/Saskia/openscope_motion/translation_100_20_short.mp4\n",
      "\n"
     ]
    },
    {
     "name": "stderr",
     "output_type": "stream",
     "text": [
      "\n",
      "t:  28%|██▊       | 17/61 [00:00<00:01, 35.20it/s, now=None]\u001b[A\n",
      "t:  48%|████▊     | 29/61 [00:00<00:00, 44.49it/s, now=None]\u001b[A\n",
      "t:  66%|██████▌   | 40/61 [00:00<00:00, 54.16it/s, now=None]\u001b[A\n",
      "t:  79%|███████▊  | 48/61 [00:00<00:00, 53.85it/s, now=None]\u001b[A\n",
      "t:  93%|█████████▎| 57/61 [00:00<00:00, 60.60it/s, now=None]\u001b[A\n",
      "                                                            \u001b[A"
     ]
    },
    {
     "name": "stdout",
     "output_type": "stream",
     "text": [
      "Moviepy - Done !\n",
      "Moviepy - video ready /Volumes/programs/braintv/workgroups/nc-ophys/Saskia/openscope_motion/translation_100_20_short.mp4\n"
     ]
    }
   ],
   "source": [
    "temp = np.repeat(test_linear_short[:,:,:,np.newaxis], 3, axis=3)\n",
    "clip = mpy.ImageSequenceClip([fr for fr in temp], fps=60)\n",
    "clip.write_videofile(r'/Volumes/programs/braintv/workgroups/nc-ophys/Saskia/openscope_motion/translation_100_20_short.mp4')"
   ]
  },
  {
   "cell_type": "code",
   "execution_count": null,
   "metadata": {},
   "outputs": [],
   "source": []
  },
  {
   "cell_type": "code",
   "execution_count": null,
   "metadata": {
    "collapsed": true
   },
   "outputs": [],
   "source": [
    "#radius \n",
    "2.5 degree X 5 pixels/degree "
   ]
  },
  {
   "cell_type": "code",
   "execution_count": 265,
   "metadata": {},
   "outputs": [
    {
     "data": {
      "text/plain": [
       "12.5"
      ]
     },
     "execution_count": 265,
     "metadata": {},
     "output_type": "execute_result"
    }
   ],
   "source": [
    "2.5*5"
   ]
  },
  {
   "cell_type": "code",
   "execution_count": 266,
   "metadata": {},
   "outputs": [
    {
     "data": {
      "text/plain": [
       "7.5"
      ]
     },
     "execution_count": 266,
     "metadata": {},
     "output_type": "execute_result"
    }
   ],
   "source": [
    "1.5*5"
   ]
  },
  {
   "cell_type": "code",
   "execution_count": 267,
   "metadata": {},
   "outputs": [
    {
     "data": {
      "text/plain": [
       "5"
      ]
     },
     "execution_count": 267,
     "metadata": {},
     "output_type": "execute_result"
    }
   ],
   "source": [
    "1*5"
   ]
  },
  {
   "cell_type": "code",
   "execution_count": 314,
   "metadata": {
    "collapsed": true
   },
   "outputs": [],
   "source": [
    "def test_Rotation_left(dotNum, speed, radius):\n",
    "    centerPos=np.array([0,0])\n",
    "    pos = getNewDotPositions(dotNum) + centerPos\n",
    "    \n",
    "    posArray = np.empty((timePoints, dotNum, 2))\n",
    "    posArray[0,:,:] = pos\n",
    "    for i in range(1,timePoints):\n",
    "        posArray[i,:,0] = posArray[i-1,:,0] - speed*pixelsPerDegree*1/60.\n",
    "        posArray[i,:,1] = posArray[i-1,:,1]\n",
    "        if any(posArray[i,:,0]<0):\n",
    "            repopInds = np.where(posArray[i,:,0]<0)[0]\n",
    "#             print len(repopInds)\n",
    "            posArray[i,repopInds,0] = screenWidth#-1*posArray[i,repopInds,0]\n",
    "            posArray[i,repopInds,0] = np.random.randint(screenWidth-16, high=screenWidth+16, size=len(repopInds))\n",
    "    return posArray"
   ]
  },
  {
   "cell_type": "code",
   "execution_count": 308,
   "metadata": {},
   "outputs": [
    {
     "data": {
      "text/plain": [
       "array([280])"
      ]
     },
     "execution_count": 308,
     "metadata": {},
     "output_type": "execute_result"
    }
   ],
   "source": [
    "len(repopInds)"
   ]
  },
  {
   "cell_type": "code",
   "execution_count": 307,
   "metadata": {},
   "outputs": [
    {
     "data": {
      "text/plain": [
       "600"
      ]
     },
     "execution_count": 307,
     "metadata": {},
     "output_type": "execute_result"
    }
   ],
   "source": [
    "np.random.randint(screenWidth-8, high=screenWidth+8,)"
   ]
  },
  {
   "cell_type": "code",
   "execution_count": 315,
   "metadata": {
    "collapsed": true
   },
   "outputs": [],
   "source": [
    "posArray = test_Rotation_left(dotNum=300, speed=400, radius=5)"
   ]
  },
  {
   "cell_type": "code",
   "execution_count": 311,
   "metadata": {},
   "outputs": [
    {
     "data": {
      "text/plain": [
       "(70, 300, 2)"
      ]
     },
     "execution_count": 311,
     "metadata": {},
     "output_type": "execute_result"
    }
   ],
   "source": [
    "posArray.shape"
   ]
  },
  {
   "cell_type": "code",
   "execution_count": 339,
   "metadata": {},
   "outputs": [
    {
     "name": "stdout",
     "output_type": "stream",
     "text": [
      "/Volumes/programs/braintv/workgroups/nc-ophys/Saskia/openscope_motion/npyfiles_dec/rotation_dir_315_420_100_10\n",
      "127.01896180555555\n",
      "0.206979166667\n"
     ]
    }
   ],
   "source": [
    "posArray = make_Rotation_diag(dotNum=420, speed=100, radius=10)"
   ]
  },
  {
   "cell_type": "code",
   "execution_count": 340,
   "metadata": {},
   "outputs": [
    {
     "data": {
      "image/png": "[encoded data removed]",
      "text/plain": [
       "<Figure size 432x288 with 1 Axes>"
      ]
     },
     "metadata": {
      "needs_background": "light"
     },
     "output_type": "display_data"
    },
    {
     "data": {
      "application/vnd.jupyter.widget-view+json": {
       "model_id": "e8e64d17413d420b9995e3a9ff63f464",
       "version_major": 2,
       "version_minor": 0
      },
      "text/plain": [
       "aW50ZXJhY3RpdmUoY2hpbGRyZW49KEludFNsaWRlcih2YWx1ZT0wLCBkZXNjcmlwdGlvbj11J3gnLCBtYXg9NTkpLCBPdXRwdXQoKSksIF9kb21fY2xhc3Nlcz0odSd3aWRnZXQtaW50ZXJhY3TigKY=\n"
      ]
     },
     "metadata": {},
     "output_type": "display_data"
    }
   ],
   "source": [
    "from ipywidgets import widgets, interact, interactive\n",
    "from IPython.display import display\n",
    "from IPython.display import Image\n",
    "\n",
    "scaleFactor = 1/20.\n",
    "fig, ax = plt.subplots()\n",
    "ax.set_aspect('equal')\n",
    "def f(x=0):\n",
    "    patches = []\n",
    "    for p in posArray[x]:\n",
    "#         dist = ((p[0] - centerPos[0])**2 + (p[1]-centerPos[1])**2)**0.5\n",
    "        radius = 200*scaleFactor\n",
    "        patches.append(matplotlib.patches.Circle((p[0], p[1]), radius=radius, ec=[0,0,0], fc=[0,0,0]))\n",
    "#         ax.add_artist(matplotlib.patches.Circle((p[0], p[1]), radius=radius, ec=[0,0,0], fc=[0,0,0]))\n",
    "    \n",
    "    collection = PatchCollection(patches)\n",
    "    ax = plt.gca()\n",
    "    ax.set_aspect('equal')\n",
    "#     ax.add_collection(collection)\n",
    "    for p in patches:\n",
    "        ax.add_artist(p)\n",
    "#     ax.set_ylim([-45, 45])\n",
    "#     ax.set_xlim([-70, 70])\n",
    "#         ax.set_ylim([-45*pixelsPerDegree, 45*pixelsPerDegree])\n",
    "#         ax.set_xlim([-70*pixelsPerDegree, 70*pixelsPerDegree])\n",
    "        ax.set_ylim([0, 90*pixelsPerDegree])\n",
    "        ax.set_xlim([0, 140*pixelsPerDegree])\n",
    "\n",
    "#     ax.axis('off')\n",
    "    \n",
    "interact(f, x=(0,timePoints-1,1));"
   ]
  },
  {
   "cell_type": "code",
   "execution_count": 325,
   "metadata": {},
   "outputs": [
    {
     "data": {
      "text/plain": [
       "336"
      ]
     },
     "execution_count": 325,
     "metadata": {},
     "output_type": "execute_result"
    }
   ],
   "source": [
    "168*2"
   ]
  },
  {
   "cell_type": "code",
   "execution_count": 326,
   "metadata": {},
   "outputs": [
    {
     "data": {
      "text/plain": [
       "3600"
      ]
     },
     "execution_count": 326,
     "metadata": {},
     "output_type": "execute_result"
    }
   ],
   "source": [
    "60*60"
   ]
  },
  {
   "cell_type": "code",
   "execution_count": 327,
   "metadata": {},
   "outputs": [
    {
     "data": {
      "text/plain": [
       "10.714285714285714"
      ]
     },
     "execution_count": 327,
     "metadata": {},
     "output_type": "execute_result"
    }
   ],
   "source": [
    "3600/336."
   ]
  },
  {
   "cell_type": "code",
   "execution_count": 328,
   "metadata": {},
   "outputs": [
    {
     "data": {
      "text/plain": [
       "21.428571428571427"
      ]
     },
     "execution_count": 328,
     "metadata": {},
     "output_type": "execute_result"
    }
   ],
   "source": [
    "3600/168."
   ]
  },
  {
   "cell_type": "markdown",
   "metadata": {},
   "source": [
    "### Build sequence"
   ]
  },
  {
   "cell_type": "markdown",
   "metadata": {},
   "source": [
    "- 72 translation conditions\n",
    "- 108 rotation conditions\n",
    "- 2 second sweeps\n"
   ]
  },
  {
   "cell_type": "code",
   "execution_count": 467,
   "metadata": {},
   "outputs": [
    {
     "data": {
      "text/plain": [
       "array([111, 173, 102, ...,  98,  90,  42])"
      ]
     },
     "execution_count": 467,
     "metadata": {},
     "output_type": "execute_result"
    }
   ],
   "source": [
    "arr = np.mod(range(1800), 180)\n",
    "np.random.shuffle(arr)\n",
    "arr"
   ]
  },
  {
   "cell_type": "code",
   "execution_count": 469,
   "metadata": {
    "collapsed": true
   },
   "outputs": [],
   "source": [
    "ds_dict_2 = {}\n",
    "for i in range(180):\n",
    "    ds = []\n",
    "    ds_start = np.where(arr==i)[0]\n",
    "    for st in ds_start:\n",
    "        ds.append((st*2, (st*2)+1))\n",
    "    ds_dict_2[str(i)] = ds"
   ]
  },
  {
   "cell_type": "code",
   "execution_count": 470,
   "metadata": {
    "collapsed": true
   },
   "outputs": [],
   "source": [
    "with open(r'/Users/saskiad/openscope_motion/stimulus/ds_dict_two.pkl', 'wb') as f:\n",
    "    pickle.dump(ds_dict_2, f)"
   ]
  },
  {
   "cell_type": "code",
   "execution_count": 451,
   "metadata": {},
   "outputs": [
    {
     "data": {
      "text/plain": [
       "array([112, 133, 105, ...,  44,  58,  93])"
      ]
     },
     "execution_count": 451,
     "metadata": {},
     "output_type": "execute_result"
    }
   ],
   "source": [
    "arr2 = np.mod(range(1800), 180)\n",
    "np.random.shuffle(arr2)\n",
    "arr2"
   ]
  },
  {
   "cell_type": "code",
   "execution_count": 468,
   "metadata": {},
   "outputs": [
    {
     "name": "stdout",
     "output_type": "stream",
     "text": [
      "[  23  212  558  666  759  780  842 1194 1286 1459]\n"
     ]
    }
   ],
   "source": [
    "i=178\n",
    "print np.where(arr==i)[0]"
   ]
  },
  {
   "cell_type": "code",
   "execution_count": 463,
   "metadata": {
    "collapsed": true
   },
   "outputs": [],
   "source": [
    "ds_dict = {}\n",
    "for i in range(180):\n",
    "    ds = []\n",
    "    ds_start = np.where(arr2==i)[0]\n",
    "    for st in ds_start:\n",
    "        ds.append((st*2, (st*2)+1))\n",
    "    ds_dict[str(i)] = ds"
   ]
  },
  {
   "cell_type": "code",
   "execution_count": 465,
   "metadata": {},
   "outputs": [
    {
     "data": {
      "text/plain": [
       "[(142, 143),\n",
       " (198, 199),\n",
       " (308, 309),\n",
       " (758, 759),\n",
       " (762, 763),\n",
       " (1496, 1497),\n",
       " (1546, 1547),\n",
       " (2656, 2657),\n",
       " (3196, 3197),\n",
       " (3558, 3559)]"
      ]
     },
     "execution_count": 465,
     "metadata": {},
     "output_type": "execute_result"
    }
   ],
   "source": [
    "ds_dict['173']"
   ]
  },
  {
   "cell_type": "code",
   "execution_count": 375,
   "metadata": {
    "collapsed": true
   },
   "outputs": [],
   "source": [
    "np.save(r'/Users/saskiad/openscope_motion/stimulus/ds_dict_one.npy',ds_dict)"
   ]
  },
  {
   "cell_type": "code",
   "execution_count": 379,
   "metadata": {
    "collapsed": true
   },
   "outputs": [],
   "source": [
    "import cPickle as pickle"
   ]
  },
  {
   "cell_type": "code",
   "execution_count": 466,
   "metadata": {
    "collapsed": true
   },
   "outputs": [],
   "source": [
    "with open(r'/Users/saskiad/openscope_motion/stimulus/ds_dict_one.pkl', 'wb') as f:\n",
    "    pickle.dump(ds_dict, f)"
   ]
  },
  {
   "cell_type": "code",
   "execution_count": 471,
   "metadata": {
    "collapsed": true
   },
   "outputs": [],
   "source": [
    "with open(r'/Users/saskiad/openscope_motion/stimulus/ds_dict_one.pkl', 'rb') as f:\n",
    "    temp = pickle.load(f)"
   ]
  },
  {
   "cell_type": "code",
   "execution_count": 474,
   "metadata": {},
   "outputs": [
    {
     "data": {
      "text/plain": [
       "[(236, 237),\n",
       " (460, 461),\n",
       " (520, 521),\n",
       " (540, 541),\n",
       " (604, 605),\n",
       " (660, 661),\n",
       " (1316, 1317),\n",
       " (1374, 1375),\n",
       " (2358, 2359),\n",
       " (2640, 2641)]"
      ]
     },
     "execution_count": 474,
     "metadata": {},
     "output_type": "execute_result"
    }
   ],
   "source": [
    "temp['178']"
   ]
  },
  {
   "cell_type": "code",
   "execution_count": 476,
   "metadata": {
    "collapsed": true
   },
   "outputs": [],
   "source": [
    "with open(r'/Users/saskiad/openscope_motion/stimulus/ds_dict_two.pkl', 'rb') as f:\n",
    "    temp2 = pickle.load(f)"
   ]
  },
  {
   "cell_type": "code",
   "execution_count": 478,
   "metadata": {},
   "outputs": [
    {
     "data": {
      "text/plain": [
       "[(46, 47),\n",
       " (424, 425),\n",
       " (1116, 1117),\n",
       " (1332, 1333),\n",
       " (1518, 1519),\n",
       " (1560, 1561),\n",
       " (1684, 1685),\n",
       " (2388, 2389),\n",
       " (2572, 2573),\n",
       " (2918, 2919)]"
      ]
     },
     "execution_count": 478,
     "metadata": {},
     "output_type": "execute_result"
    }
   ],
   "source": [
    "temp2['178']"
   ]
  },
  {
   "cell_type": "code",
   "execution_count": null,
   "metadata": {
    "collapsed": true
   },
   "outputs": [],
   "source": []
  },
  {
   "cell_type": "code",
   "execution_count": 496,
   "metadata": {},
   "outputs": [
    {
     "data": {
      "text/plain": [
       "816"
      ]
     },
     "execution_count": 496,
     "metadata": {},
     "output_type": "execute_result"
    }
   ],
   "source": [
    "ds_dict['0'][2][0]"
   ]
  },
  {
   "cell_type": "code",
   "execution_count": 501,
   "metadata": {
    "collapsed": true
   },
   "outputs": [],
   "source": [
    "start_times = []\n",
    "for key in ds_dict.keys():\n",
    "    for a in ds_dict[key]:\n",
    "        start_times.append(a[0])"
   ]
  },
  {
   "cell_type": "code",
   "execution_count": 502,
   "metadata": {
    "collapsed": true
   },
   "outputs": [],
   "source": [
    "temp = np.array(start_times).sort()"
   ]
  },
  {
   "cell_type": "code",
   "execution_count": 506,
   "metadata": {},
   "outputs": [
    {
     "data": {
      "text/plain": [
       "[<matplotlib.lines.Line2D at 0x11ddb3d10>]"
      ]
     },
     "execution_count": 506,
     "metadata": {},
     "output_type": "execute_result"
    },
    {
     "data": {
      "image/png": "[encoded data removed]",
      "text/plain": [
       "<matplotlib.figure.Figure at 0x11313fbd0>"
      ]
     },
     "metadata": {},
     "output_type": "display_data"
    }
   ],
   "source": [
    "plt.plot(np.ediff1d(np.sort(np.array(start_times))))"
   ]
  },
  {
   "cell_type": "markdown",
   "metadata": {},
   "source": [
    "### making ds for checkerboard stimulus where each trial is a different length"
   ]
  },
  {
   "cell_type": "markdown",
   "metadata": {},
   "source": [
    "five conditions, length 1,2,4,8,10"
   ]
  },
  {
   "cell_type": "code",
   "execution_count": 400,
   "metadata": {
    "collapsed": true
   },
   "outputs": [],
   "source": [
    "stim = ['a','b','c','d','e']\n",
    "trial_length = [1,2,4,8,10]"
   ]
  },
  {
   "cell_type": "code",
   "execution_count": 403,
   "metadata": {},
   "outputs": [
    {
     "name": "stdout",
     "output_type": "stream",
     "text": [
      "a 1\n",
      "b 2\n",
      "c 4\n",
      "d 8\n",
      "e 10\n"
     ]
    }
   ],
   "source": [
    "for (stimname, length) in zip(stim, trial_length):\n",
    "    print stimname, length"
   ]
  },
  {
   "cell_type": "code",
   "execution_count": 432,
   "metadata": {},
   "outputs": [
    {
     "data": {
      "text/plain": [
       "269.5"
      ]
     },
     "execution_count": 432,
     "metadata": {},
     "output_type": "execute_result"
    }
   ],
   "source": [
    "np.array(trial_length).sum() + (36*2)"
   ]
  },
  {
   "cell_type": "code",
   "execution_count": 433,
   "metadata": {},
   "outputs": [
    {
     "data": {
      "text/plain": [
       "13.358070500927644"
      ]
     },
     "execution_count": 433,
     "metadata": {},
     "output_type": "execute_result"
    }
   ],
   "source": [
    "3600/269.5"
   ]
  },
  {
   "cell_type": "code",
   "execution_count": 434,
   "metadata": {},
   "outputs": [
    {
     "data": {
      "text/plain": [
       "432"
      ]
     },
     "execution_count": 434,
     "metadata": {},
     "output_type": "execute_result"
    }
   ],
   "source": [
    "36*12"
   ]
  },
  {
   "cell_type": "code",
   "execution_count": 435,
   "metadata": {},
   "outputs": [
    {
     "data": {
      "text/plain": [
       "array([ 3, 14,  1, 13, 27,  9, 12, 15, 13, 15, 19, 32,  7,  5, 31, 22, 10,\n",
       "       27, 32, 29, 24,  8, 26, 10, 27,  0, 30,  3, 26,  5, 33,  9,  3,  7,\n",
       "       12, 33,  8, 17, 33, 14, 15,  9, 26, 22, 11, 10, 28, 13, 10, 19, 33,\n",
       "        8, 16, 23, 17, 19,  2, 10, 13, 16, 23, 26,  9, 14, 23, 15, 18, 29,\n",
       "       29, 25, 11, 21,  7,  0,  6, 22, 24, 29,  6, 31, 16, 24, 20, 20, 30,\n",
       "        6, 19,  2, 17,  2,  8, 22, 20,  1, 13, 25, 12, 30, 27, 18,  1, 29,\n",
       "       25,  3, 16, 31, 20,  3,  3, 25, 24,  2, 14, 25, 31, 35, 17, 28, 25,\n",
       "        2, 18,  6, 10, 16,  2, 26, 27, 35, 24, 30,  8,  2,  9,  4, 12, 12,\n",
       "        1,  5, 13, 24,  0, 33,  5, 27, 17, 24,  0, 19, 12, 28,  5, 24, 34,\n",
       "       33, 29,  5, 15, 26, 34, 35, 20,  4, 17, 18, 28, 15,  5,  7, 16, 22,\n",
       "       21, 18, 30, 20, 30, 16, 16, 22, 13, 14, 27, 10, 26, 12,  3, 28, 13,\n",
       "        4, 35, 25, 18, 18,  7, 27, 20, 23, 21, 28,  3, 23, 30,  9, 17, 22,\n",
       "        2, 20, 12,  0, 24, 21, 20, 11, 26,  6, 31, 29, 35, 17, 21, 21,  6,\n",
       "       27, 12,  0, 16, 30, 11,  1, 17,  6, 35, 18, 18, 19,  0, 32,  1,  7,\n",
       "       17, 35, 32,  4, 17, 34,  4, 12,  6, 23,  5, 11, 28, 15, 33,  3, 35,\n",
       "       11, 29, 20, 22, 33, 14,  8, 10,  3,  2,  7,  4,  4,  1, 12, 30, 19,\n",
       "       21, 21,  5,  1,  7, 26, 27, 32,  3, 10, 34,  9, 32, 22, 12, 14, 31,\n",
       "        7, 19,  6, 14, 15, 33, 10,  6, 31, 35, 13, 34, 22, 31, 29, 19, 21,\n",
       "       18, 13, 23, 16, 18, 26, 11, 29, 31, 13, 16, 23, 33, 17, 31,  4,  8,\n",
       "       34, 25,  2, 35, 22,  6,  4,  8,  0,  6, 18, 31,  7, 23,  9, 23, 25,\n",
       "        4, 10,  4,  5,  5, 14, 29,  5, 34, 26, 28, 24,  2,  9,  0,  7, 34,\n",
       "        1, 32,  0, 25, 33,  8, 20, 33, 25,  9, 11, 32, 11, 27,  9,  1,  8,\n",
       "       23,  8, 23, 31, 24, 24,  0, 11,  8, 21, 19,  1, 30,  7, 13, 32, 34,\n",
       "       21, 10, 25, 11, 35, 19, 15, 30,  2,  3, 15, 14, 11, 20, 27, 28, 21,\n",
       "       30, 32, 32,  4, 29, 15, 22, 19, 34, 26, 15, 28,  9, 35, 28, 14, 32,\n",
       "       34, 34,  0, 14,  1, 16, 28])"
      ]
     },
     "execution_count": 435,
     "metadata": {},
     "output_type": "execute_result"
    }
   ],
   "source": [
    "arr3 = np.mod(range(0,432),36)\n",
    "np.random.shuffle(arr3)\n",
    "arr3"
   ]
  },
  {
   "cell_type": "code",
   "execution_count": 437,
   "metadata": {},
   "outputs": [
    {
     "data": {
      "text/plain": [
       "12"
      ]
     },
     "execution_count": 437,
     "metadata": {},
     "output_type": "execute_result"
    }
   ],
   "source": [
    "len(np.where(arr3==23)[0])"
   ]
  },
  {
   "cell_type": "code",
   "execution_count": 423,
   "metadata": {
    "collapsed": true
   },
   "outputs": [],
   "source": [
    "trial_length = [2, 8.4, 8.4, 2.4, 2.4, 8.8, 8.8, 2.5, 2.5, 8.2, 8.4, 2.4, 2.4, 8.8,2.5,2.5,8.2, 8.4, 2.4, 2.4, 8.8, 2.5, 2.5, 2.4, 8.4, 8.4, 2.4, 8.8, 8.8, 2.5, 2.4, 8.4, 8.4, 2.4, 8.8, 8.8]"
   ]
  },
  {
   "cell_type": "code",
   "execution_count": null,
   "metadata": {
    "collapsed": true
   },
   "outputs": [],
   "source": []
  },
  {
   "cell_type": "code",
   "execution_count": 438,
   "metadata": {
    "collapsed": true
   },
   "outputs": [],
   "source": [
    "ds_dict = {k: [] for k in range(36)}\n",
    "timepoint = 0\n",
    "for a in arr3:\n",
    "    ds_dict[a].append((timepoint, timepoint+trial_length[a]))\n",
    "    timepoint += trial_length[a] + 2\n",
    "    "
   ]
  },
  {
   "cell_type": "code",
   "execution_count": 439,
   "metadata": {},
   "outputs": [
    {
     "data": {
      "text/plain": [
       "[(196.90000000000006, 198.90000000000006),\n",
       " (505.49999999999966, 507.49999999999966),\n",
       " (1076.1999999999987, 1078.1999999999987),\n",
       " (1126.9999999999989, 1128.9999999999989),\n",
       " (1576.9000000000005, 1578.9000000000005),\n",
       " (1697.3000000000009, 1699.3000000000009),\n",
       " (1775.9000000000015, 1777.9000000000015),\n",
       " (2475.9000000000074, 2477.9000000000074),\n",
       " (2657.000000000009, 2659.000000000009),\n",
       " (2697.1000000000095, 2699.1000000000095),\n",
       " (2855.8000000000106, 2857.8000000000106),\n",
       " (3194.1000000000145, 3196.1000000000145)]"
      ]
     },
     "execution_count": 439,
     "metadata": {},
     "output_type": "execute_result"
    }
   ],
   "source": [
    "ds_dict[0]"
   ]
  },
  {
   "cell_type": "code",
   "execution_count": 440,
   "metadata": {},
   "outputs": [
    {
     "data": {
      "text/plain": [
       "[(8.9, 17.3),\n",
       " (673.6999999999992, 682.0999999999992),\n",
       " (729.299999999999, 737.699999999999),\n",
       " (1033.7999999999986, 1042.1999999999987),\n",
       " (1720.300000000001, 1728.7000000000012),\n",
       " (1790.3000000000015, 1798.7000000000016),\n",
       " (2012.6000000000029, 2021.000000000003),\n",
       " (2056.000000000003, 2064.4000000000033),\n",
       " (2676.3000000000093, 2684.7000000000094),\n",
       " (2796.40000000001, 2804.80000000001),\n",
       " (2877.600000000011, 2886.000000000011),\n",
       " (3202.6000000000145, 3211.0000000000146)]"
      ]
     },
     "execution_count": 440,
     "metadata": {},
     "output_type": "execute_result"
    }
   ],
   "source": [
    "ds_dict[1]"
   ]
  },
  {
   "cell_type": "code",
   "execution_count": 441,
   "metadata": {},
   "outputs": [
    {
     "data": {
      "text/plain": [
       "[(394.09999999999985, 402.49999999999983),\n",
       " (622.6999999999994, 631.0999999999993),\n",
       " (643.4999999999993, 651.8999999999993),\n",
       " (819.9999999999989, 828.3999999999988),\n",
       " (898.0999999999987, 906.4999999999986),\n",
       " (944.2999999999986, 952.6999999999986),\n",
       " (999.9999999999984, 1008.3999999999984),\n",
       " (1551.3000000000004, 1559.7000000000005),\n",
       " (1988.9000000000026, 1997.3000000000027),\n",
       " (2430.500000000007, 2438.900000000007),\n",
       " (2636.400000000009, 2644.8000000000093),\n",
       " (2982.700000000012, 2991.100000000012)]"
      ]
     },
     "execution_count": 441,
     "metadata": {},
     "output_type": "execute_result"
    }
   ],
   "source": [
    "ds_dict[2]"
   ]
  },
  {
   "cell_type": "code",
   "execution_count": 442,
   "metadata": {},
   "outputs": [
    {
     "data": {
      "text/plain": [
       "[(0, 2.4),\n",
       " (205.30000000000007, 207.70000000000007),\n",
       " (239.50000000000009, 241.9000000000001),\n",
       " (754.599999999999, 756.999999999999),\n",
       " (790.399999999999, 792.7999999999989),\n",
       " (794.7999999999989, 797.1999999999989),\n",
       " (1406.7999999999997, 1409.1999999999998),\n",
       " (1513.0, 1515.4),\n",
       " (1921.3000000000022, 1923.7000000000023),\n",
       " (1984.5000000000025, 1986.9000000000026),\n",
       " (2096.5000000000036, 2098.9000000000037),\n",
       " (2993.100000000012, 2995.5000000000123)]"
      ]
     },
     "execution_count": 442,
     "metadata": {},
     "output_type": "execute_result"
    }
   ],
   "source": [
    "ds_dict[3]"
   ]
  },
  {
   "cell_type": "code",
   "execution_count": 443,
   "metadata": {},
   "outputs": [
    {
     "data": {
      "text/plain": [
       "[(1020.5999999999984, 1022.9999999999984),\n",
       " (1243.599999999999, 1245.999999999999),\n",
       " (1432.7999999999997, 1435.1999999999998),\n",
       " (1836.8000000000018, 1839.2000000000019),\n",
       " (1862.400000000002, 1864.800000000002),\n",
       " (2003.8000000000027, 2006.2000000000028),\n",
       " (2008.2000000000028, 2010.6000000000029),\n",
       " (2400.4000000000065, 2402.8000000000065),\n",
       " (2467.0000000000073, 2469.4000000000074),\n",
       " (2539.400000000008, 2541.800000000008),\n",
       " (2554.200000000008, 2556.600000000008),\n",
       " (3073.000000000013, 3075.4000000000133)]"
      ]
     },
     "execution_count": 443,
     "metadata": {},
     "output_type": "execute_result"
    }
   ],
   "source": [
    "ds_dict[4]"
   ]
  },
  {
   "cell_type": "code",
   "execution_count": 444,
   "metadata": {
    "collapsed": true
   },
   "outputs": [],
   "source": [
    "with open(r'/Users/saskiad/openscope_motion/stimulus/ds_dict_checkerboard.pkl', 'wb') as f:\n",
    "    pickle.dump(ds_dict, f)"
   ]
  },
  {
   "cell_type": "code",
   "execution_count": 508,
   "metadata": {
    "collapsed": true
   },
   "outputs": [],
   "source": [
    "with open(r'/Users/saskiad/openscope_motion/stimulus/ds_dict_checkerboard.pkl', 'rb') as f:\n",
    "    temp = pickle.load(f)"
   ]
  },
  {
   "cell_type": "code",
   "execution_count": 509,
   "metadata": {},
   "outputs": [
    {
     "data": {
      "text/plain": [
       "[0,\n",
       " 1,\n",
       " 2,\n",
       " 3,\n",
       " 4,\n",
       " 5,\n",
       " 6,\n",
       " 7,\n",
       " 8,\n",
       " 9,\n",
       " 10,\n",
       " 11,\n",
       " 12,\n",
       " 13,\n",
       " 14,\n",
       " 15,\n",
       " 16,\n",
       " 17,\n",
       " 18,\n",
       " 19,\n",
       " 20,\n",
       " 21,\n",
       " 22,\n",
       " 23,\n",
       " 24,\n",
       " 25,\n",
       " 26,\n",
       " 27,\n",
       " 28,\n",
       " 29,\n",
       " 30,\n",
       " 31,\n",
       " 32,\n",
       " 33,\n",
       " 34,\n",
       " 35]"
      ]
     },
     "execution_count": 509,
     "metadata": {},
     "output_type": "execute_result"
    }
   ],
   "source": [
    "temp.keys()"
   ]
  },
  {
   "cell_type": "code",
   "execution_count": null,
   "metadata": {
    "collapsed": true
   },
   "outputs": [],
   "source": []
  }
 ],
 "metadata": {
  "kernelspec": {
   "display_name": "Python 2",
   "language": "python",
   "name": "python2"
  },
  "language_info": {
   "codemirror_mode": {
    "name": "ipython",
    "version": 2
   },
   "file_extension": ".py",
   "mimetype": "text/x-python",
   "name": "python",
   "nbconvert_exporter": "python",
   "pygments_lexer": "ipython2",
   "version": "2.7.16"
  }
 },
 "nbformat": 4,
 "nbformat_minor": 2
}
