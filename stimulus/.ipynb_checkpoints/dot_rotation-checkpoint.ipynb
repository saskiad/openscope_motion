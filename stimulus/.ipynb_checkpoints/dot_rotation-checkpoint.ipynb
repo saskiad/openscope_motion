{
 "cells": [
  {
   "cell_type": "code",
   "execution_count": 277,
   "metadata": {
    "collapsed": true
   },
   "outputs": [],
   "source": [
    "import os"
   ]
  },
  {
   "cell_type": "code",
   "execution_count": 1,
   "metadata": {
    "collapsed": true
   },
   "outputs": [],
   "source": [
    "import numpy as np\n",
    "import matplotlib.pyplot as plt\n",
    "import matplotlib.patches\n",
    "import time\n",
    "from matplotlib.collections import PatchCollection\n",
    "%matplotlib inline"
   ]
  },
  {
   "cell_type": "code",
   "execution_count": 58,
   "metadata": {
    "collapsed": true
   },
   "outputs": [],
   "source": [
    "import cv2"
   ]
  },
  {
   "cell_type": "code",
   "execution_count": 94,
   "metadata": {
    "collapsed": true
   },
   "outputs": [],
   "source": [
    "# function to generate random dot positions at specified distance range from center\n",
    "# def getNewDotPositions(dotNum, minDist=5*pixelsPerDegree, maxDist=90*pixelsPerDegree):\n",
    "# def getNewDotPositions(dotNum, minDist=0, maxDist=1130):\n",
    "# #     dists = np.random.uniform(minDist, maxDist, size=dotNum)\n",
    "#     dists = np.random.randint(minDist, high=maxDist, size=dotNum)\n",
    "#     angles = np.pi * np.random.uniform(0, 2, size=dotNum)\n",
    "#     x = dists * np.cos(angles)\n",
    "#     y = dists * np.sin(angles)\n",
    "#     return np.stack([x,y]).T\n",
    "\n",
    "def getNewDotPositions(dotNum):\n",
    "    x = np.random.randint(0, high=screenWidth, size=dotNum)\n",
    "    y = np.random.randint(0, high=screenHeight, size=dotNum)\n",
    "    return np.stack([x,y]).T"
   ]
  },
  {
   "cell_type": "code",
   "execution_count": 479,
   "metadata": {
    "collapsed": true
   },
   "outputs": [],
   "source": [
    "viewingDistance = 100\n",
    "radius = 10\n",
    "speed = 40#1\n",
    "dotNum = 300\n",
    "timePoints = 60#1000\n",
    "pixelsPerDegree = 10/2 \n",
    "screenHeight = 1960/2\n",
    "screenWidth = 1200/2"
   ]
  },
  {
   "cell_type": "code",
   "execution_count": 215,
   "metadata": {
    "collapsed": true
   },
   "outputs": [],
   "source": [
    "#pick dots at random screen positions with respect to center point\n",
    "# centerPos=np.array([-60*pixelsPerDegree,-20*pixelsPerDegree])\n",
    "centerPos=np.array([0,0])\n",
    "pos = getNewDotPositions(dotNum) + centerPos\n"
   ]
  },
  {
   "cell_type": "code",
   "execution_count": 216,
   "metadata": {
    "collapsed": true
   },
   "outputs": [],
   "source": [
    "#trying different method\n",
    "posArray = np.empty((timePoints, dotNum, 2))\n",
    "posArray[0,:,:] = pos\n",
    "for i in range(1,timePoints):\n",
    "    posArray[i,:,0] = posArray[i-1,:,0] + speed*pixelsPerDegree*1/60.\n",
    "    posArray[i,:,1] = posArray[i-1,:,1]\n",
    "    if any(np.abs(posArray[i,:,0])>screenWidth):\n",
    "        repopInds = np.where(np.abs(posArray[i,:,0])>screenWidth)[0]\n",
    "        posArray[i,repopInds,0] = 0#-1*posArray[i,repopInds,0]\n",
    "        "
   ]
  },
  {
   "cell_type": "code",
   "execution_count": 217,
   "metadata": {
    "collapsed": true
   },
   "outputs": [],
   "source": [
    "dotColors = [0, 254]\n",
    "dotColorAssignments = np.random.choice(dotColors, dotNum)\n",
    "\n",
    "backgroundColor=127\n",
    "im_array = []\n",
    "for points in posArray:\n",
    "    im = np.ones([screenHeight, screenWidth])*backgroundColor\n",
    "    for p,c in zip(points, dotColorAssignments):\n",
    "        \n",
    "#         radius = np.min([dist, dist180])*self.scaleFactor\n",
    "        radius = 8\n",
    "        cv2.circle(im, tuple(np.round(p).astype(np.int)), int(radius), int(c), -1)\n",
    "    im_array.append(im.astype(np.uint8))"
   ]
  },
  {
   "cell_type": "code",
   "execution_count": 218,
   "metadata": {
    "collapsed": true
   },
   "outputs": [],
   "source": [
    "saveDir = (r'/Volumes/Brain2018/Openscope_Motion/rotation_right_+'+str(dotNum)+'_'+str(speed)+'.npz')\n",
    "\n",
    "np.savez_compressed(saveDir, im_array=im_array)"
   ]
  },
  {
   "cell_type": "code",
   "execution_count": 235,
   "metadata": {
    "collapsed": true
   },
   "outputs": [],
   "source": [
    "test = np.array(im_array)"
   ]
  },
  {
   "cell_type": "code",
   "execution_count": 220,
   "metadata": {},
   "outputs": [
    {
     "data": {
      "text/plain": [
       "(70, 960, 600)"
      ]
     },
     "execution_count": 220,
     "metadata": {},
     "output_type": "execute_result"
    }
   ],
   "source": [
    "test.shape"
   ]
  },
  {
   "cell_type": "code",
   "execution_count": 236,
   "metadata": {},
   "outputs": [
    {
     "data": {
      "text/plain": [
       "<matplotlib.image.AxesImage at 0x1131bfed0>"
      ]
     },
     "execution_count": 236,
     "metadata": {},
     "output_type": "execute_result"
    },
    {
     "data": {
      "image/png": "[encoded data removed]",
      "text/plain": [
       "<matplotlib.figure.Figure at 0x1125cee10>"
      ]
     },
     "metadata": {},
     "output_type": "display_data"
    }
   ],
   "source": [
    "plt.imshow(test[20,:,:].T, cmap='gray')"
   ]
  },
  {
   "cell_type": "code",
   "execution_count": 237,
   "metadata": {},
   "outputs": [
    {
     "data": {
      "text/plain": [
       "126.40512847222222"
      ]
     },
     "execution_count": 237,
     "metadata": {},
     "output_type": "execute_result"
    }
   ],
   "source": [
    "test[0,:,:].mean()"
   ]
  },
  {
   "cell_type": "code",
   "execution_count": 238,
   "metadata": {},
   "outputs": [
    {
     "data": {
      "text/plain": [
       "0.10597379456536767"
      ]
     },
     "execution_count": 238,
     "metadata": {},
     "output_type": "execute_result"
    }
   ],
   "source": [
    "(len(np.where(test[0,:,:]>127)[0])+len(np.where(test[0,:,:]<127)[0]))/float(len(np.where(test[0,:,:]==127)[0]))"
   ]
  },
  {
   "cell_type": "code",
   "execution_count": null,
   "metadata": {
    "collapsed": true
   },
   "outputs": [],
   "source": []
  },
  {
   "cell_type": "code",
   "execution_count": 486,
   "metadata": {
    "collapsed": true
   },
   "outputs": [],
   "source": [
    "def make_Rotation(dotNum, speed, radius):\n",
    "    centerPos=np.array([0,0])\n",
    "    pos = getNewDotPositions(dotNum) + centerPos\n",
    "    \n",
    "    posArray = np.empty((timePoints, dotNum, 2))\n",
    "    posArray[0,:,:] = pos\n",
    "    for i in range(1,timePoints):\n",
    "        posArray[i,:,0] = posArray[i-1,:,0] + speed*pixelsPerDegree*1/60.\n",
    "        posArray[i,:,1] = posArray[i-1,:,1]\n",
    "        if any(np.abs(posArray[i,:,0])>screenWidth):\n",
    "            repopInds = np.where(np.abs(posArray[i,:,0])>screenWidth)[0]\n",
    "            posArray[i,repopInds,0] = 0#-1*posArray[i,repopInds,0]\n",
    "#             posArray[i,repopInds,0] = np.random.randint(-16, high=16, size=len(repopInds))\n",
    "    \n",
    "    dotColors = [0, 254]\n",
    "    dotColorAssignments = np.random.choice(dotColors, dotNum)\n",
    "\n",
    "    backgroundColor=127\n",
    "    im_array = []\n",
    "    for points in posArray:\n",
    "        im = np.ones([screenHeight, screenWidth])*backgroundColor\n",
    "        for p,c in zip(points, dotColorAssignments):\n",
    "\n",
    "    #         radius = np.min([dist, dist180])*self.scaleFactor\n",
    "#             radius = 8\n",
    "            cv2.circle(im, tuple(np.round(p).astype(np.int)), int(radius), int(c), -1)\n",
    "        im_array.append(im.astype(np.uint8))\n",
    "    \n",
    "    saveDir = (r'/Volumes/Brain2018/Openscope_Motion/new_npyfiles/rotation_right_'+str(dotNum)+'_'+str(speed)+'_'+str(radius))\n",
    "    print saveDir\n",
    "#     np.savez_compressed(saveDir, im_array=im_array)\n",
    "    np.save(saveDir, im_array)\n",
    "    \n",
    "    test = np.array(im_array)\n",
    "#     print test[0,:,:].mean()\n",
    "#     print (len(np.where(test[0,:,:]>127)[0])+len(np.where(test[0,:,:]<127)[0]))/float(len(np.where(test[0,:,:]==127)[0]))"
   ]
  },
  {
   "cell_type": "code",
   "execution_count": 485,
   "metadata": {},
   "outputs": [
    {
     "name": "stdout",
     "output_type": "stream",
     "text": [
      "/Volumes/Brain2018/Openscope_Motion/new_npyfiles/rotation_right_300_200_5\n",
      "/Volumes/Brain2018/Openscope_Motion/new_npyfiles/rotation_right_300_200_8\n",
      "/Volumes/Brain2018/Openscope_Motion/new_npyfiles/rotation_right_300_200_12\n",
      "/Volumes/Brain2018/Openscope_Motion/new_npyfiles/rotation_right_300_400_5\n",
      "/Volumes/Brain2018/Openscope_Motion/new_npyfiles/rotation_right_300_400_8\n",
      "/Volumes/Brain2018/Openscope_Motion/new_npyfiles/rotation_right_300_400_12\n",
      "/Volumes/Brain2018/Openscope_Motion/new_npyfiles/rotation_right_545_200_5\n",
      "/Volumes/Brain2018/Openscope_Motion/new_npyfiles/rotation_right_545_200_8\n",
      "/Volumes/Brain2018/Openscope_Motion/new_npyfiles/rotation_right_545_200_12\n",
      "/Volumes/Brain2018/Openscope_Motion/new_npyfiles/rotation_right_545_400_5\n",
      "/Volumes/Brain2018/Openscope_Motion/new_npyfiles/rotation_right_545_400_8\n",
      "/Volumes/Brain2018/Openscope_Motion/new_npyfiles/rotation_right_545_400_12\n",
      "/Volumes/Brain2018/Openscope_Motion/new_npyfiles/rotation_right_1000_200_5\n",
      "/Volumes/Brain2018/Openscope_Motion/new_npyfiles/rotation_right_1000_200_8\n",
      "/Volumes/Brain2018/Openscope_Motion/new_npyfiles/rotation_right_1000_200_12\n",
      "/Volumes/Brain2018/Openscope_Motion/new_npyfiles/rotation_right_1000_400_5\n",
      "/Volumes/Brain2018/Openscope_Motion/new_npyfiles/rotation_right_1000_400_8\n",
      "/Volumes/Brain2018/Openscope_Motion/new_npyfiles/rotation_right_1000_400_12\n"
     ]
    }
   ],
   "source": [
    "for dn in [300,545,1000]:\n",
    "    for i in [200,400]:\n",
    "        for r in [5,8,12]:\n",
    "            make_Rotation(dotNum=dn, speed=i, radius=r)"
   ]
  },
  {
   "cell_type": "code",
   "execution_count": 487,
   "metadata": {},
   "outputs": [
    {
     "name": "stdout",
     "output_type": "stream",
     "text": [
      "/Volumes/Brain2018/Openscope_Motion/new_npyfiles/rotation_right_300_10_5\n",
      "/Volumes/Brain2018/Openscope_Motion/new_npyfiles/rotation_right_300_10_8\n",
      "/Volumes/Brain2018/Openscope_Motion/new_npyfiles/rotation_right_300_10_12\n",
      "/Volumes/Brain2018/Openscope_Motion/new_npyfiles/rotation_right_300_20_5\n",
      "/Volumes/Brain2018/Openscope_Motion/new_npyfiles/rotation_right_300_20_8\n",
      "/Volumes/Brain2018/Openscope_Motion/new_npyfiles/rotation_right_300_20_12\n",
      "/Volumes/Brain2018/Openscope_Motion/new_npyfiles/rotation_right_300_50_5\n",
      "/Volumes/Brain2018/Openscope_Motion/new_npyfiles/rotation_right_300_50_8\n",
      "/Volumes/Brain2018/Openscope_Motion/new_npyfiles/rotation_right_300_50_12\n",
      "/Volumes/Brain2018/Openscope_Motion/new_npyfiles/rotation_right_300_100_5\n",
      "/Volumes/Brain2018/Openscope_Motion/new_npyfiles/rotation_right_300_100_8\n",
      "/Volumes/Brain2018/Openscope_Motion/new_npyfiles/rotation_right_300_100_12\n",
      "/Volumes/Brain2018/Openscope_Motion/new_npyfiles/rotation_right_545_10_5\n",
      "/Volumes/Brain2018/Openscope_Motion/new_npyfiles/rotation_right_545_10_8\n",
      "/Volumes/Brain2018/Openscope_Motion/new_npyfiles/rotation_right_545_10_12\n",
      "/Volumes/Brain2018/Openscope_Motion/new_npyfiles/rotation_right_545_20_5\n",
      "/Volumes/Brain2018/Openscope_Motion/new_npyfiles/rotation_right_545_20_8\n",
      "/Volumes/Brain2018/Openscope_Motion/new_npyfiles/rotation_right_545_20_12\n",
      "/Volumes/Brain2018/Openscope_Motion/new_npyfiles/rotation_right_545_50_5\n",
      "/Volumes/Brain2018/Openscope_Motion/new_npyfiles/rotation_right_545_50_8\n",
      "/Volumes/Brain2018/Openscope_Motion/new_npyfiles/rotation_right_545_50_12\n",
      "/Volumes/Brain2018/Openscope_Motion/new_npyfiles/rotation_right_545_100_5\n",
      "/Volumes/Brain2018/Openscope_Motion/new_npyfiles/rotation_right_545_100_8\n",
      "/Volumes/Brain2018/Openscope_Motion/new_npyfiles/rotation_right_545_100_12\n",
      "/Volumes/Brain2018/Openscope_Motion/new_npyfiles/rotation_right_1000_10_5\n",
      "/Volumes/Brain2018/Openscope_Motion/new_npyfiles/rotation_right_1000_10_8\n",
      "/Volumes/Brain2018/Openscope_Motion/new_npyfiles/rotation_right_1000_10_12\n",
      "/Volumes/Brain2018/Openscope_Motion/new_npyfiles/rotation_right_1000_20_5\n",
      "/Volumes/Brain2018/Openscope_Motion/new_npyfiles/rotation_right_1000_20_8\n",
      "/Volumes/Brain2018/Openscope_Motion/new_npyfiles/rotation_right_1000_20_12\n",
      "/Volumes/Brain2018/Openscope_Motion/new_npyfiles/rotation_right_1000_50_5\n",
      "/Volumes/Brain2018/Openscope_Motion/new_npyfiles/rotation_right_1000_50_8\n",
      "/Volumes/Brain2018/Openscope_Motion/new_npyfiles/rotation_right_1000_50_12\n",
      "/Volumes/Brain2018/Openscope_Motion/new_npyfiles/rotation_right_1000_100_5\n",
      "/Volumes/Brain2018/Openscope_Motion/new_npyfiles/rotation_right_1000_100_8\n",
      "/Volumes/Brain2018/Openscope_Motion/new_npyfiles/rotation_right_1000_100_12\n"
     ]
    }
   ],
   "source": [
    "# for i in [2,5,10,20,40,50,100,200]:\n",
    "#     make_Rotation(dotNum=1750, speed=i)\n",
    "    \n",
    "for dn in [300,545,1000]:\n",
    "    for i in [10,20,50,100]:#,200,400,800]:\n",
    "        for r in [5,8,12]:\n",
    "            make_Rotation(dotNum=dn, speed=i, radius=r)"
   ]
  },
  {
   "cell_type": "code",
   "execution_count": 323,
   "metadata": {},
   "outputs": [
    {
     "data": {
      "text/plain": [
       "108"
      ]
     },
     "execution_count": 323,
     "metadata": {},
     "output_type": "execute_result"
    }
   ],
   "source": [
    "2*3*3*6"
   ]
  },
  {
   "cell_type": "code",
   "execution_count": 249,
   "metadata": {},
   "outputs": [
    {
     "name": "stdout",
     "output_type": "stream",
     "text": [
      "/Volumes/Brain2018/Openscope_Motion/rotation_right_+1750_40.npz\n",
      "126.447461806\n",
      "0.807104178301\n"
     ]
    }
   ],
   "source": [
    "make_Rotation(dotNum=1750, speed=40)"
   ]
  },
  {
   "cell_type": "code",
   "execution_count": 490,
   "metadata": {
    "collapsed": true
   },
   "outputs": [],
   "source": [
    "def make_Rotation_left(dotNum, speed, radius):\n",
    "    centerPos=np.array([0,0])\n",
    "    pos = getNewDotPositions(dotNum) + centerPos\n",
    "    \n",
    "    posArray = np.empty((timePoints, dotNum, 2))\n",
    "    posArray[0,:,:] = pos\n",
    "    for i in range(1,timePoints):\n",
    "        posArray[i,:,0] = posArray[i-1,:,0] - speed*pixelsPerDegree*1/60.\n",
    "        posArray[i,:,1] = posArray[i-1,:,1]\n",
    "        if any(posArray[i,:,0]<0):\n",
    "            repopInds = np.where(posArray[i,:,0]<0)[0]\n",
    "            posArray[i,repopInds,0] = screenWidth#-1*posArray[i,repopInds,0]\n",
    "#             posArray[i,repopInds,0] = np.random.randint(screenWidth-16, high=screenWidth+16, size=len(repopInds))\n",
    "    \n",
    "    dotColors = [0, 254]\n",
    "    dotColorAssignments = np.random.choice(dotColors, dotNum)\n",
    "\n",
    "    backgroundColor=127\n",
    "    im_array = []\n",
    "    for points in posArray:\n",
    "        im = np.ones([screenHeight, screenWidth])*backgroundColor\n",
    "        for p,c in zip(points, dotColorAssignments):\n",
    "\n",
    "    #         radius = np.min([dist, dist180])*self.scaleFactor\n",
    "#             radius = 8\n",
    "            cv2.circle(im, tuple(np.round(p).astype(np.int)), int(radius), int(c), -1)\n",
    "        im_array.append(im.astype(np.uint8))\n",
    "    \n",
    "    saveDir = (r'/Volumes/Brain2018/Openscope_Motion/new_npyfiles/rotation_left_'+str(dotNum)+'_'+str(speed)+'_'+str(radius)+'.npy')\n",
    "    print saveDir\n",
    "#     np.savez_compressed(saveDir, im_array=im_array)\n",
    "    np.save(saveDir, im_array)\n",
    "    \n",
    "    test = np.array(im_array)\n",
    "#     print test[0,:,:].mean()\n",
    "#     print (len(np.where(test[0,:,:]>127)[0])+len(np.where(test[0,:,:]<127)[0]))/float(len(np.where(test[0,:,:]==127)[0]))"
   ]
  },
  {
   "cell_type": "code",
   "execution_count": 489,
   "metadata": {},
   "outputs": [
    {
     "name": "stdout",
     "output_type": "stream",
     "text": [
      "/Volumes/Brain2018/Openscope_Motion/new_npyfiles/rotation_left_300_200_5.npy\n",
      "/Volumes/Brain2018/Openscope_Motion/new_npyfiles/rotation_left_300_200_8.npy\n",
      "/Volumes/Brain2018/Openscope_Motion/new_npyfiles/rotation_left_300_200_12.npy\n",
      "/Volumes/Brain2018/Openscope_Motion/new_npyfiles/rotation_left_300_400_5.npy\n",
      "/Volumes/Brain2018/Openscope_Motion/new_npyfiles/rotation_left_300_400_8.npy\n",
      "/Volumes/Brain2018/Openscope_Motion/new_npyfiles/rotation_left_300_400_12.npy\n",
      "/Volumes/Brain2018/Openscope_Motion/new_npyfiles/rotation_left_545_200_5.npy\n",
      "/Volumes/Brain2018/Openscope_Motion/new_npyfiles/rotation_left_545_200_8.npy\n",
      "/Volumes/Brain2018/Openscope_Motion/new_npyfiles/rotation_left_545_200_12.npy\n",
      "/Volumes/Brain2018/Openscope_Motion/new_npyfiles/rotation_left_545_400_5.npy\n",
      "/Volumes/Brain2018/Openscope_Motion/new_npyfiles/rotation_left_545_400_8.npy\n",
      "/Volumes/Brain2018/Openscope_Motion/new_npyfiles/rotation_left_545_400_12.npy\n",
      "/Volumes/Brain2018/Openscope_Motion/new_npyfiles/rotation_left_1000_200_5.npy\n",
      "/Volumes/Brain2018/Openscope_Motion/new_npyfiles/rotation_left_1000_200_8.npy\n",
      "/Volumes/Brain2018/Openscope_Motion/new_npyfiles/rotation_left_1000_200_12.npy\n",
      "/Volumes/Brain2018/Openscope_Motion/new_npyfiles/rotation_left_1000_400_5.npy\n",
      "/Volumes/Brain2018/Openscope_Motion/new_npyfiles/rotation_left_1000_400_8.npy\n",
      "/Volumes/Brain2018/Openscope_Motion/new_npyfiles/rotation_left_1000_400_12.npy\n"
     ]
    }
   ],
   "source": [
    "for dn in [300,545,1000]:\n",
    "    for i in [200,400]:\n",
    "        for r in [5,8,12]:\n",
    "            make_Rotation_left(dotNum=dn, speed=i, radius=r)\n"
   ]
  },
  {
   "cell_type": "code",
   "execution_count": 491,
   "metadata": {},
   "outputs": [
    {
     "name": "stdout",
     "output_type": "stream",
     "text": [
      "/Volumes/Brain2018/Openscope_Motion/new_npyfiles/rotation_left_300_10_5.npy\n",
      "/Volumes/Brain2018/Openscope_Motion/new_npyfiles/rotation_left_300_10_8.npy\n",
      "/Volumes/Brain2018/Openscope_Motion/new_npyfiles/rotation_left_300_10_12.npy\n",
      "/Volumes/Brain2018/Openscope_Motion/new_npyfiles/rotation_left_300_20_5.npy\n",
      "/Volumes/Brain2018/Openscope_Motion/new_npyfiles/rotation_left_300_20_8.npy\n",
      "/Volumes/Brain2018/Openscope_Motion/new_npyfiles/rotation_left_300_20_12.npy\n",
      "/Volumes/Brain2018/Openscope_Motion/new_npyfiles/rotation_left_300_50_5.npy\n",
      "/Volumes/Brain2018/Openscope_Motion/new_npyfiles/rotation_left_300_50_8.npy\n",
      "/Volumes/Brain2018/Openscope_Motion/new_npyfiles/rotation_left_300_50_12.npy\n",
      "/Volumes/Brain2018/Openscope_Motion/new_npyfiles/rotation_left_300_100_5.npy\n",
      "/Volumes/Brain2018/Openscope_Motion/new_npyfiles/rotation_left_300_100_8.npy\n",
      "/Volumes/Brain2018/Openscope_Motion/new_npyfiles/rotation_left_300_100_12.npy\n",
      "/Volumes/Brain2018/Openscope_Motion/new_npyfiles/rotation_left_545_10_5.npy\n",
      "/Volumes/Brain2018/Openscope_Motion/new_npyfiles/rotation_left_545_10_8.npy\n",
      "/Volumes/Brain2018/Openscope_Motion/new_npyfiles/rotation_left_545_10_12.npy\n",
      "/Volumes/Brain2018/Openscope_Motion/new_npyfiles/rotation_left_545_20_5.npy\n",
      "/Volumes/Brain2018/Openscope_Motion/new_npyfiles/rotation_left_545_20_8.npy\n",
      "/Volumes/Brain2018/Openscope_Motion/new_npyfiles/rotation_left_545_20_12.npy\n",
      "/Volumes/Brain2018/Openscope_Motion/new_npyfiles/rotation_left_545_50_5.npy\n",
      "/Volumes/Brain2018/Openscope_Motion/new_npyfiles/rotation_left_545_50_8.npy\n",
      "/Volumes/Brain2018/Openscope_Motion/new_npyfiles/rotation_left_545_50_12.npy\n",
      "/Volumes/Brain2018/Openscope_Motion/new_npyfiles/rotation_left_545_100_5.npy\n",
      "/Volumes/Brain2018/Openscope_Motion/new_npyfiles/rotation_left_545_100_8.npy\n",
      "/Volumes/Brain2018/Openscope_Motion/new_npyfiles/rotation_left_545_100_12.npy\n",
      "/Volumes/Brain2018/Openscope_Motion/new_npyfiles/rotation_left_1000_10_5.npy\n",
      "/Volumes/Brain2018/Openscope_Motion/new_npyfiles/rotation_left_1000_10_8.npy\n",
      "/Volumes/Brain2018/Openscope_Motion/new_npyfiles/rotation_left_1000_10_12.npy\n",
      "/Volumes/Brain2018/Openscope_Motion/new_npyfiles/rotation_left_1000_20_5.npy\n",
      "/Volumes/Brain2018/Openscope_Motion/new_npyfiles/rotation_left_1000_20_8.npy\n",
      "/Volumes/Brain2018/Openscope_Motion/new_npyfiles/rotation_left_1000_20_12.npy\n",
      "/Volumes/Brain2018/Openscope_Motion/new_npyfiles/rotation_left_1000_50_5.npy\n",
      "/Volumes/Brain2018/Openscope_Motion/new_npyfiles/rotation_left_1000_50_8.npy\n",
      "/Volumes/Brain2018/Openscope_Motion/new_npyfiles/rotation_left_1000_50_12.npy\n",
      "/Volumes/Brain2018/Openscope_Motion/new_npyfiles/rotation_left_1000_100_5.npy\n",
      "/Volumes/Brain2018/Openscope_Motion/new_npyfiles/rotation_left_1000_100_8.npy\n",
      "/Volumes/Brain2018/Openscope_Motion/new_npyfiles/rotation_left_1000_100_12.npy\n"
     ]
    }
   ],
   "source": [
    "for dn in [300,545,1000]:\n",
    "    for i in [10,20,50,100]:\n",
    "        for r in [5,8,12]:\n",
    "            make_Rotation_left(dotNum=dn, speed=i, radius=r)\n"
   ]
  },
  {
   "cell_type": "code",
   "execution_count": 256,
   "metadata": {
    "collapsed": true
   },
   "outputs": [],
   "source": [
    "def make_Rotation_down(dotNum, speed):\n",
    "    centerPos=np.array([0,0])\n",
    "    pos = getNewDotPositions(dotNum) + centerPos\n",
    "    \n",
    "    posArray = np.empty((timePoints, dotNum, 2))\n",
    "    posArray[0,:,:] = pos\n",
    "    for i in range(1,timePoints):\n",
    "        posArray[i,:,1] = posArray[i-1,:,1] - speed*pixelsPerDegree*1/60.\n",
    "        posArray[i,:,0] = posArray[i-1,:,0]\n",
    "        if any(np.abs(posArray[i,:,1])<0):\n",
    "            repopInds = np.where(np.abs(posArray[i,:,1])<0)[0]\n",
    "            posArray[i,repopInds,0] = screenHeight#-1*posArray[i,repopInds,0]\n",
    "    \n",
    "    dotColors = [0, 254]\n",
    "    dotColorAssignments = np.random.choice(dotColors, dotNum)\n",
    "\n",
    "    backgroundColor=127\n",
    "    im_array = []\n",
    "    for points in posArray:\n",
    "        im = np.ones([screenHeight, screenWidth])*backgroundColor\n",
    "        for p,c in zip(points, dotColorAssignments):\n",
    "\n",
    "    #         radius = np.min([dist, dist180])*self.scaleFactor\n",
    "            radius = 8\n",
    "            cv2.circle(im, tuple(np.round(p).astype(np.int)), int(radius), int(c), -1)\n",
    "        im_array.append(im.astype(np.uint8))\n",
    "    \n",
    "    saveDir = (r'/Volumes/Brain2018/Openscope_Motion/npyfiles/rotation_down_+'+str(dotNum)+'_'+str(speed)+'.npy')\n",
    "    print saveDir\n",
    "#     np.savez_compressed(saveDir, im_array=im_array)\n",
    "    np.save(saveDir, im_array)\n",
    "    \n",
    "    test = np.array(im_array)\n",
    "    print test[0,:,:].mean()\n",
    "    print (len(np.where(test[0,:,:]>127)[0])+len(np.where(test[0,:,:]<127)[0]))/float(len(np.where(test[0,:,:]==127)[0]))"
   ]
  },
  {
   "cell_type": "code",
   "execution_count": 257,
   "metadata": {},
   "outputs": [
    {
     "name": "stdout",
     "output_type": "stream",
     "text": [
      "/Volumes/Brain2018/Openscope_Motion/npyfiles/rotation_down_+145_2.npy\n",
      "126.177586806\n",
      "0.0504163368919\n",
      "/Volumes/Brain2018/Openscope_Motion/npyfiles/rotation_down_+145_5.npy\n",
      "126.958989583\n",
      "0.0488555456416\n",
      "/Volumes/Brain2018/Openscope_Motion/npyfiles/rotation_down_+145_10.npy\n",
      "127.283104167\n",
      "0.0507574209743\n",
      "/Volumes/Brain2018/Openscope_Motion/npyfiles/rotation_down_+145_20.npy\n",
      "126.768269097\n",
      "0.0502611977718\n",
      "/Volumes/Brain2018/Openscope_Motion/npyfiles/rotation_down_+145_40.npy\n",
      "127.749652778\n",
      "0.0506424240655\n",
      "/Volumes/Brain2018/Openscope_Motion/npyfiles/rotation_down_+145_50.npy\n",
      "127.589579861\n",
      "0.0505887674551\n",
      "/Volumes/Brain2018/Openscope_Motion/npyfiles/rotation_down_+145_100.npy\n",
      "127.113550347\n",
      "0.0505791864942\n",
      "/Volumes/Brain2018/Openscope_Motion/npyfiles/rotation_down_+145_200.npy\n",
      "126.018175347\n",
      "0.050701835992\n",
      "/Volumes/Brain2018/Openscope_Motion/npyfiles/rotation_down_+300_2.npy\n",
      "128.173206597\n",
      "0.106443303425\n",
      "/Volumes/Brain2018/Openscope_Motion/npyfiles/rotation_down_+300_5.npy\n",
      "127.079815972\n",
      "0.107368615328\n",
      "/Volumes/Brain2018/Openscope_Motion/npyfiles/rotation_down_+300_10.npy\n",
      "127.308901042\n",
      "0.106651629525\n",
      "/Volumes/Brain2018/Openscope_Motion/npyfiles/rotation_down_+300_20.npy\n",
      "126.294885417\n",
      "0.106840891622\n",
      "/Volumes/Brain2018/Openscope_Motion/npyfiles/rotation_down_+300_40.npy\n",
      "126.708076389\n",
      "0.105544999136\n",
      "/Volumes/Brain2018/Openscope_Motion/npyfiles/rotation_down_+300_50.npy\n",
      "125.790192708\n",
      "0.105156822904\n",
      "/Volumes/Brain2018/Openscope_Motion/npyfiles/rotation_down_+300_100.npy\n",
      "125.502237847\n",
      "0.105275580126\n",
      "/Volumes/Brain2018/Openscope_Motion/npyfiles/rotation_down_+300_200.npy\n",
      "126.968470486\n",
      "0.106128837124\n",
      "/Volumes/Brain2018/Openscope_Motion/npyfiles/rotation_down_+545_2.npy\n",
      "126.458706597\n",
      "0.200092507131\n",
      "/Volumes/Brain2018/Openscope_Motion/npyfiles/rotation_down_+545_5.npy\n",
      "125.8808125\n",
      "0.202902001078\n",
      "/Volumes/Brain2018/Openscope_Motion/npyfiles/rotation_down_+545_10.npy\n",
      "127.799262153\n",
      "0.20261820004\n",
      "/Volumes/Brain2018/Openscope_Motion/npyfiles/rotation_down_+545_20.npy\n",
      "125.9284375\n",
      "0.202269283272\n",
      "/Volumes/Brain2018/Openscope_Motion/npyfiles/rotation_down_+545_40.npy\n",
      "127.275607639\n",
      "0.202856784864\n",
      "/Volumes/Brain2018/Openscope_Motion/npyfiles/rotation_down_+545_50.npy\n",
      "128.606461806\n",
      "0.204607624162\n",
      "/Volumes/Brain2018/Openscope_Motion/npyfiles/rotation_down_+545_100.npy\n",
      "126.526616319\n",
      "0.201033389145\n",
      "/Volumes/Brain2018/Openscope_Motion/npyfiles/rotation_down_+545_200.npy\n",
      "126.284743056\n",
      "0.202791478556\n",
      "/Volumes/Brain2018/Openscope_Motion/npyfiles/rotation_down_+1000_2.npy\n",
      "128.064286458\n",
      "0.399501913382\n",
      "/Volumes/Brain2018/Openscope_Motion/npyfiles/rotation_down_+1000_5.npy\n",
      "129.153487847\n",
      "0.404340289206\n",
      "/Volumes/Brain2018/Openscope_Motion/npyfiles/rotation_down_+1000_10.npy\n",
      "126.042649306\n",
      "0.405577409248\n",
      "/Volumes/Brain2018/Openscope_Motion/npyfiles/rotation_down_+1000_20.npy\n",
      "126.732109375\n",
      "0.398958067689\n",
      "/Volumes/Brain2018/Openscope_Motion/npyfiles/rotation_down_+1000_40.npy\n",
      "126.033829861\n",
      "0.401937399601\n",
      "/Volumes/Brain2018/Openscope_Motion/npyfiles/rotation_down_+1000_50.npy\n",
      "127.542836806\n",
      "0.403146360833\n",
      "/Volumes/Brain2018/Openscope_Motion/npyfiles/rotation_down_+1000_100.npy\n",
      "127.344178819\n",
      "0.404415619247\n",
      "/Volumes/Brain2018/Openscope_Motion/npyfiles/rotation_down_+1000_200.npy\n",
      "128.023496528\n",
      "0.402695318017\n",
      "/Volumes/Brain2018/Openscope_Motion/npyfiles/rotation_down_+1750_2.npy\n",
      "125.199069444\n",
      "0.83030295327\n",
      "/Volumes/Brain2018/Openscope_Motion/npyfiles/rotation_down_+1750_5.npy\n",
      "128.692892361\n",
      "0.810808261813\n",
      "/Volumes/Brain2018/Openscope_Motion/npyfiles/rotation_down_+1750_10.npy\n",
      "127.6588125\n",
      "0.808681672026\n",
      "/Volumes/Brain2018/Openscope_Motion/npyfiles/rotation_down_+1750_20.npy\n",
      "127.470517361\n",
      "0.829942433061\n",
      "/Volumes/Brain2018/Openscope_Motion/npyfiles/rotation_down_+1750_40.npy\n",
      "125.685461806\n",
      "0.801779257016\n",
      "/Volumes/Brain2018/Openscope_Motion/npyfiles/rotation_down_+1750_50.npy\n",
      "127.346163194\n",
      "0.821631878558\n",
      "/Volumes/Brain2018/Openscope_Motion/npyfiles/rotation_down_+1750_100.npy\n",
      "126.445918403\n",
      "0.803804900963\n",
      "/Volumes/Brain2018/Openscope_Motion/npyfiles/rotation_down_+1750_200.npy\n",
      "125.958203125\n",
      "0.821810487429\n"
     ]
    }
   ],
   "source": [
    "for dn in [145,300,545,1000,1750]:\n",
    "    for i in [2,5,10,20,40,50,100,200]:\n",
    "        make_Rotation_down(dotNum=dn, speed=i)"
   ]
  },
  {
   "cell_type": "code",
   "execution_count": null,
   "metadata": {
    "collapsed": true
   },
   "outputs": [],
   "source": [
    "#radius \n",
    "2.5 degree X 5 pixels/degree "
   ]
  },
  {
   "cell_type": "code",
   "execution_count": 265,
   "metadata": {},
   "outputs": [
    {
     "data": {
      "text/plain": [
       "12.5"
      ]
     },
     "execution_count": 265,
     "metadata": {},
     "output_type": "execute_result"
    }
   ],
   "source": [
    "2.5*5"
   ]
  },
  {
   "cell_type": "code",
   "execution_count": 266,
   "metadata": {},
   "outputs": [
    {
     "data": {
      "text/plain": [
       "7.5"
      ]
     },
     "execution_count": 266,
     "metadata": {},
     "output_type": "execute_result"
    }
   ],
   "source": [
    "1.5*5"
   ]
  },
  {
   "cell_type": "code",
   "execution_count": 267,
   "metadata": {},
   "outputs": [
    {
     "data": {
      "text/plain": [
       "5"
      ]
     },
     "execution_count": 267,
     "metadata": {},
     "output_type": "execute_result"
    }
   ],
   "source": [
    "1*5"
   ]
  },
  {
   "cell_type": "code",
   "execution_count": 314,
   "metadata": {
    "collapsed": true
   },
   "outputs": [],
   "source": [
    "def test_Rotation_left(dotNum, speed, radius):\n",
    "    centerPos=np.array([0,0])\n",
    "    pos = getNewDotPositions(dotNum) + centerPos\n",
    "    \n",
    "    posArray = np.empty((timePoints, dotNum, 2))\n",
    "    posArray[0,:,:] = pos\n",
    "    for i in range(1,timePoints):\n",
    "        posArray[i,:,0] = posArray[i-1,:,0] - speed*pixelsPerDegree*1/60.\n",
    "        posArray[i,:,1] = posArray[i-1,:,1]\n",
    "        if any(posArray[i,:,0]<0):\n",
    "            repopInds = np.where(posArray[i,:,0]<0)[0]\n",
    "#             print len(repopInds)\n",
    "            posArray[i,repopInds,0] = screenWidth#-1*posArray[i,repopInds,0]\n",
    "            posArray[i,repopInds,0] = np.random.randint(screenWidth-16, high=screenWidth+16, size=len(repopInds))\n",
    "    return posArray"
   ]
  },
  {
   "cell_type": "code",
   "execution_count": 308,
   "metadata": {},
   "outputs": [
    {
     "data": {
      "text/plain": [
       "array([280])"
      ]
     },
     "execution_count": 308,
     "metadata": {},
     "output_type": "execute_result"
    }
   ],
   "source": [
    "len(repopInds)"
   ]
  },
  {
   "cell_type": "code",
   "execution_count": 307,
   "metadata": {},
   "outputs": [
    {
     "data": {
      "text/plain": [
       "600"
      ]
     },
     "execution_count": 307,
     "metadata": {},
     "output_type": "execute_result"
    }
   ],
   "source": [
    "np.random.randint(screenWidth-8, high=screenWidth+8,)"
   ]
  },
  {
   "cell_type": "code",
   "execution_count": 315,
   "metadata": {},
   "outputs": [],
   "source": [
    "posArray = test_Rotation_left(dotNum=300, speed=400, radius=5)"
   ]
  },
  {
   "cell_type": "code",
   "execution_count": 311,
   "metadata": {},
   "outputs": [
    {
     "data": {
      "text/plain": [
       "(70, 300, 2)"
      ]
     },
     "execution_count": 311,
     "metadata": {},
     "output_type": "execute_result"
    }
   ],
   "source": [
    "posArray.shape"
   ]
  },
  {
   "cell_type": "code",
   "execution_count": 316,
   "metadata": {},
   "outputs": [
    {
     "data": {
      "image/png": "[encoded data removed]",
      "text/plain": [
       "<matplotlib.figure.Figure at 0x11319a290>"
      ]
     },
     "metadata": {},
     "output_type": "display_data"
    },
    {
     "data": {
      "application/vnd.jupyter.widget-view+json": {
       "model_id": "7e1c944a25a543a6a28b157626df7320",
       "version_major": 2,
       "version_minor": 0
      },
      "text/plain": [
       "A Jupyter Widget"
      ]
     },
     "metadata": {},
     "output_type": "display_data"
    }
   ],
   "source": [
    "from ipywidgets import widgets, interact, interactive\n",
    "from IPython.display import display\n",
    "from IPython.display import Image\n",
    "\n",
    "scaleFactor = 1/20.\n",
    "fig, ax = plt.subplots()\n",
    "ax.set_aspect('equal')\n",
    "def f(x=0):\n",
    "    patches = []\n",
    "    for p in posArray[x]:\n",
    "#         dist = ((p[0] - centerPos[0])**2 + (p[1]-centerPos[1])**2)**0.5\n",
    "        radius = 200*scaleFactor\n",
    "        patches.append(matplotlib.patches.Circle((p[0], p[1]), radius=radius, ec=[0,0,0], fc=[0,0,0]))\n",
    "#         ax.add_artist(matplotlib.patches.Circle((p[0], p[1]), radius=radius, ec=[0,0,0], fc=[0,0,0]))\n",
    "    \n",
    "    collection = PatchCollection(patches)\n",
    "    ax = plt.gca()\n",
    "    ax.set_aspect('equal')\n",
    "#     ax.add_collection(collection)\n",
    "    for p in patches:\n",
    "        ax.add_artist(p)\n",
    "#     ax.set_ylim([-45, 45])\n",
    "#     ax.set_xlim([-70, 70])\n",
    "#         ax.set_ylim([-45*pixelsPerDegree, 45*pixelsPerDegree])\n",
    "#         ax.set_xlim([-70*pixelsPerDegree, 70*pixelsPerDegree])\n",
    "        ax.set_ylim([0, 90*pixelsPerDegree])\n",
    "        ax.set_xlim([0, 140*pixelsPerDegree])\n",
    "\n",
    "#     ax.axis('off')\n",
    "    \n",
    "interact(f, x=(0,timePoints-1,1));"
   ]
  },
  {
   "cell_type": "code",
   "execution_count": 325,
   "metadata": {},
   "outputs": [
    {
     "data": {
      "text/plain": [
       "336"
      ]
     },
     "execution_count": 325,
     "metadata": {},
     "output_type": "execute_result"
    }
   ],
   "source": [
    "168*2"
   ]
  },
  {
   "cell_type": "code",
   "execution_count": 326,
   "metadata": {},
   "outputs": [
    {
     "data": {
      "text/plain": [
       "3600"
      ]
     },
     "execution_count": 326,
     "metadata": {},
     "output_type": "execute_result"
    }
   ],
   "source": [
    "60*60"
   ]
  },
  {
   "cell_type": "code",
   "execution_count": 327,
   "metadata": {},
   "outputs": [
    {
     "data": {
      "text/plain": [
       "10.714285714285714"
      ]
     },
     "execution_count": 327,
     "metadata": {},
     "output_type": "execute_result"
    }
   ],
   "source": [
    "3600/336."
   ]
  },
  {
   "cell_type": "code",
   "execution_count": 328,
   "metadata": {},
   "outputs": [
    {
     "data": {
      "text/plain": [
       "21.428571428571427"
      ]
     },
     "execution_count": 328,
     "metadata": {},
     "output_type": "execute_result"
    }
   ],
   "source": [
    "3600/168."
   ]
  },
  {
   "cell_type": "markdown",
   "metadata": {},
   "source": [
    "### Build sequence"
   ]
  },
  {
   "cell_type": "markdown",
   "metadata": {},
   "source": [
    "- 72 translation conditions\n",
    "- 108 rotation conditions\n",
    "- 2 second sweeps\n"
   ]
  },
  {
   "cell_type": "code",
   "execution_count": 467,
   "metadata": {},
   "outputs": [
    {
     "data": {
      "text/plain": [
       "array([111, 173, 102, ...,  98,  90,  42])"
      ]
     },
     "execution_count": 467,
     "metadata": {},
     "output_type": "execute_result"
    }
   ],
   "source": [
    "arr = np.mod(range(1800), 180)\n",
    "np.random.shuffle(arr)\n",
    "arr"
   ]
  },
  {
   "cell_type": "code",
   "execution_count": 469,
   "metadata": {
    "collapsed": true
   },
   "outputs": [],
   "source": [
    "ds_dict_2 = {}\n",
    "for i in range(180):\n",
    "    ds = []\n",
    "    ds_start = np.where(arr==i)[0]\n",
    "    for st in ds_start:\n",
    "        ds.append((st*2, (st*2)+1))\n",
    "    ds_dict_2[str(i)] = ds"
   ]
  },
  {
   "cell_type": "code",
   "execution_count": 470,
   "metadata": {
    "collapsed": true
   },
   "outputs": [],
   "source": [
    "with open(r'/Users/saskiad/openscope_motion/stimulus/ds_dict_two.pkl', 'wb') as f:\n",
    "    pickle.dump(ds_dict_2, f)"
   ]
  },
  {
   "cell_type": "code",
   "execution_count": 451,
   "metadata": {},
   "outputs": [
    {
     "data": {
      "text/plain": [
       "array([112, 133, 105, ...,  44,  58,  93])"
      ]
     },
     "execution_count": 451,
     "metadata": {},
     "output_type": "execute_result"
    }
   ],
   "source": [
    "arr2 = np.mod(range(1800), 180)\n",
    "np.random.shuffle(arr2)\n",
    "arr2"
   ]
  },
  {
   "cell_type": "code",
   "execution_count": 468,
   "metadata": {},
   "outputs": [
    {
     "name": "stdout",
     "output_type": "stream",
     "text": [
      "[  23  212  558  666  759  780  842 1194 1286 1459]\n"
     ]
    }
   ],
   "source": [
    "i=178\n",
    "print np.where(arr==i)[0]"
   ]
  },
  {
   "cell_type": "code",
   "execution_count": 463,
   "metadata": {},
   "outputs": [],
   "source": [
    "ds_dict = {}\n",
    "for i in range(180):\n",
    "    ds = []\n",
    "    ds_start = np.where(arr2==i)[0]\n",
    "    for st in ds_start:\n",
    "        ds.append((st*2, (st*2)+1))\n",
    "    ds_dict[str(i)] = ds"
   ]
  },
  {
   "cell_type": "code",
   "execution_count": 465,
   "metadata": {},
   "outputs": [
    {
     "data": {
      "text/plain": [
       "[(142, 143),\n",
       " (198, 199),\n",
       " (308, 309),\n",
       " (758, 759),\n",
       " (762, 763),\n",
       " (1496, 1497),\n",
       " (1546, 1547),\n",
       " (2656, 2657),\n",
       " (3196, 3197),\n",
       " (3558, 3559)]"
      ]
     },
     "execution_count": 465,
     "metadata": {},
     "output_type": "execute_result"
    }
   ],
   "source": [
    "ds_dict['173']"
   ]
  },
  {
   "cell_type": "code",
   "execution_count": 375,
   "metadata": {
    "collapsed": true
   },
   "outputs": [],
   "source": [
    "np.save(r'/Users/saskiad/openscope_motion/stimulus/ds_dict_one.npy',ds_dict)"
   ]
  },
  {
   "cell_type": "code",
   "execution_count": 379,
   "metadata": {},
   "outputs": [],
   "source": [
    "import cPickle as pickle"
   ]
  },
  {
   "cell_type": "code",
   "execution_count": 466,
   "metadata": {
    "collapsed": true
   },
   "outputs": [],
   "source": [
    "with open(r'/Users/saskiad/openscope_motion/stimulus/ds_dict_one.pkl', 'wb') as f:\n",
    "    pickle.dump(ds_dict, f)"
   ]
  },
  {
   "cell_type": "code",
   "execution_count": 471,
   "metadata": {
    "collapsed": true
   },
   "outputs": [],
   "source": [
    "with open(r'/Users/saskiad/openscope_motion/stimulus/ds_dict_one.pkl', 'rb') as f:\n",
    "    temp = pickle.load(f)"
   ]
  },
  {
   "cell_type": "code",
   "execution_count": 474,
   "metadata": {},
   "outputs": [
    {
     "data": {
      "text/plain": [
       "[(236, 237),\n",
       " (460, 461),\n",
       " (520, 521),\n",
       " (540, 541),\n",
       " (604, 605),\n",
       " (660, 661),\n",
       " (1316, 1317),\n",
       " (1374, 1375),\n",
       " (2358, 2359),\n",
       " (2640, 2641)]"
      ]
     },
     "execution_count": 474,
     "metadata": {},
     "output_type": "execute_result"
    }
   ],
   "source": [
    "temp['178']"
   ]
  },
  {
   "cell_type": "code",
   "execution_count": 476,
   "metadata": {
    "collapsed": true
   },
   "outputs": [],
   "source": [
    "with open(r'/Users/saskiad/openscope_motion/stimulus/ds_dict_two.pkl', 'rb') as f:\n",
    "    temp2 = pickle.load(f)"
   ]
  },
  {
   "cell_type": "code",
   "execution_count": 478,
   "metadata": {},
   "outputs": [
    {
     "data": {
      "text/plain": [
       "[(46, 47),\n",
       " (424, 425),\n",
       " (1116, 1117),\n",
       " (1332, 1333),\n",
       " (1518, 1519),\n",
       " (1560, 1561),\n",
       " (1684, 1685),\n",
       " (2388, 2389),\n",
       " (2572, 2573),\n",
       " (2918, 2919)]"
      ]
     },
     "execution_count": 478,
     "metadata": {},
     "output_type": "execute_result"
    }
   ],
   "source": [
    "temp2['178']"
   ]
  },
  {
   "cell_type": "code",
   "execution_count": null,
   "metadata": {
    "collapsed": true
   },
   "outputs": [],
   "source": []
  },
  {
   "cell_type": "code",
   "execution_count": 496,
   "metadata": {},
   "outputs": [
    {
     "data": {
      "text/plain": [
       "816"
      ]
     },
     "execution_count": 496,
     "metadata": {},
     "output_type": "execute_result"
    }
   ],
   "source": [
    "ds_dict['0'][2][0]"
   ]
  },
  {
   "cell_type": "code",
   "execution_count": 501,
   "metadata": {
    "collapsed": true
   },
   "outputs": [],
   "source": [
    "start_times = []\n",
    "for key in ds_dict.keys():\n",
    "    for a in ds_dict[key]:\n",
    "        start_times.append(a[0])"
   ]
  },
  {
   "cell_type": "code",
   "execution_count": 502,
   "metadata": {},
   "outputs": [],
   "source": [
    "temp = np.array(start_times).sort()"
   ]
  },
  {
   "cell_type": "code",
   "execution_count": 506,
   "metadata": {},
   "outputs": [
    {
     "data": {
      "text/plain": [
       "[<matplotlib.lines.Line2D at 0x11ddb3d10>]"
      ]
     },
     "execution_count": 506,
     "metadata": {},
     "output_type": "execute_result"
    },
    {
     "data": {
      "image/png": "[encoded data removed]",
      "text/plain": [
       "<matplotlib.figure.Figure at 0x11313fbd0>"
      ]
     },
     "metadata": {},
     "output_type": "display_data"
    }
   ],
   "source": [
    "plt.plot(np.ediff1d(np.sort(np.array(start_times))))"
   ]
  },
  {
   "cell_type": "markdown",
   "metadata": {},
   "source": [
    "### making ds for checkerboard stimulus where each trial is a different length"
   ]
  },
  {
   "cell_type": "markdown",
   "metadata": {},
   "source": [
    "five conditions, length 1,2,4,8,10"
   ]
  },
  {
   "cell_type": "code",
   "execution_count": 400,
   "metadata": {
    "collapsed": true
   },
   "outputs": [],
   "source": [
    "stim = ['a','b','c','d','e']\n",
    "trial_length = [1,2,4,8,10]"
   ]
  },
  {
   "cell_type": "code",
   "execution_count": 403,
   "metadata": {},
   "outputs": [
    {
     "name": "stdout",
     "output_type": "stream",
     "text": [
      "a 1\n",
      "b 2\n",
      "c 4\n",
      "d 8\n",
      "e 10\n"
     ]
    }
   ],
   "source": [
    "for (stimname, length) in zip(stim, trial_length):\n",
    "    print stimname, length"
   ]
  },
  {
   "cell_type": "code",
   "execution_count": 432,
   "metadata": {},
   "outputs": [
    {
     "data": {
      "text/plain": [
       "269.5"
      ]
     },
     "execution_count": 432,
     "metadata": {},
     "output_type": "execute_result"
    }
   ],
   "source": [
    "np.array(trial_length).sum() + (36*2)"
   ]
  },
  {
   "cell_type": "code",
   "execution_count": 433,
   "metadata": {},
   "outputs": [
    {
     "data": {
      "text/plain": [
       "13.358070500927644"
      ]
     },
     "execution_count": 433,
     "metadata": {},
     "output_type": "execute_result"
    }
   ],
   "source": [
    "3600/269.5"
   ]
  },
  {
   "cell_type": "code",
   "execution_count": 434,
   "metadata": {},
   "outputs": [
    {
     "data": {
      "text/plain": [
       "432"
      ]
     },
     "execution_count": 434,
     "metadata": {},
     "output_type": "execute_result"
    }
   ],
   "source": [
    "36*12"
   ]
  },
  {
   "cell_type": "code",
   "execution_count": 435,
   "metadata": {},
   "outputs": [
    {
     "data": {
      "text/plain": [
       "array([ 3, 14,  1, 13, 27,  9, 12, 15, 13, 15, 19, 32,  7,  5, 31, 22, 10,\n",
       "       27, 32, 29, 24,  8, 26, 10, 27,  0, 30,  3, 26,  5, 33,  9,  3,  7,\n",
       "       12, 33,  8, 17, 33, 14, 15,  9, 26, 22, 11, 10, 28, 13, 10, 19, 33,\n",
       "        8, 16, 23, 17, 19,  2, 10, 13, 16, 23, 26,  9, 14, 23, 15, 18, 29,\n",
       "       29, 25, 11, 21,  7,  0,  6, 22, 24, 29,  6, 31, 16, 24, 20, 20, 30,\n",
       "        6, 19,  2, 17,  2,  8, 22, 20,  1, 13, 25, 12, 30, 27, 18,  1, 29,\n",
       "       25,  3, 16, 31, 20,  3,  3, 25, 24,  2, 14, 25, 31, 35, 17, 28, 25,\n",
       "        2, 18,  6, 10, 16,  2, 26, 27, 35, 24, 30,  8,  2,  9,  4, 12, 12,\n",
       "        1,  5, 13, 24,  0, 33,  5, 27, 17, 24,  0, 19, 12, 28,  5, 24, 34,\n",
       "       33, 29,  5, 15, 26, 34, 35, 20,  4, 17, 18, 28, 15,  5,  7, 16, 22,\n",
       "       21, 18, 30, 20, 30, 16, 16, 22, 13, 14, 27, 10, 26, 12,  3, 28, 13,\n",
       "        4, 35, 25, 18, 18,  7, 27, 20, 23, 21, 28,  3, 23, 30,  9, 17, 22,\n",
       "        2, 20, 12,  0, 24, 21, 20, 11, 26,  6, 31, 29, 35, 17, 21, 21,  6,\n",
       "       27, 12,  0, 16, 30, 11,  1, 17,  6, 35, 18, 18, 19,  0, 32,  1,  7,\n",
       "       17, 35, 32,  4, 17, 34,  4, 12,  6, 23,  5, 11, 28, 15, 33,  3, 35,\n",
       "       11, 29, 20, 22, 33, 14,  8, 10,  3,  2,  7,  4,  4,  1, 12, 30, 19,\n",
       "       21, 21,  5,  1,  7, 26, 27, 32,  3, 10, 34,  9, 32, 22, 12, 14, 31,\n",
       "        7, 19,  6, 14, 15, 33, 10,  6, 31, 35, 13, 34, 22, 31, 29, 19, 21,\n",
       "       18, 13, 23, 16, 18, 26, 11, 29, 31, 13, 16, 23, 33, 17, 31,  4,  8,\n",
       "       34, 25,  2, 35, 22,  6,  4,  8,  0,  6, 18, 31,  7, 23,  9, 23, 25,\n",
       "        4, 10,  4,  5,  5, 14, 29,  5, 34, 26, 28, 24,  2,  9,  0,  7, 34,\n",
       "        1, 32,  0, 25, 33,  8, 20, 33, 25,  9, 11, 32, 11, 27,  9,  1,  8,\n",
       "       23,  8, 23, 31, 24, 24,  0, 11,  8, 21, 19,  1, 30,  7, 13, 32, 34,\n",
       "       21, 10, 25, 11, 35, 19, 15, 30,  2,  3, 15, 14, 11, 20, 27, 28, 21,\n",
       "       30, 32, 32,  4, 29, 15, 22, 19, 34, 26, 15, 28,  9, 35, 28, 14, 32,\n",
       "       34, 34,  0, 14,  1, 16, 28])"
      ]
     },
     "execution_count": 435,
     "metadata": {},
     "output_type": "execute_result"
    }
   ],
   "source": [
    "arr3 = np.mod(range(0,432),36)\n",
    "np.random.shuffle(arr3)\n",
    "arr3"
   ]
  },
  {
   "cell_type": "code",
   "execution_count": 437,
   "metadata": {},
   "outputs": [
    {
     "data": {
      "text/plain": [
       "12"
      ]
     },
     "execution_count": 437,
     "metadata": {},
     "output_type": "execute_result"
    }
   ],
   "source": [
    "len(np.where(arr3==23)[0])"
   ]
  },
  {
   "cell_type": "code",
   "execution_count": 423,
   "metadata": {
    "collapsed": true
   },
   "outputs": [],
   "source": [
    "trial_length = [2, 8.4, 8.4, 2.4, 2.4, 8.8, 8.8, 2.5, 2.5, 8.2, 8.4, 2.4, 2.4, 8.8,2.5,2.5,8.2, 8.4, 2.4, 2.4, 8.8, 2.5, 2.5, 2.4, 8.4, 8.4, 2.4, 8.8, 8.8, 2.5, 2.4, 8.4, 8.4, 2.4, 8.8, 8.8]"
   ]
  },
  {
   "cell_type": "code",
   "execution_count": null,
   "metadata": {
    "collapsed": true
   },
   "outputs": [],
   "source": []
  },
  {
   "cell_type": "code",
   "execution_count": 438,
   "metadata": {},
   "outputs": [],
   "source": [
    "ds_dict = {k: [] for k in range(36)}\n",
    "timepoint = 0\n",
    "for a in arr3:\n",
    "    ds_dict[a].append((timepoint, timepoint+trial_length[a]))\n",
    "    timepoint += trial_length[a] + 2\n",
    "    "
   ]
  },
  {
   "cell_type": "code",
   "execution_count": 439,
   "metadata": {},
   "outputs": [
    {
     "data": {
      "text/plain": [
       "[(196.90000000000006, 198.90000000000006),\n",
       " (505.49999999999966, 507.49999999999966),\n",
       " (1076.1999999999987, 1078.1999999999987),\n",
       " (1126.9999999999989, 1128.9999999999989),\n",
       " (1576.9000000000005, 1578.9000000000005),\n",
       " (1697.3000000000009, 1699.3000000000009),\n",
       " (1775.9000000000015, 1777.9000000000015),\n",
       " (2475.9000000000074, 2477.9000000000074),\n",
       " (2657.000000000009, 2659.000000000009),\n",
       " (2697.1000000000095, 2699.1000000000095),\n",
       " (2855.8000000000106, 2857.8000000000106),\n",
       " (3194.1000000000145, 3196.1000000000145)]"
      ]
     },
     "execution_count": 439,
     "metadata": {},
     "output_type": "execute_result"
    }
   ],
   "source": [
    "ds_dict[0]"
   ]
  },
  {
   "cell_type": "code",
   "execution_count": 440,
   "metadata": {},
   "outputs": [
    {
     "data": {
      "text/plain": [
       "[(8.9, 17.3),\n",
       " (673.6999999999992, 682.0999999999992),\n",
       " (729.299999999999, 737.699999999999),\n",
       " (1033.7999999999986, 1042.1999999999987),\n",
       " (1720.300000000001, 1728.7000000000012),\n",
       " (1790.3000000000015, 1798.7000000000016),\n",
       " (2012.6000000000029, 2021.000000000003),\n",
       " (2056.000000000003, 2064.4000000000033),\n",
       " (2676.3000000000093, 2684.7000000000094),\n",
       " (2796.40000000001, 2804.80000000001),\n",
       " (2877.600000000011, 2886.000000000011),\n",
       " (3202.6000000000145, 3211.0000000000146)]"
      ]
     },
     "execution_count": 440,
     "metadata": {},
     "output_type": "execute_result"
    }
   ],
   "source": [
    "ds_dict[1]"
   ]
  },
  {
   "cell_type": "code",
   "execution_count": 441,
   "metadata": {},
   "outputs": [
    {
     "data": {
      "text/plain": [
       "[(394.09999999999985, 402.49999999999983),\n",
       " (622.6999999999994, 631.0999999999993),\n",
       " (643.4999999999993, 651.8999999999993),\n",
       " (819.9999999999989, 828.3999999999988),\n",
       " (898.0999999999987, 906.4999999999986),\n",
       " (944.2999999999986, 952.6999999999986),\n",
       " (999.9999999999984, 1008.3999999999984),\n",
       " (1551.3000000000004, 1559.7000000000005),\n",
       " (1988.9000000000026, 1997.3000000000027),\n",
       " (2430.500000000007, 2438.900000000007),\n",
       " (2636.400000000009, 2644.8000000000093),\n",
       " (2982.700000000012, 2991.100000000012)]"
      ]
     },
     "execution_count": 441,
     "metadata": {},
     "output_type": "execute_result"
    }
   ],
   "source": [
    "ds_dict[2]"
   ]
  },
  {
   "cell_type": "code",
   "execution_count": 442,
   "metadata": {},
   "outputs": [
    {
     "data": {
      "text/plain": [
       "[(0, 2.4),\n",
       " (205.30000000000007, 207.70000000000007),\n",
       " (239.50000000000009, 241.9000000000001),\n",
       " (754.599999999999, 756.999999999999),\n",
       " (790.399999999999, 792.7999999999989),\n",
       " (794.7999999999989, 797.1999999999989),\n",
       " (1406.7999999999997, 1409.1999999999998),\n",
       " (1513.0, 1515.4),\n",
       " (1921.3000000000022, 1923.7000000000023),\n",
       " (1984.5000000000025, 1986.9000000000026),\n",
       " (2096.5000000000036, 2098.9000000000037),\n",
       " (2993.100000000012, 2995.5000000000123)]"
      ]
     },
     "execution_count": 442,
     "metadata": {},
     "output_type": "execute_result"
    }
   ],
   "source": [
    "ds_dict[3]"
   ]
  },
  {
   "cell_type": "code",
   "execution_count": 443,
   "metadata": {},
   "outputs": [
    {
     "data": {
      "text/plain": [
       "[(1020.5999999999984, 1022.9999999999984),\n",
       " (1243.599999999999, 1245.999999999999),\n",
       " (1432.7999999999997, 1435.1999999999998),\n",
       " (1836.8000000000018, 1839.2000000000019),\n",
       " (1862.400000000002, 1864.800000000002),\n",
       " (2003.8000000000027, 2006.2000000000028),\n",
       " (2008.2000000000028, 2010.6000000000029),\n",
       " (2400.4000000000065, 2402.8000000000065),\n",
       " (2467.0000000000073, 2469.4000000000074),\n",
       " (2539.400000000008, 2541.800000000008),\n",
       " (2554.200000000008, 2556.600000000008),\n",
       " (3073.000000000013, 3075.4000000000133)]"
      ]
     },
     "execution_count": 443,
     "metadata": {},
     "output_type": "execute_result"
    }
   ],
   "source": [
    "ds_dict[4]"
   ]
  },
  {
   "cell_type": "code",
   "execution_count": 444,
   "metadata": {
    "collapsed": true
   },
   "outputs": [],
   "source": [
    "with open(r'/Users/saskiad/openscope_motion/stimulus/ds_dict_checkerboard.pkl', 'wb') as f:\n",
    "    pickle.dump(ds_dict, f)"
   ]
  },
  {
   "cell_type": "code",
   "execution_count": 508,
   "metadata": {},
   "outputs": [],
   "source": [
    "with open(r'/Users/saskiad/openscope_motion/stimulus/ds_dict_checkerboard.pkl', 'rb') as f:\n",
    "    temp = pickle.load(f)"
   ]
  },
  {
   "cell_type": "code",
   "execution_count": 509,
   "metadata": {},
   "outputs": [
    {
     "data": {
      "text/plain": [
       "[0,\n",
       " 1,\n",
       " 2,\n",
       " 3,\n",
       " 4,\n",
       " 5,\n",
       " 6,\n",
       " 7,\n",
       " 8,\n",
       " 9,\n",
       " 10,\n",
       " 11,\n",
       " 12,\n",
       " 13,\n",
       " 14,\n",
       " 15,\n",
       " 16,\n",
       " 17,\n",
       " 18,\n",
       " 19,\n",
       " 20,\n",
       " 21,\n",
       " 22,\n",
       " 23,\n",
       " 24,\n",
       " 25,\n",
       " 26,\n",
       " 27,\n",
       " 28,\n",
       " 29,\n",
       " 30,\n",
       " 31,\n",
       " 32,\n",
       " 33,\n",
       " 34,\n",
       " 35]"
      ]
     },
     "execution_count": 509,
     "metadata": {},
     "output_type": "execute_result"
    }
   ],
   "source": [
    "temp.keys()"
   ]
  },
  {
   "cell_type": "code",
   "execution_count": null,
   "metadata": {
    "collapsed": true
   },
   "outputs": [],
   "source": []
  }
 ],
 "metadata": {
  "kernelspec": {
   "display_name": "Python2base",
   "language": "python",
   "name": "test"
  },
  "language_info": {
   "codemirror_mode": {
    "name": "ipython",
    "version": 2
   },
   "file_extension": ".py",
   "mimetype": "text/x-python",
   "name": "python",
   "nbconvert_exporter": "python",
   "pygments_lexer": "ipython2",
   "version": "2.7.3"
  }
 },
 "nbformat": 4,
 "nbformat_minor": 2
}
