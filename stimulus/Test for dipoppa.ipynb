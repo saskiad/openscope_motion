{
 "cells": [
  {
   "cell_type": "code",
   "execution_count": 42,
   "metadata": {},
   "outputs": [
    {
     "name": "stdout",
     "output_type": "stream",
     "text": [
      "/Users/saskiad/test/manifest.json\n"
     ]
    }
   ],
   "source": [
    "from allensdk.core.brain_observatory_cache import BrainObservatoryCache\n",
    "manifest_file = r'/Users/saskiad/test/manifest.json'\n",
    "print(manifest_file)\n",
    "\n",
    "boc = BrainObservatoryCache(manifest_file=manifest_file)"
   ]
  },
  {
   "cell_type": "code",
   "execution_count": 43,
   "metadata": {},
   "outputs": [
    {
     "data": {
      "text/plain": [
       "['drifting_gratings',\n",
       " 'locally_sparse_noise',\n",
       " 'locally_sparse_noise_4deg',\n",
       " 'locally_sparse_noise_8deg',\n",
       " 'natural_movie_one',\n",
       " 'natural_movie_three',\n",
       " 'natural_movie_two',\n",
       " 'natural_scenes',\n",
       " 'spontaneous',\n",
       " 'static_gratings']"
      ]
     },
     "execution_count": 43,
     "metadata": {},
     "output_type": "execute_result"
    }
   ],
   "source": [
    "boc.get_all_stimuli()"
   ]
  },
  {
   "cell_type": "code",
   "execution_count": 44,
   "metadata": {
    "collapsed": true
   },
   "outputs": [],
   "source": [
    "cre_lines = boc.get_all_cre_lines()"
   ]
  },
  {
   "cell_type": "code",
   "execution_count": 45,
   "metadata": {},
   "outputs": [
    {
     "data": {
      "text/plain": [
       "[u'Cux2-CreERT2',\n",
       " u'Emx1-IRES-Cre',\n",
       " u'Fezf2-CreER',\n",
       " u'Nr5a1-Cre',\n",
       " u'Ntsr1-Cre_GN220',\n",
       " u'Pvalb-IRES-Cre',\n",
       " u'Rbp4-Cre_KL100',\n",
       " u'Rorb-IRES2-Cre',\n",
       " u'Scnn1a-Tg3-Cre',\n",
       " u'Slc17a7-IRES2-Cre',\n",
       " u'Sst-IRES-Cre',\n",
       " u'Tlx3-Cre_PL56',\n",
       " u'Vip-IRES-Cre']"
      ]
     },
     "execution_count": 45,
     "metadata": {},
     "output_type": "execute_result"
    }
   ],
   "source": [
    "cre_lines"
   ]
  },
  {
   "cell_type": "code",
   "execution_count": 46,
   "metadata": {},
   "outputs": [
    {
     "data": {
      "text/plain": [
       "u'Sst-IRES-Cre'"
      ]
     },
     "execution_count": 46,
     "metadata": {},
     "output_type": "execute_result"
    }
   ],
   "source": [
    "cre_line_download = cre_lines[-3]\n",
    "cre_line_download"
   ]
  },
  {
   "cell_type": "code",
   "execution_count": 47,
   "metadata": {
    "collapsed": true
   },
   "outputs": [],
   "source": [
    "containers_vec = boc.get_experiment_containers(cre_lines=[cre_line_download], targeted_structures=['VISp'])\n",
    "\n",
    "num_containers = len(containers_vec)"
   ]
  },
  {
   "cell_type": "code",
   "execution_count": 48,
   "metadata": {},
   "outputs": [
    {
     "data": {
      "text/plain": [
       "17"
      ]
     },
     "execution_count": 48,
     "metadata": {},
     "output_type": "execute_result"
    }
   ],
   "source": [
    "num_containers"
   ]
  },
  {
   "cell_type": "code",
   "execution_count": 50,
   "metadata": {},
   "outputs": [
    {
     "name": "stdout",
     "output_type": "stream",
     "text": [
      "0\n"
     ]
    },
    {
     "ename": "TypeError",
     "evalue": "list indices must be integers, not str",
     "output_type": "error",
     "traceback": [
      "\u001b[0;31m---------------------------------------------------------------------------\u001b[0m",
      "\u001b[0;31mTypeError\u001b[0m                                 Traceback (most recent call last)",
      "\u001b[0;32m<ipython-input-50-51883f98104f>\u001b[0m in \u001b[0;36m<module>\u001b[0;34m()\u001b[0m\n\u001b[1;32m      2\u001b[0m     \u001b[0;32mprint\u001b[0m \u001b[0mcont\u001b[0m\u001b[0;34m\u001b[0m\u001b[0m\n\u001b[1;32m      3\u001b[0m     \u001b[0mcont_ec_id\u001b[0m \u001b[0;34m=\u001b[0m \u001b[0mcontainers_vec\u001b[0m\u001b[0;34m[\u001b[0m\u001b[0mcont\u001b[0m\u001b[0;34m]\u001b[0m\u001b[0;34m[\u001b[0m\u001b[0;34m'id'\u001b[0m\u001b[0;34m]\u001b[0m\u001b[0;34m\u001b[0m\u001b[0m\n\u001b[0;32m----> 4\u001b[0;31m     \u001b[0mexp_name\u001b[0m \u001b[0;34m=\u001b[0m \u001b[0mboc\u001b[0m\u001b[0;34m.\u001b[0m\u001b[0mget_ophys_experiments\u001b[0m\u001b[0;34m(\u001b[0m\u001b[0mexperiment_container_ids\u001b[0m\u001b[0;34m=\u001b[0m\u001b[0;34m[\u001b[0m\u001b[0mcont_ec_id\u001b[0m\u001b[0;34m]\u001b[0m\u001b[0;34m,\u001b[0m \u001b[0mstimuli\u001b[0m\u001b[0;34m=\u001b[0m\u001b[0;34m[\u001b[0m\u001b[0;34m'static_gratings'\u001b[0m\u001b[0;34m]\u001b[0m\u001b[0;34m)\u001b[0m\u001b[0;34m[\u001b[0m\u001b[0;34m'id'\u001b[0m\u001b[0;34m]\u001b[0m\u001b[0;34m\u001b[0m\u001b[0m\n\u001b[0m\u001b[1;32m      5\u001b[0m     \u001b[0;32mprint\u001b[0m \u001b[0mexp_name\u001b[0m\u001b[0;34m\u001b[0m\u001b[0m\n\u001b[1;32m      6\u001b[0m     \u001b[0mdata_set\u001b[0m \u001b[0;34m=\u001b[0m \u001b[0mboc\u001b[0m\u001b[0;34m.\u001b[0m\u001b[0mget_ophys_experiment_data\u001b[0m\u001b[0;34m(\u001b[0m\u001b[0mexp_name\u001b[0m\u001b[0;34m)\u001b[0m\u001b[0;34m\u001b[0m\u001b[0m\n",
      "\u001b[0;31mTypeError\u001b[0m: list indices must be integers, not str"
     ]
    }
   ],
   "source": [
    "for cont in range(2):\n",
    "    print cont\n",
    "    cont_ec_id = containers_vec[cont]['id']\n",
    "    exp_name = boc.get_ophys_experiments(experiment_container_ids=[cont_ec_id], stimuli=['static_gratings'])['id']\n",
    "    print exp_name\n",
    "    data_set = boc.get_ophys_experiment_data(exp_name)\n",
    "    "
   ]
  },
  {
   "cell_type": "code",
   "execution_count": 26,
   "metadata": {},
   "outputs": [
    {
     "data": {
      "text/plain": [
       "581026086"
      ]
     },
     "execution_count": 26,
     "metadata": {},
     "output_type": "execute_result"
    }
   ],
   "source": [
    "cont_ec_id"
   ]
  },
  {
   "cell_type": "code",
   "execution_count": 49,
   "metadata": {},
   "outputs": [
    {
     "data": {
      "text/plain": [
       "[{'acquisition_age_days': 114,\n",
       "  'cre_line': u'Sst-IRES-Cre',\n",
       "  'donor_name': u'297507',\n",
       "  'experiment_container_id': 581026086,\n",
       "  'fail_eye_tracking': True,\n",
       "  'id': 581026088,\n",
       "  'imaging_depth': 275,\n",
       "  'reporter_line': u'Ai148(TIT2L-GC6f-ICL-tTA2)',\n",
       "  'session_type': u'three_session_A',\n",
       "  'specimen_name': u'Sst-IRES-Cre;Ai148(CAM)-297507',\n",
       "  'targeted_structure': u'VISp'},\n",
       " {'acquisition_age_days': 116,\n",
       "  'cre_line': u'Sst-IRES-Cre',\n",
       "  'donor_name': u'297507',\n",
       "  'experiment_container_id': 581026086,\n",
       "  'fail_eye_tracking': True,\n",
       "  'id': 581651157,\n",
       "  'imaging_depth': 275,\n",
       "  'reporter_line': u'Ai148(TIT2L-GC6f-ICL-tTA2)',\n",
       "  'session_type': u'three_session_B',\n",
       "  'specimen_name': u'Sst-IRES-Cre;Ai148(CAM)-297507',\n",
       "  'targeted_structure': u'VISp'},\n",
       " {'acquisition_age_days': 119,\n",
       "  'cre_line': u'Sst-IRES-Cre',\n",
       "  'donor_name': u'297507',\n",
       "  'experiment_container_id': 581026086,\n",
       "  'fail_eye_tracking': False,\n",
       "  'id': 582622495,\n",
       "  'imaging_depth': 275,\n",
       "  'reporter_line': u'Ai148(TIT2L-GC6f-ICL-tTA2)',\n",
       "  'session_type': u'three_session_C2',\n",
       "  'specimen_name': u'Sst-IRES-Cre;Ai148(CAM)-297507',\n",
       "  'targeted_structure': u'VISp'}]"
      ]
     },
     "execution_count": 49,
     "metadata": {},
     "output_type": "execute_result"
    }
   ],
   "source": [
    "boc.get_ophys_experiments(experiment_container_ids=[581026086])"
   ]
  },
  {
   "cell_type": "code",
   "execution_count": 39,
   "metadata": {},
   "outputs": [
    {
     "data": {
      "text/plain": [
       "u'Sst-IRES-Cre'"
      ]
     },
     "execution_count": 39,
     "metadata": {},
     "output_type": "execute_result"
    }
   ],
   "source": [
    "cre_line_download"
   ]
  },
  {
   "cell_type": "code",
   "execution_count": 51,
   "metadata": {
    "collapsed": true
   },
   "outputs": [],
   "source": [
    "exp = boc.get_ophys_experiments(cre_lines=['Sst-IRES-Cre'], targeted_structures=['VISp'], stimuli=['static_gratings'])"
   ]
  },
  {
   "cell_type": "code",
   "execution_count": 53,
   "metadata": {},
   "outputs": [
    {
     "data": {
      "text/plain": [
       "17"
      ]
     },
     "execution_count": 53,
     "metadata": {},
     "output_type": "execute_result"
    }
   ],
   "source": [
    "len(exp)"
   ]
  },
  {
   "cell_type": "code",
   "execution_count": 54,
   "metadata": {},
   "outputs": [
    {
     "data": {
      "text/plain": [
       "577885923"
      ]
     },
     "execution_count": 54,
     "metadata": {},
     "output_type": "execute_result"
    }
   ],
   "source": [
    "exp[0]['id']"
   ]
  },
  {
   "cell_type": "code",
   "execution_count": 56,
   "metadata": {},
   "outputs": [
    {
     "name": "stderr",
     "output_type": "stream",
     "text": [
      "2019-08-10 13:09:10,265 allensdk.api.api.retrieve_file_over_http INFO     Downloading URL: http://api.brain-map.org/api/v2/well_known_file_download/578433123\n"
     ]
    }
   ],
   "source": [
    "data_set = boc.get_ophys_experiment_data(exp[0]['id'])"
   ]
  },
  {
   "cell_type": "code",
   "execution_count": 57,
   "metadata": {},
   "outputs": [
    {
     "data": {
      "text/plain": [
       "array([579100456, 662213460, 579100814, 579100796])"
      ]
     },
     "execution_count": 57,
     "metadata": {},
     "output_type": "execute_result"
    }
   ],
   "source": [
    "data_set.get_cell_specimen_ids()"
   ]
  },
  {
   "cell_type": "code",
   "execution_count": null,
   "metadata": {
    "collapsed": true
   },
   "outputs": [],
   "source": []
  }
 ],
 "metadata": {
  "kernelspec": {
   "display_name": "Python [conda env:anaconda2]",
   "language": "python",
   "name": "conda-env-anaconda2-py"
  },
  "language_info": {
   "codemirror_mode": {
    "name": "ipython",
    "version": 2
   },
   "file_extension": ".py",
   "mimetype": "text/x-python",
   "name": "python",
   "nbconvert_exporter": "python",
   "pygments_lexer": "ipython2",
   "version": "2.7.3"
  }
 },
 "nbformat": 4,
 "nbformat_minor": 2
}
