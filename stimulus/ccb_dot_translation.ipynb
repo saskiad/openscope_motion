{
 "cells": [
  {
   "cell_type": "code",
   "execution_count": 115,
   "metadata": {
    "collapsed": true
   },
   "outputs": [],
   "source": [
    "import numpy as np\n",
    "import matplotlib.pyplot as plt\n",
    "import matplotlib.patches\n",
    "import time\n",
    "from matplotlib.collections import PatchCollection\n",
    "%matplotlib inline"
   ]
  },
  {
   "cell_type": "code",
   "execution_count": 127,
   "metadata": {
    "collapsed": true
   },
   "outputs": [],
   "source": [
    "import os"
   ]
  },
  {
   "cell_type": "code",
   "execution_count": 187,
   "metadata": {
    "collapsed": true
   },
   "outputs": [],
   "source": [
    "viewingDistance = 100\n",
    "radius = 10\n",
    "speed = 4#1\n",
    "dotNum = 20\n",
    "timePoints = 500#1000\n",
    "pixelsPerDegree = 10 \n",
    "screenWidth = 1200\n",
    "screenHeight = 800"
   ]
  },
  {
   "cell_type": "code",
   "execution_count": 188,
   "metadata": {
    "collapsed": true
   },
   "outputs": [],
   "source": [
    "# function to generate random dot positions at specified distance range from center\n",
    "def getNewDotPositions(dotNum, minDist=5*pixelsPerDegree, maxDist=90*pixelsPerDegree):\n",
    "    dists = np.random.uniform(minDist, maxDist, size=dotNum)\n",
    "    angles = np.pi * np.random.uniform(0, 2, size=dotNum)\n",
    "    x = dists * np.cos(angles)\n",
    "    y = dists * np.sin(angles)\n",
    "    return np.stack([x,y]).T"
   ]
  },
  {
   "cell_type": "code",
   "execution_count": 189,
   "metadata": {
    "collapsed": false
   },
   "outputs": [],
   "source": [
    "#pick dots at random screen positions with respect to center point\n",
    "centerPos=np.array([-60,-20])\n",
    "pos = getNewDotPositions(dotNum, 5, 10) + centerPos\n",
    "\n",
    "#find how far they are from center and find unit vectors along which to move them\n",
    "distToCenter = np.sqrt(np.sum((pos - centerPos)**2, axis=1))\n",
    "unitVectors = (pos - centerPos)/distToCenter[:, None]"
   ]
  },
  {
   "cell_type": "code",
   "execution_count": 190,
   "metadata": {
    "collapsed": true
   },
   "outputs": [],
   "source": [
    "#find the visual angle at which each dot lives\n",
    "theta = np.deg2rad(distToCenter/pixelsPerDegree)\n",
    "\n",
    "#find the \"time point\" when each dot would reach its visual angle if it had started at the original viewing distance\n",
    "virtualTimePoint = (viewingDistance - (radius/np.tan(theta)))/speed\n",
    "\n",
    "#probably unnecessary\n",
    "newTheta = np.copy(theta)\n",
    "newPos = np.copy(pos)"
   ]
  },
  {
   "cell_type": "code",
   "execution_count": 191,
   "metadata": {
    "collapsed": true
   },
   "outputs": [],
   "source": [
    "#Function to repopulate dots that are past 90 degrees visual angle\n",
    "def repop(repopInds, distToCenter, newPos, unitVectors, newTheta, virtualTimePoint):\n",
    "    newPos[repopInds] = getNewDotPositions(repopInds.size) + centerPos\n",
    "    distToCenter[repopInds] = np.sqrt(np.sum((newPos[repopInds] - centerPos)**2, axis=1))\n",
    "    unitVectors[repopInds] = (newPos[repopInds] - centerPos)/distToCenter[repopInds, None]\n",
    "    newTheta[repopInds] = np.deg2rad(distToCenter[repopInds]/pixelsPerDegree)\n",
    "    virtualTimePoint[repopInds] = (viewingDistance - (radius/np.tan(newTheta[repopInds])))/speed\n",
    "    \n",
    "    return distToCenter, newPos, unitVectors, newTheta, virtualTimePoint\n",
    "\n",
    "#Function to redraw dots for the next time point\n",
    "def redraw(distToCenter, newPos, unitVectors, newTheta, virtualTimePoint):\n",
    "    #increment \"time point\" for each dot\n",
    "    virtualTimePoint += 1\n",
    "    \n",
    "    #find new visual angle at that time point\n",
    "    newTheta = np.arctan(radius/(viewingDistance - speed*(virtualTimePoint+1)))\n",
    "    \n",
    "    #convert angle to pixels and update dot positions\n",
    "    newThetaPix = np.rad2deg(newTheta)*pixelsPerDegree\n",
    "    newPos = unitVectors*newThetaPix[:, None] + centerPos\n",
    "    \n",
    "    #find dots past 90 and reorient them towards the perspective point at 180 degrees\n",
    "    past90 = np.rad2deg(newTheta)<0\n",
    "    if np.sum(past90)>0:\n",
    "        unitVectors_past90 = np.copy(unitVectors[past90])\n",
    "        unitVectors_past90 = unitVectors_past90 * [-1,1]\n",
    "        newTheta[past90]  = np.abs(newTheta[past90])\n",
    "        newThetaPix[past90] = np.rad2deg(newTheta[past90])*pixelsPerDegree\n",
    "        newPos[past90] = unitVectors_past90*newThetaPix[past90][:,None] + centerPos + [180*pixelsPerDegree,0]\n",
    "    \n",
    "    onscreen = np.array([(-screenWidth/2 <p[0]< screenWidth/2) & (-screenHeight/2<p[1]<screenHeight/2) for p in newPos])\n",
    "    #repop if necessary\n",
    "    #if not all(onscreen):\n",
    "    if any(past90 & (np.rad2deg(newTheta)<30)):\n",
    "        #repopInds = np.where(~onscreen)[0]\n",
    "        repopInds = np.where(past90 & (np.rad2deg(newTheta)<30))[0]\n",
    "        distToCenter, newPos, unitVectors, newTheta, virtualTimePoint = repop(repopInds, distToCenter, newPos, unitVectors, newTheta, virtualTimePoint)\n",
    "    \n",
    "    return distToCenter, newPos, unitVectors, newTheta, virtualTimePoint"
   ]
  },
  {
   "cell_type": "code",
   "execution_count": 192,
   "metadata": {
    "collapsed": false
   },
   "outputs": [],
   "source": [
    "pos_array = []\n",
    "for i in np.arange(timePoints):\n",
    "    distToCenter, newPos, unitVectors, newTheta, virtualTimePoint = redraw(distToCenter, newPos, unitVectors, newTheta, virtualTimePoint)\n",
    "    pos_array.append(newPos)\n",
    "    "
   ]
  },
  {
   "cell_type": "code",
   "execution_count": 193,
   "metadata": {
    "collapsed": false
   },
   "outputs": [
    {
     "data": {
      "text/plain": [
       "(500, 20, 2)"
      ]
     },
     "execution_count": 193,
     "metadata": {},
     "output_type": "execute_result"
    }
   ],
   "source": [
    "pos_array = np.array(pos_array)\n",
    "pos_array.shape"
   ]
  },
  {
   "cell_type": "code",
   "execution_count": 194,
   "metadata": {
    "collapsed": false
   },
   "outputs": [
    {
     "data": {
      "image/png": "[encoded data removed]",
      "text/plain": [
       "<matplotlib.figure.Figure at 0x113af8128>"
      ]
     },
     "metadata": {},
     "output_type": "display_data"
    }
   ],
   "source": [
    "from ipywidgets import widgets, interact, interactive\n",
    "from IPython.display import display\n",
    "from IPython.display import Image\n",
    "\n",
    "scaleFactor = 1/20.\n",
    "fig, ax = plt.subplots()\n",
    "ax.set_aspect('equal')\n",
    "def f(x=0):\n",
    "    patches = []\n",
    "    for p in pos_array[x]:\n",
    "        dist = ((p[0] - centerPos[0])**2 + (p[1]-centerPos[1])**2)**0.5\n",
    "        dist180 = ((p[0] - centerPos[0] - 180*pixelsPerDegree)**2 + (p[1]-centerPos[1])**2)**0.5\n",
    "        radius = np.min([dist, dist180])*scaleFactor\n",
    "        patches.append(matplotlib.patches.Circle((p[0], p[1]), radius=radius, ec='none', fc=[0, 0, 0]))\n",
    "    \n",
    "    collection = PatchCollection(patches)\n",
    "    ax = plt.gca()\n",
    "    ax.set_aspect('equal')\n",
    "    ax.add_collection(collection)\n",
    "    ax.set_ylim([-900, 900])\n",
    "    ax.set_xlim([-900, 2800])\n",
    "    #ax.axis('off')\n",
    "    \n",
    "interact(f, x=(0,timePoints-1,1));"
   ]
  },
  {
   "cell_type": "markdown",
   "metadata": {},
   "source": [
    "### Parameters to vary:\n",
    "- density/number of dots\n",
    "- speed\n",
    "- size of dots\n",
    "- coherence?"
   ]
  },
  {
   "cell_type": "markdown",
   "metadata": {},
   "source": [
    "2 seconds sweep + 1 second intersweep = 3 second stimulus\n",
    "forward/back = 2 directions\n",
    "5 speeds\n",
    "3 sizes\n",
    "3 densities\n",
    "15 trials\n",
    "+15 blank sweeps"
   ]
  },
  {
   "cell_type": "code",
   "execution_count": 107,
   "metadata": {
    "collapsed": false
   },
   "outputs": [
    {
     "data": {
      "text/plain": [
       "68.25"
      ]
     },
     "execution_count": 107,
     "metadata": {},
     "output_type": "execute_result"
    }
   ],
   "source": [
    "((3*3*5*2*3*15)+(15*3))/60."
   ]
  },
  {
   "cell_type": "code",
   "execution_count": 124,
   "metadata": {
    "collapsed": true
   },
   "outputs": [],
   "source": [
    "from PIL import Image"
   ]
  },
  {
   "cell_type": "code",
   "execution_count": 125,
   "metadata": {
    "collapsed": true
   },
   "outputs": [],
   "source": [
    "impath = r'/Users/saskiad/openscope_motion/stimulus/translation'"
   ]
  },
  {
   "cell_type": "code",
   "execution_count": 140,
   "metadata": {
    "collapsed": true
   },
   "outputs": [],
   "source": [
    "for i in range(10,20):\n",
    "    patches = []\n",
    "    for p in pos_array[i]:\n",
    "        dist = ((p[0] - centerPos[0])**2 + (p[1]-centerPos[1])**2)**0.5\n",
    "        dist180 = ((p[0] - centerPos[0] + 180)**2 + (p[1]-centerPos[1])**2)**0.5\n",
    "        radius = np.min([dist, dist180])*scaleFactor\n",
    "        patches.append(matplotlib.patches.Circle((p[0], p[1]), radius=radius, ec='none', fc=[0, 0, 0]))\n",
    "\n",
    "    collection = PatchCollection(patches)\n",
    "    ax = plt.gca()\n",
    "    ax.set_aspect('equal')\n",
    "    ax.add_collection(collection)\n",
    "    ax.set_ylim([-45, 45])\n",
    "    ax.set_xlim([-70, 70])\n",
    "    ax.axis('off')\n",
    "    plt.savefig(os.path.join(impath, str(i)+'.png'))\n",
    "    plt.close()"
   ]
  },
  {
   "cell_type": "code",
   "execution_count": 129,
   "metadata": {
    "collapsed": true
   },
   "outputs": [],
   "source": [
    "im = Image.open(os.path.join(impath, str(i)+'.png'))"
   ]
  },
  {
   "cell_type": "code",
   "execution_count": 131,
   "metadata": {
    "collapsed": true
   },
   "outputs": [],
   "source": [
    "np_im = np.array(im)"
   ]
  },
  {
   "cell_type": "code",
   "execution_count": 132,
   "metadata": {
    "collapsed": false
   },
   "outputs": [
    {
     "data": {
      "text/plain": [
       "(288, 432, 4)"
      ]
     },
     "execution_count": 132,
     "metadata": {},
     "output_type": "execute_result"
    }
   ],
   "source": [
    "np_im.shape"
   ]
  },
  {
   "cell_type": "code",
   "execution_count": 138,
   "metadata": {
    "collapsed": false
   },
   "outputs": [
    {
     "data": {
      "text/plain": [
       "<matplotlib.image.AxesImage at 0x11be6ff28>"
      ]
     },
     "execution_count": 138,
     "metadata": {},
     "output_type": "execute_result"
    },
    {
     "data": {
      "image/png": "[encoded data removed]",
      "text/plain": [
       "<Figure size 432x288 with 1 Axes>"
      ]
     },
     "metadata": {
      "needs_background": "light"
     },
     "output_type": "display_data"
    }
   ],
   "source": [
    "plt.imshow(np_im[:,:,:])"
   ]
  },
  {
   "cell_type": "markdown",
   "metadata": {},
   "source": [
    "- need to make sure the number of pixels is appropriate\n",
    "- need to eliminate (or otherwise account for) the border"
   ]
  },
  {
   "cell_type": "code",
   "execution_count": 13,
   "metadata": {
    "collapsed": false
   },
   "outputs": [
    {
     "name": "stderr",
     "output_type": "stream",
     "text": [
      "//anaconda/lib/python3.5/site-packages/ipykernel/__main__.py:3: RuntimeWarning: divide by zero encountered in long_scalars\n",
      "  app.launch_new_instance()\n"
     ]
    },
    {
     "data": {
      "text/plain": [
       "[<matplotlib.lines.Line2D at 0x1115124e0>]"
      ]
     },
     "execution_count": 13,
     "metadata": {},
     "output_type": "execute_result"
    },
    {
     "data": {
      "image/png": "[encoded data removed]",
      "text/plain": [
       "<matplotlib.figure.Figure at 0x111518048>"
      ]
     },
     "metadata": {},
     "output_type": "display_data"
    }
   ],
   "source": [
    "theta = []\n",
    "for i in np.arange(1000):\n",
    "    theta.append(np.arctan(radius/(viewingDistance - speed*(i+1))))\n",
    "plt.plot(np.abs(theta))"
   ]
  },
  {
   "cell_type": "code",
   "execution_count": 14,
   "metadata": {
    "collapsed": false
   },
   "outputs": [
    {
     "data": {
      "text/plain": [
       "array([[-1.,  1.],\n",
       "       [-1.,  1.],\n",
       "       [-1.,  1.],\n",
       "       [-1.,  1.],\n",
       "       [-1.,  1.]])"
      ]
     },
     "execution_count": 14,
     "metadata": {},
     "output_type": "execute_result"
    }
   ],
   "source": [
    "np.ones((5,2)) * [-1,1]"
   ]
  },
  {
   "cell_type": "code",
   "execution_count": 15,
   "metadata": {
    "collapsed": false
   },
   "outputs": [
    {
     "data": {
      "text/plain": [
       "(800, 2)"
      ]
     },
     "execution_count": 15,
     "metadata": {},
     "output_type": "execute_result"
    }
   ],
   "source": [
    "unitVectors.shape"
   ]
  },
  {
   "cell_type": "code",
   "execution_count": 126,
   "metadata": {
    "collapsed": false
   },
   "outputs": [
    {
     "data": {
      "text/plain": [
       "[<matplotlib.lines.Line2D at 0x113b65860>,\n",
       " <matplotlib.lines.Line2D at 0x113b65748>,\n",
       " <matplotlib.lines.Line2D at 0x113b652e8>,\n",
       " <matplotlib.lines.Line2D at 0x113b654a8>,\n",
       " <matplotlib.lines.Line2D at 0x113b18c50>]"
      ]
     },
     "execution_count": 126,
     "metadata": {},
     "output_type": "execute_result"
    },
    {
     "data": {
      "image/png": "[encoded data removed]",
      "text/plain": [
       "<matplotlib.figure.Figure at 0x11325ddd8>"
      ]
     },
     "metadata": {},
     "output_type": "display_data"
    }
   ],
   "source": [
    "plt.plot(pos_array[:, 5:10, 0], pos_array[:, 5:10, 1])"
   ]
  },
  {
   "cell_type": "code",
   "execution_count": 107,
   "metadata": {
    "collapsed": false
   },
   "outputs": [
    {
     "data": {
      "text/plain": [
       "[<matplotlib.lines.Line2D at 0x1133d5fd0>]"
      ]
     },
     "execution_count": 107,
     "metadata": {},
     "output_type": "execute_result"
    },
    {
     "data": {
      "image/png": "[encoded data removed]",
      "text/plain": [
       "<matplotlib.figure.Figure at 0x10c491780>"
      ]
     },
     "metadata": {},
     "output_type": "display_data"
    }
   ],
   "source": [
    "plt.plot(pos_array[:, 1, 1])"
   ]
  },
  {
   "cell_type": "code",
   "execution_count": 147,
   "metadata": {
    "collapsed": false
   },
   "outputs": [
    {
     "data": {
      "text/plain": [
       "array([  7,  13,  24,  30,  31,  37,  42,  53,  55,  73,  76,  79,  80,\n",
       "        81,  84, 107, 108, 117, 124, 128, 129, 141, 145, 147, 150, 162,\n",
       "       183, 188, 190, 192, 217, 243, 252, 258, 265, 271, 279, 284, 290,\n",
       "       291, 303, 310, 314, 325, 349, 361, 365, 377, 378, 381, 394, 403,\n",
       "       405, 428, 432, 437, 444, 461, 473, 480, 485, 489, 493, 495, 511,\n",
       "       516, 525, 526, 527, 544, 546, 552, 575, 576, 580, 582, 584, 589,\n",
       "       594, 600, 605, 607, 628, 630, 631, 632, 638, 643, 663, 669, 673,\n",
       "       675, 677, 698, 699, 721, 733, 742, 754, 760, 765, 766, 775, 776,\n",
       "       777, 786])"
      ]
     },
     "execution_count": 147,
     "metadata": {},
     "output_type": "execute_result"
    }
   ],
   "source": [
    "onscreen = np.array([(-screenWidth/2 < p[0]< screenWidth/2) & (-screenHeight/2<p[1]<screenHeight/2) for p in newPos])\n",
    "np.sum(onscreen)\n",
    "np.where(~onscreen)[0]"
   ]
  },
  {
   "cell_type": "code",
   "execution_count": 148,
   "metadata": {
    "collapsed": false
   },
   "outputs": [
    {
     "data": {
      "text/plain": [
       "array([[   2.88128362,   98.80199006],\n",
       "       [-144.57849129,   -6.36741609],\n",
       "       [  -9.77601492,  -99.4256373 ],\n",
       "       [  48.88241822,   15.77910123],\n",
       "       [ 174.18686903,  104.46199995],\n",
       "       [-112.2789624 ,   46.285019  ],\n",
       "       [  96.05444769, -177.4628177 ],\n",
       "       [-668.5654172 ,  280.6904745 ],\n",
       "       [ -37.59893041, -102.50771369],\n",
       "       [ -46.07432978, -101.54637515]])"
      ]
     },
     "execution_count": 148,
     "metadata": {},
     "output_type": "execute_result"
    }
   ],
   "source": [
    "pos_array[-1, :10]"
   ]
  },
  {
   "cell_type": "code",
   "execution_count": 146,
   "metadata": {
    "collapsed": false
   },
   "outputs": [
    {
     "ename": "NameError",
     "evalue": "name 'repopInds' is not defined",
     "output_type": "error",
     "traceback": [
      "\u001b[0;31m---------------------------------------------------------------------------\u001b[0m",
      "\u001b[0;31mNameError\u001b[0m                                 Traceback (most recent call last)",
      "\u001b[0;32m<ipython-input-146-b95b31568132>\u001b[0m in \u001b[0;36m<module>\u001b[0;34m()\u001b[0m\n\u001b[0;32m----> 1\u001b[0;31m \u001b[0mrepopInds\u001b[0m\u001b[0;34m\u001b[0m\u001b[0m\n\u001b[0m",
      "\u001b[0;31mNameError\u001b[0m: name 'repopInds' is not defined"
     ]
    }
   ],
   "source": [
    "repopInds"
   ]
  },
  {
   "cell_type": "code",
   "execution_count": null,
   "metadata": {
    "collapsed": true
   },
   "outputs": [],
   "source": []
  }
 ],
 "metadata": {
  "anaconda-cloud": {},
  "kernelspec": {
   "display_name": "Python [default]",
   "language": "python",
   "name": "python3"
  },
  "language_info": {
   "codemirror_mode": {
    "name": "ipython",
    "version": 3
   },
   "file_extension": ".py",
   "mimetype": "text/x-python",
   "name": "python",
   "nbconvert_exporter": "python",
   "pygments_lexer": "ipython3",
   "version": "3.5.2"
  },
  "widgets": {
   "state": {
    "cac77c53e54242ccb1eaedf567234106": {
     "views": [
      {
       "cell_index": 9
      }
     ]
    }
   },
   "version": "1.2.0"
  }
 },
 "nbformat": 4,
 "nbformat_minor": 1
}
