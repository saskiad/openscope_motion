{
 "cells": [
  {
   "cell_type": "code",
   "execution_count": 13,
   "metadata": {},
   "outputs": [],
   "source": [
    "import numpy as np\n",
    "import matplotlib.pyplot as plt\n",
    "import matplotlib.patches\n",
    "import time\n",
    "from matplotlib.collections import PatchCollection\n",
    "%matplotlib inline"
   ]
  },
  {
   "cell_type": "code",
   "execution_count": 127,
   "metadata": {},
   "outputs": [],
   "source": [
    "import os"
   ]
  },
  {
   "cell_type": "code",
   "execution_count": 117,
   "metadata": {},
   "outputs": [],
   "source": [
    "viewingDistance = 100\n",
    "radius = 10\n",
    "speed = 4#1\n",
    "dotNum = 800\n",
    "timePoints = 130#1000\n",
    "pixelsPerDegree = 10 "
   ]
  },
  {
   "cell_type": "code",
   "execution_count": 118,
   "metadata": {},
   "outputs": [],
   "source": [
    "#pick dots at random screen positions with respect to center point\n",
    "centerPos=np.array([-60,-20])\n",
    "pos = np.random.randint(low=-pixelsPerDegree*90, high=pixelsPerDegree*90, size=dotNum*2).reshape(dotNum,2) + centerPos\n",
    "\n",
    "#find how far they are from center and find unit vectors along which to move them\n",
    "distToCenter = np.sqrt(np.sum((pos - centerPos)**2, axis=1))\n",
    "unitVectors = (pos - centerPos)/distToCenter[:, None]"
   ]
  },
  {
   "cell_type": "code",
   "execution_count": 119,
   "metadata": {},
   "outputs": [],
   "source": [
    "#find the visual angle at which each dot lives\n",
    "theta = np.deg2rad(distToCenter/pixelsPerDegree)\n",
    "\n",
    "#find the \"time point\" when each dot would reach its visual angle if it had started at the original viewing distance\n",
    "virtualTimePoint = (viewingDistance - (radius/np.tan(theta)))/speed\n",
    "\n",
    "#probably unnecessary\n",
    "newTheta = np.copy(theta)\n",
    "newPos = np.copy(pos)"
   ]
  },
  {
   "cell_type": "code",
   "execution_count": 59,
   "metadata": {},
   "outputs": [],
   "source": [
    "#Function to repopulate dots that are past 90 degrees visual angle\n",
    "def repop(repopInds, distToCenter, newPos, unitVectors, newTheta, virtualTimePoint):\n",
    "    newPos[repopInds] = np.random.randint(low=-pixelsPerDegree*10, high=pixelsPerDegree*10, size=2*repopInds.size).reshape(repopInds.size,2)+centerPos\n",
    "    distToCenter[repopInds] = np.sqrt(np.sum((newPos[repopInds] - centerPos)**2, axis=1))\n",
    "    unitVectors[repopInds] = (newPos[repopInds] - centerPos)/distToCenter[repopInds, None]\n",
    "    newTheta[repopInds] = np.deg2rad(distToCenter[repopInds]/pixelsPerDegree)\n",
    "    virtualTimePoint[repopInds] = (viewingDistance - (radius/np.tan(newTheta[repopInds])))/speed\n",
    "    \n",
    "    return distToCenter, newPos, unitVectors, newTheta, virtualTimePoint\n",
    "\n",
    "#Function to redraw dots for the next time point\n",
    "def redraw(distToCenter, newPos, unitVectors, newTheta, virtualTimePoint):\n",
    "    #increment \"time point\" for each dot\n",
    "    virtualTimePoint += 1\n",
    "    \n",
    "    #find new visual angle at that time point\n",
    "    newTheta = np.arctan(radius/(viewingDistance - speed*(virtualTimePoint+1)))\n",
    "    \n",
    "    #repop if necessary\n",
    "    if any(np.rad2deg(newTheta)<0):\n",
    "        repopInds = np.where(np.rad2deg(newTheta)<0)[0]\n",
    "        distToCenter, newPos, unitVectors, newTheta, virtualTimePoint = repop(repopInds, distToCenter, pos, unitVectors, newTheta, virtualTimePoint)\n",
    "    \n",
    "    #convert angle to pixels and update dot positions\n",
    "    newThetaPix = np.rad2deg(newTheta)*pixelsPerDegree\n",
    "    newPos = unitVectors*newThetaPix[:, None] + centerPos\n",
    "    \n",
    "    return distToCenter, newPos, unitVectors, newTheta, virtualTimePoint\n",
    "    "
   ]
  },
  {
   "cell_type": "code",
   "execution_count": 120,
   "metadata": {},
   "outputs": [],
   "source": [
    "pos_array = []\n",
    "for i in np.arange(timePoints):\n",
    "    distToCenter, newPos, unitVectors, newTheta, virtualTimePoint = redraw(distToCenter, newPos, unitVectors, newTheta, virtualTimePoint)\n",
    "    pos_array.append(newPos)\n",
    "    "
   ]
  },
  {
   "cell_type": "code",
   "execution_count": 121,
   "metadata": {},
   "outputs": [
    {
     "data": {
      "text/plain": [
       "(130, 800, 2)"
      ]
     },
     "execution_count": 121,
     "metadata": {},
     "output_type": "execute_result"
    }
   ],
   "source": [
    "pos_array = np.array(pos_array)\n",
    "pos_array.shape"
   ]
  },
  {
   "cell_type": "code",
   "execution_count": 122,
   "metadata": {},
   "outputs": [
    {
     "data": {
      "image/png": "[encoded data removed]",
      "text/plain": [
       "<Figure size 432x288 with 1 Axes>"
      ]
     },
     "metadata": {
      "needs_background": "light"
     },
     "output_type": "display_data"
    },
    {
     "data": {
      "application/vnd.jupyter.widget-view+json": {
       "model_id": "579edefc5a5f49508fbc70a887516978",
       "version_major": 2,
       "version_minor": 0
      },
      "text/plain": [
       "interactive(children=(IntSlider(value=0, description='x', max=129), Output()), _dom_classes=('widget-interact'…"
      ]
     },
     "metadata": {},
     "output_type": "display_data"
    }
   ],
   "source": [
    "from ipywidgets import widgets, interact, interactive\n",
    "from IPython.display import display\n",
    "from IPython.display import Image\n",
    "\n",
    "scaleFactor = 1/20.\n",
    "fig, ax = plt.subplots()\n",
    "ax.set_aspect('equal')\n",
    "def f(x=0):\n",
    "    patches = []\n",
    "    for p in pos_array[x]:\n",
    "        dist = ((p[0] - centerPos[0])**2 + (p[1]-centerPos[1])**2)**0.5\n",
    "        radius = dist*scaleFactor\n",
    "        patches.append(matplotlib.patches.Circle((p[0], p[1]), radius=radius, ec='none', fc=[0, 0, 0]))\n",
    "    \n",
    "    collection = PatchCollection(patches)\n",
    "    ax = plt.gca()\n",
    "    ax.set_aspect('equal')\n",
    "    ax.add_collection(collection)\n",
    "    ax.set_ylim([-45, 45])\n",
    "    ax.set_xlim([-70, 70])\n",
    "    ax.axis('off')\n",
    "    \n",
    "interact(f, x=(0,timePoints-1,1));"
   ]
  },
  {
   "cell_type": "markdown",
   "metadata": {},
   "source": [
    "### Parameters to vary:\n",
    "- density/number of dots\n",
    "- speed\n",
    "- size of dots\n",
    "- coherence?"
   ]
  },
  {
   "cell_type": "markdown",
   "metadata": {},
   "source": [
    "2 seconds sweep + 1 second intersweep = 3 second stimulus\n",
    "forward/back = 2 directions\n",
    "5 speeds\n",
    "3 sizes\n",
    "3 densities\n",
    "15 trials\n",
    "+15 blank sweeps"
   ]
  },
  {
   "cell_type": "code",
   "execution_count": 107,
   "metadata": {},
   "outputs": [
    {
     "data": {
      "text/plain": [
       "68.25"
      ]
     },
     "execution_count": 107,
     "metadata": {},
     "output_type": "execute_result"
    }
   ],
   "source": [
    "((3*3*5*2*3*15)+(15*3))/60."
   ]
  },
  {
   "cell_type": "code",
   "execution_count": 124,
   "metadata": {},
   "outputs": [],
   "source": [
    "from PIL import Image"
   ]
  },
  {
   "cell_type": "code",
   "execution_count": 125,
   "metadata": {},
   "outputs": [],
   "source": [
    "impath = r'/Users/saskiad/openscope_motion/stimulus/translation'"
   ]
  },
  {
   "cell_type": "code",
   "execution_count": 140,
   "metadata": {},
   "outputs": [],
   "source": [
    "for i in range(10,20):\n",
    "    patches = []\n",
    "    for p in pos_array[i]:\n",
    "        dist = ((p[0] - centerPos[0])**2 + (p[1]-centerPos[1])**2)**0.5\n",
    "        radius = dist*scaleFactor\n",
    "        patches.append(matplotlib.patches.Circle((p[0], p[1]), radius=radius, ec='none', fc=[0, 0, 0]))\n",
    "\n",
    "    collection = PatchCollection(patches)\n",
    "    ax = plt.gca()\n",
    "    ax.set_aspect('equal')\n",
    "    ax.add_collection(collection)\n",
    "    ax.set_ylim([-45, 45])\n",
    "    ax.set_xlim([-70, 70])\n",
    "    ax.axis('off')\n",
    "    plt.savefig(os.path.join(impath, str(i)+'.png'))\n",
    "    plt.close()"
   ]
  },
  {
   "cell_type": "code",
   "execution_count": 129,
   "metadata": {},
   "outputs": [],
   "source": [
    "im = Image.open(os.path.join(impath, str(i)+'.png'))"
   ]
  },
  {
   "cell_type": "code",
   "execution_count": 131,
   "metadata": {},
   "outputs": [],
   "source": [
    "np_im = np.array(im)"
   ]
  },
  {
   "cell_type": "code",
   "execution_count": 132,
   "metadata": {},
   "outputs": [
    {
     "data": {
      "text/plain": [
       "(288, 432, 4)"
      ]
     },
     "execution_count": 132,
     "metadata": {},
     "output_type": "execute_result"
    }
   ],
   "source": [
    "np_im.shape"
   ]
  },
  {
   "cell_type": "code",
   "execution_count": 138,
   "metadata": {},
   "outputs": [
    {
     "data": {
      "text/plain": [
       "<matplotlib.image.AxesImage at 0x11be6ff28>"
      ]
     },
     "execution_count": 138,
     "metadata": {},
     "output_type": "execute_result"
    },
    {
     "data": {
      "image/png": "[encoded data removed]",
      "text/plain": [
       "<Figure size 432x288 with 1 Axes>"
      ]
     },
     "metadata": {
      "needs_background": "light"
     },
     "output_type": "display_data"
    }
   ],
   "source": [
    "plt.imshow(np_im[:,:,:])"
   ]
  },
  {
   "cell_type": "markdown",
   "metadata": {},
   "source": [
    "- need to make sure the number of pixels is appropriate\n",
    "- need to eliminate (or otherwise account for) the border"
   ]
  },
  {
   "cell_type": "code",
   "execution_count": null,
   "metadata": {},
   "outputs": [],
   "source": []
  }
 ],
 "metadata": {
  "kernelspec": {
   "display_name": "Python 3",
   "language": "python",
   "name": "python3"
  },
  "language_info": {
   "codemirror_mode": {
    "name": "ipython",
    "version": 3
   },
   "file_extension": ".py",
   "mimetype": "text/x-python",
   "name": "python",
   "nbconvert_exporter": "python",
   "pygments_lexer": "ipython3",
   "version": "3.6.8"
  }
 },
 "nbformat": 4,
 "nbformat_minor": 1
}
