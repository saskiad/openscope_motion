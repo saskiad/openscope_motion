{
 "cells": [
  {
   "cell_type": "code",
   "execution_count": 13,
   "metadata": {},
   "outputs": [],
   "source": [
    "import numpy as np\n",
    "import matplotlib.pyplot as plt\n",
    "import matplotlib.patches\n",
    "import time\n",
    "from matplotlib.collections import PatchCollection\n",
    "%matplotlib inline"
   ]
  },
  {
   "cell_type": "code",
   "execution_count": 46,
   "metadata": {},
   "outputs": [],
   "source": [
    "viewingDistance = 100\n",
    "radius = 10\n",
    "speed = 4#1\n",
    "dotNum = 500\n",
    "timePoints = 120#1000\n",
    "pixelsPerDegree = 10 "
   ]
  },
  {
   "cell_type": "code",
   "execution_count": 91,
   "metadata": {},
   "outputs": [],
   "source": [
    "#pick dots at random screen positions with respect to center point\n",
    "centerPos=np.array([-60,-20])\n",
    "pos = np.random.randint(low=-pixelsPerDegree*90, high=pixelsPerDegree*90, size=dotNum*2).reshape(dotNum,2) + centerPos\n",
    "\n",
    "#find how far they are from center and find unit vectors along which to move them\n",
    "distToCenter = np.sqrt(np.sum((pos - centerPos)**2, axis=1))\n",
    "unitVectors = (pos - centerPos)/distToCenter[:, None]"
   ]
  },
  {
   "cell_type": "code",
   "execution_count": 92,
   "metadata": {},
   "outputs": [],
   "source": [
    "#find the visual angle at which each dot lives\n",
    "theta = np.deg2rad(distToCenter/pixelsPerDegree)\n",
    "\n",
    "#find the \"time point\" when each dot would reach its visual angle if it had started at the original viewing distance\n",
    "virtualTimePoint = (viewingDistance - (radius/np.tan(theta)))/speed\n",
    "\n",
    "#probably unnecessary\n",
    "newTheta = np.copy(theta)\n",
    "newPos = np.copy(pos)"
   ]
  },
  {
   "cell_type": "code",
   "execution_count": 59,
   "metadata": {},
   "outputs": [],
   "source": [
    "#Function to repopulate dots that are past 90 degrees visual angle\n",
    "def repop(repopInds, distToCenter, newPos, unitVectors, newTheta, virtualTimePoint):\n",
    "    newPos[repopInds] = np.random.randint(low=-pixelsPerDegree*10, high=pixelsPerDegree*10, size=2*repopInds.size).reshape(repopInds.size,2)+centerPos\n",
    "    distToCenter[repopInds] = np.sqrt(np.sum((newPos[repopInds] - centerPos)**2, axis=1))\n",
    "    unitVectors[repopInds] = (newPos[repopInds] - centerPos)/distToCenter[repopInds, None]\n",
    "    newTheta[repopInds] = np.deg2rad(distToCenter[repopInds]/pixelsPerDegree)\n",
    "    virtualTimePoint[repopInds] = (viewingDistance - (radius/np.tan(newTheta[repopInds])))/speed\n",
    "    \n",
    "    return distToCenter, newPos, unitVectors, newTheta, virtualTimePoint\n",
    "\n",
    "#Function to redraw dots for the next time point\n",
    "def redraw(distToCenter, newPos, unitVectors, newTheta, virtualTimePoint):\n",
    "    #increment \"time point\" for each dot\n",
    "    virtualTimePoint += 1\n",
    "    \n",
    "    #find new visual angle at that time point\n",
    "    newTheta = np.arctan(radius/(viewingDistance - speed*(virtualTimePoint+1)))\n",
    "    \n",
    "    #repop if necessary\n",
    "    if any(np.rad2deg(newTheta)<0):\n",
    "        repopInds = np.where(np.rad2deg(newTheta)<0)[0]\n",
    "        distToCenter, newPos, unitVectors, newTheta, virtualTimePoint = repop(repopInds, distToCenter, pos, unitVectors, newTheta, virtualTimePoint)\n",
    "    \n",
    "    #convert angle to pixels and update dot positions\n",
    "    newThetaPix = np.rad2deg(newTheta)*pixelsPerDegree\n",
    "    newPos = unitVectors*newThetaPix[:, None] + centerPos\n",
    "    \n",
    "    return distToCenter, newPos, unitVectors, newTheta, virtualTimePoint\n",
    "    "
   ]
  },
  {
   "cell_type": "code",
   "execution_count": 97,
   "metadata": {},
   "outputs": [],
   "source": [
    "pos_array = []\n",
    "for i in np.arange(timePoints):\n",
    "    distToCenter, newPos, unitVectors, newTheta, virtualTimePoint = redraw(distToCenter, newPos, unitVectors, newTheta, virtualTimePoint)\n",
    "    pos_array.append(newPos)\n",
    "    "
   ]
  },
  {
   "cell_type": "code",
   "execution_count": 99,
   "metadata": {},
   "outputs": [
    {
     "data": {
      "text/plain": [
       "(120, 500, 2)"
      ]
     },
     "execution_count": 99,
     "metadata": {},
     "output_type": "execute_result"
    }
   ],
   "source": [
    "pos_array = np.array(pos_array)\n",
    "pos_array.shape"
   ]
  },
  {
   "cell_type": "code",
   "execution_count": 101,
   "metadata": {},
   "outputs": [
    {
     "data": {
      "image/png": "[encoded data removed]",
      "text/plain": [
       "<Figure size 432x288 with 1 Axes>"
      ]
     },
     "metadata": {
      "needs_background": "light"
     },
     "output_type": "display_data"
    },
    {
     "data": {
      "application/vnd.jupyter.widget-view+json": {
       "model_id": "1a2f3d8aabe14aa799de2fc50cd71f8a",
       "version_major": 2,
       "version_minor": 0
      },
      "text/plain": [
       "interactive(children=(IntSlider(value=0, description='x', max=119), Output()), _dom_classes=('widget-interact'…"
      ]
     },
     "metadata": {},
     "output_type": "display_data"
    }
   ],
   "source": [
    "from ipywidgets import widgets, interact, interactive\n",
    "from IPython.display import display\n",
    "from IPython.display import Image\n",
    "\n",
    "scaleFactor = 1/20.\n",
    "fig, ax = plt.subplots()\n",
    "ax.set_aspect('equal')\n",
    "def f(x=0):\n",
    "    patches = []\n",
    "    for p in pos_array[x]:\n",
    "        dist = ((p[0] - centerPos[0])**2 + (p[1]-centerPos[1])**2)**0.5\n",
    "        radius = dist*scaleFactor\n",
    "        patches.append(matplotlib.patches.Circle((p[0], p[1]), radius=radius, ec='none', fc=[0, 0, 0]))\n",
    "    \n",
    "    collection = PatchCollection(patches)\n",
    "    ax = plt.gca()\n",
    "    ax.set_aspect('equal')\n",
    "    ax.add_collection(collection)\n",
    "    ax.set_ylim([-45, 45])\n",
    "    ax.set_xlim([-70, 70])\n",
    "    \n",
    "interact(f, x=(0,timePoints-1,1));"
   ]
  },
  {
   "cell_type": "markdown",
   "metadata": {},
   "source": [
    "### Parameters to vary:\n",
    "- density/number of dots\n",
    "- speed\n",
    "- size of dots\n",
    "- coherence?"
   ]
  },
  {
   "cell_type": "code",
   "execution_count": null,
   "metadata": {},
   "outputs": [],
   "source": []
  }
 ],
 "metadata": {
  "kernelspec": {
   "display_name": "Python 3",
   "language": "python",
   "name": "python3"
  },
  "language_info": {
   "codemirror_mode": {
    "name": "ipython",
    "version": 3
   },
   "file_extension": ".py",
   "mimetype": "text/x-python",
   "name": "python",
   "nbconvert_exporter": "python",
   "pygments_lexer": "ipython3",
   "version": "3.6.8"
  }
 },
 "nbformat": 4,
 "nbformat_minor": 1
}
