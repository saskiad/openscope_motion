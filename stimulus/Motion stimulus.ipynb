{
 "cells": [
  {
   "cell_type": "code",
   "execution_count": 1,
   "metadata": {
    "collapsed": true
   },
   "outputs": [],
   "source": [
    "import numpy as np\n",
    "import matplotlib.pyplot as plt\n",
    "%matplotlib inline"
   ]
  },
  {
   "cell_type": "code",
   "execution_count": 13,
   "metadata": {
    "collapsed": true
   },
   "outputs": [],
   "source": [
    "pos = np.random.randint(1, high=100, size=20).reshape(10,2)\n",
    "\n",
    "pos-=[50,50]"
   ]
  },
  {
   "cell_type": "code",
   "execution_count": 35,
   "metadata": {},
   "outputs": [
    {
     "data": {
      "text/plain": [
       "array([[  6.,  15.],\n",
       "       [ -5.,  21.],\n",
       "       [-47., -31.],\n",
       "       [ 34., -48.],\n",
       "       [-24.,  -3.],\n",
       "       [ 10., -37.],\n",
       "       [  8.,  36.],\n",
       "       [ -2.,  19.],\n",
       "       [  6.,   4.],\n",
       "       [ 33.,  43.]])"
      ]
     },
     "execution_count": 35,
     "metadata": {},
     "output_type": "execute_result"
    }
   ],
   "source": [
    "pos.astype(float)"
   ]
  },
  {
   "cell_type": "code",
   "execution_count": 15,
   "metadata": {},
   "outputs": [
    {
     "data": {
      "text/plain": [
       "<matplotlib.lines.Line2D at 0x10ed95b50>"
      ]
     },
     "execution_count": 15,
     "metadata": {},
     "output_type": "execute_result"
    },
    {
     "data": {
      "image/png": "[encoded data removed]",
      "text/plain": [
       "<matplotlib.figure.Figure at 0x10edf7b50>"
      ]
     },
     "metadata": {},
     "output_type": "display_data"
    }
   ],
   "source": [
    "plt.plot(pos[:,0], pos[:,1], 'o')\n",
    "plt.axhline(y=0, ls='--', color='k')\n",
    "plt.axvline(x=0, ls='--', color='k')"
   ]
  },
  {
   "cell_type": "code",
   "execution_count": 16,
   "metadata": {
    "collapsed": true
   },
   "outputs": [],
   "source": [
    "dist = np.sqrt(pos[:,0]**2 + pos[:,1]**2)"
   ]
  },
  {
   "cell_type": "code",
   "execution_count": 17,
   "metadata": {},
   "outputs": [
    {
     "data": {
      "text/plain": [
       "array([ 16.15549442,  21.58703314,  56.30275304,  58.82176468,\n",
       "        24.18677324,  38.32753579,  36.87817783,  19.10497317,\n",
       "         7.21110255,  54.20332093])"
      ]
     },
     "execution_count": 17,
     "metadata": {},
     "output_type": "execute_result"
    }
   ],
   "source": [
    "dist"
   ]
  },
  {
   "cell_type": "code",
   "execution_count": 60,
   "metadata": {},
   "outputs": [],
   "source": [
    "angle = np.rad2deg(np.arctan(np.abs(pos[:,1])/np.abs(pos[:,0]).astype(float)))"
   ]
  },
  {
   "cell_type": "code",
   "execution_count": 61,
   "metadata": {},
   "outputs": [
    {
     "data": {
      "text/plain": [
       "array([ 68.19859051,  76.60750225,  33.40782459,  54.68878656,\n",
       "         7.12501635,  74.87599269,  77.47119229,  83.99099404,\n",
       "        33.69006753,  52.49585764])"
      ]
     },
     "execution_count": 61,
     "metadata": {},
     "output_type": "execute_result"
    }
   ],
   "source": [
    "angle"
   ]
  },
  {
   "cell_type": "code",
   "execution_count": 23,
   "metadata": {},
   "outputs": [
    {
     "data": {
      "text/plain": [
       "16.15549442140351"
      ]
     },
     "execution_count": 23,
     "metadata": {},
     "output_type": "execute_result"
    }
   ],
   "source": [
    "np.linalg.norm(pos[0,:])"
   ]
  },
  {
   "cell_type": "code",
   "execution_count": 24,
   "metadata": {
    "collapsed": true
   },
   "outputs": [],
   "source": [
    "viewing_distance = 100"
   ]
  },
  {
   "cell_type": "code",
   "execution_count": 26,
   "metadata": {},
   "outputs": [
    {
     "data": {
      "text/plain": [
       "9.1771237089524806"
      ]
     },
     "execution_count": 26,
     "metadata": {},
     "output_type": "execute_result"
    }
   ],
   "source": [
    "np.rad2deg(np.arctan(dist[0]/100))"
   ]
  },
  {
   "cell_type": "code",
   "execution_count": 27,
   "metadata": {},
   "outputs": [
    {
     "data": {
      "text/plain": [
       "9.6512659671634378"
      ]
     },
     "execution_count": 27,
     "metadata": {},
     "output_type": "execute_result"
    }
   ],
   "source": [
    "np.rad2deg(np.arctan(dist[0]/95))"
   ]
  },
  {
   "cell_type": "code",
   "execution_count": 31,
   "metadata": {},
   "outputs": [
    {
     "name": "stdout",
     "output_type": "stream",
     "text": [
      "9.17712370895\n",
      "9.65126596716\n",
      "10.1765274101\n",
      "10.7615416176\n",
      "11.4169737583\n",
      "12.156145051\n",
      "12.9958976965\n",
      "13.9578127646\n",
      "15.0699557496\n",
      "16.3694263043\n",
      "17.9061577505\n",
      "19.7486956581\n",
      "21.9931597963\n",
      "24.7773649405\n",
      "28.3031961004\n",
      "32.8713437644\n",
      "38.9304011595\n",
      "47.1240113334\n",
      "58.2431361407\n",
      "72.8031099612\n",
      "90.0\n",
      "-72.8031099612\n",
      "-58.2431361407\n",
      "-47.1240113334\n",
      "-38.9304011595\n",
      "-32.8713437644\n",
      "-28.3031961004\n",
      "-24.7773649405\n",
      "-21.9931597963\n",
      "-19.7486956581\n"
     ]
    },
    {
     "name": "stderr",
     "output_type": "stream",
     "text": [
      "/Users/saskiad/anaconda2/lib/python2.7/site-packages/ipykernel/__main__.py:2: RuntimeWarning: divide by zero encountered in double_scalars\n",
      "  from ipykernel import kernelapp as app\n"
     ]
    }
   ],
   "source": [
    "for i in range(30):\n",
    "    print np.rad2deg(np.arctan(dist[0]/(100-5*i)))"
   ]
  },
  {
   "cell_type": "code",
   "execution_count": 29,
   "metadata": {
    "collapsed": true
   },
   "outputs": [],
   "source": [
    "temp = np.empty((20))\n",
    "for i in range(20):\n",
    "    temp[i] = np.rad2deg(np.arctan(dist[0]/(100-5*i)))"
   ]
  },
  {
   "cell_type": "code",
   "execution_count": 30,
   "metadata": {},
   "outputs": [
    {
     "data": {
      "text/plain": [
       "[<matplotlib.lines.Line2D at 0x10f47c710>]"
      ]
     },
     "execution_count": 30,
     "metadata": {},
     "output_type": "execute_result"
    },
    {
     "data": {
      "image/png": "[encoded data removed]",
      "text/plain": [
       "<matplotlib.figure.Figure at 0x10ed8dd10>"
      ]
     },
     "metadata": {},
     "output_type": "display_data"
    }
   ],
   "source": [
    "plt.plot(temp)"
   ]
  },
  {
   "cell_type": "code",
   "execution_count": null,
   "metadata": {
    "collapsed": true
   },
   "outputs": [],
   "source": [
    "#each position\n",
    "#distance from center\n",
    "#angle from center\n",
    "#increase angle from center\n",
    "#increase distance from center\n",
    "#apply to angle from center\n"
   ]
  },
  {
   "cell_type": "code",
   "execution_count": 43,
   "metadata": {
    "collapsed": true
   },
   "outputs": [],
   "source": [
    "new_ang = np.rad2deg(np.arctan(dist/(100-5*1)))"
   ]
  },
  {
   "cell_type": "code",
   "execution_count": 44,
   "metadata": {},
   "outputs": [
    {
     "data": {
      "text/plain": [
       "array([  9.65126597,  12.80204323,  30.65354994,  31.76481706,\n",
       "        14.28390232,  21.97150095,  21.2157813 ,  11.37079523,\n",
       "         4.34078896,  29.70740677])"
      ]
     },
     "execution_count": 44,
     "metadata": {},
     "output_type": "execute_result"
    }
   ],
   "source": [
    "new_ang"
   ]
  },
  {
   "cell_type": "code",
   "execution_count": 47,
   "metadata": {},
   "outputs": [],
   "source": [
    "new_dist = 100*np.tan(np.deg2rad(new_ang))"
   ]
  },
  {
   "cell_type": "code",
   "execution_count": 48,
   "metadata": {},
   "outputs": [
    {
     "data": {
      "text/plain": [
       "array([ 17.0057836 ,  22.72319278,  59.26605583,  61.91764703,\n",
       "        25.45976131,  40.34477452,  38.81913456,  20.11049808,\n",
       "         7.59063426,  57.0561273 ])"
      ]
     },
     "execution_count": 48,
     "metadata": {},
     "output_type": "execute_result"
    }
   ],
   "source": [
    "new_dist"
   ]
  },
  {
   "cell_type": "code",
   "execution_count": null,
   "metadata": {
    "collapsed": true
   },
   "outputs": [],
   "source": []
  },
  {
   "cell_type": "code",
   "execution_count": 66,
   "metadata": {},
   "outputs": [],
   "source": [
    "new_pos = np.empty((10,2))\n",
    "new_pos[:,0] = new_dist*np.cos(np.deg2rad(angle))\n",
    "new_pos[:,1] = new_dist*np.sin(np.deg2rad(angle))\n",
    "new_pos *= np.sign(pos)"
   ]
  },
  {
   "cell_type": "code",
   "execution_count": 67,
   "metadata": {},
   "outputs": [
    {
     "data": {
      "text/plain": [
       "array([[  6.31578947,  15.78947368],\n",
       "       [ -5.26315789,  22.10526316],\n",
       "       [-49.47368421, -32.63157895],\n",
       "       [ 35.78947368, -50.52631579],\n",
       "       [-25.26315789,  -3.15789474],\n",
       "       [ 10.52631579, -38.94736842],\n",
       "       [  8.42105263,  37.89473684],\n",
       "       [ -2.10526316,  20.        ],\n",
       "       [  6.31578947,   4.21052632],\n",
       "       [ 34.73684211,  45.26315789]])"
      ]
     },
     "execution_count": 67,
     "metadata": {},
     "output_type": "execute_result"
    }
   ],
   "source": [
    "new_pos"
   ]
  },
  {
   "cell_type": "code",
   "execution_count": 53,
   "metadata": {},
   "outputs": [
    {
     "data": {
      "text/plain": [
       "array([[  6,  15],\n",
       "       [ -5,  21],\n",
       "       [-47, -31],\n",
       "       [ 34, -48],\n",
       "       [-24,  -3],\n",
       "       [ 10, -37],\n",
       "       [  8,  36],\n",
       "       [ -2,  19],\n",
       "       [  6,   4],\n",
       "       [ 33,  43]])"
      ]
     },
     "execution_count": 53,
     "metadata": {},
     "output_type": "execute_result"
    }
   ],
   "source": [
    "pos"
   ]
  },
  {
   "cell_type": "code",
   "execution_count": 68,
   "metadata": {},
   "outputs": [
    {
     "data": {
      "text/plain": [
       "<matplotlib.lines.Line2D at 0x10f977210>"
      ]
     },
     "execution_count": 68,
     "metadata": {},
     "output_type": "execute_result"
    },
    {
     "data": {
      "image/png": "[encoded data removed]",
      "text/plain": [
       "<matplotlib.figure.Figure at 0x10f960750>"
      ]
     },
     "metadata": {},
     "output_type": "display_data"
    }
   ],
   "source": [
    "plt.plot(pos[:,0], pos[:,1], 'o')\n",
    "plt.plot(new_pos[:,0], new_pos[:,1], 'o')\n",
    "plt.axhline(y=0, ls='--', color='k')\n",
    "plt.axvline(x=0, ls='--', color='k')"
   ]
  },
  {
   "cell_type": "code",
   "execution_count": null,
   "metadata": {
    "collapsed": true
   },
   "outputs": [],
   "source": []
  },
  {
   "cell_type": "code",
   "execution_count": null,
   "metadata": {
    "collapsed": true
   },
   "outputs": [],
   "source": []
  },
  {
   "cell_type": "markdown",
   "metadata": {},
   "source": [
    "## 20 timesteps with interactive viewer"
   ]
  },
  {
   "cell_type": "code",
   "execution_count": null,
   "metadata": {
    "collapsed": true
   },
   "outputs": [],
   "source": [
    "pos = np.random.randint(1, high=100, size=20).reshape(10,2)\n",
    "\n",
    "pos-=[50,50]"
   ]
  },
  {
   "cell_type": "code",
   "execution_count": 69,
   "metadata": {
    "collapsed": true
   },
   "outputs": [],
   "source": [
    "pos_array = np.empty((10,2,20))\n",
    "pos_array[:,:,0] = pos.copy()"
   ]
  },
  {
   "cell_type": "code",
   "execution_count": 73,
   "metadata": {
    "collapsed": true
   },
   "outputs": [],
   "source": [
    "sign = np.sign(pos)\n",
    "dist = np.sqrt(pos[:,0]**2 + pos[:,1]**2)\n",
    "angle = np.arctan(np.abs(pos[:,1])/np.abs(pos[:,0]).astype(float))\n",
    "for i in range(1,20):\n",
    "    new_ang = np.arctan(dist/(100-5*i))\n",
    "    new_dist = 100*np.tan(new_ang)\n",
    "    pos_array[:,0,i] = new_dist*np.cos(angle)\n",
    "    pos_array[:,1,i] = new_dist*np.sin(angle)\n",
    "    pos_array[:,:,i] *= sign\n",
    "    \n"
   ]
  },
  {
   "cell_type": "code",
   "execution_count": 86,
   "metadata": {},
   "outputs": [
    {
     "data": {
      "text/plain": [
       "<matplotlib.lines.Line2D at 0x11068b910>"
      ]
     },
     "execution_count": 86,
     "metadata": {},
     "output_type": "execute_result"
    },
    {
     "data": {
      "image/png": "[encoded data removed]",
      "text/plain": [
       "<matplotlib.figure.Figure at 0x1106663d0>"
      ]
     },
     "metadata": {},
     "output_type": "display_data"
    }
   ],
   "source": [
    "tp = 12\n",
    "plt.plot(pos_array[:,0,0], pos_array[:,1,0], 'o')\n",
    "plt.plot(pos_array[:,0,tp], pos_array[:,1,tp], 'o')\n",
    "plt.axhline(y=0, ls='--', color='k')\n",
    "plt.axvline(x=0, ls='--', color='k')"
   ]
  },
  {
   "cell_type": "code",
   "execution_count": 87,
   "metadata": {
    "collapsed": true
   },
   "outputs": [],
   "source": [
    "from ipywidgets import widgets, interact, interactive\n",
    "from IPython.display import display\n",
    "from IPython.display import Image"
   ]
  },
  {
   "cell_type": "code",
   "execution_count": 94,
   "metadata": {},
   "outputs": [
    {
     "data": {
      "application/vnd.jupyter.widget-view+json": {
       "model_id": "21ad1b9d821e424faf6a30618eb70a4a",
       "version_major": 2,
       "version_minor": 0
      },
      "text/plain": [
       "A Jupyter Widget"
      ]
     },
     "metadata": {},
     "output_type": "display_data"
    }
   ],
   "source": [
    "def f(x):\n",
    "    plt.plot(pos_array[:,0,0], pos_array[:,1,0], 'o')\n",
    "    plt.plot(pos_array[:,0,x], pos_array[:,1,x], 'o')\n",
    "    plt.axhline(y=0, ls='--', color='k')\n",
    "    plt.axvline(x=0, ls='--', color='k')\n",
    "    plt.xlim(-100,100)\n",
    "    plt.ylim(-100,100)\n",
    "    \n",
    "interact(f, x=(0,20,1));"
   ]
  },
  {
   "cell_type": "code",
   "execution_count": null,
   "metadata": {
    "collapsed": true
   },
   "outputs": [],
   "source": []
  }
 ],
 "metadata": {
  "kernelspec": {
   "display_name": "Python [conda env:anaconda2]",
   "language": "python",
   "name": "conda-env-anaconda2-py"
  },
  "language_info": {
   "codemirror_mode": {
    "name": "ipython",
    "version": 2
   },
   "file_extension": ".py",
   "mimetype": "text/x-python",
   "name": "python",
   "nbconvert_exporter": "python",
   "pygments_lexer": "ipython2",
   "version": "2.7.3"
  }
 },
 "nbformat": 4,
 "nbformat_minor": 2
}
