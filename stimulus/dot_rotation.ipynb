{
 "cells": [
  {
   "cell_type": "code",
   "execution_count": 1,
   "metadata": {},
   "outputs": [],
   "source": [
    "import numpy as np\n",
    "import matplotlib.pyplot as plt\n",
    "import matplotlib.patches\n",
    "import time\n",
    "from matplotlib.collections import PatchCollection\n",
    "%matplotlib inline"
   ]
  },
  {
   "cell_type": "code",
   "execution_count": 196,
   "metadata": {},
   "outputs": [],
   "source": [
    "viewingDistance = 100\n",
    "radius = 10\n",
    "speed = 40#1\n",
    "dotNum = 500\n",
    "timePoints = 1300#1000\n",
    "pixelsPerDegree = 10 "
   ]
  },
  {
   "cell_type": "code",
   "execution_count": 3,
   "metadata": {},
   "outputs": [],
   "source": [
    "# function to generate random dot positions at specified distance range from center\n",
    "def getNewDotPositions(dotNum, minDist=5*pixelsPerDegree, maxDist=90*pixelsPerDegree):\n",
    "    dists = np.random.uniform(minDist, maxDist, size=dotNum)\n",
    "    angles = np.pi * np.random.uniform(0, 2, size=dotNum)\n",
    "    x = dists * np.cos(angles)\n",
    "    y = dists * np.sin(angles)\n",
    "    return np.stack([x,y]).T"
   ]
  },
  {
   "cell_type": "code",
   "execution_count": 145,
   "metadata": {},
   "outputs": [],
   "source": [
    "#pick dots at random screen positions with respect to center point\n",
    "centerPos=np.array([-60*pixelsPerDegree,-20*pixelsPerDegree])\n",
    "pos = getNewDotPositions(dotNum) + centerPos\n"
   ]
  },
  {
   "cell_type": "code",
   "execution_count": 216,
   "metadata": {},
   "outputs": [
    {
     "data": {
      "text/plain": [
       "array([394, 482, 414, 123, 247, 275, 383, 186, 386, 440,  78, 496, 240,\n",
       "        13, 193, 428,  44, 300, 351, 490,  20, 303, 240, 431, 233, 164,\n",
       "        89, 470, 347, 408, 131, 127, 307, 428, 373,  89, 143, 337,  16,\n",
       "       317, 193,  38, 220,  38, 223,  96, 314, 223, 137, 294])"
      ]
     },
     "execution_count": 216,
     "metadata": {},
     "output_type": "execute_result"
    }
   ],
   "source": [
    "np.random.randint(0,high=dotNum, size=dotNum/10)"
   ]
  },
  {
   "cell_type": "code",
   "execution_count": 217,
   "metadata": {},
   "outputs": [],
   "source": [
    "#trying different method\n",
    "posArray = np.empty((timePoints, dotNum, 2))\n",
    "posArray[0,:,:] = pos\n",
    "for i in range(1,timePoints):\n",
    "    posArray[i,:,0] = posArray[i-1,:,0] + speed*pixelsPerDegree*1/60.\n",
    "    posArray[i,:,1] = posArray[i-1,:,1]\n",
    "    #random repopulate 10% anywhere\n",
    "    repopInds = np.random.randint(0,high=dotNum, size=dotNum/10)\n",
    "    posArray[i,repopInds,:] = getNewDotPositions(len(repopInds)) + centerPos\n",
    "    #replace dots that run off the monitor \n",
    "    #TODO: need to bias repopulation to the left side of the monitor\n",
    "    if any(np.abs(posArray[i,:,0])>700):\n",
    "        repopInds = np.where(np.abs(posArray[i,:,0])>700)[0]\n",
    "        posArray[i,repopInds,:] = getNewDotPositions(len(repopInds)) + centerPos\n",
    "        \n",
    "        \n",
    "        "
   ]
  },
  {
   "cell_type": "code",
   "execution_count": 219,
   "metadata": {},
   "outputs": [
    {
     "data": {
      "image/png": "[encoded data removed]",
      "text/plain": [
       "<matplotlib.figure.Figure at 0x11cb50b10>"
      ]
     },
     "metadata": {},
     "output_type": "display_data"
    },
    {
     "data": {
      "application/vnd.jupyter.widget-view+json": {
       "model_id": "9e9780ac36b847d39bbb86206c72d629",
       "version_major": 2,
       "version_minor": 0
      },
      "text/plain": [
       "A Jupyter Widget"
      ]
     },
     "metadata": {},
     "output_type": "display_data"
    }
   ],
   "source": [
    "from ipywidgets import widgets, interact, interactive\n",
    "from IPython.display import display\n",
    "from IPython.display import Image\n",
    "\n",
    "scaleFactor = 1/20.\n",
    "fig, ax = plt.subplots()\n",
    "ax.set_aspect('equal')\n",
    "def f(x=0):\n",
    "    patches = []\n",
    "    for p in posArray[x]:\n",
    "#         dist = ((p[0] - centerPos[0])**2 + (p[1]-centerPos[1])**2)**0.5\n",
    "        radius = 200*scaleFactor\n",
    "        patches.append(matplotlib.patches.Circle((p[0], p[1]), radius=radius, ec=[0,0,0], fc=[0,0,0]))\n",
    "#         ax.add_artist(matplotlib.patches.Circle((p[0], p[1]), radius=radius, ec=[0,0,0], fc=[0,0,0]))\n",
    "    \n",
    "    collection = PatchCollection(patches)\n",
    "    ax = plt.gca()\n",
    "    ax.set_aspect('equal')\n",
    "#     ax.add_collection(collection)\n",
    "    for p in patches:\n",
    "        ax.add_artist(p)\n",
    "#     ax.set_ylim([-45, 45])\n",
    "#     ax.set_xlim([-70, 70])\n",
    "        ax.set_ylim([-45*pixelsPerDegree, 45*pixelsPerDegree])\n",
    "        ax.set_xlim([-70*pixelsPerDegree, 70*pixelsPerDegree])\n",
    "#     ax.axis('off')\n",
    "    \n",
    "interact(f, x=(0,timePoints-1,1));"
   ]
  },
  {
   "cell_type": "code",
   "execution_count": null,
   "metadata": {},
   "outputs": [],
   "source": []
  }
 ],
 "metadata": {
  "kernelspec": {
   "display_name": "Python2base",
   "language": "python",
   "name": "test"
  },
  "language_info": {
   "codemirror_mode": {
    "name": "ipython",
    "version": 2
   },
   "file_extension": ".py",
   "mimetype": "text/x-python",
   "name": "python",
   "nbconvert_exporter": "python",
   "pygments_lexer": "ipython2",
   "version": "2.7.3"
  }
 },
 "nbformat": 4,
 "nbformat_minor": 2
}
